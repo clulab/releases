{
  "nbformat": 4,
  "nbformat_minor": 0,
  "metadata": {
    "colab": {
      "provenance": []
    },
    "kernelspec": {
      "name": "python3",
      "display_name": "Python 3"
    },
    "language_info": {
      "name": "python"
    }
  },
  "cells": [
    {
      "cell_type": "code",
      "execution_count": null,
      "metadata": {
        "id": "tHdV5hQQnAkT",
        "colab": {
          "base_uri": "https://localhost:8080/"
        },
        "outputId": "32318c06-f6a8-40a2-9f7e-240608f4ef6b"
      },
      "outputs": [
        {
          "output_type": "stream",
          "name": "stdout",
          "text": [
            "Mounted at /content/drive/\n",
            "[Errno 2] No such file or directory: 'gdrive/MyDrive/Colab Notebooks/natural-logic'\n",
            "/content\n",
            "drive  sample_data\n"
          ]
        }
      ],
      "source": [
        "from google.colab import drive\n",
        "\n",
        "drive.mount('/content/drive/', force_remount=True)\n",
        "%cd gdrive/MyDrive/Colab\\ Notebooks/natural\\-logic\n",
        "!ls"
      ]
    },
    {
      "cell_type": "code",
      "source": [
        "import pandas as pd\n",
        "import numpy as np"
      ],
      "metadata": {
        "id": "YJW6cx5pnSej"
      },
      "execution_count": null,
      "outputs": []
    },
    {
      "cell_type": "code",
      "source": [
        "filename = \"/content/drive/MyDrive/Colab Notebooks/natural-logic/final-datasets/block-wise-data/blocks-dec26/annotated/combined/annotations_feb10.xlsx\""
      ],
      "metadata": {
        "id": "LHF0haUGnSg7"
      },
      "execution_count": null,
      "outputs": []
    },
    {
      "cell_type": "code",
      "source": [
        "import os\n",
        "os.path.exists(filename)"
      ],
      "metadata": {
        "colab": {
          "base_uri": "https://localhost:8080/"
        },
        "id": "GbzQbfxlnSjV",
        "outputId": "2b4b82ca-e497-4b25-c652-8a4ec4f983b0"
      },
      "execution_count": null,
      "outputs": [
        {
          "output_type": "execute_result",
          "data": {
            "text/plain": [
              "True"
            ]
          },
          "metadata": {},
          "execution_count": 5
        }
      ]
    },
    {
      "cell_type": "code",
      "source": [
        "df = pd.read_excel(filename)\n",
        "df.head()"
      ],
      "metadata": {
        "colab": {
          "base_uri": "https://localhost:8080/",
          "height": 250
        },
        "id": "vaiuv39OnSls",
        "outputId": "fdd47aaa-03f9-43c4-9cde-666fff361aff"
      },
      "execution_count": null,
      "outputs": [
        {
          "output_type": "execute_result",
          "data": {
            "text/plain": [
              "   SICK_id                                  Premise  \\\n",
              "0     90.0      a man is jumping into an empty pool   \n",
              "1     90.0  every man is jumping into an empty pool   \n",
              "2     90.0      a man is jumping into an empty pool   \n",
              "3     90.0  every man is jumping into an empty pool   \n",
              "4     90.0   some man is jumping into an empty pool   \n",
              "\n",
              "                              Hypothesis Modifier Premise/Hypothesis/Both  \\\n",
              "0      a man is jumping into a full pool     NONE                    NONE   \n",
              "1      a man is jumping into a full pool    every                 Premise   \n",
              "2  every man is jumping into a full pool    every              Hypothesis   \n",
              "3  every man is jumping into a full pool    every                    Both   \n",
              "4      a man is jumping into a full pool     some                 Premise   \n",
              "\n",
              "  Part of Premise/Hypothesis Modified Ground Truth  \n",
              "0                                NONE  Alternation  \n",
              "1                             Subject  Alternation  \n",
              "2                             Subject     Negation  \n",
              "3                             Subject     Negation  \n",
              "4                             Subject  Alternation  "
            ],
            "text/html": [
              "\n",
              "  <div id=\"df-b3409a9d-ab87-497b-97e1-bd114c7acad9\">\n",
              "    <div class=\"colab-df-container\">\n",
              "      <div>\n",
              "<style scoped>\n",
              "    .dataframe tbody tr th:only-of-type {\n",
              "        vertical-align: middle;\n",
              "    }\n",
              "\n",
              "    .dataframe tbody tr th {\n",
              "        vertical-align: top;\n",
              "    }\n",
              "\n",
              "    .dataframe thead th {\n",
              "        text-align: right;\n",
              "    }\n",
              "</style>\n",
              "<table border=\"1\" class=\"dataframe\">\n",
              "  <thead>\n",
              "    <tr style=\"text-align: right;\">\n",
              "      <th></th>\n",
              "      <th>SICK_id</th>\n",
              "      <th>Premise</th>\n",
              "      <th>Hypothesis</th>\n",
              "      <th>Modifier</th>\n",
              "      <th>Premise/Hypothesis/Both</th>\n",
              "      <th>Part of Premise/Hypothesis Modified</th>\n",
              "      <th>Ground Truth</th>\n",
              "    </tr>\n",
              "  </thead>\n",
              "  <tbody>\n",
              "    <tr>\n",
              "      <th>0</th>\n",
              "      <td>90.0</td>\n",
              "      <td>a man is jumping into an empty pool</td>\n",
              "      <td>a man is jumping into a full pool</td>\n",
              "      <td>NONE</td>\n",
              "      <td>NONE</td>\n",
              "      <td>NONE</td>\n",
              "      <td>Alternation</td>\n",
              "    </tr>\n",
              "    <tr>\n",
              "      <th>1</th>\n",
              "      <td>90.0</td>\n",
              "      <td>every man is jumping into an empty pool</td>\n",
              "      <td>a man is jumping into a full pool</td>\n",
              "      <td>every</td>\n",
              "      <td>Premise</td>\n",
              "      <td>Subject</td>\n",
              "      <td>Alternation</td>\n",
              "    </tr>\n",
              "    <tr>\n",
              "      <th>2</th>\n",
              "      <td>90.0</td>\n",
              "      <td>a man is jumping into an empty pool</td>\n",
              "      <td>every man is jumping into a full pool</td>\n",
              "      <td>every</td>\n",
              "      <td>Hypothesis</td>\n",
              "      <td>Subject</td>\n",
              "      <td>Negation</td>\n",
              "    </tr>\n",
              "    <tr>\n",
              "      <th>3</th>\n",
              "      <td>90.0</td>\n",
              "      <td>every man is jumping into an empty pool</td>\n",
              "      <td>every man is jumping into a full pool</td>\n",
              "      <td>every</td>\n",
              "      <td>Both</td>\n",
              "      <td>Subject</td>\n",
              "      <td>Negation</td>\n",
              "    </tr>\n",
              "    <tr>\n",
              "      <th>4</th>\n",
              "      <td>90.0</td>\n",
              "      <td>some man is jumping into an empty pool</td>\n",
              "      <td>a man is jumping into a full pool</td>\n",
              "      <td>some</td>\n",
              "      <td>Premise</td>\n",
              "      <td>Subject</td>\n",
              "      <td>Alternation</td>\n",
              "    </tr>\n",
              "  </tbody>\n",
              "</table>\n",
              "</div>\n",
              "      <button class=\"colab-df-convert\" onclick=\"convertToInteractive('df-b3409a9d-ab87-497b-97e1-bd114c7acad9')\"\n",
              "              title=\"Convert this dataframe to an interactive table.\"\n",
              "              style=\"display:none;\">\n",
              "        \n",
              "  <svg xmlns=\"http://www.w3.org/2000/svg\" height=\"24px\"viewBox=\"0 0 24 24\"\n",
              "       width=\"24px\">\n",
              "    <path d=\"M0 0h24v24H0V0z\" fill=\"none\"/>\n",
              "    <path d=\"M18.56 5.44l.94 2.06.94-2.06 2.06-.94-2.06-.94-.94-2.06-.94 2.06-2.06.94zm-11 1L8.5 8.5l.94-2.06 2.06-.94-2.06-.94L8.5 2.5l-.94 2.06-2.06.94zm10 10l.94 2.06.94-2.06 2.06-.94-2.06-.94-.94-2.06-.94 2.06-2.06.94z\"/><path d=\"M17.41 7.96l-1.37-1.37c-.4-.4-.92-.59-1.43-.59-.52 0-1.04.2-1.43.59L10.3 9.45l-7.72 7.72c-.78.78-.78 2.05 0 2.83L4 21.41c.39.39.9.59 1.41.59.51 0 1.02-.2 1.41-.59l7.78-7.78 2.81-2.81c.8-.78.8-2.07 0-2.86zM5.41 20L4 18.59l7.72-7.72 1.47 1.35L5.41 20z\"/>\n",
              "  </svg>\n",
              "      </button>\n",
              "      \n",
              "  <style>\n",
              "    .colab-df-container {\n",
              "      display:flex;\n",
              "      flex-wrap:wrap;\n",
              "      gap: 12px;\n",
              "    }\n",
              "\n",
              "    .colab-df-convert {\n",
              "      background-color: #E8F0FE;\n",
              "      border: none;\n",
              "      border-radius: 50%;\n",
              "      cursor: pointer;\n",
              "      display: none;\n",
              "      fill: #1967D2;\n",
              "      height: 32px;\n",
              "      padding: 0 0 0 0;\n",
              "      width: 32px;\n",
              "    }\n",
              "\n",
              "    .colab-df-convert:hover {\n",
              "      background-color: #E2EBFA;\n",
              "      box-shadow: 0px 1px 2px rgba(60, 64, 67, 0.3), 0px 1px 3px 1px rgba(60, 64, 67, 0.15);\n",
              "      fill: #174EA6;\n",
              "    }\n",
              "\n",
              "    [theme=dark] .colab-df-convert {\n",
              "      background-color: #3B4455;\n",
              "      fill: #D2E3FC;\n",
              "    }\n",
              "\n",
              "    [theme=dark] .colab-df-convert:hover {\n",
              "      background-color: #434B5C;\n",
              "      box-shadow: 0px 1px 3px 1px rgba(0, 0, 0, 0.15);\n",
              "      filter: drop-shadow(0px 1px 2px rgba(0, 0, 0, 0.3));\n",
              "      fill: #FFFFFF;\n",
              "    }\n",
              "  </style>\n",
              "\n",
              "      <script>\n",
              "        const buttonEl =\n",
              "          document.querySelector('#df-b3409a9d-ab87-497b-97e1-bd114c7acad9 button.colab-df-convert');\n",
              "        buttonEl.style.display =\n",
              "          google.colab.kernel.accessAllowed ? 'block' : 'none';\n",
              "\n",
              "        async function convertToInteractive(key) {\n",
              "          const element = document.querySelector('#df-b3409a9d-ab87-497b-97e1-bd114c7acad9');\n",
              "          const dataTable =\n",
              "            await google.colab.kernel.invokeFunction('convertToInteractive',\n",
              "                                                     [key], {});\n",
              "          if (!dataTable) return;\n",
              "\n",
              "          const docLinkHtml = 'Like what you see? Visit the ' +\n",
              "            '<a target=\"_blank\" href=https://colab.research.google.com/notebooks/data_table.ipynb>data table notebook</a>'\n",
              "            + ' to learn more about interactive tables.';\n",
              "          element.innerHTML = '';\n",
              "          dataTable['output_type'] = 'display_data';\n",
              "          await google.colab.output.renderOutput(dataTable, element);\n",
              "          const docLink = document.createElement('div');\n",
              "          docLink.innerHTML = docLinkHtml;\n",
              "          element.appendChild(docLink);\n",
              "        }\n",
              "      </script>\n",
              "    </div>\n",
              "  </div>\n",
              "  "
            ]
          },
          "metadata": {},
          "execution_count": 9
        }
      ]
    },
    {
      "cell_type": "code",
      "source": [
        "df['SICK_id'] = df['SICK_id'].astype('int')\n",
        "df.head()"
      ],
      "metadata": {
        "colab": {
          "base_uri": "https://localhost:8080/",
          "height": 250
        },
        "id": "scc2wOm9nSob",
        "outputId": "62eaca3c-28f3-4e7d-b2a2-fc0065f96f7c"
      },
      "execution_count": null,
      "outputs": [
        {
          "output_type": "execute_result",
          "data": {
            "text/plain": [
              "   SICK_id                                  Premise  \\\n",
              "0       90      a man is jumping into an empty pool   \n",
              "1       90  every man is jumping into an empty pool   \n",
              "2       90      a man is jumping into an empty pool   \n",
              "3       90  every man is jumping into an empty pool   \n",
              "4       90   some man is jumping into an empty pool   \n",
              "\n",
              "                              Hypothesis Modifier Premise/Hypothesis/Both  \\\n",
              "0      a man is jumping into a full pool     NONE                    NONE   \n",
              "1      a man is jumping into a full pool    every                 Premise   \n",
              "2  every man is jumping into a full pool    every              Hypothesis   \n",
              "3  every man is jumping into a full pool    every                    Both   \n",
              "4      a man is jumping into a full pool     some                 Premise   \n",
              "\n",
              "  Part of Premise/Hypothesis Modified Ground Truth  \n",
              "0                                NONE  Alternation  \n",
              "1                             Subject  Alternation  \n",
              "2                             Subject     Negation  \n",
              "3                             Subject     Negation  \n",
              "4                             Subject  Alternation  "
            ],
            "text/html": [
              "\n",
              "  <div id=\"df-bccda640-5b08-434f-a3b9-c8ff38f5f94d\">\n",
              "    <div class=\"colab-df-container\">\n",
              "      <div>\n",
              "<style scoped>\n",
              "    .dataframe tbody tr th:only-of-type {\n",
              "        vertical-align: middle;\n",
              "    }\n",
              "\n",
              "    .dataframe tbody tr th {\n",
              "        vertical-align: top;\n",
              "    }\n",
              "\n",
              "    .dataframe thead th {\n",
              "        text-align: right;\n",
              "    }\n",
              "</style>\n",
              "<table border=\"1\" class=\"dataframe\">\n",
              "  <thead>\n",
              "    <tr style=\"text-align: right;\">\n",
              "      <th></th>\n",
              "      <th>SICK_id</th>\n",
              "      <th>Premise</th>\n",
              "      <th>Hypothesis</th>\n",
              "      <th>Modifier</th>\n",
              "      <th>Premise/Hypothesis/Both</th>\n",
              "      <th>Part of Premise/Hypothesis Modified</th>\n",
              "      <th>Ground Truth</th>\n",
              "    </tr>\n",
              "  </thead>\n",
              "  <tbody>\n",
              "    <tr>\n",
              "      <th>0</th>\n",
              "      <td>90</td>\n",
              "      <td>a man is jumping into an empty pool</td>\n",
              "      <td>a man is jumping into a full pool</td>\n",
              "      <td>NONE</td>\n",
              "      <td>NONE</td>\n",
              "      <td>NONE</td>\n",
              "      <td>Alternation</td>\n",
              "    </tr>\n",
              "    <tr>\n",
              "      <th>1</th>\n",
              "      <td>90</td>\n",
              "      <td>every man is jumping into an empty pool</td>\n",
              "      <td>a man is jumping into a full pool</td>\n",
              "      <td>every</td>\n",
              "      <td>Premise</td>\n",
              "      <td>Subject</td>\n",
              "      <td>Alternation</td>\n",
              "    </tr>\n",
              "    <tr>\n",
              "      <th>2</th>\n",
              "      <td>90</td>\n",
              "      <td>a man is jumping into an empty pool</td>\n",
              "      <td>every man is jumping into a full pool</td>\n",
              "      <td>every</td>\n",
              "      <td>Hypothesis</td>\n",
              "      <td>Subject</td>\n",
              "      <td>Negation</td>\n",
              "    </tr>\n",
              "    <tr>\n",
              "      <th>3</th>\n",
              "      <td>90</td>\n",
              "      <td>every man is jumping into an empty pool</td>\n",
              "      <td>every man is jumping into a full pool</td>\n",
              "      <td>every</td>\n",
              "      <td>Both</td>\n",
              "      <td>Subject</td>\n",
              "      <td>Negation</td>\n",
              "    </tr>\n",
              "    <tr>\n",
              "      <th>4</th>\n",
              "      <td>90</td>\n",
              "      <td>some man is jumping into an empty pool</td>\n",
              "      <td>a man is jumping into a full pool</td>\n",
              "      <td>some</td>\n",
              "      <td>Premise</td>\n",
              "      <td>Subject</td>\n",
              "      <td>Alternation</td>\n",
              "    </tr>\n",
              "  </tbody>\n",
              "</table>\n",
              "</div>\n",
              "      <button class=\"colab-df-convert\" onclick=\"convertToInteractive('df-bccda640-5b08-434f-a3b9-c8ff38f5f94d')\"\n",
              "              title=\"Convert this dataframe to an interactive table.\"\n",
              "              style=\"display:none;\">\n",
              "        \n",
              "  <svg xmlns=\"http://www.w3.org/2000/svg\" height=\"24px\"viewBox=\"0 0 24 24\"\n",
              "       width=\"24px\">\n",
              "    <path d=\"M0 0h24v24H0V0z\" fill=\"none\"/>\n",
              "    <path d=\"M18.56 5.44l.94 2.06.94-2.06 2.06-.94-2.06-.94-.94-2.06-.94 2.06-2.06.94zm-11 1L8.5 8.5l.94-2.06 2.06-.94-2.06-.94L8.5 2.5l-.94 2.06-2.06.94zm10 10l.94 2.06.94-2.06 2.06-.94-2.06-.94-.94-2.06-.94 2.06-2.06.94z\"/><path d=\"M17.41 7.96l-1.37-1.37c-.4-.4-.92-.59-1.43-.59-.52 0-1.04.2-1.43.59L10.3 9.45l-7.72 7.72c-.78.78-.78 2.05 0 2.83L4 21.41c.39.39.9.59 1.41.59.51 0 1.02-.2 1.41-.59l7.78-7.78 2.81-2.81c.8-.78.8-2.07 0-2.86zM5.41 20L4 18.59l7.72-7.72 1.47 1.35L5.41 20z\"/>\n",
              "  </svg>\n",
              "      </button>\n",
              "      \n",
              "  <style>\n",
              "    .colab-df-container {\n",
              "      display:flex;\n",
              "      flex-wrap:wrap;\n",
              "      gap: 12px;\n",
              "    }\n",
              "\n",
              "    .colab-df-convert {\n",
              "      background-color: #E8F0FE;\n",
              "      border: none;\n",
              "      border-radius: 50%;\n",
              "      cursor: pointer;\n",
              "      display: none;\n",
              "      fill: #1967D2;\n",
              "      height: 32px;\n",
              "      padding: 0 0 0 0;\n",
              "      width: 32px;\n",
              "    }\n",
              "\n",
              "    .colab-df-convert:hover {\n",
              "      background-color: #E2EBFA;\n",
              "      box-shadow: 0px 1px 2px rgba(60, 64, 67, 0.3), 0px 1px 3px 1px rgba(60, 64, 67, 0.15);\n",
              "      fill: #174EA6;\n",
              "    }\n",
              "\n",
              "    [theme=dark] .colab-df-convert {\n",
              "      background-color: #3B4455;\n",
              "      fill: #D2E3FC;\n",
              "    }\n",
              "\n",
              "    [theme=dark] .colab-df-convert:hover {\n",
              "      background-color: #434B5C;\n",
              "      box-shadow: 0px 1px 3px 1px rgba(0, 0, 0, 0.15);\n",
              "      filter: drop-shadow(0px 1px 2px rgba(0, 0, 0, 0.3));\n",
              "      fill: #FFFFFF;\n",
              "    }\n",
              "  </style>\n",
              "\n",
              "      <script>\n",
              "        const buttonEl =\n",
              "          document.querySelector('#df-bccda640-5b08-434f-a3b9-c8ff38f5f94d button.colab-df-convert');\n",
              "        buttonEl.style.display =\n",
              "          google.colab.kernel.accessAllowed ? 'block' : 'none';\n",
              "\n",
              "        async function convertToInteractive(key) {\n",
              "          const element = document.querySelector('#df-bccda640-5b08-434f-a3b9-c8ff38f5f94d');\n",
              "          const dataTable =\n",
              "            await google.colab.kernel.invokeFunction('convertToInteractive',\n",
              "                                                     [key], {});\n",
              "          if (!dataTable) return;\n",
              "\n",
              "          const docLinkHtml = 'Like what you see? Visit the ' +\n",
              "            '<a target=\"_blank\" href=https://colab.research.google.com/notebooks/data_table.ipynb>data table notebook</a>'\n",
              "            + ' to learn more about interactive tables.';\n",
              "          element.innerHTML = '';\n",
              "          dataTable['output_type'] = 'display_data';\n",
              "          await google.colab.output.renderOutput(dataTable, element);\n",
              "          const docLink = document.createElement('div');\n",
              "          docLink.innerHTML = docLinkHtml;\n",
              "          element.appendChild(docLink);\n",
              "        }\n",
              "      </script>\n",
              "    </div>\n",
              "  </div>\n",
              "  "
            ]
          },
          "metadata": {},
          "execution_count": 10
        }
      ]
    },
    {
      "cell_type": "code",
      "source": [
        "df.columns"
      ],
      "metadata": {
        "colab": {
          "base_uri": "https://localhost:8080/"
        },
        "id": "9Rj9_kren5Vz",
        "outputId": "c716e95e-4e0a-457d-9668-a0e07de50d69"
      },
      "execution_count": null,
      "outputs": [
        {
          "output_type": "execute_result",
          "data": {
            "text/plain": [
              "Index(['SICK_id', 'Premise', 'Hypothesis', 'Modifier',\n",
              "       'Premise/Hypothesis/Both', 'Part of Premise/Hypothesis Modified',\n",
              "       'Ground Truth'],\n",
              "      dtype='object')"
            ]
          },
          "metadata": {},
          "execution_count": 11
        }
      ]
    },
    {
      "cell_type": "code",
      "source": [
        "u = [\"every\", \"always\", \"never\", \"everyone of\"]\n",
        "e = [\"some\", \"at least\", \"exactly one\", \"all but one\"]\n",
        "n = [\"not every\", \"no\", \"not\"]\n",
        "adj = [\"green\", \"happy\", \"sad\", \"good\", \"bad\", \"abnormally\", \"elegantly\", \"an elegant\", \"an abnormal\"]"
      ],
      "metadata": {
        "id": "4NzBV5haoITy"
      },
      "execution_count": null,
      "outputs": []
    },
    {
      "cell_type": "code",
      "source": [
        "def get_quantifier_type(x):\n",
        "  if x in u:\n",
        "    return \"Universal\"\n",
        "  elif x in e:\n",
        "    return \"Existential\"\n",
        "  elif x in n:\n",
        "    return \"Negation\"\n",
        "  elif x in adj:\n",
        "    return \"Adjectives/Adverbs\"\n",
        "  else:\n",
        "    return \"NONE\""
      ],
      "metadata": {
        "id": "XT2F64CToLZ6"
      },
      "execution_count": null,
      "outputs": []
    },
    {
      "cell_type": "code",
      "source": [
        "df['Quantifier Type'] = df['Modifier'].apply(lambda x: get_quantifier_type(x)  )\n",
        "df.head()"
      ],
      "metadata": {
        "colab": {
          "base_uri": "https://localhost:8080/",
          "height": 354
        },
        "id": "AyusKNf3oLct",
        "outputId": "a0d28f84-2e0f-469d-e447-8e2da09aca5c"
      },
      "execution_count": null,
      "outputs": [
        {
          "output_type": "execute_result",
          "data": {
            "text/plain": [
              "   SICK_id                                  Premise  \\\n",
              "0       90      a man is jumping into an empty pool   \n",
              "1       90  every man is jumping into an empty pool   \n",
              "2       90      a man is jumping into an empty pool   \n",
              "3       90  every man is jumping into an empty pool   \n",
              "4       90   some man is jumping into an empty pool   \n",
              "\n",
              "                              Hypothesis Modifier Premise/Hypothesis/Both  \\\n",
              "0      a man is jumping into a full pool     NONE                    NONE   \n",
              "1      a man is jumping into a full pool    every                 Premise   \n",
              "2  every man is jumping into a full pool    every              Hypothesis   \n",
              "3  every man is jumping into a full pool    every                    Both   \n",
              "4      a man is jumping into a full pool     some                 Premise   \n",
              "\n",
              "  Part of Premise/Hypothesis Modified Ground Truth Quantifier Type  \n",
              "0                                NONE  Alternation            NONE  \n",
              "1                             Subject  Alternation       Universal  \n",
              "2                             Subject     Negation       Universal  \n",
              "3                             Subject     Negation       Universal  \n",
              "4                             Subject  Alternation     Existential  "
            ],
            "text/html": [
              "\n",
              "  <div id=\"df-bf16a4ed-b0c9-4812-882b-08e41bf4c5dd\">\n",
              "    <div class=\"colab-df-container\">\n",
              "      <div>\n",
              "<style scoped>\n",
              "    .dataframe tbody tr th:only-of-type {\n",
              "        vertical-align: middle;\n",
              "    }\n",
              "\n",
              "    .dataframe tbody tr th {\n",
              "        vertical-align: top;\n",
              "    }\n",
              "\n",
              "    .dataframe thead th {\n",
              "        text-align: right;\n",
              "    }\n",
              "</style>\n",
              "<table border=\"1\" class=\"dataframe\">\n",
              "  <thead>\n",
              "    <tr style=\"text-align: right;\">\n",
              "      <th></th>\n",
              "      <th>SICK_id</th>\n",
              "      <th>Premise</th>\n",
              "      <th>Hypothesis</th>\n",
              "      <th>Modifier</th>\n",
              "      <th>Premise/Hypothesis/Both</th>\n",
              "      <th>Part of Premise/Hypothesis Modified</th>\n",
              "      <th>Ground Truth</th>\n",
              "      <th>Quantifier Type</th>\n",
              "    </tr>\n",
              "  </thead>\n",
              "  <tbody>\n",
              "    <tr>\n",
              "      <th>0</th>\n",
              "      <td>90</td>\n",
              "      <td>a man is jumping into an empty pool</td>\n",
              "      <td>a man is jumping into a full pool</td>\n",
              "      <td>NONE</td>\n",
              "      <td>NONE</td>\n",
              "      <td>NONE</td>\n",
              "      <td>Alternation</td>\n",
              "      <td>NONE</td>\n",
              "    </tr>\n",
              "    <tr>\n",
              "      <th>1</th>\n",
              "      <td>90</td>\n",
              "      <td>every man is jumping into an empty pool</td>\n",
              "      <td>a man is jumping into a full pool</td>\n",
              "      <td>every</td>\n",
              "      <td>Premise</td>\n",
              "      <td>Subject</td>\n",
              "      <td>Alternation</td>\n",
              "      <td>Universal</td>\n",
              "    </tr>\n",
              "    <tr>\n",
              "      <th>2</th>\n",
              "      <td>90</td>\n",
              "      <td>a man is jumping into an empty pool</td>\n",
              "      <td>every man is jumping into a full pool</td>\n",
              "      <td>every</td>\n",
              "      <td>Hypothesis</td>\n",
              "      <td>Subject</td>\n",
              "      <td>Negation</td>\n",
              "      <td>Universal</td>\n",
              "    </tr>\n",
              "    <tr>\n",
              "      <th>3</th>\n",
              "      <td>90</td>\n",
              "      <td>every man is jumping into an empty pool</td>\n",
              "      <td>every man is jumping into a full pool</td>\n",
              "      <td>every</td>\n",
              "      <td>Both</td>\n",
              "      <td>Subject</td>\n",
              "      <td>Negation</td>\n",
              "      <td>Universal</td>\n",
              "    </tr>\n",
              "    <tr>\n",
              "      <th>4</th>\n",
              "      <td>90</td>\n",
              "      <td>some man is jumping into an empty pool</td>\n",
              "      <td>a man is jumping into a full pool</td>\n",
              "      <td>some</td>\n",
              "      <td>Premise</td>\n",
              "      <td>Subject</td>\n",
              "      <td>Alternation</td>\n",
              "      <td>Existential</td>\n",
              "    </tr>\n",
              "  </tbody>\n",
              "</table>\n",
              "</div>\n",
              "      <button class=\"colab-df-convert\" onclick=\"convertToInteractive('df-bf16a4ed-b0c9-4812-882b-08e41bf4c5dd')\"\n",
              "              title=\"Convert this dataframe to an interactive table.\"\n",
              "              style=\"display:none;\">\n",
              "        \n",
              "  <svg xmlns=\"http://www.w3.org/2000/svg\" height=\"24px\"viewBox=\"0 0 24 24\"\n",
              "       width=\"24px\">\n",
              "    <path d=\"M0 0h24v24H0V0z\" fill=\"none\"/>\n",
              "    <path d=\"M18.56 5.44l.94 2.06.94-2.06 2.06-.94-2.06-.94-.94-2.06-.94 2.06-2.06.94zm-11 1L8.5 8.5l.94-2.06 2.06-.94-2.06-.94L8.5 2.5l-.94 2.06-2.06.94zm10 10l.94 2.06.94-2.06 2.06-.94-2.06-.94-.94-2.06-.94 2.06-2.06.94z\"/><path d=\"M17.41 7.96l-1.37-1.37c-.4-.4-.92-.59-1.43-.59-.52 0-1.04.2-1.43.59L10.3 9.45l-7.72 7.72c-.78.78-.78 2.05 0 2.83L4 21.41c.39.39.9.59 1.41.59.51 0 1.02-.2 1.41-.59l7.78-7.78 2.81-2.81c.8-.78.8-2.07 0-2.86zM5.41 20L4 18.59l7.72-7.72 1.47 1.35L5.41 20z\"/>\n",
              "  </svg>\n",
              "      </button>\n",
              "      \n",
              "  <style>\n",
              "    .colab-df-container {\n",
              "      display:flex;\n",
              "      flex-wrap:wrap;\n",
              "      gap: 12px;\n",
              "    }\n",
              "\n",
              "    .colab-df-convert {\n",
              "      background-color: #E8F0FE;\n",
              "      border: none;\n",
              "      border-radius: 50%;\n",
              "      cursor: pointer;\n",
              "      display: none;\n",
              "      fill: #1967D2;\n",
              "      height: 32px;\n",
              "      padding: 0 0 0 0;\n",
              "      width: 32px;\n",
              "    }\n",
              "\n",
              "    .colab-df-convert:hover {\n",
              "      background-color: #E2EBFA;\n",
              "      box-shadow: 0px 1px 2px rgba(60, 64, 67, 0.3), 0px 1px 3px 1px rgba(60, 64, 67, 0.15);\n",
              "      fill: #174EA6;\n",
              "    }\n",
              "\n",
              "    [theme=dark] .colab-df-convert {\n",
              "      background-color: #3B4455;\n",
              "      fill: #D2E3FC;\n",
              "    }\n",
              "\n",
              "    [theme=dark] .colab-df-convert:hover {\n",
              "      background-color: #434B5C;\n",
              "      box-shadow: 0px 1px 3px 1px rgba(0, 0, 0, 0.15);\n",
              "      filter: drop-shadow(0px 1px 2px rgba(0, 0, 0, 0.3));\n",
              "      fill: #FFFFFF;\n",
              "    }\n",
              "  </style>\n",
              "\n",
              "      <script>\n",
              "        const buttonEl =\n",
              "          document.querySelector('#df-bf16a4ed-b0c9-4812-882b-08e41bf4c5dd button.colab-df-convert');\n",
              "        buttonEl.style.display =\n",
              "          google.colab.kernel.accessAllowed ? 'block' : 'none';\n",
              "\n",
              "        async function convertToInteractive(key) {\n",
              "          const element = document.querySelector('#df-bf16a4ed-b0c9-4812-882b-08e41bf4c5dd');\n",
              "          const dataTable =\n",
              "            await google.colab.kernel.invokeFunction('convertToInteractive',\n",
              "                                                     [key], {});\n",
              "          if (!dataTable) return;\n",
              "\n",
              "          const docLinkHtml = 'Like what you see? Visit the ' +\n",
              "            '<a target=\"_blank\" href=https://colab.research.google.com/notebooks/data_table.ipynb>data table notebook</a>'\n",
              "            + ' to learn more about interactive tables.';\n",
              "          element.innerHTML = '';\n",
              "          dataTable['output_type'] = 'display_data';\n",
              "          await google.colab.output.renderOutput(dataTable, element);\n",
              "          const docLink = document.createElement('div');\n",
              "          docLink.innerHTML = docLinkHtml;\n",
              "          element.appendChild(docLink);\n",
              "        }\n",
              "      </script>\n",
              "    </div>\n",
              "  </div>\n",
              "  "
            ]
          },
          "metadata": {},
          "execution_count": 14
        }
      ]
    },
    {
      "cell_type": "code",
      "source": [
        "df.isna().all() == False"
      ],
      "metadata": {
        "colab": {
          "base_uri": "https://localhost:8080/"
        },
        "id": "yJWs-cGArs0T",
        "outputId": "72e77100-1ae9-4c37-dd19-226abe5b45a6"
      },
      "execution_count": null,
      "outputs": [
        {
          "output_type": "execute_result",
          "data": {
            "text/plain": [
              "SICK_id                                True\n",
              "Premise                                True\n",
              "Hypothesis                             True\n",
              "Modifier                               True\n",
              "Premise/Hypothesis/Both                True\n",
              "Part of Premise/Hypothesis Modified    True\n",
              "Ground Truth                           True\n",
              "Quantifier Type                        True\n",
              "dtype: bool"
            ]
          },
          "metadata": {},
          "execution_count": 15
        }
      ]
    },
    {
      "cell_type": "code",
      "source": [
        "df.shape[0]"
      ],
      "metadata": {
        "colab": {
          "base_uri": "https://localhost:8080/"
        },
        "id": "AO-RUvTxsgO2",
        "outputId": "4d9ec821-519f-45a6-de4d-fdd98a78023c"
      },
      "execution_count": null,
      "outputs": [
        {
          "output_type": "execute_result",
          "data": {
            "text/plain": [
              "1087"
            ]
          },
          "metadata": {},
          "execution_count": 18
        }
      ]
    },
    {
      "cell_type": "code",
      "source": [
        "df.to_csv(\"/content/drive/MyDrive/Colab Notebooks/natural-logic/final-datasets/block-wise-data/blocks-dec26/annotated/combined/annotations_feb10_all.csv\")\n",
        "df.to_excel(\"/content/drive/MyDrive/Colab Notebooks/natural-logic/final-datasets/block-wise-data/blocks-dec26/annotated/combined/annotations_feb10_all.xlsx\")"
      ],
      "metadata": {
        "id": "4P34opEQDIg4"
      },
      "execution_count": null,
      "outputs": []
    }
  ]
}