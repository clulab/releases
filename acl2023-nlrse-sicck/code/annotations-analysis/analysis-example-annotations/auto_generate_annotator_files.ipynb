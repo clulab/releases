{
  "cells": [
    {
      "attachments": {},
      "cell_type": "markdown",
      "metadata": {},
      "source": [
        "#### Auto-Generating Annotator assignments files for the modified sentences as block-wise assignments.\n",
        "- Author: Sushma Anand Akoju, Email: sushmaakoju@arizona.edu"
      ]
    },
    {
      "cell_type": "code",
      "execution_count": 1,
      "metadata": {
        "id": "9oL2Z6Dgy_ic"
      },
      "outputs": [],
      "source": [
        "import pandas as pd\n",
        "import numpy as np"
      ]
    },
    {
      "cell_type": "code",
      "execution_count": 2,
      "metadata": {
        "colab": {
          "base_uri": "https://localhost:8080/"
        },
        "id": "jhsfdE3tzE8P",
        "outputId": "20601532-2fe3-43c0-964a-b0455fc94340"
      },
      "outputs": [
        {
          "name": "stdout",
          "output_type": "stream",
          "text": [
            "Mounted at /content/drive/\n"
          ]
        }
      ],
      "source": [
        "from google.colab import drive\n",
        "drive.mount('/content/drive/', force_remount=True)"
      ]
    },
    {
      "cell_type": "code",
      "execution_count": 9,
      "metadata": {
        "id": "a_vahWPPzZOh"
      },
      "outputs": [],
      "source": [
        "file1= \"modified_verb_phrases_dec24.xlsx\"\n",
        "file2 = \"modified_noun_phrases_dec_24.xlsx\"\n",
        "file3 = \"modified_obj_sick20_dec24.xlsx\"\n",
        "path = \"/content/drive/MyDrive/Colab Notebooks/natural-logic/final-datasets\""
      ]
    },
    {
      "cell_type": "code",
      "execution_count": 4,
      "metadata": {
        "colab": {
          "base_uri": "https://localhost:8080/"
        },
        "id": "GjEAR1lskWro",
        "outputId": "4f5a5ee7-e9ad-4851-f5a8-d9211a0f538e"
      },
      "outputs": [
        {
          "data": {
            "text/plain": [
              "True"
            ]
          },
          "execution_count": 4,
          "metadata": {},
          "output_type": "execute_result"
        }
      ],
      "source": [
        "import os\n",
        "os.path.exists(path)"
      ]
    },
    {
      "cell_type": "markdown",
      "metadata": {
        "id": "nUkfjSzAbWT6"
      },
      "source": [
        "## Approach followed\n",
        "\n",
        "The approach followed here is:\n",
        "\n",
        "\n",
        "1.  We use SICK dataset <a href=\"https://huggingface.co/datasets/sick\" > HuggingFace SICK dataset </a>\n",
        "2.  We use select examples which are \"compositional\" (example: class *full of* students vs class is *empty*) and \"conditioned\" on specific tokens in the sentence.\n",
        "3.  We then select 5 examples each of which were labelled as Entailment, Contradiction and Neutral from SICK dataset.\n",
        "4.  We then take 5 of the examples that are labelled as \"Entailment\" and flip premise and hypothesis for Reverse Entailment. We could assume Reverse Entailment holds. \n",
        "5. There are two additional labels in SICK dataset \"entailment_AB\" and\t\"entailment_BA\".\n",
        "6. We then analyze each of sentences that were labelled in SICK dataset as \"Entailment\" and consider \"entailment_AB\" value which is marked for all Entailment examples as \"A_entails_B\".\n",
        "7. Secondly, we also verify \"entailment_BA\" column labels for each of the Entailment sentence pairs and found out that reverse is labelled as neutral: i.e. \"B_neutral_A\" . Thus SICK dataset marks flipped cases as Neutral.\n",
        "8. We have various directions to pursue here: one way to consider flipped Entailment case is to request anotators to label this (could be Reverse Entailment or Neutral). This would still be a case to discuss since NLI systems do seem to show varied results.\n",
        "9. Last but not the least, we do observe and note that all of the Entailment cases hold true for Forward Entailment.\n",
        "10. For the Flipped examples of Entailment, we just need to annotate to find the agreements over RE or Neutral.\n",
        "11. We additionally can provide flipped case analysis from NLI systems as well.\n",
        "12. We selected 5 examples of Neutral and Contradiction each additionally for each of which A_NEUTRAL_B and B_NEUTRAL_A or A_CONTRADICTS_B and B_CONTRADICTS_A hold true, respectively."
      ]
    },
    {
      "cell_type": "code",
      "execution_count": 5,
      "metadata": {
        "colab": {
          "base_uri": "https://localhost:8080/",
          "height": 206
        },
        "id": "zQxjLlKknPDi",
        "outputId": "05ae2f00-583e-4fc5-fdf8-c63b95419a9a"
      },
      "outputs": [
        {
          "data": {
            "text/html": [
              "\n",
              "  <div id=\"df-670b6471-8ed3-4946-b64f-48ba2a1c74ea\">\n",
              "    <div class=\"colab-df-container\">\n",
              "      <div>\n",
              "<style scoped>\n",
              "    .dataframe tbody tr th:only-of-type {\n",
              "        vertical-align: middle;\n",
              "    }\n",
              "\n",
              "    .dataframe tbody tr th {\n",
              "        vertical-align: top;\n",
              "    }\n",
              "\n",
              "    .dataframe thead th {\n",
              "        text-align: right;\n",
              "    }\n",
              "</style>\n",
              "<table border=\"1\" class=\"dataframe\">\n",
              "  <thead>\n",
              "    <tr style=\"text-align: right;\">\n",
              "      <th></th>\n",
              "      <th>Sno</th>\n",
              "      <th>SICK_id</th>\n",
              "      <th>Premise</th>\n",
              "      <th>Hypothesis</th>\n",
              "      <th>Flipped yes/no</th>\n",
              "      <th>SICK label</th>\n",
              "      <th>entailment_AB</th>\n",
              "      <th>entailment_BA</th>\n",
              "    </tr>\n",
              "  </thead>\n",
              "  <tbody>\n",
              "    <tr>\n",
              "      <th>0</th>\n",
              "      <td>1</td>\n",
              "      <td>129</td>\n",
              "      <td>an old man is sitting in a field</td>\n",
              "      <td>a man is sitting in a field</td>\n",
              "      <td>No</td>\n",
              "      <td>Entailment</td>\n",
              "      <td>A_entails_B</td>\n",
              "      <td>B_neutral_A</td>\n",
              "    </tr>\n",
              "    <tr>\n",
              "      <th>1</th>\n",
              "      <td>2</td>\n",
              "      <td>273</td>\n",
              "      <td>A boy is standing in the cold water</td>\n",
              "      <td>A boy is standing in the water</td>\n",
              "      <td>No</td>\n",
              "      <td>Entailment</td>\n",
              "      <td>A_entails_B</td>\n",
              "      <td>B_neutral_A</td>\n",
              "    </tr>\n",
              "    <tr>\n",
              "      <th>2</th>\n",
              "      <td>3</td>\n",
              "      <td>455</td>\n",
              "      <td>Two children are hanging on a large branch</td>\n",
              "      <td>Two children are climbing a tree</td>\n",
              "      <td>No</td>\n",
              "      <td>Entailment</td>\n",
              "      <td>A_entails_B</td>\n",
              "      <td>B_neutral_A</td>\n",
              "    </tr>\n",
              "    <tr>\n",
              "      <th>3</th>\n",
              "      <td>4</td>\n",
              "      <td>129</td>\n",
              "      <td>a man is sitting in a field</td>\n",
              "      <td>an old man is sitting in a field</td>\n",
              "      <td>Yes</td>\n",
              "      <td>Possible Neutral</td>\n",
              "      <td>B_neutral_A</td>\n",
              "      <td>A_entails_B</td>\n",
              "    </tr>\n",
              "    <tr>\n",
              "      <th>4</th>\n",
              "      <td>5</td>\n",
              "      <td>273</td>\n",
              "      <td>A boy is standing in the water</td>\n",
              "      <td>A boy is standing in the cold water</td>\n",
              "      <td>Yes</td>\n",
              "      <td>Possible Neutral</td>\n",
              "      <td>B_neutral_A</td>\n",
              "      <td>A_entails_B</td>\n",
              "    </tr>\n",
              "  </tbody>\n",
              "</table>\n",
              "</div>\n",
              "      <button class=\"colab-df-convert\" onclick=\"convertToInteractive('df-670b6471-8ed3-4946-b64f-48ba2a1c74ea')\"\n",
              "              title=\"Convert this dataframe to an interactive table.\"\n",
              "              style=\"display:none;\">\n",
              "        \n",
              "  <svg xmlns=\"http://www.w3.org/2000/svg\" height=\"24px\"viewBox=\"0 0 24 24\"\n",
              "       width=\"24px\">\n",
              "    <path d=\"M0 0h24v24H0V0z\" fill=\"none\"/>\n",
              "    <path d=\"M18.56 5.44l.94 2.06.94-2.06 2.06-.94-2.06-.94-.94-2.06-.94 2.06-2.06.94zm-11 1L8.5 8.5l.94-2.06 2.06-.94-2.06-.94L8.5 2.5l-.94 2.06-2.06.94zm10 10l.94 2.06.94-2.06 2.06-.94-2.06-.94-.94-2.06-.94 2.06-2.06.94z\"/><path d=\"M17.41 7.96l-1.37-1.37c-.4-.4-.92-.59-1.43-.59-.52 0-1.04.2-1.43.59L10.3 9.45l-7.72 7.72c-.78.78-.78 2.05 0 2.83L4 21.41c.39.39.9.59 1.41.59.51 0 1.02-.2 1.41-.59l7.78-7.78 2.81-2.81c.8-.78.8-2.07 0-2.86zM5.41 20L4 18.59l7.72-7.72 1.47 1.35L5.41 20z\"/>\n",
              "  </svg>\n",
              "      </button>\n",
              "      \n",
              "  <style>\n",
              "    .colab-df-container {\n",
              "      display:flex;\n",
              "      flex-wrap:wrap;\n",
              "      gap: 12px;\n",
              "    }\n",
              "\n",
              "    .colab-df-convert {\n",
              "      background-color: #E8F0FE;\n",
              "      border: none;\n",
              "      border-radius: 50%;\n",
              "      cursor: pointer;\n",
              "      display: none;\n",
              "      fill: #1967D2;\n",
              "      height: 32px;\n",
              "      padding: 0 0 0 0;\n",
              "      width: 32px;\n",
              "    }\n",
              "\n",
              "    .colab-df-convert:hover {\n",
              "      background-color: #E2EBFA;\n",
              "      box-shadow: 0px 1px 2px rgba(60, 64, 67, 0.3), 0px 1px 3px 1px rgba(60, 64, 67, 0.15);\n",
              "      fill: #174EA6;\n",
              "    }\n",
              "\n",
              "    [theme=dark] .colab-df-convert {\n",
              "      background-color: #3B4455;\n",
              "      fill: #D2E3FC;\n",
              "    }\n",
              "\n",
              "    [theme=dark] .colab-df-convert:hover {\n",
              "      background-color: #434B5C;\n",
              "      box-shadow: 0px 1px 3px 1px rgba(0, 0, 0, 0.15);\n",
              "      filter: drop-shadow(0px 1px 2px rgba(0, 0, 0, 0.3));\n",
              "      fill: #FFFFFF;\n",
              "    }\n",
              "  </style>\n",
              "\n",
              "      <script>\n",
              "        const buttonEl =\n",
              "          document.querySelector('#df-670b6471-8ed3-4946-b64f-48ba2a1c74ea button.colab-df-convert');\n",
              "        buttonEl.style.display =\n",
              "          google.colab.kernel.accessAllowed ? 'block' : 'none';\n",
              "\n",
              "        async function convertToInteractive(key) {\n",
              "          const element = document.querySelector('#df-670b6471-8ed3-4946-b64f-48ba2a1c74ea');\n",
              "          const dataTable =\n",
              "            await google.colab.kernel.invokeFunction('convertToInteractive',\n",
              "                                                     [key], {});\n",
              "          if (!dataTable) return;\n",
              "\n",
              "          const docLinkHtml = 'Like what you see? Visit the ' +\n",
              "            '<a target=\"_blank\" href=https://colab.research.google.com/notebooks/data_table.ipynb>data table notebook</a>'\n",
              "            + ' to learn more about interactive tables.';\n",
              "          element.innerHTML = '';\n",
              "          dataTable['output_type'] = 'display_data';\n",
              "          await google.colab.output.renderOutput(dataTable, element);\n",
              "          const docLink = document.createElement('div');\n",
              "          docLink.innerHTML = docLinkHtml;\n",
              "          element.appendChild(docLink);\n",
              "        }\n",
              "      </script>\n",
              "    </div>\n",
              "  </div>\n",
              "  "
            ],
            "text/plain": [
              "   Sno  SICK_id                                     Premise  \\\n",
              "0    1      129            an old man is sitting in a field   \n",
              "1    2      273         A boy is standing in the cold water   \n",
              "2    3      455  Two children are hanging on a large branch   \n",
              "3    4      129                 a man is sitting in a field   \n",
              "4    5      273              A boy is standing in the water   \n",
              "\n",
              "                            Hypothesis Flipped yes/no        SICK label  \\\n",
              "0          a man is sitting in a field             No        Entailment   \n",
              "1       A boy is standing in the water             No        Entailment   \n",
              "2     Two children are climbing a tree             No        Entailment   \n",
              "3     an old man is sitting in a field            Yes  Possible Neutral   \n",
              "4  A boy is standing in the cold water            Yes  Possible Neutral   \n",
              "\n",
              "  entailment_AB entailment_BA  \n",
              "0   A_entails_B   B_neutral_A  \n",
              "1   A_entails_B   B_neutral_A  \n",
              "2   A_entails_B   B_neutral_A  \n",
              "3   B_neutral_A   A_entails_B  \n",
              "4   B_neutral_A   A_entails_B  "
            ]
          },
          "execution_count": 5,
          "metadata": {},
          "output_type": "execute_result"
        }
      ],
      "source": [
        "df = pd.read_excel(os.path.join(path, \"modifiers-sentences-sick-dataset.xlsx\"), sheet_name=\"sick-examples\")\n",
        "df['SICK_id'] = df['SICK_id'].astype('int')\n",
        "df['Sno'] = df['Sno'].astype('int')\n",
        "df.head()"
      ]
    },
    {
      "cell_type": "code",
      "execution_count": 6,
      "metadata": {
        "colab": {
          "base_uri": "https://localhost:8080/"
        },
        "id": "wNt3Nsoqe659",
        "outputId": "67c7b9d8-8c0e-4044-930a-d878f7f5cdcc"
      },
      "outputs": [
        {
          "name": "stdout",
          "output_type": "stream",
          "text": [
            "<class 'pandas.core.frame.DataFrame'>\n",
            "RangeIndex: 20 entries, 0 to 19\n",
            "Data columns (total 8 columns):\n",
            " #   Column          Non-Null Count  Dtype \n",
            "---  ------          --------------  ----- \n",
            " 0   Sno             20 non-null     int64 \n",
            " 1   SICK_id         20 non-null     int64 \n",
            " 2   Premise         20 non-null     object\n",
            " 3   Hypothesis      20 non-null     object\n",
            " 4   Flipped yes/no  20 non-null     object\n",
            " 5   SICK label      20 non-null     object\n",
            " 6   entailment_AB   20 non-null     object\n",
            " 7   entailment_BA   20 non-null     object\n",
            "dtypes: int64(2), object(6)\n",
            "memory usage: 1.4+ KB\n"
          ]
        }
      ],
      "source": [
        "df.info()"
      ]
    },
    {
      "cell_type": "markdown",
      "metadata": {
        "id": "0KAk1ZQQbRCp"
      },
      "source": [
        "## We analyse the flipped examples\n",
        "\n",
        "\n",
        "1.   4 examples are flipped\n",
        "2.   We see that SICK label is Neutral for flipped cases as suggested by _neutral_  \n",
        "\n"
      ]
    },
    {
      "cell_type": "code",
      "execution_count": 7,
      "metadata": {
        "colab": {
          "base_uri": "https://localhost:8080/",
          "height": 210
        },
        "id": "7KdbDPcGa09i",
        "outputId": "77f6bd84-7fe2-4d66-a8b5-02fbde5e082e"
      },
      "outputs": [
        {
          "name": "stderr",
          "output_type": "stream",
          "text": [
            "<ipython-input-7-485accd7b108>:1: UserWarning: Boolean Series key will be reindexed to match DataFrame index.\n",
            "  small_sick[small_sick['entailment_AB'] == \"B_neutral_A\"][small_sick['SICK label'] == \"Possible Neutral\"]\n"
          ]
        },
        {
          "data": {
            "text/html": [
              "\n",
              "  <div id=\"df-609f88a1-2810-48e2-8cb0-72d44ab378ce\">\n",
              "    <div class=\"colab-df-container\">\n",
              "      <div>\n",
              "<style scoped>\n",
              "    .dataframe tbody tr th:only-of-type {\n",
              "        vertical-align: middle;\n",
              "    }\n",
              "\n",
              "    .dataframe tbody tr th {\n",
              "        vertical-align: top;\n",
              "    }\n",
              "\n",
              "    .dataframe thead th {\n",
              "        text-align: right;\n",
              "    }\n",
              "</style>\n",
              "<table border=\"1\" class=\"dataframe\">\n",
              "  <thead>\n",
              "    <tr style=\"text-align: right;\">\n",
              "      <th></th>\n",
              "      <th>Sno</th>\n",
              "      <th>SICK_id</th>\n",
              "      <th>Premise</th>\n",
              "      <th>Hypothesis</th>\n",
              "      <th>Flipped yes/no</th>\n",
              "      <th>SICK label</th>\n",
              "      <th>entailment_AB</th>\n",
              "      <th>entailment_BA</th>\n",
              "    </tr>\n",
              "  </thead>\n",
              "  <tbody>\n",
              "    <tr>\n",
              "      <th>3</th>\n",
              "      <td>4</td>\n",
              "      <td>129</td>\n",
              "      <td>a man is sitting in a field</td>\n",
              "      <td>an old man is sitting in a field</td>\n",
              "      <td>Yes</td>\n",
              "      <td>Possible Neutral</td>\n",
              "      <td>B_neutral_A</td>\n",
              "      <td>A_entails_B</td>\n",
              "    </tr>\n",
              "    <tr>\n",
              "      <th>4</th>\n",
              "      <td>5</td>\n",
              "      <td>273</td>\n",
              "      <td>A boy is standing in the water</td>\n",
              "      <td>A boy is standing in the cold water</td>\n",
              "      <td>Yes</td>\n",
              "      <td>Possible Neutral</td>\n",
              "      <td>B_neutral_A</td>\n",
              "      <td>A_entails_B</td>\n",
              "    </tr>\n",
              "    <tr>\n",
              "      <th>5</th>\n",
              "      <td>6</td>\n",
              "      <td>455</td>\n",
              "      <td>Two children are climbing a tree</td>\n",
              "      <td>Two children are hanging on a large branch</td>\n",
              "      <td>Yes</td>\n",
              "      <td>Possible Neutral</td>\n",
              "      <td>B_neutral_A</td>\n",
              "      <td>A_entails_B</td>\n",
              "    </tr>\n",
              "    <tr>\n",
              "      <th>8</th>\n",
              "      <td>9</td>\n",
              "      <td>167</td>\n",
              "      <td>A child is hitting a baseball</td>\n",
              "      <td>A boy is hitting a baseball</td>\n",
              "      <td>Yes</td>\n",
              "      <td>Possible Neutral</td>\n",
              "      <td>B_neutral_A</td>\n",
              "      <td>A_entails_B</td>\n",
              "    </tr>\n",
              "  </tbody>\n",
              "</table>\n",
              "</div>\n",
              "      <button class=\"colab-df-convert\" onclick=\"convertToInteractive('df-609f88a1-2810-48e2-8cb0-72d44ab378ce')\"\n",
              "              title=\"Convert this dataframe to an interactive table.\"\n",
              "              style=\"display:none;\">\n",
              "        \n",
              "  <svg xmlns=\"http://www.w3.org/2000/svg\" height=\"24px\"viewBox=\"0 0 24 24\"\n",
              "       width=\"24px\">\n",
              "    <path d=\"M0 0h24v24H0V0z\" fill=\"none\"/>\n",
              "    <path d=\"M18.56 5.44l.94 2.06.94-2.06 2.06-.94-2.06-.94-.94-2.06-.94 2.06-2.06.94zm-11 1L8.5 8.5l.94-2.06 2.06-.94-2.06-.94L8.5 2.5l-.94 2.06-2.06.94zm10 10l.94 2.06.94-2.06 2.06-.94-2.06-.94-.94-2.06-.94 2.06-2.06.94z\"/><path d=\"M17.41 7.96l-1.37-1.37c-.4-.4-.92-.59-1.43-.59-.52 0-1.04.2-1.43.59L10.3 9.45l-7.72 7.72c-.78.78-.78 2.05 0 2.83L4 21.41c.39.39.9.59 1.41.59.51 0 1.02-.2 1.41-.59l7.78-7.78 2.81-2.81c.8-.78.8-2.07 0-2.86zM5.41 20L4 18.59l7.72-7.72 1.47 1.35L5.41 20z\"/>\n",
              "  </svg>\n",
              "      </button>\n",
              "      \n",
              "  <style>\n",
              "    .colab-df-container {\n",
              "      display:flex;\n",
              "      flex-wrap:wrap;\n",
              "      gap: 12px;\n",
              "    }\n",
              "\n",
              "    .colab-df-convert {\n",
              "      background-color: #E8F0FE;\n",
              "      border: none;\n",
              "      border-radius: 50%;\n",
              "      cursor: pointer;\n",
              "      display: none;\n",
              "      fill: #1967D2;\n",
              "      height: 32px;\n",
              "      padding: 0 0 0 0;\n",
              "      width: 32px;\n",
              "    }\n",
              "\n",
              "    .colab-df-convert:hover {\n",
              "      background-color: #E2EBFA;\n",
              "      box-shadow: 0px 1px 2px rgba(60, 64, 67, 0.3), 0px 1px 3px 1px rgba(60, 64, 67, 0.15);\n",
              "      fill: #174EA6;\n",
              "    }\n",
              "\n",
              "    [theme=dark] .colab-df-convert {\n",
              "      background-color: #3B4455;\n",
              "      fill: #D2E3FC;\n",
              "    }\n",
              "\n",
              "    [theme=dark] .colab-df-convert:hover {\n",
              "      background-color: #434B5C;\n",
              "      box-shadow: 0px 1px 3px 1px rgba(0, 0, 0, 0.15);\n",
              "      filter: drop-shadow(0px 1px 2px rgba(0, 0, 0, 0.3));\n",
              "      fill: #FFFFFF;\n",
              "    }\n",
              "  </style>\n",
              "\n",
              "      <script>\n",
              "        const buttonEl =\n",
              "          document.querySelector('#df-609f88a1-2810-48e2-8cb0-72d44ab378ce button.colab-df-convert');\n",
              "        buttonEl.style.display =\n",
              "          google.colab.kernel.accessAllowed ? 'block' : 'none';\n",
              "\n",
              "        async function convertToInteractive(key) {\n",
              "          const element = document.querySelector('#df-609f88a1-2810-48e2-8cb0-72d44ab378ce');\n",
              "          const dataTable =\n",
              "            await google.colab.kernel.invokeFunction('convertToInteractive',\n",
              "                                                     [key], {});\n",
              "          if (!dataTable) return;\n",
              "\n",
              "          const docLinkHtml = 'Like what you see? Visit the ' +\n",
              "            '<a target=\"_blank\" href=https://colab.research.google.com/notebooks/data_table.ipynb>data table notebook</a>'\n",
              "            + ' to learn more about interactive tables.';\n",
              "          element.innerHTML = '';\n",
              "          dataTable['output_type'] = 'display_data';\n",
              "          await google.colab.output.renderOutput(dataTable, element);\n",
              "          const docLink = document.createElement('div');\n",
              "          docLink.innerHTML = docLinkHtml;\n",
              "          element.appendChild(docLink);\n",
              "        }\n",
              "      </script>\n",
              "    </div>\n",
              "  </div>\n",
              "  "
            ],
            "text/plain": [
              "   Sno  SICK_id                           Premise  \\\n",
              "3    4      129       a man is sitting in a field   \n",
              "4    5      273    A boy is standing in the water   \n",
              "5    6      455  Two children are climbing a tree   \n",
              "8    9      167     A child is hitting a baseball   \n",
              "\n",
              "                                   Hypothesis Flipped yes/no  \\\n",
              "3            an old man is sitting in a field            Yes   \n",
              "4         A boy is standing in the cold water            Yes   \n",
              "5  Two children are hanging on a large branch            Yes   \n",
              "8                 A boy is hitting a baseball            Yes   \n",
              "\n",
              "         SICK label entailment_AB entailment_BA  \n",
              "3  Possible Neutral   B_neutral_A   A_entails_B  \n",
              "4  Possible Neutral   B_neutral_A   A_entails_B  \n",
              "5  Possible Neutral   B_neutral_A   A_entails_B  \n",
              "8  Possible Neutral   B_neutral_A   A_entails_B  "
            ]
          },
          "execution_count": 7,
          "metadata": {},
          "output_type": "execute_result"
        }
      ],
      "source": [
        "df[df['entailment_AB'] == \"B_neutral_A\"][df['SICK label'] == \"Possible Neutral\"]"
      ]
    },
    {
      "cell_type": "markdown",
      "metadata": {
        "id": "rcWbLdsWfJ-O"
      },
      "source": [
        "### Analyze Modified examples\n",
        "\n",
        "For each of the 20 examples selected from SICK dataset, we modify\n",
        "1. Verb phrases (VP)\n",
        "2. Subject (Noun Phrases (NP))\n",
        "3. Objects (Noun Phrases)\n",
        "\n",
        "For selecting modifiers, we use modifiers as we refer Bill MacCartney's NLI dissertation and Fracas dataset.\n",
        "\n",
        "#### Object Modifers:\n",
        "- determiners = \"every\", \"some\", \"exactly one\", \"all but one\", \"no\"\n",
        "- adjectives = \"green\", \"happy\", \"sad\", \"good\", \"bad\"\n",
        "- special adjectives = an abnormal\", \"an elegant\"\n",
        "\n",
        "Note: we only consider modifying object and not the adjectives preceeding the object. For example, a large pond -> would be \"an elegant, large pond\" and not \"an elegantly large pond\". Althought elegantly large semantically not in use, still such a case is not considered. \n",
        "\n",
        "#### Verb Phrase Modifers:\n",
        "- \"not\"\n",
        "- adverbs = \"abnormally\",\"elegantly\",\"always\",\"never\"\n",
        "\n",
        "Example: is visiting -> is not visiting, is abnormally visiting, is elegantly visiting.\n",
        "\n",
        "#### Subject (Noun Phrase) Modifers:\n",
        "- 'every', 'some', 'at least','not every','exactly one', 'all but one','everyone of', 'no'\n",
        "- adjectives = \"green\", \"happy\", \"sad\", \"good\", \"bad\"\n",
        "\n",
        "Example: An old man -> every old man, some old man, green old man, happy old man.\n"
      ]
    },
    {
      "cell_type": "code",
      "execution_count": 21,
      "metadata": {
        "id": "1qoMWuwuklXF"
      },
      "outputs": [],
      "source": [
        "vp = pd.read_excel(os.path.join(path, file1), sheet_name=\"modified_verb_phrases_dec24\")\n",
        "np = pd.read_excel(os.path.join(path, file2), sheet_name=\"modified_noun_phrases_dec_24\")\n",
        "obj = pd.read_excel(os.path.join(path, file3), sheet_name=\"modified_obj_sick20\")\n",
        "# vp = vp.drop(['Unnamed: 0'], axis=1)\n",
        "# np = np.drop(['Unnamed: 0'], axis=1)\n",
        "# vp = vp.fillna(\"NONE\")\n",
        "# np = np.fillna(\"NONE\")\n",
        "np['SICK_id'] = np['SICK_id'].astype('int')\n",
        "np['Sno'] = np['Sno'].astype('int')\n",
        "vp['SICK_id'] = vp['SICK_id'].astype('int')\n",
        "vp['Sno'] = vp['Sno'].astype('int')\n",
        "obj['SICK_id'] = obj['SICK_id'].astype('int')\n",
        "obj['Sno'] = obj['Sno'].astype('int')"
      ]
    },
    {
      "cell_type": "code",
      "execution_count": 22,
      "metadata": {
        "colab": {
          "base_uri": "https://localhost:8080/",
          "height": 206
        },
        "id": "2ryTQPszk-cS",
        "outputId": "cbeb78f9-f6cb-4b64-8f82-d7698b29135e"
      },
      "outputs": [
        {
          "data": {
            "text/html": [
              "\n",
              "  <div id=\"df-c2f6153c-755f-497f-8c5f-db07a290eb17\">\n",
              "    <div class=\"colab-df-container\">\n",
              "      <div>\n",
              "<style scoped>\n",
              "    .dataframe tbody tr th:only-of-type {\n",
              "        vertical-align: middle;\n",
              "    }\n",
              "\n",
              "    .dataframe tbody tr th {\n",
              "        vertical-align: top;\n",
              "    }\n",
              "\n",
              "    .dataframe thead th {\n",
              "        text-align: right;\n",
              "    }\n",
              "</style>\n",
              "<table border=\"1\" class=\"dataframe\">\n",
              "  <thead>\n",
              "    <tr style=\"text-align: right;\">\n",
              "      <th></th>\n",
              "      <th>Sno</th>\n",
              "      <th>SICK_id</th>\n",
              "      <th>Flipped (Yes/No)</th>\n",
              "      <th>Premise</th>\n",
              "      <th>Hypothesis</th>\n",
              "      <th>Modifier</th>\n",
              "      <th>Premise/Hypothesis/Both</th>\n",
              "      <th>Part of Premise/Hypothesis Modified</th>\n",
              "      <th>Label</th>\n",
              "    </tr>\n",
              "  </thead>\n",
              "  <tbody>\n",
              "    <tr>\n",
              "      <th>0</th>\n",
              "      <td>0</td>\n",
              "      <td>129</td>\n",
              "      <td>No</td>\n",
              "      <td>an old man is sitting in a field</td>\n",
              "      <td>a man is sitting in a field</td>\n",
              "      <td>NONE</td>\n",
              "      <td>NONE</td>\n",
              "      <td>NONE</td>\n",
              "      <td>Entailment</td>\n",
              "    </tr>\n",
              "    <tr>\n",
              "      <th>1</th>\n",
              "      <td>1</td>\n",
              "      <td>129</td>\n",
              "      <td>No</td>\n",
              "      <td>an old man is not sitting in a field</td>\n",
              "      <td>a man is sitting in a field</td>\n",
              "      <td>not</td>\n",
              "      <td>Premise</td>\n",
              "      <td>Verb</td>\n",
              "      <td>NaN</td>\n",
              "    </tr>\n",
              "    <tr>\n",
              "      <th>2</th>\n",
              "      <td>2</td>\n",
              "      <td>129</td>\n",
              "      <td>No</td>\n",
              "      <td>an old man is sitting in a field</td>\n",
              "      <td>a man is not sitting in a field</td>\n",
              "      <td>not</td>\n",
              "      <td>Hypothesis</td>\n",
              "      <td>Verb</td>\n",
              "      <td>NaN</td>\n",
              "    </tr>\n",
              "    <tr>\n",
              "      <th>3</th>\n",
              "      <td>3</td>\n",
              "      <td>129</td>\n",
              "      <td>No</td>\n",
              "      <td>an old man is not sitting in a field</td>\n",
              "      <td>a man is not sitting in a field</td>\n",
              "      <td>not</td>\n",
              "      <td>Both</td>\n",
              "      <td>Verb</td>\n",
              "      <td>NaN</td>\n",
              "    </tr>\n",
              "    <tr>\n",
              "      <th>4</th>\n",
              "      <td>4</td>\n",
              "      <td>129</td>\n",
              "      <td>No</td>\n",
              "      <td>an old man is abnormally sitting in a field</td>\n",
              "      <td>a man is sitting in a field</td>\n",
              "      <td>abnormally</td>\n",
              "      <td>Premise</td>\n",
              "      <td>Verb</td>\n",
              "      <td>NaN</td>\n",
              "    </tr>\n",
              "  </tbody>\n",
              "</table>\n",
              "</div>\n",
              "      <button class=\"colab-df-convert\" onclick=\"convertToInteractive('df-c2f6153c-755f-497f-8c5f-db07a290eb17')\"\n",
              "              title=\"Convert this dataframe to an interactive table.\"\n",
              "              style=\"display:none;\">\n",
              "        \n",
              "  <svg xmlns=\"http://www.w3.org/2000/svg\" height=\"24px\"viewBox=\"0 0 24 24\"\n",
              "       width=\"24px\">\n",
              "    <path d=\"M0 0h24v24H0V0z\" fill=\"none\"/>\n",
              "    <path d=\"M18.56 5.44l.94 2.06.94-2.06 2.06-.94-2.06-.94-.94-2.06-.94 2.06-2.06.94zm-11 1L8.5 8.5l.94-2.06 2.06-.94-2.06-.94L8.5 2.5l-.94 2.06-2.06.94zm10 10l.94 2.06.94-2.06 2.06-.94-2.06-.94-.94-2.06-.94 2.06-2.06.94z\"/><path d=\"M17.41 7.96l-1.37-1.37c-.4-.4-.92-.59-1.43-.59-.52 0-1.04.2-1.43.59L10.3 9.45l-7.72 7.72c-.78.78-.78 2.05 0 2.83L4 21.41c.39.39.9.59 1.41.59.51 0 1.02-.2 1.41-.59l7.78-7.78 2.81-2.81c.8-.78.8-2.07 0-2.86zM5.41 20L4 18.59l7.72-7.72 1.47 1.35L5.41 20z\"/>\n",
              "  </svg>\n",
              "      </button>\n",
              "      \n",
              "  <style>\n",
              "    .colab-df-container {\n",
              "      display:flex;\n",
              "      flex-wrap:wrap;\n",
              "      gap: 12px;\n",
              "    }\n",
              "\n",
              "    .colab-df-convert {\n",
              "      background-color: #E8F0FE;\n",
              "      border: none;\n",
              "      border-radius: 50%;\n",
              "      cursor: pointer;\n",
              "      display: none;\n",
              "      fill: #1967D2;\n",
              "      height: 32px;\n",
              "      padding: 0 0 0 0;\n",
              "      width: 32px;\n",
              "    }\n",
              "\n",
              "    .colab-df-convert:hover {\n",
              "      background-color: #E2EBFA;\n",
              "      box-shadow: 0px 1px 2px rgba(60, 64, 67, 0.3), 0px 1px 3px 1px rgba(60, 64, 67, 0.15);\n",
              "      fill: #174EA6;\n",
              "    }\n",
              "\n",
              "    [theme=dark] .colab-df-convert {\n",
              "      background-color: #3B4455;\n",
              "      fill: #D2E3FC;\n",
              "    }\n",
              "\n",
              "    [theme=dark] .colab-df-convert:hover {\n",
              "      background-color: #434B5C;\n",
              "      box-shadow: 0px 1px 3px 1px rgba(0, 0, 0, 0.15);\n",
              "      filter: drop-shadow(0px 1px 2px rgba(0, 0, 0, 0.3));\n",
              "      fill: #FFFFFF;\n",
              "    }\n",
              "  </style>\n",
              "\n",
              "      <script>\n",
              "        const buttonEl =\n",
              "          document.querySelector('#df-c2f6153c-755f-497f-8c5f-db07a290eb17 button.colab-df-convert');\n",
              "        buttonEl.style.display =\n",
              "          google.colab.kernel.accessAllowed ? 'block' : 'none';\n",
              "\n",
              "        async function convertToInteractive(key) {\n",
              "          const element = document.querySelector('#df-c2f6153c-755f-497f-8c5f-db07a290eb17');\n",
              "          const dataTable =\n",
              "            await google.colab.kernel.invokeFunction('convertToInteractive',\n",
              "                                                     [key], {});\n",
              "          if (!dataTable) return;\n",
              "\n",
              "          const docLinkHtml = 'Like what you see? Visit the ' +\n",
              "            '<a target=\"_blank\" href=https://colab.research.google.com/notebooks/data_table.ipynb>data table notebook</a>'\n",
              "            + ' to learn more about interactive tables.';\n",
              "          element.innerHTML = '';\n",
              "          dataTable['output_type'] = 'display_data';\n",
              "          await google.colab.output.renderOutput(dataTable, element);\n",
              "          const docLink = document.createElement('div');\n",
              "          docLink.innerHTML = docLinkHtml;\n",
              "          element.appendChild(docLink);\n",
              "        }\n",
              "      </script>\n",
              "    </div>\n",
              "  </div>\n",
              "  "
            ],
            "text/plain": [
              "   Sno  SICK_id Flipped (Yes/No)                                      Premise  \\\n",
              "0    0      129               No             an old man is sitting in a field   \n",
              "1    1      129               No         an old man is not sitting in a field   \n",
              "2    2      129               No             an old man is sitting in a field   \n",
              "3    3      129               No         an old man is not sitting in a field   \n",
              "4    4      129               No  an old man is abnormally sitting in a field   \n",
              "\n",
              "                        Hypothesis    Modifier Premise/Hypothesis/Both  \\\n",
              "0      a man is sitting in a field        NONE                    NONE   \n",
              "1      a man is sitting in a field         not                 Premise   \n",
              "2  a man is not sitting in a field         not              Hypothesis   \n",
              "3  a man is not sitting in a field         not                    Both   \n",
              "4      a man is sitting in a field  abnormally                 Premise   \n",
              "\n",
              "  Part of Premise/Hypothesis Modified       Label  \n",
              "0                                NONE  Entailment  \n",
              "1                                Verb         NaN  \n",
              "2                                Verb         NaN  \n",
              "3                                Verb         NaN  \n",
              "4                                Verb         NaN  "
            ]
          },
          "execution_count": 22,
          "metadata": {},
          "output_type": "execute_result"
        }
      ],
      "source": [
        "vp.head()"
      ]
    },
    {
      "cell_type": "code",
      "execution_count": 24,
      "metadata": {
        "colab": {
          "base_uri": "https://localhost:8080/",
          "height": 206
        },
        "id": "oOfql9Vhk_wz",
        "outputId": "5f2a4e1b-d3b9-46f6-8417-cf6e67273051"
      },
      "outputs": [
        {
          "data": {
            "text/html": [
              "\n",
              "  <div id=\"df-db85c255-5da8-4ccc-ba1e-8b747afb90a9\">\n",
              "    <div class=\"colab-df-container\">\n",
              "      <div>\n",
              "<style scoped>\n",
              "    .dataframe tbody tr th:only-of-type {\n",
              "        vertical-align: middle;\n",
              "    }\n",
              "\n",
              "    .dataframe tbody tr th {\n",
              "        vertical-align: top;\n",
              "    }\n",
              "\n",
              "    .dataframe thead th {\n",
              "        text-align: right;\n",
              "    }\n",
              "</style>\n",
              "<table border=\"1\" class=\"dataframe\">\n",
              "  <thead>\n",
              "    <tr style=\"text-align: right;\">\n",
              "      <th></th>\n",
              "      <th>Sno</th>\n",
              "      <th>SICK_id</th>\n",
              "      <th>Flipped (Yes/No)</th>\n",
              "      <th>Premise</th>\n",
              "      <th>Hypothesis</th>\n",
              "      <th>Modifier</th>\n",
              "      <th>Premise/Hypothesis/Both</th>\n",
              "      <th>Part of Premise/Hypothesis Modified</th>\n",
              "      <th>Label</th>\n",
              "    </tr>\n",
              "  </thead>\n",
              "  <tbody>\n",
              "    <tr>\n",
              "      <th>0</th>\n",
              "      <td>0</td>\n",
              "      <td>129</td>\n",
              "      <td>No</td>\n",
              "      <td>an old man is sitting in a field</td>\n",
              "      <td>a man is sitting in a field</td>\n",
              "      <td>NONE</td>\n",
              "      <td>NONE</td>\n",
              "      <td>NONE</td>\n",
              "      <td>Entailment</td>\n",
              "    </tr>\n",
              "    <tr>\n",
              "      <th>1</th>\n",
              "      <td>1</td>\n",
              "      <td>129</td>\n",
              "      <td>No</td>\n",
              "      <td>every old man is sitting in a field</td>\n",
              "      <td>a man is sitting in a field</td>\n",
              "      <td>every</td>\n",
              "      <td>Premise</td>\n",
              "      <td>Subject</td>\n",
              "      <td>NaN</td>\n",
              "    </tr>\n",
              "    <tr>\n",
              "      <th>2</th>\n",
              "      <td>2</td>\n",
              "      <td>129</td>\n",
              "      <td>No</td>\n",
              "      <td>an old man is sitting in a field</td>\n",
              "      <td>every man is sitting in a field</td>\n",
              "      <td>every</td>\n",
              "      <td>Hypothesis</td>\n",
              "      <td>Subject</td>\n",
              "      <td>NaN</td>\n",
              "    </tr>\n",
              "    <tr>\n",
              "      <th>3</th>\n",
              "      <td>3</td>\n",
              "      <td>129</td>\n",
              "      <td>No</td>\n",
              "      <td>every old man is sitting in a field</td>\n",
              "      <td>every man is sitting in a field</td>\n",
              "      <td>every</td>\n",
              "      <td>Both</td>\n",
              "      <td>Subject</td>\n",
              "      <td>NaN</td>\n",
              "    </tr>\n",
              "    <tr>\n",
              "      <th>4</th>\n",
              "      <td>4</td>\n",
              "      <td>129</td>\n",
              "      <td>No</td>\n",
              "      <td>some old man is sitting in a field</td>\n",
              "      <td>a man is sitting in a field</td>\n",
              "      <td>some</td>\n",
              "      <td>Premise</td>\n",
              "      <td>Subject</td>\n",
              "      <td>NaN</td>\n",
              "    </tr>\n",
              "  </tbody>\n",
              "</table>\n",
              "</div>\n",
              "      <button class=\"colab-df-convert\" onclick=\"convertToInteractive('df-db85c255-5da8-4ccc-ba1e-8b747afb90a9')\"\n",
              "              title=\"Convert this dataframe to an interactive table.\"\n",
              "              style=\"display:none;\">\n",
              "        \n",
              "  <svg xmlns=\"http://www.w3.org/2000/svg\" height=\"24px\"viewBox=\"0 0 24 24\"\n",
              "       width=\"24px\">\n",
              "    <path d=\"M0 0h24v24H0V0z\" fill=\"none\"/>\n",
              "    <path d=\"M18.56 5.44l.94 2.06.94-2.06 2.06-.94-2.06-.94-.94-2.06-.94 2.06-2.06.94zm-11 1L8.5 8.5l.94-2.06 2.06-.94-2.06-.94L8.5 2.5l-.94 2.06-2.06.94zm10 10l.94 2.06.94-2.06 2.06-.94-2.06-.94-.94-2.06-.94 2.06-2.06.94z\"/><path d=\"M17.41 7.96l-1.37-1.37c-.4-.4-.92-.59-1.43-.59-.52 0-1.04.2-1.43.59L10.3 9.45l-7.72 7.72c-.78.78-.78 2.05 0 2.83L4 21.41c.39.39.9.59 1.41.59.51 0 1.02-.2 1.41-.59l7.78-7.78 2.81-2.81c.8-.78.8-2.07 0-2.86zM5.41 20L4 18.59l7.72-7.72 1.47 1.35L5.41 20z\"/>\n",
              "  </svg>\n",
              "      </button>\n",
              "      \n",
              "  <style>\n",
              "    .colab-df-container {\n",
              "      display:flex;\n",
              "      flex-wrap:wrap;\n",
              "      gap: 12px;\n",
              "    }\n",
              "\n",
              "    .colab-df-convert {\n",
              "      background-color: #E8F0FE;\n",
              "      border: none;\n",
              "      border-radius: 50%;\n",
              "      cursor: pointer;\n",
              "      display: none;\n",
              "      fill: #1967D2;\n",
              "      height: 32px;\n",
              "      padding: 0 0 0 0;\n",
              "      width: 32px;\n",
              "    }\n",
              "\n",
              "    .colab-df-convert:hover {\n",
              "      background-color: #E2EBFA;\n",
              "      box-shadow: 0px 1px 2px rgba(60, 64, 67, 0.3), 0px 1px 3px 1px rgba(60, 64, 67, 0.15);\n",
              "      fill: #174EA6;\n",
              "    }\n",
              "\n",
              "    [theme=dark] .colab-df-convert {\n",
              "      background-color: #3B4455;\n",
              "      fill: #D2E3FC;\n",
              "    }\n",
              "\n",
              "    [theme=dark] .colab-df-convert:hover {\n",
              "      background-color: #434B5C;\n",
              "      box-shadow: 0px 1px 3px 1px rgba(0, 0, 0, 0.15);\n",
              "      filter: drop-shadow(0px 1px 2px rgba(0, 0, 0, 0.3));\n",
              "      fill: #FFFFFF;\n",
              "    }\n",
              "  </style>\n",
              "\n",
              "      <script>\n",
              "        const buttonEl =\n",
              "          document.querySelector('#df-db85c255-5da8-4ccc-ba1e-8b747afb90a9 button.colab-df-convert');\n",
              "        buttonEl.style.display =\n",
              "          google.colab.kernel.accessAllowed ? 'block' : 'none';\n",
              "\n",
              "        async function convertToInteractive(key) {\n",
              "          const element = document.querySelector('#df-db85c255-5da8-4ccc-ba1e-8b747afb90a9');\n",
              "          const dataTable =\n",
              "            await google.colab.kernel.invokeFunction('convertToInteractive',\n",
              "                                                     [key], {});\n",
              "          if (!dataTable) return;\n",
              "\n",
              "          const docLinkHtml = 'Like what you see? Visit the ' +\n",
              "            '<a target=\"_blank\" href=https://colab.research.google.com/notebooks/data_table.ipynb>data table notebook</a>'\n",
              "            + ' to learn more about interactive tables.';\n",
              "          element.innerHTML = '';\n",
              "          dataTable['output_type'] = 'display_data';\n",
              "          await google.colab.output.renderOutput(dataTable, element);\n",
              "          const docLink = document.createElement('div');\n",
              "          docLink.innerHTML = docLinkHtml;\n",
              "          element.appendChild(docLink);\n",
              "        }\n",
              "      </script>\n",
              "    </div>\n",
              "  </div>\n",
              "  "
            ],
            "text/plain": [
              "   Sno  SICK_id Flipped (Yes/No)                              Premise  \\\n",
              "0    0      129               No     an old man is sitting in a field   \n",
              "1    1      129               No  every old man is sitting in a field   \n",
              "2    2      129               No     an old man is sitting in a field   \n",
              "3    3      129               No  every old man is sitting in a field   \n",
              "4    4      129               No   some old man is sitting in a field   \n",
              "\n",
              "                        Hypothesis Modifier Premise/Hypothesis/Both  \\\n",
              "0      a man is sitting in a field     NONE                    NONE   \n",
              "1      a man is sitting in a field    every                 Premise   \n",
              "2  every man is sitting in a field    every              Hypothesis   \n",
              "3  every man is sitting in a field    every                    Both   \n",
              "4      a man is sitting in a field     some                 Premise   \n",
              "\n",
              "  Part of Premise/Hypothesis Modified       Label  \n",
              "0                                NONE  Entailment  \n",
              "1                             Subject         NaN  \n",
              "2                             Subject         NaN  \n",
              "3                             Subject         NaN  \n",
              "4                             Subject         NaN  "
            ]
          },
          "execution_count": 24,
          "metadata": {},
          "output_type": "execute_result"
        }
      ],
      "source": [
        "np.head()"
      ]
    },
    {
      "cell_type": "code",
      "execution_count": 25,
      "metadata": {
        "colab": {
          "base_uri": "https://localhost:8080/",
          "height": 206
        },
        "id": "bTKwbl-8lBR7",
        "outputId": "68b436d6-c0a1-4432-8e2e-315584e5c856"
      },
      "outputs": [
        {
          "data": {
            "text/html": [
              "\n",
              "  <div id=\"df-2b6b4ad1-8670-4c62-9b65-18d379bbd030\">\n",
              "    <div class=\"colab-df-container\">\n",
              "      <div>\n",
              "<style scoped>\n",
              "    .dataframe tbody tr th:only-of-type {\n",
              "        vertical-align: middle;\n",
              "    }\n",
              "\n",
              "    .dataframe tbody tr th {\n",
              "        vertical-align: top;\n",
              "    }\n",
              "\n",
              "    .dataframe thead th {\n",
              "        text-align: right;\n",
              "    }\n",
              "</style>\n",
              "<table border=\"1\" class=\"dataframe\">\n",
              "  <thead>\n",
              "    <tr style=\"text-align: right;\">\n",
              "      <th></th>\n",
              "      <th>Sno</th>\n",
              "      <th>SICK_id</th>\n",
              "      <th>Flipped (Yes/No)</th>\n",
              "      <th>Premise</th>\n",
              "      <th>Hypothesis</th>\n",
              "      <th>Modifier</th>\n",
              "      <th>Premise/Hypothesis/Both</th>\n",
              "      <th>Part of Premise/Hypothesis Modified</th>\n",
              "      <th>Label</th>\n",
              "    </tr>\n",
              "  </thead>\n",
              "  <tbody>\n",
              "    <tr>\n",
              "      <th>0</th>\n",
              "      <td>0</td>\n",
              "      <td>129</td>\n",
              "      <td>No</td>\n",
              "      <td>an old man is sitting in a field</td>\n",
              "      <td>a man is sitting in a field\\n</td>\n",
              "      <td>NONE</td>\n",
              "      <td>NONE</td>\n",
              "      <td>NONE</td>\n",
              "      <td>Entailment</td>\n",
              "    </tr>\n",
              "    <tr>\n",
              "      <th>1</th>\n",
              "      <td>1</td>\n",
              "      <td>129</td>\n",
              "      <td>No</td>\n",
              "      <td>an old man is sitting in a good field</td>\n",
              "      <td>a man is sitting in a field\\n</td>\n",
              "      <td>good</td>\n",
              "      <td>Premise</td>\n",
              "      <td>Object</td>\n",
              "      <td>NaN</td>\n",
              "    </tr>\n",
              "    <tr>\n",
              "      <th>2</th>\n",
              "      <td>2</td>\n",
              "      <td>129</td>\n",
              "      <td>No</td>\n",
              "      <td>an old man is sitting in a field</td>\n",
              "      <td>a man is sitting in a good field</td>\n",
              "      <td>good</td>\n",
              "      <td>Hypothesis</td>\n",
              "      <td>Object</td>\n",
              "      <td>NaN</td>\n",
              "    </tr>\n",
              "    <tr>\n",
              "      <th>3</th>\n",
              "      <td>3</td>\n",
              "      <td>129</td>\n",
              "      <td>No</td>\n",
              "      <td>an old man is sitting in a good field</td>\n",
              "      <td>a man is sitting in a good field</td>\n",
              "      <td>good</td>\n",
              "      <td>Both</td>\n",
              "      <td>Object</td>\n",
              "      <td>NaN</td>\n",
              "    </tr>\n",
              "    <tr>\n",
              "      <th>4</th>\n",
              "      <td>4</td>\n",
              "      <td>129</td>\n",
              "      <td>No</td>\n",
              "      <td>an old man is sitting in all but one field</td>\n",
              "      <td>a man is sitting in a field\\n</td>\n",
              "      <td>all but one</td>\n",
              "      <td>Premise</td>\n",
              "      <td>Object</td>\n",
              "      <td>NaN</td>\n",
              "    </tr>\n",
              "  </tbody>\n",
              "</table>\n",
              "</div>\n",
              "      <button class=\"colab-df-convert\" onclick=\"convertToInteractive('df-2b6b4ad1-8670-4c62-9b65-18d379bbd030')\"\n",
              "              title=\"Convert this dataframe to an interactive table.\"\n",
              "              style=\"display:none;\">\n",
              "        \n",
              "  <svg xmlns=\"http://www.w3.org/2000/svg\" height=\"24px\"viewBox=\"0 0 24 24\"\n",
              "       width=\"24px\">\n",
              "    <path d=\"M0 0h24v24H0V0z\" fill=\"none\"/>\n",
              "    <path d=\"M18.56 5.44l.94 2.06.94-2.06 2.06-.94-2.06-.94-.94-2.06-.94 2.06-2.06.94zm-11 1L8.5 8.5l.94-2.06 2.06-.94-2.06-.94L8.5 2.5l-.94 2.06-2.06.94zm10 10l.94 2.06.94-2.06 2.06-.94-2.06-.94-.94-2.06-.94 2.06-2.06.94z\"/><path d=\"M17.41 7.96l-1.37-1.37c-.4-.4-.92-.59-1.43-.59-.52 0-1.04.2-1.43.59L10.3 9.45l-7.72 7.72c-.78.78-.78 2.05 0 2.83L4 21.41c.39.39.9.59 1.41.59.51 0 1.02-.2 1.41-.59l7.78-7.78 2.81-2.81c.8-.78.8-2.07 0-2.86zM5.41 20L4 18.59l7.72-7.72 1.47 1.35L5.41 20z\"/>\n",
              "  </svg>\n",
              "      </button>\n",
              "      \n",
              "  <style>\n",
              "    .colab-df-container {\n",
              "      display:flex;\n",
              "      flex-wrap:wrap;\n",
              "      gap: 12px;\n",
              "    }\n",
              "\n",
              "    .colab-df-convert {\n",
              "      background-color: #E8F0FE;\n",
              "      border: none;\n",
              "      border-radius: 50%;\n",
              "      cursor: pointer;\n",
              "      display: none;\n",
              "      fill: #1967D2;\n",
              "      height: 32px;\n",
              "      padding: 0 0 0 0;\n",
              "      width: 32px;\n",
              "    }\n",
              "\n",
              "    .colab-df-convert:hover {\n",
              "      background-color: #E2EBFA;\n",
              "      box-shadow: 0px 1px 2px rgba(60, 64, 67, 0.3), 0px 1px 3px 1px rgba(60, 64, 67, 0.15);\n",
              "      fill: #174EA6;\n",
              "    }\n",
              "\n",
              "    [theme=dark] .colab-df-convert {\n",
              "      background-color: #3B4455;\n",
              "      fill: #D2E3FC;\n",
              "    }\n",
              "\n",
              "    [theme=dark] .colab-df-convert:hover {\n",
              "      background-color: #434B5C;\n",
              "      box-shadow: 0px 1px 3px 1px rgba(0, 0, 0, 0.15);\n",
              "      filter: drop-shadow(0px 1px 2px rgba(0, 0, 0, 0.3));\n",
              "      fill: #FFFFFF;\n",
              "    }\n",
              "  </style>\n",
              "\n",
              "      <script>\n",
              "        const buttonEl =\n",
              "          document.querySelector('#df-2b6b4ad1-8670-4c62-9b65-18d379bbd030 button.colab-df-convert');\n",
              "        buttonEl.style.display =\n",
              "          google.colab.kernel.accessAllowed ? 'block' : 'none';\n",
              "\n",
              "        async function convertToInteractive(key) {\n",
              "          const element = document.querySelector('#df-2b6b4ad1-8670-4c62-9b65-18d379bbd030');\n",
              "          const dataTable =\n",
              "            await google.colab.kernel.invokeFunction('convertToInteractive',\n",
              "                                                     [key], {});\n",
              "          if (!dataTable) return;\n",
              "\n",
              "          const docLinkHtml = 'Like what you see? Visit the ' +\n",
              "            '<a target=\"_blank\" href=https://colab.research.google.com/notebooks/data_table.ipynb>data table notebook</a>'\n",
              "            + ' to learn more about interactive tables.';\n",
              "          element.innerHTML = '';\n",
              "          dataTable['output_type'] = 'display_data';\n",
              "          await google.colab.output.renderOutput(dataTable, element);\n",
              "          const docLink = document.createElement('div');\n",
              "          docLink.innerHTML = docLinkHtml;\n",
              "          element.appendChild(docLink);\n",
              "        }\n",
              "      </script>\n",
              "    </div>\n",
              "  </div>\n",
              "  "
            ],
            "text/plain": [
              "   Sno  SICK_id Flipped (Yes/No)                                     Premise  \\\n",
              "0    0      129               No            an old man is sitting in a field   \n",
              "1    1      129               No       an old man is sitting in a good field   \n",
              "2    2      129               No            an old man is sitting in a field   \n",
              "3    3      129               No       an old man is sitting in a good field   \n",
              "4    4      129               No  an old man is sitting in all but one field   \n",
              "\n",
              "                         Hypothesis     Modifier Premise/Hypothesis/Both  \\\n",
              "0     a man is sitting in a field\\n         NONE                    NONE   \n",
              "1     a man is sitting in a field\\n         good                 Premise   \n",
              "2  a man is sitting in a good field         good              Hypothesis   \n",
              "3  a man is sitting in a good field         good                    Both   \n",
              "4     a man is sitting in a field\\n  all but one                 Premise   \n",
              "\n",
              "  Part of Premise/Hypothesis Modified       Label  \n",
              "0                                NONE  Entailment  \n",
              "1                              Object         NaN  \n",
              "2                              Object         NaN  \n",
              "3                              Object         NaN  \n",
              "4                              Object         NaN  "
            ]
          },
          "execution_count": 25,
          "metadata": {},
          "output_type": "execute_result"
        }
      ],
      "source": [
        "obj.head()"
      ]
    },
    {
      "cell_type": "code",
      "execution_count": 26,
      "metadata": {
        "colab": {
          "base_uri": "https://localhost:8080/"
        },
        "id": "k8btKgrwrbad",
        "outputId": "060b9335-3fc4-4bbd-fb2f-15731c829951"
      },
      "outputs": [
        {
          "data": {
            "text/plain": [
              "Index(['Sno', 'SICK_id', 'Flipped (Yes/No)', 'Premise', 'Hypothesis',\n",
              "       'Modifier', 'Premise/Hypothesis/Both',\n",
              "       'Part of Premise/Hypothesis Modified', 'Label'],\n",
              "      dtype='object')"
            ]
          },
          "execution_count": 26,
          "metadata": {},
          "output_type": "execute_result"
        }
      ],
      "source": [
        "obj.columns"
      ]
    },
    {
      "cell_type": "code",
      "execution_count": 27,
      "metadata": {
        "colab": {
          "base_uri": "https://localhost:8080/"
        },
        "id": "V_zKh3FsrdGu",
        "outputId": "bf4f85ef-517e-45c9-b90f-073c4c01ec40"
      },
      "outputs": [
        {
          "data": {
            "text/plain": [
              "Index(['Sno', 'SICK_id', 'Flipped (Yes/No)', 'Premise', 'Hypothesis',\n",
              "       'Modifier', 'Premise/Hypothesis/Both',\n",
              "       'Part of Premise/Hypothesis Modified', 'Label'],\n",
              "      dtype='object')"
            ]
          },
          "execution_count": 27,
          "metadata": {},
          "output_type": "execute_result"
        }
      ],
      "source": [
        "vp.columns"
      ]
    },
    {
      "cell_type": "code",
      "execution_count": 28,
      "metadata": {
        "id": "1V4eThbwrg5F"
      },
      "outputs": [],
      "source": [
        "# vp = vp.rename(columns={'premise':'Premise', 'hypothesis':'Hypothesis', 'Modifier':'Modifier', 'Premise/Hypothesis/Both':'Premise/Hypothesis/Both',\n",
        "#        'Part of Premise/Hypothesis Modified':'Part of Premise/Hypothesis Modified', 'SICK_id':'SICK_id'})\n",
        "# np = np.rename(columns={'premise':'Premise', 'hypothesis':'Hypothesis', 'Modifier':'Modifier', 'Premise/Hypothesis/Both':'Premise/Hypothesis/Both',\n",
        "#        'Part of Premise/Hypothesis Modified':'Part of Premise/Hypothesis Modified', 'SICK_id':'SICK_id'})"
      ]
    },
    {
      "cell_type": "code",
      "execution_count": 29,
      "metadata": {
        "colab": {
          "base_uri": "https://localhost:8080/"
        },
        "id": "OAcZwB-Bq5xX",
        "outputId": "f9812c19-adc3-46ff-d6d2-a3ff7ad74ea1"
      },
      "outputs": [
        {
          "name": "stderr",
          "output_type": "stream",
          "text": [
            "<ipython-input-29-e9fb14b85e68>:2: SettingWithCopyWarning: \n",
            "A value is trying to be set on a copy of a slice from a DataFrame.\n",
            "Try using .loc[row_indexer,col_indexer] = value instead\n",
            "\n",
            "See the caveats in the documentation: https://pandas.pydata.org/pandas-docs/stable/user_guide/indexing.html#returning-a-view-versus-a-copy\n",
            "  sick['Modifier'] = \"NONE\"\n",
            "<ipython-input-29-e9fb14b85e68>:3: SettingWithCopyWarning: \n",
            "A value is trying to be set on a copy of a slice from a DataFrame.\n",
            "Try using .loc[row_indexer,col_indexer] = value instead\n",
            "\n",
            "See the caveats in the documentation: https://pandas.pydata.org/pandas-docs/stable/user_guide/indexing.html#returning-a-view-versus-a-copy\n",
            "  sick['Premise/Hypothesis/Both'] = \"NONE\"\n",
            "<ipython-input-29-e9fb14b85e68>:4: SettingWithCopyWarning: \n",
            "A value is trying to be set on a copy of a slice from a DataFrame.\n",
            "Try using .loc[row_indexer,col_indexer] = value instead\n",
            "\n",
            "See the caveats in the documentation: https://pandas.pydata.org/pandas-docs/stable/user_guide/indexing.html#returning-a-view-versus-a-copy\n",
            "  sick['Part of Premise/Hypothesis Modified'] = \"NONE\"\n"
          ]
        }
      ],
      "source": [
        "sick = df[['Premise','Hypothesis','SICK_id']]\n",
        "sick['Modifier'] = \"NONE\"\n",
        "sick['Premise/Hypothesis/Both'] = \"NONE\"\n",
        "sick['Part of Premise/Hypothesis Modified'] = \"NONE\""
      ]
    },
    {
      "cell_type": "code",
      "execution_count": 32,
      "metadata": {
        "id": "7A_JyGqDlFux"
      },
      "outputs": [],
      "source": [
        "all_rows = []\n",
        "concat_df = pd.concat([np, vp, obj ])\n",
        "concat_df.to_excel(os.path.join(path,\"all_modified_sentences.xlsx\"))"
      ]
    },
    {
      "cell_type": "code",
      "execution_count": 41,
      "metadata": {
        "id": "xjJTmhHxAcCC"
      },
      "outputs": [],
      "source": [
        "gp = concat_df.groupby(['SICK_id','Flipped (Yes/No)'])\n",
        "groups = list(gp.groups.keys())"
      ]
    },
    {
      "cell_type": "code",
      "execution_count": 43,
      "metadata": {
        "colab": {
          "base_uri": "https://localhost:8080/"
        },
        "id": "DZ_ky9TABIpK",
        "outputId": "f8e45526-8e01-4fce-9639-60cbec19eca6"
      },
      "outputs": [
        {
          "data": {
            "text/plain": [
              "[(90, 'No'),\n",
              " (116, 'No'),\n",
              " (129, 'No'),\n",
              " (129, 'Yes'),\n",
              " (130, 'No'),\n",
              " (150, 'No'),\n",
              " (167, 'No'),\n",
              " (167, 'Yes'),\n",
              " (168, 'No'),\n",
              " (211, 'No'),\n",
              " (211, 'Yes'),\n",
              " (212, 'No'),\n",
              " (273, 'No'),\n",
              " (273, 'Yes'),\n",
              " (342, 'No'),\n",
              " (443, 'No'),\n",
              " (455, 'No'),\n",
              " (455, 'Yes'),\n",
              " (751, 'No'),\n",
              " (1131, 'No')]"
            ]
          },
          "execution_count": 43,
          "metadata": {},
          "output_type": "execute_result"
        }
      ],
      "source": [
        "groups"
      ]
    },
    {
      "cell_type": "markdown",
      "metadata": {
        "id": "uFWrLkgvBf8I"
      },
      "source": [
        "### Flipped sentences Vs Rest of the sentences that preserve SICK label as well as bidirectional Entailment Relation \n",
        "#### Entailment Relations = [\"Entailment\", \"Contradiction\", \"Neutral\"]"
      ]
    },
    {
      "cell_type": "code",
      "execution_count": 50,
      "metadata": {
        "colab": {
          "base_uri": "https://localhost:8080/"
        },
        "id": "LlcCY-LzA4dJ",
        "outputId": "5c3584a0-4f48-4e31-d532-a0b3660f1245"
      },
      "outputs": [
        {
          "data": {
            "text/plain": [
              "(True, True)"
            ]
          },
          "execution_count": 50,
          "metadata": {},
          "output_type": "execute_result"
        }
      ],
      "source": [
        "filpped_groups = [g for g in groups if g[1] == 'Yes']\n",
        "final_groups = [g for g in groups if g[1] == 'No']\n",
        "len(filpped_groups) == 5, len(final_groups) == 15"
      ]
    },
    {
      "cell_type": "code",
      "execution_count": 53,
      "metadata": {
        "colab": {
          "base_uri": "https://localhost:8080/"
        },
        "id": "ApWy6EoRDPvW",
        "outputId": "65f0b6f7-e221-4368-eec3-8e37aa8c11be"
      },
      "outputs": [
        {
          "data": {
            "text/plain": [
              "pandas.core.frame.DataFrame"
            ]
          },
          "execution_count": 53,
          "metadata": {},
          "output_type": "execute_result"
        }
      ],
      "source": [
        "type(gp.get_group(final_groups[0]))"
      ]
    },
    {
      "cell_type": "code",
      "execution_count": 55,
      "metadata": {
        "colab": {
          "base_uri": "https://localhost:8080/"
        },
        "id": "cg0-RFT2FPCE",
        "outputId": "7b34c24b-db45-4e9d-ef78-72e41d5d081e"
      },
      "outputs": [
        {
          "data": {
            "text/plain": [
              "[(90, 'No'), (116, 'No'), (129, 'No'), (130, 'No')]"
            ]
          },
          "execution_count": 55,
          "metadata": {},
          "output_type": "execute_result"
        }
      ],
      "source": [
        "final_groups[0:4]"
      ]
    },
    {
      "cell_type": "markdown",
      "metadata": {
        "id": "jUUDLGn7_vYj"
      },
      "source": [
        "### Sliding window for block distribution\n",
        "Pseudo code:\n",
        " - Start by selecting first 8\n",
        " - Stride = 4 (overlap =4)\n",
        " - Select next 8 starting from 4th (count starting at 0 per stride)\n",
        " - Save to "
      ]
    },
    {
      "cell_type": "code",
      "execution_count": 207,
      "metadata": {
        "id": "F73akHG0th0a"
      },
      "outputs": [],
      "source": [
        "window_size = 8\n",
        "stride = 3\n",
        "annotator1 = pd.DataFrame()"
      ]
    },
    {
      "cell_type": "code",
      "execution_count": 235,
      "metadata": {
        "colab": {
          "base_uri": "https://localhost:8080/"
        },
        "id": "gpZw5GeAL6sw",
        "outputId": "c1dacc8f-db0a-4df4-c5c1-f531de8e7f90"
      },
      "outputs": [
        {
          "name": "stdout",
          "output_type": "stream",
          "text": [
            "0 8 8\n",
            "3 11 8\n",
            "6 14 8\n",
            "6\n"
          ]
        }
      ],
      "source": [
        "import random\n",
        "grouped_keys = []\n",
        "j = 0\n",
        "for i in range(0,len(final_groups)-8,3):\n",
        "  print(i, i+8, i-i+8)\n",
        "  grouped_keys.append({j:final_groups[i:i+8]})\n",
        "  j += 1\n",
        "\n",
        "print(i)\n",
        "grouped_keys.append({j:final_groups[0:4]+final_groups[i+4:i+8]})\n",
        "grouped_keys.append({j:final_groups[2:6]+final_groups[i+4:i+8]})"
      ]
    },
    {
      "cell_type": "code",
      "execution_count": 236,
      "metadata": {
        "colab": {
          "base_uri": "https://localhost:8080/"
        },
        "id": "FPLHT8JkmRXR",
        "outputId": "e2289a8c-12ee-4d0a-a715-f0fb7e607531"
      },
      "outputs": [
        {
          "name": "stdout",
          "output_type": "stream",
          "text": [
            "0 8 [(455, 'No'), (212, 'No'), (342, 'No'), (129, 'No'), (167, 'No'), (150, 'No'), (443, 'No'), (90, 'No')]\n",
            "0 1 {(455, 'No'), (342, 'No'), (212, 'No')}\n",
            "1 8 [(129, 'No'), (167, 'No'), (150, 'No'), (443, 'No'), (90, 'No'), (116, 'No'), (751, 'No'), (130, 'No')]\n",
            "1 2 {(150, 'No'), (167, 'No'), (129, 'No')}\n",
            "2 8 [(443, 'No'), (90, 'No'), (116, 'No'), (751, 'No'), (130, 'No'), (273, 'No'), (168, 'No'), (1131, 'No')]\n",
            "2 3 {(443, 'No'), (751, 'No'), (116, 'No'), (90, 'No')}\n",
            "3 8 [(455, 'No'), (212, 'No'), (342, 'No'), (129, 'No'), (130, 'No'), (273, 'No'), (168, 'No'), (1131, 'No')]\n",
            "3 4 {(455, 'No'), (212, 'No')}\n",
            "3 8 [(342, 'No'), (129, 'No'), (167, 'No'), (150, 'No'), (130, 'No'), (273, 'No'), (168, 'No'), (1131, 'No')]\n",
            "4 0 {(130, 'No'), (1131, 'No'), (273, 'No'), (168, 'No')}\n"
          ]
        }
      ],
      "source": [
        "s = set()\n",
        "j = 0\n",
        "#overlap atmost 4 because window size is > half of total number of examples\n",
        "for i,a in enumerate(grouped_keys):\n",
        "  print(list(a.keys())[0], len(list(a.values())[0]), list(a.values())[0])\n",
        "  j = (j+1)%len(grouped_keys)\n",
        "  print(i,j,set(list(a.values())[0]).difference(list(grouped_keys[j].values())[0]))"
      ]
    },
    {
      "cell_type": "code",
      "execution_count": 237,
      "metadata": {
        "colab": {
          "base_uri": "https://localhost:8080/"
        },
        "id": "9NlUh2K9SL8U",
        "outputId": "5b0309ae-4556-4da4-a1db-661eb7574cff"
      },
      "outputs": [
        {
          "name": "stdout",
          "output_type": "stream",
          "text": [
            "[{0: [(455, 'No'), (212, 'No'), (342, 'No'), (129, 'No'), (167, 'No'), (150, 'No'), (443, 'No'), (90, 'No')]}, {1: [(129, 'No'), (167, 'No'), (150, 'No'), (443, 'No'), (90, 'No'), (116, 'No'), (751, 'No'), (130, 'No')]}, {2: [(443, 'No'), (90, 'No'), (116, 'No'), (751, 'No'), (130, 'No'), (273, 'No'), (168, 'No'), (1131, 'No')]}, {3: [(455, 'No'), (212, 'No'), (342, 'No'), (129, 'No'), (130, 'No'), (273, 'No'), (168, 'No'), (1131, 'No')]}, {3: [(342, 'No'), (129, 'No'), (167, 'No'), (150, 'No'), (130, 'No'), (273, 'No'), (168, 'No'), (1131, 'No')]}]\n"
          ]
        }
      ],
      "source": [
        "print(grouped_keys)"
      ]
    },
    {
      "cell_type": "code",
      "execution_count": 257,
      "metadata": {
        "colab": {
          "base_uri": "https://localhost:8080/"
        },
        "id": "IxGHEeVOl4cj",
        "outputId": "11dc952e-04c2-49b9-cd48-7fab5a5249d2"
      },
      "outputs": [
        {
          "name": "stdout",
          "output_type": "stream",
          "text": [
            "8\n",
            "837\n",
            "8\n",
            "837\n",
            "8\n",
            "846\n",
            "8\n",
            "837\n",
            "8\n",
            "837\n"
          ]
        }
      ],
      "source": [
        "\n",
        "i = 1\n",
        "for keys in grouped_keys:\n",
        "  this_set = list(keys.values())[0]\n",
        "  print(len(this_set))\n",
        "  this_annotator = None\n",
        "  j = 1\n",
        "  writer = pd.ExcelWriter(os.path.join(path,\"annotator_\"+str(i)+\".xlsx\"))\n",
        "  for group in this_set:\n",
        "    #print(group)\n",
        "    sheet_name = \"block_\"+str(j)+\"_\"+str(group[0])\n",
        "\n",
        "    if type(this_annotator) != pd.DataFrame:\n",
        "      this_annotator = gp.get_group(group)\n",
        "    j += 1\n",
        "    #write it to \n",
        "    this_annotator.to_excel(writer, sheet_name=sheet_name)\n",
        "  print(this_annotator.size)\n",
        "  writer.close()\n",
        "  i += 1"
      ]
    },
    {
      "cell_type": "code",
      "execution_count": 256,
      "metadata": {
        "id": "JX3KRZxCUBPd"
      },
      "outputs": [],
      "source": [
        "# pd.read_excel(os.path.join(path,\"annotator_\"+str(1)+\".xlsx\"))"
      ]
    }
  ],
  "metadata": {
    "colab": {
      "provenance": []
    },
    "kernelspec": {
      "display_name": "Python 3",
      "language": "python",
      "name": "python3"
    },
    "language_info": {
      "name": "python",
      "version": "3.10.8 (v3.10.8:aaaf517424, Oct 11 2022, 10:14:40) [Clang 13.0.0 (clang-1300.0.29.30)]"
    },
    "vscode": {
      "interpreter": {
        "hash": "aee8b7b246df8f9039afb4144a1f6fd8d2ca17a180786b69acc140d282b71a49"
      }
    }
  },
  "nbformat": 4,
  "nbformat_minor": 0
}
