{
  "cells": [
    {
      "attachments": {},
      "cell_type": "markdown",
      "metadata": {},
      "source": [
        "### Inter annotator agreements analysis for Round 1 Annotations for sentences with SUBJ (Leftmost NounPhrase) modifiers.\n",
        "- Author: Sushma Anand Akoju, Email: sushmaakoju@arizona.edu"
      ]
    },
    {
      "cell_type": "code",
      "execution_count": 133,
      "metadata": {
        "colab": {
          "base_uri": "https://localhost:8080/"
        },
        "id": "EedngCbb4F_O",
        "outputId": "a9358448-e0f0-4626-a071-f6cede8aa25e"
      },
      "outputs": [
        {
          "name": "stdout",
          "output_type": "stream",
          "text": [
            "Looking in indexes: https://pypi.org/simple, https://us-python.pkg.dev/colab-wheels/public/simple/\n",
            "Requirement already satisfied: agreement in /usr/local/lib/python3.7/dist-packages (0.1.1)\n",
            "Requirement already satisfied: numpy>=1.20.2 in /usr/local/lib/python3.7/dist-packages (from agreement) (1.21.6)\n"
          ]
        }
      ],
      "source": [
        "!pip install agreement"
      ]
    },
    {
      "cell_type": "code",
      "execution_count": 130,
      "metadata": {
        "colab": {
          "base_uri": "https://localhost:8080/"
        },
        "id": "MywJDfqJ3baR",
        "outputId": "5ed7e605-d205-41ad-9e94-5c6d5d6f20f2"
      },
      "outputs": [
        {
          "name": "stdout",
          "output_type": "stream",
          "text": [
            "Looking in indexes: https://pypi.org/simple, https://us-python.pkg.dev/colab-wheels/public/simple/\n",
            "Requirement already satisfied: krippendorff in /usr/local/lib/python3.7/dist-packages (0.5.1)\n",
            "Requirement already satisfied: numpy in /usr/local/lib/python3.7/dist-packages (from krippendorff) (1.21.6)\n"
          ]
        }
      ],
      "source": [
        "!pip install krippendorff"
      ]
    },
    {
      "cell_type": "code",
      "execution_count": 103,
      "metadata": {
        "colab": {
          "base_uri": "https://localhost:8080/"
        },
        "id": "RGbILV8n9glx",
        "outputId": "3c3faf3e-602b-44ec-e41d-5da6d4b7d62d"
      },
      "outputs": [
        {
          "name": "stdout",
          "output_type": "stream",
          "text": [
            "Looking in indexes: https://pypi.org/simple, https://us-python.pkg.dev/colab-wheels/public/simple/\n",
            "Requirement already satisfied: pycm in /usr/local/lib/python3.7/dist-packages (3.6)\n",
            "Requirement already satisfied: numpy>=1.9.0 in /usr/local/lib/python3.7/dist-packages (from pycm) (1.21.6)\n",
            "Requirement already satisfied: art>=1.8 in /usr/local/lib/python3.7/dist-packages (from pycm) (5.7)\n"
          ]
        }
      ],
      "source": [
        "!pip install pycm"
      ]
    },
    {
      "cell_type": "code",
      "execution_count": null,
      "metadata": {
        "id": "VwC9T44SYMA0"
      },
      "outputs": [],
      "source": [
        "from google.colab import drive\n",
        "\n",
        "drive.mount('/content/gdrive/', force_remount=True)\n",
        "%cd gdrive/MyDrive/Colab\\ Notebooks/natural\\-logic\n",
        "!ls"
      ]
    },
    {
      "cell_type": "code",
      "execution_count": 2,
      "metadata": {
        "id": "zHrwM-COPRiH"
      },
      "outputs": [],
      "source": [
        "import sklearn.metrics\n",
        "from sklearn.metrics import cohen_kappa_score"
      ]
    },
    {
      "cell_type": "code",
      "execution_count": 3,
      "metadata": {
        "id": "tPwtJfAEVqPn"
      },
      "outputs": [],
      "source": [
        "import pandas as pd\n",
        "import numpy as np"
      ]
    },
    {
      "cell_type": "code",
      "execution_count": 4,
      "metadata": {
        "id": "dVqnYFNGVqc4"
      },
      "outputs": [],
      "source": [
        "filename = \"/content/gdrive/MyDrive/Colab Notebooks/natural-logic/example-annotation-round-1.xlsx\""
      ]
    },
    {
      "cell_type": "code",
      "execution_count": 5,
      "metadata": {
        "colab": {
          "base_uri": "https://localhost:8080/"
        },
        "id": "inWyLLE6cI9g",
        "outputId": "03ce7b9c-9065-4e3e-d8b0-5e15263d65e7"
      },
      "outputs": [
        {
          "data": {
            "text/plain": [
              "True"
            ]
          },
          "execution_count": 5,
          "metadata": {},
          "output_type": "execute_result"
        }
      ],
      "source": [
        "import os\n",
        "os.path.exists(filename)"
      ]
    },
    {
      "cell_type": "code",
      "execution_count": 6,
      "metadata": {
        "id": "2TNUYfRYYyxG"
      },
      "outputs": [],
      "source": [
        "df = pd.read_excel(filename)\n",
        "names = df.columns"
      ]
    },
    {
      "cell_type": "markdown",
      "metadata": {
        "id": "U1CeNgfINmLb"
      },
      "source": [
        "## Labelling annotator names to numbers 1 through 5 respectively"
      ]
    },
    {
      "cell_type": "code",
      "execution_count": 7,
      "metadata": {
        "id": "B7HEeAgVuzvC"
      },
      "outputs": [],
      "source": [
        "df = df.rename(columns={'Mihai\\'s Labels':1, 'Eduardo\\'s label':2, 'Robert\\'s labels':3,\n",
        "       'Haris\\'s labels':4, 'Sushma\\'s labels':5})"
      ]
    },
    {
      "cell_type": "code",
      "execution_count": 8,
      "metadata": {
        "colab": {
          "base_uri": "https://localhost:8080/"
        },
        "id": "OBtC7sUYvN-5",
        "outputId": "1b7158d6-6137-46de-c6ef-aecdbcb20cf2"
      },
      "outputs": [
        {
          "data": {
            "text/plain": [
              "array(['FE', 'RE', 'Neutral', 'Equivalence', 'Cover', 'Negation'],\n",
              "      dtype=object)"
            ]
          },
          "execution_count": 8,
          "metadata": {},
          "output_type": "execute_result"
        }
      ],
      "source": [
        "df[5].unique()"
      ]
    },
    {
      "cell_type": "code",
      "execution_count": 9,
      "metadata": {
        "colab": {
          "base_uri": "https://localhost:8080/"
        },
        "id": "9EaiXv_jyqic",
        "outputId": "12c9838c-ec36-43e1-8b04-b561d99d9f53"
      },
      "outputs": [
        {
          "name": "stdout",
          "output_type": "stream",
          "text": [
            "<class 'pandas.core.frame.DataFrame'>\n",
            "RangeIndex: 37 entries, 0 to 36\n",
            "Data columns (total 5 columns):\n",
            " #   Column  Non-Null Count  Dtype \n",
            "---  ------  --------------  ----- \n",
            " 0   1       35 non-null     object\n",
            " 1   2       37 non-null     object\n",
            " 2   3       37 non-null     object\n",
            " 3   4       37 non-null     object\n",
            " 4   5       37 non-null     object\n",
            "dtypes: object(5)\n",
            "memory usage: 1.6+ KB\n"
          ]
        }
      ],
      "source": [
        "df.info()"
      ]
    },
    {
      "cell_type": "markdown",
      "metadata": {
        "id": "I9ejtvEgNvAq"
      },
      "source": [
        "## Labelling the labels names to numbers 1 through 7 respectively\n",
        "'FE':1 \n",
        "'RE':2 \n",
        "'Negation':3\n",
        "'Cover':4\n",
        "'Alternation':5\n",
        "'Equivalence':6\n",
        "'Neutral':7"
      ]
    },
    {
      "cell_type": "code",
      "execution_count": 10,
      "metadata": {
        "id": "1ckE1AlUvYYO"
      },
      "outputs": [],
      "source": [
        "label_map = {'FE':1, 'RE':2, 'Negation':3, 'Cover':4, 'Alternation':5, 'Equivalence':6, 'Neutral':7}"
      ]
    },
    {
      "cell_type": "code",
      "execution_count": 11,
      "metadata": {
        "id": "X6JXwSk1w5sj"
      },
      "outputs": [],
      "source": [
        "for i in range(1,6):\n",
        "  df[i] = df[i].map(label_map)"
      ]
    },
    {
      "cell_type": "code",
      "execution_count": 12,
      "metadata": {
        "colab": {
          "base_uri": "https://localhost:8080/",
          "height": 206
        },
        "id": "Gwg3Uz_3xWIa",
        "outputId": "ebfca962-bab2-4129-833c-95353fd13fe0"
      },
      "outputs": [
        {
          "data": {
            "text/html": [
              "\n",
              "  <div id=\"df-b9ab8095-91f4-4db1-9c87-d0b9593fb37c\">\n",
              "    <div class=\"colab-df-container\">\n",
              "      <div>\n",
              "<style scoped>\n",
              "    .dataframe tbody tr th:only-of-type {\n",
              "        vertical-align: middle;\n",
              "    }\n",
              "\n",
              "    .dataframe tbody tr th {\n",
              "        vertical-align: top;\n",
              "    }\n",
              "\n",
              "    .dataframe thead th {\n",
              "        text-align: right;\n",
              "    }\n",
              "</style>\n",
              "<table border=\"1\" class=\"dataframe\">\n",
              "  <thead>\n",
              "    <tr style=\"text-align: right;\">\n",
              "      <th></th>\n",
              "      <th>1</th>\n",
              "      <th>2</th>\n",
              "      <th>3</th>\n",
              "      <th>4</th>\n",
              "      <th>5</th>\n",
              "    </tr>\n",
              "  </thead>\n",
              "  <tbody>\n",
              "    <tr>\n",
              "      <th>0</th>\n",
              "      <td>1.0</td>\n",
              "      <td>1</td>\n",
              "      <td>1</td>\n",
              "      <td>1</td>\n",
              "      <td>1</td>\n",
              "    </tr>\n",
              "    <tr>\n",
              "      <th>1</th>\n",
              "      <td>1.0</td>\n",
              "      <td>1</td>\n",
              "      <td>1</td>\n",
              "      <td>1</td>\n",
              "      <td>1</td>\n",
              "    </tr>\n",
              "    <tr>\n",
              "      <th>2</th>\n",
              "      <td>2.0</td>\n",
              "      <td>2</td>\n",
              "      <td>2</td>\n",
              "      <td>2</td>\n",
              "      <td>2</td>\n",
              "    </tr>\n",
              "    <tr>\n",
              "      <th>3</th>\n",
              "      <td>2.0</td>\n",
              "      <td>2</td>\n",
              "      <td>2</td>\n",
              "      <td>2</td>\n",
              "      <td>2</td>\n",
              "    </tr>\n",
              "    <tr>\n",
              "      <th>4</th>\n",
              "      <td>1.0</td>\n",
              "      <td>6</td>\n",
              "      <td>1</td>\n",
              "      <td>1</td>\n",
              "      <td>1</td>\n",
              "    </tr>\n",
              "  </tbody>\n",
              "</table>\n",
              "</div>\n",
              "      <button class=\"colab-df-convert\" onclick=\"convertToInteractive('df-b9ab8095-91f4-4db1-9c87-d0b9593fb37c')\"\n",
              "              title=\"Convert this dataframe to an interactive table.\"\n",
              "              style=\"display:none;\">\n",
              "        \n",
              "  <svg xmlns=\"http://www.w3.org/2000/svg\" height=\"24px\"viewBox=\"0 0 24 24\"\n",
              "       width=\"24px\">\n",
              "    <path d=\"M0 0h24v24H0V0z\" fill=\"none\"/>\n",
              "    <path d=\"M18.56 5.44l.94 2.06.94-2.06 2.06-.94-2.06-.94-.94-2.06-.94 2.06-2.06.94zm-11 1L8.5 8.5l.94-2.06 2.06-.94-2.06-.94L8.5 2.5l-.94 2.06-2.06.94zm10 10l.94 2.06.94-2.06 2.06-.94-2.06-.94-.94-2.06-.94 2.06-2.06.94z\"/><path d=\"M17.41 7.96l-1.37-1.37c-.4-.4-.92-.59-1.43-.59-.52 0-1.04.2-1.43.59L10.3 9.45l-7.72 7.72c-.78.78-.78 2.05 0 2.83L4 21.41c.39.39.9.59 1.41.59.51 0 1.02-.2 1.41-.59l7.78-7.78 2.81-2.81c.8-.78.8-2.07 0-2.86zM5.41 20L4 18.59l7.72-7.72 1.47 1.35L5.41 20z\"/>\n",
              "  </svg>\n",
              "      </button>\n",
              "      \n",
              "  <style>\n",
              "    .colab-df-container {\n",
              "      display:flex;\n",
              "      flex-wrap:wrap;\n",
              "      gap: 12px;\n",
              "    }\n",
              "\n",
              "    .colab-df-convert {\n",
              "      background-color: #E8F0FE;\n",
              "      border: none;\n",
              "      border-radius: 50%;\n",
              "      cursor: pointer;\n",
              "      display: none;\n",
              "      fill: #1967D2;\n",
              "      height: 32px;\n",
              "      padding: 0 0 0 0;\n",
              "      width: 32px;\n",
              "    }\n",
              "\n",
              "    .colab-df-convert:hover {\n",
              "      background-color: #E2EBFA;\n",
              "      box-shadow: 0px 1px 2px rgba(60, 64, 67, 0.3), 0px 1px 3px 1px rgba(60, 64, 67, 0.15);\n",
              "      fill: #174EA6;\n",
              "    }\n",
              "\n",
              "    [theme=dark] .colab-df-convert {\n",
              "      background-color: #3B4455;\n",
              "      fill: #D2E3FC;\n",
              "    }\n",
              "\n",
              "    [theme=dark] .colab-df-convert:hover {\n",
              "      background-color: #434B5C;\n",
              "      box-shadow: 0px 1px 3px 1px rgba(0, 0, 0, 0.15);\n",
              "      filter: drop-shadow(0px 1px 2px rgba(0, 0, 0, 0.3));\n",
              "      fill: #FFFFFF;\n",
              "    }\n",
              "  </style>\n",
              "\n",
              "      <script>\n",
              "        const buttonEl =\n",
              "          document.querySelector('#df-b9ab8095-91f4-4db1-9c87-d0b9593fb37c button.colab-df-convert');\n",
              "        buttonEl.style.display =\n",
              "          google.colab.kernel.accessAllowed ? 'block' : 'none';\n",
              "\n",
              "        async function convertToInteractive(key) {\n",
              "          const element = document.querySelector('#df-b9ab8095-91f4-4db1-9c87-d0b9593fb37c');\n",
              "          const dataTable =\n",
              "            await google.colab.kernel.invokeFunction('convertToInteractive',\n",
              "                                                     [key], {});\n",
              "          if (!dataTable) return;\n",
              "\n",
              "          const docLinkHtml = 'Like what you see? Visit the ' +\n",
              "            '<a target=\"_blank\" href=https://colab.research.google.com/notebooks/data_table.ipynb>data table notebook</a>'\n",
              "            + ' to learn more about interactive tables.';\n",
              "          element.innerHTML = '';\n",
              "          dataTable['output_type'] = 'display_data';\n",
              "          await google.colab.output.renderOutput(dataTable, element);\n",
              "          const docLink = document.createElement('div');\n",
              "          docLink.innerHTML = docLinkHtml;\n",
              "          element.appendChild(docLink);\n",
              "        }\n",
              "      </script>\n",
              "    </div>\n",
              "  </div>\n",
              "  "
            ],
            "text/plain": [
              "     1  2  3  4  5\n",
              "0  1.0  1  1  1  1\n",
              "1  1.0  1  1  1  1\n",
              "2  2.0  2  2  2  2\n",
              "3  2.0  2  2  2  2\n",
              "4  1.0  6  1  1  1"
            ]
          },
          "execution_count": 12,
          "metadata": {},
          "output_type": "execute_result"
        }
      ],
      "source": [
        "df.head()"
      ]
    },
    {
      "cell_type": "markdown",
      "metadata": {
        "id": "1RIHNQ2zN0LO"
      },
      "source": [
        "## Remove a couple of rows (which are repetition of original premise hypothesis pair\n"
      ]
    },
    {
      "cell_type": "code",
      "execution_count": 13,
      "metadata": {
        "id": "xhbg1hMHyuY3"
      },
      "outputs": [],
      "source": [
        "df = df.dropna(axis='rows')"
      ]
    },
    {
      "cell_type": "code",
      "execution_count": 87,
      "metadata": {
        "colab": {
          "base_uri": "https://localhost:8080/"
        },
        "id": "4yv9MPEizV8k",
        "outputId": "a143fd99-d214-48fb-d4d5-a9d163807bc0"
      },
      "outputs": [
        {
          "name": "stdout",
          "output_type": "stream",
          "text": [
            "<class 'pandas.core.frame.DataFrame'>\n",
            "Int64Index: 35 entries, 0 to 36\n",
            "Data columns (total 5 columns):\n",
            " #   Column  Non-Null Count  Dtype  \n",
            "---  ------  --------------  -----  \n",
            " 0   1       35 non-null     float64\n",
            " 1   2       35 non-null     int64  \n",
            " 2   3       35 non-null     int64  \n",
            " 3   4       35 non-null     int64  \n",
            " 4   5       35 non-null     int64  \n",
            "dtypes: float64(1), int64(4)\n",
            "memory usage: 1.6 KB\n"
          ]
        }
      ],
      "source": [
        "df.info()"
      ]
    },
    {
      "cell_type": "code",
      "execution_count": 15,
      "metadata": {
        "id": "MjMIRDQ4xgFY"
      },
      "outputs": [],
      "source": [
        "target = ['FE', 'RE', 'Neutral', 'Equivalence', 'Cover', 'Negation']"
      ]
    },
    {
      "cell_type": "markdown",
      "metadata": {
        "id": "sgLPf7OsOBWF"
      },
      "source": [
        "## Cohen Kappa Score\n",
        "A pairwise inetr-rater reliability statistic. \n",
        "Considering probability of agreement by chance.\n",
        "We have 7 labels and 5 annotators and 35 observations in total.\n",
        "So labels are mutually exclusive. (Assume so for now)\n",
        "$p_0$ relative observed agreement\n",
        "$p_1$ hypothetical agreement by chance\n",
        "$p_0 = \\frac{1}{35^7} \\sum n_{k_1} n_{k_2} $  where $n_{k_1}$ and $n_{k_2}$ are number of times rater i (first or second) labelled k. \n",
        "\n",
        "These scores are calculated pairwise so at any time it is agreement between two raters."
      ]
    },
    {
      "cell_type": "code",
      "execution_count": 18,
      "metadata": {
        "colab": {
          "base_uri": "https://localhost:8080/"
        },
        "id": "mAm6xsYKxwXi",
        "outputId": "cee6a1f3-3f4b-48cd-8852-a759c9f26742"
      },
      "outputs": [
        {
          "name": "stdout",
          "output_type": "stream",
          "text": [
            "0.5257452574525746\n",
            "0.6893491124260356\n",
            "0.6801566579634465\n",
            "0.3939393939393938\n",
            "0.6634615384615385\n",
            "0.4795539033457248\n",
            "0.220183486238532\n",
            "0.6634615384615384\n",
            "0.5866141732283465\n",
            "0.3921852387843705\n",
            "0.4795539033457249\n",
            "0.5866141732283465\n",
            "0.23521850899742913\n"
          ]
        }
      ],
      "source": [
        "labellers = {1:'Mihai\\'s Labels', 2:'Eduardo\\'s label', 3:'Robert\\'s labels',\n",
        "       4:'Haris\\'s labels', 5:'Sushma\\'s labels'}\n",
        "cohen_kappa_scores = {}\n",
        "for i in range(1,5):\n",
        "  for j in range(2,6):\n",
        "    if i != j:\n",
        "      cohen_kappa_scores[(labellers[i], labellers[j])] = cohen_kappa_score(df[i], df[j])\n",
        "      print(cohen_kappa_scores[(labellers[i], labellers[j])])"
      ]
    },
    {
      "cell_type": "markdown",
      "metadata": {
        "id": "-2ggALXTQEfP"
      },
      "source": [
        "## Pairwise agreement Cohen Kappa scores"
      ]
    },
    {
      "cell_type": "code",
      "execution_count": 20,
      "metadata": {
        "colab": {
          "base_uri": "https://localhost:8080/"
        },
        "id": "EtOZD9I60B1v",
        "outputId": "d86d9869-b604-4d7b-fde6-ab8b33ae586c"
      },
      "outputs": [
        {
          "data": {
            "text/plain": [
              "{(\"Mihai's Labels\", \"Eduardo's label\"): 0.5257452574525746,\n",
              " (\"Mihai's Labels\", \"Robert's labels\"): 0.6893491124260356,\n",
              " (\"Mihai's Labels\", \"Haris's labels\"): 0.6801566579634465,\n",
              " (\"Mihai's Labels\", \"Sushma's labels\"): 0.3939393939393938,\n",
              " (\"Eduardo's label\", \"Robert's labels\"): 0.6634615384615385,\n",
              " (\"Eduardo's label\", \"Haris's labels\"): 0.4795539033457248,\n",
              " (\"Eduardo's label\", \"Sushma's labels\"): 0.220183486238532,\n",
              " (\"Robert's labels\", \"Eduardo's label\"): 0.6634615384615384,\n",
              " (\"Robert's labels\", \"Haris's labels\"): 0.5866141732283465,\n",
              " (\"Robert's labels\", \"Sushma's labels\"): 0.3921852387843705,\n",
              " (\"Haris's labels\", \"Eduardo's label\"): 0.4795539033457249,\n",
              " (\"Haris's labels\", \"Robert's labels\"): 0.5866141732283465,\n",
              " (\"Haris's labels\", \"Sushma's labels\"): 0.23521850899742913}"
            ]
          },
          "execution_count": 20,
          "metadata": {},
          "output_type": "execute_result"
        }
      ],
      "source": [
        "cohen_kappa_scores"
      ]
    },
    {
      "cell_type": "markdown",
      "metadata": {
        "id": "CG0n2H8rQN8t"
      },
      "source": []
    },
    {
      "cell_type": "code",
      "execution_count": 25,
      "metadata": {
        "colab": {
          "base_uri": "https://localhost:8080/"
        },
        "id": "j4bGg1al1ZJI",
        "outputId": "17b95126-b3ae-4e5f-8266-268b5e589367"
      },
      "outputs": [
        {
          "name": "stderr",
          "output_type": "stream",
          "text": [
            "/usr/local/lib/python3.7/dist-packages/ipykernel_launcher.py:2: SettingWithCopyWarning: \n",
            "A value is trying to be set on a copy of a slice from a DataFrame\n",
            "\n",
            "See the caveats in the documentation: https://pandas.pydata.org/pandas-docs/stable/user_guide/indexing.html#returning-a-view-versus-a-copy\n",
            "  \n"
          ]
        }
      ],
      "source": [
        "modified_df = df.copy()\n",
        "modified_df[2][modified_df[2] ==4] = 7\n",
        "modified_df[5].mask(modified_df[5] == 4 ,7, inplace=True)\n",
        "modified_df[5].mask(modified_df[5] == 5 ,7, inplace=True)\n",
        "modified_df[5].mask(modified_df[5] == 6 ,7, inplace=True)\n",
        "modified_df[4].mask(modified_df[4] == 4 ,7, inplace=True)\n",
        "modified_df[4].mask(modified_df[4] == 5 ,7, inplace=True)\n",
        "modified_df[4].mask(modified_df[4] == 6 ,7, inplace=True)"
      ]
    },
    {
      "cell_type": "code",
      "execution_count": 88,
      "metadata": {
        "id": "fjiDXInKHCm6"
      },
      "outputs": [],
      "source": [
        "modified_df[1] = modified_df[1].astype('int')"
      ]
    },
    {
      "cell_type": "markdown",
      "metadata": {
        "id": "LKjvodk2QQKW"
      },
      "source": [
        "### Label-wise agreements (as a confusion matrix)\n",
        "- First we'd like to assess the maximum agreement between each pair of annotators for each label they labelled.\n",
        "- We consider that Mihai's labels as Gold standard for a point of reference closer to ground truth.\n",
        "- We also consider that there might be maximum Forward Entailments considering it was the label most chosen. This also partially makes this an imbalanced class distribution even though these are not Ground truth labels."
      ]
    },
    {
      "cell_type": "code",
      "execution_count": 123,
      "metadata": {
        "id": "g6vR_JYg9pzE"
      },
      "outputs": [],
      "source": [
        "from pycm import *\n",
        "labellers = {1:'Mihai\\'s Labels', 2:'Eduardo\\'s label', 3:'Robert\\'s labels',\n",
        "       4:'Haris\\'s labels', 5:'Sushma\\'s labels'}\n",
        "cm = ConfusionMatrix(actual_vector=modified_df[1].to_numpy(), predict_vector=modified_df[2].to_numpy()) "
      ]
    },
    {
      "cell_type": "markdown",
      "metadata": {
        "id": "_H9gpSiJSqI8"
      },
      "source": [
        "## Seeing maximum agreement for the label that was chosen most of the times for just two annotators."
      ]
    },
    {
      "cell_type": "code",
      "execution_count": 124,
      "metadata": {
        "colab": {
          "base_uri": "https://localhost:8080/",
          "height": 313
        },
        "id": "l2ctMf5ZFbCt",
        "outputId": "ead93c6d-9c01-4459-deb0-f9840593061e"
      },
      "outputs": [
        {
          "data": {
            "text/plain": [
              "<matplotlib.axes._subplots.AxesSubplot at 0x7f3abf14d0d0>"
            ]
          },
          "execution_count": 124,
          "metadata": {},
          "output_type": "execute_result"
        },
        {
          "data": {
            "image/png": "[encoded data removed]",
            "text/plain": [
              "<Figure size 432x288 with 2 Axes>"
            ]
          },
          "metadata": {
            "needs_background": "light"
          },
          "output_type": "display_data"
        }
      ],
      "source": [
        "cm.plot()"
      ]
    },
    {
      "cell_type": "code",
      "execution_count": 125,
      "metadata": {
        "colab": {
          "base_uri": "https://localhost:8080/"
        },
        "id": "q4EPm98wMlQy",
        "outputId": "959fe622-5558-4bba-accd-7f1d35abab0b"
      },
      "outputs": [
        {
          "data": {
            "text/plain": [
              "{1: {1: 16, 2: 1, 3: 0, 6: 1, 7: 3},\n",
              " 2: {1: 0, 2: 2, 3: 0, 6: 0, 7: 0},\n",
              " 3: {1: 0, 2: 0, 3: 0, 6: 0, 7: 2},\n",
              " 6: {1: 0, 2: 0, 3: 0, 6: 0, 7: 0},\n",
              " 7: {1: 1, 2: 2, 3: 0, 6: 0, 7: 7}}"
            ]
          },
          "execution_count": 125,
          "metadata": {},
          "output_type": "execute_result"
        }
      ],
      "source": [
        "cm.table"
      ]
    },
    {
      "cell_type": "markdown",
      "metadata": {
        "id": "W1cbNcvoS_44"
      },
      "source": [
        "## Observing F1, precision and recall scores for pairwise confusion matrices.\n",
        "In this case, we consider a case where each annotator i can be Gold label annotator and compared with every other annotator j from remaining 4 annotators. So we consider the case that chosen Gold labels i.e. annotator's labels as Ground truth and we calculate pairwise \"Supposed Gold label\" with another annotator's labels. \n",
        "\n",
        "This is to say between any two annotators, we choose any one annotator, we would like to see how much agreement can exist and how would that reflect as F1, precision and recall scores.\n",
        "\n",
        "- For each pair of annotators, consider ith annotator to have ground truth and jth annotator to be prediction labels.\n",
        "- We still observe maximum agreement >50% for Forward Entailment Labels.\n",
        "- We do observ ~50% precision, recall and F1-scores. Would not be very helpful, since we do not have \"True Gold labels\". \n",
        "- We use the following information for assessing how to design annotation schemes annotating automatically modified premise, hypothesis sentences with Generalized quantifiers as well as Adjectives & adverbs.\n",
        "- We want to observe the amount of labeling confusion that quantifiers and modifiers introduce.\n",
        "- We consider that wherever the label is not FE or RE, we can see maximum confusion. \n",
        "- Forward Entailment - has max agreement & is also most chosen label\n",
        "- Neutral - has third most agreement & is second most chosen label\n",
        "- Reverse Entailment - has second most agreement & is third most chosen label.\n",
        "- All other cases, signify confusion due to level of difficulty.\n",
        "\n",
        "Total 35 * 5 = 175 labels required by 5 annotators for 35 premise, hypothesis pairs.\n",
        "\n",
        "1.  FE\t- 105\n",
        "2.  RE - 19\n",
        "3.  Neutral - 47\n",
        "4.  Negation - 6\n",
        "\n",
        "The following cases were marked under \"modified_df\" dataframe as under Neutral. So Neutral counts change to 47+6 = 53. Without modification, the counts look as follows for 3 other cases:\n",
        "\n",
        "5.  Cover - 3\n",
        "6.  Alternation - 0\n",
        "7.  Equivalence - 3\n",
        "\n",
        "Mihai's labels seems to serve as a better and more agreed point of reference for Ground Truth. \n",
        "\n",
        "This will help to develop an annotation scheme."
      ]
    },
    {
      "cell_type": "code",
      "execution_count": null,
      "metadata": {
        "id": "KUWmFr9_QPgc"
      },
      "outputs": [],
      "source": [
        "labellers = {1:'Mihai\\'s Labels', 2:'Eduardo\\'s label', 3:'Robert\\'s labels',\n",
        "       4:'Haris\\'s labels', 5:'Sushma\\'s labels'}\n",
        "cm = {}\n",
        "for i in range(1,5):\n",
        "  for j in range(2,6):\n",
        "    if i != j:\n",
        "      cm[(labellers[i], labellers[j])] = ConfusionMatrix(actual_vector=modified_df[i].to_numpy(), predict_vector=modified_df[j].to_numpy())\n",
        "      print(cm[(labellers[i], labellers[j])])"
      ]
    },
    {
      "cell_type": "markdown",
      "metadata": {
        "id": "ONMxYuYCXV26"
      },
      "source": [
        "### Seeing the Confusion matrix density plots for Max agreement between each pair of annotators."
      ]
    },
    {
      "cell_type": "code",
      "execution_count": 145,
      "metadata": {
        "colab": {
          "base_uri": "https://localhost:8080/",
          "height": 1000
        },
        "id": "boFlqp_CNBtg",
        "outputId": "083c7de4-adc2-469d-d405-b808cf0f78e5"
      },
      "outputs": [
        {
          "name": "stdout",
          "output_type": "stream",
          "text": [
            "(\"Mihai's Labels\", \"Eduardo's label\")\n",
            "AxesSubplot(0.125,0.125;0.62x0.755)\n",
            "(\"Mihai's Labels\", \"Robert's labels\")\n",
            "AxesSubplot(0.125,0.125;0.62x0.755)\n",
            "(\"Mihai's Labels\", \"Haris's labels\")\n",
            "AxesSubplot(0.125,0.125;0.62x0.755)\n",
            "(\"Mihai's Labels\", \"Sushma's labels\")\n",
            "AxesSubplot(0.125,0.125;0.62x0.755)\n",
            "(\"Eduardo's label\", \"Robert's labels\")\n",
            "AxesSubplot(0.125,0.125;0.62x0.755)\n",
            "(\"Eduardo's label\", \"Haris's labels\")\n",
            "AxesSubplot(0.125,0.125;0.62x0.755)\n",
            "(\"Eduardo's label\", \"Sushma's labels\")\n",
            "AxesSubplot(0.125,0.125;0.62x0.755)\n",
            "(\"Robert's labels\", \"Eduardo's label\")\n",
            "AxesSubplot(0.125,0.125;0.62x0.755)\n",
            "(\"Robert's labels\", \"Haris's labels\")\n",
            "AxesSubplot(0.125,0.125;0.62x0.755)\n",
            "(\"Robert's labels\", \"Sushma's labels\")\n",
            "AxesSubplot(0.125,0.125;0.62x0.755)\n",
            "(\"Haris's labels\", \"Eduardo's label\")\n",
            "AxesSubplot(0.125,0.125;0.62x0.755)\n",
            "(\"Haris's labels\", \"Robert's labels\")\n",
            "AxesSubplot(0.125,0.125;0.62x0.755)\n",
            "(\"Haris's labels\", \"Sushma's labels\")\n",
            "AxesSubplot(0.125,0.125;0.62x0.755)\n"
          ]
        },
        {
          "data": {
            "image/png": "[encoded data removed]",
            "text/plain": [
              "<Figure size 432x288 with 2 Axes>"
            ]
          },
          "metadata": {
            "needs_background": "light"
          },
          "output_type": "display_data"
        },
        {
          "data": {
            "image/png": "[encoded data removed]",
            "text/plain": [
              "<Figure size 432x288 with 2 Axes>"
            ]
          },
          "metadata": {
            "needs_background": "light"
          },
          "output_type": "display_data"
        },
        {
          "data": {
            "image/png": "[encoded data removed]",
            "text/plain": [
              "<Figure size 432x288 with 2 Axes>"
            ]
          },
          "metadata": {
            "needs_background": "light"
          },
          "output_type": "display_data"
        },
        {
          "data": {
            "image/png": "[encoded data removed]",
            "text/plain": [
              "<Figure size 432x288 with 2 Axes>"
            ]
          },
          "metadata": {
            "needs_background": "light"
          },
          "output_type": "display_data"
        },
        {
          "data": {
            "image/png": "[encoded data removed]",
            "text/plain": [
              "<Figure size 432x288 with 2 Axes>"
            ]
          },
          "metadata": {
            "needs_background": "light"
          },
          "output_type": "display_data"
        },
        {
          "data": {
            "image/png": "[encoded data removed]",
            "text/plain": [
              "<Figure size 432x288 with 2 Axes>"
            ]
          },
          "metadata": {
            "needs_background": "light"
          },
          "output_type": "display_data"
        },
        {
          "data": {
            "image/png": "[encoded data removed]",
            "text/plain": [
              "<Figure size 432x288 with 2 Axes>"
            ]
          },
          "metadata": {
            "needs_background": "light"
          },
          "output_type": "display_data"
        },
        {
          "data": {
            "image/png": "[encoded data removed]",
            "text/plain": [
              "<Figure size 432x288 with 2 Axes>"
            ]
          },
          "metadata": {
            "needs_background": "light"
          },
          "output_type": "display_data"
        },
        {
          "data": {
            "image/png": "[encoded data removed]",
            "text/plain": [
              "<Figure size 432x288 with 2 Axes>"
            ]
          },
          "metadata": {
            "needs_background": "light"
          },
          "output_type": "display_data"
        },
        {
          "data": {
            "image/png": "[encoded data removed]",
            "text/plain": [
              "<Figure size 432x288 with 2 Axes>"
            ]
          },
          "metadata": {
            "needs_background": "light"
          },
          "output_type": "display_data"
        },
        {
          "data": {
            "image/png": "[encoded data removed]",
            "text/plain": [
              "<Figure size 432x288 with 2 Axes>"
            ]
          },
          "metadata": {
            "needs_background": "light"
          },
          "output_type": "display_data"
        },
        {
          "data": {
            "image/png": "[encoded data removed]",
            "text/plain": [
              "<Figure size 432x288 with 2 Axes>"
            ]
          },
          "metadata": {
            "needs_background": "light"
          },
          "output_type": "display_data"
        },
        {
          "data": {
            "image/png": "[encoded data removed]",
            "text/plain": [
              "<Figure size 432x288 with 2 Axes>"
            ]
          },
          "metadata": {
            "needs_background": "light"
          },
          "output_type": "display_data"
        }
      ],
      "source": [
        "for k,v in cm.items():\n",
        "  print(k)\n",
        "  print(v.plot(title=k))"
      ]
    },
    {
      "cell_type": "markdown",
      "metadata": {
        "id": "aK133BKwXd5Q"
      },
      "source": [
        "### Looking at total agreement counts for each label between each pair of annotators.\n",
        "- Max agreement is for FE, then RE and then Neutral.\n",
        "- Could also signify it is probably easier to agree on a Forward Entailment.\n",
        "- Could also signify RE and Neutral are next most agreed labels.\n",
        "- Could we say if agreement was most, complexity to identify each of these three labels was easy?"
      ]
    },
    {
      "cell_type": "code",
      "execution_count": 144,
      "metadata": {
        "colab": {
          "base_uri": "https://localhost:8080/"
        },
        "id": "4UYQp0-3Snd4",
        "outputId": "2f3d82a7-e9f4-45a3-e4b9-48d968c000c6"
      },
      "outputs": [
        {
          "name": "stdout",
          "output_type": "stream",
          "text": [
            "(\"Mihai's Labels\", \"Eduardo's label\")\n",
            "{1: {1: 16, 2: 1, 3: 0, 6: 1, 7: 3}, 2: {1: 0, 2: 2, 3: 0, 6: 0, 7: 0}, 3: {1: 0, 2: 0, 3: 0, 6: 0, 7: 2}, 6: {1: 0, 2: 0, 3: 0, 6: 0, 7: 0}, 7: {1: 1, 2: 2, 3: 0, 6: 0, 7: 7}}\n",
            "(\"Mihai's Labels\", \"Robert's labels\")\n",
            "{1: {1: 20, 2: 0, 3: 0, 7: 1}, 2: {1: 0, 2: 2, 3: 0, 7: 0}, 3: {1: 0, 2: 0, 3: 0, 7: 2}, 7: {1: 1, 2: 2, 3: 0, 7: 7}}\n",
            "(\"Mihai's Labels\", \"Haris's labels\")\n",
            "{1: {1: 17, 2: 1, 3: 0, 7: 3}, 2: {1: 0, 2: 2, 3: 0, 7: 0}, 3: {1: 0, 2: 0, 3: 2, 7: 0}, 7: {1: 0, 2: 1, 3: 0, 7: 9}}\n",
            "(\"Mihai's Labels\", \"Sushma's labels\")\n",
            "{1: {1: 17, 2: 0, 3: 0, 7: 4}, 2: {1: 0, 2: 2, 3: 0, 7: 0}, 3: {1: 0, 2: 0, 3: 1, 7: 1}, 7: {1: 5, 2: 1, 3: 1, 7: 3}}\n",
            "(\"Eduardo's label\", \"Robert's labels\")\n",
            "{1: {1: 16, 2: 1, 6: 0, 7: 0}, 2: {1: 1, 2: 3, 6: 0, 7: 1}, 6: {1: 1, 2: 0, 6: 0, 7: 0}, 7: {1: 3, 2: 0, 6: 0, 7: 9}}\n",
            "(\"Eduardo's label\", \"Haris's labels\")\n",
            "{1: {1: 14, 2: 2, 3: 0, 6: 0, 7: 1}, 2: {1: 1, 2: 2, 3: 0, 6: 0, 7: 2}, 3: {1: 0, 2: 0, 3: 0, 6: 0, 7: 0}, 6: {1: 1, 2: 0, 3: 0, 6: 0, 7: 0}, 7: {1: 1, 2: 0, 3: 2, 6: 0, 7: 9}}\n",
            "(\"Eduardo's label\", \"Sushma's labels\")\n",
            "{1: {1: 12, 2: 0, 3: 0, 6: 0, 7: 5}, 2: {1: 2, 2: 3, 3: 0, 6: 0, 7: 0}, 3: {1: 0, 2: 0, 3: 0, 6: 0, 7: 0}, 6: {1: 1, 2: 0, 3: 0, 6: 0, 7: 0}, 7: {1: 7, 2: 0, 3: 2, 6: 0, 7: 3}}\n",
            "(\"Robert's labels\", \"Eduardo's label\")\n",
            "{1: {1: 16, 2: 1, 6: 1, 7: 3}, 2: {1: 1, 2: 3, 6: 0, 7: 0}, 6: {1: 0, 2: 0, 6: 0, 7: 0}, 7: {1: 0, 2: 1, 6: 0, 7: 9}}\n",
            "(\"Robert's labels\", \"Haris's labels\")\n",
            "{1: {1: 17, 2: 1, 3: 0, 7: 3}, 2: {1: 0, 2: 3, 3: 0, 7: 1}, 3: {1: 0, 2: 0, 3: 0, 7: 0}, 7: {1: 0, 2: 0, 3: 2, 7: 8}}\n",
            "(\"Robert's labels\", \"Sushma's labels\")\n",
            "{1: {1: 17, 2: 0, 3: 0, 7: 4}, 2: {1: 0, 2: 3, 3: 0, 7: 1}, 3: {1: 0, 2: 0, 3: 0, 7: 0}, 7: {1: 5, 2: 0, 3: 2, 7: 3}}\n",
            "(\"Haris's labels\", \"Eduardo's label\")\n",
            "{1: {1: 14, 2: 1, 3: 0, 6: 1, 7: 1}, 2: {1: 2, 2: 2, 3: 0, 6: 0, 7: 0}, 3: {1: 0, 2: 0, 3: 0, 6: 0, 7: 2}, 6: {1: 0, 2: 0, 3: 0, 6: 0, 7: 0}, 7: {1: 1, 2: 2, 3: 0, 6: 0, 7: 9}}\n",
            "(\"Haris's labels\", \"Robert's labels\")\n",
            "{1: {1: 17, 2: 0, 3: 0, 7: 0}, 2: {1: 1, 2: 3, 3: 0, 7: 0}, 3: {1: 0, 2: 0, 3: 0, 7: 2}, 7: {1: 3, 2: 1, 3: 0, 7: 8}}\n",
            "(\"Haris's labels\", \"Sushma's labels\")\n",
            "{1: {1: 14, 2: 0, 3: 0, 7: 3}, 2: {1: 0, 2: 2, 3: 0, 7: 2}, 3: {1: 0, 2: 0, 3: 1, 7: 1}, 7: {1: 8, 2: 1, 3: 1, 7: 2}}\n"
          ]
        }
      ],
      "source": [
        "for k,v in cm.items():\n",
        "  print(k)\n",
        "  print(v.table)"
      ]
    },
    {
      "cell_type": "markdown",
      "metadata": {
        "id": "xvBuhvNJX_Fv"
      },
      "source": [
        "## Cohen Kappa scores for modified labels \n",
        "Total 35 * 5 = 175 labels required by 5 annotators for 35 premise, hypothesis pairs.\n",
        "\n",
        "1.  FE\t- 105\n",
        "2.  RE - 19\n",
        "3.  Neutral - 47\n",
        "4.  Negation - 6\n",
        "\n",
        "The following cases were marked under \"modified_df\" dataframe as under Neutral. So Neutral counts change to 47+6 = 53. Without modification, the counts look as follows for 3 other cases:\n",
        "\n",
        "5.  Cover - 3\n",
        "6.  Alternation - 0\n",
        "7.  Equivalence - 3\n",
        "\n",
        "So we recalculate the Cohen kappa scores."
      ]
    },
    {
      "cell_type": "code",
      "execution_count": 135,
      "metadata": {
        "colab": {
          "base_uri": "https://localhost:8080/"
        },
        "id": "OIasePyk2Jwq",
        "outputId": "3fcf01cc-f955-4d82-a01b-977b961b9cca"
      },
      "outputs": [
        {
          "name": "stdout",
          "output_type": "stream",
          "text": [
            "0.5257452574525746\n",
            "0.6893491124260356\n",
            "0.6801566579634465\n",
            "0.3939393939393938\n",
            "0.6634615384615385\n",
            "0.4795539033457248\n",
            "0.220183486238532\n",
            "0.6634615384615384\n",
            "0.5866141732283465\n",
            "0.3921852387843705\n",
            "0.4795539033457249\n",
            "0.5866141732283465\n",
            "0.23521850899742913\n"
          ]
        }
      ],
      "source": [
        "labellers = {1:'Mihai\\'s Labels', 2:'Eduardo\\'s label', 3:'Robert\\'s labels',\n",
        "       4:'Haris\\'s labels', 5:'Sushma\\'s labels'}\n",
        "cohen_kappa_scores_modified = {}\n",
        "for i in range(1,5):\n",
        "  for j in range(2,6):\n",
        "    if i != j:\n",
        "      cohen_kappa_scores_modified[(labellers[i], labellers[j])] = cohen_kappa_score(df[i], df[j])\n",
        "      print(cohen_kappa_scores_modified[(labellers[i], labellers[j])])"
      ]
    },
    {
      "cell_type": "markdown",
      "metadata": {
        "id": "UNBjg62DYLue"
      },
      "source": [
        "## Fleiss Kappa scores\n",
        "This is another way of finding above the level of agreement expected by chance. This considers random sampling among the raters (a little better than voted ratings, due to \"randomness\").\n",
        "Although this is purely statistical, since we have types of modifiers which influence thge rater's choice of label, we consider this for some \"randomized\" assessment for a approximated agreement scores. \n",
        "\n",
        "The score considers that if no one chose \"this\" label, we could still find out expected chance of agreement on \"this\" label.\n",
        "\n",
        "This does not tell if agreement is good enough. But just that if an agreement exists then how better is it to that of agreement by chance which in this case is 50.29%."
      ]
    },
    {
      "cell_type": "code",
      "execution_count": 136,
      "metadata": {
        "colab": {
          "base_uri": "https://localhost:8080/"
        },
        "id": "iHdYZez029H3",
        "outputId": "137c32f9-0a1f-49c3-ba5e-854986ba538f"
      },
      "outputs": [
        {
          "data": {
            "text/plain": [
              "0.5029516596123857"
            ]
          },
          "execution_count": 136,
          "metadata": {},
          "output_type": "execute_result"
        }
      ],
      "source": [
        "from statsmodels.stats import inter_rater as irr\n",
        "data, categories = irr.aggregate_raters(modified_df.to_numpy())\n",
        "irr.fleiss_kappa(data, method='fleiss')"
      ]
    },
    {
      "cell_type": "markdown",
      "metadata": {
        "id": "9XkLX-zcbsYB"
      },
      "source": [
        "### Krippendorff's Alpha\n",
        "Essentially measures amount of reliability as a measure of disagreement.\n",
        "However this might not be relevant here, since we do not have concrete Ground truth. But if we did assume we did have Ground truth and this was reliable, this is how much reliable these labels based on agreement calculated from ratio of observed disagreement and disagreement expected by chance can be.\n",
        "\n",
        "Here krippendorff's alpha is 44.28%"
      ]
    },
    {
      "cell_type": "code",
      "execution_count": 137,
      "metadata": {
        "colab": {
          "base_uri": "https://localhost:8080/"
        },
        "id": "QVdVBV6Q3djB",
        "outputId": "8df31ec8-de71-455e-82ef-4557faca8dfd"
      },
      "outputs": [
        {
          "data": {
            "text/plain": [
              "0.44282738584662606"
            ]
          },
          "execution_count": 137,
          "metadata": {},
          "output_type": "execute_result"
        }
      ],
      "source": [
        "import krippendorff\n",
        "krippendorff.alpha(modified_df.to_numpy().T)"
      ]
    },
    {
      "cell_type": "code",
      "execution_count": null,
      "metadata": {
        "id": "awCMO9er6OWs"
      },
      "outputs": [],
      "source": [
        "modified_df.to_numpy()"
      ]
    },
    {
      "cell_type": "code",
      "execution_count": 139,
      "metadata": {
        "id": "qS98B6B17zt6"
      },
      "outputs": [],
      "source": [
        "import agreement\n",
        "from agreement.utils.kernels import linear_kernel\n",
        "\n",
        "from agreement.metrics import cohens_kappa, krippendorffs_alpha, scotts_pi\n",
        "from agreement.utils.transform import pivot_table_frequency\n"
      ]
    },
    {
      "cell_type": "code",
      "execution_count": 140,
      "metadata": {
        "id": "TLjPVfk_4-i8"
      },
      "outputs": [],
      "source": [
        "this_array = []\n",
        "for i,l in enumerate(modified_df.to_numpy()):\n",
        "  for k in range(0,5):\n",
        "    this_array.append([i,k+1, l[k]])\n",
        "arr = np.array(this_array)\n",
        "questions_answers_table = pivot_table_frequency(arr[:, 0], arr[:, 2])"
      ]
    },
    {
      "cell_type": "markdown",
      "metadata": {
        "id": "SiQgEQCtc5uW"
      },
      "source": [
        "### Recomputing Cohen's kappa, krippendorff's alpha while calculating Scott's pi\n",
        "\n",
        "Scott's Pi is similar to Cohen's kappa, except it considered squared joint proportions to calculate inter-annotator reliability.\n",
        "\n",
        "In this case, Scott's pi is 50.29% same as Cohen's kappa"
      ]
    },
    {
      "cell_type": "code",
      "execution_count": 141,
      "metadata": {
        "id": "yiYli1r-4o1W"
      },
      "outputs": [],
      "source": [
        "users_answers_table = pivot_table_frequency(arr[:, 1], arr[:, 2])\n",
        "kappa = cohens_kappa(questions_answers_table, users_answers_table)\n",
        "weighted_kappa = cohens_kappa(questions_answers_table, users_answers_table, weights_kernel=linear_kernel)\n",
        "\n",
        "alpha = krippendorffs_alpha(questions_answers_table)\n",
        "pi = scotts_pi(questions_answers_table)"
      ]
    },
    {
      "cell_type": "code",
      "execution_count": 142,
      "metadata": {
        "colab": {
          "base_uri": "https://localhost:8080/"
        },
        "id": "L1UJdWhx7-zl",
        "outputId": "5e73348f-dfde-45e5-e688-2335b4748c01"
      },
      "outputs": [
        {
          "data": {
            "text/plain": [
              "(0.5045107564191533,\n",
              " 0.4749359678009515,\n",
              " 0.5057919358431722,\n",
              " 0.5029516596123859)"
            ]
          },
          "execution_count": 142,
          "metadata": {},
          "output_type": "execute_result"
        }
      ],
      "source": [
        "kappa, weighted_kappa, alpha, pi"
      ]
    },
    {
      "cell_type": "code",
      "execution_count": 143,
      "metadata": {
        "colab": {
          "base_uri": "https://localhost:8080/"
        },
        "id": "d2lUSINaAJeY",
        "outputId": "0ac95f26-9038-43cb-c9da-007a234496dd"
      },
      "outputs": [
        {
          "data": {
            "text/plain": [
              "(35, 4)"
            ]
          },
          "execution_count": 143,
          "metadata": {},
          "output_type": "execute_result"
        }
      ],
      "source": [
        "modified_df[[2,3,4,5]].to_numpy().shape"
      ]
    }
  ],
  "metadata": {
    "colab": {
      "provenance": []
    },
    "kernelspec": {
      "display_name": "Python 3",
      "language": "python",
      "name": "python3"
    },
    "language_info": {
      "name": "python",
      "version": "3.10.8 (v3.10.8:aaaf517424, Oct 11 2022, 10:14:40) [Clang 13.0.0 (clang-1300.0.29.30)]"
    },
    "vscode": {
      "interpreter": {
        "hash": "aee8b7b246df8f9039afb4144a1f6fd8d2ca17a180786b69acc140d282b71a49"
      }
    }
  },
  "nbformat": 4,
  "nbformat_minor": 0
}
