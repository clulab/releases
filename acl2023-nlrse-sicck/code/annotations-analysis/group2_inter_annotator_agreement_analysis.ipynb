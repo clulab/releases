{
  "cells": [
    {
      "attachments": {},
      "cell_type": "markdown",
      "metadata": {},
      "source": [
        "### Group 2 Inter Annotator Agreement Analysis\n",
        "- Author: Sushma Anand Akoju, Email: sushmaakoju@arizona.edu"
      ]
    },
    {
      "cell_type": "code",
      "execution_count": 1,
      "metadata": {
        "colab": {
          "base_uri": "https://localhost:8080/"
        },
        "id": "EedngCbb4F_O",
        "outputId": "943dfbe5-a2f9-41f9-98bc-f500b89adeff"
      },
      "outputs": [
        {
          "name": "stdout",
          "output_type": "stream",
          "text": [
            "Looking in indexes: https://pypi.org/simple, https://us-python.pkg.dev/colab-wheels/public/simple/\n",
            "Collecting agreement\n",
            "  Downloading agreement-0.1.1-py3-none-any.whl (19 kB)\n",
            "Requirement already satisfied: numpy>=1.20.2 in /usr/local/lib/python3.8/dist-packages (from agreement) (1.21.6)\n",
            "Installing collected packages: agreement\n",
            "Successfully installed agreement-0.1.1\n"
          ]
        }
      ],
      "source": [
        "!pip install agreement"
      ]
    },
    {
      "cell_type": "code",
      "execution_count": 2,
      "metadata": {
        "colab": {
          "base_uri": "https://localhost:8080/"
        },
        "id": "MywJDfqJ3baR",
        "outputId": "1925cfd5-349b-4c53-ce43-e4036640fd10"
      },
      "outputs": [
        {
          "name": "stdout",
          "output_type": "stream",
          "text": [
            "Looking in indexes: https://pypi.org/simple, https://us-python.pkg.dev/colab-wheels/public/simple/\n",
            "Collecting krippendorff\n",
            "  Downloading krippendorff-0.5.2-py3-none-any.whl (17 kB)\n",
            "Requirement already satisfied: numpy in /usr/local/lib/python3.8/dist-packages (from krippendorff) (1.21.6)\n",
            "Installing collected packages: krippendorff\n",
            "Successfully installed krippendorff-0.5.2\n"
          ]
        }
      ],
      "source": [
        "!pip install krippendorff"
      ]
    },
    {
      "cell_type": "code",
      "execution_count": 3,
      "metadata": {
        "colab": {
          "base_uri": "https://localhost:8080/"
        },
        "id": "RGbILV8n9glx",
        "outputId": "b47c5a57-86bd-4cf4-84ab-540ea4a6f4a5"
      },
      "outputs": [
        {
          "name": "stdout",
          "output_type": "stream",
          "text": [
            "Looking in indexes: https://pypi.org/simple, https://us-python.pkg.dev/colab-wheels/public/simple/\n",
            "Collecting pycm\n",
            "  Downloading pycm-3.7-py2.py3-none-any.whl (62 kB)\n",
            "\u001b[2K     \u001b[90m━━━━━━━━━━━━━━━━━━━━━━━━━━━━━━━━━━━━━━━━\u001b[0m \u001b[32m63.0/63.0 KB\u001b[0m \u001b[31m8.7 MB/s\u001b[0m eta \u001b[36m0:00:00\u001b[0m\n",
            "\u001b[?25hCollecting art>=1.8\n",
            "  Downloading art-5.8-py2.py3-none-any.whl (595 kB)\n",
            "\u001b[2K     \u001b[90m━━━━━━━━━━━━━━━━━━━━━━━━━━━━━━━━━━━━━━\u001b[0m \u001b[32m595.7/595.7 KB\u001b[0m \u001b[31m37.7 MB/s\u001b[0m eta \u001b[36m0:00:00\u001b[0m\n",
            "\u001b[?25hRequirement already satisfied: numpy>=1.9.0 in /usr/local/lib/python3.8/dist-packages (from pycm) (1.21.6)\n",
            "Installing collected packages: art, pycm\n",
            "Successfully installed art-5.8 pycm-3.7\n"
          ]
        }
      ],
      "source": [
        "!pip install pycm"
      ]
    },
    {
      "cell_type": "code",
      "execution_count": null,
      "metadata": {
        "id": "VwC9T44SYMA0"
      },
      "outputs": [],
      "source": [
        "from google.colab import drive\n",
        "\n",
        "drive.mount('/content/gdrive/', force_remount=True)\n",
        "%cd gdrive/MyDrive/Colab\\ Notebooks/natural\\-logic\n",
        "!ls"
      ]
    },
    {
      "cell_type": "code",
      "execution_count": 5,
      "metadata": {
        "id": "zHrwM-COPRiH"
      },
      "outputs": [],
      "source": [
        "import sklearn.metrics\n",
        "from sklearn.metrics import cohen_kappa_score"
      ]
    },
    {
      "cell_type": "code",
      "execution_count": 6,
      "metadata": {
        "id": "tPwtJfAEVqPn"
      },
      "outputs": [],
      "source": [
        "import pandas as pd\n",
        "import numpy as np"
      ]
    },
    {
      "cell_type": "code",
      "execution_count": 7,
      "metadata": {
        "colab": {
          "base_uri": "https://localhost:8080/"
        },
        "id": "PrUAdCm_KKue",
        "outputId": "fcd81137-c3fd-40ae-adb9-15130ff9fd8e"
      },
      "outputs": [
        {
          "name": "stdout",
          "output_type": "stream",
          "text": [
            "/content/gdrive/MyDrive/Colab Notebooks/natural-logic/final-datasets/block-wise-data/blocks-dec26/annotated/combined\n",
            "annotators_group_1.xlsx  annotators_group_2.xlsx\n"
          ]
        }
      ],
      "source": [
        "%cd /content/gdrive/MyDrive/Colab Notebooks/natural-logic/final-datasets/block-wise-data/blocks-dec26/annotated/combined/\n",
        "!ls \n"
      ]
    },
    {
      "cell_type": "code",
      "execution_count": 8,
      "metadata": {
        "id": "dVqnYFNGVqc4"
      },
      "outputs": [],
      "source": [
        "filename = \"/content/gdrive/MyDrive/Colab Notebooks/natural-logic/final-datasets/block-wise-data/blocks-dec26/annotated/combined/annotators_group_2.xlsx\""
      ]
    },
    {
      "cell_type": "code",
      "execution_count": 64,
      "metadata": {
        "colab": {
          "base_uri": "https://localhost:8080/"
        },
        "id": "inWyLLE6cI9g",
        "outputId": "ffdf7d93-4745-41af-d72b-1a6156a5e598"
      },
      "outputs": [
        {
          "data": {
            "text/plain": [
              "True"
            ]
          },
          "execution_count": 64,
          "metadata": {},
          "output_type": "execute_result"
        }
      ],
      "source": [
        "import os\n",
        "os.path.exists(filename)"
      ]
    },
    {
      "cell_type": "code",
      "execution_count": 65,
      "metadata": {
        "colab": {
          "base_uri": "https://localhost:8080/"
        },
        "id": "3UFbMceqKdsb",
        "outputId": "b6712e93-b74b-4a51-d75b-d4d6bc50ef31"
      },
      "outputs": [
        {
          "data": {
            "text/plain": [
              "['block_7_211',\n",
              " 'block_8_212',\n",
              " 'block_12_455',\n",
              " 'block_11_443',\n",
              " 'block_9_273',\n",
              " 'block_10_342',\n",
              " 'block_13_751',\n",
              " 'block_14_1131']"
            ]
          },
          "execution_count": 65,
          "metadata": {},
          "output_type": "execute_result"
        }
      ],
      "source": [
        "sheet_names = pd.ExcelFile(filename).sheet_names[:-1]\n",
        "sheet_names"
      ]
    },
    {
      "cell_type": "code",
      "execution_count": 12,
      "metadata": {
        "id": "xwLotCuN8PkY"
      },
      "outputs": [],
      "source": [
        "block_12 = pd.concat([pd.read_excel(filename, sheet_name='block_7_211'), pd.read_excel(filename, sheet_name='block_8_212')])\n",
        "block_123 = pd.concat([pd.read_excel(filename, sheet_name='block_9_273'), pd.read_excel(filename, sheet_name='block_10_342'), pd.read_excel(filename, sheet_name='block_14_1131')])\n",
        "block_13 = pd.read_excel(filename, sheet_name='block_13_751')[['SICK_id', 'Premise', 'Hypothesis', 'Modifier',\n",
        "        'Premise/Hypothesis/Both', 'Part of Premise/Hypothesis Modified', 'R',\n",
        "        'S']]\n",
        "block_23 = pd.read_excel(filename, sheet_name='block_12_455')[['SICK_id', 'Premise', 'Hypothesis', 'Modifier',\n",
        "        'Premise/Hypothesis/Both', 'Part of Premise/Hypothesis Modified', 'H',\n",
        "        'S']]\n",
        "block_3 = pd.read_excel(filename, sheet_name='block_11_443')[['SICK_id', 'Premise', 'Hypothesis', 'Modifier',\n",
        "        'Premise/Hypothesis/Both', 'Part of Premise/Hypothesis Modified',\n",
        "        'Unnamed: 6', 'S']]"
      ]
    },
    {
      "cell_type": "code",
      "execution_count": 11,
      "metadata": {
        "colab": {
          "base_uri": "https://localhost:8080/"
        },
        "id": "07JMOqHdCJWf",
        "outputId": "c4cb28ee-d8fb-462b-9b89-a9ae517a02c2"
      },
      "outputs": [
        {
          "data": {
            "text/plain": [
              "(Index(['SICK_id', 'Premise', 'Hypothesis', 'Modifier',\n",
              "        'Premise/Hypothesis/Both', 'Part of Premise/Hypothesis Modified', 'R',\n",
              "        'H'],\n",
              "       dtype='object'), Index(['SICK_id', 'Premise', 'Hypothesis', 'Modifier',\n",
              "        'Premise/Hypothesis/Both', 'Part of Premise/Hypothesis Modified', 'R',\n",
              "        'H', 'S'],\n",
              "       dtype='object'), Index(['SICK_id', 'Premise', 'Hypothesis', 'Modifier',\n",
              "        'Premise/Hypothesis/Both', 'Part of Premise/Hypothesis Modified', 'R',\n",
              "        'S', 'Unnamed: 8'],\n",
              "       dtype='object'), Index(['SICK_id', 'Premise', 'Hypothesis', 'Modifier',\n",
              "        'Premise/Hypothesis/Both', 'Part of Premise/Hypothesis Modified', 'H',\n",
              "        'S', 'Unnamed: 8'],\n",
              "       dtype='object'), Index(['SICK_id', 'Premise', 'Hypothesis', 'Modifier',\n",
              "        'Premise/Hypothesis/Both', 'Part of Premise/Hypothesis Modified',\n",
              "        'Unnamed: 6', 'S', 'Unnamed: 8'],\n",
              "       dtype='object'))"
            ]
          },
          "execution_count": 11,
          "metadata": {},
          "output_type": "execute_result"
        }
      ],
      "source": [
        "block_12.columns,block_123.columns, block_13.columns, block_23.columns, block_3.columns"
      ]
    },
    {
      "cell_type": "code",
      "execution_count": null,
      "metadata": {
        "id": "3cqWZTrwFWrc"
      },
      "outputs": [],
      "source": [
        "block_12.head(),block_123.head(), block_13.head(), block_23.columns, block_3.columns"
      ]
    },
    {
      "attachments": {},
      "cell_type": "markdown",
      "metadata": {
        "id": "cy8A5n2zFbf5"
      },
      "source": [
        "# Blocks : 211 & 212\n",
        "\n",
        "SICK_id 211:\n",
        "Premise: two dogs are playing by a tree,\tHypothesis: two dogs are playing by a plant. Label:  Entailment\n",
        "\n",
        "SICK_id 212:\n",
        "Premise: two dogs are playing by a tree,\tHypothesis: two dogs are sleeping by a tree. Label: Neutral"
      ]
    },
    {
      "cell_type": "code",
      "execution_count": 15,
      "metadata": {
        "colab": {
          "base_uri": "https://localhost:8080/"
        },
        "id": "lUGHM9baGP_Q",
        "outputId": "fd1b67ce-8486-4df6-ceb0-8e7f3a242e9e"
      },
      "outputs": [
        {
          "data": {
            "text/plain": [
              "(   SICK_id                               Premise  \\\n",
              " 0      211        two dogs are playing by a tree   \n",
              " 1      211  every two dogs are playing by a tree   \n",
              " 2      211        two dogs are playing by a tree   \n",
              " 3      211  every two dogs are playing by a tree   \n",
              " 4      211   some two dogs are playing by a tree   \n",
              " \n",
              "                               Hypothesis Modifier Premise/Hypothesis/Both  \\\n",
              " 0        two dogs are playing by a plant     NONE                    NONE   \n",
              " 1        two dogs are playing by a plant    every                 Premise   \n",
              " 2  every two dogs are playing by a plant    every              Hypothesis   \n",
              " 3  every two dogs are playing by a plant    every                    Both   \n",
              " 4        two dogs are playing by a plant     some                 Premise   \n",
              " \n",
              "   Part of Premise/Hypothesis Modified   R      H  \n",
              " 0                                NONE  FE     FE  \n",
              " 1                             Subject  FE     FE  \n",
              " 2                             Subject  RE  Cover  \n",
              " 3                             Subject  RE     FE  \n",
              " 4                             Subject  FE     FE  ,\n",
              " array(['FE', 'RE', 'Neutral', 'Negation'], dtype=object),\n",
              " array(['FE', 'Cover', 'Neutral', 'Alternation', 'Negation', 'RE'],\n",
              "       dtype=object))"
            ]
          },
          "execution_count": 15,
          "metadata": {},
          "output_type": "execute_result"
        }
      ],
      "source": [
        "block_12['SICK_id'] = block_12['SICK_id'].astype('int')\n",
        "\n",
        "block_12.head(), block_12['R'].unique(), block_12['H'].unique()"
      ]
    },
    {
      "cell_type": "code",
      "execution_count": 21,
      "metadata": {
        "colab": {
          "base_uri": "https://localhost:8080/"
        },
        "id": "l-zOybSqHzXN",
        "outputId": "7847d025-8423-4f44-d5e7-3c2ed5161114"
      },
      "outputs": [
        {
          "data": {
            "text/plain": [
              "Neutral     113\n",
              "FE           55\n",
              "RE           10\n",
              "Negation      8\n",
              "Name: R, dtype: int64"
            ]
          },
          "execution_count": 21,
          "metadata": {},
          "output_type": "execute_result"
        }
      ],
      "source": [
        "block_12['R'].value_counts()"
      ]
    },
    {
      "cell_type": "code",
      "execution_count": 19,
      "metadata": {
        "colab": {
          "base_uri": "https://localhost:8080/"
        },
        "id": "GcTF6P45H8Rm",
        "outputId": "00c49c5a-3766-4727-947f-22eb3798bc44"
      },
      "outputs": [
        {
          "data": {
            "text/plain": [
              "Alternation    73\n",
              "FE             57\n",
              "Neutral        45\n",
              "Negation        5\n",
              "Cover           4\n",
              "RE              2\n",
              "Name: H, dtype: int64"
            ]
          },
          "execution_count": 19,
          "metadata": {},
          "output_type": "execute_result"
        }
      ],
      "source": [
        "block_12['H'].value_counts()"
      ]
    },
    {
      "cell_type": "code",
      "execution_count": 22,
      "metadata": {
        "colab": {
          "base_uri": "https://localhost:8080/"
        },
        "id": "S2a_GV-SIGVF",
        "outputId": "8c461480-bd1e-41b4-e953-785cfbebeeba"
      },
      "outputs": [
        {
          "data": {
            "text/plain": [
              "array([211, 212])"
            ]
          },
          "execution_count": 22,
          "metadata": {},
          "output_type": "execute_result"
        }
      ],
      "source": [
        "block_12['SICK_id'].unique()"
      ]
    },
    {
      "cell_type": "code",
      "execution_count": 23,
      "metadata": {
        "id": "QoGpgSUzIMFs"
      },
      "outputs": [],
      "source": [
        "label_map = {'FE':1, 'RE':2, 'Negation':3, 'Neutral':4, 'Alternation':5, 'Equivalence':6, 'Cover':7}"
      ]
    },
    {
      "cell_type": "code",
      "execution_count": 24,
      "metadata": {
        "id": "1fNE1o5mIPqe"
      },
      "outputs": [],
      "source": [
        "for i in ['R', 'H']:\n",
        "  block_12[i] = block_12[i].map(label_map)"
      ]
    },
    {
      "cell_type": "code",
      "execution_count": 32,
      "metadata": {
        "colab": {
          "base_uri": "https://localhost:8080/"
        },
        "id": "xVmOBkPCIVCN",
        "outputId": "e5233a16-332c-479a-a783-cd24f51a153b"
      },
      "outputs": [
        {
          "data": {
            "text/plain": [
              "(Series([], Name: R, dtype: int64), Series([], Name: H, dtype: int64), 186)"
            ]
          },
          "execution_count": 32,
          "metadata": {},
          "output_type": "execute_result"
        }
      ],
      "source": [
        "block_12['R'][block_12['R'].isna()], block_12['H'][block_12['H'].isna()], block_12.shape[0]"
      ]
    },
    {
      "attachments": {},
      "cell_type": "markdown",
      "metadata": {
        "id": "oEhSYlLbJDAS"
      },
      "source": [
        "### Cohen Kappa Score\n",
        "A pairwise inetr-rater reliability statistic. \n",
        "Considering probability of agreement by chance.\n",
        "We have 7 labels and 2 annotators and 186 observations in total.\n",
        "So labels are mutually exclusive. (Assume so for now)\n",
        "$p_0$ relative observed agreement\n",
        "$p_1$ hypothetical agreement by chance\n",
        "$p_0 = \\frac{1}{186^2} \\sum n_{k_1} n_{k_2} $  where $n_{k_1}$ and $n_{k_2}$ are number of times rater i (first or second) labelled k. \n",
        "\n",
        "These scores are calculated pairwise so at any time it is agreement between two raters."
      ]
    },
    {
      "cell_type": "code",
      "execution_count": 31,
      "metadata": {
        "colab": {
          "base_uri": "https://localhost:8080/"
        },
        "id": "PrhPRJJTIm0k",
        "outputId": "266a4229-153b-4484-8663-86171e746c4f"
      },
      "outputs": [
        {
          "name": "stdout",
          "output_type": "stream",
          "text": [
            "0.34974920200638415\n"
          ]
        }
      ],
      "source": [
        "labellers = {1:'R', 2:'H'}\n",
        "cohen_kappa_scores = {}\n",
        "\n",
        "cohen_kappa_scores[(labellers[1], labellers[2])] = cohen_kappa_score(block_12[labellers[1]], block_12[labellers[2]])\n",
        "print(cohen_kappa_scores[(labellers[1], labellers[2])])"
      ]
    },
    {
      "attachments": {},
      "cell_type": "markdown",
      "metadata": {
        "id": "LKjvodk2QQKW"
      },
      "source": [
        "### Label-wise agreements (as a confusion matrix)\n",
        "- First we'd like to assess the maximum agreement between each pair of annotators for each label they labelled."
      ]
    },
    {
      "cell_type": "code",
      "execution_count": 36,
      "metadata": {
        "id": "g6vR_JYg9pzE"
      },
      "outputs": [],
      "source": [
        "from pycm import *\n",
        "\n",
        "cm = ConfusionMatrix(actual_vector=block_12['R'].to_numpy(), predict_vector=block_12['H'].to_numpy(), is_imbalanced=True) "
      ]
    },
    {
      "attachments": {},
      "cell_type": "markdown",
      "metadata": {
        "id": "_H9gpSiJSqI8"
      },
      "source": [
        "## Seeing maximum agreement for the label that was chosen most of the times for just two annotators."
      ]
    },
    {
      "cell_type": "code",
      "execution_count": 37,
      "metadata": {
        "colab": {
          "base_uri": "https://localhost:8080/",
          "height": 313
        },
        "id": "l2ctMf5ZFbCt",
        "outputId": "442e1582-1677-4f32-d432-cc871240b5cb"
      },
      "outputs": [
        {
          "data": {
            "text/plain": [
              "<matplotlib.axes._subplots.AxesSubplot at 0x7f05095f05b0>"
            ]
          },
          "execution_count": 37,
          "metadata": {},
          "output_type": "execute_result"
        },
        {
          "data": {
            "image/png": "[encoded data removed]",
            "text/plain": [
              "<Figure size 432x288 with 2 Axes>"
            ]
          },
          "metadata": {
            "needs_background": "light"
          },
          "output_type": "display_data"
        }
      ],
      "source": [
        "cm.plot()"
      ]
    },
    {
      "cell_type": "code",
      "execution_count": 38,
      "metadata": {
        "colab": {
          "base_uri": "https://localhost:8080/"
        },
        "id": "UUi1Vsw1UcGf",
        "outputId": "38c8d9f4-2db8-4699-e8fe-53eaa53ff4ac"
      },
      "outputs": [
        {
          "name": "stdout",
          "output_type": "stream",
          "text": [
            "Predict  1        2        3        4        5        7        \n",
            "Actual\n",
            "1        51       0        0        4        0        0        \n",
            "\n",
            "2        4        2        1        2        0        1        \n",
            "\n",
            "3        0        0        2        0        6        0        \n",
            "\n",
            "4        2        0        2        39       67       3        \n",
            "\n",
            "5        0        0        0        0        0        0        \n",
            "\n",
            "7        0        0        0        0        0        0        \n",
            "\n",
            "\n"
          ]
        }
      ],
      "source": [
        "cm.print_matrix()"
      ]
    },
    {
      "cell_type": "code",
      "execution_count": 41,
      "metadata": {
        "colab": {
          "base_uri": "https://localhost:8080/"
        },
        "id": "q4EPm98wMlQy",
        "outputId": "b0039b51-f09d-4c1d-b38f-4eb21a7d5d1d"
      },
      "outputs": [
        {
          "data": {
            "text/plain": [
              "{1: {1: 51, 2: 0, 3: 0, 4: 4, 5: 0, 7: 0},\n",
              " 2: {1: 4, 2: 2, 3: 1, 4: 2, 5: 0, 7: 1},\n",
              " 3: {1: 0, 2: 0, 3: 2, 4: 0, 5: 6, 7: 0},\n",
              " 4: {1: 2, 2: 0, 3: 2, 4: 39, 5: 67, 7: 3},\n",
              " 5: {1: 0, 2: 0, 3: 0, 4: 0, 5: 0, 7: 0},\n",
              " 7: {1: 0, 2: 0, 3: 0, 4: 0, 5: 0, 7: 0}}"
            ]
          },
          "execution_count": 41,
          "metadata": {},
          "output_type": "execute_result"
        }
      ],
      "source": [
        "cm.table"
      ]
    },
    {
      "cell_type": "code",
      "execution_count": 40,
      "metadata": {
        "colab": {
          "base_uri": "https://localhost:8080/"
        },
        "id": "eFrTBrGITBYc",
        "outputId": "8fdf8070-8a70-41a1-d5aa-f3c160fd2402"
      },
      "outputs": [
        {
          "data": {
            "text/plain": [
              "{'FE': 1,\n",
              " 'RE': 2,\n",
              " 'Negation': 3,\n",
              " 'Neutral': 4,\n",
              " 'Alternation': 5,\n",
              " 'Equivalence': 6,\n",
              " 'Cover': 7}"
            ]
          },
          "execution_count": 40,
          "metadata": {},
          "output_type": "execute_result"
        }
      ],
      "source": [
        "label_map"
      ]
    },
    {
      "cell_type": "code",
      "execution_count": 42,
      "metadata": {
        "id": "0pWujsM9TQFS"
      },
      "outputs": [],
      "source": [
        "lmap = {1:'FE', 2:'RE', 3:'Negation', 4:'Neutral', 5:'Alternation', 6:'Equivalence', 7:'Cover'}"
      ]
    },
    {
      "cell_type": "code",
      "execution_count": 43,
      "metadata": {
        "colab": {
          "base_uri": "https://localhost:8080/"
        },
        "id": "whVM3L91Sugl",
        "outputId": "77607869-44a6-4370-daa0-8cbd6a9b0eb8"
      },
      "outputs": [
        {
          "data": {
            "text/plain": [
              "{'Neutral': 113, 'FE': 55, 'RE': 10, 'Negation': 8}"
            ]
          },
          "execution_count": 43,
          "metadata": {},
          "output_type": "execute_result"
        }
      ],
      "source": [
        "a1_counts = {}\n",
        "for k, v in block_12['R'].value_counts().to_dict().items():\n",
        "  a1_counts[lmap[k]] = v\n",
        "a1_counts"
      ]
    },
    {
      "cell_type": "code",
      "execution_count": 44,
      "metadata": {
        "colab": {
          "base_uri": "https://localhost:8080/"
        },
        "id": "BYjOXatES110",
        "outputId": "7558fc5b-efea-41a0-dbef-fec9b8073f47"
      },
      "outputs": [
        {
          "data": {
            "text/plain": [
              "{'Alternation': 73,\n",
              " 'FE': 57,\n",
              " 'Neutral': 45,\n",
              " 'Negation': 5,\n",
              " 'Cover': 4,\n",
              " 'RE': 2}"
            ]
          },
          "execution_count": 44,
          "metadata": {},
          "output_type": "execute_result"
        }
      ],
      "source": [
        "a2_counts = {}\n",
        "for k, v in block_12['H'].value_counts().to_dict().items():\n",
        "  a2_counts[lmap[k]] = v\n",
        "a2_counts"
      ]
    },
    {
      "cell_type": "code",
      "execution_count": 46,
      "metadata": {
        "colab": {
          "base_uri": "https://localhost:8080/"
        },
        "id": "i7Mav4l3ViPq",
        "outputId": "193836fd-118d-4331-e9c9-e29313548910"
      },
      "outputs": [
        {
          "data": {
            "text/plain": [
              "{'FE': 112,\n",
              " 'RE': 12,\n",
              " 'Neutral': 158,\n",
              " 'Negation': 13,\n",
              " 'Alternation': 73,\n",
              " 'Cover': 4}"
            ]
          },
          "execution_count": 46,
          "metadata": {},
          "output_type": "execute_result"
        }
      ],
      "source": [
        "sum_counts = {}\n",
        "for key in ['FE','RE', 'Neutral','Negation' ]:\n",
        "  sum_counts[key] = a1_counts[key] + a2_counts[key]\n",
        "sum_counts['Alternation'] = a2_counts['Alternation']\n",
        "sum_counts['Cover'] = a2_counts['Cover']\n",
        "sum_counts"
      ]
    },
    {
      "attachments": {},
      "cell_type": "markdown",
      "metadata": {
        "id": "W1cbNcvoS_44"
      },
      "source": [
        "### Observing F1, precision and recall scores for pairwise confusion matrices.\n",
        "In this case, we consider a case where each annotator i can be Gold label annotator and compared with every other annotator j from remaining 1 annotators. So we consider the case that chosen Gold labels i.e. annotator's labels as Ground truth and we calculate pairwise \"Supposed Gold label\" with another annotator's labels. \n",
        "\n",
        "This is to say between any two annotators, we choose any one annotator, we would like to see how much agreement can exist and how would that reflect as F1, precision and recall scores.\n",
        "\n",
        "- For each pair of annotators, consider ith annotator to have ground truth and jth annotator to be prediction labels.\n",
        "- We still observe maximum agreement >50% for FE Labels.\n",
        "- We do observ ~50.53% precision, recall and F1-scores. Would not be very helpful, since we do not have \"True Gold labels\". \n",
        "- We use the following information for assessing how to design annotation schemes annotating automatically modified premise, hypothesis sentences with Generalized quantifiers as well as Adjectives & adverbs.\n",
        "- We want to observe the amount of labeling confusion that quantifiers and modifiers introduce.\n",
        "- We consider that wherever the label is not FE or RE, we can see maximum confusion. \n",
        "- Neutral - has second best agreement & is second most chosen label\n",
        "- Forward Entailment - has max best agreement & is also second most chosen label\n",
        "- All other cases, signify confusion due to level of difficulty.\n",
        "\n",
        "Total 186 * 2 = 372 labels required by 2 annotators for 186 premise, hypothesis pairs.\n",
        "\n",
        "- 'FE': 112,\n",
        "- 'RE': 12,\n",
        "- 'Neutral': 158,\n",
        "- 'Negation': 13,\n",
        "- 'Alternation': 73,\n",
        "- 'Cover': 4\n"
      ]
    },
    {
      "cell_type": "code",
      "execution_count": 48,
      "metadata": {
        "colab": {
          "base_uri": "https://localhost:8080/"
        },
        "id": "KUWmFr9_QPgc",
        "outputId": "10c86c44-27b9-49a5-f859-f2690ac36570"
      },
      "outputs": [
        {
          "name": "stdout",
          "output_type": "stream",
          "text": [
            "Predict  1        2        3        4        5        7        \n",
            "Actual\n",
            "1        51       0        0        4        0        0        \n",
            "\n",
            "2        4        2        1        2        0        1        \n",
            "\n",
            "3        0        0        2        0        6        0        \n",
            "\n",
            "4        2        0        2        39       67       3        \n",
            "\n",
            "5        0        0        0        0        0        0        \n",
            "\n",
            "7        0        0        0        0        0        0        \n",
            "\n",
            "\n",
            "\n",
            "\n",
            "\n",
            "Overall Statistics : \n",
            "\n",
            "95% CI                                                            (0.43352,0.57723)\n",
            "ACC Macro                                                         0.83513\n",
            "ARI                                                               0.44807\n",
            "AUNP                                                              None\n",
            "AUNU                                                              None\n",
            "Bangdiwala B                                                      0.49879\n",
            "Bennett S                                                         0.40645\n",
            "CBA                                                               0.28164\n",
            "CSI                                                               None\n",
            "Chi-Squared                                                       None\n",
            "Chi-Squared DF                                                    25\n",
            "Conditional Entropy                                               1.06321\n",
            "Cramer V                                                          None\n",
            "Cross Entropy                                                     2.3243\n",
            "F1 Macro                                                          0.3409\n",
            "F1 Micro                                                          0.50538\n",
            "FNR Macro                                                         None\n",
            "FNR Micro                                                         0.49462\n",
            "FPR Macro                                                         0.09314\n",
            "FPR Micro                                                         0.09892\n",
            "Gwet AC1                                                          0.42645\n",
            "Hamming Loss                                                      0.49462\n",
            "Joint Entropy                                                     2.44176\n",
            "KL Divergence                                                     None\n",
            "Kappa                                                             0.34975\n",
            "Kappa 95% CI                                                      (0.25529,0.44421)\n",
            "Kappa No Prevalence                                               0.01075\n",
            "Kappa Standard Error                                              0.04819\n",
            "Kappa Unbiased                                                    0.28114\n",
            "Krippendorff Alpha                                                0.28308\n",
            "Lambda A                                                          0.69863\n",
            "Lambda B                                                          0.48673\n",
            "Mutual Information                                                0.81425\n",
            "NIR                                                               0.60753\n",
            "Overall ACC                                                       0.50538\n",
            "Overall CEN                                                       0.22402\n",
            "Overall J                                                         (1.54561,0.2576)\n",
            "Overall MCC                                                       0.43565\n",
            "Overall MCEN                                                      0.25022\n",
            "Overall RACC                                                      0.23933\n",
            "Overall RACCU                                                     0.31193\n",
            "P-Value                                                           0.99812\n",
            "PPV Macro                                                         0.5269\n",
            "PPV Micro                                                         0.50538\n",
            "Pearson C                                                         None\n",
            "Phi-Squared                                                       None\n",
            "RCI                                                               0.59066\n",
            "RR                                                                31.0\n",
            "Reference Entropy                                                 1.37854\n",
            "Response Entropy                                                  1.87747\n",
            "SOA1(Landis & Koch)                                               Fair\n",
            "SOA2(Fleiss)                                                      Poor\n",
            "SOA3(Altman)                                                      Fair\n",
            "SOA4(Cicchetti)                                                   Poor\n",
            "SOA5(Cramer)                                                      None\n",
            "SOA6(Matthews)                                                    Weak\n",
            "Scott PI                                                          0.28114\n",
            "Standard Error                                                    0.03666\n",
            "TNR Macro                                                         0.90686\n",
            "TNR Micro                                                         0.90108\n",
            "TPR Macro                                                         None\n",
            "TPR Micro                                                         0.50538\n",
            "Zero-one Loss                                                     92\n",
            "\n",
            "Class Statistics :\n",
            "\n",
            "Classes                                                           1             2             3             4             5             7             \n",
            "ACC(Accuracy)                                                     0.94624       0.95699       0.95161       0.56989       0.60753       0.97849       \n",
            "AGF(Adjusted F-score)                                             0.94301       0.47931       0.51204       0.45425       0.0           0.0           \n",
            "AGM(Adjusted geometric mean)                                      0.94624       0.71597       0.7341        0.66287       None          None          \n",
            "AM(Difference between automatic and manual classification)        2             -8            -3            -68           73            4             \n",
            "AUC(Area under the ROC curve)                                     0.94074       0.6           0.61657       0.63147       None          None          \n",
            "AUCI(AUC value interpretation)                                    Excellent     Fair          Fair          Fair          None          None          \n",
            "AUPR(Area under the PR curve)                                     0.911         0.6           0.325         0.6059        None          None          \n",
            "BB(Braun-Blanquet similarity)                                     0.89474       0.2           0.25          0.34513       0.0           0.0           \n",
            "BCD(Bray-Curtis dissimilarity)                                    0.00538       0.02151       0.00806       0.1828        0.19624       0.01075       \n",
            "BM(Informedness or bookmaker informedness)                        0.88147       0.2           0.23315       0.26294       None          None          \n",
            "CEN(Confusion entropy)                                            0.13459       0.4686        0.36573       0.30316       0.12338       0.24422       \n",
            "DOR(Diagnostic odds ratio)                                        265.625       None          19.44444      5.88514       None          None          \n",
            "DP(Discriminant power)                                            1.33657       None          0.71055       0.42439       None          None          \n",
            "DPI(Discriminant power interpretation)                            Limited       None          Poor          Poor          None          None          \n",
            "ERR(Error rate)                                                   0.05376       0.04301       0.04839       0.43011       0.39247       0.02151       \n",
            "F0.5(F0.5 score)                                                  0.90106       0.55556       0.35714       0.66553       0.0           0.0           \n",
            "F1(F1 score - harmonic mean of precision and sensitivity)         0.91071       0.33333       0.30769       0.49367       0.0           0.0           \n",
            "F2(F2 score)                                                      0.92058       0.2381        0.27027       0.39235       0.0           0.0           \n",
            "FDR(False discovery rate)                                         0.10526       0.0           0.6           0.13333       1.0           1.0           \n",
            "FN(False negative/miss/type 2 error)                              4             8             6             74            0             0             \n",
            "FNR(Miss rate or false negative rate)                             0.07273       0.8           0.75          0.65487       None          None          \n",
            "FOR(False omission rate)                                          0.03101       0.04348       0.03315       0.52482       0.0           0.0           \n",
            "FP(False positive/type 1 error/false alarm)                       6             0             3             6             73            4             \n",
            "FPR(Fall-out or false positive rate)                              0.0458        0.0           0.01685       0.08219       0.39247       0.02151       \n",
            "G(G-measure geometric mean of precision and sensitivity)          0.91086       0.44721       0.31623       0.54691       None          None          \n",
            "GI(Gini index)                                                    0.88147       0.2           0.23315       0.26294       None          None          \n",
            "GM(G-mean geometric mean of specificity and sensitivity)          0.94064       0.44721       0.49577       0.56282       None          None          \n",
            "HD(Hamming distance)                                              10            8             9             80            73            4             \n",
            "IBA(Index of balanced accuracy)                                   0.86098       0.04          0.06559       0.13536       None          None          \n",
            "ICSI(Individual classification success index)                     0.82201       0.2           -0.35         0.2118        None          None          \n",
            "IS(Information score)                                             1.59733       4.21723       3.21723       0.51253       None          None          \n",
            "J(Jaccard index)                                                  0.83607       0.2           0.18182       0.32773       0.0           0.0           \n",
            "LS(Lift score)                                                    3.02584       18.6          9.3           1.42655       None          None          \n",
            "MCC(Matthews correlation coefficient)                             0.87256       0.43738       0.29245       0.29981       None          None          \n",
            "MCCI(Matthews correlation coefficient interpretation)             Strong        Weak          Negligible    Negligible    None          None          \n",
            "MCEN(Modified confusion entropy)                                  0.20385       0.49897       0.37287       0.31976       0.12338       0.24422       \n",
            "MK(Markedness)                                                    0.86373       0.95652       0.36685       0.34184       0.0           0.0           \n",
            "N(Condition negative)                                             131           176           178           73            186           186           \n",
            "NLR(Negative likelihood ratio)                                    0.07622       0.8           0.76286       0.71351       None          None          \n",
            "NLRI(Negative likelihood ratio interpretation)                    Good          Negligible    Negligible    Negligible    None          None          \n",
            "NPV(Negative predictive value)                                    0.96899       0.95652       0.96685       0.47518       1.0           1.0           \n",
            "OC(Overlap coefficient)                                           0.92727       1.0           0.4           0.86667       None          None          \n",
            "OOC(Otsuka-Ochiai coefficient)                                    0.91086       0.44721       0.31623       0.54691       None          None          \n",
            "OP(Optimized precision)                                           0.93193       0.29032       0.35708       0.11645       None          None          \n",
            "P(Condition positive or support)                                  55            10            8             113           0             0             \n",
            "PLR(Positive likelihood ratio)                                    20.24545      None          14.83333      4.19912       None          None          \n",
            "PLRI(Positive likelihood ratio interpretation)                    Good          None          Good          Poor          None          None          \n",
            "POP(Population)                                                   186           186           186           186           186           186           \n",
            "PPV(Precision or positive predictive value)                       0.89474       1.0           0.4           0.86667       0.0           0.0           \n",
            "PRE(Prevalence)                                                   0.2957        0.05376       0.04301       0.60753       0.0           0.0           \n",
            "Q(Yule Q - coefficient of colligation)                            0.9925        None          0.90217       0.70952       None          None          \n",
            "QI(Yule Q interpretation)                                         Strong        None          Strong        Moderate      None          None          \n",
            "RACC(Random accuracy)                                             0.09062       0.00058       0.00116       0.14698       0.0           0.0           \n",
            "RACCU(Random accuracy unbiased)                                   0.09065       0.00104       0.00122       0.1804        0.03851       0.00012       \n",
            "TN(True negative/correct rejection)                               125           176           175           67            113           182           \n",
            "TNR(Specificity or true negative rate)                            0.9542        1.0           0.98315       0.91781       0.60753       0.97849       \n",
            "TON(Test outcome negative)                                        129           184           181           141           113           182           \n",
            "TOP(Test outcome positive)                                        57            2             5             45            73            4             \n",
            "TP(True positive/hit)                                             51            2             2             39            0             0             \n",
            "TPR(Sensitivity, recall, hit rate, or true positive rate)         0.92727       0.2           0.25          0.34513       None          None          \n",
            "Y(Youden index)                                                   0.88147       0.2           0.23315       0.26294       None          None          \n",
            "dInd(Distance index)                                              0.08595       0.8           0.75019       0.66001       None          None          \n",
            "sInd(Similarity index)                                            0.93923       0.43431       0.46954       0.53331       None          None          \n",
            "\n",
            "Predict  1        2        3        4        5        7        \n",
            "Actual\n",
            "1        51       4        0        2        0        0        \n",
            "\n",
            "2        0        2        0        0        0        0        \n",
            "\n",
            "3        0        1        2        2        0        0        \n",
            "\n",
            "4        4        2        0        39       0        0        \n",
            "\n",
            "5        0        0        6        67       0        0        \n",
            "\n",
            "7        0        1        0        3        0        0        \n",
            "\n",
            "\n",
            "\n",
            "\n",
            "\n",
            "Overall Statistics : \n",
            "\n",
            "95% CI                                                            (0.43352,0.57723)\n",
            "ACC Macro                                                         0.83513\n",
            "ARI                                                               0.44807\n",
            "AUNP                                                              0.68377\n",
            "AUNU                                                              0.71075\n",
            "Bangdiwala B                                                      0.49879\n",
            "Bennett S                                                         0.40645\n",
            "CBA                                                               0.28164\n",
            "CSI                                                               None\n",
            "Chi-Squared                                                       None\n",
            "Chi-Squared DF                                                    25\n",
            "Conditional Entropy                                               0.56429\n",
            "Cramer V                                                          None\n",
            "Cross Entropy                                                     0.87999\n",
            "F1 Macro                                                          0.3409\n",
            "F1 Micro                                                          0.50538\n",
            "FNR Macro                                                         0.4731\n",
            "FNR Micro                                                         0.49462\n",
            "FPR Macro                                                         0.10541\n",
            "FPR Micro                                                         0.09892\n",
            "Gwet AC1                                                          0.42645\n",
            "Hamming Loss                                                      0.49462\n",
            "Joint Entropy                                                     2.44176\n",
            "KL Divergence                                                     None\n",
            "Kappa                                                             0.34975\n",
            "Kappa 95% CI                                                      (0.25529,0.44421)\n",
            "Kappa No Prevalence                                               0.01075\n",
            "Kappa Standard Error                                              0.04819\n",
            "Kappa Unbiased                                                    0.28114\n",
            "Krippendorff Alpha                                                0.28308\n",
            "Lambda A                                                          0.48673\n",
            "Lambda B                                                          0.69863\n",
            "Mutual Information                                                0.81425\n",
            "NIR                                                               0.39247\n",
            "Overall ACC                                                       0.50538\n",
            "Overall CEN                                                       0.22402\n",
            "Overall J                                                         (1.54561,0.2576)\n",
            "Overall MCC                                                       0.43565\n",
            "Overall MCEN                                                      0.25022\n",
            "Overall RACC                                                      0.23933\n",
            "Overall RACCU                                                     0.31193\n",
            "P-Value                                                           0.00116\n",
            "PPV Macro                                                         None\n",
            "PPV Micro                                                         0.50538\n",
            "Pearson C                                                         None\n",
            "Phi-Squared                                                       None\n",
            "RCI                                                               0.4337\n",
            "RR                                                                31.0\n",
            "Reference Entropy                                                 1.87747\n",
            "Response Entropy                                                  1.37854\n",
            "SOA1(Landis & Koch)                                               Fair\n",
            "SOA2(Fleiss)                                                      Poor\n",
            "SOA3(Altman)                                                      Fair\n",
            "SOA4(Cicchetti)                                                   Poor\n",
            "SOA5(Cramer)                                                      None\n",
            "SOA6(Matthews)                                                    Weak\n",
            "Scott PI                                                          0.28114\n",
            "Standard Error                                                    0.03666\n",
            "TNR Macro                                                         0.89459\n",
            "TNR Micro                                                         0.90108\n",
            "TPR Macro                                                         0.5269\n",
            "TPR Micro                                                         0.50538\n",
            "Zero-one Loss                                                     92\n",
            "\n",
            "Class Statistics :\n",
            "\n",
            "Classes                                                           1             2             3             4             5             7             \n",
            "ACC(Accuracy)                                                     0.94624       0.95699       0.95161       0.56989       0.60753       0.97849       \n",
            "AGF(Adjusted F-score)                                             0.92867       0.74199       0.59156       0.71757       0.0           0.0           \n",
            "AGM(Adjusted geometric mean)                                      0.94663       0.96733       0.79202       0.56992       0             0             \n",
            "AM(Difference between automatic and manual classification)        -2            8             3             68            -73           -4            \n",
            "AUC(Area under the ROC curve)                                     0.93186       0.97826       0.68343       0.67092       0.5           0.5           \n",
            "AUCI(AUC value interpretation)                                    Excellent     Excellent     Fair          Fair          Poor          Poor          \n",
            "AUPR(Area under the PR curve)                                     0.911         0.6           0.325         0.6059        None          None          \n",
            "BB(Braun-Blanquet similarity)                                     0.89474       0.2           0.25          0.34513       0.0           0.0           \n",
            "BCD(Bray-Curtis dissimilarity)                                    0.00538       0.02151       0.00806       0.1828        0.19624       0.01075       \n",
            "BM(Informedness or bookmaker informedness)                        0.86373       0.95652       0.36685       0.34184       0.0           0.0           \n",
            "CEN(Confusion entropy)                                            0.13459       0.4686        0.36573       0.30316       0.12338       0.24422       \n",
            "DOR(Diagnostic odds ratio)                                        265.625       None          19.44444      5.88514       None          None          \n",
            "DP(Discriminant power)                                            1.33657       None          0.71055       0.42439       None          None          \n",
            "DPI(Discriminant power interpretation)                            Limited       None          Poor          Poor          None          None          \n",
            "ERR(Error rate)                                                   0.05376       0.04301       0.04839       0.43011       0.39247       0.02151       \n",
            "F0.5(F0.5 score)                                                  0.92058       0.2381        0.27027       0.39235       0.0           0.0           \n",
            "F1(F1 score - harmonic mean of precision and sensitivity)         0.91071       0.33333       0.30769       0.49367       0.0           0.0           \n",
            "F2(F2 score)                                                      0.90106       0.55556       0.35714       0.66553       0.0           0.0           \n",
            "FDR(False discovery rate)                                         0.07273       0.8           0.75          0.65487       None          None          \n",
            "FN(False negative/miss/type 2 error)                              6             0             3             6             73            4             \n",
            "FNR(Miss rate or false negative rate)                             0.10526       0.0           0.6           0.13333       1.0           1.0           \n",
            "FOR(False omission rate)                                          0.0458        0.0           0.01685       0.08219       0.39247       0.02151       \n",
            "FP(False positive/type 1 error/false alarm)                       4             8             6             74            0             0             \n",
            "FPR(Fall-out or false positive rate)                              0.03101       0.04348       0.03315       0.52482       0.0           0.0           \n",
            "G(G-measure geometric mean of precision and sensitivity)          0.91086       0.44721       0.31623       0.54691       None          None          \n",
            "GI(Gini index)                                                    0.86373       0.95652       0.36685       0.34184       0.0           0.0           \n",
            "GM(G-mean geometric mean of specificity and sensitivity)          0.93112       0.97802       0.62188       0.64173       0.0           0.0           \n",
            "HD(Hamming distance)                                              10            8             9             80            73            4             \n",
            "IBA(Index of balanced accuracy)                                   0.80261       0.99811       0.16752       0.57304       0.0           0.0           \n",
            "ICSI(Individual classification success index)                     0.82201       0.2           -0.35         0.2118        None          None          \n",
            "IS(Information score)                                             1.59733       4.21723       3.21723       0.51253       None          None          \n",
            "J(Jaccard index)                                                  0.83607       0.2           0.18182       0.32773       0.0           0.0           \n",
            "LS(Lift score)                                                    3.02584       18.6          9.3           1.42655       None          None          \n",
            "MCC(Matthews correlation coefficient)                             0.87256       0.43738       0.29245       0.29981       None          None          \n",
            "MCCI(Matthews correlation coefficient interpretation)             Strong        Weak          Negligible    Negligible    None          None          \n",
            "MCEN(Modified confusion entropy)                                  0.20385       0.49897       0.37287       0.31976       0.12338       0.24422       \n",
            "MK(Markedness)                                                    0.88147       0.2           0.23315       0.26294       None          None          \n",
            "N(Condition negative)                                             129           184           181           141           113           182           \n",
            "NLR(Negative likelihood ratio)                                    0.10863       0.0           0.62057       0.2806        1.0           1.0           \n",
            "NLRI(Negative likelihood ratio interpretation)                    Fair          Good          Negligible    Poor          Negligible    Negligible    \n",
            "NPV(Negative predictive value)                                    0.9542        1.0           0.98315       0.91781       0.60753       0.97849       \n",
            "OC(Overlap coefficient)                                           0.92727       1.0           0.4           0.86667       None          None          \n",
            "OOC(Otsuka-Ochiai coefficient)                                    0.91086       0.44721       0.31623       0.54691       None          None          \n",
            "OP(Optimized precision)                                           0.90639       0.93477       0.5369        0.27814       -0.39247      -0.02151      \n",
            "P(Condition positive or support)                                  57            2             5             45            73            4             \n",
            "PLR(Positive likelihood ratio)                                    28.85526      23.0          12.06667      1.65135       None          None          \n",
            "PLRI(Positive likelihood ratio interpretation)                    Good          Good          Good          Poor          None          None          \n",
            "POP(Population)                                                   186           186           186           186           186           186           \n",
            "PPV(Precision or positive predictive value)                       0.92727       0.2           0.25          0.34513       None          None          \n",
            "PRE(Prevalence)                                                   0.30645       0.01075       0.02688       0.24194       0.39247       0.02151       \n",
            "Q(Yule Q - coefficient of colligation)                            0.9925        None          0.90217       0.70952       None          None          \n",
            "QI(Yule Q interpretation)                                         Strong        None          Strong        Moderate      None          None          \n",
            "RACC(Random accuracy)                                             0.09062       0.00058       0.00116       0.14698       0.0           0.0           \n",
            "RACCU(Random accuracy unbiased)                                   0.09065       0.00104       0.00122       0.1804        0.03851       0.00012       \n",
            "TN(True negative/correct rejection)                               125           176           175           67            113           182           \n",
            "TNR(Specificity or true negative rate)                            0.96899       0.95652       0.96685       0.47518       1.0           1.0           \n",
            "TON(Test outcome negative)                                        131           176           178           73            186           186           \n",
            "TOP(Test outcome positive)                                        55            10            8             113           0             0             \n",
            "TP(True positive/hit)                                             51            2             2             39            0             0             \n",
            "TPR(Sensitivity, recall, hit rate, or true positive rate)         0.89474       1.0           0.4           0.86667       0.0           0.0           \n",
            "Y(Youden index)                                                   0.86373       0.95652       0.36685       0.34184       0.0           0.0           \n",
            "dInd(Distance index)                                              0.10974       0.04348       0.60092       0.54149       1.0           1.0           \n",
            "sInd(Similarity index)                                            0.92241       0.96926       0.57509       0.61711       0.29289       0.29289       \n",
            "\n"
          ]
        }
      ],
      "source": [
        "\n",
        "cm = {}\n",
        "\n",
        "cm[('R', 'H')] = ConfusionMatrix(actual_vector=block_12['R'].to_numpy(), predict_vector=block_12['H'].to_numpy())\n",
        "cm[('H','R')] = ConfusionMatrix(actual_vector=block_12['H'].to_numpy(), predict_vector=block_12['R'].to_numpy())\n",
        "print(cm[('R', 'H')])\n",
        "print(cm[('H','R')])"
      ]
    },
    {
      "attachments": {},
      "cell_type": "markdown",
      "metadata": {
        "id": "aK133BKwXd5Q"
      },
      "source": [
        "### Looking at total agreement counts for each label between each pair of annotators.\n",
        "- Max agreement is for FE, then Neutral.\n",
        "- But we cannot say if agreement was most, complexity to identify each of these three labels was easy."
      ]
    },
    {
      "cell_type": "code",
      "execution_count": 50,
      "metadata": {
        "colab": {
          "base_uri": "https://localhost:8080/"
        },
        "id": "4UYQp0-3Snd4",
        "outputId": "630ec06c-fbcd-477f-e649-aefa6d383087"
      },
      "outputs": [
        {
          "name": "stdout",
          "output_type": "stream",
          "text": [
            "('R', 'H')\n",
            "{1: {1: 51, 2: 0, 3: 0, 4: 4, 5: 0, 7: 0}, 2: {1: 4, 2: 2, 3: 1, 4: 2, 5: 0, 7: 1}, 3: {1: 0, 2: 0, 3: 2, 4: 0, 5: 6, 7: 0}, 4: {1: 2, 2: 0, 3: 2, 4: 39, 5: 67, 7: 3}, 5: {1: 0, 2: 0, 3: 0, 4: 0, 5: 0, 7: 0}, 7: {1: 0, 2: 0, 3: 0, 4: 0, 5: 0, 7: 0}}\n",
            "('H', 'R')\n",
            "{1: {1: 51, 2: 4, 3: 0, 4: 2, 5: 0, 7: 0}, 2: {1: 0, 2: 2, 3: 0, 4: 0, 5: 0, 7: 0}, 3: {1: 0, 2: 1, 3: 2, 4: 2, 5: 0, 7: 0}, 4: {1: 4, 2: 2, 3: 0, 4: 39, 5: 0, 7: 0}, 5: {1: 0, 2: 0, 3: 6, 4: 67, 5: 0, 7: 0}, 7: {1: 0, 2: 1, 3: 0, 4: 3, 5: 0, 7: 0}}\n"
          ]
        }
      ],
      "source": [
        "for k,v in cm.items():\n",
        "  print(k)\n",
        "  print(v.table)"
      ]
    },
    {
      "attachments": {},
      "cell_type": "markdown",
      "metadata": {
        "id": "xvBuhvNJX_Fv"
      },
      "source": [
        "## Cohen Kappa scores for modified labels \n",
        "\n",
        "Total 186 * 2 = 372 labels required by 2 annotators for 186 premise, hypothesis pairs.\n",
        "\n",
        "- 'FE': 112,\n",
        "- 'RE': 12,\n",
        "- 'Neutral': 158,\n",
        "- 'Negation': 13,\n",
        "- 'Alternation': 73,\n",
        "- 'Cover': 4\n",
        "\n",
        "So we recalculate the Cohen kappa score which is now: 34.97%."
      ]
    },
    {
      "cell_type": "code",
      "execution_count": 52,
      "metadata": {
        "colab": {
          "base_uri": "https://localhost:8080/"
        },
        "id": "OIasePyk2Jwq",
        "outputId": "ac3f0b12-84d8-40c8-81b0-5cc5b875f14f"
      },
      "outputs": [
        {
          "name": "stdout",
          "output_type": "stream",
          "text": [
            "0.34974920200638415\n"
          ]
        }
      ],
      "source": [
        "labellers = {1:'R', 2:'H'}\n",
        "cohen_kappa_scores_modified = {}\n",
        "\n",
        "cohen_kappa_scores_modified[(labellers[1], labellers[2])] = cohen_kappa_score(block_12[labellers[1]], block_12[labellers[2]])\n",
        "print(cohen_kappa_scores_modified[(labellers[1], labellers[2])])"
      ]
    },
    {
      "attachments": {},
      "cell_type": "markdown",
      "metadata": {
        "id": "UNBjg62DYLue"
      },
      "source": [
        "## Fleiss Kappa scores\n",
        "This is another way of finding above the level of agreement expected by chance. This considers random sampling among the raters (a little better than voted ratings, due to \"randomness\").\n",
        "Although this is purely statistical, since we have types of modifiers which influence thge rater's choice of label, we consider this for some \"randomized\" assessment for a approximated agreement scores. \n",
        "\n",
        "The score considers that if no one chose \"this\" label, we could still find out expected chance of agreement on \"this\" label.\n",
        "\n",
        "This does not tell if agreement is good enough. But just that if an agreement exists then how better is it to that of agreement by chance which in this case is 28.11%."
      ]
    },
    {
      "cell_type": "code",
      "execution_count": 54,
      "metadata": {
        "colab": {
          "base_uri": "https://localhost:8080/"
        },
        "id": "iHdYZez029H3",
        "outputId": "60b690ff-deb3-4acd-8561-65f02a2121c5"
      },
      "outputs": [
        {
          "data": {
            "text/plain": [
              "0.28114432145182633"
            ]
          },
          "execution_count": 54,
          "metadata": {},
          "output_type": "execute_result"
        }
      ],
      "source": [
        "from statsmodels.stats import inter_rater as irr\n",
        "data, categories = irr.aggregate_raters(block_12[['R','H']].to_numpy())\n",
        "irr.fleiss_kappa(data, method='fleiss')"
      ]
    },
    {
      "attachments": {},
      "cell_type": "markdown",
      "metadata": {
        "id": "9XkLX-zcbsYB"
      },
      "source": [
        "### Krippendorff's Alpha\n",
        "Essentially measures amount of reliability as a measure of disagreement.\n",
        "However this might not be relevant here, since we do not have concrete Ground truth. But if we did assume we did have Ground truth and this was reliable, this is how much reliable these labels based on agreement calculated from ratio of observed disagreement and disagreement expected by chance can be.\n",
        "\n",
        "Here krippendorff's alpha is 77.86%"
      ]
    },
    {
      "cell_type": "code",
      "execution_count": 55,
      "metadata": {
        "colab": {
          "base_uri": "https://localhost:8080/"
        },
        "id": "QVdVBV6Q3djB",
        "outputId": "9b4a7c7f-009b-4b3e-cce3-2e5c52f908d2"
      },
      "outputs": [
        {
          "data": {
            "text/plain": [
              "0.7786146952194375"
            ]
          },
          "execution_count": 55,
          "metadata": {},
          "output_type": "execute_result"
        }
      ],
      "source": [
        "import krippendorff\n",
        "krippendorff.alpha(block_12[['R','H']].to_numpy().T)"
      ]
    },
    {
      "cell_type": "code",
      "execution_count": 56,
      "metadata": {
        "id": "qS98B6B17zt6"
      },
      "outputs": [],
      "source": [
        "import agreement\n",
        "from agreement.utils.kernels import linear_kernel\n",
        "\n",
        "from agreement.metrics import cohens_kappa, krippendorffs_alpha, scotts_pi\n",
        "from agreement.utils.transform import pivot_table_frequency\n"
      ]
    },
    {
      "cell_type": "code",
      "execution_count": 57,
      "metadata": {
        "id": "TLjPVfk_4-i8"
      },
      "outputs": [],
      "source": [
        "this_array = []\n",
        "for i,l in enumerate(block_12[['R','H']].to_numpy()):\n",
        "  for k in range(0,2):\n",
        "    this_array.append([i,k+1, l[k]])\n",
        "arr = np.array(this_array)\n",
        "questions_answers_table = pivot_table_frequency(arr[:, 0], arr[:, 2])"
      ]
    },
    {
      "attachments": {},
      "cell_type": "markdown",
      "metadata": {
        "id": "SiQgEQCtc5uW"
      },
      "source": [
        "### Recomputing Cohen's kappa, krippendorff's alpha while calculating Scott's pi\n",
        "\n",
        "Scott's Pi is similar to Cohen's kappa, except it considered squared joint proportions to calculate inter-annotator reliability.\n",
        "\n",
        "In this case, Scott's pi is 28.11% different from Cohen's kappa"
      ]
    },
    {
      "cell_type": "code",
      "execution_count": 58,
      "metadata": {
        "id": "yiYli1r-4o1W"
      },
      "outputs": [],
      "source": [
        "users_answers_table = pivot_table_frequency(arr[:, 1], arr[:, 2])\n",
        "kappa = cohens_kappa(questions_answers_table, users_answers_table)\n",
        "weighted_kappa = cohens_kappa(questions_answers_table, users_answers_table, weights_kernel=linear_kernel)\n",
        "\n",
        "alpha = krippendorffs_alpha(questions_answers_table)\n",
        "pi = scotts_pi(questions_answers_table)"
      ]
    },
    {
      "cell_type": "code",
      "execution_count": 59,
      "metadata": {
        "colab": {
          "base_uri": "https://localhost:8080/"
        },
        "id": "L1UJdWhx7-zl",
        "outputId": "2fa8ac1e-ec2d-4c25-fef8-5d330290a5f8"
      },
      "outputs": [
        {
          "data": {
            "text/plain": [
              "(0.349749202006384, 0.6411379986919555, 0.283076729189859, 0.28114432145182633)"
            ]
          },
          "execution_count": 59,
          "metadata": {},
          "output_type": "execute_result"
        }
      ],
      "source": [
        "kappa, weighted_kappa, alpha, pi"
      ]
    },
    {
      "attachments": {},
      "cell_type": "markdown",
      "metadata": {
        "id": "VDO1NYmpaxnB"
      },
      "source": [
        "## Agreements based on Quantifier & Modified SVO"
      ]
    },
    {
      "cell_type": "code",
      "execution_count": 60,
      "metadata": {
        "id": "Njc3cso6bOPx"
      },
      "outputs": [],
      "source": [
        "u = [\"every\", \"always\", \"never\", \"everyone of\"]\n",
        "e = [\"some\", \"at least\", \"exactly one\", \"all but one\"]\n",
        "n = [\"not every\", \"no\", \"not\"]\n",
        "adj = [\"green\", \"happy\", \"sad\", \"good\", \"bad\", \"abnormally\", \"elegantly\", \"an elegant\", \"an abnormal\"]"
      ]
    },
    {
      "cell_type": "code",
      "execution_count": 61,
      "metadata": {
        "id": "aVY4jRQ-bIk4"
      },
      "outputs": [],
      "source": [
        "def get_quantifier_type(x):\n",
        "  if x in u:\n",
        "    return \"Universal\"\n",
        "  elif x in e:\n",
        "    return \"Existential\"\n",
        "  elif x in n:\n",
        "    return \"Negation\"\n",
        "  elif x in adj:\n",
        "    return \"Adjectives/Adverbs\"\n",
        "  else:\n",
        "    return \"NONE\""
      ]
    },
    {
      "cell_type": "code",
      "execution_count": 62,
      "metadata": {
        "colab": {
          "base_uri": "https://localhost:8080/",
          "height": 423
        },
        "id": "Q6gH2gORa-k4",
        "outputId": "b5bb2fac-b0d4-4b7c-acd0-db85c9087da4"
      },
      "outputs": [
        {
          "data": {
            "text/html": [
              "\n",
              "  <div id=\"df-ba5adaac-4c9d-411a-9a25-d25cdc20745e\">\n",
              "    <div class=\"colab-df-container\">\n",
              "      <div>\n",
              "<style scoped>\n",
              "    .dataframe tbody tr th:only-of-type {\n",
              "        vertical-align: middle;\n",
              "    }\n",
              "\n",
              "    .dataframe tbody tr th {\n",
              "        vertical-align: top;\n",
              "    }\n",
              "\n",
              "    .dataframe thead th {\n",
              "        text-align: right;\n",
              "    }\n",
              "</style>\n",
              "<table border=\"1\" class=\"dataframe\">\n",
              "  <thead>\n",
              "    <tr style=\"text-align: right;\">\n",
              "      <th></th>\n",
              "      <th>SICK_id</th>\n",
              "      <th>Premise</th>\n",
              "      <th>Hypothesis</th>\n",
              "      <th>Modifier</th>\n",
              "      <th>Premise/Hypothesis/Both</th>\n",
              "      <th>Part of Premise/Hypothesis Modified</th>\n",
              "      <th>R</th>\n",
              "      <th>H</th>\n",
              "      <th>Quantifier Type</th>\n",
              "    </tr>\n",
              "  </thead>\n",
              "  <tbody>\n",
              "    <tr>\n",
              "      <th>0</th>\n",
              "      <td>211</td>\n",
              "      <td>two dogs are playing by a tree</td>\n",
              "      <td>two dogs are playing by a plant</td>\n",
              "      <td>NONE</td>\n",
              "      <td>NONE</td>\n",
              "      <td>NONE</td>\n",
              "      <td>1</td>\n",
              "      <td>1</td>\n",
              "      <td>NONE</td>\n",
              "    </tr>\n",
              "    <tr>\n",
              "      <th>1</th>\n",
              "      <td>211</td>\n",
              "      <td>every two dogs are playing by a tree</td>\n",
              "      <td>two dogs are playing by a plant</td>\n",
              "      <td>every</td>\n",
              "      <td>Premise</td>\n",
              "      <td>Subject</td>\n",
              "      <td>1</td>\n",
              "      <td>1</td>\n",
              "      <td>Universal</td>\n",
              "    </tr>\n",
              "    <tr>\n",
              "      <th>2</th>\n",
              "      <td>211</td>\n",
              "      <td>two dogs are playing by a tree</td>\n",
              "      <td>every two dogs are playing by a plant</td>\n",
              "      <td>every</td>\n",
              "      <td>Hypothesis</td>\n",
              "      <td>Subject</td>\n",
              "      <td>2</td>\n",
              "      <td>7</td>\n",
              "      <td>Universal</td>\n",
              "    </tr>\n",
              "    <tr>\n",
              "      <th>3</th>\n",
              "      <td>211</td>\n",
              "      <td>every two dogs are playing by a tree</td>\n",
              "      <td>every two dogs are playing by a plant</td>\n",
              "      <td>every</td>\n",
              "      <td>Both</td>\n",
              "      <td>Subject</td>\n",
              "      <td>2</td>\n",
              "      <td>1</td>\n",
              "      <td>Universal</td>\n",
              "    </tr>\n",
              "    <tr>\n",
              "      <th>4</th>\n",
              "      <td>211</td>\n",
              "      <td>some two dogs are playing by a tree</td>\n",
              "      <td>two dogs are playing by a plant</td>\n",
              "      <td>some</td>\n",
              "      <td>Premise</td>\n",
              "      <td>Subject</td>\n",
              "      <td>1</td>\n",
              "      <td>1</td>\n",
              "      <td>Existential</td>\n",
              "    </tr>\n",
              "    <tr>\n",
              "      <th>...</th>\n",
              "      <td>...</td>\n",
              "      <td>...</td>\n",
              "      <td>...</td>\n",
              "      <td>...</td>\n",
              "      <td>...</td>\n",
              "      <td>...</td>\n",
              "      <td>...</td>\n",
              "      <td>...</td>\n",
              "      <td>...</td>\n",
              "    </tr>\n",
              "    <tr>\n",
              "      <th>88</th>\n",
              "      <td>212</td>\n",
              "      <td>Two dogs are playing by a tree</td>\n",
              "      <td>Two dogs are sleeping by exactly one tree</td>\n",
              "      <td>exactly one</td>\n",
              "      <td>Hypothesis</td>\n",
              "      <td>Object</td>\n",
              "      <td>4</td>\n",
              "      <td>5</td>\n",
              "      <td>Existential</td>\n",
              "    </tr>\n",
              "    <tr>\n",
              "      <th>89</th>\n",
              "      <td>212</td>\n",
              "      <td>Two dogs are playing by exactly one tree</td>\n",
              "      <td>Two dogs are sleeping by exactly one tree</td>\n",
              "      <td>exactly one</td>\n",
              "      <td>Both</td>\n",
              "      <td>Object</td>\n",
              "      <td>4</td>\n",
              "      <td>5</td>\n",
              "      <td>Existential</td>\n",
              "    </tr>\n",
              "    <tr>\n",
              "      <th>90</th>\n",
              "      <td>212</td>\n",
              "      <td>Two dogs are playing by a an elegant tree</td>\n",
              "      <td>Two dogs are sleeping by a tree\\n</td>\n",
              "      <td>an elegant</td>\n",
              "      <td>Premise</td>\n",
              "      <td>Object</td>\n",
              "      <td>4</td>\n",
              "      <td>5</td>\n",
              "      <td>Adjectives/Adverbs</td>\n",
              "    </tr>\n",
              "    <tr>\n",
              "      <th>91</th>\n",
              "      <td>212</td>\n",
              "      <td>Two dogs are playing by a tree</td>\n",
              "      <td>Two dogs are sleeping by a an elegant tree</td>\n",
              "      <td>an elegant</td>\n",
              "      <td>Hypothesis</td>\n",
              "      <td>Object</td>\n",
              "      <td>4</td>\n",
              "      <td>5</td>\n",
              "      <td>Adjectives/Adverbs</td>\n",
              "    </tr>\n",
              "    <tr>\n",
              "      <th>92</th>\n",
              "      <td>212</td>\n",
              "      <td>Two dogs are playing by a an elegant tree</td>\n",
              "      <td>Two dogs are sleeping by a an elegant tree</td>\n",
              "      <td>an elegant</td>\n",
              "      <td>Both</td>\n",
              "      <td>Object</td>\n",
              "      <td>4</td>\n",
              "      <td>5</td>\n",
              "      <td>Adjectives/Adverbs</td>\n",
              "    </tr>\n",
              "  </tbody>\n",
              "</table>\n",
              "<p>186 rows × 9 columns</p>\n",
              "</div>\n",
              "      <button class=\"colab-df-convert\" onclick=\"convertToInteractive('df-ba5adaac-4c9d-411a-9a25-d25cdc20745e')\"\n",
              "              title=\"Convert this dataframe to an interactive table.\"\n",
              "              style=\"display:none;\">\n",
              "        \n",
              "  <svg xmlns=\"http://www.w3.org/2000/svg\" height=\"24px\"viewBox=\"0 0 24 24\"\n",
              "       width=\"24px\">\n",
              "    <path d=\"M0 0h24v24H0V0z\" fill=\"none\"/>\n",
              "    <path d=\"M18.56 5.44l.94 2.06.94-2.06 2.06-.94-2.06-.94-.94-2.06-.94 2.06-2.06.94zm-11 1L8.5 8.5l.94-2.06 2.06-.94-2.06-.94L8.5 2.5l-.94 2.06-2.06.94zm10 10l.94 2.06.94-2.06 2.06-.94-2.06-.94-.94-2.06-.94 2.06-2.06.94z\"/><path d=\"M17.41 7.96l-1.37-1.37c-.4-.4-.92-.59-1.43-.59-.52 0-1.04.2-1.43.59L10.3 9.45l-7.72 7.72c-.78.78-.78 2.05 0 2.83L4 21.41c.39.39.9.59 1.41.59.51 0 1.02-.2 1.41-.59l7.78-7.78 2.81-2.81c.8-.78.8-2.07 0-2.86zM5.41 20L4 18.59l7.72-7.72 1.47 1.35L5.41 20z\"/>\n",
              "  </svg>\n",
              "      </button>\n",
              "      \n",
              "  <style>\n",
              "    .colab-df-container {\n",
              "      display:flex;\n",
              "      flex-wrap:wrap;\n",
              "      gap: 12px;\n",
              "    }\n",
              "\n",
              "    .colab-df-convert {\n",
              "      background-color: #E8F0FE;\n",
              "      border: none;\n",
              "      border-radius: 50%;\n",
              "      cursor: pointer;\n",
              "      display: none;\n",
              "      fill: #1967D2;\n",
              "      height: 32px;\n",
              "      padding: 0 0 0 0;\n",
              "      width: 32px;\n",
              "    }\n",
              "\n",
              "    .colab-df-convert:hover {\n",
              "      background-color: #E2EBFA;\n",
              "      box-shadow: 0px 1px 2px rgba(60, 64, 67, 0.3), 0px 1px 3px 1px rgba(60, 64, 67, 0.15);\n",
              "      fill: #174EA6;\n",
              "    }\n",
              "\n",
              "    [theme=dark] .colab-df-convert {\n",
              "      background-color: #3B4455;\n",
              "      fill: #D2E3FC;\n",
              "    }\n",
              "\n",
              "    [theme=dark] .colab-df-convert:hover {\n",
              "      background-color: #434B5C;\n",
              "      box-shadow: 0px 1px 3px 1px rgba(0, 0, 0, 0.15);\n",
              "      filter: drop-shadow(0px 1px 2px rgba(0, 0, 0, 0.3));\n",
              "      fill: #FFFFFF;\n",
              "    }\n",
              "  </style>\n",
              "\n",
              "      <script>\n",
              "        const buttonEl =\n",
              "          document.querySelector('#df-ba5adaac-4c9d-411a-9a25-d25cdc20745e button.colab-df-convert');\n",
              "        buttonEl.style.display =\n",
              "          google.colab.kernel.accessAllowed ? 'block' : 'none';\n",
              "\n",
              "        async function convertToInteractive(key) {\n",
              "          const element = document.querySelector('#df-ba5adaac-4c9d-411a-9a25-d25cdc20745e');\n",
              "          const dataTable =\n",
              "            await google.colab.kernel.invokeFunction('convertToInteractive',\n",
              "                                                     [key], {});\n",
              "          if (!dataTable) return;\n",
              "\n",
              "          const docLinkHtml = 'Like what you see? Visit the ' +\n",
              "            '<a target=\"_blank\" href=https://colab.research.google.com/notebooks/data_table.ipynb>data table notebook</a>'\n",
              "            + ' to learn more about interactive tables.';\n",
              "          element.innerHTML = '';\n",
              "          dataTable['output_type'] = 'display_data';\n",
              "          await google.colab.output.renderOutput(dataTable, element);\n",
              "          const docLink = document.createElement('div');\n",
              "          docLink.innerHTML = docLinkHtml;\n",
              "          element.appendChild(docLink);\n",
              "        }\n",
              "      </script>\n",
              "    </div>\n",
              "  </div>\n",
              "  "
            ],
            "text/plain": [
              "    SICK_id                                    Premise  \\\n",
              "0       211             two dogs are playing by a tree   \n",
              "1       211       every two dogs are playing by a tree   \n",
              "2       211             two dogs are playing by a tree   \n",
              "3       211       every two dogs are playing by a tree   \n",
              "4       211        some two dogs are playing by a tree   \n",
              "..      ...                                        ...   \n",
              "88      212             Two dogs are playing by a tree   \n",
              "89      212   Two dogs are playing by exactly one tree   \n",
              "90      212  Two dogs are playing by a an elegant tree   \n",
              "91      212             Two dogs are playing by a tree   \n",
              "92      212  Two dogs are playing by a an elegant tree   \n",
              "\n",
              "                                    Hypothesis     Modifier  \\\n",
              "0              two dogs are playing by a plant         NONE   \n",
              "1              two dogs are playing by a plant        every   \n",
              "2        every two dogs are playing by a plant        every   \n",
              "3        every two dogs are playing by a plant        every   \n",
              "4              two dogs are playing by a plant         some   \n",
              "..                                         ...          ...   \n",
              "88   Two dogs are sleeping by exactly one tree  exactly one   \n",
              "89   Two dogs are sleeping by exactly one tree  exactly one   \n",
              "90           Two dogs are sleeping by a tree\\n   an elegant   \n",
              "91  Two dogs are sleeping by a an elegant tree   an elegant   \n",
              "92  Two dogs are sleeping by a an elegant tree   an elegant   \n",
              "\n",
              "   Premise/Hypothesis/Both Part of Premise/Hypothesis Modified  R  H  \\\n",
              "0                     NONE                                NONE  1  1   \n",
              "1                  Premise                             Subject  1  1   \n",
              "2               Hypothesis                             Subject  2  7   \n",
              "3                     Both                             Subject  2  1   \n",
              "4                  Premise                             Subject  1  1   \n",
              "..                     ...                                 ... .. ..   \n",
              "88              Hypothesis                              Object  4  5   \n",
              "89                    Both                              Object  4  5   \n",
              "90                 Premise                              Object  4  5   \n",
              "91              Hypothesis                              Object  4  5   \n",
              "92                    Both                              Object  4  5   \n",
              "\n",
              "       Quantifier Type  \n",
              "0                 NONE  \n",
              "1            Universal  \n",
              "2            Universal  \n",
              "3            Universal  \n",
              "4          Existential  \n",
              "..                 ...  \n",
              "88         Existential  \n",
              "89         Existential  \n",
              "90  Adjectives/Adverbs  \n",
              "91  Adjectives/Adverbs  \n",
              "92  Adjectives/Adverbs  \n",
              "\n",
              "[186 rows x 9 columns]"
            ]
          },
          "execution_count": 62,
          "metadata": {},
          "output_type": "execute_result"
        }
      ],
      "source": [
        "block_12['Quantifier Type'] = block_12['Modifier'].apply(lambda x: get_quantifier_type(x)  )\n",
        "block_12"
      ]
    },
    {
      "cell_type": "code",
      "execution_count": 81,
      "metadata": {
        "colab": {
          "base_uri": "https://localhost:8080/"
        },
        "id": "R280eLRkbjTg",
        "outputId": "3171c25d-746a-40c0-abd5-ca9f6a6393e1"
      },
      "outputs": [
        {
          "name": "stdout",
          "output_type": "stream",
          "text": [
            "Best : H_R\n",
            "\n",
            "Rank  Name   Class-Score       Overall-Score\n",
            "1     H_R    0.36528           0.31389\n",
            "2     R_H    0.32778           0.31389\n",
            "\n"
          ]
        }
      ],
      "source": [
        "cm_one_way = ConfusionMatrix(actual_vector=block_12['R'].to_list(), predict_vector=block_12['H'].to_list(), classes=lmap)\n",
        "cm_two_way = ConfusionMatrix(actual_vector=block_12['H'].to_list(), predict_vector=block_12['R'].to_list(), classes=lmap)\n",
        "cm_one_way.relabel(mapping= {k:lmap[k] for k in cm_one_way.classes})\n",
        "cm_two_way.relabel(mapping= {k:lmap[k] for k in cm_two_way.classes})\n",
        "cp = Compare({\"R_H\":cm_one_way,\"H_R\":cm_two_way})\n",
        "print(cp)"
      ]
    },
    {
      "cell_type": "code",
      "execution_count": 78,
      "metadata": {
        "colab": {
          "base_uri": "https://localhost:8080/"
        },
        "id": "L85-FHW7ORA_",
        "outputId": "cd234b3b-65e0-4c26-f1a7-d5dbcebd0c2b"
      },
      "outputs": [
        {
          "data": {
            "text/plain": [
              "{1: 'FE',\n",
              " 2: 'RE',\n",
              " 3: 'Negation',\n",
              " 4: 'Neutral',\n",
              " 5: 'Alternation',\n",
              " 6: 'Equivalence',\n",
              " 7: 'Cover'}"
            ]
          },
          "execution_count": 78,
          "metadata": {},
          "output_type": "execute_result"
        }
      ],
      "source": [
        "lmap"
      ]
    },
    {
      "cell_type": "code",
      "execution_count": 82,
      "metadata": {
        "colab": {
          "base_uri": "https://localhost:8080/"
        },
        "id": "xdTMLtjAcDPh",
        "outputId": "ad09086c-109f-412d-924e-d8d413e14f63"
      },
      "outputs": [
        {
          "data": {
            "text/plain": [
              "(pycm.ConfusionMatrix(classes: ['Alternation', 'Cover', 'FE', 'Negation', 'Neutral', 'RE']),\n",
              " ['H_R', 'R_H'],\n",
              " 'H_R')"
            ]
          },
          "execution_count": 82,
          "metadata": {},
          "output_type": "execute_result"
        }
      ],
      "source": [
        "cp.best, cp.sorted, cp.best_name"
      ]
    },
    {
      "cell_type": "code",
      "execution_count": 83,
      "metadata": {
        "colab": {
          "base_uri": "https://localhost:8080/"
        },
        "id": "yjbF_W6MNVx3",
        "outputId": "54ec37f0-f50e-4f43-a836-365ba5d3b764"
      },
      "outputs": [
        {
          "data": {
            "text/plain": [
              "(['Alternation', 'Cover', 'FE', 'Negation', 'Neutral', 'RE'],\n",
              " ['Alternation', 'Cover', 'FE', 'Negation', 'Neutral', 'RE'])"
            ]
          },
          "execution_count": 83,
          "metadata": {},
          "output_type": "execute_result"
        }
      ],
      "source": [
        "cm_one_way.classes, cm_two_way.classes"
      ]
    },
    {
      "attachments": {},
      "cell_type": "markdown",
      "metadata": {
        "id": "VIi_8ohjQ-KT"
      },
      "source": [
        "### Seeing the Confusion matrix density plots for Max agreement between each pair of annotators."
      ]
    },
    {
      "cell_type": "code",
      "execution_count": 98,
      "metadata": {
        "colab": {
          "base_uri": "https://localhost:8080/",
          "height": 791
        },
        "id": "IVjr4fSDcLqR",
        "outputId": "9cb794b9-f166-47ef-a3d2-ffc0427117a6"
      },
      "outputs": [
        {
          "data": {
            "image/png": "[encoded data removed]",
            "text/plain": [
              "<Figure size 576x432 with 2 Axes>"
            ]
          },
          "metadata": {
            "needs_background": "light"
          },
          "output_type": "display_data"
        },
        {
          "data": {
            "image/png": "[encoded data removed]",
            "text/plain": [
              "<Figure size 576x432 with 2 Axes>"
            ]
          },
          "metadata": {
            "needs_background": "light"
          },
          "output_type": "display_data"
        }
      ],
      "source": [
        "from matplotlib import pyplot as plt\n",
        "plt.rcParams[\"figure.figsize\"] = (8,6)\n",
        "cm_one_way.plot(cmap=plt.cm.Blues,number_label=True,plot_lib=\"seaborn\")\n",
        "plt.title(\"Annotator 3 & 4\")\n",
        "plt.savefig('blocks_211_212_ann34.png', dpi=100)\n",
        "cm_two_way.plot(cmap=plt.cm.Blues,number_label=True,plot_lib=\"seaborn\")\n",
        "plt.title(\"Annotator 4 & 3\")\n",
        "plt.savefig('blocks_211_212_ann43.png', dpi=100)"
      ]
    },
    {
      "cell_type": "code",
      "execution_count": 100,
      "metadata": {
        "colab": {
          "base_uri": "https://localhost:8080/",
          "height": 914
        },
        "id": "NNygPEnmcgJQ",
        "outputId": "03c59fac-56a6-44b4-fde0-105fe3101534"
      },
      "outputs": [
        {
          "name": "stdout",
          "output_type": "stream",
          "text": [
            "****** Counts for Modified SUBJ/VERB/OBJECT and annotators 1 & 2 ******** \n"
          ]
        },
        {
          "data": {
            "text/html": [
              "\n",
              "  <div id=\"df-3c5454ec-9518-4b95-b4c7-b5afbd878dfd\">\n",
              "    <div class=\"colab-df-container\">\n",
              "      <div>\n",
              "<style scoped>\n",
              "    .dataframe tbody tr th:only-of-type {\n",
              "        vertical-align: middle;\n",
              "    }\n",
              "\n",
              "    .dataframe tbody tr th {\n",
              "        vertical-align: top;\n",
              "    }\n",
              "\n",
              "    .dataframe thead th {\n",
              "        text-align: right;\n",
              "    }\n",
              "</style>\n",
              "<table border=\"1\" class=\"dataframe\">\n",
              "  <thead>\n",
              "    <tr style=\"text-align: right;\">\n",
              "      <th></th>\n",
              "      <th>Modified SUBJ/VERB/OBJECT</th>\n",
              "      <th>R</th>\n",
              "      <th>H</th>\n",
              "      <th>Count</th>\n",
              "    </tr>\n",
              "  </thead>\n",
              "  <tbody>\n",
              "    <tr>\n",
              "      <th>8</th>\n",
              "      <td>Object</td>\n",
              "      <td>4</td>\n",
              "      <td>5</td>\n",
              "      <td>32</td>\n",
              "    </tr>\n",
              "    <tr>\n",
              "      <th>19</th>\n",
              "      <td>Subject</td>\n",
              "      <td>4</td>\n",
              "      <td>5</td>\n",
              "      <td>25</td>\n",
              "    </tr>\n",
              "    <tr>\n",
              "      <th>2</th>\n",
              "      <td>Object</td>\n",
              "      <td>1</td>\n",
              "      <td>1</td>\n",
              "      <td>21</td>\n",
              "    </tr>\n",
              "    <tr>\n",
              "      <th>10</th>\n",
              "      <td>Subject</td>\n",
              "      <td>1</td>\n",
              "      <td>1</td>\n",
              "      <td>21</td>\n",
              "    </tr>\n",
              "    <tr>\n",
              "      <th>18</th>\n",
              "      <td>Subject</td>\n",
              "      <td>4</td>\n",
              "      <td>4</td>\n",
              "      <td>14</td>\n",
              "    </tr>\n",
              "    <tr>\n",
              "      <th>7</th>\n",
              "      <td>Object</td>\n",
              "      <td>4</td>\n",
              "      <td>4</td>\n",
              "      <td>12</td>\n",
              "    </tr>\n",
              "    <tr>\n",
              "      <th>26</th>\n",
              "      <td>Verb</td>\n",
              "      <td>4</td>\n",
              "      <td>5</td>\n",
              "      <td>10</td>\n",
              "    </tr>\n",
              "    <tr>\n",
              "      <th>25</th>\n",
              "      <td>Verb</td>\n",
              "      <td>4</td>\n",
              "      <td>4</td>\n",
              "      <td>10</td>\n",
              "    </tr>\n",
              "    <tr>\n",
              "      <th>21</th>\n",
              "      <td>Verb</td>\n",
              "      <td>1</td>\n",
              "      <td>1</td>\n",
              "      <td>6</td>\n",
              "    </tr>\n",
              "    <tr>\n",
              "      <th>15</th>\n",
              "      <td>Subject</td>\n",
              "      <td>3</td>\n",
              "      <td>5</td>\n",
              "      <td>5</td>\n",
              "    </tr>\n",
              "    <tr>\n",
              "      <th>12</th>\n",
              "      <td>Subject</td>\n",
              "      <td>2</td>\n",
              "      <td>1</td>\n",
              "      <td>4</td>\n",
              "    </tr>\n",
              "    <tr>\n",
              "      <th>1</th>\n",
              "      <td>NONE</td>\n",
              "      <td>4</td>\n",
              "      <td>4</td>\n",
              "      <td>3</td>\n",
              "    </tr>\n",
              "    <tr>\n",
              "      <th>0</th>\n",
              "      <td>NONE</td>\n",
              "      <td>1</td>\n",
              "      <td>1</td>\n",
              "      <td>3</td>\n",
              "    </tr>\n",
              "    <tr>\n",
              "      <th>14</th>\n",
              "      <td>Subject</td>\n",
              "      <td>3</td>\n",
              "      <td>3</td>\n",
              "      <td>2</td>\n",
              "    </tr>\n",
              "    <tr>\n",
              "      <th>17</th>\n",
              "      <td>Subject</td>\n",
              "      <td>4</td>\n",
              "      <td>3</td>\n",
              "      <td>2</td>\n",
              "    </tr>\n",
              "    <tr>\n",
              "      <th>5</th>\n",
              "      <td>Object</td>\n",
              "      <td>2</td>\n",
              "      <td>4</td>\n",
              "      <td>2</td>\n",
              "    </tr>\n",
              "    <tr>\n",
              "      <th>20</th>\n",
              "      <td>Subject</td>\n",
              "      <td>4</td>\n",
              "      <td>7</td>\n",
              "      <td>2</td>\n",
              "    </tr>\n",
              "    <tr>\n",
              "      <th>4</th>\n",
              "      <td>Object</td>\n",
              "      <td>2</td>\n",
              "      <td>2</td>\n",
              "      <td>2</td>\n",
              "    </tr>\n",
              "    <tr>\n",
              "      <th>22</th>\n",
              "      <td>Verb</td>\n",
              "      <td>1</td>\n",
              "      <td>4</td>\n",
              "      <td>2</td>\n",
              "    </tr>\n",
              "    <tr>\n",
              "      <th>11</th>\n",
              "      <td>Subject</td>\n",
              "      <td>1</td>\n",
              "      <td>4</td>\n",
              "      <td>1</td>\n",
              "    </tr>\n",
              "    <tr>\n",
              "      <th>9</th>\n",
              "      <td>Object</td>\n",
              "      <td>4</td>\n",
              "      <td>7</td>\n",
              "      <td>1</td>\n",
              "    </tr>\n",
              "    <tr>\n",
              "      <th>16</th>\n",
              "      <td>Subject</td>\n",
              "      <td>4</td>\n",
              "      <td>1</td>\n",
              "      <td>1</td>\n",
              "    </tr>\n",
              "    <tr>\n",
              "      <th>6</th>\n",
              "      <td>Object</td>\n",
              "      <td>4</td>\n",
              "      <td>1</td>\n",
              "      <td>1</td>\n",
              "    </tr>\n",
              "    <tr>\n",
              "      <th>23</th>\n",
              "      <td>Verb</td>\n",
              "      <td>2</td>\n",
              "      <td>3</td>\n",
              "      <td>1</td>\n",
              "    </tr>\n",
              "    <tr>\n",
              "      <th>24</th>\n",
              "      <td>Verb</td>\n",
              "      <td>3</td>\n",
              "      <td>5</td>\n",
              "      <td>1</td>\n",
              "    </tr>\n",
              "    <tr>\n",
              "      <th>3</th>\n",
              "      <td>Object</td>\n",
              "      <td>1</td>\n",
              "      <td>4</td>\n",
              "      <td>1</td>\n",
              "    </tr>\n",
              "    <tr>\n",
              "      <th>13</th>\n",
              "      <td>Subject</td>\n",
              "      <td>2</td>\n",
              "      <td>7</td>\n",
              "      <td>1</td>\n",
              "    </tr>\n",
              "  </tbody>\n",
              "</table>\n",
              "</div>\n",
              "      <button class=\"colab-df-convert\" onclick=\"convertToInteractive('df-3c5454ec-9518-4b95-b4c7-b5afbd878dfd')\"\n",
              "              title=\"Convert this dataframe to an interactive table.\"\n",
              "              style=\"display:none;\">\n",
              "        \n",
              "  <svg xmlns=\"http://www.w3.org/2000/svg\" height=\"24px\"viewBox=\"0 0 24 24\"\n",
              "       width=\"24px\">\n",
              "    <path d=\"M0 0h24v24H0V0z\" fill=\"none\"/>\n",
              "    <path d=\"M18.56 5.44l.94 2.06.94-2.06 2.06-.94-2.06-.94-.94-2.06-.94 2.06-2.06.94zm-11 1L8.5 8.5l.94-2.06 2.06-.94-2.06-.94L8.5 2.5l-.94 2.06-2.06.94zm10 10l.94 2.06.94-2.06 2.06-.94-2.06-.94-.94-2.06-.94 2.06-2.06.94z\"/><path d=\"M17.41 7.96l-1.37-1.37c-.4-.4-.92-.59-1.43-.59-.52 0-1.04.2-1.43.59L10.3 9.45l-7.72 7.72c-.78.78-.78 2.05 0 2.83L4 21.41c.39.39.9.59 1.41.59.51 0 1.02-.2 1.41-.59l7.78-7.78 2.81-2.81c.8-.78.8-2.07 0-2.86zM5.41 20L4 18.59l7.72-7.72 1.47 1.35L5.41 20z\"/>\n",
              "  </svg>\n",
              "      </button>\n",
              "      \n",
              "  <style>\n",
              "    .colab-df-container {\n",
              "      display:flex;\n",
              "      flex-wrap:wrap;\n",
              "      gap: 12px;\n",
              "    }\n",
              "\n",
              "    .colab-df-convert {\n",
              "      background-color: #E8F0FE;\n",
              "      border: none;\n",
              "      border-radius: 50%;\n",
              "      cursor: pointer;\n",
              "      display: none;\n",
              "      fill: #1967D2;\n",
              "      height: 32px;\n",
              "      padding: 0 0 0 0;\n",
              "      width: 32px;\n",
              "    }\n",
              "\n",
              "    .colab-df-convert:hover {\n",
              "      background-color: #E2EBFA;\n",
              "      box-shadow: 0px 1px 2px rgba(60, 64, 67, 0.3), 0px 1px 3px 1px rgba(60, 64, 67, 0.15);\n",
              "      fill: #174EA6;\n",
              "    }\n",
              "\n",
              "    [theme=dark] .colab-df-convert {\n",
              "      background-color: #3B4455;\n",
              "      fill: #D2E3FC;\n",
              "    }\n",
              "\n",
              "    [theme=dark] .colab-df-convert:hover {\n",
              "      background-color: #434B5C;\n",
              "      box-shadow: 0px 1px 3px 1px rgba(0, 0, 0, 0.15);\n",
              "      filter: drop-shadow(0px 1px 2px rgba(0, 0, 0, 0.3));\n",
              "      fill: #FFFFFF;\n",
              "    }\n",
              "  </style>\n",
              "\n",
              "      <script>\n",
              "        const buttonEl =\n",
              "          document.querySelector('#df-3c5454ec-9518-4b95-b4c7-b5afbd878dfd button.colab-df-convert');\n",
              "        buttonEl.style.display =\n",
              "          google.colab.kernel.accessAllowed ? 'block' : 'none';\n",
              "\n",
              "        async function convertToInteractive(key) {\n",
              "          const element = document.querySelector('#df-3c5454ec-9518-4b95-b4c7-b5afbd878dfd');\n",
              "          const dataTable =\n",
              "            await google.colab.kernel.invokeFunction('convertToInteractive',\n",
              "                                                     [key], {});\n",
              "          if (!dataTable) return;\n",
              "\n",
              "          const docLinkHtml = 'Like what you see? Visit the ' +\n",
              "            '<a target=\"_blank\" href=https://colab.research.google.com/notebooks/data_table.ipynb>data table notebook</a>'\n",
              "            + ' to learn more about interactive tables.';\n",
              "          element.innerHTML = '';\n",
              "          dataTable['output_type'] = 'display_data';\n",
              "          await google.colab.output.renderOutput(dataTable, element);\n",
              "          const docLink = document.createElement('div');\n",
              "          docLink.innerHTML = docLinkHtml;\n",
              "          element.appendChild(docLink);\n",
              "        }\n",
              "      </script>\n",
              "    </div>\n",
              "  </div>\n",
              "  "
            ],
            "text/plain": [
              "   Modified SUBJ/VERB/OBJECT  R  H  Count\n",
              "8                     Object  4  5     32\n",
              "19                   Subject  4  5     25\n",
              "2                     Object  1  1     21\n",
              "10                   Subject  1  1     21\n",
              "18                   Subject  4  4     14\n",
              "7                     Object  4  4     12\n",
              "26                      Verb  4  5     10\n",
              "25                      Verb  4  4     10\n",
              "21                      Verb  1  1      6\n",
              "15                   Subject  3  5      5\n",
              "12                   Subject  2  1      4\n",
              "1                       NONE  4  4      3\n",
              "0                       NONE  1  1      3\n",
              "14                   Subject  3  3      2\n",
              "17                   Subject  4  3      2\n",
              "5                     Object  2  4      2\n",
              "20                   Subject  4  7      2\n",
              "4                     Object  2  2      2\n",
              "22                      Verb  1  4      2\n",
              "11                   Subject  1  4      1\n",
              "9                     Object  4  7      1\n",
              "16                   Subject  4  1      1\n",
              "6                     Object  4  1      1\n",
              "23                      Verb  2  3      1\n",
              "24                      Verb  3  5      1\n",
              "3                     Object  1  4      1\n",
              "13                   Subject  2  7      1"
            ]
          },
          "execution_count": 100,
          "metadata": {},
          "output_type": "execute_result"
        }
      ],
      "source": [
        "block_12 = block_12.rename(columns={'Part of Premise/Hypothesis Modified':'Modified SUBJ/VERB/OBJECT'})\n",
        "res = block_12.groupby(['Modified SUBJ/VERB/OBJECT', 'R', 'H']).count().reset_index()[[ 'Quantifier Type', 'Modified SUBJ/VERB/OBJECT', 'R', 'H','Premise/Hypothesis/Both']]\n",
        "r = res.sort_values(by='Premise/Hypothesis/Both',ascending=False)[['Modified SUBJ/VERB/OBJECT','R', 'H','Quantifier Type']]\n",
        "r= r.rename(columns={ 'Quantifier Type':'Count'})\n",
        "print(\"****** Counts for Modified SUBJ/VERB/OBJECT and annotators 1 & 2 ******** \")\n",
        "r"
      ]
    },
    {
      "cell_type": "code",
      "execution_count": 101,
      "metadata": {
        "colab": {
          "base_uri": "https://localhost:8080/"
        },
        "id": "azsLs7DsdRTB",
        "outputId": "afe3b88c-f684-4423-c972-e53414592708"
      },
      "outputs": [
        {
          "data": {
            "text/plain": [
              "Adjectives/Adverbs    84\n",
              "Existential           42\n",
              "Universal             30\n",
              "Negation              24\n",
              "NONE                   6\n",
              "Name: Quantifier Type, dtype: int64"
            ]
          },
          "execution_count": 101,
          "metadata": {},
          "output_type": "execute_result"
        }
      ],
      "source": [
        "block_12['Quantifier Type'].value_counts()"
      ]
    },
    {
      "cell_type": "code",
      "execution_count": 103,
      "metadata": {
        "colab": {
          "base_uri": "https://localhost:8080/"
        },
        "id": "4FrPif3SdTdI",
        "outputId": "7ff6bb50-8a04-43fb-e0e7-74f72d655e7a"
      },
      "outputs": [
        {
          "data": {
            "text/plain": [
              "Subject    78\n",
              "Object     72\n",
              "Verb       30\n",
              "NONE        6\n",
              "Name: Modified SUBJ/VERB/OBJECT, dtype: int64"
            ]
          },
          "execution_count": 103,
          "metadata": {},
          "output_type": "execute_result"
        }
      ],
      "source": [
        "block_12['Modified SUBJ/VERB/OBJECT'].value_counts()"
      ]
    },
    {
      "cell_type": "code",
      "execution_count": 104,
      "metadata": {
        "colab": {
          "base_uri": "https://localhost:8080/",
          "height": 488
        },
        "id": "pH_yvmDJdZ17",
        "outputId": "420bced4-568c-4cf0-8a36-3d6643279dd0"
      },
      "outputs": [
        {
          "data": {
            "text/html": [
              "\n",
              "  <div id=\"df-acf6caa1-0763-48be-ace7-5a7d4ef9f563\">\n",
              "    <div class=\"colab-df-container\">\n",
              "      <div>\n",
              "<style scoped>\n",
              "    .dataframe tbody tr th:only-of-type {\n",
              "        vertical-align: middle;\n",
              "    }\n",
              "\n",
              "    .dataframe tbody tr th {\n",
              "        vertical-align: top;\n",
              "    }\n",
              "\n",
              "    .dataframe thead th {\n",
              "        text-align: right;\n",
              "    }\n",
              "</style>\n",
              "<table border=\"1\" class=\"dataframe\">\n",
              "  <thead>\n",
              "    <tr style=\"text-align: right;\">\n",
              "      <th></th>\n",
              "      <th>R</th>\n",
              "      <th>H</th>\n",
              "      <th>Count</th>\n",
              "    </tr>\n",
              "  </thead>\n",
              "  <tbody>\n",
              "    <tr>\n",
              "      <th>12</th>\n",
              "      <td>4</td>\n",
              "      <td>5</td>\n",
              "      <td>67</td>\n",
              "    </tr>\n",
              "    <tr>\n",
              "      <th>0</th>\n",
              "      <td>1</td>\n",
              "      <td>1</td>\n",
              "      <td>51</td>\n",
              "    </tr>\n",
              "    <tr>\n",
              "      <th>11</th>\n",
              "      <td>4</td>\n",
              "      <td>4</td>\n",
              "      <td>39</td>\n",
              "    </tr>\n",
              "    <tr>\n",
              "      <th>8</th>\n",
              "      <td>3</td>\n",
              "      <td>5</td>\n",
              "      <td>6</td>\n",
              "    </tr>\n",
              "    <tr>\n",
              "      <th>1</th>\n",
              "      <td>1</td>\n",
              "      <td>4</td>\n",
              "      <td>4</td>\n",
              "    </tr>\n",
              "    <tr>\n",
              "      <th>2</th>\n",
              "      <td>2</td>\n",
              "      <td>1</td>\n",
              "      <td>4</td>\n",
              "    </tr>\n",
              "    <tr>\n",
              "      <th>13</th>\n",
              "      <td>4</td>\n",
              "      <td>7</td>\n",
              "      <td>3</td>\n",
              "    </tr>\n",
              "    <tr>\n",
              "      <th>3</th>\n",
              "      <td>2</td>\n",
              "      <td>2</td>\n",
              "      <td>2</td>\n",
              "    </tr>\n",
              "    <tr>\n",
              "      <th>5</th>\n",
              "      <td>2</td>\n",
              "      <td>4</td>\n",
              "      <td>2</td>\n",
              "    </tr>\n",
              "    <tr>\n",
              "      <th>7</th>\n",
              "      <td>3</td>\n",
              "      <td>3</td>\n",
              "      <td>2</td>\n",
              "    </tr>\n",
              "    <tr>\n",
              "      <th>9</th>\n",
              "      <td>4</td>\n",
              "      <td>1</td>\n",
              "      <td>2</td>\n",
              "    </tr>\n",
              "    <tr>\n",
              "      <th>10</th>\n",
              "      <td>4</td>\n",
              "      <td>3</td>\n",
              "      <td>2</td>\n",
              "    </tr>\n",
              "    <tr>\n",
              "      <th>4</th>\n",
              "      <td>2</td>\n",
              "      <td>3</td>\n",
              "      <td>1</td>\n",
              "    </tr>\n",
              "    <tr>\n",
              "      <th>6</th>\n",
              "      <td>2</td>\n",
              "      <td>7</td>\n",
              "      <td>1</td>\n",
              "    </tr>\n",
              "  </tbody>\n",
              "</table>\n",
              "</div>\n",
              "      <button class=\"colab-df-convert\" onclick=\"convertToInteractive('df-acf6caa1-0763-48be-ace7-5a7d4ef9f563')\"\n",
              "              title=\"Convert this dataframe to an interactive table.\"\n",
              "              style=\"display:none;\">\n",
              "        \n",
              "  <svg xmlns=\"http://www.w3.org/2000/svg\" height=\"24px\"viewBox=\"0 0 24 24\"\n",
              "       width=\"24px\">\n",
              "    <path d=\"M0 0h24v24H0V0z\" fill=\"none\"/>\n",
              "    <path d=\"M18.56 5.44l.94 2.06.94-2.06 2.06-.94-2.06-.94-.94-2.06-.94 2.06-2.06.94zm-11 1L8.5 8.5l.94-2.06 2.06-.94-2.06-.94L8.5 2.5l-.94 2.06-2.06.94zm10 10l.94 2.06.94-2.06 2.06-.94-2.06-.94-.94-2.06-.94 2.06-2.06.94z\"/><path d=\"M17.41 7.96l-1.37-1.37c-.4-.4-.92-.59-1.43-.59-.52 0-1.04.2-1.43.59L10.3 9.45l-7.72 7.72c-.78.78-.78 2.05 0 2.83L4 21.41c.39.39.9.59 1.41.59.51 0 1.02-.2 1.41-.59l7.78-7.78 2.81-2.81c.8-.78.8-2.07 0-2.86zM5.41 20L4 18.59l7.72-7.72 1.47 1.35L5.41 20z\"/>\n",
              "  </svg>\n",
              "      </button>\n",
              "      \n",
              "  <style>\n",
              "    .colab-df-container {\n",
              "      display:flex;\n",
              "      flex-wrap:wrap;\n",
              "      gap: 12px;\n",
              "    }\n",
              "\n",
              "    .colab-df-convert {\n",
              "      background-color: #E8F0FE;\n",
              "      border: none;\n",
              "      border-radius: 50%;\n",
              "      cursor: pointer;\n",
              "      display: none;\n",
              "      fill: #1967D2;\n",
              "      height: 32px;\n",
              "      padding: 0 0 0 0;\n",
              "      width: 32px;\n",
              "    }\n",
              "\n",
              "    .colab-df-convert:hover {\n",
              "      background-color: #E2EBFA;\n",
              "      box-shadow: 0px 1px 2px rgba(60, 64, 67, 0.3), 0px 1px 3px 1px rgba(60, 64, 67, 0.15);\n",
              "      fill: #174EA6;\n",
              "    }\n",
              "\n",
              "    [theme=dark] .colab-df-convert {\n",
              "      background-color: #3B4455;\n",
              "      fill: #D2E3FC;\n",
              "    }\n",
              "\n",
              "    [theme=dark] .colab-df-convert:hover {\n",
              "      background-color: #434B5C;\n",
              "      box-shadow: 0px 1px 3px 1px rgba(0, 0, 0, 0.15);\n",
              "      filter: drop-shadow(0px 1px 2px rgba(0, 0, 0, 0.3));\n",
              "      fill: #FFFFFF;\n",
              "    }\n",
              "  </style>\n",
              "\n",
              "      <script>\n",
              "        const buttonEl =\n",
              "          document.querySelector('#df-acf6caa1-0763-48be-ace7-5a7d4ef9f563 button.colab-df-convert');\n",
              "        buttonEl.style.display =\n",
              "          google.colab.kernel.accessAllowed ? 'block' : 'none';\n",
              "\n",
              "        async function convertToInteractive(key) {\n",
              "          const element = document.querySelector('#df-acf6caa1-0763-48be-ace7-5a7d4ef9f563');\n",
              "          const dataTable =\n",
              "            await google.colab.kernel.invokeFunction('convertToInteractive',\n",
              "                                                     [key], {});\n",
              "          if (!dataTable) return;\n",
              "\n",
              "          const docLinkHtml = 'Like what you see? Visit the ' +\n",
              "            '<a target=\"_blank\" href=https://colab.research.google.com/notebooks/data_table.ipynb>data table notebook</a>'\n",
              "            + ' to learn more about interactive tables.';\n",
              "          element.innerHTML = '';\n",
              "          dataTable['output_type'] = 'display_data';\n",
              "          await google.colab.output.renderOutput(dataTable, element);\n",
              "          const docLink = document.createElement('div');\n",
              "          docLink.innerHTML = docLinkHtml;\n",
              "          element.appendChild(docLink);\n",
              "        }\n",
              "      </script>\n",
              "    </div>\n",
              "  </div>\n",
              "  "
            ],
            "text/plain": [
              "    R  H  Count\n",
              "12  4  5     67\n",
              "0   1  1     51\n",
              "11  4  4     39\n",
              "8   3  5      6\n",
              "1   1  4      4\n",
              "2   2  1      4\n",
              "13  4  7      3\n",
              "3   2  2      2\n",
              "5   2  4      2\n",
              "7   3  3      2\n",
              "9   4  1      2\n",
              "10  4  3      2\n",
              "4   2  3      1\n",
              "6   2  7      1"
            ]
          },
          "execution_count": 104,
          "metadata": {},
          "output_type": "execute_result"
        }
      ],
      "source": [
        "r = block_12.groupby(['R', 'H',]).count().reset_index()[['R', 'H',\t'Premise']]\n",
        "r.rename(columns={'Premise':\"Count\"}).sort_values(by='Count', ascending=False)"
      ]
    },
    {
      "cell_type": "code",
      "execution_count": 105,
      "metadata": {
        "id": "cnFH5y9Ve7vA"
      },
      "outputs": [],
      "source": [
        "rev_label_map = {v:k for k,v in label_map.items()}\n",
        "for i in ['R', 'H']:\n",
        "  block_12[i] = block_12[i].map(rev_label_map)"
      ]
    },
    {
      "cell_type": "code",
      "execution_count": 179,
      "metadata": {
        "colab": {
          "base_uri": "https://localhost:8080/",
          "height": 757
        },
        "id": "6d3ucIPSdvRA",
        "outputId": "551f871c-4614-4bac-deb3-1a26d6d3dd1f"
      },
      "outputs": [
        {
          "name": "stdout",
          "output_type": "stream",
          "text": [
            "****** The confused predictions for each modifier for two annotators are: ******\n"
          ]
        },
        {
          "data": {
            "text/html": [
              "\n",
              "  <div id=\"df-638fd194-c365-4b4d-8896-f69cf15a7471\">\n",
              "    <div class=\"colab-df-container\">\n",
              "      <div>\n",
              "<style scoped>\n",
              "    .dataframe tbody tr th:only-of-type {\n",
              "        vertical-align: middle;\n",
              "    }\n",
              "\n",
              "    .dataframe tbody tr th {\n",
              "        vertical-align: top;\n",
              "    }\n",
              "\n",
              "    .dataframe thead th {\n",
              "        text-align: right;\n",
              "    }\n",
              "</style>\n",
              "<table border=\"1\" class=\"dataframe\">\n",
              "  <thead>\n",
              "    <tr style=\"text-align: right;\">\n",
              "      <th></th>\n",
              "      <th>Quantifier Type</th>\n",
              "      <th>R</th>\n",
              "      <th>H</th>\n",
              "      <th>Counts</th>\n",
              "    </tr>\n",
              "  </thead>\n",
              "  <tbody>\n",
              "    <tr>\n",
              "      <th>2</th>\n",
              "      <td>Adjectives/Adverbs</td>\n",
              "      <td>Neutral</td>\n",
              "      <td>Alternation</td>\n",
              "      <td>42</td>\n",
              "    </tr>\n",
              "    <tr>\n",
              "      <th>8</th>\n",
              "      <td>Existential</td>\n",
              "      <td>Neutral</td>\n",
              "      <td>Alternation</td>\n",
              "      <td>17</td>\n",
              "    </tr>\n",
              "    <tr>\n",
              "      <th>27</th>\n",
              "      <td>Universal</td>\n",
              "      <td>Neutral</td>\n",
              "      <td>Alternation</td>\n",
              "      <td>6</td>\n",
              "    </tr>\n",
              "    <tr>\n",
              "      <th>25</th>\n",
              "      <td>Universal</td>\n",
              "      <td>Negation</td>\n",
              "      <td>Alternation</td>\n",
              "      <td>5</td>\n",
              "    </tr>\n",
              "    <tr>\n",
              "      <th>9</th>\n",
              "      <td>Existential</td>\n",
              "      <td>Neutral</td>\n",
              "      <td>Cover</td>\n",
              "      <td>2</td>\n",
              "    </tr>\n",
              "    <tr>\n",
              "      <th>11</th>\n",
              "      <td>Existential</td>\n",
              "      <td>Neutral</td>\n",
              "      <td>Negation</td>\n",
              "      <td>2</td>\n",
              "    </tr>\n",
              "    <tr>\n",
              "      <th>18</th>\n",
              "      <td>Negation</td>\n",
              "      <td>Neutral</td>\n",
              "      <td>Alternation</td>\n",
              "      <td>2</td>\n",
              "    </tr>\n",
              "    <tr>\n",
              "      <th>20</th>\n",
              "      <td>Negation</td>\n",
              "      <td>RE</td>\n",
              "      <td>FE</td>\n",
              "      <td>2</td>\n",
              "    </tr>\n",
              "    <tr>\n",
              "      <th>1</th>\n",
              "      <td>Adjectives/Adverbs</td>\n",
              "      <td>FE</td>\n",
              "      <td>Neutral</td>\n",
              "      <td>1</td>\n",
              "    </tr>\n",
              "    <tr>\n",
              "      <th>21</th>\n",
              "      <td>Negation</td>\n",
              "      <td>RE</td>\n",
              "      <td>Negation</td>\n",
              "      <td>1</td>\n",
              "    </tr>\n",
              "    <tr>\n",
              "      <th>30</th>\n",
              "      <td>Universal</td>\n",
              "      <td>RE</td>\n",
              "      <td>Cover</td>\n",
              "      <td>1</td>\n",
              "    </tr>\n",
              "    <tr>\n",
              "      <th>28</th>\n",
              "      <td>Universal</td>\n",
              "      <td>Neutral</td>\n",
              "      <td>Cover</td>\n",
              "      <td>1</td>\n",
              "    </tr>\n",
              "    <tr>\n",
              "      <th>24</th>\n",
              "      <td>Universal</td>\n",
              "      <td>FE</td>\n",
              "      <td>Neutral</td>\n",
              "      <td>1</td>\n",
              "    </tr>\n",
              "    <tr>\n",
              "      <th>22</th>\n",
              "      <td>Negation</td>\n",
              "      <td>RE</td>\n",
              "      <td>Neutral</td>\n",
              "      <td>1</td>\n",
              "    </tr>\n",
              "    <tr>\n",
              "      <th>17</th>\n",
              "      <td>Negation</td>\n",
              "      <td>Negation</td>\n",
              "      <td>Alternation</td>\n",
              "      <td>1</td>\n",
              "    </tr>\n",
              "    <tr>\n",
              "      <th>16</th>\n",
              "      <td>Negation</td>\n",
              "      <td>FE</td>\n",
              "      <td>Neutral</td>\n",
              "      <td>1</td>\n",
              "    </tr>\n",
              "    <tr>\n",
              "      <th>13</th>\n",
              "      <td>Existential</td>\n",
              "      <td>RE</td>\n",
              "      <td>FE</td>\n",
              "      <td>1</td>\n",
              "    </tr>\n",
              "    <tr>\n",
              "      <th>10</th>\n",
              "      <td>Existential</td>\n",
              "      <td>Neutral</td>\n",
              "      <td>FE</td>\n",
              "      <td>1</td>\n",
              "    </tr>\n",
              "    <tr>\n",
              "      <th>7</th>\n",
              "      <td>Existential</td>\n",
              "      <td>FE</td>\n",
              "      <td>Neutral</td>\n",
              "      <td>1</td>\n",
              "    </tr>\n",
              "    <tr>\n",
              "      <th>5</th>\n",
              "      <td>Adjectives/Adverbs</td>\n",
              "      <td>RE</td>\n",
              "      <td>Neutral</td>\n",
              "      <td>1</td>\n",
              "    </tr>\n",
              "    <tr>\n",
              "      <th>3</th>\n",
              "      <td>Adjectives/Adverbs</td>\n",
              "      <td>Neutral</td>\n",
              "      <td>FE</td>\n",
              "      <td>1</td>\n",
              "    </tr>\n",
              "    <tr>\n",
              "      <th>31</th>\n",
              "      <td>Universal</td>\n",
              "      <td>RE</td>\n",
              "      <td>FE</td>\n",
              "      <td>1</td>\n",
              "    </tr>\n",
              "  </tbody>\n",
              "</table>\n",
              "</div>\n",
              "      <button class=\"colab-df-convert\" onclick=\"convertToInteractive('df-638fd194-c365-4b4d-8896-f69cf15a7471')\"\n",
              "              title=\"Convert this dataframe to an interactive table.\"\n",
              "              style=\"display:none;\">\n",
              "        \n",
              "  <svg xmlns=\"http://www.w3.org/2000/svg\" height=\"24px\"viewBox=\"0 0 24 24\"\n",
              "       width=\"24px\">\n",
              "    <path d=\"M0 0h24v24H0V0z\" fill=\"none\"/>\n",
              "    <path d=\"M18.56 5.44l.94 2.06.94-2.06 2.06-.94-2.06-.94-.94-2.06-.94 2.06-2.06.94zm-11 1L8.5 8.5l.94-2.06 2.06-.94-2.06-.94L8.5 2.5l-.94 2.06-2.06.94zm10 10l.94 2.06.94-2.06 2.06-.94-2.06-.94-.94-2.06-.94 2.06-2.06.94z\"/><path d=\"M17.41 7.96l-1.37-1.37c-.4-.4-.92-.59-1.43-.59-.52 0-1.04.2-1.43.59L10.3 9.45l-7.72 7.72c-.78.78-.78 2.05 0 2.83L4 21.41c.39.39.9.59 1.41.59.51 0 1.02-.2 1.41-.59l7.78-7.78 2.81-2.81c.8-.78.8-2.07 0-2.86zM5.41 20L4 18.59l7.72-7.72 1.47 1.35L5.41 20z\"/>\n",
              "  </svg>\n",
              "      </button>\n",
              "      \n",
              "  <style>\n",
              "    .colab-df-container {\n",
              "      display:flex;\n",
              "      flex-wrap:wrap;\n",
              "      gap: 12px;\n",
              "    }\n",
              "\n",
              "    .colab-df-convert {\n",
              "      background-color: #E8F0FE;\n",
              "      border: none;\n",
              "      border-radius: 50%;\n",
              "      cursor: pointer;\n",
              "      display: none;\n",
              "      fill: #1967D2;\n",
              "      height: 32px;\n",
              "      padding: 0 0 0 0;\n",
              "      width: 32px;\n",
              "    }\n",
              "\n",
              "    .colab-df-convert:hover {\n",
              "      background-color: #E2EBFA;\n",
              "      box-shadow: 0px 1px 2px rgba(60, 64, 67, 0.3), 0px 1px 3px 1px rgba(60, 64, 67, 0.15);\n",
              "      fill: #174EA6;\n",
              "    }\n",
              "\n",
              "    [theme=dark] .colab-df-convert {\n",
              "      background-color: #3B4455;\n",
              "      fill: #D2E3FC;\n",
              "    }\n",
              "\n",
              "    [theme=dark] .colab-df-convert:hover {\n",
              "      background-color: #434B5C;\n",
              "      box-shadow: 0px 1px 3px 1px rgba(0, 0, 0, 0.15);\n",
              "      filter: drop-shadow(0px 1px 2px rgba(0, 0, 0, 0.3));\n",
              "      fill: #FFFFFF;\n",
              "    }\n",
              "  </style>\n",
              "\n",
              "      <script>\n",
              "        const buttonEl =\n",
              "          document.querySelector('#df-638fd194-c365-4b4d-8896-f69cf15a7471 button.colab-df-convert');\n",
              "        buttonEl.style.display =\n",
              "          google.colab.kernel.accessAllowed ? 'block' : 'none';\n",
              "\n",
              "        async function convertToInteractive(key) {\n",
              "          const element = document.querySelector('#df-638fd194-c365-4b4d-8896-f69cf15a7471');\n",
              "          const dataTable =\n",
              "            await google.colab.kernel.invokeFunction('convertToInteractive',\n",
              "                                                     [key], {});\n",
              "          if (!dataTable) return;\n",
              "\n",
              "          const docLinkHtml = 'Like what you see? Visit the ' +\n",
              "            '<a target=\"_blank\" href=https://colab.research.google.com/notebooks/data_table.ipynb>data table notebook</a>'\n",
              "            + ' to learn more about interactive tables.';\n",
              "          element.innerHTML = '';\n",
              "          dataTable['output_type'] = 'display_data';\n",
              "          await google.colab.output.renderOutput(dataTable, element);\n",
              "          const docLink = document.createElement('div');\n",
              "          docLink.innerHTML = docLinkHtml;\n",
              "          element.appendChild(docLink);\n",
              "        }\n",
              "      </script>\n",
              "    </div>\n",
              "  </div>\n",
              "  "
            ],
            "text/plain": [
              "       Quantifier Type         R            H  Counts\n",
              "2   Adjectives/Adverbs   Neutral  Alternation      42\n",
              "8          Existential   Neutral  Alternation      17\n",
              "27           Universal   Neutral  Alternation       6\n",
              "25           Universal  Negation  Alternation       5\n",
              "9          Existential   Neutral        Cover       2\n",
              "11         Existential   Neutral     Negation       2\n",
              "18            Negation   Neutral  Alternation       2\n",
              "20            Negation        RE           FE       2\n",
              "1   Adjectives/Adverbs        FE      Neutral       1\n",
              "21            Negation        RE     Negation       1\n",
              "30           Universal        RE        Cover       1\n",
              "28           Universal   Neutral        Cover       1\n",
              "24           Universal        FE      Neutral       1\n",
              "22            Negation        RE      Neutral       1\n",
              "17            Negation  Negation  Alternation       1\n",
              "16            Negation        FE      Neutral       1\n",
              "13         Existential        RE           FE       1\n",
              "10         Existential   Neutral           FE       1\n",
              "7          Existential        FE      Neutral       1\n",
              "5   Adjectives/Adverbs        RE      Neutral       1\n",
              "3   Adjectives/Adverbs   Neutral           FE       1\n",
              "31           Universal        RE           FE       1"
            ]
          },
          "execution_count": 179,
          "metadata": {},
          "output_type": "execute_result"
        }
      ],
      "source": [
        "res3 = block_12.groupby(['Quantifier Type','R','H']).count().reset_index()\n",
        "result = res3[['Quantifier Type','R','H', 'Premise/Hypothesis/Both']]\n",
        "print(\"****** The confused predictions for each modifier for two annotators are: ******\")\n",
        "result = result.rename(columns={\"Premise/Hypothesis/Both\":\"Counts\"})\n",
        "result[result['R'] != result['H']].sort_values(by=\"Counts\", ascending =False)"
      ]
    },
    {
      "cell_type": "code",
      "execution_count": 180,
      "metadata": {
        "id": "qReCGK8MP4v0"
      },
      "outputs": [],
      "source": [
        "result[result['R'] != result['H']].sort_values(by=\"Counts\", ascending =False).to_excel(\"blocks_211_212_ann34.xlsx\")"
      ]
    },
    {
      "attachments": {},
      "cell_type": "markdown",
      "metadata": {
        "id": "3VzrAsxH2KMS"
      },
      "source": [
        "# Blocks : 273, 342 & 1131\n",
        "\n",
        "SICK_id 273:\n",
        "Premise: A boy is standing in the cold water,\tHypothesis: A boy is standing in the water. Label:  Entailment\n",
        "\n",
        "SICK_id 342:\n",
        "Premise: A girl with a black bag is on a crowded train\t,\tHypothesis: A cramped black train is on the bag of a girl. Label: Neutral\n",
        "\n",
        "SICK_id 1131:\n",
        "Premise: The turtle is following the fish\t,\tHypothesis: The fish is following the turtle. Label: Contradiction"
      ]
    },
    {
      "cell_type": "code",
      "execution_count": 107,
      "metadata": {
        "colab": {
          "base_uri": "https://localhost:8080/"
        },
        "id": "jYHHMgFy2KMb",
        "outputId": "499fc687-6e7f-48f2-c16b-90389e9623a4"
      },
      "outputs": [
        {
          "data": {
            "text/plain": [
              "(   SICK_id                                  Premise  \\\n",
              " 0      273      a boy is standing in the cold water   \n",
              " 1      273  every boy is standing in the cold water   \n",
              " 2      273      a boy is standing in the cold water   \n",
              " 3      273  every boy is standing in the cold water   \n",
              " 4      273   some boy is standing in the cold water   \n",
              " \n",
              "                            Hypothesis Modifier Premise/Hypothesis/Both  \\\n",
              " 0      a boy is standing in the water     NONE                    NONE   \n",
              " 1      a boy is standing in the water    every                 Premise   \n",
              " 2  every boy is standing in the water    every              Hypothesis   \n",
              " 3  every boy is standing in the water    every                    Both   \n",
              " 4      a boy is standing in the water     some                 Premise   \n",
              " \n",
              "   Part of Premise/Hypothesis Modified        R      H      S  \n",
              " 0                                NONE       FE     FE     FE  \n",
              " 1                             Subject       FE     FE     FE  \n",
              " 2                             Subject  Neutral  Cover  Cover  \n",
              " 3                             Subject       FE     FE     RE  \n",
              " 4                             Subject       FE     FE     FE  ,\n",
              " array(['FE', 'RE', 'Neutral', 'Negation'], dtype=object),\n",
              " array(['FE', 'Cover', 'Neutral', 'Alternation', 'Negation'], dtype=object),\n",
              " array(['FE', 'Cover', 'RE', 'Neutral', 'Negation', 'Alternation'],\n",
              "       dtype=object))"
            ]
          },
          "execution_count": 107,
          "metadata": {},
          "output_type": "execute_result"
        }
      ],
      "source": [
        "block_123['SICK_id'] = block_123['SICK_id'].astype('int')\n",
        "\n",
        "block_123.head(), block_12['R'].unique(), block_123['H'].unique(), block_123['S'].unique()"
      ]
    },
    {
      "cell_type": "code",
      "execution_count": 108,
      "metadata": {
        "colab": {
          "base_uri": "https://localhost:8080/"
        },
        "id": "k2xDjck12KMc",
        "outputId": "e59ce239-4654-4b8d-ed2c-277e47137f63"
      },
      "outputs": [
        {
          "data": {
            "text/plain": [
              "Neutral        131\n",
              "Negation        85\n",
              "FE              58\n",
              "RE               4\n",
              "Alternation      1\n",
              "Name: R, dtype: int64"
            ]
          },
          "execution_count": 108,
          "metadata": {},
          "output_type": "execute_result"
        }
      ],
      "source": [
        "block_123['R'].value_counts()"
      ]
    },
    {
      "cell_type": "code",
      "execution_count": 109,
      "metadata": {
        "colab": {
          "base_uri": "https://localhost:8080/"
        },
        "id": "eQypf8R62KMc",
        "outputId": "8d3b4648-c530-48f9-d728-3b2d36d4ebe9"
      },
      "outputs": [
        {
          "data": {
            "text/plain": [
              "Alternation    147\n",
              "Neutral         59\n",
              "FE              57\n",
              "Negation        14\n",
              "Cover            2\n",
              "Name: H, dtype: int64"
            ]
          },
          "execution_count": 109,
          "metadata": {},
          "output_type": "execute_result"
        }
      ],
      "source": [
        "block_123['H'].value_counts()"
      ]
    },
    {
      "cell_type": "code",
      "execution_count": 110,
      "metadata": {
        "colab": {
          "base_uri": "https://localhost:8080/"
        },
        "id": "nPlGzQO765lm",
        "outputId": "3b8bbc11-0f17-41b0-ac6c-03943de3ab48"
      },
      "outputs": [
        {
          "data": {
            "text/plain": [
              "Neutral        139\n",
              "Alternation     67\n",
              "FE              57\n",
              "Negation        13\n",
              "RE               2\n",
              "Cover            1\n",
              "Name: S, dtype: int64"
            ]
          },
          "execution_count": 110,
          "metadata": {},
          "output_type": "execute_result"
        }
      ],
      "source": [
        "block_123['S'].value_counts()"
      ]
    },
    {
      "cell_type": "code",
      "execution_count": 112,
      "metadata": {
        "colab": {
          "base_uri": "https://localhost:8080/"
        },
        "id": "QAFQofcj2KMc",
        "outputId": "1415019a-cb27-4cfc-a5f2-7f22f1a23d06"
      },
      "outputs": [
        {
          "data": {
            "text/plain": [
              "array([ 273,  342, 1131])"
            ]
          },
          "execution_count": 112,
          "metadata": {},
          "output_type": "execute_result"
        }
      ],
      "source": [
        "block_123['SICK_id'].unique()"
      ]
    },
    {
      "cell_type": "code",
      "execution_count": 131,
      "metadata": {
        "id": "ISmS1r_W2KMg"
      },
      "outputs": [],
      "source": [
        "lmap = {1:'FE', 2:'RE', 3:'Negation', 4:'Neutral', 5:'Alternation', 6:'Equivalence', 7:'Cover'}"
      ]
    },
    {
      "cell_type": "code",
      "execution_count": 113,
      "metadata": {
        "id": "kF2Q2vjR2KMc"
      },
      "outputs": [],
      "source": [
        "label_map = {'FE':1, 'RE':2, 'Negation':3, 'Neutral':4, 'Alternation':5, 'Equivalence':6, 'Cover':7}"
      ]
    },
    {
      "cell_type": "code",
      "execution_count": 114,
      "metadata": {
        "id": "2pGbok-J2KMc"
      },
      "outputs": [],
      "source": [
        "for i in ['R', 'H', 'S']:\n",
        "  block_123[i] = block_123[i].map(label_map)"
      ]
    },
    {
      "cell_type": "code",
      "execution_count": 115,
      "metadata": {
        "colab": {
          "base_uri": "https://localhost:8080/"
        },
        "id": "c0_onFiE2KMc",
        "outputId": "56e26046-380c-4d06-841c-b5740dd9895d"
      },
      "outputs": [
        {
          "data": {
            "text/plain": [
              "(Series([], Name: R, dtype: int64),\n",
              " Series([], Name: H, dtype: int64),\n",
              " Series([], Name: S, dtype: int64),\n",
              " 279)"
            ]
          },
          "execution_count": 115,
          "metadata": {},
          "output_type": "execute_result"
        }
      ],
      "source": [
        "block_123['R'][block_123['R'].isna()], block_123['H'][block_123['H'].isna()],block_123['S'][block_123['S'].isna()], block_123.shape[0]"
      ]
    },
    {
      "attachments": {},
      "cell_type": "markdown",
      "metadata": {
        "id": "hxW2P9FF2KMc"
      },
      "source": [
        "### Cohen Kappa Score\n",
        "A pairwise inetr-rater reliability statistic. \n",
        "Considering probability of agreement by chance.\n",
        "We have 7 labels and 3 annotators and 279 observations in total.\n",
        "So labels are mutually exclusive. (Assume so for now)\n",
        "$p_0$ relative observed agreement\n",
        "$p_1$ hypothetical agreement by chance\n",
        "$p_0 = \\frac{1}{279^3} \\sum n_{k_1} n_{k_2} $  where $n_{k_1}$ and $n_{k_2}$ are number of times rater i (first or second) labelled k. \n",
        "\n",
        "These scores are calculated pairwise so at any time it is agreement between each pair of two raters out of 3:\n",
        "\n",
        "- R & H : 27.12%\n",
        "- R & S : 54.46%\n",
        "- H & S : 50.99%"
      ]
    },
    {
      "cell_type": "code",
      "execution_count": 125,
      "metadata": {
        "colab": {
          "base_uri": "https://localhost:8080/"
        },
        "id": "zQav88uD2KMf",
        "outputId": "fe429cab-57bc-4f6a-e256-1b67a9600b95"
      },
      "outputs": [
        {
          "name": "stdout",
          "output_type": "stream",
          "text": [
            "0.27127342711817803 0.5446632575345447 0.5099009900990099\n"
          ]
        }
      ],
      "source": [
        "labellers = {1:'R', 2:'H', 3:'S'}\n",
        "cohen_kappa_scores = {}\n",
        "\n",
        "cohen_kappa_scores[(labellers[1], labellers[2])] = cohen_kappa_score(block_123[labellers[1]], block_123[labellers[2]])\n",
        "cohen_kappa_scores[(labellers[1], labellers[3])] = cohen_kappa_score(block_123[labellers[1]], block_123[labellers[3]])\n",
        "cohen_kappa_scores[(labellers[2], labellers[3])] = cohen_kappa_score(block_123[labellers[2]], block_123[labellers[3]])\n",
        "print(cohen_kappa_scores[(labellers[1], labellers[2])],cohen_kappa_scores[(labellers[1], labellers[3])] , cohen_kappa_scores[(labellers[2], labellers[3])])"
      ]
    },
    {
      "attachments": {},
      "cell_type": "markdown",
      "metadata": {
        "id": "at2OqB6I2KMf"
      },
      "source": [
        "### Label-wise agreements (as a confusion matrix)\n",
        "- First we'd like to assess the maximum agreement between each pair of annotators for each label they labelled."
      ]
    },
    {
      "cell_type": "code",
      "execution_count": 132,
      "metadata": {
        "id": "92ubAH-62KMf"
      },
      "outputs": [],
      "source": [
        "from pycm import *\n",
        "\n",
        "cm1 = ConfusionMatrix(actual_vector=block_123['R'].to_numpy(), predict_vector=block_123['H'].to_numpy(), is_imbalanced=True) \n",
        "cm2 = ConfusionMatrix(actual_vector=block_123['R'].to_numpy(), predict_vector=block_123['S'].to_numpy(), is_imbalanced=True) \n",
        "cm3 = ConfusionMatrix(actual_vector=block_123['H'].to_numpy(), predict_vector=block_123['S'].to_numpy(), is_imbalanced=True) \n",
        "cm1.relabel(mapping= {k:lmap[k] for k in cm1.classes})\n",
        "cm2.relabel(mapping= {k:lmap[k] for k in cm2.classes})\n",
        "cm3.relabel(mapping= {k:lmap[k] for k in cm3.classes})"
      ]
    },
    {
      "attachments": {},
      "cell_type": "markdown",
      "metadata": {
        "id": "RzhaZ0GP2KMf"
      },
      "source": [
        "## Seeing maximum agreement for the label that was chosen most of the times for just two annotators."
      ]
    },
    {
      "cell_type": "code",
      "execution_count": 133,
      "metadata": {
        "colab": {
          "base_uri": "https://localhost:8080/"
        },
        "id": "nDadKTJn2KMf",
        "outputId": "504e14a8-1bfa-47de-d8d9-a1a65f58ac05"
      },
      "outputs": [
        {
          "name": "stdout",
          "output_type": "stream",
          "text": [
            "Predict           Alternation       Cover             FE                Negation          Neutral           RE                \n",
            "Actual\n",
            "Alternation       0                 0                 0                 0                 1                 0                 \n",
            "\n",
            "Cover             0                 0                 0                 0                 0                 0                 \n",
            "\n",
            "FE                0                 0                 55                0                 3                 0                 \n",
            "\n",
            "Negation          71                0                 0                 7                 7                 0                 \n",
            "\n",
            "Neutral           76                1                 1                 7                 46                0                 \n",
            "\n",
            "RE                0                 1                 1                 0                 2                 0                 \n",
            "\n",
            "\n"
          ]
        }
      ],
      "source": [
        "cm1.print_matrix()"
      ]
    },
    {
      "cell_type": "code",
      "execution_count": 134,
      "metadata": {
        "colab": {
          "base_uri": "https://localhost:8080/"
        },
        "id": "ySZMAWaQ2KMf",
        "outputId": "1cd228d6-b4fb-43fb-fe3b-23e444e7630d"
      },
      "outputs": [
        {
          "data": {
            "text/plain": [
              "{'FE': {'FE': 51,\n",
              "  'RE': 1,\n",
              "  'Negation': 1,\n",
              "  'Neutral': 5,\n",
              "  'Alternation': 0,\n",
              "  'Cover': 0},\n",
              " 'RE': {'FE': 2,\n",
              "  'RE': 1,\n",
              "  'Negation': 0,\n",
              "  'Neutral': 1,\n",
              "  'Alternation': 0,\n",
              "  'Cover': 0},\n",
              " 'Negation': {'FE': 0,\n",
              "  'RE': 0,\n",
              "  'Negation': 12,\n",
              "  'Neutral': 7,\n",
              "  'Alternation': 66,\n",
              "  'Cover': 0},\n",
              " 'Neutral': {'FE': 4,\n",
              "  'RE': 0,\n",
              "  'Negation': 0,\n",
              "  'Neutral': 125,\n",
              "  'Alternation': 1,\n",
              "  'Cover': 1},\n",
              " 'Alternation': {'FE': 0,\n",
              "  'RE': 0,\n",
              "  'Negation': 0,\n",
              "  'Neutral': 1,\n",
              "  'Alternation': 0,\n",
              "  'Cover': 0},\n",
              " 'Cover': {'FE': 0,\n",
              "  'RE': 0,\n",
              "  'Negation': 0,\n",
              "  'Neutral': 0,\n",
              "  'Alternation': 0,\n",
              "  'Cover': 0}}"
            ]
          },
          "execution_count": 134,
          "metadata": {},
          "output_type": "execute_result"
        }
      ],
      "source": [
        "cm2.table"
      ]
    },
    {
      "cell_type": "code",
      "execution_count": 135,
      "metadata": {
        "colab": {
          "base_uri": "https://localhost:8080/"
        },
        "id": "kOE8NiIC2KMg",
        "outputId": "35b22ead-6101-43fd-fece-3543a3b7a305"
      },
      "outputs": [
        {
          "data": {
            "text/plain": [
              "{'FE': 1,\n",
              " 'RE': 2,\n",
              " 'Negation': 3,\n",
              " 'Neutral': 4,\n",
              " 'Alternation': 5,\n",
              " 'Equivalence': 6,\n",
              " 'Cover': 7}"
            ]
          },
          "execution_count": 135,
          "metadata": {},
          "output_type": "execute_result"
        }
      ],
      "source": [
        "label_map"
      ]
    },
    {
      "cell_type": "code",
      "execution_count": 137,
      "metadata": {
        "colab": {
          "base_uri": "https://localhost:8080/"
        },
        "id": "u2-XRPIn2KMg",
        "outputId": "742f22b9-6b85-4849-e7f2-253b55054b64"
      },
      "outputs": [
        {
          "data": {
            "text/plain": [
              "{'Neutral': 131, 'Negation': 85, 'FE': 58, 'RE': 4, 'Alternation': 1}"
            ]
          },
          "execution_count": 137,
          "metadata": {},
          "output_type": "execute_result"
        }
      ],
      "source": [
        "a1_counts = {}\n",
        "for k, v in block_123['R'].value_counts().to_dict().items():\n",
        "  a1_counts[lmap[k]] = v\n",
        "a1_counts"
      ]
    },
    {
      "cell_type": "code",
      "execution_count": 138,
      "metadata": {
        "colab": {
          "base_uri": "https://localhost:8080/"
        },
        "id": "wTGG2VO92KMg",
        "outputId": "0f14daa4-8182-4101-d3ff-17e970275f4f"
      },
      "outputs": [
        {
          "data": {
            "text/plain": [
              "{'Alternation': 147, 'Neutral': 59, 'FE': 57, 'Negation': 14, 'Cover': 2}"
            ]
          },
          "execution_count": 138,
          "metadata": {},
          "output_type": "execute_result"
        }
      ],
      "source": [
        "a2_counts = {}\n",
        "for k, v in block_123['H'].value_counts().to_dict().items():\n",
        "  a2_counts[lmap[k]] = v\n",
        "a2_counts"
      ]
    },
    {
      "cell_type": "code",
      "execution_count": 139,
      "metadata": {
        "colab": {
          "base_uri": "https://localhost:8080/"
        },
        "id": "J89ASUAV80FF",
        "outputId": "002c220b-7cc1-4d55-aa47-5c79b9689908"
      },
      "outputs": [
        {
          "data": {
            "text/plain": [
              "{'Neutral': 139,\n",
              " 'Alternation': 67,\n",
              " 'FE': 57,\n",
              " 'Negation': 13,\n",
              " 'RE': 2,\n",
              " 'Cover': 1}"
            ]
          },
          "execution_count": 139,
          "metadata": {},
          "output_type": "execute_result"
        }
      ],
      "source": [
        "a3_counts = {}\n",
        "for k, v in block_123['S'].value_counts().to_dict().items():\n",
        "  a3_counts[lmap[k]] = v\n",
        "a3_counts"
      ]
    },
    {
      "cell_type": "code",
      "execution_count": 142,
      "metadata": {
        "colab": {
          "base_uri": "https://localhost:8080/"
        },
        "id": "zazSOOhE2KMg",
        "outputId": "f8a806f4-7726-492d-be08-8e2fd42dcd15"
      },
      "outputs": [
        {
          "data": {
            "text/plain": [
              "{'FE': 172,\n",
              " 'Neutral': 329,\n",
              " 'Negation': 112,\n",
              " 'Alternation': 215,\n",
              " 'RE': 6,\n",
              " 'Cover': 3}"
            ]
          },
          "execution_count": 142,
          "metadata": {},
          "output_type": "execute_result"
        }
      ],
      "source": [
        "sum_counts = {}\n",
        "for key in ['FE', 'Neutral','Negation', 'Alternation' ]:\n",
        "  sum_counts[key] = a1_counts[key] + a2_counts[key] + a3_counts[key]\n",
        "sum_counts['RE'] = a1_counts['RE'] + a3_counts['RE']\n",
        "sum_counts['Cover'] = a2_counts['Cover'] +a3_counts['Cover']\n",
        "sum_counts"
      ]
    },
    {
      "attachments": {},
      "cell_type": "markdown",
      "metadata": {
        "id": "SakqXPZt2KMg"
      },
      "source": [
        "### Observing F1, precision and recall scores for pairwise confusion matrices.\n",
        "In this case, we consider a case where each annotator i can be Gold label annotator and compared with every other annotator j from remaining 1 annotators. So we consider the case that chosen Gold labels i.e. annotator's labels as Ground truth and we calculate pairwise \"Supposed Gold label\" with another annotator's labels. \n",
        "\n",
        "This is to say between any two annotators, we choose any one annotator, we would like to see how much agreement can exist and how would that reflect as F1, precision and recall scores.\n",
        "\n",
        "- For each pair of annotators, consider ith annotator to have ground truth and jth annotator to be prediction labels.\n",
        "- We still observe maximum agreement >50% for FE Labels.\n",
        "- We do observ ~50.53% precision, recall and F1-scores. Would not be very helpful, since we do not have \"True Gold labels\". \n",
        "- We use the following information for assessing how to design annotation schemes annotating automatically modified premise, hypothesis sentences with Generalized quantifiers as well as Adjectives & adverbs.\n",
        "- We want to observe the amount of labeling confusion that quantifiers and modifiers introduce.\n",
        "- We consider that wherever the label is not FE or RE, we can see maximum confusion. \n",
        "- Neutral - has second best agreement & is second most chosen label\n",
        "- Forward Entailment - has max best agreement & is also second most chosen label\n",
        "- All other cases, signify confusion due to level of difficulty.\n",
        "\n",
        "Total 279 * 3 = 837 labels required by 3 annotators for 279 premise, hypothesis pairs.\n",
        "\n",
        "- 'FE': 172,\n",
        "- 'RE': 6,\n",
        "- 'Neutral': 329,\n",
        "- 'Negation': 112,\n",
        "- 'Alternation': 215,\n",
        "- 'Cover': 3\n",
        "\n",
        "F1 scores:\n",
        "\n",
        "- Annotator 3 & 4 - F1 Micro score: 26.369% (FE, Neutral & Negation - max agreement)\n",
        "- Annotator 3 & 5 - F1 Micro score: 67.74% (FE & Neutral - max agreement)\n",
        "- Annotator 4 & 5 - F1 Micro score: 64.51% (FE, Neutral, Negation, RE & Alternation - >= 50% agreement)\n",
        "\n"
      ]
    },
    {
      "cell_type": "code",
      "execution_count": 149,
      "metadata": {
        "colab": {
          "base_uri": "https://localhost:8080/"
        },
        "id": "HUm2Da2c2KMg",
        "outputId": "2e54a106-ddb5-4732-cb6c-3de6f9b34cc3"
      },
      "outputs": [
        {
          "name": "stdout",
          "output_type": "stream",
          "text": [
            "Predict  1        2        3        4        5        7        \n",
            "Actual\n",
            "1        53       1        0        3        0        0        \n",
            "\n",
            "2        0        0        0        0        0        0        \n",
            "\n",
            "3        0        0        7        7        0        0        \n",
            "\n",
            "4        4        1        2        52       0        0        \n",
            "\n",
            "5        0        0        4        76       67       0        \n",
            "\n",
            "7        0        0        0        1        0        1        \n",
            "\n",
            "\n",
            "\n",
            "\n",
            "\n",
            "Overall Statistics : \n",
            "\n",
            "95% CI                                                            (0.58902,0.70131)\n",
            "ACC Macro                                                         0.88172\n",
            "ARI                                                               0.32751\n",
            "AUNP                                                              None\n",
            "AUNU                                                              None\n",
            "Bangdiwala B                                                      0.4679\n",
            "Bennett S                                                         0.57419\n",
            "CBA                                                               0.45995\n",
            "CSI                                                               None\n",
            "Chi-Squared                                                       None\n",
            "Chi-Squared DF                                                    25\n",
            "Conditional Entropy                                               0.89561\n",
            "Cramer V                                                          None\n",
            "Cross Entropy                                                     2.04522\n",
            "F1 Macro                                                          0.54441\n",
            "F1 Micro                                                          0.64516\n",
            "FNR Macro                                                         None\n",
            "FNR Micro                                                         0.35484\n",
            "FPR Macro                                                         0.07388\n",
            "FPR Micro                                                         0.07097\n",
            "Gwet AC1                                                          0.58903\n",
            "Hamming Loss                                                      0.35484\n",
            "Joint Entropy                                                     2.59247\n",
            "KL Divergence                                                     None\n",
            "Kappa                                                             0.5099\n",
            "Kappa 95% CI                                                      (0.43236,0.58745)\n",
            "Kappa No Prevalence                                               0.29032\n",
            "Kappa Standard Error                                              0.03956\n",
            "Kappa Unbiased                                                    0.48038\n",
            "Krippendorff Alpha                                                0.48131\n",
            "Lambda A                                                          0.43939\n",
            "Lambda B                                                          0.35714\n",
            "Mutual Information                                                0.85381\n",
            "NIR                                                               0.52688\n",
            "Overall ACC                                                       0.64516\n",
            "Overall CEN                                                       0.22768\n",
            "Overall J                                                         (2.5308,0.4218)\n",
            "Overall MCC                                                       0.57531\n",
            "Overall MCEN                                                      0.25799\n",
            "Overall RACC                                                      0.27599\n",
            "Overall RACCU                                                     0.31711\n",
            "P-Value                                                           4e-05\n",
            "PPV Macro                                                         0.6404\n",
            "PPV Micro                                                         0.64516\n",
            "Pearson C                                                         None\n",
            "Phi-Squared                                                       None\n",
            "RCI                                                               0.50317\n",
            "RR                                                                46.5\n",
            "Reference Entropy                                                 1.69686\n",
            "Response Entropy                                                  1.74942\n",
            "SOA1(Landis & Koch)                                               Moderate\n",
            "SOA2(Fleiss)                                                      Intermediate to Good\n",
            "SOA3(Altman)                                                      Moderate\n",
            "SOA4(Cicchetti)                                                   Fair\n",
            "SOA5(Cramer)                                                      None\n",
            "SOA6(Matthews)                                                    Moderate\n",
            "Scott PI                                                          0.48038\n",
            "Standard Error                                                    0.02864\n",
            "TNR Macro                                                         0.92612\n",
            "TNR Micro                                                         0.92903\n",
            "TPR Macro                                                         None\n",
            "TPR Micro                                                         0.64516\n",
            "Zero-one Loss                                                     99\n",
            "\n",
            "Class Statistics :\n",
            "\n",
            "Classes                                                           1             2             3             4             5             7             \n",
            "ACC(Accuracy)                                                     0.97133       0.99283       0.95341       0.66308       0.71326       0.99642       \n",
            "AGF(Adjusted F-score)                                             0.95555       0.0           0.70304       0.76884       0.5869        0.74428       \n",
            "AGM(Adjusted geometric mean)                                      0.96726       None          0.83463       0.67466       0.77946       0.85303       \n",
            "AM(Difference between automatic and manual classification)        0             2             -1            80            -80           -1            \n",
            "AUC(Area under the ROC curve)                                     0.9559        None          0.73868       0.74295       0.72789       0.75          \n",
            "AUCI(AUC value interpretation)                                    Excellent     None          Good          Good          Good          Good          \n",
            "AUPR(Area under the PR curve)                                     0.92982       None          0.51923       0.62773       0.72789       0.75          \n",
            "BB(Braun-Blanquet similarity)                                     0.92982       0.0           0.5           0.3741        0.45578       0.5           \n",
            "BCD(Bray-Curtis dissimilarity)                                    0.0           0.00358       0.00179       0.14337       0.14337       0.00179       \n",
            "BM(Informedness or bookmaker informedness)                        0.91181       None          0.47736       0.4859        0.45578       0.5           \n",
            "CEN(Confusion entropy)                                            0.11066       0.30103       0.35858       0.3161        0.19198       0.15904       \n",
            "DOR(Diagnostic odds ratio)                                        722.125       None          43.16667      11.35632      None          None          \n",
            "DP(Discriminant power)                                            1.57604       None          0.9015        0.58178       None          None          \n",
            "DPI(Discriminant power interpretation)                            Limited       None          Poor          Poor          None          None          \n",
            "ERR(Error rate)                                                   0.02867       0.00717       0.04659       0.33692       0.28674       0.00358       \n",
            "F0.5(F0.5 score)                                                  0.92982       0.0           0.5303        0.42276       0.80723       0.83333       \n",
            "F1(F1 score - harmonic mean of precision and sensitivity)         0.92982       0.0           0.51852       0.52525       0.62617       0.66667       \n",
            "F2(F2 score)                                                      0.92982       0.0           0.50725       0.69333       0.51145       0.55556       \n",
            "FDR(False discovery rate)                                         0.07018       1.0           0.46154       0.6259        0.0           0.0           \n",
            "FN(False negative/miss/type 2 error)                              4             0             7             7             80            1             \n",
            "FNR(Miss rate or false negative rate)                             0.07018       None          0.5           0.11864       0.54422       0.5           \n",
            "FOR(False omission rate)                                          0.01802       0.0           0.02632       0.05          0.37736       0.0036        \n",
            "FP(False positive/type 1 error/false alarm)                       4             2             6             87            0             0             \n",
            "FPR(Fall-out or false positive rate)                              0.01802       0.00717       0.02264       0.39545       0.0           0.0           \n",
            "G(G-measure geometric mean of precision and sensitivity)          0.92982       None          0.51887       0.57421       0.67512       0.70711       \n",
            "GI(Gini index)                                                    0.91181       None          0.47736       0.4859        0.45578       0.5           \n",
            "GM(G-mean geometric mean of specificity and sensitivity)          0.95555       None          0.69906       0.72995       0.67512       0.70711       \n",
            "HD(Hamming distance)                                              8             2             13            94            80            1             \n",
            "IBA(Index of balanced accuracy)                                   0.86545       None          0.2554        0.68031       0.20774       0.25          \n",
            "ICSI(Individual classification success index)                     0.85965       None          0.03846       0.25546       0.45578       0.5           \n",
            "IS(Information score)                                             2.18626       None          3.42368       0.82298       0.92445       7.12412       \n",
            "J(Jaccard index)                                                  0.86885       0.0           0.35          0.35616       0.45578       0.5           \n",
            "LS(Lift score)                                                    4.55125       None          10.73077      1.76905       1.89796       139.5         \n",
            "MCC(Matthews correlation coefficient)                             0.91181       None          0.49445       0.39684       0.53272       0.70583       \n",
            "MCCI(Matthews correlation coefficient interpretation)             Very Strong   None          Weak          Weak          Moderate      Strong        \n",
            "MCEN(Modified confusion entropy)                                  0.1712        0.30103       0.39937       0.34349       0.19072       0.15051       \n",
            "MK(Markedness)                                                    0.91181       0.0           0.51215       0.3241        0.62264       0.9964        \n",
            "N(Condition negative)                                             222           279           265           220           132           277           \n",
            "NLR(Negative likelihood ratio)                                    0.07146       None          0.51158       0.19625       0.54422       0.5           \n",
            "NLRI(Negative likelihood ratio interpretation)                    Good          None          Negligible    Fair          Negligible    Negligible    \n",
            "NPV(Negative predictive value)                                    0.98198       1.0           0.97368       0.95          0.62264       0.9964        \n",
            "OC(Overlap coefficient)                                           0.92982       None          0.53846       0.88136       1.0           1.0           \n",
            "OOC(Otsuka-Ochiai coefficient)                                    0.92982       None          0.51887       0.57421       0.67512       0.70711       \n",
            "OP(Optimized precision)                                           0.94404       None          0.63029       0.47679       0.33943       0.66308       \n",
            "P(Condition positive or support)                                  57            0             14            59            147           2             \n",
            "PLR(Positive likelihood ratio)                                    51.60526      None          22.08333      2.22872       None          None          \n",
            "PLRI(Positive likelihood ratio interpretation)                    Good          None          Good          Poor          None          None          \n",
            "POP(Population)                                                   279           279           279           279           279           279           \n",
            "PPV(Precision or positive predictive value)                       0.92982       0.0           0.53846       0.3741        1.0           1.0           \n",
            "PRE(Prevalence)                                                   0.2043        0.0           0.05018       0.21147       0.52688       0.00717       \n",
            "Q(Yule Q - coefficient of colligation)                            0.99723       None          0.95472       0.83814       None          None          \n",
            "QI(Yule Q interpretation)                                         Strong        None          Strong        Strong        None          None          \n",
            "RACC(Random accuracy)                                             0.04174       0.0           0.00234       0.10536       0.12653       3e-05         \n",
            "RACCU(Random accuracy unbiased)                                   0.04174       1e-05         0.00234       0.12591       0.14708       3e-05         \n",
            "TN(True negative/correct rejection)                               218           277           259           133           132           277           \n",
            "TNR(Specificity or true negative rate)                            0.98198       0.99283       0.97736       0.60455       1.0           1.0           \n",
            "TON(Test outcome negative)                                        222           277           266           140           212           278           \n",
            "TOP(Test outcome positive)                                        57            2             13            139           67            1             \n",
            "TP(True positive/hit)                                             53            0             7             52            67            1             \n",
            "TPR(Sensitivity, recall, hit rate, or true positive rate)         0.92982       None          0.5           0.88136       0.45578       0.5           \n",
            "Y(Youden index)                                                   0.91181       None          0.47736       0.4859        0.45578       0.5           \n",
            "dInd(Distance index)                                              0.07245       None          0.50051       0.41287       0.54422       0.5           \n",
            "sInd(Similarity index)                                            0.94877       None          0.64608       0.70806       0.61518       0.64645       \n",
            "\n",
            "Predict  1        2        3        4        5        7        \n",
            "Actual\n",
            "1        53       0        0        4        0        0        \n",
            "\n",
            "2        1        0        0        1        0        0        \n",
            "\n",
            "3        0        0        7        2        4        0        \n",
            "\n",
            "4        3        0        7        52       76       1        \n",
            "\n",
            "5        0        0        0        0        67       0        \n",
            "\n",
            "7        0        0        0        0        0        1        \n",
            "\n",
            "\n",
            "\n",
            "\n",
            "\n",
            "Overall Statistics : \n",
            "\n",
            "95% CI                                                            (0.58902,0.70131)\n",
            "ACC Macro                                                         0.88172\n",
            "ARI                                                               0.32751\n",
            "AUNP                                                              0.76236\n",
            "AUNU                                                              0.78059\n",
            "Bangdiwala B                                                      0.4679\n",
            "Bennett S                                                         0.57419\n",
            "CBA                                                               0.45995\n",
            "CSI                                                               None\n",
            "Chi-Squared                                                       None\n",
            "Chi-Squared DF                                                    25\n",
            "Conditional Entropy                                               0.84305\n",
            "Cramer V                                                          None\n",
            "Cross Entropy                                                     2.0335\n",
            "F1 Macro                                                          0.54441\n",
            "F1 Micro                                                          0.64516\n",
            "FNR Macro                                                         0.3596\n",
            "FNR Micro                                                         0.35484\n",
            "FPR Macro                                                         0.07921\n",
            "FPR Micro                                                         0.07097\n",
            "Gwet AC1                                                          0.58903\n",
            "Hamming Loss                                                      0.35484\n",
            "Joint Entropy                                                     2.59247\n",
            "KL Divergence                                                     None\n",
            "Kappa                                                             0.5099\n",
            "Kappa 95% CI                                                      (0.43236,0.58745)\n",
            "Kappa No Prevalence                                               0.29032\n",
            "Kappa Standard Error                                              0.03956\n",
            "Kappa Unbiased                                                    0.48038\n",
            "Krippendorff Alpha                                                0.48131\n",
            "Lambda A                                                          0.35714\n",
            "Lambda B                                                          0.43939\n",
            "Mutual Information                                                0.85381\n",
            "NIR                                                               0.49821\n",
            "Overall ACC                                                       0.64516\n",
            "Overall CEN                                                       0.22768\n",
            "Overall J                                                         (2.5308,0.4218)\n",
            "Overall MCC                                                       0.57531\n",
            "Overall MCEN                                                      0.25799\n",
            "Overall RACC                                                      0.27599\n",
            "Overall RACCU                                                     0.31711\n",
            "P-Value                                                           0.0\n",
            "PPV Macro                                                         None\n",
            "PPV Micro                                                         0.64516\n",
            "Pearson C                                                         None\n",
            "Phi-Squared                                                       None\n",
            "RCI                                                               0.48806\n",
            "RR                                                                46.5\n",
            "Reference Entropy                                                 1.74942\n",
            "Response Entropy                                                  1.69686\n",
            "SOA1(Landis & Koch)                                               Moderate\n",
            "SOA2(Fleiss)                                                      Intermediate to Good\n",
            "SOA3(Altman)                                                      Moderate\n",
            "SOA4(Cicchetti)                                                   Fair\n",
            "SOA5(Cramer)                                                      None\n",
            "SOA6(Matthews)                                                    Moderate\n",
            "Scott PI                                                          0.48038\n",
            "Standard Error                                                    0.02864\n",
            "TNR Macro                                                         0.92079\n",
            "TNR Micro                                                         0.92903\n",
            "TPR Macro                                                         0.6404\n",
            "TPR Micro                                                         0.64516\n",
            "Zero-one Loss                                                     99\n",
            "\n",
            "Class Statistics :\n",
            "\n",
            "Classes                                                           1             2             3             4             5             7             \n",
            "ACC(Accuracy)                                                     0.97133       0.99283       0.95341       0.66308       0.71326       0.99642       \n",
            "AGF(Adjusted F-score)                                             0.95555       0.0           0.71966       0.525         0.84851       0.91254       \n",
            "AGM(Adjusted geometric mean)                                      0.96726       0             0.84591       0.71438       0.71721       0.9973        \n",
            "AM(Difference between automatic and manual classification)        0             -2            1             -80           80            1             \n",
            "AUC(Area under the ROC curve)                                     0.9559        0.5           0.75607       0.66205       0.81132       0.9982        \n",
            "AUCI(AUC value interpretation)                                    Excellent     Poor          Good          Fair          Very Good     Excellent     \n",
            "AUPR(Area under the PR curve)                                     0.92982       None          0.51923       0.62773       0.72789       0.75          \n",
            "BB(Braun-Blanquet similarity)                                     0.92982       0.0           0.5           0.3741        0.45578       0.5           \n",
            "BCD(Bray-Curtis dissimilarity)                                    0.0           0.00358       0.00179       0.14337       0.14337       0.00179       \n",
            "BM(Informedness or bookmaker informedness)                        0.91181       0.0           0.51215       0.3241        0.62264       0.9964        \n",
            "CEN(Confusion entropy)                                            0.11066       0.30103       0.35858       0.3161        0.19198       0.15904       \n",
            "DOR(Diagnostic odds ratio)                                        722.125       None          43.16667      11.35632      None          None          \n",
            "DP(Discriminant power)                                            1.57604       None          0.9015        0.58178       None          None          \n",
            "DPI(Discriminant power interpretation)                            Limited       None          Poor          Poor          None          None          \n",
            "ERR(Error rate)                                                   0.02867       0.00717       0.04659       0.33692       0.28674       0.00358       \n",
            "F0.5(F0.5 score)                                                  0.92982       0.0           0.50725       0.69333       0.51145       0.55556       \n",
            "F1(F1 score - harmonic mean of precision and sensitivity)         0.92982       0.0           0.51852       0.52525       0.62617       0.66667       \n",
            "F2(F2 score)                                                      0.92982       0.0           0.5303        0.42276       0.80723       0.83333       \n",
            "FDR(False discovery rate)                                         0.07018       None          0.5           0.11864       0.54422       0.5           \n",
            "FN(False negative/miss/type 2 error)                              4             2             6             87            0             0             \n",
            "FNR(Miss rate or false negative rate)                             0.07018       1.0           0.46154       0.6259        0.0           0.0           \n",
            "FOR(False omission rate)                                          0.01802       0.00717       0.02264       0.39545       0.0           0.0           \n",
            "FP(False positive/type 1 error/false alarm)                       4             0             7             7             80            1             \n",
            "FPR(Fall-out or false positive rate)                              0.01802       0.0           0.02632       0.05          0.37736       0.0036        \n",
            "G(G-measure geometric mean of precision and sensitivity)          0.92982       None          0.51887       0.57421       0.67512       0.70711       \n",
            "GI(Gini index)                                                    0.91181       0.0           0.51215       0.3241        0.62264       0.9964        \n",
            "GM(G-mean geometric mean of specificity and sensitivity)          0.95555       0.0           0.72408       0.59615       0.78908       0.9982        \n",
            "HD(Hamming distance)                                              8             2             13            94            80            1             \n",
            "IBA(Index of balanced accuracy)                                   0.86545       0.0           0.29611       0.15072       0.8576        0.99999       \n",
            "ICSI(Individual classification success index)                     0.85965       None          0.03846       0.25546       0.45578       0.5           \n",
            "IS(Information score)                                             2.18626       None          3.42368       0.82298       0.92445       7.12412       \n",
            "J(Jaccard index)                                                  0.86885       0.0           0.35          0.35616       0.45578       0.5           \n",
            "LS(Lift score)                                                    4.55125       None          10.73077      1.76905       1.89796       139.5         \n",
            "MCC(Matthews correlation coefficient)                             0.91181       None          0.49445       0.39684       0.53272       0.70583       \n",
            "MCCI(Matthews correlation coefficient interpretation)             Very Strong   None          Weak          Weak          Moderate      Strong        \n",
            "MCEN(Modified confusion entropy)                                  0.1712        0.30103       0.39937       0.34349       0.19072       0.15051       \n",
            "MK(Markedness)                                                    0.91181       None          0.47736       0.4859        0.45578       0.5           \n",
            "N(Condition negative)                                             222           277           266           140           212           278           \n",
            "NLR(Negative likelihood ratio)                                    0.07146       1.0           0.47401       0.65884       0.0           0.0           \n",
            "NLRI(Negative likelihood ratio interpretation)                    Good          Negligible    Poor          Negligible    Good          Good          \n",
            "NPV(Negative predictive value)                                    0.98198       0.99283       0.97736       0.60455       1.0           1.0           \n",
            "OC(Overlap coefficient)                                           0.92982       None          0.53846       0.88136       1.0           1.0           \n",
            "OOC(Otsuka-Ochiai coefficient)                                    0.92982       None          0.51887       0.57421       0.67512       0.70711       \n",
            "OP(Optimized precision)                                           0.94404       -0.00717      0.66559       0.22815       0.4807        0.99461       \n",
            "P(Condition positive or support)                                  57            2             13            139           67            1             \n",
            "PLR(Positive likelihood ratio)                                    51.60526      None          20.46154      7.48201       2.65          278.0         \n",
            "PLRI(Positive likelihood ratio interpretation)                    Good          None          Good          Fair          Poor          Good          \n",
            "POP(Population)                                                   279           279           279           279           279           279           \n",
            "PPV(Precision or positive predictive value)                       0.92982       None          0.5           0.88136       0.45578       0.5           \n",
            "PRE(Prevalence)                                                   0.2043        0.00717       0.04659       0.49821       0.24014       0.00358       \n",
            "Q(Yule Q - coefficient of colligation)                            0.99723       None          0.95472       0.83814       None          None          \n",
            "QI(Yule Q interpretation)                                         Strong        None          Strong        Strong        None          None          \n",
            "RACC(Random accuracy)                                             0.04174       0.0           0.00234       0.10536       0.12653       3e-05         \n",
            "RACCU(Random accuracy unbiased)                                   0.04174       1e-05         0.00234       0.12591       0.14708       3e-05         \n",
            "TN(True negative/correct rejection)                               218           277           259           133           132           277           \n",
            "TNR(Specificity or true negative rate)                            0.98198       1.0           0.97368       0.95          0.62264       0.9964        \n",
            "TON(Test outcome negative)                                        222           279           265           220           132           277           \n",
            "TOP(Test outcome positive)                                        57            0             14            59            147           2             \n",
            "TP(True positive/hit)                                             53            0             7             52            67            1             \n",
            "TPR(Sensitivity, recall, hit rate, or true positive rate)         0.92982       0.0           0.53846       0.3741        1.0           1.0           \n",
            "Y(Youden index)                                                   0.91181       0.0           0.51215       0.3241        0.62264       0.9964        \n",
            "dInd(Distance index)                                              0.07245       1.0           0.46229       0.62789       0.37736       0.0036        \n",
            "sInd(Similarity index)                                            0.94877       0.29289       0.67311       0.55601       0.73317       0.99746       \n",
            "\n"
          ]
        }
      ],
      "source": [
        "cm = {}\n",
        "\n",
        "cm[('R', 'H')] = ConfusionMatrix(actual_vector=block_123['R'].to_numpy(), predict_vector=block_123['H'].to_numpy())\n",
        "cm[('H','R')] = ConfusionMatrix(actual_vector=block_123['H'].to_numpy(), predict_vector=block_123['R'].to_numpy())\n",
        "\n",
        "cm[('R', 'S')] = ConfusionMatrix(actual_vector=block_123['R'].to_numpy(), predict_vector=block_123['S'].to_numpy())\n",
        "cm[('S','R')] = ConfusionMatrix(actual_vector=block_123['S'].to_numpy(), predict_vector=block_123['R'].to_numpy())\n",
        "\n",
        "cm[('H', 'S')] = ConfusionMatrix(actual_vector=block_123['H'].to_numpy(), predict_vector=block_123['S'].to_numpy())\n",
        "cm[('S','H')] = ConfusionMatrix(actual_vector=block_123['S'].to_numpy(), predict_vector=block_123['H'].to_numpy())\n",
        "\n",
        "print(cm[('H', 'S')])\n",
        "print(cm[('S', 'H')])"
      ]
    },
    {
      "cell_type": "code",
      "execution_count": 150,
      "metadata": {
        "colab": {
          "base_uri": "https://localhost:8080/"
        },
        "id": "xXv4MxAaBZ3k",
        "outputId": "a59c5821-6cb5-494e-d3d3-4d5182978410"
      },
      "outputs": [
        {
          "name": "stdout",
          "output_type": "stream",
          "text": [
            "Predict  1        2        3        4        5        7        \n",
            "Actual\n",
            "1        55       0        0        3        0        0        \n",
            "\n",
            "2        1        0        0        2        0        1        \n",
            "\n",
            "3        0        0        7        7        71       0        \n",
            "\n",
            "4        1        0        7        46       76       1        \n",
            "\n",
            "5        0        0        0        1        0        0        \n",
            "\n",
            "7        0        0        0        0        0        0        \n",
            "\n",
            "\n",
            "\n",
            "\n",
            "\n",
            "Overall Statistics : \n",
            "\n",
            "95% CI                                                            (0.32994,0.44425)\n",
            "ACC Macro                                                         0.7957\n",
            "ARI                                                               0.32638\n",
            "AUNP                                                              None\n",
            "AUNU                                                              None\n",
            "Bangdiwala B                                                      0.4195\n",
            "Bennett S                                                         0.26452\n",
            "CBA                                                               0.2303\n",
            "CSI                                                               None\n",
            "Chi-Squared                                                       None\n",
            "Chi-Squared DF                                                    25\n",
            "Conditional Entropy                                               0.94873\n",
            "Cramer V                                                          None\n",
            "Cross Entropy                                                     2.84722\n",
            "F1 Macro                                                          0.26369\n",
            "F1 Micro                                                          0.3871\n",
            "FNR Macro                                                         None\n",
            "FNR Micro                                                         0.6129\n",
            "FPR Macro                                                         0.11149\n",
            "FPR Micro                                                         0.12258\n",
            "Gwet AC1                                                          0.28068\n",
            "Hamming Loss                                                      0.6129\n",
            "Joint Entropy                                                     2.57128\n",
            "KL Divergence                                                     None\n",
            "Kappa                                                             0.27127\n",
            "Kappa 95% CI                                                      (0.20332,0.33923)\n",
            "Kappa No Prevalence                                               -0.22581\n",
            "Kappa Standard Error                                              0.03467\n",
            "Kappa Unbiased                                                    0.17141\n",
            "Krippendorff Alpha                                                0.17289\n",
            "Lambda A                                                          0.36486\n",
            "Lambda B                                                          0.43939\n",
            "Mutual Information                                                0.74813\n",
            "NIR                                                               0.46953\n",
            "Overall ACC                                                       0.3871\n",
            "Overall CEN                                                       0.27055\n",
            "Overall J                                                         (1.3122,0.2187)\n",
            "Overall MCC                                                       0.35744\n",
            "Overall MCEN                                                      0.30011\n",
            "Overall RACC                                                      0.15894\n",
            "Overall RACCU                                                     0.26031\n",
            "P-Value                                                           0.9977\n",
            "PPV Macro                                                         None\n",
            "PPV Micro                                                         0.3871\n",
            "Pearson C                                                         None\n",
            "Phi-Squared                                                       None\n",
            "RCI                                                               0.46108\n",
            "RR                                                                46.5\n",
            "Reference Entropy                                                 1.62255\n",
            "Response Entropy                                                  1.69686\n",
            "SOA1(Landis & Koch)                                               Fair\n",
            "SOA2(Fleiss)                                                      Poor\n",
            "SOA3(Altman)                                                      Fair\n",
            "SOA4(Cicchetti)                                                   Poor\n",
            "SOA5(Cramer)                                                      None\n",
            "SOA6(Matthews)                                                    Weak\n",
            "Scott PI                                                          0.17141\n",
            "Standard Error                                                    0.02916\n",
            "TNR Macro                                                         0.88851\n",
            "TNR Micro                                                         0.87742\n",
            "TPR Macro                                                         None\n",
            "TPR Micro                                                         0.3871\n",
            "Zero-one Loss                                                     171\n",
            "\n",
            "Class Statistics :\n",
            "\n",
            "Classes                                                           1             2             3             4             5             7             \n",
            "ACC(Accuracy)                                                     0.98208       0.98566       0.69534       0.64875       0.46953       0.99283       \n",
            "AGF(Adjusted F-score)                                             0.9693        0.0           0.27151       0.50896       0.0           0.0           \n",
            "AGM(Adjusted geometric mean)                                      0.97891       0             0.56154       0.68595       0             None          \n",
            "AM(Difference between automatic and manual classification)        -1            -4            -71           -72           146           2             \n",
            "AUC(Area under the ROC curve)                                     0.96961       0.5           0.52314       0.63165       0.23561       None          \n",
            "AUCI(AUC value interpretation)                                    Excellent     Poor          Poor          Fair          Poor          None          \n",
            "AUPR(Area under the PR curve)                                     0.95659       None          0.29118       0.5654        0.0           None          \n",
            "BB(Braun-Blanquet similarity)                                     0.94828       0.0           0.08235       0.35115       0.0           0.0           \n",
            "BCD(Bray-Curtis dissimilarity)                                    0.00179       0.00717       0.12724       0.12903       0.26165       0.00358       \n",
            "BM(Informedness or bookmaker informedness)                        0.93923       0.0           0.04627       0.26331       -0.52878      None          \n",
            "CEN(Confusion entropy)                                            0.07715       0.45154       0.26625       0.35006       0.31633       0.30103       \n",
            "DOR(Diagnostic odds ratio)                                        2007.5        None          2.39744       5.61991       0.0           None          \n",
            "DP(Discriminant power)                                            1.82085       None          0.20937       0.41335       None          None          \n",
            "DPI(Discriminant power interpretation)                            Limited       None          Poor          Poor          None          None          \n",
            "ERR(Error rate)                                                   0.01792       0.01434       0.30466       0.35125       0.53047       0.00717       \n",
            "F0.5(F0.5 score)                                                  0.96154       0.0           0.24823       0.6267        0.0           0.0           \n",
            "F1(F1 score - harmonic mean of precision and sensitivity)         0.95652       0.0           0.14141       0.48421       0.0           0.0           \n",
            "F2(F2 score)                                                      0.95156       0.0           0.09887       0.39451       0.0           0.0           \n",
            "FDR(False discovery rate)                                         0.03509       None          0.5           0.22034       1.0           1.0           \n",
            "FN(False negative/miss/type 2 error)                              3             4             78            85            1             0             \n",
            "FNR(Miss rate or false negative rate)                             0.05172       1.0           0.91765       0.64885       1.0           None          \n",
            "FOR(False omission rate)                                          0.01351       0.01434       0.29434       0.38636       0.00758       0.0           \n",
            "FP(False positive/type 1 error/false alarm)                       2             0             7             13            147           2             \n",
            "FPR(Fall-out or false positive rate)                              0.00905       0.0           0.03608       0.08784       0.52878       0.00717       \n",
            "G(G-measure geometric mean of precision and sensitivity)          0.95656       None          0.20292       0.52323       0.0           None          \n",
            "GI(Gini index)                                                    0.93923       0.0           0.04627       0.26331       -0.52878      None          \n",
            "GM(G-mean geometric mean of specificity and sensitivity)          0.96938       0.0           0.28175       0.56595       0.0           None          \n",
            "HD(Hamming distance)                                              5             4             85            98            148           2             \n",
            "IBA(Index of balanced accuracy)                                   0.89959       0.0           0.0094        0.14061       0.0           None          \n",
            "ICSI(Individual classification success index)                     0.91319       None          -0.41765      0.13081       -1.0          None          \n",
            "IS(Information score)                                             2.21461       None          0.71473       0.73162       None          None          \n",
            "J(Jaccard index)                                                  0.91667       0.0           0.07609       0.31944       0.0           0.0           \n",
            "LS(Lift score)                                                    4.64156       None          1.64118       1.6605        0.0           None          \n",
            "MCC(Matthews correlation coefficient)                             0.94529       None          0.09755       0.3218        -0.06329      None          \n",
            "MCCI(Matthews correlation coefficient interpretation)             Very Strong   None          Negligible    Weak          Negligible    None          \n",
            "MCEN(Modified confusion entropy)                                  0.12432       0.45154       0.25708       0.37995       0.31633       0.30103       \n",
            "MK(Markedness)                                                    0.9514        None          0.20566       0.3933        -0.00758      0.0           \n",
            "N(Condition negative)                                             221           275           194           148           278           279           \n",
            "NLR(Negative likelihood ratio)                                    0.0522        1.0           0.952         0.71134       2.12214       None          \n",
            "NLRI(Negative likelihood ratio interpretation)                    Good          Negligible    Negligible    Negligible    Negligible    None          \n",
            "NPV(Negative predictive value)                                    0.98649       0.98566       0.70566       0.61364       0.99242       1.0           \n",
            "OC(Overlap coefficient)                                           0.96491       None          0.5           0.77966       0.0           None          \n",
            "OOC(Otsuka-Ochiai coefficient)                                    0.95656       None          0.20292       0.52323       0.0           None          \n",
            "OP(Optimized precision)                                           0.96007       -0.01434      -0.14724      0.20466       -0.53047      None          \n",
            "P(Condition positive or support)                                  58            4             85            131           1             0             \n",
            "PLR(Positive likelihood ratio)                                    104.78448     None          2.28235       3.99765       0.0           None          \n",
            "PLRI(Positive likelihood ratio interpretation)                    Good          None          Poor          Poor          Negligible    None          \n",
            "POP(Population)                                                   279           279           279           279           279           279           \n",
            "PPV(Precision or positive predictive value)                       0.96491       None          0.5           0.77966       0.0           0.0           \n",
            "PRE(Prevalence)                                                   0.20789       0.01434       0.30466       0.46953       0.00358       0.0           \n",
            "Q(Yule Q - coefficient of colligation)                            0.999         None          0.41132       0.69788       -1.0          None          \n",
            "QI(Yule Q interpretation)                                         Strong        None          Weak          Moderate      Negligible    None          \n",
            "RACC(Random accuracy)                                             0.04247       0.0           0.01529       0.09929       0.00189       0.0           \n",
            "RACCU(Random accuracy unbiased)                                   0.04247       5e-05         0.03148       0.11594       0.07035       1e-05         \n",
            "TN(True negative/correct rejection)                               219           275           187           135           131           277           \n",
            "TNR(Specificity or true negative rate)                            0.99095       1.0           0.96392       0.91216       0.47122       0.99283       \n",
            "TON(Test outcome negative)                                        222           279           265           220           132           277           \n",
            "TOP(Test outcome positive)                                        57            0             14            59            147           2             \n",
            "TP(True positive/hit)                                             55            0             7             46            0             0             \n",
            "TPR(Sensitivity, recall, hit rate, or true positive rate)         0.94828       0.0           0.08235       0.35115       0.0           None          \n",
            "Y(Youden index)                                                   0.93923       0.0           0.04627       0.26331       -0.52878      None          \n",
            "dInd(Distance index)                                              0.05251       1.0           0.91836       0.65477       1.1312        None          \n",
            "sInd(Similarity index)                                            0.96287       0.29289       0.35062       0.53701       0.20012       None          \n",
            "\n",
            "Predict  1        2        3        4        5        7        \n",
            "Actual\n",
            "1        55       1        0        1        0        0        \n",
            "\n",
            "2        0        0        0        0        0        0        \n",
            "\n",
            "3        0        0        7        7        0        0        \n",
            "\n",
            "4        3        2        7        46       1        0        \n",
            "\n",
            "5        0        0        71       76       0        0        \n",
            "\n",
            "7        0        1        0        1        0        0        \n",
            "\n",
            "\n",
            "\n",
            "\n",
            "\n",
            "Overall Statistics : \n",
            "\n",
            "95% CI                                                            (0.32994,0.44425)\n",
            "ACC Macro                                                         0.7957\n",
            "ARI                                                               0.32638\n",
            "AUNP                                                              None\n",
            "AUNU                                                              None\n",
            "Bangdiwala B                                                      0.4195\n",
            "Bennett S                                                         0.26452\n",
            "CBA                                                               0.2303\n",
            "CSI                                                               None\n",
            "Chi-Squared                                                       None\n",
            "Chi-Squared DF                                                    25\n",
            "Conditional Entropy                                               0.87442\n",
            "Cramer V                                                          None\n",
            "Cross Entropy                                                     5.06012\n",
            "F1 Macro                                                          0.26369\n",
            "F1 Micro                                                          0.3871\n",
            "FNR Macro                                                         None\n",
            "FNR Micro                                                         0.6129\n",
            "FPR Macro                                                         0.11935\n",
            "FPR Micro                                                         0.12258\n",
            "Gwet AC1                                                          0.28068\n",
            "Hamming Loss                                                      0.6129\n",
            "Joint Entropy                                                     2.57128\n",
            "KL Divergence                                                     None\n",
            "Kappa                                                             0.27127\n",
            "Kappa 95% CI                                                      (0.20332,0.33923)\n",
            "Kappa No Prevalence                                               -0.22581\n",
            "Kappa Standard Error                                              0.03467\n",
            "Kappa Unbiased                                                    0.17141\n",
            "Krippendorff Alpha                                                0.17289\n",
            "Lambda A                                                          0.43939\n",
            "Lambda B                                                          0.36486\n",
            "Mutual Information                                                0.74813\n",
            "NIR                                                               0.52688\n",
            "Overall ACC                                                       0.3871\n",
            "Overall CEN                                                       0.27055\n",
            "Overall J                                                         (1.3122,0.2187)\n",
            "Overall MCC                                                       0.35744\n",
            "Overall MCEN                                                      0.30011\n",
            "Overall RACC                                                      0.15894\n",
            "Overall RACCU                                                     0.26031\n",
            "P-Value                                                           1.0\n",
            "PPV Macro                                                         None\n",
            "PPV Micro                                                         0.3871\n",
            "Pearson C                                                         None\n",
            "Phi-Squared                                                       None\n",
            "RCI                                                               0.44089\n",
            "RR                                                                46.5\n",
            "Reference Entropy                                                 1.69686\n",
            "Response Entropy                                                  1.62255\n",
            "SOA1(Landis & Koch)                                               Fair\n",
            "SOA2(Fleiss)                                                      Poor\n",
            "SOA3(Altman)                                                      Fair\n",
            "SOA4(Cicchetti)                                                   Poor\n",
            "SOA5(Cramer)                                                      None\n",
            "SOA6(Matthews)                                                    Weak\n",
            "Scott PI                                                          0.17141\n",
            "Standard Error                                                    0.02916\n",
            "TNR Macro                                                         0.88065\n",
            "TNR Micro                                                         0.87742\n",
            "TPR Macro                                                         None\n",
            "TPR Micro                                                         0.3871\n",
            "Zero-one Loss                                                     171\n",
            "\n",
            "Class Statistics :\n",
            "\n",
            "Classes                                                           1             2             3             4             5             7             \n",
            "ACC(Accuracy)                                                     0.98208       0.98566       0.69534       0.64875       0.46953       0.99283       \n",
            "AGF(Adjusted F-score)                                             0.97569       0.0           0.47218       0.72178       0.0           0.0           \n",
            "AGM(Adjusted geometric mean)                                      0.98045       None          0.64839       0.65727       0             0             \n",
            "AM(Difference between automatic and manual classification)        1             4             71            72            -146          -2            \n",
            "AUC(Area under the ROC curve)                                     0.9757        None          0.60283       0.69665       0.49621       0.5           \n",
            "AUCI(AUC value interpretation)                                    Excellent     None          Fair          Fair          Poor          Poor          \n",
            "AUPR(Area under the PR curve)                                     0.95659       None          0.29118       0.5654        0.0           None          \n",
            "BB(Braun-Blanquet similarity)                                     0.94828       0.0           0.08235       0.35115       0.0           0.0           \n",
            "BCD(Bray-Curtis dissimilarity)                                    0.00179       0.00717       0.12724       0.12903       0.26165       0.00358       \n",
            "BM(Informedness or bookmaker informedness)                        0.9514        None          0.20566       0.3933        -0.00758      0.0           \n",
            "CEN(Confusion entropy)                                            0.07715       0.45154       0.26625       0.35006       0.31633       0.30103       \n",
            "DOR(Diagnostic odds ratio)                                        2007.5        None          2.39744       5.61991       0.0           None          \n",
            "DP(Discriminant power)                                            1.82085       None          0.20937       0.41335       None          None          \n",
            "DPI(Discriminant power interpretation)                            Limited       None          Poor          Poor          None          None          \n",
            "ERR(Error rate)                                                   0.01792       0.01434       0.30466       0.35125       0.53047       0.00717       \n",
            "F0.5(F0.5 score)                                                  0.95156       0.0           0.09887       0.39451       0.0           0.0           \n",
            "F1(F1 score - harmonic mean of precision and sensitivity)         0.95652       0.0           0.14141       0.48421       0.0           0.0           \n",
            "F2(F2 score)                                                      0.96154       0.0           0.24823       0.6267        0.0           0.0           \n",
            "FDR(False discovery rate)                                         0.05172       1.0           0.91765       0.64885       1.0           None          \n",
            "FN(False negative/miss/type 2 error)                              2             0             7             13            147           2             \n",
            "FNR(Miss rate or false negative rate)                             0.03509       None          0.5           0.22034       1.0           1.0           \n",
            "FOR(False omission rate)                                          0.00905       0.0           0.03608       0.08784       0.52878       0.00717       \n",
            "FP(False positive/type 1 error/false alarm)                       3             4             78            85            1             0             \n",
            "FPR(Fall-out or false positive rate)                              0.01351       0.01434       0.29434       0.38636       0.00758       0.0           \n",
            "G(G-measure geometric mean of precision and sensitivity)          0.95656       None          0.20292       0.52323       0.0           None          \n",
            "GI(Gini index)                                                    0.9514        None          0.20566       0.3933        -0.00758      0.0           \n",
            "GM(G-mean geometric mean of specificity and sensitivity)          0.97564       None          0.594         0.69169       0.0           0.0           \n",
            "HD(Hamming distance)                                              5             4             85            98            148           2             \n",
            "IBA(Index of balanced accuracy)                                   0.93134       None          0.28027       0.55786       0.0           0.0           \n",
            "ICSI(Individual classification success index)                     0.91319       None          -0.41765      0.13081       -1.0          None          \n",
            "IS(Information score)                                             2.21461       None          0.71473       0.73162       None          None          \n",
            "J(Jaccard index)                                                  0.91667       0.0           0.07609       0.31944       0.0           0.0           \n",
            "LS(Lift score)                                                    4.64156       None          1.64118       1.6605        0.0           None          \n",
            "MCC(Matthews correlation coefficient)                             0.94529       None          0.09755       0.3218        -0.06329      None          \n",
            "MCCI(Matthews correlation coefficient interpretation)             Very Strong   None          Negligible    Weak          Negligible    None          \n",
            "MCEN(Modified confusion entropy)                                  0.12432       0.45154       0.25708       0.37995       0.31633       0.30103       \n",
            "MK(Markedness)                                                    0.93923       0.0           0.04627       0.26331       -0.52878      None          \n",
            "N(Condition negative)                                             222           279           265           220           132           277           \n",
            "NLR(Negative likelihood ratio)                                    0.03557       None          0.70856       0.35907       1.00763       1.0           \n",
            "NLRI(Negative likelihood ratio interpretation)                    Good          None          Negligible    Poor          Negligible    Negligible    \n",
            "NPV(Negative predictive value)                                    0.99095       1.0           0.96392       0.91216       0.47122       0.99283       \n",
            "OC(Overlap coefficient)                                           0.96491       None          0.5           0.77966       0.0           None          \n",
            "OOC(Otsuka-Ochiai coefficient)                                    0.95656       None          0.20292       0.52323       0.0           None          \n",
            "OP(Optimized precision)                                           0.97102       None          0.52476       0.52959       -0.53047      -0.00717      \n",
            "P(Condition positive or support)                                  57            0             14            59            147           2             \n",
            "PLR(Positive likelihood ratio)                                    71.40351      None          1.69872       2.01795       0.0           None          \n",
            "PLRI(Positive likelihood ratio interpretation)                    Good          None          Poor          Poor          Negligible    None          \n",
            "POP(Population)                                                   279           279           279           279           279           279           \n",
            "PPV(Precision or positive predictive value)                       0.94828       0.0           0.08235       0.35115       0.0           None          \n",
            "PRE(Prevalence)                                                   0.2043        0.0           0.05018       0.21147       0.52688       0.00717       \n",
            "Q(Yule Q - coefficient of colligation)                            0.999         None          0.41132       0.69788       -1.0          None          \n",
            "QI(Yule Q interpretation)                                         Strong        None          Weak          Moderate      Negligible    None          \n",
            "RACC(Random accuracy)                                             0.04247       0.0           0.01529       0.09929       0.00189       0.0           \n",
            "RACCU(Random accuracy unbiased)                                   0.04247       5e-05         0.03148       0.11594       0.07035       1e-05         \n",
            "TN(True negative/correct rejection)                               219           275           187           135           131           277           \n",
            "TNR(Specificity or true negative rate)                            0.98649       0.98566       0.70566       0.61364       0.99242       1.0           \n",
            "TON(Test outcome negative)                                        221           275           194           148           278           279           \n",
            "TOP(Test outcome positive)                                        58            4             85            131           1             0             \n",
            "TP(True positive/hit)                                             55            0             7             46            0             0             \n",
            "TPR(Sensitivity, recall, hit rate, or true positive rate)         0.96491       None          0.5           0.77966       0.0           0.0           \n",
            "Y(Youden index)                                                   0.9514        None          0.20566       0.3933        -0.00758      0.0           \n",
            "dInd(Distance index)                                              0.0376        None          0.5802        0.44478       1.00003       1.0           \n",
            "sInd(Similarity index)                                            0.97341       None          0.58973       0.6855        0.29287       0.29289       \n",
            "\n"
          ]
        }
      ],
      "source": [
        "print(cm[('R', 'H')])\n",
        "print(cm[('H','R')])"
      ]
    },
    {
      "cell_type": "code",
      "execution_count": 151,
      "metadata": {
        "colab": {
          "base_uri": "https://localhost:8080/"
        },
        "id": "pXeN1C7-BZ9a",
        "outputId": "eda60f46-4199-4010-dc89-9d5a5f92ffb2"
      },
      "outputs": [
        {
          "name": "stdout",
          "output_type": "stream",
          "text": [
            "Predict   1         2         3         4         5         7         \n",
            "Actual\n",
            "1         51        1         1         5         0         0         \n",
            "\n",
            "2         2         1         0         1         0         0         \n",
            "\n",
            "3         0         0         12        7         66        0         \n",
            "\n",
            "4         4         0         0         125       1         1         \n",
            "\n",
            "5         0         0         0         1         0         0         \n",
            "\n",
            "7         0         0         0         0         0         0         \n",
            "\n",
            "\n",
            "\n",
            "\n",
            "\n",
            "Overall Statistics : \n",
            "\n",
            "95% CI                                                            (0.62257,0.73227)\n",
            "ACC Macro                                                         0.89247\n",
            "ARI                                                               0.73552\n",
            "AUNP                                                              None\n",
            "AUNU                                                              None\n",
            "Bangdiwala B                                                      0.80947\n",
            "Bennett S                                                         0.6129\n",
            "CBA                                                               0.36163\n",
            "CSI                                                               None\n",
            "Chi-Squared                                                       None\n",
            "Chi-Squared DF                                                    25\n",
            "Conditional Entropy                                               0.61187\n",
            "Cramer V                                                          None\n",
            "Cross Entropy                                                     2.40551\n",
            "F1 Macro                                                          0.39852\n",
            "F1 Micro                                                          0.67742\n",
            "FNR Macro                                                         None\n",
            "FNR Micro                                                         0.32258\n",
            "FPR Macro                                                         0.06252\n",
            "FPR Micro                                                         0.06452\n",
            "Gwet AC1                                                          0.62685\n",
            "Hamming Loss                                                      0.32258\n",
            "Joint Entropy                                                     2.23442\n",
            "KL Divergence                                                     None\n",
            "Kappa                                                             0.54466\n",
            "Kappa 95% CI                                                      (0.46724,0.62209)\n",
            "Kappa No Prevalence                                               0.35484\n",
            "Kappa Standard Error                                              0.0395\n",
            "Kappa Unbiased                                                    0.52392\n",
            "Krippendorff Alpha                                                0.52478\n",
            "Lambda A                                                          0.84459\n",
            "Lambda B                                                          0.75714\n",
            "Mutual Information                                                1.13755\n",
            "NIR                                                               0.46953\n",
            "Overall ACC                                                       0.67742\n",
            "Overall CEN                                                       0.15317\n",
            "Overall J                                                         (1.99848,0.33308)\n",
            "Overall MCC                                                       0.59666\n",
            "Overall MCEN                                                      0.19579\n",
            "Overall RACC                                                      0.29156\n",
            "Overall RACCU                                                     0.32242\n",
            "P-Value                                                           0.0\n",
            "PPV Macro                                                         0.53618\n",
            "PPV Micro                                                         0.67742\n",
            "Pearson C                                                         None\n",
            "Phi-Squared                                                       None\n",
            "RCI                                                               0.70109\n",
            "RR                                                                46.5\n",
            "Reference Entropy                                                 1.62255\n",
            "Response Entropy                                                  1.74942\n",
            "SOA1(Landis & Koch)                                               Moderate\n",
            "SOA2(Fleiss)                                                      Intermediate to Good\n",
            "SOA3(Altman)                                                      Moderate\n",
            "SOA4(Cicchetti)                                                   Fair\n",
            "SOA5(Cramer)                                                      None\n",
            "SOA6(Matthews)                                                    Moderate\n",
            "Scott PI                                                          0.52392\n",
            "Standard Error                                                    0.02799\n",
            "TNR Macro                                                         0.93748\n",
            "TNR Micro                                                         0.93548\n",
            "TPR Macro                                                         None\n",
            "TPR Micro                                                         0.67742\n",
            "Zero-one Loss                                                     90\n",
            "\n",
            "Class Statistics :\n",
            "\n",
            "Classes                                                           1             2             3             4             5             7             \n",
            "ACC(Accuracy)                                                     0.95341       0.98566       0.73477       0.92832       0.75627       0.99642       \n",
            "AGF(Adjusted F-score)                                             0.92483       0.52456       0.36109       0.9445        0.0           0.0           \n",
            "AGM(Adjusted geometric mean)                                      0.94609       0.74593       0.62909       0.92114       0             None          \n",
            "AM(Difference between automatic and manual classification)        -1            -2            -72           8             66            1             \n",
            "AUC(Area under the ROC curve)                                     0.92608       0.62318       0.56801       0.9298        0.3795        None          \n",
            "AUCI(AUC value interpretation)                                    Excellent     Fair          Poor          Excellent     Poor          None          \n",
            "AUPR(Area under the PR curve)                                     0.88702       0.375         0.53213       0.92674       0.0           None          \n",
            "BB(Braun-Blanquet similarity)                                     0.87931       0.25          0.14118       0.89928       0.0           0.0           \n",
            "BCD(Bray-Curtis dissimilarity)                                    0.00179       0.00358       0.12903       0.01434       0.11828       0.00179       \n",
            "BM(Informedness or bookmaker informedness)                        0.85216       0.24636       0.13602       0.8596        -0.24101      None          \n",
            "CEN(Confusion entropy)                                            0.17638       0.41842       0.21781       0.13633       0.06648       0.0           \n",
            "DOR(Diagnostic odds ratio)                                        261.07143     91.33333      31.72603      199.40476     0.0           None          \n",
            "DP(Discriminant power)                                            1.33243       1.08095       0.82777       1.26791       None          None          \n",
            "DPI(Discriminant power interpretation)                            Limited       Limited       Poor          Limited       None          None          \n",
            "ERR(Error rate)                                                   0.04659       0.01434       0.26523       0.07168       0.24373       0.00358       \n",
            "F0.5(F0.5 score)                                                  0.89161       0.41667       0.43796       0.90975       0.0           0.0           \n",
            "F1(F1 score - harmonic mean of precision and sensitivity)         0.88696       0.33333       0.2449        0.92593       0.0           0.0           \n",
            "F2(F2 score)                                                      0.88235       0.27778       0.16997       0.94268       0.0           0.0           \n",
            "FDR(False discovery rate)                                         0.10526       0.5           0.07692       0.10072       1.0           1.0           \n",
            "FN(False negative/miss/type 2 error)                              7             3             73            6             1             0             \n",
            "FNR(Miss rate or false negative rate)                             0.12069       0.75          0.85882       0.0458        1.0           None          \n",
            "FOR(False omission rate)                                          0.03153       0.01083       0.27444       0.04286       0.00472       0.0           \n",
            "FP(False positive/type 1 error/false alarm)                       6             1             1             14            67            1             \n",
            "FPR(Fall-out or false positive rate)                              0.02715       0.00364       0.00515       0.09459       0.24101       0.00358       \n",
            "G(G-measure geometric mean of precision and sensitivity)          0.88699       0.35355       0.36099       0.92633       0.0           None          \n",
            "GI(Gini index)                                                    0.85216       0.24636       0.13602       0.8596        -0.24101      None          \n",
            "GM(G-mean geometric mean of specificity and sensitivity)          0.9249        0.49909       0.37476       0.92948       0.0           None          \n",
            "HD(Hamming distance)                                              13            4             74            20            68            1             \n",
            "IBA(Index of balanced accuracy)                                   0.77542       0.06318       0.02055       0.90609       0.0           None          \n",
            "ICSI(Individual classification success index)                     0.77405       -0.25         0.06425       0.85348       -1.0          None          \n",
            "IS(Information score)                                             2.10568       5.12412       1.59925       0.93754       None          None          \n",
            "J(Jaccard index)                                                  0.79688       0.2           0.13953       0.86207       0.0           0.0           \n",
            "LS(Lift score)                                                    4.30399       34.875        3.02986       1.91526       0.0           None          \n",
            "MCC(Matthews correlation coefficient)                             0.85767       0.34715       0.29703       0.85801       -0.03372      None          \n",
            "MCCI(Matthews correlation coefficient interpretation)             Strong        Weak          Negligible    Strong        Negligible    None          \n",
            "MCEN(Modified confusion entropy)                                  0.26524       0.43876       0.19939       0.21661       0.06648       0.0           \n",
            "MK(Markedness)                                                    0.86321       0.48917       0.64864       0.85642       -0.00472      0.0           \n",
            "N(Condition negative)                                             221           275           194           148           278           279           \n",
            "NLR(Negative likelihood ratio)                                    0.12406       0.75274       0.86327       0.05059       1.31754       None          \n",
            "NLRI(Negative likelihood ratio interpretation)                    Fair          Negligible    Negligible    Good          Negligible    None          \n",
            "NPV(Negative predictive value)                                    0.96847       0.98917       0.72556       0.95714       0.99528       1.0           \n",
            "OC(Overlap coefficient)                                           0.89474       0.5           0.92308       0.9542        0.0           None          \n",
            "OOC(Otsuka-Ochiai coefficient)                                    0.88699       0.35355       0.36099       0.92633       0.0           None          \n",
            "OP(Optimized precision)                                           0.9029        0.38683       -0.01669      0.90208       -0.24373      None          \n",
            "P(Condition positive or support)                                  58            4             85            131           1             0             \n",
            "PLR(Positive likelihood ratio)                                    32.38793      68.75         27.38824      10.08724      0.0           None          \n",
            "PLRI(Positive likelihood ratio interpretation)                    Good          Good          Good          Good          Negligible    None          \n",
            "POP(Population)                                                   279           279           279           279           279           279           \n",
            "PPV(Precision or positive predictive value)                       0.89474       0.5           0.92308       0.89928       0.0           0.0           \n",
            "PRE(Prevalence)                                                   0.20789       0.01434       0.30466       0.46953       0.00358       0.0           \n",
            "Q(Yule Q - coefficient of colligation)                            0.99237       0.97834       0.93889       0.99002       -1.0          None          \n",
            "QI(Yule Q interpretation)                                         Strong        Strong        Strong        Strong        Negligible    None          \n",
            "RACC(Random accuracy)                                             0.04247       0.0001        0.0142        0.23393       0.00086       0.0           \n",
            "RACCU(Random accuracy unbiased)                                   0.04247       0.00012       0.03084       0.23413       0.01485       0.0           \n",
            "TN(True negative/correct rejection)                               215           274           193           134           211           278           \n",
            "TNR(Specificity or true negative rate)                            0.97285       0.99636       0.99485       0.90541       0.75899       0.99642       \n",
            "TON(Test outcome negative)                                        222           277           266           140           212           278           \n",
            "TOP(Test outcome positive)                                        57            2             13            139           67            1             \n",
            "TP(True positive/hit)                                             51            1             12            125           0             0             \n",
            "TPR(Sensitivity, recall, hit rate, or true positive rate)         0.87931       0.25          0.14118       0.9542        0.0           None          \n",
            "Y(Youden index)                                                   0.85216       0.24636       0.13602       0.8596        -0.24101      None          \n",
            "dInd(Distance index)                                              0.12371       0.75001       0.85884       0.1051        1.02863       None          \n",
            "sInd(Similarity index)                                            0.91253       0.46966       0.39271       0.92568       0.27265       None          \n",
            "\n",
            "Predict   1         2         3         4         5         7         \n",
            "Actual\n",
            "1         51        2         0         4         0         0         \n",
            "\n",
            "2         1         1         0         0         0         0         \n",
            "\n",
            "3         1         0         12        0         0         0         \n",
            "\n",
            "4         5         1         7         125       1         0         \n",
            "\n",
            "5         0         0         66        1         0         0         \n",
            "\n",
            "7         0         0         0         1         0         0         \n",
            "\n",
            "\n",
            "\n",
            "\n",
            "\n",
            "Overall Statistics : \n",
            "\n",
            "95% CI                                                            (0.62257,0.73227)\n",
            "ACC Macro                                                         0.89247\n",
            "ARI                                                               0.73552\n",
            "AUNP                                                              0.81781\n",
            "AUNU                                                              0.73773\n",
            "Bangdiwala B                                                      0.80947\n",
            "Bennett S                                                         0.6129\n",
            "CBA                                                               0.36163\n",
            "CSI                                                               None\n",
            "Chi-Squared                                                       None\n",
            "Chi-Squared DF                                                    25\n",
            "Conditional Entropy                                               0.485\n",
            "Cramer V                                                          None\n",
            "Cross Entropy                                                     3.08112\n",
            "F1 Macro                                                          0.39852\n",
            "F1 Micro                                                          0.67742\n",
            "FNR Macro                                                         0.46382\n",
            "FNR Micro                                                         0.32258\n",
            "FPR Macro                                                         0.06073\n",
            "FPR Micro                                                         0.06452\n",
            "Gwet AC1                                                          0.62685\n",
            "Hamming Loss                                                      0.32258\n",
            "Joint Entropy                                                     2.23442\n",
            "KL Divergence                                                     None\n",
            "Kappa                                                             0.54466\n",
            "Kappa 95% CI                                                      (0.46724,0.62209)\n",
            "Kappa No Prevalence                                               0.35484\n",
            "Kappa Standard Error                                              0.0395\n",
            "Kappa Unbiased                                                    0.52392\n",
            "Krippendorff Alpha                                                0.52478\n",
            "Lambda A                                                          0.75714\n",
            "Lambda B                                                          0.84459\n",
            "Mutual Information                                                1.13755\n",
            "NIR                                                               0.49821\n",
            "Overall ACC                                                       0.67742\n",
            "Overall CEN                                                       0.15317\n",
            "Overall J                                                         (1.99848,0.33308)\n",
            "Overall MCC                                                       0.59666\n",
            "Overall MCEN                                                      0.19579\n",
            "Overall RACC                                                      0.29156\n",
            "Overall RACCU                                                     0.32242\n",
            "P-Value                                                           0.0\n",
            "PPV Macro                                                         None\n",
            "PPV Micro                                                         0.67742\n",
            "Pearson C                                                         None\n",
            "Phi-Squared                                                       None\n",
            "RCI                                                               0.65024\n",
            "RR                                                                46.5\n",
            "Reference Entropy                                                 1.74942\n",
            "Response Entropy                                                  1.62255\n",
            "SOA1(Landis & Koch)                                               Moderate\n",
            "SOA2(Fleiss)                                                      Intermediate to Good\n",
            "SOA3(Altman)                                                      Moderate\n",
            "SOA4(Cicchetti)                                                   Fair\n",
            "SOA5(Cramer)                                                      None\n",
            "SOA6(Matthews)                                                    Moderate\n",
            "Scott PI                                                          0.52392\n",
            "Standard Error                                                    0.02799\n",
            "TNR Macro                                                         0.93927\n",
            "TNR Micro                                                         0.93548\n",
            "TPR Macro                                                         0.53618\n",
            "TPR Micro                                                         0.67742\n",
            "Zero-one Loss                                                     90\n",
            "\n",
            "Class Statistics :\n",
            "\n",
            "Classes                                                           1             2             3             4             5             7             \n",
            "ACC(Accuracy)                                                     0.95341       0.98566       0.73477       0.92832       0.75627       0.99642       \n",
            "AGF(Adjusted F-score)                                             0.93092       0.64385       0.63686       0.91252       0.0           0.0           \n",
            "AGM(Adjusted geometric mean)                                      0.94753       0.8457        0.77308       0.93758       0             0             \n",
            "AM(Difference between automatic and manual classification)        1             2             72            -8            -66           -1            \n",
            "AUC(Area under the ROC curve)                                     0.9316        0.74458       0.82432       0.92821       0.49764       0.5           \n",
            "AUCI(AUC value interpretation)                                    Excellent     Good          Very Good     Excellent     Poor          Poor          \n",
            "AUPR(Area under the PR curve)                                     0.88702       0.375         0.53213       0.92674       0.0           None          \n",
            "BB(Braun-Blanquet similarity)                                     0.87931       0.25          0.14118       0.89928       0.0           0.0           \n",
            "BCD(Bray-Curtis dissimilarity)                                    0.00179       0.00358       0.12903       0.01434       0.11828       0.00179       \n",
            "BM(Informedness or bookmaker informedness)                        0.86321       0.48917       0.64864       0.85642       -0.00472      0.0           \n",
            "CEN(Confusion entropy)                                            0.17638       0.41842       0.21781       0.13633       0.06648       0.0           \n",
            "DOR(Diagnostic odds ratio)                                        261.07143     91.33333      31.72603      199.40476     0.0           None          \n",
            "DP(Discriminant power)                                            1.33243       1.08095       0.82777       1.26791       None          None          \n",
            "DPI(Discriminant power interpretation)                            Limited       Limited       Poor          Limited       None          None          \n",
            "ERR(Error rate)                                                   0.04659       0.01434       0.26523       0.07168       0.24373       0.00358       \n",
            "F0.5(F0.5 score)                                                  0.88235       0.27778       0.16997       0.94268       0.0           0.0           \n",
            "F1(F1 score - harmonic mean of precision and sensitivity)         0.88696       0.33333       0.2449        0.92593       0.0           0.0           \n",
            "F2(F2 score)                                                      0.89161       0.41667       0.43796       0.90975       0.0           0.0           \n",
            "FDR(False discovery rate)                                         0.12069       0.75          0.85882       0.0458        1.0           None          \n",
            "FN(False negative/miss/type 2 error)                              6             1             1             14            67            1             \n",
            "FNR(Miss rate or false negative rate)                             0.10526       0.5           0.07692       0.10072       1.0           1.0           \n",
            "FOR(False omission rate)                                          0.02715       0.00364       0.00515       0.09459       0.24101       0.00358       \n",
            "FP(False positive/type 1 error/false alarm)                       7             3             73            6             1             0             \n",
            "FPR(Fall-out or false positive rate)                              0.03153       0.01083       0.27444       0.04286       0.00472       0.0           \n",
            "G(G-measure geometric mean of precision and sensitivity)          0.88699       0.35355       0.36099       0.92633       0.0           None          \n",
            "GI(Gini index)                                                    0.86321       0.48917       0.64864       0.85642       -0.00472      0.0           \n",
            "GM(G-mean geometric mean of specificity and sensitivity)          0.93087       0.70327       0.81838       0.92776       0.0           0.0           \n",
            "HD(Hamming distance)                                              13            4             74            20            68            1             \n",
            "IBA(Index of balanced accuracy)                                   0.80263       0.25265       0.80204       0.81094       0.0           0.0           \n",
            "ICSI(Individual classification success index)                     0.77405       -0.25         0.06425       0.85348       -1.0          None          \n",
            "IS(Information score)                                             2.10568       5.12412       1.59925       0.93754       None          None          \n",
            "J(Jaccard index)                                                  0.79688       0.2           0.13953       0.86207       0.0           0.0           \n",
            "LS(Lift score)                                                    4.30399       34.875        3.02986       1.91526       0.0           None          \n",
            "MCC(Matthews correlation coefficient)                             0.85767       0.34715       0.29703       0.85801       -0.03372      None          \n",
            "MCCI(Matthews correlation coefficient interpretation)             Strong        Weak          Negligible    Strong        Negligible    None          \n",
            "MCEN(Modified confusion entropy)                                  0.26524       0.43876       0.19939       0.21661       0.06648       0.0           \n",
            "MK(Markedness)                                                    0.85216       0.24636       0.13602       0.8596        -0.24101      None          \n",
            "N(Condition negative)                                             222           277           266           140           212           278           \n",
            "NLR(Negative likelihood ratio)                                    0.10869       0.50547       0.10602       0.10523       1.00474       1.0           \n",
            "NLRI(Negative likelihood ratio interpretation)                    Fair          Negligible    Fair          Fair          Negligible    Negligible    \n",
            "NPV(Negative predictive value)                                    0.97285       0.99636       0.99485       0.90541       0.75899       0.99642       \n",
            "OC(Overlap coefficient)                                           0.89474       0.5           0.92308       0.9542        0.0           None          \n",
            "OOC(Otsuka-Ochiai coefficient)                                    0.88699       0.35355       0.36099       0.92633       0.0           None          \n",
            "OP(Optimized precision)                                           0.91383       0.65718       0.61496       0.89715       -0.24373      -0.00358      \n",
            "P(Condition positive or support)                                  57            2             13            139           67            1             \n",
            "PLR(Positive likelihood ratio)                                    28.37594      46.16667      3.36354       20.98321      0.0           None          \n",
            "PLRI(Positive likelihood ratio interpretation)                    Good          Good          Poor          Good          Negligible    None          \n",
            "POP(Population)                                                   279           279           279           279           279           279           \n",
            "PPV(Precision or positive predictive value)                       0.87931       0.25          0.14118       0.9542        0.0           None          \n",
            "PRE(Prevalence)                                                   0.2043        0.00717       0.04659       0.49821       0.24014       0.00358       \n",
            "Q(Yule Q - coefficient of colligation)                            0.99237       0.97834       0.93889       0.99002       -1.0          None          \n",
            "QI(Yule Q interpretation)                                         Strong        Strong        Strong        Strong        Negligible    None          \n",
            "RACC(Random accuracy)                                             0.04247       0.0001        0.0142        0.23393       0.00086       0.0           \n",
            "RACCU(Random accuracy unbiased)                                   0.04247       0.00012       0.03084       0.23413       0.01485       0.0           \n",
            "TN(True negative/correct rejection)                               215           274           193           134           211           278           \n",
            "TNR(Specificity or true negative rate)                            0.96847       0.98917       0.72556       0.95714       0.99528       1.0           \n",
            "TON(Test outcome negative)                                        221           275           194           148           278           279           \n",
            "TOP(Test outcome positive)                                        58            4             85            131           1             0             \n",
            "TP(True positive/hit)                                             51            1             12            125           0             0             \n",
            "TPR(Sensitivity, recall, hit rate, or true positive rate)         0.89474       0.5           0.92308       0.89928       0.0           0.0           \n",
            "Y(Youden index)                                                   0.86321       0.48917       0.64864       0.85642       -0.00472      0.0           \n",
            "dInd(Distance index)                                              0.10988       0.50012       0.28501       0.10946       1.00001       1.0           \n",
            "sInd(Similarity index)                                            0.9223        0.64636       0.79847       0.9226        0.29289       0.29289       \n",
            "\n"
          ]
        }
      ],
      "source": [
        "print(cm[('R', 'S')])\n",
        "print(cm[('S', 'R')])"
      ]
    },
    {
      "attachments": {},
      "cell_type": "markdown",
      "metadata": {
        "id": "YNeHG74w2KMi"
      },
      "source": [
        "### Looking at total agreement counts for each label between each pair of annotators.\n",
        "- Max agreement is for FE, then Neutral.\n",
        "- But we cannot say if agreement was most, complexity to identify each of these three labels was easy."
      ]
    },
    {
      "cell_type": "code",
      "execution_count": 152,
      "metadata": {
        "colab": {
          "base_uri": "https://localhost:8080/"
        },
        "id": "i3_1JviD2KMi",
        "outputId": "8cd6b1dc-de30-495e-8222-d6b3be71988f"
      },
      "outputs": [
        {
          "name": "stdout",
          "output_type": "stream",
          "text": [
            "('R', 'H')\n",
            "{1: {1: 55, 2: 0, 3: 0, 4: 3, 5: 0, 7: 0}, 2: {1: 1, 2: 0, 3: 0, 4: 2, 5: 0, 7: 1}, 3: {1: 0, 2: 0, 3: 7, 4: 7, 5: 71, 7: 0}, 4: {1: 1, 2: 0, 3: 7, 4: 46, 5: 76, 7: 1}, 5: {1: 0, 2: 0, 3: 0, 4: 1, 5: 0, 7: 0}, 7: {1: 0, 2: 0, 3: 0, 4: 0, 5: 0, 7: 0}}\n",
            "('H', 'R')\n",
            "{1: {1: 55, 2: 1, 3: 0, 4: 1, 5: 0, 7: 0}, 2: {1: 0, 2: 0, 3: 0, 4: 0, 5: 0, 7: 0}, 3: {1: 0, 2: 0, 3: 7, 4: 7, 5: 0, 7: 0}, 4: {1: 3, 2: 2, 3: 7, 4: 46, 5: 1, 7: 0}, 5: {1: 0, 2: 0, 3: 71, 4: 76, 5: 0, 7: 0}, 7: {1: 0, 2: 1, 3: 0, 4: 1, 5: 0, 7: 0}}\n",
            "('R', 'S')\n",
            "{1: {1: 51, 2: 1, 3: 1, 4: 5, 5: 0, 7: 0}, 2: {1: 2, 2: 1, 3: 0, 4: 1, 5: 0, 7: 0}, 3: {1: 0, 2: 0, 3: 12, 4: 7, 5: 66, 7: 0}, 4: {1: 4, 2: 0, 3: 0, 4: 125, 5: 1, 7: 1}, 5: {1: 0, 2: 0, 3: 0, 4: 1, 5: 0, 7: 0}, 7: {1: 0, 2: 0, 3: 0, 4: 0, 5: 0, 7: 0}}\n",
            "('S', 'R')\n",
            "{1: {1: 51, 2: 2, 3: 0, 4: 4, 5: 0, 7: 0}, 2: {1: 1, 2: 1, 3: 0, 4: 0, 5: 0, 7: 0}, 3: {1: 1, 2: 0, 3: 12, 4: 0, 5: 0, 7: 0}, 4: {1: 5, 2: 1, 3: 7, 4: 125, 5: 1, 7: 0}, 5: {1: 0, 2: 0, 3: 66, 4: 1, 5: 0, 7: 0}, 7: {1: 0, 2: 0, 3: 0, 4: 1, 5: 0, 7: 0}}\n",
            "('H', 'S')\n",
            "{1: {1: 53, 2: 1, 3: 0, 4: 3, 5: 0, 7: 0}, 2: {1: 0, 2: 0, 3: 0, 4: 0, 5: 0, 7: 0}, 3: {1: 0, 2: 0, 3: 7, 4: 7, 5: 0, 7: 0}, 4: {1: 4, 2: 1, 3: 2, 4: 52, 5: 0, 7: 0}, 5: {1: 0, 2: 0, 3: 4, 4: 76, 5: 67, 7: 0}, 7: {1: 0, 2: 0, 3: 0, 4: 1, 5: 0, 7: 1}}\n",
            "('S', 'H')\n",
            "{1: {1: 53, 2: 0, 3: 0, 4: 4, 5: 0, 7: 0}, 2: {1: 1, 2: 0, 3: 0, 4: 1, 5: 0, 7: 0}, 3: {1: 0, 2: 0, 3: 7, 4: 2, 5: 4, 7: 0}, 4: {1: 3, 2: 0, 3: 7, 4: 52, 5: 76, 7: 1}, 5: {1: 0, 2: 0, 3: 0, 4: 0, 5: 67, 7: 0}, 7: {1: 0, 2: 0, 3: 0, 4: 0, 5: 0, 7: 1}}\n"
          ]
        }
      ],
      "source": [
        "for k,v in cm.items():\n",
        "  print(k)\n",
        "  print(v.table)"
      ]
    },
    {
      "attachments": {},
      "cell_type": "markdown",
      "metadata": {
        "id": "ugk-UsgF2KMi"
      },
      "source": [
        "## Cohen Kappa scores for modified labels \n",
        "\n",
        "Total 186 * 2 = 372 labels required by 2 annotators for 186 premise, hypothesis pairs.\n",
        "\n",
        "- 'FE': 112,\n",
        "- 'RE': 12,\n",
        "- 'Neutral': 158,\n",
        "- 'Negation': 13,\n",
        "- 'Alternation': 73,\n",
        "- 'Cover': 4\n",
        "\n",
        "So we recalculate the Cohen kappa score which is now: \n",
        "\n",
        "- Annotator 3 & 4 - 27.12%\n",
        "- Annotator 3 & 5 - 54.46%\n",
        "- Annotator 4 & 5 - 50.99%"
      ]
    },
    {
      "cell_type": "code",
      "execution_count": 154,
      "metadata": {
        "colab": {
          "base_uri": "https://localhost:8080/"
        },
        "id": "KXHuEOZp2KMj",
        "outputId": "ab1980f2-ca9b-42dd-ccc2-0e3ff8813343"
      },
      "outputs": [
        {
          "data": {
            "text/plain": [
              "{('R', 'H'): 0.27127342711817803,\n",
              " ('R', 'S'): 0.5446632575345447,\n",
              " ('H', 'S'): 0.5099009900990099}"
            ]
          },
          "execution_count": 154,
          "metadata": {},
          "output_type": "execute_result"
        }
      ],
      "source": [
        "labellers = {1:'R', 2:'H', 3:'S'}\n",
        "cohen_kappa_scores"
      ]
    },
    {
      "attachments": {},
      "cell_type": "markdown",
      "metadata": {
        "id": "Tonm1QKR2KMk"
      },
      "source": [
        "## Fleiss Kappa scores\n",
        "This is another way of finding above the level of agreement expected by chance. This considers random sampling among the raters (a little better than voted ratings, due to \"randomness\").\n",
        "Although this is purely statistical, since we have types of modifiers which influence thge rater's choice of label, we consider this for some \"randomized\" assessment for a approximated agreement scores. \n",
        "\n",
        "The score considers that if no one chose \"this\" label, we could still find out expected chance of agreement on \"this\" label.\n",
        "\n",
        "This does not tell if agreement is good enough. But just that if an agreement exists then how better is it to that of agreement by chance which in this case is 40.20%."
      ]
    },
    {
      "cell_type": "code",
      "execution_count": 155,
      "metadata": {
        "colab": {
          "base_uri": "https://localhost:8080/"
        },
        "id": "WAhI-lzb2KMk",
        "outputId": "df65b180-ef5d-4e76-c4b1-03c9d8fbfdf5"
      },
      "outputs": [
        {
          "data": {
            "text/plain": [
              "0.40205980989423135"
            ]
          },
          "execution_count": 155,
          "metadata": {},
          "output_type": "execute_result"
        }
      ],
      "source": [
        "from statsmodels.stats import inter_rater as irr\n",
        "data, categories = irr.aggregate_raters(block_123[['R','H', 'S']].to_numpy())\n",
        "irr.fleiss_kappa(data, method='fleiss')"
      ]
    },
    {
      "attachments": {},
      "cell_type": "markdown",
      "metadata": {
        "id": "2k1EI4W72KMk"
      },
      "source": [
        "### Krippendorff's Alpha\n",
        "Essentially measures amount of reliability as a measure of disagreement.\n",
        "However this might not be relevant here, since we do not have concrete Ground truth. But if we did assume we did have Ground truth and this was reliable, this is how much reliable these labels based on agreement calculated from ratio of observed disagreement and disagreement expected by chance can be.\n",
        "\n",
        "Here krippendorff's alpha is 70.77%"
      ]
    },
    {
      "cell_type": "code",
      "execution_count": 156,
      "metadata": {
        "colab": {
          "base_uri": "https://localhost:8080/"
        },
        "id": "K9R1TrFW2KMk",
        "outputId": "c27661a9-4c97-4cd0-d56a-202be0c7bca0"
      },
      "outputs": [
        {
          "data": {
            "text/plain": [
              "0.7077788417838424"
            ]
          },
          "execution_count": 156,
          "metadata": {},
          "output_type": "execute_result"
        }
      ],
      "source": [
        "import krippendorff\n",
        "krippendorff.alpha(block_123[['R','H', 'S']].to_numpy().T)"
      ]
    },
    {
      "cell_type": "code",
      "execution_count": 157,
      "metadata": {
        "id": "Zx_4zMY-2KMk"
      },
      "outputs": [],
      "source": [
        "import agreement\n",
        "from agreement.utils.kernels import linear_kernel\n",
        "\n",
        "from agreement.metrics import cohens_kappa, krippendorffs_alpha, scotts_pi\n",
        "from agreement.utils.transform import pivot_table_frequency\n"
      ]
    },
    {
      "cell_type": "code",
      "execution_count": 190,
      "metadata": {
        "id": "RSXGtnJn2KMk"
      },
      "outputs": [],
      "source": [
        "this_array = []\n",
        "for i,l in enumerate(block_123[['R','H', 'S']].to_numpy()):\n",
        "  for k in range(0,3):\n",
        "    this_array.append([i,k+1, l[k]])\n",
        "arr = np.array(this_array)\n",
        "questions_answers_table = pivot_table_frequency(arr[:, 0], arr[:, 2])"
      ]
    },
    {
      "attachments": {},
      "cell_type": "markdown",
      "metadata": {
        "id": "SaEQRFbD2KMl"
      },
      "source": [
        "### Recomputing Cohen's kappa, krippendorff's alpha while calculating Scott's pi\n",
        "\n",
        "Scott's Pi is similar to Cohen's kappa, except it considered squared joint proportions to calculate inter-annotator reliability.\n",
        "\n",
        "In this case, Scott's pi is 40.20% different from Cohen's kappa"
      ]
    },
    {
      "cell_type": "code",
      "execution_count": 191,
      "metadata": {
        "id": "2AZsiMlY2KMl"
      },
      "outputs": [],
      "source": [
        "users_answers_table = pivot_table_frequency(arr[:, 1], arr[:, 2])\n",
        "kappa = cohens_kappa(questions_answers_table, users_answers_table)\n",
        "weighted_kappa = cohens_kappa(questions_answers_table, users_answers_table, weights_kernel=linear_kernel)\n",
        "\n",
        "alpha = krippendorffs_alpha(questions_answers_table)\n",
        "pi = scotts_pi(questions_answers_table)"
      ]
    },
    {
      "cell_type": "code",
      "execution_count": 192,
      "metadata": {
        "colab": {
          "base_uri": "https://localhost:8080/"
        },
        "id": "HhpXJbyo2KMl",
        "outputId": "d395df55-4f16-4271-fbc6-b6425d789688"
      },
      "outputs": [
        {
          "data": {
            "text/plain": [
              "(0.4324557983421201,\n",
              " 0.28547229348613157,\n",
              " 0.40277419482864707,\n",
              " 0.40205980989423157)"
            ]
          },
          "execution_count": 192,
          "metadata": {},
          "output_type": "execute_result"
        }
      ],
      "source": [
        "kappa, weighted_kappa, alpha, pi"
      ]
    },
    {
      "attachments": {},
      "cell_type": "markdown",
      "metadata": {
        "id": "8fAP2PT42KMm"
      },
      "source": [
        "## Agreements based on Quantifier & Modified SVO"
      ]
    },
    {
      "cell_type": "code",
      "execution_count": 161,
      "metadata": {
        "id": "oS2AQRXr2KMm"
      },
      "outputs": [],
      "source": [
        "u = [\"every\", \"always\", \"never\", \"everyone of\"]\n",
        "e = [\"some\", \"at least\", \"exactly one\", \"all but one\"]\n",
        "n = [\"not every\", \"no\", \"not\"]\n",
        "adj = [\"green\", \"happy\", \"sad\", \"good\", \"bad\", \"abnormally\", \"elegantly\", \"an elegant\", \"an abnormal\"]"
      ]
    },
    {
      "cell_type": "code",
      "execution_count": 162,
      "metadata": {
        "id": "vctEFaXY2KMm"
      },
      "outputs": [],
      "source": [
        "def get_quantifier_type(x):\n",
        "  if x in u:\n",
        "    return \"Universal\"\n",
        "  elif x in e:\n",
        "    return \"Existential\"\n",
        "  elif x in n:\n",
        "    return \"Negation\"\n",
        "  elif x in adj:\n",
        "    return \"Adjectives/Adverbs\"\n",
        "  else:\n",
        "    return \"NONE\""
      ]
    },
    {
      "cell_type": "code",
      "execution_count": 163,
      "metadata": {
        "colab": {
          "base_uri": "https://localhost:8080/",
          "height": 423
        },
        "id": "xxdUVwXG2KMm",
        "outputId": "0808ac65-b649-4cbe-e62d-de553dabed59"
      },
      "outputs": [
        {
          "data": {
            "text/html": [
              "\n",
              "  <div id=\"df-cd223581-97b3-4685-b041-1b247aa88d08\">\n",
              "    <div class=\"colab-df-container\">\n",
              "      <div>\n",
              "<style scoped>\n",
              "    .dataframe tbody tr th:only-of-type {\n",
              "        vertical-align: middle;\n",
              "    }\n",
              "\n",
              "    .dataframe tbody tr th {\n",
              "        vertical-align: top;\n",
              "    }\n",
              "\n",
              "    .dataframe thead th {\n",
              "        text-align: right;\n",
              "    }\n",
              "</style>\n",
              "<table border=\"1\" class=\"dataframe\">\n",
              "  <thead>\n",
              "    <tr style=\"text-align: right;\">\n",
              "      <th></th>\n",
              "      <th>SICK_id</th>\n",
              "      <th>Premise</th>\n",
              "      <th>Hypothesis</th>\n",
              "      <th>Modifier</th>\n",
              "      <th>Premise/Hypothesis/Both</th>\n",
              "      <th>Part of Premise/Hypothesis Modified</th>\n",
              "      <th>R</th>\n",
              "      <th>H</th>\n",
              "      <th>S</th>\n",
              "      <th>Quantifier Type</th>\n",
              "    </tr>\n",
              "  </thead>\n",
              "  <tbody>\n",
              "    <tr>\n",
              "      <th>0</th>\n",
              "      <td>273</td>\n",
              "      <td>a boy is standing in the cold water</td>\n",
              "      <td>a boy is standing in the water</td>\n",
              "      <td>NONE</td>\n",
              "      <td>NONE</td>\n",
              "      <td>NONE</td>\n",
              "      <td>1</td>\n",
              "      <td>1</td>\n",
              "      <td>1</td>\n",
              "      <td>NONE</td>\n",
              "    </tr>\n",
              "    <tr>\n",
              "      <th>1</th>\n",
              "      <td>273</td>\n",
              "      <td>every boy is standing in the cold water</td>\n",
              "      <td>a boy is standing in the water</td>\n",
              "      <td>every</td>\n",
              "      <td>Premise</td>\n",
              "      <td>Subject</td>\n",
              "      <td>1</td>\n",
              "      <td>1</td>\n",
              "      <td>1</td>\n",
              "      <td>Universal</td>\n",
              "    </tr>\n",
              "    <tr>\n",
              "      <th>2</th>\n",
              "      <td>273</td>\n",
              "      <td>a boy is standing in the cold water</td>\n",
              "      <td>every boy is standing in the water</td>\n",
              "      <td>every</td>\n",
              "      <td>Hypothesis</td>\n",
              "      <td>Subject</td>\n",
              "      <td>4</td>\n",
              "      <td>7</td>\n",
              "      <td>7</td>\n",
              "      <td>Universal</td>\n",
              "    </tr>\n",
              "    <tr>\n",
              "      <th>3</th>\n",
              "      <td>273</td>\n",
              "      <td>every boy is standing in the cold water</td>\n",
              "      <td>every boy is standing in the water</td>\n",
              "      <td>every</td>\n",
              "      <td>Both</td>\n",
              "      <td>Subject</td>\n",
              "      <td>1</td>\n",
              "      <td>1</td>\n",
              "      <td>2</td>\n",
              "      <td>Universal</td>\n",
              "    </tr>\n",
              "    <tr>\n",
              "      <th>4</th>\n",
              "      <td>273</td>\n",
              "      <td>some boy is standing in the cold water</td>\n",
              "      <td>a boy is standing in the water</td>\n",
              "      <td>some</td>\n",
              "      <td>Premise</td>\n",
              "      <td>Subject</td>\n",
              "      <td>1</td>\n",
              "      <td>1</td>\n",
              "      <td>1</td>\n",
              "      <td>Existential</td>\n",
              "    </tr>\n",
              "    <tr>\n",
              "      <th>...</th>\n",
              "      <td>...</td>\n",
              "      <td>...</td>\n",
              "      <td>...</td>\n",
              "      <td>...</td>\n",
              "      <td>...</td>\n",
              "      <td>...</td>\n",
              "      <td>...</td>\n",
              "      <td>...</td>\n",
              "      <td>...</td>\n",
              "      <td>...</td>\n",
              "    </tr>\n",
              "    <tr>\n",
              "      <th>88</th>\n",
              "      <td>1131</td>\n",
              "      <td>The turtle is following the fish</td>\n",
              "      <td>The fish is following exactly one turtle</td>\n",
              "      <td>exactly one</td>\n",
              "      <td>Hypothesis</td>\n",
              "      <td>Object</td>\n",
              "      <td>3</td>\n",
              "      <td>5</td>\n",
              "      <td>5</td>\n",
              "      <td>Existential</td>\n",
              "    </tr>\n",
              "    <tr>\n",
              "      <th>89</th>\n",
              "      <td>1131</td>\n",
              "      <td>The turtle is following exactly one fish</td>\n",
              "      <td>The fish is following exactly one turtle</td>\n",
              "      <td>exactly one</td>\n",
              "      <td>Both</td>\n",
              "      <td>Object</td>\n",
              "      <td>3</td>\n",
              "      <td>5</td>\n",
              "      <td>5</td>\n",
              "      <td>Existential</td>\n",
              "    </tr>\n",
              "    <tr>\n",
              "      <th>90</th>\n",
              "      <td>1131</td>\n",
              "      <td>The turtle is following the an elegant fish</td>\n",
              "      <td>The fish is following the turtle\\n</td>\n",
              "      <td>an elegant</td>\n",
              "      <td>Premise</td>\n",
              "      <td>Object</td>\n",
              "      <td>3</td>\n",
              "      <td>5</td>\n",
              "      <td>5</td>\n",
              "      <td>Adjectives/Adverbs</td>\n",
              "    </tr>\n",
              "    <tr>\n",
              "      <th>91</th>\n",
              "      <td>1131</td>\n",
              "      <td>The turtle is following the fish</td>\n",
              "      <td>The fish is following the an elegant turtle</td>\n",
              "      <td>an elegant</td>\n",
              "      <td>Hypothesis</td>\n",
              "      <td>Object</td>\n",
              "      <td>3</td>\n",
              "      <td>5</td>\n",
              "      <td>5</td>\n",
              "      <td>Adjectives/Adverbs</td>\n",
              "    </tr>\n",
              "    <tr>\n",
              "      <th>92</th>\n",
              "      <td>1131</td>\n",
              "      <td>The turtle is following the an elegant fish</td>\n",
              "      <td>The fish is following the an elegant turtle</td>\n",
              "      <td>an elegant</td>\n",
              "      <td>Both</td>\n",
              "      <td>Object</td>\n",
              "      <td>3</td>\n",
              "      <td>5</td>\n",
              "      <td>5</td>\n",
              "      <td>Adjectives/Adverbs</td>\n",
              "    </tr>\n",
              "  </tbody>\n",
              "</table>\n",
              "<p>279 rows × 10 columns</p>\n",
              "</div>\n",
              "      <button class=\"colab-df-convert\" onclick=\"convertToInteractive('df-cd223581-97b3-4685-b041-1b247aa88d08')\"\n",
              "              title=\"Convert this dataframe to an interactive table.\"\n",
              "              style=\"display:none;\">\n",
              "        \n",
              "  <svg xmlns=\"http://www.w3.org/2000/svg\" height=\"24px\"viewBox=\"0 0 24 24\"\n",
              "       width=\"24px\">\n",
              "    <path d=\"M0 0h24v24H0V0z\" fill=\"none\"/>\n",
              "    <path d=\"M18.56 5.44l.94 2.06.94-2.06 2.06-.94-2.06-.94-.94-2.06-.94 2.06-2.06.94zm-11 1L8.5 8.5l.94-2.06 2.06-.94-2.06-.94L8.5 2.5l-.94 2.06-2.06.94zm10 10l.94 2.06.94-2.06 2.06-.94-2.06-.94-.94-2.06-.94 2.06-2.06.94z\"/><path d=\"M17.41 7.96l-1.37-1.37c-.4-.4-.92-.59-1.43-.59-.52 0-1.04.2-1.43.59L10.3 9.45l-7.72 7.72c-.78.78-.78 2.05 0 2.83L4 21.41c.39.39.9.59 1.41.59.51 0 1.02-.2 1.41-.59l7.78-7.78 2.81-2.81c.8-.78.8-2.07 0-2.86zM5.41 20L4 18.59l7.72-7.72 1.47 1.35L5.41 20z\"/>\n",
              "  </svg>\n",
              "      </button>\n",
              "      \n",
              "  <style>\n",
              "    .colab-df-container {\n",
              "      display:flex;\n",
              "      flex-wrap:wrap;\n",
              "      gap: 12px;\n",
              "    }\n",
              "\n",
              "    .colab-df-convert {\n",
              "      background-color: #E8F0FE;\n",
              "      border: none;\n",
              "      border-radius: 50%;\n",
              "      cursor: pointer;\n",
              "      display: none;\n",
              "      fill: #1967D2;\n",
              "      height: 32px;\n",
              "      padding: 0 0 0 0;\n",
              "      width: 32px;\n",
              "    }\n",
              "\n",
              "    .colab-df-convert:hover {\n",
              "      background-color: #E2EBFA;\n",
              "      box-shadow: 0px 1px 2px rgba(60, 64, 67, 0.3), 0px 1px 3px 1px rgba(60, 64, 67, 0.15);\n",
              "      fill: #174EA6;\n",
              "    }\n",
              "\n",
              "    [theme=dark] .colab-df-convert {\n",
              "      background-color: #3B4455;\n",
              "      fill: #D2E3FC;\n",
              "    }\n",
              "\n",
              "    [theme=dark] .colab-df-convert:hover {\n",
              "      background-color: #434B5C;\n",
              "      box-shadow: 0px 1px 3px 1px rgba(0, 0, 0, 0.15);\n",
              "      filter: drop-shadow(0px 1px 2px rgba(0, 0, 0, 0.3));\n",
              "      fill: #FFFFFF;\n",
              "    }\n",
              "  </style>\n",
              "\n",
              "      <script>\n",
              "        const buttonEl =\n",
              "          document.querySelector('#df-cd223581-97b3-4685-b041-1b247aa88d08 button.colab-df-convert');\n",
              "        buttonEl.style.display =\n",
              "          google.colab.kernel.accessAllowed ? 'block' : 'none';\n",
              "\n",
              "        async function convertToInteractive(key) {\n",
              "          const element = document.querySelector('#df-cd223581-97b3-4685-b041-1b247aa88d08');\n",
              "          const dataTable =\n",
              "            await google.colab.kernel.invokeFunction('convertToInteractive',\n",
              "                                                     [key], {});\n",
              "          if (!dataTable) return;\n",
              "\n",
              "          const docLinkHtml = 'Like what you see? Visit the ' +\n",
              "            '<a target=\"_blank\" href=https://colab.research.google.com/notebooks/data_table.ipynb>data table notebook</a>'\n",
              "            + ' to learn more about interactive tables.';\n",
              "          element.innerHTML = '';\n",
              "          dataTable['output_type'] = 'display_data';\n",
              "          await google.colab.output.renderOutput(dataTable, element);\n",
              "          const docLink = document.createElement('div');\n",
              "          docLink.innerHTML = docLinkHtml;\n",
              "          element.appendChild(docLink);\n",
              "        }\n",
              "      </script>\n",
              "    </div>\n",
              "  </div>\n",
              "  "
            ],
            "text/plain": [
              "    SICK_id                                      Premise  \\\n",
              "0       273          a boy is standing in the cold water   \n",
              "1       273      every boy is standing in the cold water   \n",
              "2       273          a boy is standing in the cold water   \n",
              "3       273      every boy is standing in the cold water   \n",
              "4       273       some boy is standing in the cold water   \n",
              "..      ...                                          ...   \n",
              "88     1131             The turtle is following the fish   \n",
              "89     1131     The turtle is following exactly one fish   \n",
              "90     1131  The turtle is following the an elegant fish   \n",
              "91     1131             The turtle is following the fish   \n",
              "92     1131  The turtle is following the an elegant fish   \n",
              "\n",
              "                                     Hypothesis     Modifier  \\\n",
              "0                a boy is standing in the water         NONE   \n",
              "1                a boy is standing in the water        every   \n",
              "2            every boy is standing in the water        every   \n",
              "3            every boy is standing in the water        every   \n",
              "4                a boy is standing in the water         some   \n",
              "..                                          ...          ...   \n",
              "88     The fish is following exactly one turtle  exactly one   \n",
              "89     The fish is following exactly one turtle  exactly one   \n",
              "90           The fish is following the turtle\\n   an elegant   \n",
              "91  The fish is following the an elegant turtle   an elegant   \n",
              "92  The fish is following the an elegant turtle   an elegant   \n",
              "\n",
              "   Premise/Hypothesis/Both Part of Premise/Hypothesis Modified  R  H  S  \\\n",
              "0                     NONE                                NONE  1  1  1   \n",
              "1                  Premise                             Subject  1  1  1   \n",
              "2               Hypothesis                             Subject  4  7  7   \n",
              "3                     Both                             Subject  1  1  2   \n",
              "4                  Premise                             Subject  1  1  1   \n",
              "..                     ...                                 ... .. .. ..   \n",
              "88              Hypothesis                              Object  3  5  5   \n",
              "89                    Both                              Object  3  5  5   \n",
              "90                 Premise                              Object  3  5  5   \n",
              "91              Hypothesis                              Object  3  5  5   \n",
              "92                    Both                              Object  3  5  5   \n",
              "\n",
              "       Quantifier Type  \n",
              "0                 NONE  \n",
              "1            Universal  \n",
              "2            Universal  \n",
              "3            Universal  \n",
              "4          Existential  \n",
              "..                 ...  \n",
              "88         Existential  \n",
              "89         Existential  \n",
              "90  Adjectives/Adverbs  \n",
              "91  Adjectives/Adverbs  \n",
              "92  Adjectives/Adverbs  \n",
              "\n",
              "[279 rows x 10 columns]"
            ]
          },
          "execution_count": 163,
          "metadata": {},
          "output_type": "execute_result"
        }
      ],
      "source": [
        "block_123['Quantifier Type'] = block_123['Modifier'].apply(lambda x: get_quantifier_type(x)  )\n",
        "block_123"
      ]
    },
    {
      "cell_type": "code",
      "execution_count": null,
      "metadata": {
        "colab": {
          "base_uri": "https://localhost:8080/"
        },
        "id": "JinGG4zR2KMn",
        "outputId": "3171c25d-746a-40c0-abd5-ca9f6a6393e1"
      },
      "outputs": [
        {
          "name": "stdout",
          "output_type": "stream",
          "text": [
            "Best : H_R\n",
            "\n",
            "Rank  Name   Class-Score       Overall-Score\n",
            "1     H_R    0.36528           0.31389\n",
            "2     R_H    0.32778           0.31389\n",
            "\n"
          ]
        }
      ],
      "source": [
        "cm_one_way = ConfusionMatrix(actual_vector=block_12['R'].to_list(), predict_vector=block_12['H'].to_list(), classes=lmap)\n",
        "cm_two_way = ConfusionMatrix(actual_vector=block_12['H'].to_list(), predict_vector=block_12['R'].to_list(), classes=lmap)\n",
        "cm_one_way.relabel(mapping= {k:lmap[k] for k in cm_one_way.classes})\n",
        "cm_two_way.relabel(mapping= {k:lmap[k] for k in cm_two_way.classes})\n",
        "cp = Compare({\"R_H\":cm_one_way,\"H_R\":cm_two_way})\n",
        "print(cp)"
      ]
    },
    {
      "cell_type": "code",
      "execution_count": 164,
      "metadata": {
        "id": "KoaoYFbhIwU7"
      },
      "outputs": [],
      "source": [
        "cm[('R', 'H')] = ConfusionMatrix(actual_vector=block_123['R'].to_numpy(), predict_vector=block_123['H'].to_numpy())\n",
        "cm[('H','R')] = ConfusionMatrix(actual_vector=block_123['H'].to_numpy(), predict_vector=block_123['R'].to_numpy())\n",
        "cm[('R', 'H')].relabel(mapping= {k:lmap[k] for k in cm[('R', 'H')].classes})\n",
        "cm[('H','R')].relabel(mapping= {k:lmap[k] for k in cm[('H','R')].classes})\n",
        "\n",
        "cm[('R', 'S')] = ConfusionMatrix(actual_vector=block_123['R'].to_numpy(), predict_vector=block_123['S'].to_numpy())\n",
        "cm[('S','R')] = ConfusionMatrix(actual_vector=block_123['S'].to_numpy(), predict_vector=block_123['R'].to_numpy())\n",
        "cm[('R', 'S')].relabel(mapping= {k:lmap[k] for k in cm[('R', 'S')].classes})\n",
        "cm[('S','R')].relabel(mapping= {k:lmap[k] for k in cm[('S','R')].classes})\n",
        "\n",
        "cm[('H', 'S')] = ConfusionMatrix(actual_vector=block_123['H'].to_numpy(), predict_vector=block_123['S'].to_numpy())\n",
        "cm[('S','H')] = ConfusionMatrix(actual_vector=block_123['S'].to_numpy(), predict_vector=block_123['H'].to_numpy())\n",
        "cm[('H', 'S')].relabel(mapping= {k:lmap[k] for k in cm[('H', 'S')].classes})\n",
        "cm[('S','H')].relabel(mapping= {k:lmap[k] for k in cm[('S','H')].classes})"
      ]
    },
    {
      "cell_type": "code",
      "execution_count": 166,
      "metadata": {
        "id": "osGH5C-u2KMn"
      },
      "outputs": [],
      "source": [
        "cp = Compare({ k:v for k,v in cm.items()})"
      ]
    },
    {
      "cell_type": "code",
      "execution_count": 167,
      "metadata": {
        "colab": {
          "base_uri": "https://localhost:8080/"
        },
        "id": "GpvGrQ5W2KMn",
        "outputId": "43b05f7c-77af-4e25-89d7-a464e794498e"
      },
      "outputs": [
        {
          "data": {
            "text/plain": [
              "(pycm.ConfusionMatrix(classes: ['Alternation', 'Cover', 'FE', 'Negation', 'Neutral', 'RE']),\n",
              " [('S', 'H'), ('S', 'R'), ('H', 'S'), ('R', 'S'), ('H', 'R'), ('R', 'H')],\n",
              " ('S', 'H'))"
            ]
          },
          "execution_count": 167,
          "metadata": {},
          "output_type": "execute_result"
        }
      ],
      "source": [
        "cp.best, cp.sorted, cp.best_name"
      ]
    },
    {
      "attachments": {},
      "cell_type": "markdown",
      "metadata": {
        "id": "jpuaYSJ62KMn"
      },
      "source": [
        "### Seeing the Confusion matrix density plots for Max agreement between each pair of annotators."
      ]
    },
    {
      "cell_type": "code",
      "execution_count": 169,
      "metadata": {
        "colab": {
          "base_uri": "https://localhost:8080/",
          "height": 1000
        },
        "id": "bpzjCd8X2KMn",
        "outputId": "f0e171f6-1f0a-49c3-9798-f97a8ff83ce5"
      },
      "outputs": [
        {
          "data": {
            "image/png": "[encoded data removed]",
            "text/plain": [
              "<Figure size 576x432 with 2 Axes>"
            ]
          },
          "metadata": {
            "needs_background": "light"
          },
          "output_type": "display_data"
        },
        {
          "data": {
            "image/png": "[encoded data removed]",
            "text/plain": [
              "<Figure size 576x432 with 2 Axes>"
            ]
          },
          "metadata": {
            "needs_background": "light"
          },
          "output_type": "display_data"
        },
        {
          "data": {
            "image/png": "[encoded data removed]",
            "text/plain": [
              "<Figure size 576x432 with 2 Axes>"
            ]
          },
          "metadata": {
            "needs_background": "light"
          },
          "output_type": "display_data"
        }
      ],
      "source": [
        "from matplotlib import pyplot as plt\n",
        "plt.rcParams[\"figure.figsize\"] = (8,6)\n",
        "cm[('R', 'S')].plot(cmap=plt.cm.Blues,number_label=True,plot_lib=\"seaborn\")\n",
        "plt.title(\"Annotator 3 & 4\")\n",
        "plt.savefig('blocks_273_42_1131_ann34.png', dpi=100)\n",
        "cm[('R', 'S')].plot(cmap=plt.cm.Blues,number_label=True,plot_lib=\"seaborn\")\n",
        "plt.title(\"Annotator 3 & 5\")\n",
        "plt.savefig('blocks_273_42_1131_ann35.png', dpi=100)\n",
        "\n",
        "cm[('H', 'S')].plot(cmap=plt.cm.Blues,number_label=True,plot_lib=\"seaborn\")\n",
        "plt.title(\"Annotator 4 & 5\")\n",
        "plt.savefig('blocks_273_42_1131_ann45.png', dpi=100)"
      ]
    },
    {
      "cell_type": "code",
      "execution_count": 194,
      "metadata": {
        "colab": {
          "base_uri": "https://localhost:8080/",
          "height": 1000
        },
        "id": "yrZ4C9oO2KMn",
        "outputId": "c527f7aa-38e4-4933-f44a-9f36d923af18"
      },
      "outputs": [
        {
          "name": "stdout",
          "output_type": "stream",
          "text": [
            "****** Counts for Modified SUBJ/VERB/OBJECT and annotators 1 & 2 & 3 ******** \n"
          ]
        },
        {
          "data": {
            "text/html": [
              "\n",
              "  <div id=\"df-7bf29667-118a-45f9-bc20-07555c1ebc88\">\n",
              "    <div class=\"colab-df-container\">\n",
              "      <div>\n",
              "<style scoped>\n",
              "    .dataframe tbody tr th:only-of-type {\n",
              "        vertical-align: middle;\n",
              "    }\n",
              "\n",
              "    .dataframe tbody tr th {\n",
              "        vertical-align: top;\n",
              "    }\n",
              "\n",
              "    .dataframe thead th {\n",
              "        text-align: right;\n",
              "    }\n",
              "</style>\n",
              "<table border=\"1\" class=\"dataframe\">\n",
              "  <thead>\n",
              "    <tr style=\"text-align: right;\">\n",
              "      <th></th>\n",
              "      <th>Modified SUBJ/VERB/OBJECT</th>\n",
              "      <th>R</th>\n",
              "      <th>H</th>\n",
              "      <th>S</th>\n",
              "      <th>Count</th>\n",
              "    </tr>\n",
              "  </thead>\n",
              "  <tbody>\n",
              "    <tr>\n",
              "      <th>10</th>\n",
              "      <td>Object</td>\n",
              "      <td>Neutral</td>\n",
              "      <td>Alternation</td>\n",
              "      <td>Neutral</td>\n",
              "      <td>38</td>\n",
              "    </tr>\n",
              "    <tr>\n",
              "      <th>7</th>\n",
              "      <td>Object</td>\n",
              "      <td>Negation</td>\n",
              "      <td>Alternation</td>\n",
              "      <td>Alternation</td>\n",
              "      <td>31</td>\n",
              "    </tr>\n",
              "    <tr>\n",
              "      <th>24</th>\n",
              "      <td>Subject</td>\n",
              "      <td>Neutral</td>\n",
              "      <td>Alternation</td>\n",
              "      <td>Neutral</td>\n",
              "      <td>27</td>\n",
              "    </tr>\n",
              "    <tr>\n",
              "      <th>19</th>\n",
              "      <td>Subject</td>\n",
              "      <td>Negation</td>\n",
              "      <td>Alternation</td>\n",
              "      <td>Alternation</td>\n",
              "      <td>26</td>\n",
              "    </tr>\n",
              "    <tr>\n",
              "      <th>29</th>\n",
              "      <td>Subject</td>\n",
              "      <td>Neutral</td>\n",
              "      <td>Neutral</td>\n",
              "      <td>Neutral</td>\n",
              "      <td>21</td>\n",
              "    </tr>\n",
              "    <tr>\n",
              "      <th>3</th>\n",
              "      <td>Object</td>\n",
              "      <td>FE</td>\n",
              "      <td>FE</td>\n",
              "      <td>FE</td>\n",
              "      <td>21</td>\n",
              "    </tr>\n",
              "    <tr>\n",
              "      <th>16</th>\n",
              "      <td>Subject</td>\n",
              "      <td>FE</td>\n",
              "      <td>FE</td>\n",
              "      <td>FE</td>\n",
              "      <td>21</td>\n",
              "    </tr>\n",
              "    <tr>\n",
              "      <th>38</th>\n",
              "      <td>Verb</td>\n",
              "      <td>Neutral</td>\n",
              "      <td>Neutral</td>\n",
              "      <td>Neutral</td>\n",
              "      <td>15</td>\n",
              "    </tr>\n",
              "    <tr>\n",
              "      <th>36</th>\n",
              "      <td>Verb</td>\n",
              "      <td>Neutral</td>\n",
              "      <td>Alternation</td>\n",
              "      <td>Neutral</td>\n",
              "      <td>10</td>\n",
              "    </tr>\n",
              "    <tr>\n",
              "      <th>33</th>\n",
              "      <td>Verb</td>\n",
              "      <td>Negation</td>\n",
              "      <td>Alternation</td>\n",
              "      <td>Alternation</td>\n",
              "      <td>9</td>\n",
              "    </tr>\n",
              "    <tr>\n",
              "      <th>27</th>\n",
              "      <td>Subject</td>\n",
              "      <td>Neutral</td>\n",
              "      <td>Negation</td>\n",
              "      <td>Neutral</td>\n",
              "      <td>6</td>\n",
              "    </tr>\n",
              "    <tr>\n",
              "      <th>32</th>\n",
              "      <td>Verb</td>\n",
              "      <td>FE</td>\n",
              "      <td>FE</td>\n",
              "      <td>FE</td>\n",
              "      <td>6</td>\n",
              "    </tr>\n",
              "    <tr>\n",
              "      <th>9</th>\n",
              "      <td>Object</td>\n",
              "      <td>Negation</td>\n",
              "      <td>Neutral</td>\n",
              "      <td>Neutral</td>\n",
              "      <td>5</td>\n",
              "    </tr>\n",
              "    <tr>\n",
              "      <th>12</th>\n",
              "      <td>Object</td>\n",
              "      <td>Neutral</td>\n",
              "      <td>Neutral</td>\n",
              "      <td>Neutral</td>\n",
              "      <td>4</td>\n",
              "    </tr>\n",
              "    <tr>\n",
              "      <th>21</th>\n",
              "      <td>Subject</td>\n",
              "      <td>Negation</td>\n",
              "      <td>Negation</td>\n",
              "      <td>Negation</td>\n",
              "      <td>4</td>\n",
              "    </tr>\n",
              "    <tr>\n",
              "      <th>0</th>\n",
              "      <td>NONE</td>\n",
              "      <td>FE</td>\n",
              "      <td>FE</td>\n",
              "      <td>FE</td>\n",
              "      <td>3</td>\n",
              "    </tr>\n",
              "    <tr>\n",
              "      <th>1</th>\n",
              "      <td>NONE</td>\n",
              "      <td>Negation</td>\n",
              "      <td>Negation</td>\n",
              "      <td>Negation</td>\n",
              "      <td>3</td>\n",
              "    </tr>\n",
              "    <tr>\n",
              "      <th>2</th>\n",
              "      <td>NONE</td>\n",
              "      <td>Neutral</td>\n",
              "      <td>Neutral</td>\n",
              "      <td>Neutral</td>\n",
              "      <td>3</td>\n",
              "    </tr>\n",
              "    <tr>\n",
              "      <th>20</th>\n",
              "      <td>Subject</td>\n",
              "      <td>Negation</td>\n",
              "      <td>Alternation</td>\n",
              "      <td>Negation</td>\n",
              "      <td>3</td>\n",
              "    </tr>\n",
              "    <tr>\n",
              "      <th>17</th>\n",
              "      <td>Subject</td>\n",
              "      <td>FE</td>\n",
              "      <td>FE</td>\n",
              "      <td>Neutral</td>\n",
              "      <td>2</td>\n",
              "    </tr>\n",
              "    <tr>\n",
              "      <th>37</th>\n",
              "      <td>Verb</td>\n",
              "      <td>Neutral</td>\n",
              "      <td>Neutral</td>\n",
              "      <td>FE</td>\n",
              "      <td>2</td>\n",
              "    </tr>\n",
              "    <tr>\n",
              "      <th>6</th>\n",
              "      <td>Object</td>\n",
              "      <td>FE</td>\n",
              "      <td>Neutral</td>\n",
              "      <td>Neutral</td>\n",
              "      <td>2</td>\n",
              "    </tr>\n",
              "    <tr>\n",
              "      <th>34</th>\n",
              "      <td>Verb</td>\n",
              "      <td>Negation</td>\n",
              "      <td>Alternation</td>\n",
              "      <td>Neutral</td>\n",
              "      <td>1</td>\n",
              "    </tr>\n",
              "    <tr>\n",
              "      <th>35</th>\n",
              "      <td>Verb</td>\n",
              "      <td>Negation</td>\n",
              "      <td>Neutral</td>\n",
              "      <td>Neutral</td>\n",
              "      <td>1</td>\n",
              "    </tr>\n",
              "    <tr>\n",
              "      <th>31</th>\n",
              "      <td>Verb</td>\n",
              "      <td>Alternation</td>\n",
              "      <td>Neutral</td>\n",
              "      <td>Neutral</td>\n",
              "      <td>1</td>\n",
              "    </tr>\n",
              "    <tr>\n",
              "      <th>30</th>\n",
              "      <td>Subject</td>\n",
              "      <td>RE</td>\n",
              "      <td>Neutral</td>\n",
              "      <td>RE</td>\n",
              "      <td>1</td>\n",
              "    </tr>\n",
              "    <tr>\n",
              "      <th>28</th>\n",
              "      <td>Subject</td>\n",
              "      <td>Neutral</td>\n",
              "      <td>Neutral</td>\n",
              "      <td>FE</td>\n",
              "      <td>1</td>\n",
              "    </tr>\n",
              "    <tr>\n",
              "      <th>8</th>\n",
              "      <td>Object</td>\n",
              "      <td>Negation</td>\n",
              "      <td>Alternation</td>\n",
              "      <td>Negation</td>\n",
              "      <td>1</td>\n",
              "    </tr>\n",
              "    <tr>\n",
              "      <th>26</th>\n",
              "      <td>Subject</td>\n",
              "      <td>Neutral</td>\n",
              "      <td>FE</td>\n",
              "      <td>FE</td>\n",
              "      <td>1</td>\n",
              "    </tr>\n",
              "    <tr>\n",
              "      <th>25</th>\n",
              "      <td>Subject</td>\n",
              "      <td>Neutral</td>\n",
              "      <td>Cover</td>\n",
              "      <td>Cover</td>\n",
              "      <td>1</td>\n",
              "    </tr>\n",
              "    <tr>\n",
              "      <th>4</th>\n",
              "      <td>Object</td>\n",
              "      <td>FE</td>\n",
              "      <td>FE</td>\n",
              "      <td>Neutral</td>\n",
              "      <td>1</td>\n",
              "    </tr>\n",
              "    <tr>\n",
              "      <th>22</th>\n",
              "      <td>Subject</td>\n",
              "      <td>Negation</td>\n",
              "      <td>Neutral</td>\n",
              "      <td>Negation</td>\n",
              "      <td>1</td>\n",
              "    </tr>\n",
              "    <tr>\n",
              "      <th>18</th>\n",
              "      <td>Subject</td>\n",
              "      <td>FE</td>\n",
              "      <td>FE</td>\n",
              "      <td>RE</td>\n",
              "      <td>1</td>\n",
              "    </tr>\n",
              "    <tr>\n",
              "      <th>5</th>\n",
              "      <td>Object</td>\n",
              "      <td>FE</td>\n",
              "      <td>Neutral</td>\n",
              "      <td>Negation</td>\n",
              "      <td>1</td>\n",
              "    </tr>\n",
              "    <tr>\n",
              "      <th>15</th>\n",
              "      <td>Object</td>\n",
              "      <td>RE</td>\n",
              "      <td>Neutral</td>\n",
              "      <td>FE</td>\n",
              "      <td>1</td>\n",
              "    </tr>\n",
              "    <tr>\n",
              "      <th>14</th>\n",
              "      <td>Object</td>\n",
              "      <td>RE</td>\n",
              "      <td>FE</td>\n",
              "      <td>FE</td>\n",
              "      <td>1</td>\n",
              "    </tr>\n",
              "    <tr>\n",
              "      <th>13</th>\n",
              "      <td>Object</td>\n",
              "      <td>RE</td>\n",
              "      <td>Cover</td>\n",
              "      <td>Neutral</td>\n",
              "      <td>1</td>\n",
              "    </tr>\n",
              "    <tr>\n",
              "      <th>11</th>\n",
              "      <td>Object</td>\n",
              "      <td>Neutral</td>\n",
              "      <td>Negation</td>\n",
              "      <td>Neutral</td>\n",
              "      <td>1</td>\n",
              "    </tr>\n",
              "    <tr>\n",
              "      <th>23</th>\n",
              "      <td>Subject</td>\n",
              "      <td>Neutral</td>\n",
              "      <td>Alternation</td>\n",
              "      <td>Alternation</td>\n",
              "      <td>1</td>\n",
              "    </tr>\n",
              "  </tbody>\n",
              "</table>\n",
              "</div>\n",
              "      <button class=\"colab-df-convert\" onclick=\"convertToInteractive('df-7bf29667-118a-45f9-bc20-07555c1ebc88')\"\n",
              "              title=\"Convert this dataframe to an interactive table.\"\n",
              "              style=\"display:none;\">\n",
              "        \n",
              "  <svg xmlns=\"http://www.w3.org/2000/svg\" height=\"24px\"viewBox=\"0 0 24 24\"\n",
              "       width=\"24px\">\n",
              "    <path d=\"M0 0h24v24H0V0z\" fill=\"none\"/>\n",
              "    <path d=\"M18.56 5.44l.94 2.06.94-2.06 2.06-.94-2.06-.94-.94-2.06-.94 2.06-2.06.94zm-11 1L8.5 8.5l.94-2.06 2.06-.94-2.06-.94L8.5 2.5l-.94 2.06-2.06.94zm10 10l.94 2.06.94-2.06 2.06-.94-2.06-.94-.94-2.06-.94 2.06-2.06.94z\"/><path d=\"M17.41 7.96l-1.37-1.37c-.4-.4-.92-.59-1.43-.59-.52 0-1.04.2-1.43.59L10.3 9.45l-7.72 7.72c-.78.78-.78 2.05 0 2.83L4 21.41c.39.39.9.59 1.41.59.51 0 1.02-.2 1.41-.59l7.78-7.78 2.81-2.81c.8-.78.8-2.07 0-2.86zM5.41 20L4 18.59l7.72-7.72 1.47 1.35L5.41 20z\"/>\n",
              "  </svg>\n",
              "      </button>\n",
              "      \n",
              "  <style>\n",
              "    .colab-df-container {\n",
              "      display:flex;\n",
              "      flex-wrap:wrap;\n",
              "      gap: 12px;\n",
              "    }\n",
              "\n",
              "    .colab-df-convert {\n",
              "      background-color: #E8F0FE;\n",
              "      border: none;\n",
              "      border-radius: 50%;\n",
              "      cursor: pointer;\n",
              "      display: none;\n",
              "      fill: #1967D2;\n",
              "      height: 32px;\n",
              "      padding: 0 0 0 0;\n",
              "      width: 32px;\n",
              "    }\n",
              "\n",
              "    .colab-df-convert:hover {\n",
              "      background-color: #E2EBFA;\n",
              "      box-shadow: 0px 1px 2px rgba(60, 64, 67, 0.3), 0px 1px 3px 1px rgba(60, 64, 67, 0.15);\n",
              "      fill: #174EA6;\n",
              "    }\n",
              "\n",
              "    [theme=dark] .colab-df-convert {\n",
              "      background-color: #3B4455;\n",
              "      fill: #D2E3FC;\n",
              "    }\n",
              "\n",
              "    [theme=dark] .colab-df-convert:hover {\n",
              "      background-color: #434B5C;\n",
              "      box-shadow: 0px 1px 3px 1px rgba(0, 0, 0, 0.15);\n",
              "      filter: drop-shadow(0px 1px 2px rgba(0, 0, 0, 0.3));\n",
              "      fill: #FFFFFF;\n",
              "    }\n",
              "  </style>\n",
              "\n",
              "      <script>\n",
              "        const buttonEl =\n",
              "          document.querySelector('#df-7bf29667-118a-45f9-bc20-07555c1ebc88 button.colab-df-convert');\n",
              "        buttonEl.style.display =\n",
              "          google.colab.kernel.accessAllowed ? 'block' : 'none';\n",
              "\n",
              "        async function convertToInteractive(key) {\n",
              "          const element = document.querySelector('#df-7bf29667-118a-45f9-bc20-07555c1ebc88');\n",
              "          const dataTable =\n",
              "            await google.colab.kernel.invokeFunction('convertToInteractive',\n",
              "                                                     [key], {});\n",
              "          if (!dataTable) return;\n",
              "\n",
              "          const docLinkHtml = 'Like what you see? Visit the ' +\n",
              "            '<a target=\"_blank\" href=https://colab.research.google.com/notebooks/data_table.ipynb>data table notebook</a>'\n",
              "            + ' to learn more about interactive tables.';\n",
              "          element.innerHTML = '';\n",
              "          dataTable['output_type'] = 'display_data';\n",
              "          await google.colab.output.renderOutput(dataTable, element);\n",
              "          const docLink = document.createElement('div');\n",
              "          docLink.innerHTML = docLinkHtml;\n",
              "          element.appendChild(docLink);\n",
              "        }\n",
              "      </script>\n",
              "    </div>\n",
              "  </div>\n",
              "  "
            ],
            "text/plain": [
              "   Modified SUBJ/VERB/OBJECT            R            H            S  Count\n",
              "10                    Object      Neutral  Alternation      Neutral     38\n",
              "7                     Object     Negation  Alternation  Alternation     31\n",
              "24                   Subject      Neutral  Alternation      Neutral     27\n",
              "19                   Subject     Negation  Alternation  Alternation     26\n",
              "29                   Subject      Neutral      Neutral      Neutral     21\n",
              "3                     Object           FE           FE           FE     21\n",
              "16                   Subject           FE           FE           FE     21\n",
              "38                      Verb      Neutral      Neutral      Neutral     15\n",
              "36                      Verb      Neutral  Alternation      Neutral     10\n",
              "33                      Verb     Negation  Alternation  Alternation      9\n",
              "27                   Subject      Neutral     Negation      Neutral      6\n",
              "32                      Verb           FE           FE           FE      6\n",
              "9                     Object     Negation      Neutral      Neutral      5\n",
              "12                    Object      Neutral      Neutral      Neutral      4\n",
              "21                   Subject     Negation     Negation     Negation      4\n",
              "0                       NONE           FE           FE           FE      3\n",
              "1                       NONE     Negation     Negation     Negation      3\n",
              "2                       NONE      Neutral      Neutral      Neutral      3\n",
              "20                   Subject     Negation  Alternation     Negation      3\n",
              "17                   Subject           FE           FE      Neutral      2\n",
              "37                      Verb      Neutral      Neutral           FE      2\n",
              "6                     Object           FE      Neutral      Neutral      2\n",
              "34                      Verb     Negation  Alternation      Neutral      1\n",
              "35                      Verb     Negation      Neutral      Neutral      1\n",
              "31                      Verb  Alternation      Neutral      Neutral      1\n",
              "30                   Subject           RE      Neutral           RE      1\n",
              "28                   Subject      Neutral      Neutral           FE      1\n",
              "8                     Object     Negation  Alternation     Negation      1\n",
              "26                   Subject      Neutral           FE           FE      1\n",
              "25                   Subject      Neutral        Cover        Cover      1\n",
              "4                     Object           FE           FE      Neutral      1\n",
              "22                   Subject     Negation      Neutral     Negation      1\n",
              "18                   Subject           FE           FE           RE      1\n",
              "5                     Object           FE      Neutral     Negation      1\n",
              "15                    Object           RE      Neutral           FE      1\n",
              "14                    Object           RE           FE           FE      1\n",
              "13                    Object           RE        Cover      Neutral      1\n",
              "11                    Object      Neutral     Negation      Neutral      1\n",
              "23                   Subject      Neutral  Alternation  Alternation      1"
            ]
          },
          "execution_count": 194,
          "metadata": {},
          "output_type": "execute_result"
        }
      ],
      "source": [
        "block_123 = block_123.rename(columns={'Part of Premise/Hypothesis Modified':'Modified SUBJ/VERB/OBJECT'})\n",
        "res = block_123.groupby(['Modified SUBJ/VERB/OBJECT', 'R', 'H', 'S']).count().reset_index()[[ 'Quantifier Type', 'Modified SUBJ/VERB/OBJECT', 'R', 'H','S','Premise/Hypothesis/Both']]\n",
        "r = res.sort_values(by='Premise/Hypothesis/Both',ascending=False)[['Modified SUBJ/VERB/OBJECT','R', 'H','S','Quantifier Type']]\n",
        "r= r.rename(columns={ 'Quantifier Type':'Count'})\n",
        "print(\"****** Counts for Modified SUBJ/VERB/OBJECT and annotators 1 & 2 & 3 ******** \")\n",
        "r"
      ]
    },
    {
      "cell_type": "code",
      "execution_count": 195,
      "metadata": {
        "id": "pMfaQz1fRKb3"
      },
      "outputs": [],
      "source": [
        "r.to_excel(\"block_123_modifier_counts.xlsx\")"
      ]
    },
    {
      "cell_type": "code",
      "execution_count": 172,
      "metadata": {
        "colab": {
          "base_uri": "https://localhost:8080/"
        },
        "id": "JNibf1eb2KMo",
        "outputId": "3036dbc3-619d-4275-b14e-00e86214d496"
      },
      "outputs": [
        {
          "data": {
            "text/plain": [
              "Adjectives/Adverbs    126\n",
              "Existential            63\n",
              "Universal              45\n",
              "Negation               36\n",
              "NONE                    9\n",
              "Name: Quantifier Type, dtype: int64"
            ]
          },
          "execution_count": 172,
          "metadata": {},
          "output_type": "execute_result"
        }
      ],
      "source": [
        "block_123['Quantifier Type'].value_counts()"
      ]
    },
    {
      "cell_type": "code",
      "execution_count": 173,
      "metadata": {
        "colab": {
          "base_uri": "https://localhost:8080/"
        },
        "id": "eqKcdb8s2KMo",
        "outputId": "40454cb0-226a-409e-c51a-093a83900ed7"
      },
      "outputs": [
        {
          "data": {
            "text/plain": [
              "Subject    117\n",
              "Object     108\n",
              "Verb        45\n",
              "NONE         9\n",
              "Name: Modified SUBJ/VERB/OBJECT, dtype: int64"
            ]
          },
          "execution_count": 173,
          "metadata": {},
          "output_type": "execute_result"
        }
      ],
      "source": [
        "block_123['Modified SUBJ/VERB/OBJECT'].value_counts()"
      ]
    },
    {
      "cell_type": "code",
      "execution_count": 174,
      "metadata": {
        "colab": {
          "base_uri": "https://localhost:8080/",
          "height": 770
        },
        "id": "7LVoZqdd2KMo",
        "outputId": "b19b9d04-3eb4-4da3-98a0-0dcdf6ac86e7"
      },
      "outputs": [
        {
          "data": {
            "text/html": [
              "\n",
              "  <div id=\"df-f04df29b-45dd-49ec-95e1-05873034840f\">\n",
              "    <div class=\"colab-df-container\">\n",
              "      <div>\n",
              "<style scoped>\n",
              "    .dataframe tbody tr th:only-of-type {\n",
              "        vertical-align: middle;\n",
              "    }\n",
              "\n",
              "    .dataframe tbody tr th {\n",
              "        vertical-align: top;\n",
              "    }\n",
              "\n",
              "    .dataframe thead th {\n",
              "        text-align: right;\n",
              "    }\n",
              "</style>\n",
              "<table border=\"1\" class=\"dataframe\">\n",
              "  <thead>\n",
              "    <tr style=\"text-align: right;\">\n",
              "      <th></th>\n",
              "      <th>R</th>\n",
              "      <th>H</th>\n",
              "      <th>S</th>\n",
              "      <th>Count</th>\n",
              "    </tr>\n",
              "  </thead>\n",
              "  <tbody>\n",
              "    <tr>\n",
              "      <th>19</th>\n",
              "      <td>4</td>\n",
              "      <td>5</td>\n",
              "      <td>4</td>\n",
              "      <td>75</td>\n",
              "    </tr>\n",
              "    <tr>\n",
              "      <th>14</th>\n",
              "      <td>3</td>\n",
              "      <td>5</td>\n",
              "      <td>5</td>\n",
              "      <td>66</td>\n",
              "    </tr>\n",
              "    <tr>\n",
              "      <th>0</th>\n",
              "      <td>1</td>\n",
              "      <td>1</td>\n",
              "      <td>1</td>\n",
              "      <td>51</td>\n",
              "    </tr>\n",
              "    <tr>\n",
              "      <th>18</th>\n",
              "      <td>4</td>\n",
              "      <td>4</td>\n",
              "      <td>4</td>\n",
              "      <td>43</td>\n",
              "    </tr>\n",
              "    <tr>\n",
              "      <th>9</th>\n",
              "      <td>3</td>\n",
              "      <td>3</td>\n",
              "      <td>3</td>\n",
              "      <td>7</td>\n",
              "    </tr>\n",
              "    <tr>\n",
              "      <th>16</th>\n",
              "      <td>4</td>\n",
              "      <td>3</td>\n",
              "      <td>4</td>\n",
              "      <td>7</td>\n",
              "    </tr>\n",
              "    <tr>\n",
              "      <th>11</th>\n",
              "      <td>3</td>\n",
              "      <td>4</td>\n",
              "      <td>4</td>\n",
              "      <td>6</td>\n",
              "    </tr>\n",
              "    <tr>\n",
              "      <th>12</th>\n",
              "      <td>3</td>\n",
              "      <td>5</td>\n",
              "      <td>3</td>\n",
              "      <td>4</td>\n",
              "    </tr>\n",
              "    <tr>\n",
              "      <th>17</th>\n",
              "      <td>4</td>\n",
              "      <td>4</td>\n",
              "      <td>1</td>\n",
              "      <td>3</td>\n",
              "    </tr>\n",
              "    <tr>\n",
              "      <th>2</th>\n",
              "      <td>1</td>\n",
              "      <td>1</td>\n",
              "      <td>4</td>\n",
              "      <td>3</td>\n",
              "    </tr>\n",
              "    <tr>\n",
              "      <th>4</th>\n",
              "      <td>1</td>\n",
              "      <td>4</td>\n",
              "      <td>4</td>\n",
              "      <td>2</td>\n",
              "    </tr>\n",
              "    <tr>\n",
              "      <th>7</th>\n",
              "      <td>2</td>\n",
              "      <td>4</td>\n",
              "      <td>2</td>\n",
              "      <td>1</td>\n",
              "    </tr>\n",
              "    <tr>\n",
              "      <th>8</th>\n",
              "      <td>2</td>\n",
              "      <td>7</td>\n",
              "      <td>4</td>\n",
              "      <td>1</td>\n",
              "    </tr>\n",
              "    <tr>\n",
              "      <th>6</th>\n",
              "      <td>2</td>\n",
              "      <td>4</td>\n",
              "      <td>1</td>\n",
              "      <td>1</td>\n",
              "    </tr>\n",
              "    <tr>\n",
              "      <th>10</th>\n",
              "      <td>3</td>\n",
              "      <td>4</td>\n",
              "      <td>3</td>\n",
              "      <td>1</td>\n",
              "    </tr>\n",
              "    <tr>\n",
              "      <th>1</th>\n",
              "      <td>1</td>\n",
              "      <td>1</td>\n",
              "      <td>2</td>\n",
              "      <td>1</td>\n",
              "    </tr>\n",
              "    <tr>\n",
              "      <th>13</th>\n",
              "      <td>3</td>\n",
              "      <td>5</td>\n",
              "      <td>4</td>\n",
              "      <td>1</td>\n",
              "    </tr>\n",
              "    <tr>\n",
              "      <th>5</th>\n",
              "      <td>2</td>\n",
              "      <td>1</td>\n",
              "      <td>1</td>\n",
              "      <td>1</td>\n",
              "    </tr>\n",
              "    <tr>\n",
              "      <th>15</th>\n",
              "      <td>4</td>\n",
              "      <td>1</td>\n",
              "      <td>1</td>\n",
              "      <td>1</td>\n",
              "    </tr>\n",
              "    <tr>\n",
              "      <th>3</th>\n",
              "      <td>1</td>\n",
              "      <td>4</td>\n",
              "      <td>3</td>\n",
              "      <td>1</td>\n",
              "    </tr>\n",
              "    <tr>\n",
              "      <th>20</th>\n",
              "      <td>4</td>\n",
              "      <td>5</td>\n",
              "      <td>5</td>\n",
              "      <td>1</td>\n",
              "    </tr>\n",
              "    <tr>\n",
              "      <th>21</th>\n",
              "      <td>4</td>\n",
              "      <td>7</td>\n",
              "      <td>7</td>\n",
              "      <td>1</td>\n",
              "    </tr>\n",
              "    <tr>\n",
              "      <th>22</th>\n",
              "      <td>5</td>\n",
              "      <td>4</td>\n",
              "      <td>4</td>\n",
              "      <td>1</td>\n",
              "    </tr>\n",
              "  </tbody>\n",
              "</table>\n",
              "</div>\n",
              "      <button class=\"colab-df-convert\" onclick=\"convertToInteractive('df-f04df29b-45dd-49ec-95e1-05873034840f')\"\n",
              "              title=\"Convert this dataframe to an interactive table.\"\n",
              "              style=\"display:none;\">\n",
              "        \n",
              "  <svg xmlns=\"http://www.w3.org/2000/svg\" height=\"24px\"viewBox=\"0 0 24 24\"\n",
              "       width=\"24px\">\n",
              "    <path d=\"M0 0h24v24H0V0z\" fill=\"none\"/>\n",
              "    <path d=\"M18.56 5.44l.94 2.06.94-2.06 2.06-.94-2.06-.94-.94-2.06-.94 2.06-2.06.94zm-11 1L8.5 8.5l.94-2.06 2.06-.94-2.06-.94L8.5 2.5l-.94 2.06-2.06.94zm10 10l.94 2.06.94-2.06 2.06-.94-2.06-.94-.94-2.06-.94 2.06-2.06.94z\"/><path d=\"M17.41 7.96l-1.37-1.37c-.4-.4-.92-.59-1.43-.59-.52 0-1.04.2-1.43.59L10.3 9.45l-7.72 7.72c-.78.78-.78 2.05 0 2.83L4 21.41c.39.39.9.59 1.41.59.51 0 1.02-.2 1.41-.59l7.78-7.78 2.81-2.81c.8-.78.8-2.07 0-2.86zM5.41 20L4 18.59l7.72-7.72 1.47 1.35L5.41 20z\"/>\n",
              "  </svg>\n",
              "      </button>\n",
              "      \n",
              "  <style>\n",
              "    .colab-df-container {\n",
              "      display:flex;\n",
              "      flex-wrap:wrap;\n",
              "      gap: 12px;\n",
              "    }\n",
              "\n",
              "    .colab-df-convert {\n",
              "      background-color: #E8F0FE;\n",
              "      border: none;\n",
              "      border-radius: 50%;\n",
              "      cursor: pointer;\n",
              "      display: none;\n",
              "      fill: #1967D2;\n",
              "      height: 32px;\n",
              "      padding: 0 0 0 0;\n",
              "      width: 32px;\n",
              "    }\n",
              "\n",
              "    .colab-df-convert:hover {\n",
              "      background-color: #E2EBFA;\n",
              "      box-shadow: 0px 1px 2px rgba(60, 64, 67, 0.3), 0px 1px 3px 1px rgba(60, 64, 67, 0.15);\n",
              "      fill: #174EA6;\n",
              "    }\n",
              "\n",
              "    [theme=dark] .colab-df-convert {\n",
              "      background-color: #3B4455;\n",
              "      fill: #D2E3FC;\n",
              "    }\n",
              "\n",
              "    [theme=dark] .colab-df-convert:hover {\n",
              "      background-color: #434B5C;\n",
              "      box-shadow: 0px 1px 3px 1px rgba(0, 0, 0, 0.15);\n",
              "      filter: drop-shadow(0px 1px 2px rgba(0, 0, 0, 0.3));\n",
              "      fill: #FFFFFF;\n",
              "    }\n",
              "  </style>\n",
              "\n",
              "      <script>\n",
              "        const buttonEl =\n",
              "          document.querySelector('#df-f04df29b-45dd-49ec-95e1-05873034840f button.colab-df-convert');\n",
              "        buttonEl.style.display =\n",
              "          google.colab.kernel.accessAllowed ? 'block' : 'none';\n",
              "\n",
              "        async function convertToInteractive(key) {\n",
              "          const element = document.querySelector('#df-f04df29b-45dd-49ec-95e1-05873034840f');\n",
              "          const dataTable =\n",
              "            await google.colab.kernel.invokeFunction('convertToInteractive',\n",
              "                                                     [key], {});\n",
              "          if (!dataTable) return;\n",
              "\n",
              "          const docLinkHtml = 'Like what you see? Visit the ' +\n",
              "            '<a target=\"_blank\" href=https://colab.research.google.com/notebooks/data_table.ipynb>data table notebook</a>'\n",
              "            + ' to learn more about interactive tables.';\n",
              "          element.innerHTML = '';\n",
              "          dataTable['output_type'] = 'display_data';\n",
              "          await google.colab.output.renderOutput(dataTable, element);\n",
              "          const docLink = document.createElement('div');\n",
              "          docLink.innerHTML = docLinkHtml;\n",
              "          element.appendChild(docLink);\n",
              "        }\n",
              "      </script>\n",
              "    </div>\n",
              "  </div>\n",
              "  "
            ],
            "text/plain": [
              "    R  H  S  Count\n",
              "19  4  5  4     75\n",
              "14  3  5  5     66\n",
              "0   1  1  1     51\n",
              "18  4  4  4     43\n",
              "9   3  3  3      7\n",
              "16  4  3  4      7\n",
              "11  3  4  4      6\n",
              "12  3  5  3      4\n",
              "17  4  4  1      3\n",
              "2   1  1  4      3\n",
              "4   1  4  4      2\n",
              "7   2  4  2      1\n",
              "8   2  7  4      1\n",
              "6   2  4  1      1\n",
              "10  3  4  3      1\n",
              "1   1  1  2      1\n",
              "13  3  5  4      1\n",
              "5   2  1  1      1\n",
              "15  4  1  1      1\n",
              "3   1  4  3      1\n",
              "20  4  5  5      1\n",
              "21  4  7  7      1\n",
              "22  5  4  4      1"
            ]
          },
          "execution_count": 174,
          "metadata": {},
          "output_type": "execute_result"
        }
      ],
      "source": [
        "r = block_123.groupby(['R', 'H','S']).count().reset_index()[['R', 'H','S',\t'Premise']]\n",
        "r.rename(columns={'Premise':\"Count\"}).sort_values(by='Count', ascending=False)"
      ]
    },
    {
      "cell_type": "code",
      "execution_count": 175,
      "metadata": {
        "id": "lv5cfoet2KMo"
      },
      "outputs": [],
      "source": [
        "rev_label_map = {v:k for k,v in label_map.items()}\n",
        "for i in ['R', 'H', 'S']:\n",
        "  block_123[i] = block_123[i].map(rev_label_map)"
      ]
    },
    {
      "cell_type": "code",
      "execution_count": 183,
      "metadata": {
        "colab": {
          "base_uri": "https://localhost:8080/",
          "height": 694
        },
        "id": "E1p4R_xu2KMo",
        "outputId": "9a677081-c9ab-478f-d8b8-d72f6f15c07a"
      },
      "outputs": [
        {
          "name": "stdout",
          "output_type": "stream",
          "text": [
            "****** The confused predictions for each modifier for two annotators 3 & 4 are: ******\n"
          ]
        },
        {
          "data": {
            "text/html": [
              "\n",
              "  <div id=\"df-bc4f1ed3-d091-452b-971e-d5761d7dd98b\">\n",
              "    <div class=\"colab-df-container\">\n",
              "      <div>\n",
              "<style scoped>\n",
              "    .dataframe tbody tr th:only-of-type {\n",
              "        vertical-align: middle;\n",
              "    }\n",
              "\n",
              "    .dataframe tbody tr th {\n",
              "        vertical-align: top;\n",
              "    }\n",
              "\n",
              "    .dataframe thead th {\n",
              "        text-align: right;\n",
              "    }\n",
              "</style>\n",
              "<table border=\"1\" class=\"dataframe\">\n",
              "  <thead>\n",
              "    <tr style=\"text-align: right;\">\n",
              "      <th></th>\n",
              "      <th>Quantifier Type</th>\n",
              "      <th>R</th>\n",
              "      <th>H</th>\n",
              "      <th>Counts</th>\n",
              "    </tr>\n",
              "  </thead>\n",
              "  <tbody>\n",
              "    <tr>\n",
              "      <th>2</th>\n",
              "      <td>Adjectives/Adverbs</td>\n",
              "      <td>Neutral</td>\n",
              "      <td>Alternation</td>\n",
              "      <td>48</td>\n",
              "    </tr>\n",
              "    <tr>\n",
              "      <th>1</th>\n",
              "      <td>Adjectives/Adverbs</td>\n",
              "      <td>Negation</td>\n",
              "      <td>Alternation</td>\n",
              "      <td>42</td>\n",
              "    </tr>\n",
              "    <tr>\n",
              "      <th>9</th>\n",
              "      <td>Existential</td>\n",
              "      <td>Neutral</td>\n",
              "      <td>Alternation</td>\n",
              "      <td>19</td>\n",
              "    </tr>\n",
              "    <tr>\n",
              "      <th>6</th>\n",
              "      <td>Existential</td>\n",
              "      <td>Negation</td>\n",
              "      <td>Alternation</td>\n",
              "      <td>16</td>\n",
              "    </tr>\n",
              "    <tr>\n",
              "      <th>24</th>\n",
              "      <td>Universal</td>\n",
              "      <td>Negation</td>\n",
              "      <td>Alternation</td>\n",
              "      <td>11</td>\n",
              "    </tr>\n",
              "    <tr>\n",
              "      <th>26</th>\n",
              "      <td>Universal</td>\n",
              "      <td>Neutral</td>\n",
              "      <td>Alternation</td>\n",
              "      <td>8</td>\n",
              "    </tr>\n",
              "    <tr>\n",
              "      <th>17</th>\n",
              "      <td>Negation</td>\n",
              "      <td>Negation</td>\n",
              "      <td>Neutral</td>\n",
              "      <td>5</td>\n",
              "    </tr>\n",
              "    <tr>\n",
              "      <th>28</th>\n",
              "      <td>Universal</td>\n",
              "      <td>Neutral</td>\n",
              "      <td>Negation</td>\n",
              "      <td>4</td>\n",
              "    </tr>\n",
              "    <tr>\n",
              "      <th>10</th>\n",
              "      <td>Existential</td>\n",
              "      <td>Neutral</td>\n",
              "      <td>Negation</td>\n",
              "      <td>3</td>\n",
              "    </tr>\n",
              "    <tr>\n",
              "      <th>5</th>\n",
              "      <td>Existential</td>\n",
              "      <td>FE</td>\n",
              "      <td>Neutral</td>\n",
              "      <td>2</td>\n",
              "    </tr>\n",
              "    <tr>\n",
              "      <th>8</th>\n",
              "      <td>Existential</td>\n",
              "      <td>Negation</td>\n",
              "      <td>Neutral</td>\n",
              "      <td>2</td>\n",
              "    </tr>\n",
              "    <tr>\n",
              "      <th>16</th>\n",
              "      <td>Negation</td>\n",
              "      <td>Negation</td>\n",
              "      <td>Alternation</td>\n",
              "      <td>2</td>\n",
              "    </tr>\n",
              "    <tr>\n",
              "      <th>21</th>\n",
              "      <td>Negation</td>\n",
              "      <td>RE</td>\n",
              "      <td>Neutral</td>\n",
              "      <td>2</td>\n",
              "    </tr>\n",
              "    <tr>\n",
              "      <th>30</th>\n",
              "      <td>Universal</td>\n",
              "      <td>RE</td>\n",
              "      <td>Cover</td>\n",
              "      <td>1</td>\n",
              "    </tr>\n",
              "    <tr>\n",
              "      <th>27</th>\n",
              "      <td>Universal</td>\n",
              "      <td>Neutral</td>\n",
              "      <td>Cover</td>\n",
              "      <td>1</td>\n",
              "    </tr>\n",
              "    <tr>\n",
              "      <th>18</th>\n",
              "      <td>Negation</td>\n",
              "      <td>Neutral</td>\n",
              "      <td>Alternation</td>\n",
              "      <td>1</td>\n",
              "    </tr>\n",
              "    <tr>\n",
              "      <th>22</th>\n",
              "      <td>Universal</td>\n",
              "      <td>Alternation</td>\n",
              "      <td>Neutral</td>\n",
              "      <td>1</td>\n",
              "    </tr>\n",
              "    <tr>\n",
              "      <th>19</th>\n",
              "      <td>Negation</td>\n",
              "      <td>Neutral</td>\n",
              "      <td>FE</td>\n",
              "      <td>1</td>\n",
              "    </tr>\n",
              "    <tr>\n",
              "      <th>15</th>\n",
              "      <td>Negation</td>\n",
              "      <td>FE</td>\n",
              "      <td>Neutral</td>\n",
              "      <td>1</td>\n",
              "    </tr>\n",
              "    <tr>\n",
              "      <th>31</th>\n",
              "      <td>Universal</td>\n",
              "      <td>RE</td>\n",
              "      <td>FE</td>\n",
              "      <td>1</td>\n",
              "    </tr>\n",
              "  </tbody>\n",
              "</table>\n",
              "</div>\n",
              "      <button class=\"colab-df-convert\" onclick=\"convertToInteractive('df-bc4f1ed3-d091-452b-971e-d5761d7dd98b')\"\n",
              "              title=\"Convert this dataframe to an interactive table.\"\n",
              "              style=\"display:none;\">\n",
              "        \n",
              "  <svg xmlns=\"http://www.w3.org/2000/svg\" height=\"24px\"viewBox=\"0 0 24 24\"\n",
              "       width=\"24px\">\n",
              "    <path d=\"M0 0h24v24H0V0z\" fill=\"none\"/>\n",
              "    <path d=\"M18.56 5.44l.94 2.06.94-2.06 2.06-.94-2.06-.94-.94-2.06-.94 2.06-2.06.94zm-11 1L8.5 8.5l.94-2.06 2.06-.94-2.06-.94L8.5 2.5l-.94 2.06-2.06.94zm10 10l.94 2.06.94-2.06 2.06-.94-2.06-.94-.94-2.06-.94 2.06-2.06.94z\"/><path d=\"M17.41 7.96l-1.37-1.37c-.4-.4-.92-.59-1.43-.59-.52 0-1.04.2-1.43.59L10.3 9.45l-7.72 7.72c-.78.78-.78 2.05 0 2.83L4 21.41c.39.39.9.59 1.41.59.51 0 1.02-.2 1.41-.59l7.78-7.78 2.81-2.81c.8-.78.8-2.07 0-2.86zM5.41 20L4 18.59l7.72-7.72 1.47 1.35L5.41 20z\"/>\n",
              "  </svg>\n",
              "      </button>\n",
              "      \n",
              "  <style>\n",
              "    .colab-df-container {\n",
              "      display:flex;\n",
              "      flex-wrap:wrap;\n",
              "      gap: 12px;\n",
              "    }\n",
              "\n",
              "    .colab-df-convert {\n",
              "      background-color: #E8F0FE;\n",
              "      border: none;\n",
              "      border-radius: 50%;\n",
              "      cursor: pointer;\n",
              "      display: none;\n",
              "      fill: #1967D2;\n",
              "      height: 32px;\n",
              "      padding: 0 0 0 0;\n",
              "      width: 32px;\n",
              "    }\n",
              "\n",
              "    .colab-df-convert:hover {\n",
              "      background-color: #E2EBFA;\n",
              "      box-shadow: 0px 1px 2px rgba(60, 64, 67, 0.3), 0px 1px 3px 1px rgba(60, 64, 67, 0.15);\n",
              "      fill: #174EA6;\n",
              "    }\n",
              "\n",
              "    [theme=dark] .colab-df-convert {\n",
              "      background-color: #3B4455;\n",
              "      fill: #D2E3FC;\n",
              "    }\n",
              "\n",
              "    [theme=dark] .colab-df-convert:hover {\n",
              "      background-color: #434B5C;\n",
              "      box-shadow: 0px 1px 3px 1px rgba(0, 0, 0, 0.15);\n",
              "      filter: drop-shadow(0px 1px 2px rgba(0, 0, 0, 0.3));\n",
              "      fill: #FFFFFF;\n",
              "    }\n",
              "  </style>\n",
              "\n",
              "      <script>\n",
              "        const buttonEl =\n",
              "          document.querySelector('#df-bc4f1ed3-d091-452b-971e-d5761d7dd98b button.colab-df-convert');\n",
              "        buttonEl.style.display =\n",
              "          google.colab.kernel.accessAllowed ? 'block' : 'none';\n",
              "\n",
              "        async function convertToInteractive(key) {\n",
              "          const element = document.querySelector('#df-bc4f1ed3-d091-452b-971e-d5761d7dd98b');\n",
              "          const dataTable =\n",
              "            await google.colab.kernel.invokeFunction('convertToInteractive',\n",
              "                                                     [key], {});\n",
              "          if (!dataTable) return;\n",
              "\n",
              "          const docLinkHtml = 'Like what you see? Visit the ' +\n",
              "            '<a target=\"_blank\" href=https://colab.research.google.com/notebooks/data_table.ipynb>data table notebook</a>'\n",
              "            + ' to learn more about interactive tables.';\n",
              "          element.innerHTML = '';\n",
              "          dataTable['output_type'] = 'display_data';\n",
              "          await google.colab.output.renderOutput(dataTable, element);\n",
              "          const docLink = document.createElement('div');\n",
              "          docLink.innerHTML = docLinkHtml;\n",
              "          element.appendChild(docLink);\n",
              "        }\n",
              "      </script>\n",
              "    </div>\n",
              "  </div>\n",
              "  "
            ],
            "text/plain": [
              "       Quantifier Type            R            H  Counts\n",
              "2   Adjectives/Adverbs      Neutral  Alternation      48\n",
              "1   Adjectives/Adverbs     Negation  Alternation      42\n",
              "9          Existential      Neutral  Alternation      19\n",
              "6          Existential     Negation  Alternation      16\n",
              "24           Universal     Negation  Alternation      11\n",
              "26           Universal      Neutral  Alternation       8\n",
              "17            Negation     Negation      Neutral       5\n",
              "28           Universal      Neutral     Negation       4\n",
              "10         Existential      Neutral     Negation       3\n",
              "5          Existential           FE      Neutral       2\n",
              "8          Existential     Negation      Neutral       2\n",
              "16            Negation     Negation  Alternation       2\n",
              "21            Negation           RE      Neutral       2\n",
              "30           Universal           RE        Cover       1\n",
              "27           Universal      Neutral        Cover       1\n",
              "18            Negation      Neutral  Alternation       1\n",
              "22           Universal  Alternation      Neutral       1\n",
              "19            Negation      Neutral           FE       1\n",
              "15            Negation           FE      Neutral       1\n",
              "31           Universal           RE           FE       1"
            ]
          },
          "execution_count": 183,
          "metadata": {},
          "output_type": "execute_result"
        }
      ],
      "source": [
        "res3 = block_123.groupby(['Quantifier Type','R','H']).count().reset_index()\n",
        "result = res3[['Quantifier Type','R','H', 'Premise/Hypothesis/Both']]\n",
        "print(\"****** The confused predictions for each modifier for two annotators 3 & 4 are: ******\")\n",
        "result = result.rename(columns={\"Premise/Hypothesis/Both\":\"Counts\"})\n",
        "result[result['R'] != result['H']].sort_values(by=\"Counts\", ascending =False)"
      ]
    },
    {
      "cell_type": "code",
      "execution_count": 184,
      "metadata": {
        "id": "kfrG9rNIQTw_"
      },
      "outputs": [],
      "source": [
        "result[result['R'] != result['H']].sort_values(by=\"Counts\", ascending =False).to_excel(\"blocks_273_342_1131_ann34.xlsx\")"
      ]
    },
    {
      "cell_type": "code",
      "execution_count": 186,
      "metadata": {
        "colab": {
          "base_uri": "https://localhost:8080/",
          "height": 631
        },
        "id": "PmuY31vWOLup",
        "outputId": "e678682f-65ad-41dd-cc81-05a2c1af2d2b"
      },
      "outputs": [
        {
          "name": "stdout",
          "output_type": "stream",
          "text": [
            "****** The confused predictions for each modifier for two annotators 3 & 5 are: ******\n"
          ]
        },
        {
          "data": {
            "text/html": [
              "\n",
              "  <div id=\"df-ba2c0dff-e885-4197-a0bd-96ca70c330ea\">\n",
              "    <div class=\"colab-df-container\">\n",
              "      <div>\n",
              "<style scoped>\n",
              "    .dataframe tbody tr th:only-of-type {\n",
              "        vertical-align: middle;\n",
              "    }\n",
              "\n",
              "    .dataframe tbody tr th {\n",
              "        vertical-align: top;\n",
              "    }\n",
              "\n",
              "    .dataframe thead th {\n",
              "        text-align: right;\n",
              "    }\n",
              "</style>\n",
              "<table border=\"1\" class=\"dataframe\">\n",
              "  <thead>\n",
              "    <tr style=\"text-align: right;\">\n",
              "      <th></th>\n",
              "      <th>Quantifier Type</th>\n",
              "      <th>R</th>\n",
              "      <th>S</th>\n",
              "      <th>Counts</th>\n",
              "    </tr>\n",
              "  </thead>\n",
              "  <tbody>\n",
              "    <tr>\n",
              "      <th>1</th>\n",
              "      <td>Adjectives/Adverbs</td>\n",
              "      <td>Negation</td>\n",
              "      <td>Alternation</td>\n",
              "      <td>42</td>\n",
              "    </tr>\n",
              "    <tr>\n",
              "      <th>5</th>\n",
              "      <td>Existential</td>\n",
              "      <td>Negation</td>\n",
              "      <td>Alternation</td>\n",
              "      <td>16</td>\n",
              "    </tr>\n",
              "    <tr>\n",
              "      <th>24</th>\n",
              "      <td>Universal</td>\n",
              "      <td>Negation</td>\n",
              "      <td>Alternation</td>\n",
              "      <td>8</td>\n",
              "    </tr>\n",
              "    <tr>\n",
              "      <th>4</th>\n",
              "      <td>Existential</td>\n",
              "      <td>FE</td>\n",
              "      <td>Neutral</td>\n",
              "      <td>5</td>\n",
              "    </tr>\n",
              "    <tr>\n",
              "      <th>16</th>\n",
              "      <td>Negation</td>\n",
              "      <td>Negation</td>\n",
              "      <td>Neutral</td>\n",
              "      <td>4</td>\n",
              "    </tr>\n",
              "    <tr>\n",
              "      <th>7</th>\n",
              "      <td>Existential</td>\n",
              "      <td>Negation</td>\n",
              "      <td>Neutral</td>\n",
              "      <td>2</td>\n",
              "    </tr>\n",
              "    <tr>\n",
              "      <th>17</th>\n",
              "      <td>Negation</td>\n",
              "      <td>Neutral</td>\n",
              "      <td>FE</td>\n",
              "      <td>2</td>\n",
              "    </tr>\n",
              "    <tr>\n",
              "      <th>30</th>\n",
              "      <td>Universal</td>\n",
              "      <td>RE</td>\n",
              "      <td>FE</td>\n",
              "      <td>1</td>\n",
              "    </tr>\n",
              "    <tr>\n",
              "      <th>28</th>\n",
              "      <td>Universal</td>\n",
              "      <td>Neutral</td>\n",
              "      <td>FE</td>\n",
              "      <td>1</td>\n",
              "    </tr>\n",
              "    <tr>\n",
              "      <th>27</th>\n",
              "      <td>Universal</td>\n",
              "      <td>Neutral</td>\n",
              "      <td>Cover</td>\n",
              "      <td>1</td>\n",
              "    </tr>\n",
              "    <tr>\n",
              "      <th>26</th>\n",
              "      <td>Universal</td>\n",
              "      <td>Negation</td>\n",
              "      <td>Neutral</td>\n",
              "      <td>1</td>\n",
              "    </tr>\n",
              "    <tr>\n",
              "      <th>19</th>\n",
              "      <td>Negation</td>\n",
              "      <td>RE</td>\n",
              "      <td>FE</td>\n",
              "      <td>1</td>\n",
              "    </tr>\n",
              "    <tr>\n",
              "      <th>23</th>\n",
              "      <td>Universal</td>\n",
              "      <td>FE</td>\n",
              "      <td>RE</td>\n",
              "      <td>1</td>\n",
              "    </tr>\n",
              "    <tr>\n",
              "      <th>21</th>\n",
              "      <td>Universal</td>\n",
              "      <td>Alternation</td>\n",
              "      <td>Neutral</td>\n",
              "      <td>1</td>\n",
              "    </tr>\n",
              "    <tr>\n",
              "      <th>14</th>\n",
              "      <td>Negation</td>\n",
              "      <td>FE</td>\n",
              "      <td>Negation</td>\n",
              "      <td>1</td>\n",
              "    </tr>\n",
              "    <tr>\n",
              "      <th>9</th>\n",
              "      <td>Existential</td>\n",
              "      <td>Neutral</td>\n",
              "      <td>FE</td>\n",
              "      <td>1</td>\n",
              "    </tr>\n",
              "    <tr>\n",
              "      <th>8</th>\n",
              "      <td>Existential</td>\n",
              "      <td>Neutral</td>\n",
              "      <td>Alternation</td>\n",
              "      <td>1</td>\n",
              "    </tr>\n",
              "    <tr>\n",
              "      <th>31</th>\n",
              "      <td>Universal</td>\n",
              "      <td>RE</td>\n",
              "      <td>Neutral</td>\n",
              "      <td>1</td>\n",
              "    </tr>\n",
              "  </tbody>\n",
              "</table>\n",
              "</div>\n",
              "      <button class=\"colab-df-convert\" onclick=\"convertToInteractive('df-ba2c0dff-e885-4197-a0bd-96ca70c330ea')\"\n",
              "              title=\"Convert this dataframe to an interactive table.\"\n",
              "              style=\"display:none;\">\n",
              "        \n",
              "  <svg xmlns=\"http://www.w3.org/2000/svg\" height=\"24px\"viewBox=\"0 0 24 24\"\n",
              "       width=\"24px\">\n",
              "    <path d=\"M0 0h24v24H0V0z\" fill=\"none\"/>\n",
              "    <path d=\"M18.56 5.44l.94 2.06.94-2.06 2.06-.94-2.06-.94-.94-2.06-.94 2.06-2.06.94zm-11 1L8.5 8.5l.94-2.06 2.06-.94-2.06-.94L8.5 2.5l-.94 2.06-2.06.94zm10 10l.94 2.06.94-2.06 2.06-.94-2.06-.94-.94-2.06-.94 2.06-2.06.94z\"/><path d=\"M17.41 7.96l-1.37-1.37c-.4-.4-.92-.59-1.43-.59-.52 0-1.04.2-1.43.59L10.3 9.45l-7.72 7.72c-.78.78-.78 2.05 0 2.83L4 21.41c.39.39.9.59 1.41.59.51 0 1.02-.2 1.41-.59l7.78-7.78 2.81-2.81c.8-.78.8-2.07 0-2.86zM5.41 20L4 18.59l7.72-7.72 1.47 1.35L5.41 20z\"/>\n",
              "  </svg>\n",
              "      </button>\n",
              "      \n",
              "  <style>\n",
              "    .colab-df-container {\n",
              "      display:flex;\n",
              "      flex-wrap:wrap;\n",
              "      gap: 12px;\n",
              "    }\n",
              "\n",
              "    .colab-df-convert {\n",
              "      background-color: #E8F0FE;\n",
              "      border: none;\n",
              "      border-radius: 50%;\n",
              "      cursor: pointer;\n",
              "      display: none;\n",
              "      fill: #1967D2;\n",
              "      height: 32px;\n",
              "      padding: 0 0 0 0;\n",
              "      width: 32px;\n",
              "    }\n",
              "\n",
              "    .colab-df-convert:hover {\n",
              "      background-color: #E2EBFA;\n",
              "      box-shadow: 0px 1px 2px rgba(60, 64, 67, 0.3), 0px 1px 3px 1px rgba(60, 64, 67, 0.15);\n",
              "      fill: #174EA6;\n",
              "    }\n",
              "\n",
              "    [theme=dark] .colab-df-convert {\n",
              "      background-color: #3B4455;\n",
              "      fill: #D2E3FC;\n",
              "    }\n",
              "\n",
              "    [theme=dark] .colab-df-convert:hover {\n",
              "      background-color: #434B5C;\n",
              "      box-shadow: 0px 1px 3px 1px rgba(0, 0, 0, 0.15);\n",
              "      filter: drop-shadow(0px 1px 2px rgba(0, 0, 0, 0.3));\n",
              "      fill: #FFFFFF;\n",
              "    }\n",
              "  </style>\n",
              "\n",
              "      <script>\n",
              "        const buttonEl =\n",
              "          document.querySelector('#df-ba2c0dff-e885-4197-a0bd-96ca70c330ea button.colab-df-convert');\n",
              "        buttonEl.style.display =\n",
              "          google.colab.kernel.accessAllowed ? 'block' : 'none';\n",
              "\n",
              "        async function convertToInteractive(key) {\n",
              "          const element = document.querySelector('#df-ba2c0dff-e885-4197-a0bd-96ca70c330ea');\n",
              "          const dataTable =\n",
              "            await google.colab.kernel.invokeFunction('convertToInteractive',\n",
              "                                                     [key], {});\n",
              "          if (!dataTable) return;\n",
              "\n",
              "          const docLinkHtml = 'Like what you see? Visit the ' +\n",
              "            '<a target=\"_blank\" href=https://colab.research.google.com/notebooks/data_table.ipynb>data table notebook</a>'\n",
              "            + ' to learn more about interactive tables.';\n",
              "          element.innerHTML = '';\n",
              "          dataTable['output_type'] = 'display_data';\n",
              "          await google.colab.output.renderOutput(dataTable, element);\n",
              "          const docLink = document.createElement('div');\n",
              "          docLink.innerHTML = docLinkHtml;\n",
              "          element.appendChild(docLink);\n",
              "        }\n",
              "      </script>\n",
              "    </div>\n",
              "  </div>\n",
              "  "
            ],
            "text/plain": [
              "       Quantifier Type            R            S  Counts\n",
              "1   Adjectives/Adverbs     Negation  Alternation      42\n",
              "5          Existential     Negation  Alternation      16\n",
              "24           Universal     Negation  Alternation       8\n",
              "4          Existential           FE      Neutral       5\n",
              "16            Negation     Negation      Neutral       4\n",
              "7          Existential     Negation      Neutral       2\n",
              "17            Negation      Neutral           FE       2\n",
              "30           Universal           RE           FE       1\n",
              "28           Universal      Neutral           FE       1\n",
              "27           Universal      Neutral        Cover       1\n",
              "26           Universal     Negation      Neutral       1\n",
              "19            Negation           RE           FE       1\n",
              "23           Universal           FE           RE       1\n",
              "21           Universal  Alternation      Neutral       1\n",
              "14            Negation           FE     Negation       1\n",
              "9          Existential      Neutral           FE       1\n",
              "8          Existential      Neutral  Alternation       1\n",
              "31           Universal           RE      Neutral       1"
            ]
          },
          "execution_count": 186,
          "metadata": {},
          "output_type": "execute_result"
        }
      ],
      "source": [
        "res3 = block_123.groupby(['Quantifier Type','R','S']).count().reset_index()\n",
        "result = res3[['Quantifier Type','R','S', 'Premise/Hypothesis/Both']]\n",
        "print(\"****** The confused predictions for each modifier for two annotators 3 & 5 are: ******\")\n",
        "result = result.rename(columns={\"Premise/Hypothesis/Both\":\"Counts\"})\n",
        "result[result['R'] != result['S']].sort_values(by=\"Counts\", ascending =False)"
      ]
    },
    {
      "cell_type": "code",
      "execution_count": 187,
      "metadata": {
        "id": "ZybLs_JvQeH3"
      },
      "outputs": [],
      "source": [
        "result[result['R'] != result['S']].sort_values(by=\"Counts\", ascending =False).to_excel(\"blocks_273_342_1131_ann35.xlsx\")"
      ]
    },
    {
      "cell_type": "code",
      "execution_count": 188,
      "metadata": {
        "colab": {
          "base_uri": "https://localhost:8080/",
          "height": 569
        },
        "id": "3Lg-lTmbOLz4",
        "outputId": "1a12721b-ba31-4889-ac3d-efd9bd592b3a"
      },
      "outputs": [
        {
          "name": "stdout",
          "output_type": "stream",
          "text": [
            "****** The confused predictions for each modifier for two annotators 4 & 5 are: ******\n"
          ]
        },
        {
          "data": {
            "text/html": [
              "\n",
              "  <div id=\"df-3fafe643-e7e7-4926-9bcc-5fae26f163c9\">\n",
              "    <div class=\"colab-df-container\">\n",
              "      <div>\n",
              "<style scoped>\n",
              "    .dataframe tbody tr th:only-of-type {\n",
              "        vertical-align: middle;\n",
              "    }\n",
              "\n",
              "    .dataframe tbody tr th {\n",
              "        vertical-align: top;\n",
              "    }\n",
              "\n",
              "    .dataframe thead th {\n",
              "        text-align: right;\n",
              "    }\n",
              "</style>\n",
              "<table border=\"1\" class=\"dataframe\">\n",
              "  <thead>\n",
              "    <tr style=\"text-align: right;\">\n",
              "      <th></th>\n",
              "      <th>Quantifier Type</th>\n",
              "      <th>H</th>\n",
              "      <th>S</th>\n",
              "      <th>Counts</th>\n",
              "    </tr>\n",
              "  </thead>\n",
              "  <tbody>\n",
              "    <tr>\n",
              "      <th>1</th>\n",
              "      <td>Adjectives/Adverbs</td>\n",
              "      <td>Alternation</td>\n",
              "      <td>Neutral</td>\n",
              "      <td>48</td>\n",
              "    </tr>\n",
              "    <tr>\n",
              "      <th>5</th>\n",
              "      <td>Existential</td>\n",
              "      <td>Alternation</td>\n",
              "      <td>Neutral</td>\n",
              "      <td>18</td>\n",
              "    </tr>\n",
              "    <tr>\n",
              "      <th>24</th>\n",
              "      <td>Universal</td>\n",
              "      <td>Alternation</td>\n",
              "      <td>Neutral</td>\n",
              "      <td>9</td>\n",
              "    </tr>\n",
              "    <tr>\n",
              "      <th>30</th>\n",
              "      <td>Universal</td>\n",
              "      <td>Negation</td>\n",
              "      <td>Neutral</td>\n",
              "      <td>4</td>\n",
              "    </tr>\n",
              "    <tr>\n",
              "      <th>7</th>\n",
              "      <td>Existential</td>\n",
              "      <td>FE</td>\n",
              "      <td>Neutral</td>\n",
              "      <td>3</td>\n",
              "    </tr>\n",
              "    <tr>\n",
              "      <th>9</th>\n",
              "      <td>Existential</td>\n",
              "      <td>Negation</td>\n",
              "      <td>Neutral</td>\n",
              "      <td>3</td>\n",
              "    </tr>\n",
              "    <tr>\n",
              "      <th>15</th>\n",
              "      <td>Negation</td>\n",
              "      <td>Alternation</td>\n",
              "      <td>Negation</td>\n",
              "      <td>2</td>\n",
              "    </tr>\n",
              "    <tr>\n",
              "      <th>18</th>\n",
              "      <td>Negation</td>\n",
              "      <td>Neutral</td>\n",
              "      <td>FE</td>\n",
              "      <td>2</td>\n",
              "    </tr>\n",
              "    <tr>\n",
              "      <th>19</th>\n",
              "      <td>Negation</td>\n",
              "      <td>Neutral</td>\n",
              "      <td>Negation</td>\n",
              "      <td>2</td>\n",
              "    </tr>\n",
              "    <tr>\n",
              "      <th>23</th>\n",
              "      <td>Universal</td>\n",
              "      <td>Alternation</td>\n",
              "      <td>Negation</td>\n",
              "      <td>2</td>\n",
              "    </tr>\n",
              "    <tr>\n",
              "      <th>10</th>\n",
              "      <td>Existential</td>\n",
              "      <td>Neutral</td>\n",
              "      <td>FE</td>\n",
              "      <td>1</td>\n",
              "    </tr>\n",
              "    <tr>\n",
              "      <th>16</th>\n",
              "      <td>Negation</td>\n",
              "      <td>Alternation</td>\n",
              "      <td>Neutral</td>\n",
              "      <td>1</td>\n",
              "    </tr>\n",
              "    <tr>\n",
              "      <th>21</th>\n",
              "      <td>Negation</td>\n",
              "      <td>Neutral</td>\n",
              "      <td>RE</td>\n",
              "      <td>1</td>\n",
              "    </tr>\n",
              "    <tr>\n",
              "      <th>26</th>\n",
              "      <td>Universal</td>\n",
              "      <td>Cover</td>\n",
              "      <td>Neutral</td>\n",
              "      <td>1</td>\n",
              "    </tr>\n",
              "    <tr>\n",
              "      <th>28</th>\n",
              "      <td>Universal</td>\n",
              "      <td>FE</td>\n",
              "      <td>RE</td>\n",
              "      <td>1</td>\n",
              "    </tr>\n",
              "    <tr>\n",
              "      <th>31</th>\n",
              "      <td>Universal</td>\n",
              "      <td>Neutral</td>\n",
              "      <td>FE</td>\n",
              "      <td>1</td>\n",
              "    </tr>\n",
              "  </tbody>\n",
              "</table>\n",
              "</div>\n",
              "      <button class=\"colab-df-convert\" onclick=\"convertToInteractive('df-3fafe643-e7e7-4926-9bcc-5fae26f163c9')\"\n",
              "              title=\"Convert this dataframe to an interactive table.\"\n",
              "              style=\"display:none;\">\n",
              "        \n",
              "  <svg xmlns=\"http://www.w3.org/2000/svg\" height=\"24px\"viewBox=\"0 0 24 24\"\n",
              "       width=\"24px\">\n",
              "    <path d=\"M0 0h24v24H0V0z\" fill=\"none\"/>\n",
              "    <path d=\"M18.56 5.44l.94 2.06.94-2.06 2.06-.94-2.06-.94-.94-2.06-.94 2.06-2.06.94zm-11 1L8.5 8.5l.94-2.06 2.06-.94-2.06-.94L8.5 2.5l-.94 2.06-2.06.94zm10 10l.94 2.06.94-2.06 2.06-.94-2.06-.94-.94-2.06-.94 2.06-2.06.94z\"/><path d=\"M17.41 7.96l-1.37-1.37c-.4-.4-.92-.59-1.43-.59-.52 0-1.04.2-1.43.59L10.3 9.45l-7.72 7.72c-.78.78-.78 2.05 0 2.83L4 21.41c.39.39.9.59 1.41.59.51 0 1.02-.2 1.41-.59l7.78-7.78 2.81-2.81c.8-.78.8-2.07 0-2.86zM5.41 20L4 18.59l7.72-7.72 1.47 1.35L5.41 20z\"/>\n",
              "  </svg>\n",
              "      </button>\n",
              "      \n",
              "  <style>\n",
              "    .colab-df-container {\n",
              "      display:flex;\n",
              "      flex-wrap:wrap;\n",
              "      gap: 12px;\n",
              "    }\n",
              "\n",
              "    .colab-df-convert {\n",
              "      background-color: #E8F0FE;\n",
              "      border: none;\n",
              "      border-radius: 50%;\n",
              "      cursor: pointer;\n",
              "      display: none;\n",
              "      fill: #1967D2;\n",
              "      height: 32px;\n",
              "      padding: 0 0 0 0;\n",
              "      width: 32px;\n",
              "    }\n",
              "\n",
              "    .colab-df-convert:hover {\n",
              "      background-color: #E2EBFA;\n",
              "      box-shadow: 0px 1px 2px rgba(60, 64, 67, 0.3), 0px 1px 3px 1px rgba(60, 64, 67, 0.15);\n",
              "      fill: #174EA6;\n",
              "    }\n",
              "\n",
              "    [theme=dark] .colab-df-convert {\n",
              "      background-color: #3B4455;\n",
              "      fill: #D2E3FC;\n",
              "    }\n",
              "\n",
              "    [theme=dark] .colab-df-convert:hover {\n",
              "      background-color: #434B5C;\n",
              "      box-shadow: 0px 1px 3px 1px rgba(0, 0, 0, 0.15);\n",
              "      filter: drop-shadow(0px 1px 2px rgba(0, 0, 0, 0.3));\n",
              "      fill: #FFFFFF;\n",
              "    }\n",
              "  </style>\n",
              "\n",
              "      <script>\n",
              "        const buttonEl =\n",
              "          document.querySelector('#df-3fafe643-e7e7-4926-9bcc-5fae26f163c9 button.colab-df-convert');\n",
              "        buttonEl.style.display =\n",
              "          google.colab.kernel.accessAllowed ? 'block' : 'none';\n",
              "\n",
              "        async function convertToInteractive(key) {\n",
              "          const element = document.querySelector('#df-3fafe643-e7e7-4926-9bcc-5fae26f163c9');\n",
              "          const dataTable =\n",
              "            await google.colab.kernel.invokeFunction('convertToInteractive',\n",
              "                                                     [key], {});\n",
              "          if (!dataTable) return;\n",
              "\n",
              "          const docLinkHtml = 'Like what you see? Visit the ' +\n",
              "            '<a target=\"_blank\" href=https://colab.research.google.com/notebooks/data_table.ipynb>data table notebook</a>'\n",
              "            + ' to learn more about interactive tables.';\n",
              "          element.innerHTML = '';\n",
              "          dataTable['output_type'] = 'display_data';\n",
              "          await google.colab.output.renderOutput(dataTable, element);\n",
              "          const docLink = document.createElement('div');\n",
              "          docLink.innerHTML = docLinkHtml;\n",
              "          element.appendChild(docLink);\n",
              "        }\n",
              "      </script>\n",
              "    </div>\n",
              "  </div>\n",
              "  "
            ],
            "text/plain": [
              "       Quantifier Type            H         S  Counts\n",
              "1   Adjectives/Adverbs  Alternation   Neutral      48\n",
              "5          Existential  Alternation   Neutral      18\n",
              "24           Universal  Alternation   Neutral       9\n",
              "30           Universal     Negation   Neutral       4\n",
              "7          Existential           FE   Neutral       3\n",
              "9          Existential     Negation   Neutral       3\n",
              "15            Negation  Alternation  Negation       2\n",
              "18            Negation      Neutral        FE       2\n",
              "19            Negation      Neutral  Negation       2\n",
              "23           Universal  Alternation  Negation       2\n",
              "10         Existential      Neutral        FE       1\n",
              "16            Negation  Alternation   Neutral       1\n",
              "21            Negation      Neutral        RE       1\n",
              "26           Universal        Cover   Neutral       1\n",
              "28           Universal           FE        RE       1\n",
              "31           Universal      Neutral        FE       1"
            ]
          },
          "execution_count": 188,
          "metadata": {},
          "output_type": "execute_result"
        }
      ],
      "source": [
        "res3 = block_123.groupby(['Quantifier Type','H','S']).count().reset_index()\n",
        "result = res3[['Quantifier Type','H','S', 'Premise/Hypothesis/Both']]\n",
        "print(\"****** The confused predictions for each modifier for two annotators 4 & 5 are: ******\")\n",
        "result = result.rename(columns={\"Premise/Hypothesis/Both\":\"Counts\"})\n",
        "result[result['H'] != result['S']].sort_values(by=\"Counts\", ascending =False)"
      ]
    },
    {
      "cell_type": "code",
      "execution_count": 189,
      "metadata": {
        "id": "RY3S0_mUQmJv"
      },
      "outputs": [],
      "source": [
        "result[result['H'] != result['S']].sort_values(by=\"Counts\", ascending =False).to_excel(\"blocks_273_342_1131_ann45.xlsx\")"
      ]
    },
    {
      "attachments": {},
      "cell_type": "markdown",
      "metadata": {
        "id": "apmGOiFw40TE"
      },
      "source": [
        "# Blocks : 751\n",
        "\n",
        "SICK_id 751:\n",
        "Premise: A classroom is full of students\t,\tHypothesis: A classroom is empty. Label: Contradiction"
      ]
    },
    {
      "cell_type": "code",
      "execution_count": 196,
      "metadata": {
        "colab": {
          "base_uri": "https://localhost:8080/"
        },
        "id": "jH4yfA8O40TM",
        "outputId": "86f11a77-05a2-444b-da54-241d70278b3c"
      },
      "outputs": [
        {
          "data": {
            "text/plain": [
              "(   SICK_id                              Premise                Hypothesis  \\\n",
              " 0      751      a classroom is full of students      a classroom is empty   \n",
              " 1      751  every classroom is full of students      a classroom is empty   \n",
              " 2      751      a classroom is full of students  every classroom is empty   \n",
              " 3      751  every classroom is full of students  every classroom is empty   \n",
              " 4      751   some classroom is full of students      a classroom is empty   \n",
              " \n",
              "   Modifier Premise/Hypothesis/Both Part of Premise/Hypothesis Modified  \\\n",
              " 0     NONE                    NONE                                NONE   \n",
              " 1    every                 Premise                             Subject   \n",
              " 2    every              Hypothesis                             Subject   \n",
              " 3    every                    Both                             Subject   \n",
              " 4     some                 Premise                             Subject   \n",
              " \n",
              "              R            S  \n",
              " 0     Negation     Negation  \n",
              " 1     Negation  Alternation  \n",
              " 2     Negation  Alternation  \n",
              " 3     Negation     Negation  \n",
              " 4  Alternation  Alternation  ,\n",
              " array(['Negation', 'Alternation', 'Neutral', 'FE', 'Cover'], dtype=object),\n",
              " array(['Negation', 'Alternation', 'Neutral'], dtype=object))"
            ]
          },
          "execution_count": 196,
          "metadata": {},
          "output_type": "execute_result"
        }
      ],
      "source": [
        "block_13['SICK_id'] = block_13['SICK_id'].astype('int')\n",
        "\n",
        "block_13.head(), block_13['R'].unique(), block_13['S'].unique()"
      ]
    },
    {
      "cell_type": "code",
      "execution_count": 197,
      "metadata": {
        "colab": {
          "base_uri": "https://localhost:8080/"
        },
        "id": "KfPXXN2o40TM",
        "outputId": "7ccc4b5e-c69b-41bc-d0c4-7583ca2af16e"
      },
      "outputs": [
        {
          "data": {
            "text/plain": [
              "Negation       44\n",
              "Neutral        19\n",
              "Alternation     7\n",
              "FE              7\n",
              "Cover           1\n",
              "Name: R, dtype: int64"
            ]
          },
          "execution_count": 197,
          "metadata": {},
          "output_type": "execute_result"
        }
      ],
      "source": [
        "block_13['R'].value_counts()"
      ]
    },
    {
      "cell_type": "code",
      "execution_count": 198,
      "metadata": {
        "colab": {
          "base_uri": "https://localhost:8080/"
        },
        "id": "mfabtJU540TM",
        "outputId": "66d39fbd-dd3f-44f7-882e-83c5494a3f64"
      },
      "outputs": [
        {
          "data": {
            "text/plain": [
              "Alternation    57\n",
              "Neutral        12\n",
              "Negation        9\n",
              "Name: S, dtype: int64"
            ]
          },
          "execution_count": 198,
          "metadata": {},
          "output_type": "execute_result"
        }
      ],
      "source": [
        "block_13['S'].value_counts()"
      ]
    },
    {
      "cell_type": "code",
      "execution_count": 200,
      "metadata": {
        "colab": {
          "base_uri": "https://localhost:8080/"
        },
        "id": "YieXb9hH40TM",
        "outputId": "52c1e9e5-25e6-42a6-a763-f37b0877e3e6"
      },
      "outputs": [
        {
          "data": {
            "text/plain": [
              "array([751])"
            ]
          },
          "execution_count": 200,
          "metadata": {},
          "output_type": "execute_result"
        }
      ],
      "source": [
        "block_13['SICK_id'].unique()"
      ]
    },
    {
      "cell_type": "code",
      "execution_count": 202,
      "metadata": {
        "id": "sdnJ798r40TN"
      },
      "outputs": [],
      "source": [
        "lmap = {1:'FE', 2:'RE', 3:'Negation', 4:'Neutral', 5:'Alternation', 6:'Equivalence', 7:'Cover'}"
      ]
    },
    {
      "cell_type": "code",
      "execution_count": 203,
      "metadata": {
        "id": "gU1KcbwM40TM"
      },
      "outputs": [],
      "source": [
        "label_map = {'FE':1, 'RE':2, 'Negation':3, 'Neutral':4, 'Alternation':5, 'Equivalence':6, 'Cover':7}"
      ]
    },
    {
      "cell_type": "code",
      "execution_count": 204,
      "metadata": {
        "id": "pUUmSijL40TM"
      },
      "outputs": [],
      "source": [
        "for i in ['R', 'S']:\n",
        "  block_13[i] = block_13[i].map(label_map)"
      ]
    },
    {
      "cell_type": "code",
      "execution_count": 205,
      "metadata": {
        "colab": {
          "base_uri": "https://localhost:8080/"
        },
        "id": "KN4irnp940TM",
        "outputId": "97888736-4c37-4ff6-8746-88295061bd87"
      },
      "outputs": [
        {
          "data": {
            "text/plain": [
              "(Series([], Name: R, dtype: int64), Series([], Name: S, dtype: int64), 78)"
            ]
          },
          "execution_count": 205,
          "metadata": {},
          "output_type": "execute_result"
        }
      ],
      "source": [
        "block_13['R'][block_13['R'].isna()], block_13['S'][block_13['S'].isna()], block_13.shape[0]"
      ]
    },
    {
      "attachments": {},
      "cell_type": "markdown",
      "metadata": {
        "id": "KvX8P4vJ40TM"
      },
      "source": [
        "### Cohen Kappa Score\n",
        "A pairwise inetr-rater reliability statistic. \n",
        "Considering probability of agreement by chance.\n",
        "We have 7 labels and 2 annotators and 78 observations in total.\n",
        "So labels are mutually exclusive. (Assume so for now)\n",
        "$p_0$ relative observed agreement\n",
        "$p_1$ hypothetical agreement by chance\n",
        "$p_0 = \\frac{1}{78^2} \\sum n_{k_1} n_{k_2} $  where $n_{k_1}$ and $n_{k_2}$ are number of times rater i (first or second) labelled k. \n",
        "\n",
        "These scores are calculated pairwise so at any time it is agreement between two raters. 3 & 5 - 7.52% agreement."
      ]
    },
    {
      "cell_type": "code",
      "execution_count": 207,
      "metadata": {
        "colab": {
          "base_uri": "https://localhost:8080/"
        },
        "id": "a89TwMkj40TN",
        "outputId": "df5c9975-bd33-4f0e-a013-575281eeb7af"
      },
      "outputs": [
        {
          "name": "stdout",
          "output_type": "stream",
          "text": [
            "0.07528156490812099\n"
          ]
        }
      ],
      "source": [
        "labellers = {1:'R', 2:'S'}\n",
        "cohen_kappa_scores = {}\n",
        "\n",
        "cohen_kappa_scores[(labellers[1], labellers[2])] = cohen_kappa_score(block_13[labellers[1]], block_13[labellers[2]])\n",
        "print(cohen_kappa_scores[(labellers[1], labellers[2])])"
      ]
    },
    {
      "attachments": {},
      "cell_type": "markdown",
      "metadata": {
        "id": "He-UnpOz40TN"
      },
      "source": [
        "### Label-wise agreements (as a confusion matrix)\n",
        "- First we'd like to assess the maximum agreement between each pair of annotators for each label they labelled."
      ]
    },
    {
      "cell_type": "code",
      "execution_count": 208,
      "metadata": {
        "id": "Jb6RhVDM40TN"
      },
      "outputs": [],
      "source": [
        "from pycm import *\n",
        "\n",
        "cm = ConfusionMatrix(actual_vector=block_13['R'].to_numpy(), predict_vector=block_13['S'].to_numpy(), is_imbalanced=True) "
      ]
    },
    {
      "attachments": {},
      "cell_type": "markdown",
      "metadata": {
        "id": "EV_xuu9g40TN"
      },
      "source": [
        "## Seeing maximum agreement for the label that was chosen most of the times for just two annotators."
      ]
    },
    {
      "cell_type": "code",
      "execution_count": 209,
      "metadata": {
        "colab": {
          "base_uri": "https://localhost:8080/",
          "height": 422
        },
        "id": "_fgClVRG40TN",
        "outputId": "6caf1778-7f22-4f2f-bbf6-1163d864dbe3"
      },
      "outputs": [
        {
          "data": {
            "text/plain": [
              "<matplotlib.axes._subplots.AxesSubplot at 0x7f0506c82d60>"
            ]
          },
          "execution_count": 209,
          "metadata": {},
          "output_type": "execute_result"
        },
        {
          "data": {
            "image/png": "[encoded data removed]",
            "text/plain": [
              "<Figure size 576x432 with 2 Axes>"
            ]
          },
          "metadata": {
            "needs_background": "light"
          },
          "output_type": "display_data"
        }
      ],
      "source": [
        "cm.plot()"
      ]
    },
    {
      "cell_type": "code",
      "execution_count": 210,
      "metadata": {
        "colab": {
          "base_uri": "https://localhost:8080/"
        },
        "id": "F2CPgnj740TN",
        "outputId": "dd6f6ee1-be04-45c9-c58d-b51183351aaf"
      },
      "outputs": [
        {
          "name": "stdout",
          "output_type": "stream",
          "text": [
            "Predict  1        3        4        5        7        \n",
            "Actual\n",
            "1        0        1        5        1        0        \n",
            "\n",
            "3        0        7        2        35       0        \n",
            "\n",
            "4        0        1        4        14       0        \n",
            "\n",
            "5        0        0        0        7        0        \n",
            "\n",
            "7        0        0        1        0        0        \n",
            "\n",
            "\n"
          ]
        }
      ],
      "source": [
        "cm.print_matrix()"
      ]
    },
    {
      "cell_type": "code",
      "execution_count": 211,
      "metadata": {
        "colab": {
          "base_uri": "https://localhost:8080/"
        },
        "id": "QDfcD80440TN",
        "outputId": "db295a4c-9a04-4798-d0fe-7e5a50dfc6f2"
      },
      "outputs": [
        {
          "data": {
            "text/plain": [
              "{1: {1: 0, 3: 1, 4: 5, 5: 1, 7: 0},\n",
              " 3: {1: 0, 3: 7, 4: 2, 5: 35, 7: 0},\n",
              " 4: {1: 0, 3: 1, 4: 4, 5: 14, 7: 0},\n",
              " 5: {1: 0, 3: 0, 4: 0, 5: 7, 7: 0},\n",
              " 7: {1: 0, 3: 0, 4: 1, 5: 0, 7: 0}}"
            ]
          },
          "execution_count": 211,
          "metadata": {},
          "output_type": "execute_result"
        }
      ],
      "source": [
        "cm.table"
      ]
    },
    {
      "cell_type": "code",
      "execution_count": 213,
      "metadata": {
        "colab": {
          "base_uri": "https://localhost:8080/"
        },
        "id": "_dISaBHa40TN",
        "outputId": "34b25432-830f-447d-f5a9-1e963a11925f"
      },
      "outputs": [
        {
          "data": {
            "text/plain": [
              "{'FE': 1,\n",
              " 'RE': 2,\n",
              " 'Negation': 3,\n",
              " 'Neutral': 4,\n",
              " 'Alternation': 5,\n",
              " 'Equivalence': 6,\n",
              " 'Cover': 7}"
            ]
          },
          "execution_count": 213,
          "metadata": {},
          "output_type": "execute_result"
        }
      ],
      "source": [
        "label_map"
      ]
    },
    {
      "cell_type": "code",
      "execution_count": 215,
      "metadata": {
        "colab": {
          "base_uri": "https://localhost:8080/"
        },
        "id": "hjVZj8PO40TN",
        "outputId": "53a4d02a-7d0b-4216-cfbc-8bde8169bf3a"
      },
      "outputs": [
        {
          "data": {
            "text/plain": [
              "{'Negation': 44, 'Neutral': 19, 'Alternation': 7, 'FE': 7, 'Cover': 1}"
            ]
          },
          "execution_count": 215,
          "metadata": {},
          "output_type": "execute_result"
        }
      ],
      "source": [
        "a1_counts = {}\n",
        "for k, v in block_13['R'].value_counts().to_dict().items():\n",
        "  a1_counts[lmap[k]] = v\n",
        "a1_counts"
      ]
    },
    {
      "cell_type": "code",
      "execution_count": 216,
      "metadata": {
        "colab": {
          "base_uri": "https://localhost:8080/"
        },
        "id": "qDLOmtv240TO",
        "outputId": "91d7e73d-249e-440a-f056-3d83d67b2770"
      },
      "outputs": [
        {
          "data": {
            "text/plain": [
              "{'Alternation': 57, 'Neutral': 12, 'Negation': 9}"
            ]
          },
          "execution_count": 216,
          "metadata": {},
          "output_type": "execute_result"
        }
      ],
      "source": [
        "a2_counts = {}\n",
        "for k, v in block_13['S'].value_counts().to_dict().items():\n",
        "  a2_counts[lmap[k]] = v\n",
        "a2_counts"
      ]
    },
    {
      "cell_type": "code",
      "execution_count": 217,
      "metadata": {
        "colab": {
          "base_uri": "https://localhost:8080/"
        },
        "id": "zcDNzgbQ40TO",
        "outputId": "8e4f7426-7109-41ca-8633-fc7798f71791"
      },
      "outputs": [
        {
          "data": {
            "text/plain": [
              "{'Alternation': 64, 'Neutral': 31, 'Negation': 53, 'FE': 7, 'Cover': 1}"
            ]
          },
          "execution_count": 217,
          "metadata": {},
          "output_type": "execute_result"
        }
      ],
      "source": [
        "sum_counts = {}\n",
        "for key in ['Alternation','Neutral','Negation' ]:\n",
        "  sum_counts[key] = a1_counts[key] + a2_counts[key]\n",
        "sum_counts['FE'] = a1_counts['FE']\n",
        "sum_counts['Cover'] = a1_counts['Cover']\n",
        "sum_counts"
      ]
    },
    {
      "attachments": {},
      "cell_type": "markdown",
      "metadata": {
        "id": "HDOjQuVn40TO"
      },
      "source": [
        "### Observing F1, precision and recall scores for pairwise confusion matrices.\n",
        "In this case, we consider a case where each annotator i can be Gold label annotator and compared with every other annotator j from remaining 1 annotators. So we consider the case that chosen Gold labels i.e. annotator's labels as Ground truth and we calculate pairwise \"Supposed Gold label\" with another annotator's labels. \n",
        "\n",
        "This is to say between any two annotators, we choose any one annotator, we would like to see how much agreement can exist and how would that reflect as F1, precision and recall scores.\n",
        "\n",
        "- For each pair of annotators, consider ith annotator to have ground truth and jth annotator to be prediction labels.\n",
        "- We still observe maximum agreement < 50% for FE Labels.\n",
        "- We do observ ~23.07% precision, recall and F1-scores. Would not be very helpful, since we do not have \"True Gold labels\". \n",
        "- We use the following information for assessing how to design annotation schemes annotating automatically modified premise, hypothesis sentences with Generalized quantifiers as well as Adjectives & adverbs.\n",
        "- We want to observe the amount of labeling confusion that quantifiers and modifiers introduce.\n",
        "- We consider that wherever the label is not FE or RE, we can see maximum confusion. \n",
        "- Neutral - has second best agreement & is second most chosen label\n",
        "- Forward Entailment - has max best agreement & is also second most chosen label\n",
        "- All other cases, signify confusion due to level of difficulty.\n",
        "\n",
        "Total 78 * 2 = 156 labels required by 2 annotators for 78 premise, hypothesis pairs.\n",
        "\n",
        "- 'FE': 7,\n",
        "- 'RE': 0,\n",
        "- 'Neutral': 31,\n",
        "- 'Negation': 53,\n",
        "- 'Alternation': 64,\n",
        "- 'Cover': 1\n"
      ]
    },
    {
      "cell_type": "code",
      "execution_count": 219,
      "metadata": {
        "colab": {
          "base_uri": "https://localhost:8080/"
        },
        "id": "bUK3FGOG40TO",
        "outputId": "955001a8-0242-4b9f-c771-e4cf89a3d4af"
      },
      "outputs": [
        {
          "name": "stdout",
          "output_type": "stream",
          "text": [
            "Predict  1        3        4        5        7        \n",
            "Actual\n",
            "1        0        1        5        1        0        \n",
            "\n",
            "3        0        7        2        35       0        \n",
            "\n",
            "4        0        1        4        14       0        \n",
            "\n",
            "5        0        0        0        7        0        \n",
            "\n",
            "7        0        0        1        0        0        \n",
            "\n",
            "\n",
            "\n",
            "\n",
            "\n",
            "Overall Statistics : \n",
            "\n",
            "95% CI                                                            (0.13727,0.32427)\n",
            "ACC Macro                                                         0.69231\n",
            "ARI                                                               0.11597\n",
            "AUNP                                                              0.55068\n",
            "AUNU                                                              0.5471\n",
            "Bangdiwala B                                                      0.11144\n",
            "Bennett S                                                         0.03846\n",
            "CBA                                                               0.09848\n",
            "CSI                                                               None\n",
            "Chi-Squared                                                       None\n",
            "Chi-Squared DF                                                    16\n",
            "Conditional Entropy                                               0.85241\n",
            "Cramer V                                                          None\n",
            "Cross Entropy                                                     2.45586\n",
            "F1 Macro                                                          0.14819\n",
            "F1 Micro                                                          0.23077\n",
            "FNR Macro                                                         0.72608\n",
            "FNR Micro                                                         0.76923\n",
            "FPR Macro                                                         0.17973\n",
            "FPR Micro                                                         0.19231\n",
            "Gwet AC1                                                          0.07469\n",
            "Hamming Loss                                                      0.76923\n",
            "Joint Entropy                                                     2.5195\n",
            "KL Divergence                                                     None\n",
            "Kappa                                                             0.07528\n",
            "Kappa 95% CI                                                      (-0.03712,0.18768)\n",
            "Kappa No Prevalence                                               -0.53846\n",
            "Kappa Standard Error                                              0.05735\n",
            "Kappa Unbiased                                                    -0.14007\n",
            "Krippendorff Alpha                                                -0.13276\n",
            "Lambda A                                                          0.08824\n",
            "Lambda B                                                          0.2381\n",
            "Mutual Information                                                0.2532\n",
            "NIR                                                               0.5641\n",
            "Overall ACC                                                       0.23077\n",
            "Overall CEN                                                       0.35067\n",
            "Overall J                                                         (0.42313,0.08463)\n",
            "Overall MCC                                                       0.1228\n",
            "Overall MCEN                                                      0.3459\n",
            "Overall RACC                                                      0.16815\n",
            "Overall RACCU                                                     0.32528\n",
            "P-Value                                                           1.0\n",
            "PPV Macro                                                         None\n",
            "PPV Micro                                                         0.23077\n",
            "Pearson C                                                         None\n",
            "Phi-Squared                                                       None\n",
            "RCI                                                               0.15188\n",
            "RR                                                                15.6\n",
            "Reference Entropy                                                 1.66709\n",
            "Response Entropy                                                  1.10561\n",
            "SOA1(Landis & Koch)                                               Slight\n",
            "SOA2(Fleiss)                                                      Poor\n",
            "SOA3(Altman)                                                      Poor\n",
            "SOA4(Cicchetti)                                                   Poor\n",
            "SOA5(Cramer)                                                      None\n",
            "SOA6(Matthews)                                                    Negligible\n",
            "Scott PI                                                          -0.14007\n",
            "Standard Error                                                    0.04771\n",
            "TNR Macro                                                         0.82027\n",
            "TNR Micro                                                         0.80769\n",
            "TPR Macro                                                         0.27392\n",
            "TPR Micro                                                         0.23077\n",
            "Zero-one Loss                                                     60\n",
            "\n",
            "Class Statistics :\n",
            "\n",
            "Classes                                                           1             3             4             5             7             \n",
            "ACC(Accuracy)                                                     0.91026       0.5           0.70513       0.35897       0.98718       \n",
            "AGF(Adjusted F-score)                                             0.0           0.31248       0.42359       0.52815       0.0           \n",
            "AGM(Adjusted geometric mean)                                      0             0.5552        0.61514       0.42564       0             \n",
            "AM(Difference between automatic and manual classification)        -7            -35           -7            50            -1            \n",
            "AUC(Area under the ROC curve)                                     0.5           0.55013       0.53747       0.64789       0.5           \n",
            "AUCI(AUC value interpretation)                                    Poor          Poor          Poor          Fair          Poor          \n",
            "AUPR(Area under the PR curve)                                     None          0.46843       0.27193       0.5614        None          \n",
            "BB(Braun-Blanquet similarity)                                     0.0           0.15909       0.21053       0.12281       0.0           \n",
            "BCD(Bray-Curtis dissimilarity)                                    0.04487       0.22436       0.04487       0.32051       0.00641       \n",
            "BM(Informedness or bookmaker informedness)                        0.0           0.10027       0.07493       0.29577       0.0           \n",
            "CEN(Confusion entropy)                                            0.38294       0.2633        0.50574       0.34985       0.0           \n",
            "DOR(Diagnostic odds ratio)                                        None          3.02703       1.7           None          None          \n",
            "DP(Discriminant power)                                            None          0.2652        0.12705       None          None          \n",
            "DPI(Discriminant power interpretation)                            None          Poor          Poor          None          None          \n",
            "ERR(Error rate)                                                   0.08974       0.5           0.29487       0.64103       0.01282       \n",
            "F0.5(F0.5 score)                                                  0.0           0.4375        0.29851       0.14894       0.0           \n",
            "F1(F1 score - harmonic mean of precision and sensitivity)         0.0           0.26415       0.25806       0.21875       0.0           \n",
            "F2(F2 score)                                                      0.0           0.18919       0.22727       0.41176       0.0           \n",
            "FDR(False discovery rate)                                         None          0.22222       0.66667       0.87719       None          \n",
            "FN(False negative/miss/type 2 error)                              7             37            15            0             1             \n",
            "FNR(Miss rate or false negative rate)                             1.0           0.84091       0.78947       0.0           1.0           \n",
            "FOR(False omission rate)                                          0.08974       0.53623       0.22727       0.0           0.01282       \n",
            "FP(False positive/type 1 error/false alarm)                       0             2             8             50            0             \n",
            "FPR(Fall-out or false positive rate)                              0.0           0.05882       0.13559       0.70423       0.0           \n",
            "G(G-measure geometric mean of precision and sensitivity)          None          0.35176       0.26491       0.35044       None          \n",
            "GI(Gini index)                                                    0.0           0.10027       0.07493       0.29577       0.0           \n",
            "GM(G-mean geometric mean of specificity and sensitivity)          0.0           0.38695       0.42659       0.54385       0.0           \n",
            "HD(Hamming distance)                                              7             39            23            50            1             \n",
            "IBA(Index of balanced accuracy)                                   0.0           0.03263       0.06299       0.50407       0.0           \n",
            "ICSI(Individual classification success index)                     None          -0.06313      -0.45614      0.12281       None          \n",
            "IS(Information score)                                             None          0.4634        0.45251       0.45251       None          \n",
            "J(Jaccard index)                                                  0.0           0.15217       0.14815       0.12281       0.0           \n",
            "LS(Lift score)                                                    None          1.37879       1.36842       1.36842       None          \n",
            "MCC(Matthews correlation coefficient)                             None          0.15563       0.08915       0.19059       None          \n",
            "MCCI(Matthews correlation coefficient interpretation)             None          Negligible    Negligible    Negligible    None          \n",
            "MCEN(Modified confusion entropy)                                  0.38294       0.24561       0.52407       0.34396       0.0           \n",
            "MK(Markedness)                                                    None          0.24155       0.10606       0.12281       None          \n",
            "N(Condition negative)                                             71            34            59            71            77            \n",
            "NLR(Negative likelihood ratio)                                    1.0           0.89347       0.91331       0.0           1.0           \n",
            "NLRI(Negative likelihood ratio interpretation)                    Negligible    Negligible    Negligible    Good          Negligible    \n",
            "NPV(Negative predictive value)                                    0.91026       0.46377       0.77273       1.0           0.98718       \n",
            "OC(Overlap coefficient)                                           None          0.77778       0.33333       1.0           None          \n",
            "OOC(Otsuka-Ochiai coefficient)                                    None          0.35176       0.26491       0.35044       None          \n",
            "OP(Optimized precision)                                           -0.08974      -0.21081      0.09683       -0.1845       -0.01282      \n",
            "P(Condition positive or support)                                  7             44            19            7             1             \n",
            "PLR(Positive likelihood ratio)                                    None          2.70455       1.55263       1.42          None          \n",
            "PLRI(Positive likelihood ratio interpretation)                    None          Poor          Poor          Poor          None          \n",
            "POP(Population)                                                   78            78            78            78            78            \n",
            "PPV(Precision or positive predictive value)                       None          0.77778       0.33333       0.12281       None          \n",
            "PRE(Prevalence)                                                   0.08974       0.5641        0.24359       0.08974       0.01282       \n",
            "Q(Yule Q - coefficient of colligation)                            None          0.50336       0.25926       None          None          \n",
            "QI(Yule Q interpretation)                                         None          Moderate      Weak          None          None          \n",
            "RACC(Random accuracy)                                             0.0           0.06509       0.03748       0.06558       0.0           \n",
            "RACCU(Random accuracy unbiased)                                   0.00201       0.11543       0.03949       0.16831       4e-05         \n",
            "TN(True negative/correct rejection)                               71            32            51            21            77            \n",
            "TNR(Specificity or true negative rate)                            1.0           0.94118       0.86441       0.29577       1.0           \n",
            "TON(Test outcome negative)                                        78            69            66            21            78            \n",
            "TOP(Test outcome positive)                                        0             9             12            57            0             \n",
            "TP(True positive/hit)                                             0             7             4             7             0             \n",
            "TPR(Sensitivity, recall, hit rate, or true positive rate)         0.0           0.15909       0.21053       1.0           0.0           \n",
            "Y(Youden index)                                                   0.0           0.10027       0.07493       0.29577       0.0           \n",
            "dInd(Distance index)                                              1.0           0.84296       0.80103       0.70423       1.0           \n",
            "sInd(Similarity index)                                            0.29289       0.40393       0.43358       0.50204       0.29289       \n",
            "\n",
            "Predict  1        3        4        5        7        \n",
            "Actual\n",
            "1        0        0        0        0        0        \n",
            "\n",
            "3        1        7        1        0        0        \n",
            "\n",
            "4        5        2        4        0        1        \n",
            "\n",
            "5        1        35       14       7        0        \n",
            "\n",
            "7        0        0        0        0        0        \n",
            "\n",
            "\n",
            "\n",
            "\n",
            "\n",
            "Overall Statistics : \n",
            "\n",
            "95% CI                                                            (0.13727,0.32427)\n",
            "ACC Macro                                                         0.69231\n",
            "ARI                                                               0.11597\n",
            "AUNP                                                              None\n",
            "AUNU                                                              None\n",
            "Bangdiwala B                                                      0.11144\n",
            "Bennett S                                                         0.03846\n",
            "CBA                                                               0.09848\n",
            "CSI                                                               None\n",
            "Chi-Squared                                                       None\n",
            "Chi-Squared DF                                                    16\n",
            "Conditional Entropy                                               1.41389\n",
            "Cramer V                                                          None\n",
            "Cross Entropy                                                     2.95041\n",
            "F1 Macro                                                          0.14819\n",
            "F1 Micro                                                          0.23077\n",
            "FNR Macro                                                         None\n",
            "FNR Micro                                                         0.76923\n",
            "FPR Macro                                                         0.17321\n",
            "FPR Micro                                                         0.19231\n",
            "Gwet AC1                                                          0.07469\n",
            "Hamming Loss                                                      0.76923\n",
            "Joint Entropy                                                     2.5195\n",
            "KL Divergence                                                     None\n",
            "Kappa                                                             0.07528\n",
            "Kappa 95% CI                                                      (-0.03712,0.18768)\n",
            "Kappa No Prevalence                                               -0.53846\n",
            "Kappa Standard Error                                              0.05735\n",
            "Kappa Unbiased                                                    -0.14007\n",
            "Krippendorff Alpha                                                -0.13276\n",
            "Lambda A                                                          0.2381\n",
            "Lambda B                                                          0.08824\n",
            "Mutual Information                                                0.2532\n",
            "NIR                                                               0.73077\n",
            "Overall ACC                                                       0.23077\n",
            "Overall CEN                                                       0.35067\n",
            "Overall J                                                         (0.42313,0.08463)\n",
            "Overall MCC                                                       0.1228\n",
            "Overall MCEN                                                      0.3459\n",
            "Overall RACC                                                      0.16815\n",
            "Overall RACCU                                                     0.32528\n",
            "P-Value                                                           1.0\n",
            "PPV Macro                                                         0.27392\n",
            "PPV Micro                                                         0.23077\n",
            "Pearson C                                                         None\n",
            "Phi-Squared                                                       None\n",
            "RCI                                                               0.22901\n",
            "RR                                                                15.6\n",
            "Reference Entropy                                                 1.10561\n",
            "Response Entropy                                                  1.66709\n",
            "SOA1(Landis & Koch)                                               Slight\n",
            "SOA2(Fleiss)                                                      Poor\n",
            "SOA3(Altman)                                                      Poor\n",
            "SOA4(Cicchetti)                                                   Poor\n",
            "SOA5(Cramer)                                                      None\n",
            "SOA6(Matthews)                                                    Negligible\n",
            "Scott PI                                                          -0.14007\n",
            "Standard Error                                                    0.04771\n",
            "TNR Macro                                                         0.82679\n",
            "TNR Micro                                                         0.80769\n",
            "TPR Macro                                                         None\n",
            "TPR Micro                                                         0.23077\n",
            "Zero-one Loss                                                     60\n",
            "\n",
            "Class Statistics :\n",
            "\n",
            "Classes                                                           1             3             4             5             7             \n",
            "ACC(Accuracy)                                                     0.91026       0.5           0.70513       0.35897       0.98718       \n",
            "AGF(Adjusted F-score)                                             0.0           0.58435       0.50205       0.22644       0.0           \n",
            "AGM(Adjusted geometric mean)                                      None          0.53637       0.62907       0.48822       None          \n",
            "AM(Difference between automatic and manual classification)        7             35            7             -50           1             \n",
            "AUC(Area under the ROC curve)                                     None          0.62077       0.55303       0.5614        None          \n",
            "AUCI(AUC value interpretation)                                    None          Fair          Poor          Poor          None          \n",
            "AUPR(Area under the PR curve)                                     None          0.46843       0.27193       0.5614        None          \n",
            "BB(Braun-Blanquet similarity)                                     0.0           0.15909       0.21053       0.12281       0.0           \n",
            "BCD(Bray-Curtis dissimilarity)                                    0.04487       0.22436       0.04487       0.32051       0.00641       \n",
            "BM(Informedness or bookmaker informedness)                        None          0.24155       0.10606       0.12281       None          \n",
            "CEN(Confusion entropy)                                            0.38294       0.2633        0.50574       0.34985       0.0           \n",
            "DOR(Diagnostic odds ratio)                                        None          3.02703       1.7           None          None          \n",
            "DP(Discriminant power)                                            None          0.2652        0.12705       None          None          \n",
            "DPI(Discriminant power interpretation)                            None          Poor          Poor          None          None          \n",
            "ERR(Error rate)                                                   0.08974       0.5           0.29487       0.64103       0.01282       \n",
            "F0.5(F0.5 score)                                                  0.0           0.18919       0.22727       0.41176       0.0           \n",
            "F1(F1 score - harmonic mean of precision and sensitivity)         0.0           0.26415       0.25806       0.21875       0.0           \n",
            "F2(F2 score)                                                      0.0           0.4375        0.29851       0.14894       0.0           \n",
            "FDR(False discovery rate)                                         1.0           0.84091       0.78947       0.0           1.0           \n",
            "FN(False negative/miss/type 2 error)                              0             2             8             50            0             \n",
            "FNR(Miss rate or false negative rate)                             None          0.22222       0.66667       0.87719       None          \n",
            "FOR(False omission rate)                                          0.0           0.05882       0.13559       0.70423       0.0           \n",
            "FP(False positive/type 1 error/false alarm)                       7             37            15            0             1             \n",
            "FPR(Fall-out or false positive rate)                              0.08974       0.53623       0.22727       0.0           0.01282       \n",
            "G(G-measure geometric mean of precision and sensitivity)          None          0.35176       0.26491       0.35044       None          \n",
            "GI(Gini index)                                                    None          0.24155       0.10606       0.12281       None          \n",
            "GM(G-mean geometric mean of specificity and sensitivity)          None          0.60059       0.50752       0.35044       None          \n",
            "HD(Hamming distance)                                              7             39            23            50            1             \n",
            "IBA(Index of balanced accuracy)                                   None          0.47397       0.1444        0.01508       None          \n",
            "ICSI(Individual classification success index)                     None          -0.06313      -0.45614      0.12281       None          \n",
            "IS(Information score)                                             None          0.4634        0.45251       0.45251       None          \n",
            "J(Jaccard index)                                                  0.0           0.15217       0.14815       0.12281       0.0           \n",
            "LS(Lift score)                                                    None          1.37879       1.36842       1.36842       None          \n",
            "MCC(Matthews correlation coefficient)                             None          0.15563       0.08915       0.19059       None          \n",
            "MCCI(Matthews correlation coefficient interpretation)             None          Negligible    Negligible    Negligible    None          \n",
            "MCEN(Modified confusion entropy)                                  0.38294       0.24561       0.52407       0.34396       0.0           \n",
            "MK(Markedness)                                                    0.0           0.10027       0.07493       0.29577       0.0           \n",
            "N(Condition negative)                                             78            69            66            21            78            \n",
            "NLR(Negative likelihood ratio)                                    None          0.47917       0.86275       0.87719       None          \n",
            "NLRI(Negative likelihood ratio interpretation)                    None          Poor          Negligible    Negligible    None          \n",
            "NPV(Negative predictive value)                                    1.0           0.94118       0.86441       0.29577       1.0           \n",
            "OC(Overlap coefficient)                                           None          0.77778       0.33333       1.0           None          \n",
            "OOC(Otsuka-Ochiai coefficient)                                    None          0.35176       0.26491       0.35044       None          \n",
            "OP(Optimized precision)                                           None          0.24708       0.30787       -0.42228      None          \n",
            "P(Condition positive or support)                                  0             9             12            57            0             \n",
            "PLR(Positive likelihood ratio)                                    None          1.45045       1.46667       None          None          \n",
            "PLRI(Positive likelihood ratio interpretation)                    None          Poor          Poor          None          None          \n",
            "POP(Population)                                                   78            78            78            78            78            \n",
            "PPV(Precision or positive predictive value)                       0.0           0.15909       0.21053       1.0           0.0           \n",
            "PRE(Prevalence)                                                   0.0           0.11538       0.15385       0.73077       0.0           \n",
            "Q(Yule Q - coefficient of colligation)                            None          0.50336       0.25926       None          None          \n",
            "QI(Yule Q interpretation)                                         None          Moderate      Weak          None          None          \n",
            "RACC(Random accuracy)                                             0.0           0.06509       0.03748       0.06558       0.0           \n",
            "RACCU(Random accuracy unbiased)                                   0.00201       0.11543       0.03949       0.16831       4e-05         \n",
            "TN(True negative/correct rejection)                               71            32            51            21            77            \n",
            "TNR(Specificity or true negative rate)                            0.91026       0.46377       0.77273       1.0           0.98718       \n",
            "TON(Test outcome negative)                                        71            34            59            71            77            \n",
            "TOP(Test outcome positive)                                        7             44            19            7             1             \n",
            "TP(True positive/hit)                                             0             7             4             7             0             \n",
            "TPR(Sensitivity, recall, hit rate, or true positive rate)         None          0.77778       0.33333       0.12281       None          \n",
            "Y(Youden index)                                                   None          0.24155       0.10606       0.12281       None          \n",
            "dInd(Distance index)                                              None          0.58045       0.70434       0.87719       None          \n",
            "sInd(Similarity index)                                            None          0.58956       0.50196       0.37973       None          \n",
            "\n"
          ]
        }
      ],
      "source": [
        "\n",
        "cm = {}\n",
        "\n",
        "cm[('R', 'S')] = ConfusionMatrix(actual_vector=block_13['R'].to_numpy(), predict_vector=block_13['S'].to_numpy())\n",
        "cm[('S','R')] = ConfusionMatrix(actual_vector=block_13['S'].to_numpy(), predict_vector=block_13['R'].to_numpy())\n",
        "print(cm[('R', 'S')])\n",
        "print(cm[('S','R')])"
      ]
    },
    {
      "attachments": {},
      "cell_type": "markdown",
      "metadata": {
        "id": "DPuAXdrM40TO"
      },
      "source": [
        "### Looking at total agreement counts for each label between each pair of annotators.\n",
        "- Max agreement is for FE, then Neutral.\n",
        "- But we cannot say if agreement was most, complexity to identify each of these three labels was easy."
      ]
    },
    {
      "cell_type": "code",
      "execution_count": 220,
      "metadata": {
        "colab": {
          "base_uri": "https://localhost:8080/"
        },
        "id": "0-nDeZnq40TO",
        "outputId": "d192d60a-629a-4d51-ae17-a0d18aa7afea"
      },
      "outputs": [
        {
          "name": "stdout",
          "output_type": "stream",
          "text": [
            "('R', 'S')\n",
            "{1: {1: 0, 3: 1, 4: 5, 5: 1, 7: 0}, 3: {1: 0, 3: 7, 4: 2, 5: 35, 7: 0}, 4: {1: 0, 3: 1, 4: 4, 5: 14, 7: 0}, 5: {1: 0, 3: 0, 4: 0, 5: 7, 7: 0}, 7: {1: 0, 3: 0, 4: 1, 5: 0, 7: 0}}\n",
            "('S', 'R')\n",
            "{1: {1: 0, 3: 0, 4: 0, 5: 0, 7: 0}, 3: {1: 1, 3: 7, 4: 1, 5: 0, 7: 0}, 4: {1: 5, 3: 2, 4: 4, 5: 0, 7: 1}, 5: {1: 1, 3: 35, 4: 14, 5: 7, 7: 0}, 7: {1: 0, 3: 0, 4: 0, 5: 0, 7: 0}}\n"
          ]
        }
      ],
      "source": [
        "for k,v in cm.items():\n",
        "  print(k)\n",
        "  print(v.table)"
      ]
    },
    {
      "attachments": {},
      "cell_type": "markdown",
      "metadata": {
        "id": "b2W_Q5pa40TO"
      },
      "source": [
        "## Cohen Kappa scores for modified labels \n",
        "\n",
        "Total 78 * 2 = 156 labels required by 2 annotators for 78 premise, hypothesis pairs.\n",
        "\n",
        "- 'FE': 7,\n",
        "- 'RE': 0,\n",
        "- 'Neutral': 31,\n",
        "- 'Negation': 53,\n",
        "- 'Alternation': 64,\n",
        "- 'Cover': 1\n",
        "\n",
        "So we recalculate the Cohen kappa score which is now: 7.52%."
      ]
    },
    {
      "cell_type": "code",
      "execution_count": 222,
      "metadata": {
        "colab": {
          "base_uri": "https://localhost:8080/"
        },
        "id": "HvURUjOi40TO",
        "outputId": "a3902c2c-38af-479d-94fb-f71e9c7af1f2"
      },
      "outputs": [
        {
          "name": "stdout",
          "output_type": "stream",
          "text": [
            "0.07528156490812099\n"
          ]
        }
      ],
      "source": [
        "labellers = {1:'R', 2:'S'}\n",
        "cohen_kappa_scores_modified = {}\n",
        "\n",
        "cohen_kappa_scores_modified[(labellers[1], labellers[2])] = cohen_kappa_score(block_13[labellers[1]], block_13[labellers[2]])\n",
        "print(cohen_kappa_scores_modified[(labellers[1], labellers[2])])"
      ]
    },
    {
      "attachments": {},
      "cell_type": "markdown",
      "metadata": {
        "id": "J9e3obVP40TO"
      },
      "source": [
        "## Fleiss Kappa scores\n",
        "This is another way of finding above the level of agreement expected by chance. This considers random sampling among the raters (a little better than voted ratings, due to \"randomness\").\n",
        "Although this is purely statistical, since we have types of modifiers which influence thge rater's choice of label, we consider this for some \"randomized\" assessment for a approximated agreement scores. \n",
        "\n",
        "The score considers that if no one chose \"this\" label, we could still find out expected chance of agreement on \"this\" label.\n",
        "\n",
        "This does not tell if agreement is good enough. But just that if an agreement exists then how better is it to that of agreement by chance which in this case is -14%."
      ]
    },
    {
      "cell_type": "code",
      "execution_count": 224,
      "metadata": {
        "colab": {
          "base_uri": "https://localhost:8080/"
        },
        "id": "e7WgZvV740TP",
        "outputId": "140c0735-f160-46df-e63d-16c422bd3529"
      },
      "outputs": [
        {
          "data": {
            "text/plain": [
              "-0.14007308160779527"
            ]
          },
          "execution_count": 224,
          "metadata": {},
          "output_type": "execute_result"
        }
      ],
      "source": [
        "from statsmodels.stats import inter_rater as irr\n",
        "data, categories = irr.aggregate_raters(block_13[['R','S']].to_numpy())\n",
        "irr.fleiss_kappa(data, method='fleiss')"
      ]
    },
    {
      "attachments": {},
      "cell_type": "markdown",
      "metadata": {
        "id": "hGNYy7da40TP"
      },
      "source": [
        "### Krippendorff's Alpha\n",
        "Essentially measures amount of reliability as a measure of disagreement.\n",
        "However this might not be relevant here, since we do not have concrete Ground truth. But if we did assume we did have Ground truth and this was reliable, this is how much reliable these labels based on agreement calculated from ratio of observed disagreement and disagreement expected by chance can be.\n",
        "\n",
        "Here krippendorff's alpha is 77.86%"
      ]
    },
    {
      "cell_type": "code",
      "execution_count": 225,
      "metadata": {
        "colab": {
          "base_uri": "https://localhost:8080/"
        },
        "id": "CN__8y9640TP",
        "outputId": "4c3b1346-b198-4080-f7ec-2ff2b380ec91"
      },
      "outputs": [
        {
          "data": {
            "text/plain": [
              "-0.21640903686087998"
            ]
          },
          "execution_count": 225,
          "metadata": {},
          "output_type": "execute_result"
        }
      ],
      "source": [
        "import krippendorff\n",
        "krippendorff.alpha(block_13[['R','S']].to_numpy().T)"
      ]
    },
    {
      "cell_type": "code",
      "execution_count": 226,
      "metadata": {
        "id": "yN8GykWi40TP"
      },
      "outputs": [],
      "source": [
        "import agreement\n",
        "from agreement.utils.kernels import linear_kernel\n",
        "\n",
        "from agreement.metrics import cohens_kappa, krippendorffs_alpha, scotts_pi\n",
        "from agreement.utils.transform import pivot_table_frequency\n"
      ]
    },
    {
      "cell_type": "code",
      "execution_count": 228,
      "metadata": {
        "id": "cFlx9Ymo40TP"
      },
      "outputs": [],
      "source": [
        "this_array = []\n",
        "for i,l in enumerate(block_13[['R','S']].to_numpy()):\n",
        "  for k in range(0,2):\n",
        "    this_array.append([i,k+1, l[k]])\n",
        "arr = np.array(this_array)\n",
        "questions_answers_table = pivot_table_frequency(arr[:, 0], arr[:, 2])"
      ]
    },
    {
      "attachments": {},
      "cell_type": "markdown",
      "metadata": {
        "id": "Qhm93AiU40TP"
      },
      "source": [
        "### Recomputing Cohen's kappa, krippendorff's alpha while calculating Scott's pi\n",
        "\n",
        "Scott's Pi is similar to Cohen's kappa, except it considered squared joint proportions to calculate inter-annotator reliability.\n",
        "\n",
        "In this case, Scott's pi is -0.14% different from Cohen's kappa"
      ]
    },
    {
      "cell_type": "code",
      "execution_count": 229,
      "metadata": {
        "id": "1TcIqpZn40TP"
      },
      "outputs": [],
      "source": [
        "users_answers_table = pivot_table_frequency(arr[:, 1], arr[:, 2])\n",
        "kappa = cohens_kappa(questions_answers_table, users_answers_table)\n",
        "weighted_kappa = cohens_kappa(questions_answers_table, users_answers_table, weights_kernel=linear_kernel)\n",
        "\n",
        "alpha = krippendorffs_alpha(questions_answers_table)\n",
        "pi = scotts_pi(questions_answers_table)"
      ]
    },
    {
      "cell_type": "code",
      "execution_count": 230,
      "metadata": {
        "colab": {
          "base_uri": "https://localhost:8080/"
        },
        "id": "OAPAp2Wi40TP",
        "outputId": "9540c17c-8ed6-4852-8bf4-a8ca9813bcff"
      },
      "outputs": [
        {
          "data": {
            "text/plain": [
              "(0.07528156490812091,\n",
              " 0.05969101123595467,\n",
              " -0.13276492082825814,\n",
              " -0.14007308160779527)"
            ]
          },
          "execution_count": 230,
          "metadata": {},
          "output_type": "execute_result"
        }
      ],
      "source": [
        "kappa, weighted_kappa, alpha, pi"
      ]
    },
    {
      "attachments": {},
      "cell_type": "markdown",
      "metadata": {
        "id": "sQkEwocn40TP"
      },
      "source": [
        "## Agreements based on Quantifier & Modified SVO"
      ]
    },
    {
      "cell_type": "code",
      "execution_count": null,
      "metadata": {
        "id": "_zNpdEW140TP"
      },
      "outputs": [],
      "source": [
        "u = [\"every\", \"always\", \"never\", \"everyone of\"]\n",
        "e = [\"some\", \"at least\", \"exactly one\", \"all but one\"]\n",
        "n = [\"not every\", \"no\", \"not\"]\n",
        "adj = [\"green\", \"happy\", \"sad\", \"good\", \"bad\", \"abnormally\", \"elegantly\", \"an elegant\", \"an abnormal\"]"
      ]
    },
    {
      "cell_type": "code",
      "execution_count": 231,
      "metadata": {
        "id": "XgeQLOtQ40TP"
      },
      "outputs": [],
      "source": [
        "def get_quantifier_type(x):\n",
        "  if x in u:\n",
        "    return \"Universal\"\n",
        "  elif x in e:\n",
        "    return \"Existential\"\n",
        "  elif x in n:\n",
        "    return \"Negation\"\n",
        "  elif x in adj:\n",
        "    return \"Adjectives/Adverbs\"\n",
        "  else:\n",
        "    return \"NONE\""
      ]
    },
    {
      "cell_type": "code",
      "execution_count": 232,
      "metadata": {
        "colab": {
          "base_uri": "https://localhost:8080/",
          "height": 423
        },
        "id": "VO7y0GP440TP",
        "outputId": "321ec511-51a6-4525-dc71-41f01449fce1"
      },
      "outputs": [
        {
          "data": {
            "text/html": [
              "\n",
              "  <div id=\"df-ce7481d2-d3bc-4422-9cad-338951e8ce83\">\n",
              "    <div class=\"colab-df-container\">\n",
              "      <div>\n",
              "<style scoped>\n",
              "    .dataframe tbody tr th:only-of-type {\n",
              "        vertical-align: middle;\n",
              "    }\n",
              "\n",
              "    .dataframe tbody tr th {\n",
              "        vertical-align: top;\n",
              "    }\n",
              "\n",
              "    .dataframe thead th {\n",
              "        text-align: right;\n",
              "    }\n",
              "</style>\n",
              "<table border=\"1\" class=\"dataframe\">\n",
              "  <thead>\n",
              "    <tr style=\"text-align: right;\">\n",
              "      <th></th>\n",
              "      <th>SICK_id</th>\n",
              "      <th>Premise</th>\n",
              "      <th>Hypothesis</th>\n",
              "      <th>Modifier</th>\n",
              "      <th>Premise/Hypothesis/Both</th>\n",
              "      <th>Part of Premise/Hypothesis Modified</th>\n",
              "      <th>R</th>\n",
              "      <th>S</th>\n",
              "      <th>Quantifier Type</th>\n",
              "    </tr>\n",
              "  </thead>\n",
              "  <tbody>\n",
              "    <tr>\n",
              "      <th>0</th>\n",
              "      <td>751</td>\n",
              "      <td>a classroom is full of students</td>\n",
              "      <td>a classroom is empty</td>\n",
              "      <td>NONE</td>\n",
              "      <td>NONE</td>\n",
              "      <td>NONE</td>\n",
              "      <td>3</td>\n",
              "      <td>3</td>\n",
              "      <td>NONE</td>\n",
              "    </tr>\n",
              "    <tr>\n",
              "      <th>1</th>\n",
              "      <td>751</td>\n",
              "      <td>every classroom is full of students</td>\n",
              "      <td>a classroom is empty</td>\n",
              "      <td>every</td>\n",
              "      <td>Premise</td>\n",
              "      <td>Subject</td>\n",
              "      <td>3</td>\n",
              "      <td>5</td>\n",
              "      <td>Universal</td>\n",
              "    </tr>\n",
              "    <tr>\n",
              "      <th>2</th>\n",
              "      <td>751</td>\n",
              "      <td>a classroom is full of students</td>\n",
              "      <td>every classroom is empty</td>\n",
              "      <td>every</td>\n",
              "      <td>Hypothesis</td>\n",
              "      <td>Subject</td>\n",
              "      <td>3</td>\n",
              "      <td>5</td>\n",
              "      <td>Universal</td>\n",
              "    </tr>\n",
              "    <tr>\n",
              "      <th>3</th>\n",
              "      <td>751</td>\n",
              "      <td>every classroom is full of students</td>\n",
              "      <td>every classroom is empty</td>\n",
              "      <td>every</td>\n",
              "      <td>Both</td>\n",
              "      <td>Subject</td>\n",
              "      <td>3</td>\n",
              "      <td>3</td>\n",
              "      <td>Universal</td>\n",
              "    </tr>\n",
              "    <tr>\n",
              "      <th>4</th>\n",
              "      <td>751</td>\n",
              "      <td>some classroom is full of students</td>\n",
              "      <td>a classroom is empty</td>\n",
              "      <td>some</td>\n",
              "      <td>Premise</td>\n",
              "      <td>Subject</td>\n",
              "      <td>5</td>\n",
              "      <td>5</td>\n",
              "      <td>Existential</td>\n",
              "    </tr>\n",
              "    <tr>\n",
              "      <th>...</th>\n",
              "      <td>...</td>\n",
              "      <td>...</td>\n",
              "      <td>...</td>\n",
              "      <td>...</td>\n",
              "      <td>...</td>\n",
              "      <td>...</td>\n",
              "      <td>...</td>\n",
              "      <td>...</td>\n",
              "      <td>...</td>\n",
              "    </tr>\n",
              "    <tr>\n",
              "      <th>73</th>\n",
              "      <td>751</td>\n",
              "      <td>A classroom is full of students</td>\n",
              "      <td>A classroom is sad empty</td>\n",
              "      <td>sad</td>\n",
              "      <td>Hypothesis</td>\n",
              "      <td>Object</td>\n",
              "      <td>3</td>\n",
              "      <td>5</td>\n",
              "      <td>Adjectives/Adverbs</td>\n",
              "    </tr>\n",
              "    <tr>\n",
              "      <th>74</th>\n",
              "      <td>751</td>\n",
              "      <td>A classroom is full of sad students</td>\n",
              "      <td>A classroom is sad empty</td>\n",
              "      <td>sad</td>\n",
              "      <td>Both</td>\n",
              "      <td>Object</td>\n",
              "      <td>3</td>\n",
              "      <td>5</td>\n",
              "      <td>Adjectives/Adverbs</td>\n",
              "    </tr>\n",
              "    <tr>\n",
              "      <th>75</th>\n",
              "      <td>751</td>\n",
              "      <td>A classroom is full of an elegant students</td>\n",
              "      <td>A classroom is empty</td>\n",
              "      <td>an elegant</td>\n",
              "      <td>Premise</td>\n",
              "      <td>Object</td>\n",
              "      <td>3</td>\n",
              "      <td>5</td>\n",
              "      <td>Adjectives/Adverbs</td>\n",
              "    </tr>\n",
              "    <tr>\n",
              "      <th>76</th>\n",
              "      <td>751</td>\n",
              "      <td>A classroom is full of students</td>\n",
              "      <td>A classroom is an elegant empty</td>\n",
              "      <td>an elegant</td>\n",
              "      <td>Hypothesis</td>\n",
              "      <td>Object</td>\n",
              "      <td>3</td>\n",
              "      <td>5</td>\n",
              "      <td>Adjectives/Adverbs</td>\n",
              "    </tr>\n",
              "    <tr>\n",
              "      <th>77</th>\n",
              "      <td>751</td>\n",
              "      <td>A classroom is full of an elegant students</td>\n",
              "      <td>A classroom is an elegant empty</td>\n",
              "      <td>an elegant</td>\n",
              "      <td>Both</td>\n",
              "      <td>Object</td>\n",
              "      <td>3</td>\n",
              "      <td>5</td>\n",
              "      <td>Adjectives/Adverbs</td>\n",
              "    </tr>\n",
              "  </tbody>\n",
              "</table>\n",
              "<p>78 rows × 9 columns</p>\n",
              "</div>\n",
              "      <button class=\"colab-df-convert\" onclick=\"convertToInteractive('df-ce7481d2-d3bc-4422-9cad-338951e8ce83')\"\n",
              "              title=\"Convert this dataframe to an interactive table.\"\n",
              "              style=\"display:none;\">\n",
              "        \n",
              "  <svg xmlns=\"http://www.w3.org/2000/svg\" height=\"24px\"viewBox=\"0 0 24 24\"\n",
              "       width=\"24px\">\n",
              "    <path d=\"M0 0h24v24H0V0z\" fill=\"none\"/>\n",
              "    <path d=\"M18.56 5.44l.94 2.06.94-2.06 2.06-.94-2.06-.94-.94-2.06-.94 2.06-2.06.94zm-11 1L8.5 8.5l.94-2.06 2.06-.94-2.06-.94L8.5 2.5l-.94 2.06-2.06.94zm10 10l.94 2.06.94-2.06 2.06-.94-2.06-.94-.94-2.06-.94 2.06-2.06.94z\"/><path d=\"M17.41 7.96l-1.37-1.37c-.4-.4-.92-.59-1.43-.59-.52 0-1.04.2-1.43.59L10.3 9.45l-7.72 7.72c-.78.78-.78 2.05 0 2.83L4 21.41c.39.39.9.59 1.41.59.51 0 1.02-.2 1.41-.59l7.78-7.78 2.81-2.81c.8-.78.8-2.07 0-2.86zM5.41 20L4 18.59l7.72-7.72 1.47 1.35L5.41 20z\"/>\n",
              "  </svg>\n",
              "      </button>\n",
              "      \n",
              "  <style>\n",
              "    .colab-df-container {\n",
              "      display:flex;\n",
              "      flex-wrap:wrap;\n",
              "      gap: 12px;\n",
              "    }\n",
              "\n",
              "    .colab-df-convert {\n",
              "      background-color: #E8F0FE;\n",
              "      border: none;\n",
              "      border-radius: 50%;\n",
              "      cursor: pointer;\n",
              "      display: none;\n",
              "      fill: #1967D2;\n",
              "      height: 32px;\n",
              "      padding: 0 0 0 0;\n",
              "      width: 32px;\n",
              "    }\n",
              "\n",
              "    .colab-df-convert:hover {\n",
              "      background-color: #E2EBFA;\n",
              "      box-shadow: 0px 1px 2px rgba(60, 64, 67, 0.3), 0px 1px 3px 1px rgba(60, 64, 67, 0.15);\n",
              "      fill: #174EA6;\n",
              "    }\n",
              "\n",
              "    [theme=dark] .colab-df-convert {\n",
              "      background-color: #3B4455;\n",
              "      fill: #D2E3FC;\n",
              "    }\n",
              "\n",
              "    [theme=dark] .colab-df-convert:hover {\n",
              "      background-color: #434B5C;\n",
              "      box-shadow: 0px 1px 3px 1px rgba(0, 0, 0, 0.15);\n",
              "      filter: drop-shadow(0px 1px 2px rgba(0, 0, 0, 0.3));\n",
              "      fill: #FFFFFF;\n",
              "    }\n",
              "  </style>\n",
              "\n",
              "      <script>\n",
              "        const buttonEl =\n",
              "          document.querySelector('#df-ce7481d2-d3bc-4422-9cad-338951e8ce83 button.colab-df-convert');\n",
              "        buttonEl.style.display =\n",
              "          google.colab.kernel.accessAllowed ? 'block' : 'none';\n",
              "\n",
              "        async function convertToInteractive(key) {\n",
              "          const element = document.querySelector('#df-ce7481d2-d3bc-4422-9cad-338951e8ce83');\n",
              "          const dataTable =\n",
              "            await google.colab.kernel.invokeFunction('convertToInteractive',\n",
              "                                                     [key], {});\n",
              "          if (!dataTable) return;\n",
              "\n",
              "          const docLinkHtml = 'Like what you see? Visit the ' +\n",
              "            '<a target=\"_blank\" href=https://colab.research.google.com/notebooks/data_table.ipynb>data table notebook</a>'\n",
              "            + ' to learn more about interactive tables.';\n",
              "          element.innerHTML = '';\n",
              "          dataTable['output_type'] = 'display_data';\n",
              "          await google.colab.output.renderOutput(dataTable, element);\n",
              "          const docLink = document.createElement('div');\n",
              "          docLink.innerHTML = docLinkHtml;\n",
              "          element.appendChild(docLink);\n",
              "        }\n",
              "      </script>\n",
              "    </div>\n",
              "  </div>\n",
              "  "
            ],
            "text/plain": [
              "    SICK_id                                     Premise  \\\n",
              "0       751             a classroom is full of students   \n",
              "1       751         every classroom is full of students   \n",
              "2       751             a classroom is full of students   \n",
              "3       751         every classroom is full of students   \n",
              "4       751          some classroom is full of students   \n",
              "..      ...                                         ...   \n",
              "73      751             A classroom is full of students   \n",
              "74      751         A classroom is full of sad students   \n",
              "75      751  A classroom is full of an elegant students   \n",
              "76      751             A classroom is full of students   \n",
              "77      751  A classroom is full of an elegant students   \n",
              "\n",
              "                         Hypothesis    Modifier Premise/Hypothesis/Both  \\\n",
              "0              a classroom is empty        NONE                    NONE   \n",
              "1              a classroom is empty       every                 Premise   \n",
              "2          every classroom is empty       every              Hypothesis   \n",
              "3          every classroom is empty       every                    Both   \n",
              "4              a classroom is empty        some                 Premise   \n",
              "..                              ...         ...                     ...   \n",
              "73         A classroom is sad empty         sad              Hypothesis   \n",
              "74         A classroom is sad empty         sad                    Both   \n",
              "75             A classroom is empty  an elegant                 Premise   \n",
              "76  A classroom is an elegant empty  an elegant              Hypothesis   \n",
              "77  A classroom is an elegant empty  an elegant                    Both   \n",
              "\n",
              "   Part of Premise/Hypothesis Modified  R  S     Quantifier Type  \n",
              "0                                 NONE  3  3                NONE  \n",
              "1                              Subject  3  5           Universal  \n",
              "2                              Subject  3  5           Universal  \n",
              "3                              Subject  3  3           Universal  \n",
              "4                              Subject  5  5         Existential  \n",
              "..                                 ... .. ..                 ...  \n",
              "73                              Object  3  5  Adjectives/Adverbs  \n",
              "74                              Object  3  5  Adjectives/Adverbs  \n",
              "75                              Object  3  5  Adjectives/Adverbs  \n",
              "76                              Object  3  5  Adjectives/Adverbs  \n",
              "77                              Object  3  5  Adjectives/Adverbs  \n",
              "\n",
              "[78 rows x 9 columns]"
            ]
          },
          "execution_count": 232,
          "metadata": {},
          "output_type": "execute_result"
        }
      ],
      "source": [
        "block_13['Quantifier Type'] = block_13['Modifier'].apply(lambda x: get_quantifier_type(x)  )\n",
        "block_13"
      ]
    },
    {
      "cell_type": "code",
      "execution_count": 234,
      "metadata": {
        "colab": {
          "base_uri": "https://localhost:8080/"
        },
        "id": "2hpoqc1q40TQ",
        "outputId": "a213a35d-fc80-4f54-fc92-41d7e7072d24"
      },
      "outputs": [
        {
          "name": "stdout",
          "output_type": "stream",
          "text": [
            "Best : R_S\n",
            "\n",
            "Rank  Name   Class-Score       Overall-Score\n",
            "1     R_S    0.18833           0.21944\n",
            "2     S_R    0.17167           0.21944\n",
            "\n"
          ]
        },
        {
          "name": "stderr",
          "output_type": "stream",
          "text": [
            "/usr/local/lib/python3.8/dist-packages/pycm/pycm_util.py:401: RuntimeWarning: The classes is neither a list nor None so it'll be ignored.\n",
            "  warn(CLASSES_TYPE_WARNING, RuntimeWarning)\n"
          ]
        }
      ],
      "source": [
        "cm_one_way = ConfusionMatrix(actual_vector=block_13['R'].to_list(), predict_vector=block_13['S'].to_list(), classes=lmap)\n",
        "cm_two_way = ConfusionMatrix(actual_vector=block_13['S'].to_list(), predict_vector=block_13['R'].to_list(), classes=lmap)\n",
        "cm_one_way.relabel(mapping= {k:lmap[k] for k in cm_one_way.classes})\n",
        "cm_two_way.relabel(mapping= {k:lmap[k] for k in cm_two_way.classes})\n",
        "cp = Compare({\"R_S\":cm_one_way,\"S_R\":cm_two_way})\n",
        "print(cp)"
      ]
    },
    {
      "cell_type": "code",
      "execution_count": 235,
      "metadata": {
        "colab": {
          "base_uri": "https://localhost:8080/"
        },
        "id": "WHyRipnl40TQ",
        "outputId": "630aae38-5706-4b4d-d589-b57657010737"
      },
      "outputs": [
        {
          "data": {
            "text/plain": [
              "{1: 'FE',\n",
              " 2: 'RE',\n",
              " 3: 'Negation',\n",
              " 4: 'Neutral',\n",
              " 5: 'Alternation',\n",
              " 6: 'Equivalence',\n",
              " 7: 'Cover'}"
            ]
          },
          "execution_count": 235,
          "metadata": {},
          "output_type": "execute_result"
        }
      ],
      "source": [
        "lmap"
      ]
    },
    {
      "cell_type": "code",
      "execution_count": 236,
      "metadata": {
        "colab": {
          "base_uri": "https://localhost:8080/"
        },
        "id": "Dm_3C8cs40TQ",
        "outputId": "fd8fab74-12b7-40f2-bfa9-7546765b9f2e"
      },
      "outputs": [
        {
          "data": {
            "text/plain": [
              "(pycm.ConfusionMatrix(classes: ['Alternation', 'Cover', 'FE', 'Negation', 'Neutral']),\n",
              " ['R_S', 'S_R'],\n",
              " 'R_S')"
            ]
          },
          "execution_count": 236,
          "metadata": {},
          "output_type": "execute_result"
        }
      ],
      "source": [
        "cp.best, cp.sorted, cp.best_name"
      ]
    },
    {
      "cell_type": "code",
      "execution_count": 237,
      "metadata": {
        "colab": {
          "base_uri": "https://localhost:8080/"
        },
        "id": "O1GAWV8B40TQ",
        "outputId": "51a988fe-5853-44dd-87f0-0439965d07e1"
      },
      "outputs": [
        {
          "data": {
            "text/plain": [
              "(['Alternation', 'Cover', 'FE', 'Negation', 'Neutral'],\n",
              " ['Alternation', 'Cover', 'FE', 'Negation', 'Neutral'])"
            ]
          },
          "execution_count": 237,
          "metadata": {},
          "output_type": "execute_result"
        }
      ],
      "source": [
        "cm_one_way.classes, cm_two_way.classes"
      ]
    },
    {
      "attachments": {},
      "cell_type": "markdown",
      "metadata": {
        "id": "w9_VhKA540TQ"
      },
      "source": [
        "### Seeing the Confusion matrix density plots for Max agreement between each pair of annotators."
      ]
    },
    {
      "cell_type": "code",
      "execution_count": 238,
      "metadata": {
        "colab": {
          "base_uri": "https://localhost:8080/",
          "height": 791
        },
        "id": "qZBbqMqR40TQ",
        "outputId": "6cdb0838-50e3-4a4a-a678-10411cbc8fa5"
      },
      "outputs": [
        {
          "data": {
            "image/png": "[encoded data removed]",
            "text/plain": [
              "<Figure size 576x432 with 2 Axes>"
            ]
          },
          "metadata": {
            "needs_background": "light"
          },
          "output_type": "display_data"
        },
        {
          "data": {
            "image/png": "[encoded data removed]",
            "text/plain": [
              "<Figure size 576x432 with 2 Axes>"
            ]
          },
          "metadata": {
            "needs_background": "light"
          },
          "output_type": "display_data"
        }
      ],
      "source": [
        "from matplotlib import pyplot as plt\n",
        "plt.rcParams[\"figure.figsize\"] = (8,6)\n",
        "cm_one_way.plot(cmap=plt.cm.Blues,number_label=True,plot_lib=\"seaborn\")\n",
        "plt.title(\"Annotator 3 & 5\")\n",
        "plt.savefig('blocks_751_ann35.png', dpi=100)\n",
        "cm_two_way.plot(cmap=plt.cm.Blues,number_label=True,plot_lib=\"seaborn\")\n",
        "plt.title(\"Annotator 5 & 3\")\n",
        "plt.savefig('blocks_751_ann53.png', dpi=100)"
      ]
    },
    {
      "cell_type": "code",
      "execution_count": 250,
      "metadata": {
        "colab": {
          "base_uri": "https://localhost:8080/",
          "height": 569
        },
        "id": "guLdcgXR40TQ",
        "outputId": "0c1caa1e-5423-45cc-c3ef-6de5b8b34556"
      },
      "outputs": [
        {
          "name": "stdout",
          "output_type": "stream",
          "text": [
            "****** Counts for Modified SUBJ/VERB/OBJECT and annotators 3 & 5 ******** \n"
          ]
        },
        {
          "data": {
            "text/html": [
              "\n",
              "  <div id=\"df-7590bdb1-08be-4eba-8b7e-224744c00535\">\n",
              "    <div class=\"colab-df-container\">\n",
              "      <div>\n",
              "<style scoped>\n",
              "    .dataframe tbody tr th:only-of-type {\n",
              "        vertical-align: middle;\n",
              "    }\n",
              "\n",
              "    .dataframe tbody tr th {\n",
              "        vertical-align: top;\n",
              "    }\n",
              "\n",
              "    .dataframe thead th {\n",
              "        text-align: right;\n",
              "    }\n",
              "</style>\n",
              "<table border=\"1\" class=\"dataframe\">\n",
              "  <thead>\n",
              "    <tr style=\"text-align: right;\">\n",
              "      <th></th>\n",
              "      <th>Modified SUBJ/VERB/OBJECT</th>\n",
              "      <th>R</th>\n",
              "      <th>S</th>\n",
              "      <th>Count</th>\n",
              "    </tr>\n",
              "  </thead>\n",
              "  <tbody>\n",
              "    <tr>\n",
              "      <th>1</th>\n",
              "      <td>Object</td>\n",
              "      <td>Negation</td>\n",
              "      <td>Alternation</td>\n",
              "      <td>21</td>\n",
              "    </tr>\n",
              "    <tr>\n",
              "      <th>9</th>\n",
              "      <td>Subject</td>\n",
              "      <td>Neutral</td>\n",
              "      <td>Alternation</td>\n",
              "      <td>14</td>\n",
              "    </tr>\n",
              "    <tr>\n",
              "      <th>13</th>\n",
              "      <td>Verb</td>\n",
              "      <td>Negation</td>\n",
              "      <td>Alternation</td>\n",
              "      <td>9</td>\n",
              "    </tr>\n",
              "    <tr>\n",
              "      <th>2</th>\n",
              "      <td>Subject</td>\n",
              "      <td>Alternation</td>\n",
              "      <td>Alternation</td>\n",
              "      <td>7</td>\n",
              "    </tr>\n",
              "    <tr>\n",
              "      <th>7</th>\n",
              "      <td>Subject</td>\n",
              "      <td>Negation</td>\n",
              "      <td>Alternation</td>\n",
              "      <td>5</td>\n",
              "    </tr>\n",
              "    <tr>\n",
              "      <th>8</th>\n",
              "      <td>Subject</td>\n",
              "      <td>Negation</td>\n",
              "      <td>Negation</td>\n",
              "      <td>4</td>\n",
              "    </tr>\n",
              "    <tr>\n",
              "      <th>0</th>\n",
              "      <td>NONE</td>\n",
              "      <td>Negation</td>\n",
              "      <td>Negation</td>\n",
              "      <td>3</td>\n",
              "    </tr>\n",
              "    <tr>\n",
              "      <th>11</th>\n",
              "      <td>Subject</td>\n",
              "      <td>Neutral</td>\n",
              "      <td>Neutral</td>\n",
              "      <td>3</td>\n",
              "    </tr>\n",
              "    <tr>\n",
              "      <th>12</th>\n",
              "      <td>Verb</td>\n",
              "      <td>FE</td>\n",
              "      <td>Neutral</td>\n",
              "      <td>3</td>\n",
              "    </tr>\n",
              "    <tr>\n",
              "      <th>6</th>\n",
              "      <td>Subject</td>\n",
              "      <td>FE</td>\n",
              "      <td>Neutral</td>\n",
              "      <td>2</td>\n",
              "    </tr>\n",
              "    <tr>\n",
              "      <th>14</th>\n",
              "      <td>Verb</td>\n",
              "      <td>Negation</td>\n",
              "      <td>Neutral</td>\n",
              "      <td>2</td>\n",
              "    </tr>\n",
              "    <tr>\n",
              "      <th>3</th>\n",
              "      <td>Subject</td>\n",
              "      <td>Cover</td>\n",
              "      <td>Neutral</td>\n",
              "      <td>1</td>\n",
              "    </tr>\n",
              "    <tr>\n",
              "      <th>4</th>\n",
              "      <td>Subject</td>\n",
              "      <td>FE</td>\n",
              "      <td>Alternation</td>\n",
              "      <td>1</td>\n",
              "    </tr>\n",
              "    <tr>\n",
              "      <th>5</th>\n",
              "      <td>Subject</td>\n",
              "      <td>FE</td>\n",
              "      <td>Negation</td>\n",
              "      <td>1</td>\n",
              "    </tr>\n",
              "    <tr>\n",
              "      <th>10</th>\n",
              "      <td>Subject</td>\n",
              "      <td>Neutral</td>\n",
              "      <td>Negation</td>\n",
              "      <td>1</td>\n",
              "    </tr>\n",
              "    <tr>\n",
              "      <th>15</th>\n",
              "      <td>Verb</td>\n",
              "      <td>Neutral</td>\n",
              "      <td>Neutral</td>\n",
              "      <td>1</td>\n",
              "    </tr>\n",
              "  </tbody>\n",
              "</table>\n",
              "</div>\n",
              "      <button class=\"colab-df-convert\" onclick=\"convertToInteractive('df-7590bdb1-08be-4eba-8b7e-224744c00535')\"\n",
              "              title=\"Convert this dataframe to an interactive table.\"\n",
              "              style=\"display:none;\">\n",
              "        \n",
              "  <svg xmlns=\"http://www.w3.org/2000/svg\" height=\"24px\"viewBox=\"0 0 24 24\"\n",
              "       width=\"24px\">\n",
              "    <path d=\"M0 0h24v24H0V0z\" fill=\"none\"/>\n",
              "    <path d=\"M18.56 5.44l.94 2.06.94-2.06 2.06-.94-2.06-.94-.94-2.06-.94 2.06-2.06.94zm-11 1L8.5 8.5l.94-2.06 2.06-.94-2.06-.94L8.5 2.5l-.94 2.06-2.06.94zm10 10l.94 2.06.94-2.06 2.06-.94-2.06-.94-.94-2.06-.94 2.06-2.06.94z\"/><path d=\"M17.41 7.96l-1.37-1.37c-.4-.4-.92-.59-1.43-.59-.52 0-1.04.2-1.43.59L10.3 9.45l-7.72 7.72c-.78.78-.78 2.05 0 2.83L4 21.41c.39.39.9.59 1.41.59.51 0 1.02-.2 1.41-.59l7.78-7.78 2.81-2.81c.8-.78.8-2.07 0-2.86zM5.41 20L4 18.59l7.72-7.72 1.47 1.35L5.41 20z\"/>\n",
              "  </svg>\n",
              "      </button>\n",
              "      \n",
              "  <style>\n",
              "    .colab-df-container {\n",
              "      display:flex;\n",
              "      flex-wrap:wrap;\n",
              "      gap: 12px;\n",
              "    }\n",
              "\n",
              "    .colab-df-convert {\n",
              "      background-color: #E8F0FE;\n",
              "      border: none;\n",
              "      border-radius: 50%;\n",
              "      cursor: pointer;\n",
              "      display: none;\n",
              "      fill: #1967D2;\n",
              "      height: 32px;\n",
              "      padding: 0 0 0 0;\n",
              "      width: 32px;\n",
              "    }\n",
              "\n",
              "    .colab-df-convert:hover {\n",
              "      background-color: #E2EBFA;\n",
              "      box-shadow: 0px 1px 2px rgba(60, 64, 67, 0.3), 0px 1px 3px 1px rgba(60, 64, 67, 0.15);\n",
              "      fill: #174EA6;\n",
              "    }\n",
              "\n",
              "    [theme=dark] .colab-df-convert {\n",
              "      background-color: #3B4455;\n",
              "      fill: #D2E3FC;\n",
              "    }\n",
              "\n",
              "    [theme=dark] .colab-df-convert:hover {\n",
              "      background-color: #434B5C;\n",
              "      box-shadow: 0px 1px 3px 1px rgba(0, 0, 0, 0.15);\n",
              "      filter: drop-shadow(0px 1px 2px rgba(0, 0, 0, 0.3));\n",
              "      fill: #FFFFFF;\n",
              "    }\n",
              "  </style>\n",
              "\n",
              "      <script>\n",
              "        const buttonEl =\n",
              "          document.querySelector('#df-7590bdb1-08be-4eba-8b7e-224744c00535 button.colab-df-convert');\n",
              "        buttonEl.style.display =\n",
              "          google.colab.kernel.accessAllowed ? 'block' : 'none';\n",
              "\n",
              "        async function convertToInteractive(key) {\n",
              "          const element = document.querySelector('#df-7590bdb1-08be-4eba-8b7e-224744c00535');\n",
              "          const dataTable =\n",
              "            await google.colab.kernel.invokeFunction('convertToInteractive',\n",
              "                                                     [key], {});\n",
              "          if (!dataTable) return;\n",
              "\n",
              "          const docLinkHtml = 'Like what you see? Visit the ' +\n",
              "            '<a target=\"_blank\" href=https://colab.research.google.com/notebooks/data_table.ipynb>data table notebook</a>'\n",
              "            + ' to learn more about interactive tables.';\n",
              "          element.innerHTML = '';\n",
              "          dataTable['output_type'] = 'display_data';\n",
              "          await google.colab.output.renderOutput(dataTable, element);\n",
              "          const docLink = document.createElement('div');\n",
              "          docLink.innerHTML = docLinkHtml;\n",
              "          element.appendChild(docLink);\n",
              "        }\n",
              "      </script>\n",
              "    </div>\n",
              "  </div>\n",
              "  "
            ],
            "text/plain": [
              "   Modified SUBJ/VERB/OBJECT            R            S  Count\n",
              "1                     Object     Negation  Alternation     21\n",
              "9                    Subject      Neutral  Alternation     14\n",
              "13                      Verb     Negation  Alternation      9\n",
              "2                    Subject  Alternation  Alternation      7\n",
              "7                    Subject     Negation  Alternation      5\n",
              "8                    Subject     Negation     Negation      4\n",
              "0                       NONE     Negation     Negation      3\n",
              "11                   Subject      Neutral      Neutral      3\n",
              "12                      Verb           FE      Neutral      3\n",
              "6                    Subject           FE      Neutral      2\n",
              "14                      Verb     Negation      Neutral      2\n",
              "3                    Subject        Cover      Neutral      1\n",
              "4                    Subject           FE  Alternation      1\n",
              "5                    Subject           FE     Negation      1\n",
              "10                   Subject      Neutral     Negation      1\n",
              "15                      Verb      Neutral      Neutral      1"
            ]
          },
          "execution_count": 250,
          "metadata": {},
          "output_type": "execute_result"
        }
      ],
      "source": [
        "block_13 = block_13.rename(columns={'Part of Premise/Hypothesis Modified':'Modified SUBJ/VERB/OBJECT'})\n",
        "res = block_13.groupby(['Modified SUBJ/VERB/OBJECT', 'R', 'S']).count().reset_index()[[ 'Quantifier Type', 'Modified SUBJ/VERB/OBJECT', 'R', 'S','Premise/Hypothesis/Both']]\n",
        "r = res.sort_values(by='Premise/Hypothesis/Both',ascending=False)[['Modified SUBJ/VERB/OBJECT','R', 'S','Quantifier Type']]\n",
        "r= r.rename(columns={ 'Quantifier Type':'Count'})\n",
        "print(\"****** Counts for Modified SUBJ/VERB/OBJECT and annotators 3 & 5 ******** \")\n",
        "r"
      ]
    },
    {
      "cell_type": "code",
      "execution_count": 251,
      "metadata": {
        "id": "0gX8iaRsa07I"
      },
      "outputs": [],
      "source": [
        "r.to_excel(\"block_751_35_modifier.xlsx\")"
      ]
    },
    {
      "cell_type": "code",
      "execution_count": 241,
      "metadata": {
        "colab": {
          "base_uri": "https://localhost:8080/"
        },
        "id": "3OL0W7iz40TQ",
        "outputId": "507be9fd-f3fc-4b1e-9c4f-ca40a1c8030a"
      },
      "outputs": [
        {
          "data": {
            "text/plain": [
              "Adjectives/Adverbs    42\n",
              "Universal             12\n",
              "Existential           12\n",
              "Negation               9\n",
              "NONE                   3\n",
              "Name: Quantifier Type, dtype: int64"
            ]
          },
          "execution_count": 241,
          "metadata": {},
          "output_type": "execute_result"
        }
      ],
      "source": [
        "block_13['Quantifier Type'].value_counts()"
      ]
    },
    {
      "cell_type": "code",
      "execution_count": 242,
      "metadata": {
        "colab": {
          "base_uri": "https://localhost:8080/"
        },
        "id": "kH4DzYpk40TR",
        "outputId": "89c719db-0080-4334-b1f9-0237a148dbec"
      },
      "outputs": [
        {
          "data": {
            "text/plain": [
              "Subject    39\n",
              "Object     21\n",
              "Verb       15\n",
              "NONE        3\n",
              "Name: Modified SUBJ/VERB/OBJECT, dtype: int64"
            ]
          },
          "execution_count": 242,
          "metadata": {},
          "output_type": "execute_result"
        }
      ],
      "source": [
        "block_13['Modified SUBJ/VERB/OBJECT'].value_counts()"
      ]
    },
    {
      "cell_type": "code",
      "execution_count": 244,
      "metadata": {
        "colab": {
          "base_uri": "https://localhost:8080/",
          "height": 394
        },
        "id": "Kk0QsPzJ40TR",
        "outputId": "1d9e11a8-8186-480e-9c4f-41be1dd046e8"
      },
      "outputs": [
        {
          "data": {
            "text/html": [
              "\n",
              "  <div id=\"df-14e8703f-a164-43ff-8247-93af5283486b\">\n",
              "    <div class=\"colab-df-container\">\n",
              "      <div>\n",
              "<style scoped>\n",
              "    .dataframe tbody tr th:only-of-type {\n",
              "        vertical-align: middle;\n",
              "    }\n",
              "\n",
              "    .dataframe tbody tr th {\n",
              "        vertical-align: top;\n",
              "    }\n",
              "\n",
              "    .dataframe thead th {\n",
              "        text-align: right;\n",
              "    }\n",
              "</style>\n",
              "<table border=\"1\" class=\"dataframe\">\n",
              "  <thead>\n",
              "    <tr style=\"text-align: right;\">\n",
              "      <th></th>\n",
              "      <th>R</th>\n",
              "      <th>S</th>\n",
              "      <th>Count</th>\n",
              "    </tr>\n",
              "  </thead>\n",
              "  <tbody>\n",
              "    <tr>\n",
              "      <th>5</th>\n",
              "      <td>3</td>\n",
              "      <td>5</td>\n",
              "      <td>35</td>\n",
              "    </tr>\n",
              "    <tr>\n",
              "      <th>8</th>\n",
              "      <td>4</td>\n",
              "      <td>5</td>\n",
              "      <td>14</td>\n",
              "    </tr>\n",
              "    <tr>\n",
              "      <th>3</th>\n",
              "      <td>3</td>\n",
              "      <td>3</td>\n",
              "      <td>7</td>\n",
              "    </tr>\n",
              "    <tr>\n",
              "      <th>9</th>\n",
              "      <td>5</td>\n",
              "      <td>5</td>\n",
              "      <td>7</td>\n",
              "    </tr>\n",
              "    <tr>\n",
              "      <th>1</th>\n",
              "      <td>1</td>\n",
              "      <td>4</td>\n",
              "      <td>5</td>\n",
              "    </tr>\n",
              "    <tr>\n",
              "      <th>7</th>\n",
              "      <td>4</td>\n",
              "      <td>4</td>\n",
              "      <td>4</td>\n",
              "    </tr>\n",
              "    <tr>\n",
              "      <th>4</th>\n",
              "      <td>3</td>\n",
              "      <td>4</td>\n",
              "      <td>2</td>\n",
              "    </tr>\n",
              "    <tr>\n",
              "      <th>0</th>\n",
              "      <td>1</td>\n",
              "      <td>3</td>\n",
              "      <td>1</td>\n",
              "    </tr>\n",
              "    <tr>\n",
              "      <th>2</th>\n",
              "      <td>1</td>\n",
              "      <td>5</td>\n",
              "      <td>1</td>\n",
              "    </tr>\n",
              "    <tr>\n",
              "      <th>6</th>\n",
              "      <td>4</td>\n",
              "      <td>3</td>\n",
              "      <td>1</td>\n",
              "    </tr>\n",
              "    <tr>\n",
              "      <th>10</th>\n",
              "      <td>7</td>\n",
              "      <td>4</td>\n",
              "      <td>1</td>\n",
              "    </tr>\n",
              "  </tbody>\n",
              "</table>\n",
              "</div>\n",
              "      <button class=\"colab-df-convert\" onclick=\"convertToInteractive('df-14e8703f-a164-43ff-8247-93af5283486b')\"\n",
              "              title=\"Convert this dataframe to an interactive table.\"\n",
              "              style=\"display:none;\">\n",
              "        \n",
              "  <svg xmlns=\"http://www.w3.org/2000/svg\" height=\"24px\"viewBox=\"0 0 24 24\"\n",
              "       width=\"24px\">\n",
              "    <path d=\"M0 0h24v24H0V0z\" fill=\"none\"/>\n",
              "    <path d=\"M18.56 5.44l.94 2.06.94-2.06 2.06-.94-2.06-.94-.94-2.06-.94 2.06-2.06.94zm-11 1L8.5 8.5l.94-2.06 2.06-.94-2.06-.94L8.5 2.5l-.94 2.06-2.06.94zm10 10l.94 2.06.94-2.06 2.06-.94-2.06-.94-.94-2.06-.94 2.06-2.06.94z\"/><path d=\"M17.41 7.96l-1.37-1.37c-.4-.4-.92-.59-1.43-.59-.52 0-1.04.2-1.43.59L10.3 9.45l-7.72 7.72c-.78.78-.78 2.05 0 2.83L4 21.41c.39.39.9.59 1.41.59.51 0 1.02-.2 1.41-.59l7.78-7.78 2.81-2.81c.8-.78.8-2.07 0-2.86zM5.41 20L4 18.59l7.72-7.72 1.47 1.35L5.41 20z\"/>\n",
              "  </svg>\n",
              "      </button>\n",
              "      \n",
              "  <style>\n",
              "    .colab-df-container {\n",
              "      display:flex;\n",
              "      flex-wrap:wrap;\n",
              "      gap: 12px;\n",
              "    }\n",
              "\n",
              "    .colab-df-convert {\n",
              "      background-color: #E8F0FE;\n",
              "      border: none;\n",
              "      border-radius: 50%;\n",
              "      cursor: pointer;\n",
              "      display: none;\n",
              "      fill: #1967D2;\n",
              "      height: 32px;\n",
              "      padding: 0 0 0 0;\n",
              "      width: 32px;\n",
              "    }\n",
              "\n",
              "    .colab-df-convert:hover {\n",
              "      background-color: #E2EBFA;\n",
              "      box-shadow: 0px 1px 2px rgba(60, 64, 67, 0.3), 0px 1px 3px 1px rgba(60, 64, 67, 0.15);\n",
              "      fill: #174EA6;\n",
              "    }\n",
              "\n",
              "    [theme=dark] .colab-df-convert {\n",
              "      background-color: #3B4455;\n",
              "      fill: #D2E3FC;\n",
              "    }\n",
              "\n",
              "    [theme=dark] .colab-df-convert:hover {\n",
              "      background-color: #434B5C;\n",
              "      box-shadow: 0px 1px 3px 1px rgba(0, 0, 0, 0.15);\n",
              "      filter: drop-shadow(0px 1px 2px rgba(0, 0, 0, 0.3));\n",
              "      fill: #FFFFFF;\n",
              "    }\n",
              "  </style>\n",
              "\n",
              "      <script>\n",
              "        const buttonEl =\n",
              "          document.querySelector('#df-14e8703f-a164-43ff-8247-93af5283486b button.colab-df-convert');\n",
              "        buttonEl.style.display =\n",
              "          google.colab.kernel.accessAllowed ? 'block' : 'none';\n",
              "\n",
              "        async function convertToInteractive(key) {\n",
              "          const element = document.querySelector('#df-14e8703f-a164-43ff-8247-93af5283486b');\n",
              "          const dataTable =\n",
              "            await google.colab.kernel.invokeFunction('convertToInteractive',\n",
              "                                                     [key], {});\n",
              "          if (!dataTable) return;\n",
              "\n",
              "          const docLinkHtml = 'Like what you see? Visit the ' +\n",
              "            '<a target=\"_blank\" href=https://colab.research.google.com/notebooks/data_table.ipynb>data table notebook</a>'\n",
              "            + ' to learn more about interactive tables.';\n",
              "          element.innerHTML = '';\n",
              "          dataTable['output_type'] = 'display_data';\n",
              "          await google.colab.output.renderOutput(dataTable, element);\n",
              "          const docLink = document.createElement('div');\n",
              "          docLink.innerHTML = docLinkHtml;\n",
              "          element.appendChild(docLink);\n",
              "        }\n",
              "      </script>\n",
              "    </div>\n",
              "  </div>\n",
              "  "
            ],
            "text/plain": [
              "    R  S  Count\n",
              "5   3  5     35\n",
              "8   4  5     14\n",
              "3   3  3      7\n",
              "9   5  5      7\n",
              "1   1  4      5\n",
              "7   4  4      4\n",
              "4   3  4      2\n",
              "0   1  3      1\n",
              "2   1  5      1\n",
              "6   4  3      1\n",
              "10  7  4      1"
            ]
          },
          "execution_count": 244,
          "metadata": {},
          "output_type": "execute_result"
        }
      ],
      "source": [
        "r = block_13.groupby(['R', 'S',]).count().reset_index()[['R', 'S',\t'Premise']]\n",
        "r.rename(columns={'Premise':\"Count\"}).sort_values(by='Count', ascending=False)"
      ]
    },
    {
      "cell_type": "code",
      "execution_count": 245,
      "metadata": {
        "id": "_DL-9SHF40TR"
      },
      "outputs": [],
      "source": [
        "rev_label_map = {v:k for k,v in label_map.items()}\n",
        "for i in ['R', 'S']:\n",
        "  block_13[i] = block_13[i].map(rev_label_map)"
      ]
    },
    {
      "cell_type": "code",
      "execution_count": 247,
      "metadata": {
        "colab": {
          "base_uri": "https://localhost:8080/",
          "height": 443
        },
        "id": "sKalC2Q-40TR",
        "outputId": "daa036c7-3c49-457a-e287-874afb3ecdd3"
      },
      "outputs": [
        {
          "name": "stdout",
          "output_type": "stream",
          "text": [
            "****** The confused predictions for each modifier for two annotators are: ******\n"
          ]
        },
        {
          "data": {
            "text/html": [
              "\n",
              "  <div id=\"df-5e0c9e0c-b523-4abf-8ee0-6cfed00ab10c\">\n",
              "    <div class=\"colab-df-container\">\n",
              "      <div>\n",
              "<style scoped>\n",
              "    .dataframe tbody tr th:only-of-type {\n",
              "        vertical-align: middle;\n",
              "    }\n",
              "\n",
              "    .dataframe tbody tr th {\n",
              "        vertical-align: top;\n",
              "    }\n",
              "\n",
              "    .dataframe thead th {\n",
              "        text-align: right;\n",
              "    }\n",
              "</style>\n",
              "<table border=\"1\" class=\"dataframe\">\n",
              "  <thead>\n",
              "    <tr style=\"text-align: right;\">\n",
              "      <th></th>\n",
              "      <th>Quantifier Type</th>\n",
              "      <th>R</th>\n",
              "      <th>S</th>\n",
              "      <th>Counts</th>\n",
              "    </tr>\n",
              "  </thead>\n",
              "  <tbody>\n",
              "    <tr>\n",
              "      <th>0</th>\n",
              "      <td>Adjectives/Adverbs</td>\n",
              "      <td>Negation</td>\n",
              "      <td>Alternation</td>\n",
              "      <td>30</td>\n",
              "    </tr>\n",
              "    <tr>\n",
              "      <th>1</th>\n",
              "      <td>Adjectives/Adverbs</td>\n",
              "      <td>Neutral</td>\n",
              "      <td>Alternation</td>\n",
              "      <td>12</td>\n",
              "    </tr>\n",
              "    <tr>\n",
              "      <th>13</th>\n",
              "      <td>Universal</td>\n",
              "      <td>Negation</td>\n",
              "      <td>Alternation</td>\n",
              "      <td>5</td>\n",
              "    </tr>\n",
              "    <tr>\n",
              "      <th>9</th>\n",
              "      <td>Negation</td>\n",
              "      <td>FE</td>\n",
              "      <td>Neutral</td>\n",
              "      <td>4</td>\n",
              "    </tr>\n",
              "    <tr>\n",
              "      <th>5</th>\n",
              "      <td>Existential</td>\n",
              "      <td>Neutral</td>\n",
              "      <td>Alternation</td>\n",
              "      <td>2</td>\n",
              "    </tr>\n",
              "    <tr>\n",
              "      <th>3</th>\n",
              "      <td>Existential</td>\n",
              "      <td>FE</td>\n",
              "      <td>Alternation</td>\n",
              "      <td>1</td>\n",
              "    </tr>\n",
              "    <tr>\n",
              "      <th>4</th>\n",
              "      <td>Existential</td>\n",
              "      <td>FE</td>\n",
              "      <td>Negation</td>\n",
              "      <td>1</td>\n",
              "    </tr>\n",
              "    <tr>\n",
              "      <th>6</th>\n",
              "      <td>Existential</td>\n",
              "      <td>Neutral</td>\n",
              "      <td>Negation</td>\n",
              "      <td>1</td>\n",
              "    </tr>\n",
              "    <tr>\n",
              "      <th>8</th>\n",
              "      <td>Negation</td>\n",
              "      <td>Cover</td>\n",
              "      <td>Neutral</td>\n",
              "      <td>1</td>\n",
              "    </tr>\n",
              "    <tr>\n",
              "      <th>10</th>\n",
              "      <td>Negation</td>\n",
              "      <td>Negation</td>\n",
              "      <td>Neutral</td>\n",
              "      <td>1</td>\n",
              "    </tr>\n",
              "    <tr>\n",
              "      <th>12</th>\n",
              "      <td>Universal</td>\n",
              "      <td>FE</td>\n",
              "      <td>Neutral</td>\n",
              "      <td>1</td>\n",
              "    </tr>\n",
              "    <tr>\n",
              "      <th>15</th>\n",
              "      <td>Universal</td>\n",
              "      <td>Negation</td>\n",
              "      <td>Neutral</td>\n",
              "      <td>1</td>\n",
              "    </tr>\n",
              "  </tbody>\n",
              "</table>\n",
              "</div>\n",
              "      <button class=\"colab-df-convert\" onclick=\"convertToInteractive('df-5e0c9e0c-b523-4abf-8ee0-6cfed00ab10c')\"\n",
              "              title=\"Convert this dataframe to an interactive table.\"\n",
              "              style=\"display:none;\">\n",
              "        \n",
              "  <svg xmlns=\"http://www.w3.org/2000/svg\" height=\"24px\"viewBox=\"0 0 24 24\"\n",
              "       width=\"24px\">\n",
              "    <path d=\"M0 0h24v24H0V0z\" fill=\"none\"/>\n",
              "    <path d=\"M18.56 5.44l.94 2.06.94-2.06 2.06-.94-2.06-.94-.94-2.06-.94 2.06-2.06.94zm-11 1L8.5 8.5l.94-2.06 2.06-.94-2.06-.94L8.5 2.5l-.94 2.06-2.06.94zm10 10l.94 2.06.94-2.06 2.06-.94-2.06-.94-.94-2.06-.94 2.06-2.06.94z\"/><path d=\"M17.41 7.96l-1.37-1.37c-.4-.4-.92-.59-1.43-.59-.52 0-1.04.2-1.43.59L10.3 9.45l-7.72 7.72c-.78.78-.78 2.05 0 2.83L4 21.41c.39.39.9.59 1.41.59.51 0 1.02-.2 1.41-.59l7.78-7.78 2.81-2.81c.8-.78.8-2.07 0-2.86zM5.41 20L4 18.59l7.72-7.72 1.47 1.35L5.41 20z\"/>\n",
              "  </svg>\n",
              "      </button>\n",
              "      \n",
              "  <style>\n",
              "    .colab-df-container {\n",
              "      display:flex;\n",
              "      flex-wrap:wrap;\n",
              "      gap: 12px;\n",
              "    }\n",
              "\n",
              "    .colab-df-convert {\n",
              "      background-color: #E8F0FE;\n",
              "      border: none;\n",
              "      border-radius: 50%;\n",
              "      cursor: pointer;\n",
              "      display: none;\n",
              "      fill: #1967D2;\n",
              "      height: 32px;\n",
              "      padding: 0 0 0 0;\n",
              "      width: 32px;\n",
              "    }\n",
              "\n",
              "    .colab-df-convert:hover {\n",
              "      background-color: #E2EBFA;\n",
              "      box-shadow: 0px 1px 2px rgba(60, 64, 67, 0.3), 0px 1px 3px 1px rgba(60, 64, 67, 0.15);\n",
              "      fill: #174EA6;\n",
              "    }\n",
              "\n",
              "    [theme=dark] .colab-df-convert {\n",
              "      background-color: #3B4455;\n",
              "      fill: #D2E3FC;\n",
              "    }\n",
              "\n",
              "    [theme=dark] .colab-df-convert:hover {\n",
              "      background-color: #434B5C;\n",
              "      box-shadow: 0px 1px 3px 1px rgba(0, 0, 0, 0.15);\n",
              "      filter: drop-shadow(0px 1px 2px rgba(0, 0, 0, 0.3));\n",
              "      fill: #FFFFFF;\n",
              "    }\n",
              "  </style>\n",
              "\n",
              "      <script>\n",
              "        const buttonEl =\n",
              "          document.querySelector('#df-5e0c9e0c-b523-4abf-8ee0-6cfed00ab10c button.colab-df-convert');\n",
              "        buttonEl.style.display =\n",
              "          google.colab.kernel.accessAllowed ? 'block' : 'none';\n",
              "\n",
              "        async function convertToInteractive(key) {\n",
              "          const element = document.querySelector('#df-5e0c9e0c-b523-4abf-8ee0-6cfed00ab10c');\n",
              "          const dataTable =\n",
              "            await google.colab.kernel.invokeFunction('convertToInteractive',\n",
              "                                                     [key], {});\n",
              "          if (!dataTable) return;\n",
              "\n",
              "          const docLinkHtml = 'Like what you see? Visit the ' +\n",
              "            '<a target=\"_blank\" href=https://colab.research.google.com/notebooks/data_table.ipynb>data table notebook</a>'\n",
              "            + ' to learn more about interactive tables.';\n",
              "          element.innerHTML = '';\n",
              "          dataTable['output_type'] = 'display_data';\n",
              "          await google.colab.output.renderOutput(dataTable, element);\n",
              "          const docLink = document.createElement('div');\n",
              "          docLink.innerHTML = docLinkHtml;\n",
              "          element.appendChild(docLink);\n",
              "        }\n",
              "      </script>\n",
              "    </div>\n",
              "  </div>\n",
              "  "
            ],
            "text/plain": [
              "       Quantifier Type         R            S  Counts\n",
              "0   Adjectives/Adverbs  Negation  Alternation      30\n",
              "1   Adjectives/Adverbs   Neutral  Alternation      12\n",
              "13           Universal  Negation  Alternation       5\n",
              "9             Negation        FE      Neutral       4\n",
              "5          Existential   Neutral  Alternation       2\n",
              "3          Existential        FE  Alternation       1\n",
              "4          Existential        FE     Negation       1\n",
              "6          Existential   Neutral     Negation       1\n",
              "8             Negation     Cover      Neutral       1\n",
              "10            Negation  Negation      Neutral       1\n",
              "12           Universal        FE      Neutral       1\n",
              "15           Universal  Negation      Neutral       1"
            ]
          },
          "execution_count": 247,
          "metadata": {},
          "output_type": "execute_result"
        }
      ],
      "source": [
        "res3 = block_13.groupby(['Quantifier Type','R','S']).count().reset_index()\n",
        "result = res3[['Quantifier Type','R','S', 'Premise/Hypothesis/Both']]\n",
        "print(\"****** The confused predictions for each modifier for two annotators are: ******\")\n",
        "result = result.rename(columns={\"Premise/Hypothesis/Both\":\"Counts\"})\n",
        "result[result['R'] != result['S']].sort_values(by=\"Counts\", ascending =False)"
      ]
    },
    {
      "cell_type": "code",
      "execution_count": 248,
      "metadata": {
        "id": "4WE47wiRasQ5"
      },
      "outputs": [],
      "source": [
        "result[result['R'] != result['S']].sort_values(by=\"Counts\", ascending =False).to_excel(\"block_751_35_quantifier.xlsx\")"
      ]
    },
    {
      "attachments": {},
      "cell_type": "markdown",
      "metadata": {
        "id": "dOleXOb541Ed"
      },
      "source": [
        "# Blocks : 455\n",
        "SICK_id 455:\n",
        "Premise: Two children are hanging on a large branch\tHypothesis: Two children are climbing a tree. Label:  Entailment"
      ]
    },
    {
      "cell_type": "code",
      "execution_count": 253,
      "metadata": {
        "colab": {
          "base_uri": "https://localhost:8080/"
        },
        "id": "BJjlEva_41Ed",
        "outputId": "41976fed-9ef3-4e0c-a634-5ef2df7add7e"
      },
      "outputs": [
        {
          "data": {
            "text/plain": [
              "(   SICK_id                                           Premise  \\\n",
              " 0      455        two children are hanging on a large branch   \n",
              " 1      455  every two children are hanging on a large branch   \n",
              " 2      455        two children are hanging on a large branch   \n",
              " 3      455  every two children are hanging on a large branch   \n",
              " 4      455   some two children are hanging on a large branch   \n",
              " \n",
              "                                Hypothesis Modifier Premise/Hypothesis/Both  \\\n",
              " 0        two children are climbing a tree     NONE                    NONE   \n",
              " 1        two children are climbing a tree    every                 Premise   \n",
              " 2  every two children are climbing a tree    every              Hypothesis   \n",
              " 3  every two children are climbing a tree    every                    Both   \n",
              " 4        two children are climbing a tree     some                 Premise   \n",
              " \n",
              "   Part of Premise/Hypothesis Modified      H        S  \n",
              " 0                                NONE     FE       FE  \n",
              " 1                             Subject     FE       FE  \n",
              " 2                             Subject  Cover  Neutral  \n",
              " 3                             Subject     FE       FE  \n",
              " 4                             Subject     FE       FE  ,\n",
              " array(['FE', 'Cover', 'Neutral', 'Alternation'], dtype=object),\n",
              " array(['FE', 'Neutral', 'RE', 'Negation', 'Alternation', 'Cover'],\n",
              "       dtype=object))"
            ]
          },
          "execution_count": 253,
          "metadata": {},
          "output_type": "execute_result"
        }
      ],
      "source": [
        "block_23['SICK_id'] = block_23['SICK_id'].astype('int')\n",
        "\n",
        "block_23.head(), block_23['H'].unique(), block_23['S'].unique()"
      ]
    },
    {
      "cell_type": "code",
      "execution_count": 254,
      "metadata": {
        "colab": {
          "base_uri": "https://localhost:8080/"
        },
        "id": "RfXWSIBx41Ed",
        "outputId": "75c50d60-9e25-4faa-c389-edc9bfc1197c"
      },
      "outputs": [
        {
          "data": {
            "text/plain": [
              "FE             57\n",
              "Neutral        29\n",
              "Alternation     5\n",
              "Cover           2\n",
              "Name: H, dtype: int64"
            ]
          },
          "execution_count": 254,
          "metadata": {},
          "output_type": "execute_result"
        }
      ],
      "source": [
        "block_23['H'].value_counts()"
      ]
    },
    {
      "cell_type": "code",
      "execution_count": 255,
      "metadata": {
        "colab": {
          "base_uri": "https://localhost:8080/"
        },
        "id": "Sd4yxbRC41Ed",
        "outputId": "f5d239f8-d5ae-4a1a-cff5-2b465c6c76ec"
      },
      "outputs": [
        {
          "data": {
            "text/plain": [
              "FE             48\n",
              "Neutral        36\n",
              "Negation        3\n",
              "Alternation     3\n",
              "RE              2\n",
              "Cover           1\n",
              "Name: S, dtype: int64"
            ]
          },
          "execution_count": 255,
          "metadata": {},
          "output_type": "execute_result"
        }
      ],
      "source": [
        "block_23['S'].value_counts()"
      ]
    },
    {
      "cell_type": "code",
      "execution_count": 256,
      "metadata": {
        "colab": {
          "base_uri": "https://localhost:8080/"
        },
        "id": "86cYAFUe41Ee",
        "outputId": "fd5c9f8a-25ec-4278-dcbf-51c18c52ebfa"
      },
      "outputs": [
        {
          "data": {
            "text/plain": [
              "array([455])"
            ]
          },
          "execution_count": 256,
          "metadata": {},
          "output_type": "execute_result"
        }
      ],
      "source": [
        "block_23['SICK_id'].unique()"
      ]
    },
    {
      "cell_type": "code",
      "execution_count": 267,
      "metadata": {
        "id": "fHd_OhmQ41Ef"
      },
      "outputs": [],
      "source": [
        "lmap = {1:'FE', 2:'RE', 3:'Negation', 4:'Neutral', 5:'Alternation', 6:'Equivalence', 7:'Cover'}"
      ]
    },
    {
      "cell_type": "code",
      "execution_count": 257,
      "metadata": {
        "id": "Q42TSXrs41Ee"
      },
      "outputs": [],
      "source": [
        "label_map = {'FE':1, 'RE':2, 'Negation':3, 'Neutral':4, 'Alternation':5, 'Equivalence':6, 'Cover':7}"
      ]
    },
    {
      "cell_type": "code",
      "execution_count": 258,
      "metadata": {
        "id": "F6hKAAMk41Ee"
      },
      "outputs": [],
      "source": [
        "for i in ['H', 'S']:\n",
        "  block_23[i] = block_23[i].map(label_map)"
      ]
    },
    {
      "cell_type": "code",
      "execution_count": 259,
      "metadata": {
        "colab": {
          "base_uri": "https://localhost:8080/"
        },
        "id": "40OKfkix41Ee",
        "outputId": "57ef9706-5b19-4af2-8443-f484d1132abb"
      },
      "outputs": [
        {
          "data": {
            "text/plain": [
              "(Series([], Name: S, dtype: int64), Series([], Name: H, dtype: int64), 93)"
            ]
          },
          "execution_count": 259,
          "metadata": {},
          "output_type": "execute_result"
        }
      ],
      "source": [
        "block_23['S'][block_23['S'].isna()], block_23['H'][block_23['H'].isna()], block_23.shape[0]"
      ]
    },
    {
      "attachments": {},
      "cell_type": "markdown",
      "metadata": {
        "id": "rLUUjKtR41Ee"
      },
      "source": [
        "### Cohen Kappa Score\n",
        "A pairwise inetr-rater reliability statistic. \n",
        "Considering probability of agreement by chance.\n",
        "We have 7 labels and 2 annotators and 43 observations in total.\n",
        "So labels are mutually exclusive. (Assume so for now)\n",
        "$p_0$ relative observed agreement\n",
        "$p_1$ hypothetical agreement by chance\n",
        "$p_0 = \\frac{1}{43^2} \\sum n_{k_1} n_{k_2} $  where $n_{k_1}$ and $n_{k_2}$ are number of times rater i (first or second) labelled k. \n",
        "\n",
        "These scores are calculated pairwise so at any time it is agreement between two raters. 34.83%"
      ]
    },
    {
      "cell_type": "code",
      "execution_count": 261,
      "metadata": {
        "colab": {
          "base_uri": "https://localhost:8080/"
        },
        "id": "Trl71lr641Ee",
        "outputId": "fd62755f-3621-4b76-b95f-0c07a760c442"
      },
      "outputs": [
        {
          "name": "stdout",
          "output_type": "stream",
          "text": [
            "0.34830997526793084\n"
          ]
        }
      ],
      "source": [
        "labellers = {1:'H', 2:'S'}\n",
        "cohen_kappa_scores = {}\n",
        "\n",
        "cohen_kappa_scores[(labellers[1], labellers[2])] = cohen_kappa_score(block_23[labellers[1]], block_23[labellers[2]])\n",
        "print(cohen_kappa_scores[(labellers[1], labellers[2])])"
      ]
    },
    {
      "attachments": {},
      "cell_type": "markdown",
      "metadata": {
        "id": "sMovDYEu41Ee"
      },
      "source": [
        "### Label-wise agreements (as a confusion matrix)\n",
        "- First we'd like to assess the maximum agreement between each pair of annotators for each label they labelled."
      ]
    },
    {
      "cell_type": "code",
      "execution_count": 262,
      "metadata": {
        "id": "zuIaR9IY41Ee"
      },
      "outputs": [],
      "source": [
        "from pycm import *\n",
        "\n",
        "cm = ConfusionMatrix(actual_vector=block_23['H'].to_numpy(), predict_vector=block_23['S'].to_numpy(), is_imbalanced=True) "
      ]
    },
    {
      "attachments": {},
      "cell_type": "markdown",
      "metadata": {
        "id": "vs7XUM1q41Ee"
      },
      "source": [
        "## Seeing maximum agreement for the label that was chosen most of the times for just two annotators."
      ]
    },
    {
      "cell_type": "code",
      "execution_count": 263,
      "metadata": {
        "colab": {
          "base_uri": "https://localhost:8080/",
          "height": 422
        },
        "id": "OGgz1_6v41Ee",
        "outputId": "795e198d-396c-484b-aa13-28f94ca0213e"
      },
      "outputs": [
        {
          "data": {
            "text/plain": [
              "<matplotlib.axes._subplots.AxesSubplot at 0x7f05061f3730>"
            ]
          },
          "execution_count": 263,
          "metadata": {},
          "output_type": "execute_result"
        },
        {
          "data": {
            "image/png": "[encoded data removed]",
            "text/plain": [
              "<Figure size 576x432 with 2 Axes>"
            ]
          },
          "metadata": {
            "needs_background": "light"
          },
          "output_type": "display_data"
        }
      ],
      "source": [
        "cm.plot()"
      ]
    },
    {
      "cell_type": "code",
      "execution_count": 264,
      "metadata": {
        "colab": {
          "base_uri": "https://localhost:8080/"
        },
        "id": "TuoGte9v41Ef",
        "outputId": "8f4893d6-47cd-4388-9975-f84d4ddf1c27"
      },
      "outputs": [
        {
          "name": "stdout",
          "output_type": "stream",
          "text": [
            "Predict  1        2        3        4        5        7        \n",
            "Actual\n",
            "1        41       0        0        14       1        1        \n",
            "\n",
            "2        0        0        0        0        0        0        \n",
            "\n",
            "3        0        0        0        0        0        0        \n",
            "\n",
            "4        7        2        1        18       1        0        \n",
            "\n",
            "5        0        0        2        3        0        0        \n",
            "\n",
            "7        0        0        0        1        1        0        \n",
            "\n",
            "\n"
          ]
        }
      ],
      "source": [
        "cm.print_matrix()"
      ]
    },
    {
      "cell_type": "code",
      "execution_count": 265,
      "metadata": {
        "colab": {
          "base_uri": "https://localhost:8080/"
        },
        "id": "Ohnvie3P41Ef",
        "outputId": "82ead9f5-d86c-42c0-e561-4fc7893fa947"
      },
      "outputs": [
        {
          "data": {
            "text/plain": [
              "{1: {1: 41, 2: 0, 3: 0, 4: 14, 5: 1, 7: 1},\n",
              " 2: {1: 0, 2: 0, 3: 0, 4: 0, 5: 0, 7: 0},\n",
              " 3: {1: 0, 2: 0, 3: 0, 4: 0, 5: 0, 7: 0},\n",
              " 4: {1: 7, 2: 2, 3: 1, 4: 18, 5: 1, 7: 0},\n",
              " 5: {1: 0, 2: 0, 3: 2, 4: 3, 5: 0, 7: 0},\n",
              " 7: {1: 0, 2: 0, 3: 0, 4: 1, 5: 1, 7: 0}}"
            ]
          },
          "execution_count": 265,
          "metadata": {},
          "output_type": "execute_result"
        }
      ],
      "source": [
        "cm.table"
      ]
    },
    {
      "cell_type": "code",
      "execution_count": 266,
      "metadata": {
        "colab": {
          "base_uri": "https://localhost:8080/"
        },
        "id": "Fy2J52Xw41Ef",
        "outputId": "602bfd03-1b85-4c5b-c21e-ca998cefca2a"
      },
      "outputs": [
        {
          "data": {
            "text/plain": [
              "{'FE': 1,\n",
              " 'RE': 2,\n",
              " 'Negation': 3,\n",
              " 'Neutral': 4,\n",
              " 'Alternation': 5,\n",
              " 'Equivalence': 6,\n",
              " 'Cover': 7}"
            ]
          },
          "execution_count": 266,
          "metadata": {},
          "output_type": "execute_result"
        }
      ],
      "source": [
        "label_map"
      ]
    },
    {
      "cell_type": "code",
      "execution_count": 268,
      "metadata": {
        "colab": {
          "base_uri": "https://localhost:8080/"
        },
        "id": "_QcHhiMu41Ef",
        "outputId": "2187f3fe-73b2-40e5-d3be-dad21a242337"
      },
      "outputs": [
        {
          "data": {
            "text/plain": [
              "{'FE': 57, 'Neutral': 29, 'Alternation': 5, 'Cover': 2}"
            ]
          },
          "execution_count": 268,
          "metadata": {},
          "output_type": "execute_result"
        }
      ],
      "source": [
        "a1_counts = {}\n",
        "for k, v in block_23['H'].value_counts().to_dict().items():\n",
        "  a1_counts[lmap[k]] = v\n",
        "a1_counts"
      ]
    },
    {
      "cell_type": "code",
      "execution_count": 269,
      "metadata": {
        "colab": {
          "base_uri": "https://localhost:8080/"
        },
        "id": "kMBRgjjT41Ef",
        "outputId": "30491c58-ab48-471e-c3e7-1e6bbeb64a35"
      },
      "outputs": [
        {
          "data": {
            "text/plain": [
              "{'FE': 48, 'Neutral': 36, 'Negation': 3, 'Alternation': 3, 'RE': 2, 'Cover': 1}"
            ]
          },
          "execution_count": 269,
          "metadata": {},
          "output_type": "execute_result"
        }
      ],
      "source": [
        "a2_counts = {}\n",
        "for k, v in block_23['S'].value_counts().to_dict().items():\n",
        "  a2_counts[lmap[k]] = v\n",
        "a2_counts"
      ]
    },
    {
      "cell_type": "code",
      "execution_count": 271,
      "metadata": {
        "colab": {
          "base_uri": "https://localhost:8080/"
        },
        "id": "tX6TnQDc41Ef",
        "outputId": "6c995462-8d4d-49a7-c613-693d028ac2b4"
      },
      "outputs": [
        {
          "data": {
            "text/plain": [
              "{'FE': 105,\n",
              " 'Cover': 3,\n",
              " 'Neutral': 65,\n",
              " 'Alternation': 8,\n",
              " 'Negation': 3,\n",
              " 'RE': 2}"
            ]
          },
          "execution_count": 271,
          "metadata": {},
          "output_type": "execute_result"
        }
      ],
      "source": [
        "sum_counts = {}\n",
        "for key in ['FE','Cover', 'Neutral', 'Alternation' ]:\n",
        "  sum_counts[key] = a1_counts[key] + a2_counts[key]\n",
        "sum_counts['Negation'] = a2_counts['Negation']\n",
        "sum_counts['RE'] = a2_counts['RE']\n",
        "sum_counts"
      ]
    },
    {
      "attachments": {},
      "cell_type": "markdown",
      "metadata": {
        "id": "Eu-NlSi941Ef"
      },
      "source": [
        "### Observing F1, precision and recall scores for pairwise confusion matrices.\n",
        "In this case, we consider a case where each annotator i can be Gold label annotator and compared with every other annotator j from remaining 1 annotators. So we consider the case that chosen Gold labels i.e. annotator's labels as Ground truth and we calculate pairwise \"Supposed Gold label\" with another annotator's labels. \n",
        "\n",
        "This is to say between any two annotators, we choose any one annotator, we would like to see how much agreement can exist and how would that reflect as F1, precision and recall scores.\n",
        "\n",
        "- For each pair of annotators, consider ith annotator to have ground truth and jth annotator to be prediction labels.\n",
        "- We still observe maximum agreement >50% for FE & Neutral Labels.\n",
        "- We do observ ~63.44% F1-scores. Would not be very helpful, since we do not have \"True Gold labels\". \n",
        "- We use the following information for assessing how to design annotation schemes annotating automatically modified premise, hypothesis sentences with Generalized quantifiers as well as Adjectives & adverbs.\n",
        "- We want to observe the amount of labeling confusion that quantifiers and modifiers introduce.\n",
        "- We consider that wherever the label is not FE or RE, we can see maximum confusion. \n",
        "- Neutral - has second best agreement & is second most chosen label\n",
        "- Forward Entailment - has max best agreement & is also second most chosen label\n",
        "- All other cases, signify confusion due to level of difficulty.\n",
        "\n",
        "Total 93 * 2 = 186 labels required by 2 annotators for 93 premise, hypothesis pairs.\n",
        "\n",
        "- 'FE': 105,\n",
        "- 'RE': 2,\n",
        "- 'Neutral': 65,\n",
        "- 'Negation': 3,\n",
        "- 'Alternation': 8,\n",
        "- 'Cover': 3\n"
      ]
    },
    {
      "cell_type": "code",
      "execution_count": 272,
      "metadata": {
        "colab": {
          "base_uri": "https://localhost:8080/"
        },
        "id": "3eXD6tnM41Ef",
        "outputId": "481f34da-acf4-45fa-eab0-c975aa548cb2"
      },
      "outputs": [
        {
          "name": "stdout",
          "output_type": "stream",
          "text": [
            "Predict  1        2        3        4        5        7        \n",
            "Actual\n",
            "1        41       0        0        14       1        1        \n",
            "\n",
            "2        0        0        0        0        0        0        \n",
            "\n",
            "3        0        0        0        0        0        0        \n",
            "\n",
            "4        7        2        1        18       1        0        \n",
            "\n",
            "5        0        0        2        3        0        0        \n",
            "\n",
            "7        0        0        0        1        1        0        \n",
            "\n",
            "\n",
            "\n",
            "\n",
            "\n",
            "Overall Statistics : \n",
            "\n",
            "95% CI                                                            (0.53653,0.73229)\n",
            "ACC Macro                                                         0.87814\n",
            "ARI                                                               0.24515\n",
            "AUNP                                                              None\n",
            "AUNU                                                              None\n",
            "Bangdiwala B                                                      0.52805\n",
            "Bennett S                                                         0.56129\n",
            "CBA                                                               0.20322\n",
            "CSI                                                               None\n",
            "Chi-Squared                                                       None\n",
            "Chi-Squared DF                                                    25\n",
            "Conditional Entropy                                               1.18858\n",
            "Cramer V                                                          None\n",
            "Cross Entropy                                                     1.41878\n",
            "F1 Macro                                                          0.22247\n",
            "F1 Micro                                                          0.63441\n",
            "FNR Macro                                                         None\n",
            "FNR Micro                                                         0.36559\n",
            "FPR Macro                                                         0.09576\n",
            "FPR Micro                                                         0.07312\n",
            "Gwet AC1                                                          0.5886\n",
            "Hamming Loss                                                      0.36559\n",
            "Joint Entropy                                                     2.49155\n",
            "KL Divergence                                                     None\n",
            "Kappa                                                             0.34831\n",
            "Kappa 95% CI                                                      (0.17383,0.52279)\n",
            "Kappa No Prevalence                                               0.26882\n",
            "Kappa Standard Error                                              0.08902\n",
            "Kappa Unbiased                                                    0.3433\n",
            "Krippendorff Alpha                                                0.34683\n",
            "Lambda A                                                          0.22222\n",
            "Lambda B                                                          0.33333\n",
            "Mutual Information                                                0.34299\n",
            "NIR                                                               0.6129\n",
            "Overall ACC                                                       0.63441\n",
            "Overall CEN                                                       0.32558\n",
            "Overall J                                                         (1.0236,0.1706)\n",
            "Overall MCC                                                       0.35418\n",
            "Overall MCEN                                                      0.40574\n",
            "Overall RACC                                                      0.43901\n",
            "Overall RACCU                                                     0.44329\n",
            "P-Value                                                           0.37759\n",
            "PPV Macro                                                         0.22569\n",
            "PPV Micro                                                         0.63441\n",
            "Pearson C                                                         None\n",
            "Phi-Squared                                                       None\n",
            "RCI                                                               0.26324\n",
            "RR                                                                15.5\n",
            "Reference Entropy                                                 1.30297\n",
            "Response Entropy                                                  1.53158\n",
            "SOA1(Landis & Koch)                                               Fair\n",
            "SOA2(Fleiss)                                                      Poor\n",
            "SOA3(Altman)                                                      Fair\n",
            "SOA4(Cicchetti)                                                   Poor\n",
            "SOA5(Cramer)                                                      None\n",
            "SOA6(Matthews)                                                    Weak\n",
            "Scott PI                                                          0.3433\n",
            "Standard Error                                                    0.04994\n",
            "TNR Macro                                                         0.90424\n",
            "TNR Micro                                                         0.92688\n",
            "TPR Macro                                                         None\n",
            "TPR Micro                                                         0.63441\n",
            "Zero-one Loss                                                     34\n",
            "\n",
            "Class Statistics :\n",
            "\n",
            "Classes                                                           1             2             3             4             5             7             \n",
            "ACC(Accuracy)                                                     0.75269       0.97849       0.96774       0.68817       0.91398       0.96774       \n",
            "AGF(Adjusted F-score)                                             0.70612       0.0           0.0           0.68292       0.0           0.0           \n",
            "AGM(Adjusted geometric mean)                                      0.77358       None          None          0.68864       0             0             \n",
            "AM(Difference between automatic and manual classification)        -9            2             3             7             -2            -1            \n",
            "AUC(Area under the ROC curve)                                     0.76243       None          None          0.66972       0.48295       0.49451       \n",
            "AUCI(AUC value interpretation)                                    Good          None          None          Fair          Poor          Poor          \n",
            "AUPR(Area under the PR curve)                                     0.78673       None          None          0.56034       0.0           0.0           \n",
            "BB(Braun-Blanquet similarity)                                     0.7193        0.0           0.0           0.5           0.0           0.0           \n",
            "BCD(Bray-Curtis dissimilarity)                                    0.04839       0.01075       0.01613       0.03763       0.01075       0.00538       \n",
            "BM(Informedness or bookmaker informedness)                        0.52485       None          None          0.33944       -0.03409      -0.01099      \n",
            "CEN(Confusion entropy)                                            0.23358       0.0           0.27643       0.43969       0.64891       0.47712       \n",
            "DOR(Diagnostic odds ratio)                                        10.61607      None          None          4.18182       0.0           0.0           \n",
            "DP(Discriminant power)                                            0.56564       None          None          0.34258       None          None          \n",
            "DPI(Discriminant power interpretation)                            Poor          None          None          Poor          None          None          \n",
            "ERR(Error rate)                                                   0.24731       0.02151       0.03226       0.31183       0.08602       0.03226       \n",
            "F0.5(F0.5 score)                                                  0.82329       0.0           0.0           0.52023       0.0           0.0           \n",
            "F1(F1 score - harmonic mean of precision and sensitivity)         0.78095       0.0           0.0           0.55385       0.0           0.0           \n",
            "F2(F2 score)                                                      0.74275       0.0           0.0           0.59211       0.0           0.0           \n",
            "FDR(False discovery rate)                                         0.14583       1.0           1.0           0.5           1.0           1.0           \n",
            "FN(False negative/miss/type 2 error)                              16            0             0             11            5             2             \n",
            "FNR(Miss rate or false negative rate)                             0.2807        None          None          0.37931       1.0           1.0           \n",
            "FOR(False omission rate)                                          0.35556       0.0           0.0           0.19298       0.05556       0.02174       \n",
            "FP(False positive/type 1 error/false alarm)                       7             2             3             18            3             1             \n",
            "FPR(Fall-out or false positive rate)                              0.19444       0.02151       0.03226       0.28125       0.03409       0.01099       \n",
            "G(G-measure geometric mean of precision and sensitivity)          0.78384       None          None          0.55709       0.0           0.0           \n",
            "GI(Gini index)                                                    0.52485       None          None          0.33944       -0.03409      -0.01099      \n",
            "GM(G-mean geometric mean of specificity and sensitivity)          0.76121       None          None          0.66792       0.0           0.0           \n",
            "HD(Hamming distance)                                              23            2             3             29            8             3             \n",
            "IBA(Index of balanced accuracy)                                   0.52945       None          None          0.40237       0.0           0.0           \n",
            "ICSI(Individual classification success index)                     0.57346       None          None          0.12069       -1.0          -1.0          \n",
            "IS(Information score)                                             0.47886       None          None          0.68118       None          None          \n",
            "J(Jaccard index)                                                  0.64062       0.0           0.0           0.38298       0.0           0.0           \n",
            "LS(Lift score)                                                    1.39364       None          None          1.60345       0.0           0.0           \n",
            "MCC(Matthews correlation coefficient)                             0.51156       None          None          0.32282       -0.04352      -0.01546      \n",
            "MCCI(Matthews correlation coefficient interpretation)             Moderate      None          None          Weak          Negligible    Negligible    \n",
            "MCEN(Modified confusion entropy)                                  0.30595       0.0           0.27643       0.52119       0.64891       0.47712       \n",
            "MK(Markedness)                                                    0.49861       0.0           0.0           0.30702       -0.05556      -0.02174      \n",
            "N(Condition negative)                                             36            93            93            64            88            91            \n",
            "NLR(Negative likelihood ratio)                                    0.34846       None          None          0.52774       1.03529       1.01111       \n",
            "NLRI(Negative likelihood ratio interpretation)                    Poor          None          None          Negligible    Negligible    Negligible    \n",
            "NPV(Negative predictive value)                                    0.64444       1.0           1.0           0.80702       0.94444       0.97826       \n",
            "OC(Overlap coefficient)                                           0.85417       None          None          0.62069       0.0           0.0           \n",
            "OOC(Otsuka-Ochiai coefficient)                                    0.78384       None          None          0.55709       0.0           0.0           \n",
            "OP(Optimized precision)                                           0.69612       None          None          0.61496       -0.08602      -0.03226      \n",
            "P(Condition positive or support)                                  57            0             0             29            5             2             \n",
            "PLR(Positive likelihood ratio)                                    3.69925       None          None          2.2069        0.0           0.0           \n",
            "PLRI(Positive likelihood ratio interpretation)                    Poor          None          None          Poor          Negligible    Negligible    \n",
            "POP(Population)                                                   93            93            93            93            93            93            \n",
            "PPV(Precision or positive predictive value)                       0.85417       0.0           0.0           0.5           0.0           0.0           \n",
            "PRE(Prevalence)                                                   0.6129        0.0           0.0           0.31183       0.05376       0.02151       \n",
            "Q(Yule Q - coefficient of colligation)                            0.82782       None          None          0.61404       -1.0          -1.0          \n",
            "QI(Yule Q interpretation)                                         Strong        None          None          Moderate      Negligible    Negligible    \n",
            "RACC(Random accuracy)                                             0.31634       0.0           0.0           0.12071       0.00173       0.00023       \n",
            "RACCU(Random accuracy unbiased)                                   0.31868       0.00012       0.00026       0.12212       0.00185       0.00026       \n",
            "TN(True negative/correct rejection)                               29            91            90            46            85            90            \n",
            "TNR(Specificity or true negative rate)                            0.80556       0.97849       0.96774       0.71875       0.96591       0.98901       \n",
            "TON(Test outcome negative)                                        45            91            90            57            90            92            \n",
            "TOP(Test outcome positive)                                        48            2             3             36            3             1             \n",
            "TP(True positive/hit)                                             41            0             0             18            0             0             \n",
            "TPR(Sensitivity, recall, hit rate, or true positive rate)         0.7193        None          None          0.62069       0.0           0.0           \n",
            "Y(Youden index)                                                   0.52485       None          None          0.33944       -0.03409      -0.01099      \n",
            "dInd(Distance index)                                              0.34147       None          None          0.47221       1.00058       1.00006       \n",
            "sInd(Similarity index)                                            0.75854       None          None          0.6661        0.29248       0.29285       \n",
            "\n",
            "Predict  1        2        3        4        5        7        \n",
            "Actual\n",
            "1        41       0        0        7        0        0        \n",
            "\n",
            "2        0        0        0        2        0        0        \n",
            "\n",
            "3        0        0        0        1        2        0        \n",
            "\n",
            "4        14       0        0        18       3        1        \n",
            "\n",
            "5        1        0        0        1        0        1        \n",
            "\n",
            "7        1        0        0        0        0        0        \n",
            "\n",
            "\n",
            "\n",
            "\n",
            "\n",
            "Overall Statistics : \n",
            "\n",
            "95% CI                                                            (0.53653,0.73229)\n",
            "ACC Macro                                                         0.87814\n",
            "ARI                                                               0.24515\n",
            "AUNP                                                              0.68708\n",
            "AUNU                                                              0.56069\n",
            "Bangdiwala B                                                      0.52805\n",
            "Bennett S                                                         0.56129\n",
            "CBA                                                               0.20322\n",
            "CSI                                                               None\n",
            "Chi-Squared                                                       None\n",
            "Chi-Squared DF                                                    25\n",
            "Conditional Entropy                                               0.95997\n",
            "Cramer V                                                          None\n",
            "Cross Entropy                                                     1.2109\n",
            "F1 Macro                                                          0.22247\n",
            "F1 Micro                                                          0.63441\n",
            "FNR Macro                                                         0.77431\n",
            "FNR Micro                                                         0.36559\n",
            "FPR Macro                                                         0.10431\n",
            "FPR Micro                                                         0.07312\n",
            "Gwet AC1                                                          0.5886\n",
            "Hamming Loss                                                      0.36559\n",
            "Joint Entropy                                                     2.49155\n",
            "KL Divergence                                                     None\n",
            "Kappa                                                             0.34831\n",
            "Kappa 95% CI                                                      (0.17383,0.52279)\n",
            "Kappa No Prevalence                                               0.26882\n",
            "Kappa Standard Error                                              0.08902\n",
            "Kappa Unbiased                                                    0.3433\n",
            "Krippendorff Alpha                                                0.34683\n",
            "Lambda A                                                          0.33333\n",
            "Lambda B                                                          0.22222\n",
            "Mutual Information                                                0.34299\n",
            "NIR                                                               0.51613\n",
            "Overall ACC                                                       0.63441\n",
            "Overall CEN                                                       0.32558\n",
            "Overall J                                                         (1.0236,0.1706)\n",
            "Overall MCC                                                       0.35418\n",
            "Overall MCEN                                                      0.40574\n",
            "Overall RACC                                                      0.43901\n",
            "Overall RACCU                                                     0.44329\n",
            "P-Value                                                           0.01424\n",
            "PPV Macro                                                         None\n",
            "PPV Micro                                                         0.63441\n",
            "Pearson C                                                         None\n",
            "Phi-Squared                                                       None\n",
            "RCI                                                               0.22395\n",
            "RR                                                                15.5\n",
            "Reference Entropy                                                 1.53158\n",
            "Response Entropy                                                  1.30297\n",
            "SOA1(Landis & Koch)                                               Fair\n",
            "SOA2(Fleiss)                                                      Poor\n",
            "SOA3(Altman)                                                      Fair\n",
            "SOA4(Cicchetti)                                                   Poor\n",
            "SOA5(Cramer)                                                      None\n",
            "SOA6(Matthews)                                                    Weak\n",
            "Scott PI                                                          0.3433\n",
            "Standard Error                                                    0.04994\n",
            "TNR Macro                                                         0.89569\n",
            "TNR Micro                                                         0.92688\n",
            "TPR Macro                                                         0.22569\n",
            "TPR Micro                                                         0.63441\n",
            "Zero-one Loss                                                     34\n",
            "\n",
            "Class Statistics :\n",
            "\n",
            "Classes                                                           1             2             3             4             5             7             \n",
            "ACC(Accuracy)                                                     0.75269       0.97849       0.96774       0.68817       0.91398       0.96774       \n",
            "AGF(Adjusted F-score)                                             0.79475       0.0           0.0           0.61829       0.0           0.0           \n",
            "AGM(Adjusted geometric mean)                                      0.71014       0             0             0.70051       0             0             \n",
            "AM(Difference between automatic and manual classification)        9             -2            -3            -7            2             1             \n",
            "AUC(Area under the ROC curve)                                     0.74931       0.5           0.5           0.65351       0.47222       0.48913       \n",
            "AUCI(AUC value interpretation)                                    Good          Poor          Poor          Fair          Poor          Poor          \n",
            "AUPR(Area under the PR curve)                                     0.78673       None          None          0.56034       0.0           0.0           \n",
            "BB(Braun-Blanquet similarity)                                     0.7193        0.0           0.0           0.5           0.0           0.0           \n",
            "BCD(Bray-Curtis dissimilarity)                                    0.04839       0.01075       0.01613       0.03763       0.01075       0.00538       \n",
            "BM(Informedness or bookmaker informedness)                        0.49861       0.0           0.0           0.30702       -0.05556      -0.02174      \n",
            "CEN(Confusion entropy)                                            0.23358       0.0           0.27643       0.43969       0.64891       0.47712       \n",
            "DOR(Diagnostic odds ratio)                                        10.61607      None          None          4.18182       0.0           0.0           \n",
            "DP(Discriminant power)                                            0.56564       None          None          0.34258       None          None          \n",
            "DPI(Discriminant power interpretation)                            Poor          None          None          Poor          None          None          \n",
            "ERR(Error rate)                                                   0.24731       0.02151       0.03226       0.31183       0.08602       0.03226       \n",
            "F0.5(F0.5 score)                                                  0.74275       0.0           0.0           0.59211       0.0           0.0           \n",
            "F1(F1 score - harmonic mean of precision and sensitivity)         0.78095       0.0           0.0           0.55385       0.0           0.0           \n",
            "F2(F2 score)                                                      0.82329       0.0           0.0           0.52023       0.0           0.0           \n",
            "FDR(False discovery rate)                                         0.2807        None          None          0.37931       1.0           1.0           \n",
            "FN(False negative/miss/type 2 error)                              7             2             3             18            3             1             \n",
            "FNR(Miss rate or false negative rate)                             0.14583       1.0           1.0           0.5           1.0           1.0           \n",
            "FOR(False omission rate)                                          0.19444       0.02151       0.03226       0.28125       0.03409       0.01099       \n",
            "FP(False positive/type 1 error/false alarm)                       16            0             0             11            5             2             \n",
            "FPR(Fall-out or false positive rate)                              0.35556       0.0           0.0           0.19298       0.05556       0.02174       \n",
            "G(G-measure geometric mean of precision and sensitivity)          0.78384       None          None          0.55709       0.0           0.0           \n",
            "GI(Gini index)                                                    0.49861       0.0           0.0           0.30702       -0.05556      -0.02174      \n",
            "GM(G-mean geometric mean of specificity and sensitivity)          0.74193       0.0           0.0           0.63522       0.0           0.0           \n",
            "HD(Hamming distance)                                              23            2             3             29            8             3             \n",
            "IBA(Index of balanced accuracy)                                   0.66591       0.0           0.0           0.27962       0.0           0.0           \n",
            "ICSI(Individual classification success index)                     0.57346       None          None          0.12069       -1.0          -1.0          \n",
            "IS(Information score)                                             0.47886       None          None          0.68118       None          None          \n",
            "J(Jaccard index)                                                  0.64062       0.0           0.0           0.38298       0.0           0.0           \n",
            "LS(Lift score)                                                    1.39364       None          None          1.60345       0.0           0.0           \n",
            "MCC(Matthews correlation coefficient)                             0.51156       None          None          0.32282       -0.04352      -0.01546      \n",
            "MCCI(Matthews correlation coefficient interpretation)             Moderate      None          None          Weak          Negligible    Negligible    \n",
            "MCEN(Modified confusion entropy)                                  0.30595       0.0           0.27643       0.52119       0.64891       0.47712       \n",
            "MK(Markedness)                                                    0.52485       None          None          0.33944       -0.03409      -0.01099      \n",
            "N(Condition negative)                                             45            91            90            57            90            92            \n",
            "NLR(Negative likelihood ratio)                                    0.22629       1.0           1.0           0.61957       1.05882       1.02222       \n",
            "NLRI(Negative likelihood ratio interpretation)                    Poor          Negligible    Negligible    Negligible    Negligible    Negligible    \n",
            "NPV(Negative predictive value)                                    0.80556       0.97849       0.96774       0.71875       0.96591       0.98901       \n",
            "OC(Overlap coefficient)                                           0.85417       None          None          0.62069       0.0           0.0           \n",
            "OOC(Otsuka-Ochiai coefficient)                                    0.78384       None          None          0.55709       0.0           0.0           \n",
            "OP(Optimized precision)                                           0.61274       -0.02151      -0.03226      0.45327       -0.08602      -0.03226      \n",
            "P(Condition positive or support)                                  48            2             3             36            3             1             \n",
            "PLR(Positive likelihood ratio)                                    2.40234       None          None          2.59091       0.0           0.0           \n",
            "PLRI(Positive likelihood ratio interpretation)                    Poor          None          None          Poor          Negligible    Negligible    \n",
            "POP(Population)                                                   93            93            93            93            93            93            \n",
            "PPV(Precision or positive predictive value)                       0.7193        None          None          0.62069       0.0           0.0           \n",
            "PRE(Prevalence)                                                   0.51613       0.02151       0.03226       0.3871        0.03226       0.01075       \n",
            "Q(Yule Q - coefficient of colligation)                            0.82782       None          None          0.61404       -1.0          -1.0          \n",
            "QI(Yule Q interpretation)                                         Strong        None          None          Moderate      Negligible    Negligible    \n",
            "RACC(Random accuracy)                                             0.31634       0.0           0.0           0.12071       0.00173       0.00023       \n",
            "RACCU(Random accuracy unbiased)                                   0.31868       0.00012       0.00026       0.12212       0.00185       0.00026       \n",
            "TN(True negative/correct rejection)                               29            91            90            46            85            90            \n",
            "TNR(Specificity or true negative rate)                            0.64444       1.0           1.0           0.80702       0.94444       0.97826       \n",
            "TON(Test outcome negative)                                        36            93            93            64            88            91            \n",
            "TOP(Test outcome positive)                                        57            0             0             29            5             2             \n",
            "TP(True positive/hit)                                             41            0             0             18            0             0             \n",
            "TPR(Sensitivity, recall, hit rate, or true positive rate)         0.85417       0.0           0.0           0.5           0.0           0.0           \n",
            "Y(Youden index)                                                   0.49861       0.0           0.0           0.30702       -0.05556      -0.02174      \n",
            "dInd(Distance index)                                              0.3843        1.0           1.0           0.53595       1.00154       1.00024       \n",
            "sInd(Similarity index)                                            0.72826       0.29289       0.29289       0.62103       0.2918        0.29273       \n",
            "\n"
          ]
        }
      ],
      "source": [
        "\n",
        "cm = {}\n",
        "\n",
        "cm[('H', 'S')] = ConfusionMatrix(actual_vector=block_23['H'].to_numpy(), predict_vector=block_23['S'].to_numpy())\n",
        "cm[('S','H')] = ConfusionMatrix(actual_vector=block_23['S'].to_numpy(), predict_vector=block_23['H'].to_numpy())\n",
        "print(cm[('H', 'S')])\n",
        "print(cm[('S','H')])"
      ]
    },
    {
      "attachments": {},
      "cell_type": "markdown",
      "metadata": {
        "id": "FWWFyPdH41Eg"
      },
      "source": [
        "### Looking at total agreement counts for each label between each pair of annotators.\n",
        "- Max agreement is for FE, then Neutral.\n",
        "- But we cannot say if agreement was most, complexity to identify each of these three labels was easy."
      ]
    },
    {
      "cell_type": "code",
      "execution_count": 273,
      "metadata": {
        "colab": {
          "base_uri": "https://localhost:8080/"
        },
        "id": "LgZY_Rou41Eg",
        "outputId": "863499fa-35fb-4f56-b69e-a92232f4aeea"
      },
      "outputs": [
        {
          "name": "stdout",
          "output_type": "stream",
          "text": [
            "('H', 'S')\n",
            "{1: {1: 41, 2: 0, 3: 0, 4: 14, 5: 1, 7: 1}, 2: {1: 0, 2: 0, 3: 0, 4: 0, 5: 0, 7: 0}, 3: {1: 0, 2: 0, 3: 0, 4: 0, 5: 0, 7: 0}, 4: {1: 7, 2: 2, 3: 1, 4: 18, 5: 1, 7: 0}, 5: {1: 0, 2: 0, 3: 2, 4: 3, 5: 0, 7: 0}, 7: {1: 0, 2: 0, 3: 0, 4: 1, 5: 1, 7: 0}}\n",
            "('S', 'H')\n",
            "{1: {1: 41, 2: 0, 3: 0, 4: 7, 5: 0, 7: 0}, 2: {1: 0, 2: 0, 3: 0, 4: 2, 5: 0, 7: 0}, 3: {1: 0, 2: 0, 3: 0, 4: 1, 5: 2, 7: 0}, 4: {1: 14, 2: 0, 3: 0, 4: 18, 5: 3, 7: 1}, 5: {1: 1, 2: 0, 3: 0, 4: 1, 5: 0, 7: 1}, 7: {1: 1, 2: 0, 3: 0, 4: 0, 5: 0, 7: 0}}\n"
          ]
        }
      ],
      "source": [
        "for k,v in cm.items():\n",
        "  print(k)\n",
        "  print(v.table)"
      ]
    },
    {
      "attachments": {},
      "cell_type": "markdown",
      "metadata": {
        "id": "bYlB6VAF41Eg"
      },
      "source": [
        "## Cohen Kappa scores for modified labels \n",
        "\n",
        "Total 186 * 2 = 372 labels required by 2 annotators for 186 premise, hypothesis pairs.\n",
        "\n",
        "- 'FE': 105,\n",
        "- 'RE': 2,\n",
        "- 'Neutral': 65,\n",
        "- 'Negation': 3,\n",
        "- 'Alternation': 8,\n",
        "- 'Cover': 3\n",
        "\n",
        "So we recalculate the Cohen kappa score which is now: 34.83%."
      ]
    },
    {
      "cell_type": "code",
      "execution_count": 274,
      "metadata": {
        "colab": {
          "base_uri": "https://localhost:8080/"
        },
        "id": "O-EcYAvJ41Eg",
        "outputId": "305aeb40-6816-4257-9280-4b2aaf00ea76"
      },
      "outputs": [
        {
          "name": "stdout",
          "output_type": "stream",
          "text": [
            "0.34830997526793084\n"
          ]
        }
      ],
      "source": [
        "labellers = {1:'H', 2:'S'}\n",
        "cohen_kappa_scores_modified = {}\n",
        "\n",
        "cohen_kappa_scores_modified[(labellers[1], labellers[2])] = cohen_kappa_score(block_23[labellers[1]], block_23[labellers[2]])\n",
        "print(cohen_kappa_scores_modified[(labellers[1], labellers[2])])"
      ]
    },
    {
      "attachments": {},
      "cell_type": "markdown",
      "metadata": {
        "id": "P4EM5mZ341Eg"
      },
      "source": [
        "## Fleiss Kappa scores\n",
        "This is another way of finding above the level of agreement expected by chance. This considers random sampling among the raters (a little better than voted ratings, due to \"randomness\").\n",
        "Although this is purely statistical, since we have types of modifiers which influence thge rater's choice of label, we consider this for some \"randomized\" assessment for a approximated agreement scores. \n",
        "\n",
        "The score considers that if no one chose \"this\" label, we could still find out expected chance of agreement on \"this\" label.\n",
        "\n",
        "This does not tell if agreement is good enough. But just that if an agreement exists then how better is it to that of agreement by chance which in this case is 34.33%."
      ]
    },
    {
      "cell_type": "code",
      "execution_count": 275,
      "metadata": {
        "colab": {
          "base_uri": "https://localhost:8080/"
        },
        "id": "ehI2bfC841Eg",
        "outputId": "4fc36b54-4a67-4b25-df14-84b09a9174dc"
      },
      "outputs": [
        {
          "data": {
            "text/plain": [
              "0.3433021806853582"
            ]
          },
          "execution_count": 275,
          "metadata": {},
          "output_type": "execute_result"
        }
      ],
      "source": [
        "from statsmodels.stats import inter_rater as irr\n",
        "data, categories = irr.aggregate_raters(block_23[['H','S']].to_numpy())\n",
        "irr.fleiss_kappa(data, method='fleiss')"
      ]
    },
    {
      "attachments": {},
      "cell_type": "markdown",
      "metadata": {
        "id": "wlpLeecI41Eg"
      },
      "source": [
        "### Krippendorff's Alpha\n",
        "Essentially measures amount of reliability as a measure of disagreement.\n",
        "However this might not be relevant here, since we do not have concrete Ground truth. But if we did assume we did have Ground truth and this was reliable, this is how much reliable these labels based on agreement calculated from ratio of observed disagreement and disagreement expected by chance can be.\n",
        "\n",
        "Here krippendorff's alpha is 44.27%"
      ]
    },
    {
      "cell_type": "code",
      "execution_count": 276,
      "metadata": {
        "colab": {
          "base_uri": "https://localhost:8080/"
        },
        "id": "GUIIFMzr41Eg",
        "outputId": "6a21d977-c45b-407f-812a-3199d2c9047f"
      },
      "outputs": [
        {
          "data": {
            "text/plain": [
              "0.4427771875444958"
            ]
          },
          "execution_count": 276,
          "metadata": {},
          "output_type": "execute_result"
        }
      ],
      "source": [
        "import krippendorff\n",
        "krippendorff.alpha(block_23[['H','S']].to_numpy().T)"
      ]
    },
    {
      "cell_type": "code",
      "execution_count": 277,
      "metadata": {
        "id": "xNs28ooB41Eg"
      },
      "outputs": [],
      "source": [
        "import agreement\n",
        "from agreement.utils.kernels import linear_kernel\n",
        "\n",
        "from agreement.metrics import cohens_kappa, krippendorffs_alpha, scotts_pi\n",
        "from agreement.utils.transform import pivot_table_frequency\n"
      ]
    },
    {
      "cell_type": "code",
      "execution_count": 278,
      "metadata": {
        "id": "jods5rGq41Eg"
      },
      "outputs": [],
      "source": [
        "this_array = []\n",
        "for i,l in enumerate(block_23[['H','S']].to_numpy()):\n",
        "  for k in range(0,2):\n",
        "    this_array.append([i,k+1, l[k]])\n",
        "arr = np.array(this_array)\n",
        "questions_answers_table = pivot_table_frequency(arr[:, 0], arr[:, 2])"
      ]
    },
    {
      "attachments": {},
      "cell_type": "markdown",
      "metadata": {
        "id": "lKgEne8t41Eg"
      },
      "source": [
        "### Recomputing Cohen's kappa, krippendorff's alpha while calculating Scott's pi\n",
        "\n",
        "Scott's Pi is similar to Cohen's kappa, except it considered squared joint proportions to calculate inter-annotator reliability.\n",
        "\n",
        "In this case, Scott's pi is 34.33% different from Cohen's kappa"
      ]
    },
    {
      "cell_type": "code",
      "execution_count": 279,
      "metadata": {
        "id": "-1gQE_iL41Eg"
      },
      "outputs": [],
      "source": [
        "users_answers_table = pivot_table_frequency(arr[:, 1], arr[:, 2])\n",
        "kappa = cohens_kappa(questions_answers_table, users_answers_table)\n",
        "weighted_kappa = cohens_kappa(questions_answers_table, users_answers_table, weights_kernel=linear_kernel)\n",
        "\n",
        "alpha = krippendorffs_alpha(questions_answers_table)\n",
        "pi = scotts_pi(questions_answers_table)"
      ]
    },
    {
      "cell_type": "code",
      "execution_count": 280,
      "metadata": {
        "colab": {
          "base_uri": "https://localhost:8080/"
        },
        "id": "EGVstCxJ41Eh",
        "outputId": "2a99b887-9452-4fc3-f4a2-1705c092f17e"
      },
      "outputs": [
        {
          "data": {
            "text/plain": [
              "(0.3483099752679308,\n",
              " 0.4143409188492925,\n",
              " 0.34683281412253364,\n",
              " 0.34330218068535817)"
            ]
          },
          "execution_count": 280,
          "metadata": {},
          "output_type": "execute_result"
        }
      ],
      "source": [
        "kappa, weighted_kappa, alpha, pi"
      ]
    },
    {
      "attachments": {},
      "cell_type": "markdown",
      "metadata": {
        "id": "kSu4lV9Z41Eh"
      },
      "source": [
        "## Agreements based on Quantifier & Modified SVO"
      ]
    },
    {
      "cell_type": "code",
      "execution_count": 281,
      "metadata": {
        "id": "D3ISW9dW41Eh"
      },
      "outputs": [],
      "source": [
        "u = [\"every\", \"always\", \"never\", \"everyone of\"]\n",
        "e = [\"some\", \"at least\", \"exactly one\", \"all but one\"]\n",
        "n = [\"not every\", \"no\", \"not\"]\n",
        "adj = [\"green\", \"happy\", \"sad\", \"good\", \"bad\", \"abnormally\", \"elegantly\", \"an elegant\", \"an abnormal\"]"
      ]
    },
    {
      "cell_type": "code",
      "execution_count": 282,
      "metadata": {
        "id": "Oh7zMiRo41Eh"
      },
      "outputs": [],
      "source": [
        "def get_quantifier_type(x):\n",
        "  if x in u:\n",
        "    return \"Universal\"\n",
        "  elif x in e:\n",
        "    return \"Existential\"\n",
        "  elif x in n:\n",
        "    return \"Negation\"\n",
        "  elif x in adj:\n",
        "    return \"Adjectives/Adverbs\"\n",
        "  else:\n",
        "    return \"NONE\""
      ]
    },
    {
      "cell_type": "code",
      "execution_count": 283,
      "metadata": {
        "colab": {
          "base_uri": "https://localhost:8080/",
          "height": 423
        },
        "id": "JRHZIstH41Eh",
        "outputId": "15ab6cb2-49ec-45b6-ad5c-3b7eab00a0db"
      },
      "outputs": [
        {
          "data": {
            "text/html": [
              "\n",
              "  <div id=\"df-ce3e2e3c-f3ce-4432-8e61-2715dc97976f\">\n",
              "    <div class=\"colab-df-container\">\n",
              "      <div>\n",
              "<style scoped>\n",
              "    .dataframe tbody tr th:only-of-type {\n",
              "        vertical-align: middle;\n",
              "    }\n",
              "\n",
              "    .dataframe tbody tr th {\n",
              "        vertical-align: top;\n",
              "    }\n",
              "\n",
              "    .dataframe thead th {\n",
              "        text-align: right;\n",
              "    }\n",
              "</style>\n",
              "<table border=\"1\" class=\"dataframe\">\n",
              "  <thead>\n",
              "    <tr style=\"text-align: right;\">\n",
              "      <th></th>\n",
              "      <th>SICK_id</th>\n",
              "      <th>Premise</th>\n",
              "      <th>Hypothesis</th>\n",
              "      <th>Modifier</th>\n",
              "      <th>Premise/Hypothesis/Both</th>\n",
              "      <th>Part of Premise/Hypothesis Modified</th>\n",
              "      <th>H</th>\n",
              "      <th>S</th>\n",
              "      <th>Quantifier Type</th>\n",
              "    </tr>\n",
              "  </thead>\n",
              "  <tbody>\n",
              "    <tr>\n",
              "      <th>0</th>\n",
              "      <td>455</td>\n",
              "      <td>two children are hanging on a large branch</td>\n",
              "      <td>two children are climbing a tree</td>\n",
              "      <td>NONE</td>\n",
              "      <td>NONE</td>\n",
              "      <td>NONE</td>\n",
              "      <td>1</td>\n",
              "      <td>1</td>\n",
              "      <td>NONE</td>\n",
              "    </tr>\n",
              "    <tr>\n",
              "      <th>1</th>\n",
              "      <td>455</td>\n",
              "      <td>every two children are hanging on a large branch</td>\n",
              "      <td>two children are climbing a tree</td>\n",
              "      <td>every</td>\n",
              "      <td>Premise</td>\n",
              "      <td>Subject</td>\n",
              "      <td>1</td>\n",
              "      <td>1</td>\n",
              "      <td>Universal</td>\n",
              "    </tr>\n",
              "    <tr>\n",
              "      <th>2</th>\n",
              "      <td>455</td>\n",
              "      <td>two children are hanging on a large branch</td>\n",
              "      <td>every two children are climbing a tree</td>\n",
              "      <td>every</td>\n",
              "      <td>Hypothesis</td>\n",
              "      <td>Subject</td>\n",
              "      <td>7</td>\n",
              "      <td>4</td>\n",
              "      <td>Universal</td>\n",
              "    </tr>\n",
              "    <tr>\n",
              "      <th>3</th>\n",
              "      <td>455</td>\n",
              "      <td>every two children are hanging on a large branch</td>\n",
              "      <td>every two children are climbing a tree</td>\n",
              "      <td>every</td>\n",
              "      <td>Both</td>\n",
              "      <td>Subject</td>\n",
              "      <td>1</td>\n",
              "      <td>1</td>\n",
              "      <td>Universal</td>\n",
              "    </tr>\n",
              "    <tr>\n",
              "      <th>4</th>\n",
              "      <td>455</td>\n",
              "      <td>some two children are hanging on a large branch</td>\n",
              "      <td>two children are climbing a tree</td>\n",
              "      <td>some</td>\n",
              "      <td>Premise</td>\n",
              "      <td>Subject</td>\n",
              "      <td>1</td>\n",
              "      <td>1</td>\n",
              "      <td>Existential</td>\n",
              "    </tr>\n",
              "    <tr>\n",
              "      <th>...</th>\n",
              "      <td>...</td>\n",
              "      <td>...</td>\n",
              "      <td>...</td>\n",
              "      <td>...</td>\n",
              "      <td>...</td>\n",
              "      <td>...</td>\n",
              "      <td>...</td>\n",
              "      <td>...</td>\n",
              "      <td>...</td>\n",
              "    </tr>\n",
              "    <tr>\n",
              "      <th>88</th>\n",
              "      <td>455</td>\n",
              "      <td>Two children are hanging on a large branch</td>\n",
              "      <td>Two children are climbing exactly one tree</td>\n",
              "      <td>exactly one</td>\n",
              "      <td>Hypothesis</td>\n",
              "      <td>Object</td>\n",
              "      <td>4</td>\n",
              "      <td>1</td>\n",
              "      <td>Existential</td>\n",
              "    </tr>\n",
              "    <tr>\n",
              "      <th>89</th>\n",
              "      <td>455</td>\n",
              "      <td>Two children are hanging on exactly one large ...</td>\n",
              "      <td>Two children are climbing exactly one tree</td>\n",
              "      <td>exactly one</td>\n",
              "      <td>Both</td>\n",
              "      <td>Object</td>\n",
              "      <td>1</td>\n",
              "      <td>4</td>\n",
              "      <td>Existential</td>\n",
              "    </tr>\n",
              "    <tr>\n",
              "      <th>90</th>\n",
              "      <td>455</td>\n",
              "      <td>Two children are hanging on an elegant large b...</td>\n",
              "      <td>Two children are climbing a tree\\n</td>\n",
              "      <td>an elegant</td>\n",
              "      <td>Premise</td>\n",
              "      <td>Object</td>\n",
              "      <td>1</td>\n",
              "      <td>1</td>\n",
              "      <td>Adjectives/Adverbs</td>\n",
              "    </tr>\n",
              "    <tr>\n",
              "      <th>91</th>\n",
              "      <td>455</td>\n",
              "      <td>Two children are hanging on a large branch</td>\n",
              "      <td>Two children are climbing a an elegant tree</td>\n",
              "      <td>an elegant</td>\n",
              "      <td>Hypothesis</td>\n",
              "      <td>Object</td>\n",
              "      <td>4</td>\n",
              "      <td>4</td>\n",
              "      <td>Adjectives/Adverbs</td>\n",
              "    </tr>\n",
              "    <tr>\n",
              "      <th>92</th>\n",
              "      <td>455</td>\n",
              "      <td>Two children are hanging on an elegant large b...</td>\n",
              "      <td>Two children are climbing a an elegant tree</td>\n",
              "      <td>an elegant</td>\n",
              "      <td>Both</td>\n",
              "      <td>Object</td>\n",
              "      <td>1</td>\n",
              "      <td>4</td>\n",
              "      <td>Adjectives/Adverbs</td>\n",
              "    </tr>\n",
              "  </tbody>\n",
              "</table>\n",
              "<p>93 rows × 9 columns</p>\n",
              "</div>\n",
              "      <button class=\"colab-df-convert\" onclick=\"convertToInteractive('df-ce3e2e3c-f3ce-4432-8e61-2715dc97976f')\"\n",
              "              title=\"Convert this dataframe to an interactive table.\"\n",
              "              style=\"display:none;\">\n",
              "        \n",
              "  <svg xmlns=\"http://www.w3.org/2000/svg\" height=\"24px\"viewBox=\"0 0 24 24\"\n",
              "       width=\"24px\">\n",
              "    <path d=\"M0 0h24v24H0V0z\" fill=\"none\"/>\n",
              "    <path d=\"M18.56 5.44l.94 2.06.94-2.06 2.06-.94-2.06-.94-.94-2.06-.94 2.06-2.06.94zm-11 1L8.5 8.5l.94-2.06 2.06-.94-2.06-.94L8.5 2.5l-.94 2.06-2.06.94zm10 10l.94 2.06.94-2.06 2.06-.94-2.06-.94-.94-2.06-.94 2.06-2.06.94z\"/><path d=\"M17.41 7.96l-1.37-1.37c-.4-.4-.92-.59-1.43-.59-.52 0-1.04.2-1.43.59L10.3 9.45l-7.72 7.72c-.78.78-.78 2.05 0 2.83L4 21.41c.39.39.9.59 1.41.59.51 0 1.02-.2 1.41-.59l7.78-7.78 2.81-2.81c.8-.78.8-2.07 0-2.86zM5.41 20L4 18.59l7.72-7.72 1.47 1.35L5.41 20z\"/>\n",
              "  </svg>\n",
              "      </button>\n",
              "      \n",
              "  <style>\n",
              "    .colab-df-container {\n",
              "      display:flex;\n",
              "      flex-wrap:wrap;\n",
              "      gap: 12px;\n",
              "    }\n",
              "\n",
              "    .colab-df-convert {\n",
              "      background-color: #E8F0FE;\n",
              "      border: none;\n",
              "      border-radius: 50%;\n",
              "      cursor: pointer;\n",
              "      display: none;\n",
              "      fill: #1967D2;\n",
              "      height: 32px;\n",
              "      padding: 0 0 0 0;\n",
              "      width: 32px;\n",
              "    }\n",
              "\n",
              "    .colab-df-convert:hover {\n",
              "      background-color: #E2EBFA;\n",
              "      box-shadow: 0px 1px 2px rgba(60, 64, 67, 0.3), 0px 1px 3px 1px rgba(60, 64, 67, 0.15);\n",
              "      fill: #174EA6;\n",
              "    }\n",
              "\n",
              "    [theme=dark] .colab-df-convert {\n",
              "      background-color: #3B4455;\n",
              "      fill: #D2E3FC;\n",
              "    }\n",
              "\n",
              "    [theme=dark] .colab-df-convert:hover {\n",
              "      background-color: #434B5C;\n",
              "      box-shadow: 0px 1px 3px 1px rgba(0, 0, 0, 0.15);\n",
              "      filter: drop-shadow(0px 1px 2px rgba(0, 0, 0, 0.3));\n",
              "      fill: #FFFFFF;\n",
              "    }\n",
              "  </style>\n",
              "\n",
              "      <script>\n",
              "        const buttonEl =\n",
              "          document.querySelector('#df-ce3e2e3c-f3ce-4432-8e61-2715dc97976f button.colab-df-convert');\n",
              "        buttonEl.style.display =\n",
              "          google.colab.kernel.accessAllowed ? 'block' : 'none';\n",
              "\n",
              "        async function convertToInteractive(key) {\n",
              "          const element = document.querySelector('#df-ce3e2e3c-f3ce-4432-8e61-2715dc97976f');\n",
              "          const dataTable =\n",
              "            await google.colab.kernel.invokeFunction('convertToInteractive',\n",
              "                                                     [key], {});\n",
              "          if (!dataTable) return;\n",
              "\n",
              "          const docLinkHtml = 'Like what you see? Visit the ' +\n",
              "            '<a target=\"_blank\" href=https://colab.research.google.com/notebooks/data_table.ipynb>data table notebook</a>'\n",
              "            + ' to learn more about interactive tables.';\n",
              "          element.innerHTML = '';\n",
              "          dataTable['output_type'] = 'display_data';\n",
              "          await google.colab.output.renderOutput(dataTable, element);\n",
              "          const docLink = document.createElement('div');\n",
              "          docLink.innerHTML = docLinkHtml;\n",
              "          element.appendChild(docLink);\n",
              "        }\n",
              "      </script>\n",
              "    </div>\n",
              "  </div>\n",
              "  "
            ],
            "text/plain": [
              "    SICK_id                                            Premise  \\\n",
              "0       455         two children are hanging on a large branch   \n",
              "1       455   every two children are hanging on a large branch   \n",
              "2       455         two children are hanging on a large branch   \n",
              "3       455   every two children are hanging on a large branch   \n",
              "4       455    some two children are hanging on a large branch   \n",
              "..      ...                                                ...   \n",
              "88      455         Two children are hanging on a large branch   \n",
              "89      455  Two children are hanging on exactly one large ...   \n",
              "90      455  Two children are hanging on an elegant large b...   \n",
              "91      455         Two children are hanging on a large branch   \n",
              "92      455  Two children are hanging on an elegant large b...   \n",
              "\n",
              "                                     Hypothesis     Modifier  \\\n",
              "0              two children are climbing a tree         NONE   \n",
              "1              two children are climbing a tree        every   \n",
              "2        every two children are climbing a tree        every   \n",
              "3        every two children are climbing a tree        every   \n",
              "4              two children are climbing a tree         some   \n",
              "..                                          ...          ...   \n",
              "88   Two children are climbing exactly one tree  exactly one   \n",
              "89   Two children are climbing exactly one tree  exactly one   \n",
              "90           Two children are climbing a tree\\n   an elegant   \n",
              "91  Two children are climbing a an elegant tree   an elegant   \n",
              "92  Two children are climbing a an elegant tree   an elegant   \n",
              "\n",
              "   Premise/Hypothesis/Both Part of Premise/Hypothesis Modified  H  S  \\\n",
              "0                     NONE                                NONE  1  1   \n",
              "1                  Premise                             Subject  1  1   \n",
              "2               Hypothesis                             Subject  7  4   \n",
              "3                     Both                             Subject  1  1   \n",
              "4                  Premise                             Subject  1  1   \n",
              "..                     ...                                 ... .. ..   \n",
              "88              Hypothesis                              Object  4  1   \n",
              "89                    Both                              Object  1  4   \n",
              "90                 Premise                              Object  1  1   \n",
              "91              Hypothesis                              Object  4  4   \n",
              "92                    Both                              Object  1  4   \n",
              "\n",
              "       Quantifier Type  \n",
              "0                 NONE  \n",
              "1            Universal  \n",
              "2            Universal  \n",
              "3            Universal  \n",
              "4          Existential  \n",
              "..                 ...  \n",
              "88         Existential  \n",
              "89         Existential  \n",
              "90  Adjectives/Adverbs  \n",
              "91  Adjectives/Adverbs  \n",
              "92  Adjectives/Adverbs  \n",
              "\n",
              "[93 rows x 9 columns]"
            ]
          },
          "execution_count": 283,
          "metadata": {},
          "output_type": "execute_result"
        }
      ],
      "source": [
        "block_23['Quantifier Type'] = block_23['Modifier'].apply(lambda x: get_quantifier_type(x)  )\n",
        "block_23"
      ]
    },
    {
      "cell_type": "code",
      "execution_count": 286,
      "metadata": {
        "colab": {
          "base_uri": "https://localhost:8080/"
        },
        "id": "reSWAfcS41Eh",
        "outputId": "c5443cb0-95dd-42cb-80b0-ddc5b8277a6b"
      },
      "outputs": [
        {
          "name": "stdout",
          "output_type": "stream",
          "text": [
            "Best : None\n",
            "\n",
            "Rank  Name   Class-Score       Overall-Score\n",
            "1     S_H    0.23056           0.31389\n",
            "1     H_S    0.23056           0.31389\n",
            "\n"
          ]
        },
        {
          "name": "stderr",
          "output_type": "stream",
          "text": [
            "/usr/local/lib/python3.8/dist-packages/pycm/pycm_compare.py:87: RuntimeWarning: Confusion matrices are too close and the best one can not be recognized.\n",
            "  warn(COMPARE_RESULT_WARNING, RuntimeWarning)\n"
          ]
        }
      ],
      "source": [
        "cm_one_way = ConfusionMatrix(actual_vector=block_23['H'].to_list(), predict_vector=block_23['S'].to_list(), classes=lmap)\n",
        "cm_two_way = ConfusionMatrix(actual_vector=block_23['S'].to_list(), predict_vector=block_23['H'].to_list(), classes=lmap)\n",
        "cm_one_way.relabel(mapping= {k:lmap[k] for k in cm_one_way.classes})\n",
        "cm_two_way.relabel(mapping= {k:lmap[k] for k in cm_two_way.classes})\n",
        "cp = Compare({\"H_S\":cm_one_way,\"S_H\":cm_two_way})\n",
        "print(cp)"
      ]
    },
    {
      "cell_type": "code",
      "execution_count": 287,
      "metadata": {
        "colab": {
          "base_uri": "https://localhost:8080/"
        },
        "id": "n5qnLQxh41Eh",
        "outputId": "07bfbdd7-630f-4549-842f-ea7b7a7b216f"
      },
      "outputs": [
        {
          "data": {
            "text/plain": [
              "{1: 'FE',\n",
              " 2: 'RE',\n",
              " 3: 'Negation',\n",
              " 4: 'Neutral',\n",
              " 5: 'Alternation',\n",
              " 6: 'Equivalence',\n",
              " 7: 'Cover'}"
            ]
          },
          "execution_count": 287,
          "metadata": {},
          "output_type": "execute_result"
        }
      ],
      "source": [
        "lmap"
      ]
    },
    {
      "cell_type": "code",
      "execution_count": 288,
      "metadata": {
        "colab": {
          "base_uri": "https://localhost:8080/"
        },
        "id": "DtgbK0Z541Eh",
        "outputId": "f0ea1e98-bb14-4243-afa0-48d530032dd9"
      },
      "outputs": [
        {
          "data": {
            "text/plain": [
              "(None, ['S_H', 'H_S'], None)"
            ]
          },
          "execution_count": 288,
          "metadata": {},
          "output_type": "execute_result"
        }
      ],
      "source": [
        "cp.best, cp.sorted, cp.best_name"
      ]
    },
    {
      "cell_type": "code",
      "execution_count": 289,
      "metadata": {
        "colab": {
          "base_uri": "https://localhost:8080/"
        },
        "id": "_QJg_lhb41Eh",
        "outputId": "ed85ea15-ffe2-4ea6-c2fe-9132921e95d7"
      },
      "outputs": [
        {
          "data": {
            "text/plain": [
              "(['Alternation', 'Cover', 'FE', 'Negation', 'Neutral', 'RE'],\n",
              " ['Alternation', 'Cover', 'FE', 'Negation', 'Neutral', 'RE'])"
            ]
          },
          "execution_count": 289,
          "metadata": {},
          "output_type": "execute_result"
        }
      ],
      "source": [
        "cm_one_way.classes, cm_two_way.classes"
      ]
    },
    {
      "attachments": {},
      "cell_type": "markdown",
      "metadata": {
        "id": "7kNlcJXr41Ei"
      },
      "source": [
        "### Seeing the Confusion matrix density plots for Max agreement between each pair of annotators."
      ]
    },
    {
      "cell_type": "code",
      "execution_count": 290,
      "metadata": {
        "colab": {
          "base_uri": "https://localhost:8080/",
          "height": 791
        },
        "id": "vc0NAS5141Ei",
        "outputId": "4d6c9606-0b37-4280-d86c-41a15e08d41d"
      },
      "outputs": [
        {
          "data": {
            "image/png": "[encoded data removed]",
            "text/plain": [
              "<Figure size 576x432 with 2 Axes>"
            ]
          },
          "metadata": {
            "needs_background": "light"
          },
          "output_type": "display_data"
        },
        {
          "data": {
            "image/png": "[encoded data removed]",
            "text/plain": [
              "<Figure size 576x432 with 2 Axes>"
            ]
          },
          "metadata": {
            "needs_background": "light"
          },
          "output_type": "display_data"
        }
      ],
      "source": [
        "from matplotlib import pyplot as plt\n",
        "plt.rcParams[\"figure.figsize\"] = (8,6)\n",
        "cm_one_way.plot(cmap=plt.cm.Blues,number_label=True,plot_lib=\"seaborn\")\n",
        "plt.title(\"Annotator 4 & 5\")\n",
        "plt.savefig('blocks_455_ann45.png', dpi=100)\n",
        "cm_two_way.plot(cmap=plt.cm.Blues,number_label=True,plot_lib=\"seaborn\")\n",
        "plt.title(\"Annotator 5 & 4\")\n",
        "plt.savefig('blocks_455_ann54.png', dpi=100)"
      ]
    },
    {
      "cell_type": "code",
      "execution_count": 292,
      "metadata": {
        "colab": {
          "base_uri": "https://localhost:8080/",
          "height": 819
        },
        "id": "cGaTBWcP41Ei",
        "outputId": "0f62b8e5-4191-4bb3-cbb3-957861310fb7"
      },
      "outputs": [
        {
          "name": "stdout",
          "output_type": "stream",
          "text": [
            "****** Counts for Modified SUBJ/VERB/OBJECT and annotators 1 & 2 ******** \n"
          ]
        },
        {
          "data": {
            "text/html": [
              "\n",
              "  <div id=\"df-07e1f927-d9bc-4fa9-81b6-8113556c717e\">\n",
              "    <div class=\"colab-df-container\">\n",
              "      <div>\n",
              "<style scoped>\n",
              "    .dataframe tbody tr th:only-of-type {\n",
              "        vertical-align: middle;\n",
              "    }\n",
              "\n",
              "    .dataframe tbody tr th {\n",
              "        vertical-align: top;\n",
              "    }\n",
              "\n",
              "    .dataframe thead th {\n",
              "        text-align: right;\n",
              "    }\n",
              "</style>\n",
              "<table border=\"1\" class=\"dataframe\">\n",
              "  <thead>\n",
              "    <tr style=\"text-align: right;\">\n",
              "      <th></th>\n",
              "      <th>Modified SUBJ/VERB/OBJECT</th>\n",
              "      <th>H</th>\n",
              "      <th>S</th>\n",
              "      <th>Count</th>\n",
              "    </tr>\n",
              "  </thead>\n",
              "  <tbody>\n",
              "    <tr>\n",
              "      <th>12</th>\n",
              "      <td>Subject</td>\n",
              "      <td>1</td>\n",
              "      <td>1</td>\n",
              "      <td>22</td>\n",
              "    </tr>\n",
              "    <tr>\n",
              "      <th>1</th>\n",
              "      <td>Object</td>\n",
              "      <td>1</td>\n",
              "      <td>1</td>\n",
              "      <td>13</td>\n",
              "    </tr>\n",
              "    <tr>\n",
              "      <th>16</th>\n",
              "      <td>Subject</td>\n",
              "      <td>4</td>\n",
              "      <td>4</td>\n",
              "      <td>9</td>\n",
              "    </tr>\n",
              "    <tr>\n",
              "      <th>2</th>\n",
              "      <td>Object</td>\n",
              "      <td>1</td>\n",
              "      <td>4</td>\n",
              "      <td>8</td>\n",
              "    </tr>\n",
              "    <tr>\n",
              "      <th>7</th>\n",
              "      <td>Object</td>\n",
              "      <td>4</td>\n",
              "      <td>4</td>\n",
              "      <td>6</td>\n",
              "    </tr>\n",
              "    <tr>\n",
              "      <th>21</th>\n",
              "      <td>Verb</td>\n",
              "      <td>4</td>\n",
              "      <td>1</td>\n",
              "      <td>4</td>\n",
              "    </tr>\n",
              "    <tr>\n",
              "      <th>22</th>\n",
              "      <td>Verb</td>\n",
              "      <td>4</td>\n",
              "      <td>4</td>\n",
              "      <td>3</td>\n",
              "    </tr>\n",
              "    <tr>\n",
              "      <th>20</th>\n",
              "      <td>Verb</td>\n",
              "      <td>1</td>\n",
              "      <td>4</td>\n",
              "      <td>3</td>\n",
              "    </tr>\n",
              "    <tr>\n",
              "      <th>19</th>\n",
              "      <td>Verb</td>\n",
              "      <td>1</td>\n",
              "      <td>1</td>\n",
              "      <td>3</td>\n",
              "    </tr>\n",
              "    <tr>\n",
              "      <th>13</th>\n",
              "      <td>Subject</td>\n",
              "      <td>1</td>\n",
              "      <td>4</td>\n",
              "      <td>3</td>\n",
              "    </tr>\n",
              "    <tr>\n",
              "      <th>0</th>\n",
              "      <td>NONE</td>\n",
              "      <td>1</td>\n",
              "      <td>1</td>\n",
              "      <td>3</td>\n",
              "    </tr>\n",
              "    <tr>\n",
              "      <th>15</th>\n",
              "      <td>Subject</td>\n",
              "      <td>4</td>\n",
              "      <td>2</td>\n",
              "      <td>2</td>\n",
              "    </tr>\n",
              "    <tr>\n",
              "      <th>5</th>\n",
              "      <td>Object</td>\n",
              "      <td>4</td>\n",
              "      <td>1</td>\n",
              "      <td>2</td>\n",
              "    </tr>\n",
              "    <tr>\n",
              "      <th>23</th>\n",
              "      <td>Verb</td>\n",
              "      <td>5</td>\n",
              "      <td>4</td>\n",
              "      <td>2</td>\n",
              "    </tr>\n",
              "    <tr>\n",
              "      <th>11</th>\n",
              "      <td>Object</td>\n",
              "      <td>7</td>\n",
              "      <td>5</td>\n",
              "      <td>1</td>\n",
              "    </tr>\n",
              "    <tr>\n",
              "      <th>10</th>\n",
              "      <td>Object</td>\n",
              "      <td>5</td>\n",
              "      <td>4</td>\n",
              "      <td>1</td>\n",
              "    </tr>\n",
              "    <tr>\n",
              "      <th>9</th>\n",
              "      <td>Object</td>\n",
              "      <td>5</td>\n",
              "      <td>3</td>\n",
              "      <td>1</td>\n",
              "    </tr>\n",
              "    <tr>\n",
              "      <th>14</th>\n",
              "      <td>Subject</td>\n",
              "      <td>4</td>\n",
              "      <td>1</td>\n",
              "      <td>1</td>\n",
              "    </tr>\n",
              "    <tr>\n",
              "      <th>8</th>\n",
              "      <td>Object</td>\n",
              "      <td>4</td>\n",
              "      <td>5</td>\n",
              "      <td>1</td>\n",
              "    </tr>\n",
              "    <tr>\n",
              "      <th>17</th>\n",
              "      <td>Subject</td>\n",
              "      <td>5</td>\n",
              "      <td>3</td>\n",
              "      <td>1</td>\n",
              "    </tr>\n",
              "    <tr>\n",
              "      <th>18</th>\n",
              "      <td>Subject</td>\n",
              "      <td>7</td>\n",
              "      <td>4</td>\n",
              "      <td>1</td>\n",
              "    </tr>\n",
              "    <tr>\n",
              "      <th>6</th>\n",
              "      <td>Object</td>\n",
              "      <td>4</td>\n",
              "      <td>3</td>\n",
              "      <td>1</td>\n",
              "    </tr>\n",
              "    <tr>\n",
              "      <th>4</th>\n",
              "      <td>Object</td>\n",
              "      <td>1</td>\n",
              "      <td>7</td>\n",
              "      <td>1</td>\n",
              "    </tr>\n",
              "    <tr>\n",
              "      <th>3</th>\n",
              "      <td>Object</td>\n",
              "      <td>1</td>\n",
              "      <td>5</td>\n",
              "      <td>1</td>\n",
              "    </tr>\n",
              "  </tbody>\n",
              "</table>\n",
              "</div>\n",
              "      <button class=\"colab-df-convert\" onclick=\"convertToInteractive('df-07e1f927-d9bc-4fa9-81b6-8113556c717e')\"\n",
              "              title=\"Convert this dataframe to an interactive table.\"\n",
              "              style=\"display:none;\">\n",
              "        \n",
              "  <svg xmlns=\"http://www.w3.org/2000/svg\" height=\"24px\"viewBox=\"0 0 24 24\"\n",
              "       width=\"24px\">\n",
              "    <path d=\"M0 0h24v24H0V0z\" fill=\"none\"/>\n",
              "    <path d=\"M18.56 5.44l.94 2.06.94-2.06 2.06-.94-2.06-.94-.94-2.06-.94 2.06-2.06.94zm-11 1L8.5 8.5l.94-2.06 2.06-.94-2.06-.94L8.5 2.5l-.94 2.06-2.06.94zm10 10l.94 2.06.94-2.06 2.06-.94-2.06-.94-.94-2.06-.94 2.06-2.06.94z\"/><path d=\"M17.41 7.96l-1.37-1.37c-.4-.4-.92-.59-1.43-.59-.52 0-1.04.2-1.43.59L10.3 9.45l-7.72 7.72c-.78.78-.78 2.05 0 2.83L4 21.41c.39.39.9.59 1.41.59.51 0 1.02-.2 1.41-.59l7.78-7.78 2.81-2.81c.8-.78.8-2.07 0-2.86zM5.41 20L4 18.59l7.72-7.72 1.47 1.35L5.41 20z\"/>\n",
              "  </svg>\n",
              "      </button>\n",
              "      \n",
              "  <style>\n",
              "    .colab-df-container {\n",
              "      display:flex;\n",
              "      flex-wrap:wrap;\n",
              "      gap: 12px;\n",
              "    }\n",
              "\n",
              "    .colab-df-convert {\n",
              "      background-color: #E8F0FE;\n",
              "      border: none;\n",
              "      border-radius: 50%;\n",
              "      cursor: pointer;\n",
              "      display: none;\n",
              "      fill: #1967D2;\n",
              "      height: 32px;\n",
              "      padding: 0 0 0 0;\n",
              "      width: 32px;\n",
              "    }\n",
              "\n",
              "    .colab-df-convert:hover {\n",
              "      background-color: #E2EBFA;\n",
              "      box-shadow: 0px 1px 2px rgba(60, 64, 67, 0.3), 0px 1px 3px 1px rgba(60, 64, 67, 0.15);\n",
              "      fill: #174EA6;\n",
              "    }\n",
              "\n",
              "    [theme=dark] .colab-df-convert {\n",
              "      background-color: #3B4455;\n",
              "      fill: #D2E3FC;\n",
              "    }\n",
              "\n",
              "    [theme=dark] .colab-df-convert:hover {\n",
              "      background-color: #434B5C;\n",
              "      box-shadow: 0px 1px 3px 1px rgba(0, 0, 0, 0.15);\n",
              "      filter: drop-shadow(0px 1px 2px rgba(0, 0, 0, 0.3));\n",
              "      fill: #FFFFFF;\n",
              "    }\n",
              "  </style>\n",
              "\n",
              "      <script>\n",
              "        const buttonEl =\n",
              "          document.querySelector('#df-07e1f927-d9bc-4fa9-81b6-8113556c717e button.colab-df-convert');\n",
              "        buttonEl.style.display =\n",
              "          google.colab.kernel.accessAllowed ? 'block' : 'none';\n",
              "\n",
              "        async function convertToInteractive(key) {\n",
              "          const element = document.querySelector('#df-07e1f927-d9bc-4fa9-81b6-8113556c717e');\n",
              "          const dataTable =\n",
              "            await google.colab.kernel.invokeFunction('convertToInteractive',\n",
              "                                                     [key], {});\n",
              "          if (!dataTable) return;\n",
              "\n",
              "          const docLinkHtml = 'Like what you see? Visit the ' +\n",
              "            '<a target=\"_blank\" href=https://colab.research.google.com/notebooks/data_table.ipynb>data table notebook</a>'\n",
              "            + ' to learn more about interactive tables.';\n",
              "          element.innerHTML = '';\n",
              "          dataTable['output_type'] = 'display_data';\n",
              "          await google.colab.output.renderOutput(dataTable, element);\n",
              "          const docLink = document.createElement('div');\n",
              "          docLink.innerHTML = docLinkHtml;\n",
              "          element.appendChild(docLink);\n",
              "        }\n",
              "      </script>\n",
              "    </div>\n",
              "  </div>\n",
              "  "
            ],
            "text/plain": [
              "   Modified SUBJ/VERB/OBJECT  H  S  Count\n",
              "12                   Subject  1  1     22\n",
              "1                     Object  1  1     13\n",
              "16                   Subject  4  4      9\n",
              "2                     Object  1  4      8\n",
              "7                     Object  4  4      6\n",
              "21                      Verb  4  1      4\n",
              "22                      Verb  4  4      3\n",
              "20                      Verb  1  4      3\n",
              "19                      Verb  1  1      3\n",
              "13                   Subject  1  4      3\n",
              "0                       NONE  1  1      3\n",
              "15                   Subject  4  2      2\n",
              "5                     Object  4  1      2\n",
              "23                      Verb  5  4      2\n",
              "11                    Object  7  5      1\n",
              "10                    Object  5  4      1\n",
              "9                     Object  5  3      1\n",
              "14                   Subject  4  1      1\n",
              "8                     Object  4  5      1\n",
              "17                   Subject  5  3      1\n",
              "18                   Subject  7  4      1\n",
              "6                     Object  4  3      1\n",
              "4                     Object  1  7      1\n",
              "3                     Object  1  5      1"
            ]
          },
          "execution_count": 292,
          "metadata": {},
          "output_type": "execute_result"
        }
      ],
      "source": [
        "block_23 = block_23.rename(columns={'Part of Premise/Hypothesis Modified':'Modified SUBJ/VERB/OBJECT'})\n",
        "res = block_23.groupby(['Modified SUBJ/VERB/OBJECT', 'H', 'S']).count().reset_index()[[ 'Quantifier Type', 'Modified SUBJ/VERB/OBJECT', 'H', 'S','Premise/Hypothesis/Both']]\n",
        "r = res.sort_values(by='Premise/Hypothesis/Both',ascending=False)[['Modified SUBJ/VERB/OBJECT','H', 'S','Quantifier Type']]\n",
        "r= r.rename(columns={ 'Quantifier Type':'Count'})\n",
        "print(\"****** Counts for Modified SUBJ/VERB/OBJECT and annotators 1 & 2 ******** \")\n",
        "r"
      ]
    },
    {
      "cell_type": "code",
      "execution_count": 293,
      "metadata": {
        "id": "wtt_vmVWe7Va"
      },
      "outputs": [],
      "source": [
        "r.to_excel(\"block_455_45_modifier.xlsx\")"
      ]
    },
    {
      "cell_type": "code",
      "execution_count": 294,
      "metadata": {
        "colab": {
          "base_uri": "https://localhost:8080/"
        },
        "id": "cRxvthMD41Ei",
        "outputId": "c228373c-108b-4011-8d3b-7b8904adb77e"
      },
      "outputs": [
        {
          "data": {
            "text/plain": [
              "Adjectives/Adverbs    42\n",
              "Existential           21\n",
              "Universal             15\n",
              "Negation              12\n",
              "NONE                   3\n",
              "Name: Quantifier Type, dtype: int64"
            ]
          },
          "execution_count": 294,
          "metadata": {},
          "output_type": "execute_result"
        }
      ],
      "source": [
        "block_23['Quantifier Type'].value_counts()"
      ]
    },
    {
      "cell_type": "code",
      "execution_count": 295,
      "metadata": {
        "colab": {
          "base_uri": "https://localhost:8080/"
        },
        "id": "v5tiJxBZ41Ei",
        "outputId": "6b2c8ce6-598b-497d-8f7e-02be7d70c212"
      },
      "outputs": [
        {
          "data": {
            "text/plain": [
              "Subject    39\n",
              "Object     36\n",
              "Verb       15\n",
              "NONE        3\n",
              "Name: Modified SUBJ/VERB/OBJECT, dtype: int64"
            ]
          },
          "execution_count": 295,
          "metadata": {},
          "output_type": "execute_result"
        }
      ],
      "source": [
        "block_23['Modified SUBJ/VERB/OBJECT'].value_counts()"
      ]
    },
    {
      "cell_type": "code",
      "execution_count": 297,
      "metadata": {
        "colab": {
          "base_uri": "https://localhost:8080/",
          "height": 457
        },
        "id": "-bdyRsZM41Ei",
        "outputId": "a3a4e6fd-eb26-4b28-df02-ae4b3b009faf"
      },
      "outputs": [
        {
          "data": {
            "text/html": [
              "\n",
              "  <div id=\"df-62ba9c6b-dc73-4cd4-b03e-3eff2411589a\">\n",
              "    <div class=\"colab-df-container\">\n",
              "      <div>\n",
              "<style scoped>\n",
              "    .dataframe tbody tr th:only-of-type {\n",
              "        vertical-align: middle;\n",
              "    }\n",
              "\n",
              "    .dataframe tbody tr th {\n",
              "        vertical-align: top;\n",
              "    }\n",
              "\n",
              "    .dataframe thead th {\n",
              "        text-align: right;\n",
              "    }\n",
              "</style>\n",
              "<table border=\"1\" class=\"dataframe\">\n",
              "  <thead>\n",
              "    <tr style=\"text-align: right;\">\n",
              "      <th></th>\n",
              "      <th>H</th>\n",
              "      <th>S</th>\n",
              "      <th>Count</th>\n",
              "    </tr>\n",
              "  </thead>\n",
              "  <tbody>\n",
              "    <tr>\n",
              "      <th>0</th>\n",
              "      <td>1</td>\n",
              "      <td>1</td>\n",
              "      <td>41</td>\n",
              "    </tr>\n",
              "    <tr>\n",
              "      <th>7</th>\n",
              "      <td>4</td>\n",
              "      <td>4</td>\n",
              "      <td>18</td>\n",
              "    </tr>\n",
              "    <tr>\n",
              "      <th>1</th>\n",
              "      <td>1</td>\n",
              "      <td>4</td>\n",
              "      <td>14</td>\n",
              "    </tr>\n",
              "    <tr>\n",
              "      <th>4</th>\n",
              "      <td>4</td>\n",
              "      <td>1</td>\n",
              "      <td>7</td>\n",
              "    </tr>\n",
              "    <tr>\n",
              "      <th>10</th>\n",
              "      <td>5</td>\n",
              "      <td>4</td>\n",
              "      <td>3</td>\n",
              "    </tr>\n",
              "    <tr>\n",
              "      <th>5</th>\n",
              "      <td>4</td>\n",
              "      <td>2</td>\n",
              "      <td>2</td>\n",
              "    </tr>\n",
              "    <tr>\n",
              "      <th>9</th>\n",
              "      <td>5</td>\n",
              "      <td>3</td>\n",
              "      <td>2</td>\n",
              "    </tr>\n",
              "    <tr>\n",
              "      <th>2</th>\n",
              "      <td>1</td>\n",
              "      <td>5</td>\n",
              "      <td>1</td>\n",
              "    </tr>\n",
              "    <tr>\n",
              "      <th>3</th>\n",
              "      <td>1</td>\n",
              "      <td>7</td>\n",
              "      <td>1</td>\n",
              "    </tr>\n",
              "    <tr>\n",
              "      <th>6</th>\n",
              "      <td>4</td>\n",
              "      <td>3</td>\n",
              "      <td>1</td>\n",
              "    </tr>\n",
              "    <tr>\n",
              "      <th>8</th>\n",
              "      <td>4</td>\n",
              "      <td>5</td>\n",
              "      <td>1</td>\n",
              "    </tr>\n",
              "    <tr>\n",
              "      <th>11</th>\n",
              "      <td>7</td>\n",
              "      <td>4</td>\n",
              "      <td>1</td>\n",
              "    </tr>\n",
              "    <tr>\n",
              "      <th>12</th>\n",
              "      <td>7</td>\n",
              "      <td>5</td>\n",
              "      <td>1</td>\n",
              "    </tr>\n",
              "  </tbody>\n",
              "</table>\n",
              "</div>\n",
              "      <button class=\"colab-df-convert\" onclick=\"convertToInteractive('df-62ba9c6b-dc73-4cd4-b03e-3eff2411589a')\"\n",
              "              title=\"Convert this dataframe to an interactive table.\"\n",
              "              style=\"display:none;\">\n",
              "        \n",
              "  <svg xmlns=\"http://www.w3.org/2000/svg\" height=\"24px\"viewBox=\"0 0 24 24\"\n",
              "       width=\"24px\">\n",
              "    <path d=\"M0 0h24v24H0V0z\" fill=\"none\"/>\n",
              "    <path d=\"M18.56 5.44l.94 2.06.94-2.06 2.06-.94-2.06-.94-.94-2.06-.94 2.06-2.06.94zm-11 1L8.5 8.5l.94-2.06 2.06-.94-2.06-.94L8.5 2.5l-.94 2.06-2.06.94zm10 10l.94 2.06.94-2.06 2.06-.94-2.06-.94-.94-2.06-.94 2.06-2.06.94z\"/><path d=\"M17.41 7.96l-1.37-1.37c-.4-.4-.92-.59-1.43-.59-.52 0-1.04.2-1.43.59L10.3 9.45l-7.72 7.72c-.78.78-.78 2.05 0 2.83L4 21.41c.39.39.9.59 1.41.59.51 0 1.02-.2 1.41-.59l7.78-7.78 2.81-2.81c.8-.78.8-2.07 0-2.86zM5.41 20L4 18.59l7.72-7.72 1.47 1.35L5.41 20z\"/>\n",
              "  </svg>\n",
              "      </button>\n",
              "      \n",
              "  <style>\n",
              "    .colab-df-container {\n",
              "      display:flex;\n",
              "      flex-wrap:wrap;\n",
              "      gap: 12px;\n",
              "    }\n",
              "\n",
              "    .colab-df-convert {\n",
              "      background-color: #E8F0FE;\n",
              "      border: none;\n",
              "      border-radius: 50%;\n",
              "      cursor: pointer;\n",
              "      display: none;\n",
              "      fill: #1967D2;\n",
              "      height: 32px;\n",
              "      padding: 0 0 0 0;\n",
              "      width: 32px;\n",
              "    }\n",
              "\n",
              "    .colab-df-convert:hover {\n",
              "      background-color: #E2EBFA;\n",
              "      box-shadow: 0px 1px 2px rgba(60, 64, 67, 0.3), 0px 1px 3px 1px rgba(60, 64, 67, 0.15);\n",
              "      fill: #174EA6;\n",
              "    }\n",
              "\n",
              "    [theme=dark] .colab-df-convert {\n",
              "      background-color: #3B4455;\n",
              "      fill: #D2E3FC;\n",
              "    }\n",
              "\n",
              "    [theme=dark] .colab-df-convert:hover {\n",
              "      background-color: #434B5C;\n",
              "      box-shadow: 0px 1px 3px 1px rgba(0, 0, 0, 0.15);\n",
              "      filter: drop-shadow(0px 1px 2px rgba(0, 0, 0, 0.3));\n",
              "      fill: #FFFFFF;\n",
              "    }\n",
              "  </style>\n",
              "\n",
              "      <script>\n",
              "        const buttonEl =\n",
              "          document.querySelector('#df-62ba9c6b-dc73-4cd4-b03e-3eff2411589a button.colab-df-convert');\n",
              "        buttonEl.style.display =\n",
              "          google.colab.kernel.accessAllowed ? 'block' : 'none';\n",
              "\n",
              "        async function convertToInteractive(key) {\n",
              "          const element = document.querySelector('#df-62ba9c6b-dc73-4cd4-b03e-3eff2411589a');\n",
              "          const dataTable =\n",
              "            await google.colab.kernel.invokeFunction('convertToInteractive',\n",
              "                                                     [key], {});\n",
              "          if (!dataTable) return;\n",
              "\n",
              "          const docLinkHtml = 'Like what you see? Visit the ' +\n",
              "            '<a target=\"_blank\" href=https://colab.research.google.com/notebooks/data_table.ipynb>data table notebook</a>'\n",
              "            + ' to learn more about interactive tables.';\n",
              "          element.innerHTML = '';\n",
              "          dataTable['output_type'] = 'display_data';\n",
              "          await google.colab.output.renderOutput(dataTable, element);\n",
              "          const docLink = document.createElement('div');\n",
              "          docLink.innerHTML = docLinkHtml;\n",
              "          element.appendChild(docLink);\n",
              "        }\n",
              "      </script>\n",
              "    </div>\n",
              "  </div>\n",
              "  "
            ],
            "text/plain": [
              "    H  S  Count\n",
              "0   1  1     41\n",
              "7   4  4     18\n",
              "1   1  4     14\n",
              "4   4  1      7\n",
              "10  5  4      3\n",
              "5   4  2      2\n",
              "9   5  3      2\n",
              "2   1  5      1\n",
              "3   1  7      1\n",
              "6   4  3      1\n",
              "8   4  5      1\n",
              "11  7  4      1\n",
              "12  7  5      1"
            ]
          },
          "execution_count": 297,
          "metadata": {},
          "output_type": "execute_result"
        }
      ],
      "source": [
        "r = block_23.groupby(['H', 'S',]).count().reset_index()[['H', 'S',\t'Premise']]\n",
        "r.rename(columns={'Premise':\"Count\"}).sort_values(by='Count', ascending=False)"
      ]
    },
    {
      "cell_type": "code",
      "execution_count": 299,
      "metadata": {
        "id": "gZaPQU5F41Ei"
      },
      "outputs": [],
      "source": [
        "rev_label_map = {v:k for k,v in label_map.items()}\n",
        "for i in ['H', 'S']:\n",
        "  block_23[i] = block_23[i].map(rev_label_map)"
      ]
    },
    {
      "cell_type": "code",
      "execution_count": 300,
      "metadata": {
        "colab": {
          "base_uri": "https://localhost:8080/",
          "height": 663
        },
        "id": "oinU3amJ41Ei",
        "outputId": "11d311bc-dd72-4364-88f6-99948558b644"
      },
      "outputs": [
        {
          "name": "stdout",
          "output_type": "stream",
          "text": [
            "****** The confused predictions for each modifier for two annotators are: ******\n"
          ]
        },
        {
          "data": {
            "text/html": [
              "\n",
              "  <div id=\"df-a6adc036-7678-473e-9861-059882a92b09\">\n",
              "    <div class=\"colab-df-container\">\n",
              "      <div>\n",
              "<style scoped>\n",
              "    .dataframe tbody tr th:only-of-type {\n",
              "        vertical-align: middle;\n",
              "    }\n",
              "\n",
              "    .dataframe tbody tr th {\n",
              "        vertical-align: top;\n",
              "    }\n",
              "\n",
              "    .dataframe thead th {\n",
              "        text-align: right;\n",
              "    }\n",
              "</style>\n",
              "<table border=\"1\" class=\"dataframe\">\n",
              "  <thead>\n",
              "    <tr style=\"text-align: right;\">\n",
              "      <th></th>\n",
              "      <th>Quantifier Type</th>\n",
              "      <th>H</th>\n",
              "      <th>S</th>\n",
              "      <th>Counts</th>\n",
              "    </tr>\n",
              "  </thead>\n",
              "  <tbody>\n",
              "    <tr>\n",
              "      <th>2</th>\n",
              "      <td>Adjectives/Adverbs</td>\n",
              "      <td>FE</td>\n",
              "      <td>Neutral</td>\n",
              "      <td>8</td>\n",
              "    </tr>\n",
              "    <tr>\n",
              "      <th>7</th>\n",
              "      <td>Existential</td>\n",
              "      <td>FE</td>\n",
              "      <td>Neutral</td>\n",
              "      <td>5</td>\n",
              "    </tr>\n",
              "    <tr>\n",
              "      <th>15</th>\n",
              "      <td>Negation</td>\n",
              "      <td>Neutral</td>\n",
              "      <td>FE</td>\n",
              "      <td>2</td>\n",
              "    </tr>\n",
              "    <tr>\n",
              "      <th>3</th>\n",
              "      <td>Adjectives/Adverbs</td>\n",
              "      <td>Neutral</td>\n",
              "      <td>FE</td>\n",
              "      <td>2</td>\n",
              "    </tr>\n",
              "    <tr>\n",
              "      <th>9</th>\n",
              "      <td>Existential</td>\n",
              "      <td>Neutral</td>\n",
              "      <td>FE</td>\n",
              "      <td>2</td>\n",
              "    </tr>\n",
              "    <tr>\n",
              "      <th>12</th>\n",
              "      <td>Negation</td>\n",
              "      <td>Alternation</td>\n",
              "      <td>Negation</td>\n",
              "      <td>2</td>\n",
              "    </tr>\n",
              "    <tr>\n",
              "      <th>19</th>\n",
              "      <td>Universal</td>\n",
              "      <td>Alternation</td>\n",
              "      <td>Neutral</td>\n",
              "      <td>1</td>\n",
              "    </tr>\n",
              "    <tr>\n",
              "      <th>25</th>\n",
              "      <td>Universal</td>\n",
              "      <td>Neutral</td>\n",
              "      <td>FE</td>\n",
              "      <td>1</td>\n",
              "    </tr>\n",
              "    <tr>\n",
              "      <th>24</th>\n",
              "      <td>Universal</td>\n",
              "      <td>FE</td>\n",
              "      <td>Neutral</td>\n",
              "      <td>1</td>\n",
              "    </tr>\n",
              "    <tr>\n",
              "      <th>22</th>\n",
              "      <td>Universal</td>\n",
              "      <td>FE</td>\n",
              "      <td>Cover</td>\n",
              "      <td>1</td>\n",
              "    </tr>\n",
              "    <tr>\n",
              "      <th>21</th>\n",
              "      <td>Universal</td>\n",
              "      <td>Cover</td>\n",
              "      <td>Neutral</td>\n",
              "      <td>1</td>\n",
              "    </tr>\n",
              "    <tr>\n",
              "      <th>20</th>\n",
              "      <td>Universal</td>\n",
              "      <td>Cover</td>\n",
              "      <td>Alternation</td>\n",
              "      <td>1</td>\n",
              "    </tr>\n",
              "    <tr>\n",
              "      <th>0</th>\n",
              "      <td>Adjectives/Adverbs</td>\n",
              "      <td>Alternation</td>\n",
              "      <td>Neutral</td>\n",
              "      <td>1</td>\n",
              "    </tr>\n",
              "    <tr>\n",
              "      <th>18</th>\n",
              "      <td>Negation</td>\n",
              "      <td>Neutral</td>\n",
              "      <td>RE</td>\n",
              "      <td>1</td>\n",
              "    </tr>\n",
              "    <tr>\n",
              "      <th>16</th>\n",
              "      <td>Negation</td>\n",
              "      <td>Neutral</td>\n",
              "      <td>Negation</td>\n",
              "      <td>1</td>\n",
              "    </tr>\n",
              "    <tr>\n",
              "      <th>13</th>\n",
              "      <td>Negation</td>\n",
              "      <td>Alternation</td>\n",
              "      <td>Neutral</td>\n",
              "      <td>1</td>\n",
              "    </tr>\n",
              "    <tr>\n",
              "      <th>8</th>\n",
              "      <td>Existential</td>\n",
              "      <td>Neutral</td>\n",
              "      <td>Alternation</td>\n",
              "      <td>1</td>\n",
              "    </tr>\n",
              "    <tr>\n",
              "      <th>5</th>\n",
              "      <td>Existential</td>\n",
              "      <td>FE</td>\n",
              "      <td>Alternation</td>\n",
              "      <td>1</td>\n",
              "    </tr>\n",
              "    <tr>\n",
              "      <th>27</th>\n",
              "      <td>Universal</td>\n",
              "      <td>Neutral</td>\n",
              "      <td>RE</td>\n",
              "      <td>1</td>\n",
              "    </tr>\n",
              "  </tbody>\n",
              "</table>\n",
              "</div>\n",
              "      <button class=\"colab-df-convert\" onclick=\"convertToInteractive('df-a6adc036-7678-473e-9861-059882a92b09')\"\n",
              "              title=\"Convert this dataframe to an interactive table.\"\n",
              "              style=\"display:none;\">\n",
              "        \n",
              "  <svg xmlns=\"http://www.w3.org/2000/svg\" height=\"24px\"viewBox=\"0 0 24 24\"\n",
              "       width=\"24px\">\n",
              "    <path d=\"M0 0h24v24H0V0z\" fill=\"none\"/>\n",
              "    <path d=\"M18.56 5.44l.94 2.06.94-2.06 2.06-.94-2.06-.94-.94-2.06-.94 2.06-2.06.94zm-11 1L8.5 8.5l.94-2.06 2.06-.94-2.06-.94L8.5 2.5l-.94 2.06-2.06.94zm10 10l.94 2.06.94-2.06 2.06-.94-2.06-.94-.94-2.06-.94 2.06-2.06.94z\"/><path d=\"M17.41 7.96l-1.37-1.37c-.4-.4-.92-.59-1.43-.59-.52 0-1.04.2-1.43.59L10.3 9.45l-7.72 7.72c-.78.78-.78 2.05 0 2.83L4 21.41c.39.39.9.59 1.41.59.51 0 1.02-.2 1.41-.59l7.78-7.78 2.81-2.81c.8-.78.8-2.07 0-2.86zM5.41 20L4 18.59l7.72-7.72 1.47 1.35L5.41 20z\"/>\n",
              "  </svg>\n",
              "      </button>\n",
              "      \n",
              "  <style>\n",
              "    .colab-df-container {\n",
              "      display:flex;\n",
              "      flex-wrap:wrap;\n",
              "      gap: 12px;\n",
              "    }\n",
              "\n",
              "    .colab-df-convert {\n",
              "      background-color: #E8F0FE;\n",
              "      border: none;\n",
              "      border-radius: 50%;\n",
              "      cursor: pointer;\n",
              "      display: none;\n",
              "      fill: #1967D2;\n",
              "      height: 32px;\n",
              "      padding: 0 0 0 0;\n",
              "      width: 32px;\n",
              "    }\n",
              "\n",
              "    .colab-df-convert:hover {\n",
              "      background-color: #E2EBFA;\n",
              "      box-shadow: 0px 1px 2px rgba(60, 64, 67, 0.3), 0px 1px 3px 1px rgba(60, 64, 67, 0.15);\n",
              "      fill: #174EA6;\n",
              "    }\n",
              "\n",
              "    [theme=dark] .colab-df-convert {\n",
              "      background-color: #3B4455;\n",
              "      fill: #D2E3FC;\n",
              "    }\n",
              "\n",
              "    [theme=dark] .colab-df-convert:hover {\n",
              "      background-color: #434B5C;\n",
              "      box-shadow: 0px 1px 3px 1px rgba(0, 0, 0, 0.15);\n",
              "      filter: drop-shadow(0px 1px 2px rgba(0, 0, 0, 0.3));\n",
              "      fill: #FFFFFF;\n",
              "    }\n",
              "  </style>\n",
              "\n",
              "      <script>\n",
              "        const buttonEl =\n",
              "          document.querySelector('#df-a6adc036-7678-473e-9861-059882a92b09 button.colab-df-convert');\n",
              "        buttonEl.style.display =\n",
              "          google.colab.kernel.accessAllowed ? 'block' : 'none';\n",
              "\n",
              "        async function convertToInteractive(key) {\n",
              "          const element = document.querySelector('#df-a6adc036-7678-473e-9861-059882a92b09');\n",
              "          const dataTable =\n",
              "            await google.colab.kernel.invokeFunction('convertToInteractive',\n",
              "                                                     [key], {});\n",
              "          if (!dataTable) return;\n",
              "\n",
              "          const docLinkHtml = 'Like what you see? Visit the ' +\n",
              "            '<a target=\"_blank\" href=https://colab.research.google.com/notebooks/data_table.ipynb>data table notebook</a>'\n",
              "            + ' to learn more about interactive tables.';\n",
              "          element.innerHTML = '';\n",
              "          dataTable['output_type'] = 'display_data';\n",
              "          await google.colab.output.renderOutput(dataTable, element);\n",
              "          const docLink = document.createElement('div');\n",
              "          docLink.innerHTML = docLinkHtml;\n",
              "          element.appendChild(docLink);\n",
              "        }\n",
              "      </script>\n",
              "    </div>\n",
              "  </div>\n",
              "  "
            ],
            "text/plain": [
              "       Quantifier Type            H            S  Counts\n",
              "2   Adjectives/Adverbs           FE      Neutral       8\n",
              "7          Existential           FE      Neutral       5\n",
              "15            Negation      Neutral           FE       2\n",
              "3   Adjectives/Adverbs      Neutral           FE       2\n",
              "9          Existential      Neutral           FE       2\n",
              "12            Negation  Alternation     Negation       2\n",
              "19           Universal  Alternation      Neutral       1\n",
              "25           Universal      Neutral           FE       1\n",
              "24           Universal           FE      Neutral       1\n",
              "22           Universal           FE        Cover       1\n",
              "21           Universal        Cover      Neutral       1\n",
              "20           Universal        Cover  Alternation       1\n",
              "0   Adjectives/Adverbs  Alternation      Neutral       1\n",
              "18            Negation      Neutral           RE       1\n",
              "16            Negation      Neutral     Negation       1\n",
              "13            Negation  Alternation      Neutral       1\n",
              "8          Existential      Neutral  Alternation       1\n",
              "5          Existential           FE  Alternation       1\n",
              "27           Universal      Neutral           RE       1"
            ]
          },
          "execution_count": 300,
          "metadata": {},
          "output_type": "execute_result"
        }
      ],
      "source": [
        "res3 = block_23.groupby(['Quantifier Type','H','S']).count().reset_index()\n",
        "result = res3[['Quantifier Type','H','S', 'Premise/Hypothesis/Both']]\n",
        "print(\"****** The confused predictions for each modifier for two annotators are: ******\")\n",
        "result = result.rename(columns={\"Premise/Hypothesis/Both\":\"Counts\"})\n",
        "result[result['H'] != result['S']].sort_values(by=\"Counts\", ascending =False)"
      ]
    },
    {
      "cell_type": "code",
      "execution_count": 301,
      "metadata": {
        "id": "PlFhvAptfYQ-"
      },
      "outputs": [],
      "source": [
        "result[result['H'] != result['S']].sort_values(by=\"Counts\", ascending =False).to_excel(\"block_455_quantifier.xlsx\")"
      ]
    }
  ],
  "metadata": {
    "colab": {
      "collapsed_sections": [
        "cy8A5n2zFbf5",
        "oEhSYlLbJDAS",
        "3VzrAsxH2KMS"
      ],
      "provenance": []
    },
    "kernelspec": {
      "display_name": "Python 3",
      "name": "python3"
    },
    "language_info": {
      "name": "python"
    }
  },
  "nbformat": 4,
  "nbformat_minor": 0
}
