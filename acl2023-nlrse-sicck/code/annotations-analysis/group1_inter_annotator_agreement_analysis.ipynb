{
  "cells": [
    {
      "attachments": {},
      "cell_type": "markdown",
      "metadata": {},
      "source": [
        "### Group 1 Inter Annotator Agreement Analysis\n",
        "#### Author: Sushma Akoju"
      ]
    },
    {
      "cell_type": "code",
      "execution_count": 1,
      "metadata": {
        "colab": {
          "base_uri": "https://localhost:8080/"
        },
        "id": "EedngCbb4F_O",
        "outputId": "be6c979e-ae1f-4283-e612-4b50e35cf480"
      },
      "outputs": [
        {
          "name": "stdout",
          "output_type": "stream",
          "text": [
            "Looking in indexes: https://pypi.org/simple, https://us-python.pkg.dev/colab-wheels/public/simple/\n",
            "Collecting agreement\n",
            "  Downloading agreement-0.1.1-py3-none-any.whl (19 kB)\n",
            "Requirement already satisfied: numpy>=1.20.2 in /usr/local/lib/python3.8/dist-packages (from agreement) (1.21.6)\n",
            "Installing collected packages: agreement\n",
            "Successfully installed agreement-0.1.1\n"
          ]
        }
      ],
      "source": [
        "!pip install agreement"
      ]
    },
    {
      "cell_type": "code",
      "execution_count": 2,
      "metadata": {
        "colab": {
          "base_uri": "https://localhost:8080/"
        },
        "id": "MywJDfqJ3baR",
        "outputId": "0aba6e42-5777-4769-f20e-78cf4a95e788"
      },
      "outputs": [
        {
          "name": "stdout",
          "output_type": "stream",
          "text": [
            "Looking in indexes: https://pypi.org/simple, https://us-python.pkg.dev/colab-wheels/public/simple/\n",
            "Collecting krippendorff\n",
            "  Downloading krippendorff-0.5.2-py3-none-any.whl (17 kB)\n",
            "Requirement already satisfied: numpy in /usr/local/lib/python3.8/dist-packages (from krippendorff) (1.21.6)\n",
            "Installing collected packages: krippendorff\n",
            "Successfully installed krippendorff-0.5.2\n"
          ]
        }
      ],
      "source": [
        "!pip install krippendorff"
      ]
    },
    {
      "cell_type": "code",
      "execution_count": 3,
      "metadata": {
        "colab": {
          "base_uri": "https://localhost:8080/"
        },
        "id": "RGbILV8n9glx",
        "outputId": "e4e073df-aaf6-4ee5-f357-060ecb537066"
      },
      "outputs": [
        {
          "name": "stdout",
          "output_type": "stream",
          "text": [
            "Looking in indexes: https://pypi.org/simple, https://us-python.pkg.dev/colab-wheels/public/simple/\n",
            "Collecting pycm\n",
            "  Downloading pycm-3.7-py2.py3-none-any.whl (62 kB)\n",
            "\u001b[2K     \u001b[90m━━━━━━━━━━━━━━━━━━━━━━━━━━━━━━━━━━━━━━━━\u001b[0m \u001b[32m63.0/63.0 KB\u001b[0m \u001b[31m2.6 MB/s\u001b[0m eta \u001b[36m0:00:00\u001b[0m\n",
            "\u001b[?25hRequirement already satisfied: numpy>=1.9.0 in /usr/local/lib/python3.8/dist-packages (from pycm) (1.21.6)\n",
            "Collecting art>=1.8\n",
            "  Downloading art-5.8-py2.py3-none-any.whl (595 kB)\n",
            "\u001b[2K     \u001b[90m━━━━━━━━━━━━━━━━━━━━━━━━━━━━━━━━━━━━━━\u001b[0m \u001b[32m595.7/595.7 KB\u001b[0m \u001b[31m12.8 MB/s\u001b[0m eta \u001b[36m0:00:00\u001b[0m\n",
            "\u001b[?25hInstalling collected packages: art, pycm\n",
            "Successfully installed art-5.8 pycm-3.7\n"
          ]
        }
      ],
      "source": [
        "!pip install pycm"
      ]
    },
    {
      "cell_type": "code",
      "execution_count": 4,
      "metadata": {
        "colab": {
          "base_uri": "https://localhost:8080/"
        },
        "id": "VwC9T44SYMA0",
        "outputId": "455e6e25-7714-4b73-9670-1b288c5d0a07"
      },
      "outputs": [
        {
          "name": "stdout",
          "output_type": "stream",
          "text": [
            "Mounted at /content/gdrive/\n",
            "/content/gdrive/MyDrive/Colab Notebooks/natural-logic\n",
            " annotations_round2.xlsx\n",
            " clean\n",
            " clean.tar.xz\n",
            " dec5th_results\n",
            " example-annotation-round-1-2.xlsx\n",
            " example-annotation-round-1.gsheet\n",
            " example-predictions-for-rsa.gsheet\n",
            " example-predictions-for-rsa.xlsx\n",
            " final-datasets\n",
            " folio\n",
            " FOLIO_dataset_extraction_solvers.ipynb\n",
            " logic-summer-school-FOTP.pdf\n",
            " modified-examples-annotations-sa.xlsx\n",
            "'modified_noun_phrases (1).gsheet'\n",
            "'modified_noun_phrases (2).gsheet'\n",
            "'modified_noun_phrases (3).gsheet'\n",
            "'modified_noun_phrases (4).gsheet'\n",
            "'modified_noun_phrases (5).gsheet'\n",
            "'modified_noun_phrases (6).gsheet'\n",
            " modified_noun_phrases.csv\n",
            " modified_noun_phrases.gsheet\n",
            " modified_sentences1.csv\n",
            "'modified_sentences (1).gsheet'\n",
            " modified_sentences1.gsheet\n",
            "'modified-sentences (1).xlsx'\n",
            " modified_sentences.csv\n",
            " modified-sentences-dec1.xlsx\n",
            " modified_sentences.gsheet\n",
            "'modified_verb_phrases (1).gsheet'\n",
            "'modified_verb_phrases (2).gsheet'\n",
            "'modified_verb_phrases (3).gsheet'\n",
            " modified_verb_phrases.csv\n",
            " modified_verb_phrases.gsheet\n",
            " modifiers-sentences-sick-dataset.csv\n",
            "'modifiers-sentences-sick-dataset - Sheet1.csv'\n",
            " nl_to_fol-t5-small.ipynb\n",
            " premises-fol-train.csv\n",
            " premises-fol-train_dec5.csv\n",
            " premises-fol-train.gsheet\n",
            " premises-fol-val.csv\n",
            " premises-fol-val_dec5.csv\n",
            " premises-fol-val.gsheet\n",
            "'results_nl_fol (1).gsheet'\n",
            " results_nl_fol.csv\n",
            " results_nl_fol.gsheet\n",
            " results_nl_fol_t5_small.csv\n",
            " sentences.txt\n",
            "'SICK (2).zip'\n",
            "'SICK_Annotated (1).zip'\n",
            "'SICK_subsets (1).zip'\n",
            " t5-finetuning-result-nl2fol\n",
            " trans\n",
            "'trans (2).tar.xz'\n",
            " updated_folio-validation.txt\n"
          ]
        }
      ],
      "source": [
        "from google.colab import drive\n",
        "\n",
        "drive.mount('/content/gdrive/', force_remount=True)\n",
        "%cd gdrive/MyDrive/Colab\\ Notebooks/natural\\-logic\n",
        "!ls"
      ]
    },
    {
      "cell_type": "code",
      "execution_count": 5,
      "metadata": {
        "id": "zHrwM-COPRiH"
      },
      "outputs": [],
      "source": [
        "import sklearn.metrics\n",
        "from sklearn.metrics import cohen_kappa_score"
      ]
    },
    {
      "cell_type": "code",
      "execution_count": 6,
      "metadata": {
        "id": "tPwtJfAEVqPn"
      },
      "outputs": [],
      "source": [
        "import pandas as pd\n",
        "import numpy as np"
      ]
    },
    {
      "cell_type": "code",
      "execution_count": 7,
      "metadata": {
        "colab": {
          "base_uri": "https://localhost:8080/"
        },
        "id": "PrUAdCm_KKue",
        "outputId": "fe8c4b97-f724-41b9-bb0d-2928ac64e2e0"
      },
      "outputs": [
        {
          "name": "stdout",
          "output_type": "stream",
          "text": [
            "/content/gdrive/MyDrive/Colab Notebooks/natural-logic/final-datasets/block-wise-data/blocks-dec26/annotated/combined\n",
            "annotators_group_1.xlsx      blocks_ann12.png\t\t      group1\n",
            "annotators_group_2.xlsx      blocks_ann21.png\t\t      group2\n",
            "blocks_ann_12_modifier.xlsx  disagreement_labels_ann_12.xlsx\n"
          ]
        }
      ],
      "source": [
        "%cd /content/gdrive/MyDrive/Colab Notebooks/natural-logic/final-datasets/block-wise-data/blocks-dec26/annotated/combined/\n",
        "!ls \n"
      ]
    },
    {
      "cell_type": "code",
      "execution_count": 8,
      "metadata": {
        "id": "dVqnYFNGVqc4"
      },
      "outputs": [],
      "source": [
        "filename = \"/content/gdrive/MyDrive/Colab Notebooks/natural-logic/final-datasets/block-wise-data/blocks-dec26/annotated/combined/annotators_group_1.xlsx\""
      ]
    },
    {
      "cell_type": "code",
      "execution_count": 9,
      "metadata": {
        "colab": {
          "base_uri": "https://localhost:8080/"
        },
        "id": "inWyLLE6cI9g",
        "outputId": "eb39dd05-20e6-48bf-bcab-4106488f0fb3"
      },
      "outputs": [
        {
          "data": {
            "text/plain": [
              "True"
            ]
          },
          "execution_count": 9,
          "metadata": {},
          "output_type": "execute_result"
        }
      ],
      "source": [
        "import os\n",
        "os.path.exists(filename)"
      ]
    },
    {
      "cell_type": "code",
      "execution_count": 10,
      "metadata": {
        "colab": {
          "base_uri": "https://localhost:8080/"
        },
        "id": "3UFbMceqKdsb",
        "outputId": "df5e15e2-7d08-4062-ae94-f525a54dcff0"
      },
      "outputs": [
        {
          "data": {
            "text/plain": [
              "['block_0_90',\n",
              " 'block_1_116',\n",
              " 'block_3_130',\n",
              " 'block_4_150',\n",
              " 'block_5_167',\n",
              " 'block_6_168']"
            ]
          },
          "execution_count": 10,
          "metadata": {},
          "output_type": "execute_result"
        }
      ],
      "source": [
        "sheet_names = pd.ExcelFile(filename).sheet_names[:-1]\n",
        "sheet_names"
      ]
    },
    {
      "cell_type": "code",
      "execution_count": 11,
      "metadata": {
        "colab": {
          "base_uri": "https://localhost:8080/"
        },
        "id": "2TNUYfRYYyxG",
        "outputId": "1907a25c-7436-455b-e6ce-d76d8dd606b7"
      },
      "outputs": [
        {
          "name": "stdout",
          "output_type": "stream",
          "text": [
            "(93, 9) Index(['SICK_id', 'Premise', 'Hypothesis', 'Modifier',\n",
            "       'Premise/Hypothesis/Both', 'Part of Premise/Hypothesis Modified', 'M',\n",
            "       'E', 'S'],\n",
            "      dtype='object')\n",
            "(93, 9) Index(['SICK_id', 'Premise', 'Hypothesis', 'Modifier',\n",
            "       'Premise/Hypothesis/Both', 'Part of Premise/Hypothesis Modified', 'M',\n",
            "       'E', 'Ground Truth'],\n",
            "      dtype='object')\n",
            "(93, 9) Index(['SICK_id', 'Premise', 'Hypothesis', 'Modifier',\n",
            "       'Premise/Hypothesis/Both', 'Part of Premise/Hypothesis Modified', 'M',\n",
            "       'E', 'Ground Truth'],\n",
            "      dtype='object')\n",
            "(93, 9) Index(['SICK_id', 'Premise', 'Hypothesis', 'Modifier',\n",
            "       'Premise/Hypothesis/Both', 'Part of Premise/Hypothesis Modified', 'M',\n",
            "       'E', 'Ground Truth'],\n",
            "      dtype='object')\n",
            "(93, 11) Index(['Unnamed: 0', 'SICK_id', 'Premise', 'Hypothesis', 'Modifier',\n",
            "       'Premise/Hypothesis/Both', 'Part of Premise/Hypothesis Modified', 'M',\n",
            "       'Unnamed: 8', 'E', 'Ground truth'],\n",
            "      dtype='object')\n",
            "(93, 12) Index(['SICK_id', 'Premise', 'Hypothesis', 'Modifier',\n",
            "       'Premise/Hypothesis/Both', 'Part of Premise/Hypothesis Modified', 'M',\n",
            "       'E', 'Ground Truth', 'Unnamed: 9', 'Unnamed: 10', 'Unnamed: 11'],\n",
            "      dtype='object')\n"
          ]
        }
      ],
      "source": [
        "df_list = []\n",
        "for sheetname in sheet_names:\n",
        "  df = pd.read_excel(filename, sheet_name=sheetname)\n",
        "  print(df.shape, df.columns)\n",
        "  df_list.append(df)"
      ]
    },
    {
      "cell_type": "code",
      "execution_count": 12,
      "metadata": {
        "colab": {
          "base_uri": "https://localhost:8080/"
        },
        "id": "lzp0ddNRLWfL",
        "outputId": "cb69afb3-b7b0-4b42-d2e9-e0f960d0ebdc"
      },
      "outputs": [
        {
          "data": {
            "text/plain": [
              "6"
            ]
          },
          "execution_count": 12,
          "metadata": {},
          "output_type": "execute_result"
        }
      ],
      "source": [
        "len(df_list)"
      ]
    },
    {
      "cell_type": "code",
      "execution_count": 13,
      "metadata": {
        "colab": {
          "base_uri": "https://localhost:8080/"
        },
        "id": "whcutf4aLac7",
        "outputId": "5019f01e-3c81-4a66-f22d-e997ede20c1a"
      },
      "outputs": [
        {
          "data": {
            "text/plain": [
              "558"
            ]
          },
          "execution_count": 13,
          "metadata": {},
          "output_type": "execute_result"
        }
      ],
      "source": [
        "group1 = pd.concat(df_list)\n",
        "group1.shape[0]"
      ]
    },
    {
      "attachments": {},
      "cell_type": "markdown",
      "metadata": {
        "id": "U1CeNgfINmLb"
      },
      "source": [
        "## Labelling annotator names to numbers 1 through 5 respectively"
      ]
    },
    {
      "cell_type": "code",
      "execution_count": 14,
      "metadata": {
        "colab": {
          "base_uri": "https://localhost:8080/",
          "height": 313
        },
        "id": "B7HEeAgVuzvC",
        "outputId": "2107f469-9378-4684-fb2a-02bcc76e7688"
      },
      "outputs": [
        {
          "name": "stderr",
          "output_type": "stream",
          "text": [
            "<ipython-input-14-7695dec4268a>:4: SettingWithCopyWarning: \n",
            "A value is trying to be set on a copy of a slice from a DataFrame.\n",
            "Try using .loc[row_indexer,col_indexer] = value instead\n",
            "\n",
            "See the caveats in the documentation: https://pandas.pydata.org/pandas-docs/stable/user_guide/indexing.html#returning-a-view-versus-a-copy\n",
            "  group1['SICK_id'] = group1['SICK_id'].astype('int')\n"
          ]
        },
        {
          "data": {
            "text/html": [
              "\n",
              "  <div id=\"df-64ac02c1-e6f6-403c-bb87-1d5e368934e7\">\n",
              "    <div class=\"colab-df-container\">\n",
              "      <div>\n",
              "<style scoped>\n",
              "    .dataframe tbody tr th:only-of-type {\n",
              "        vertical-align: middle;\n",
              "    }\n",
              "\n",
              "    .dataframe tbody tr th {\n",
              "        vertical-align: top;\n",
              "    }\n",
              "\n",
              "    .dataframe thead th {\n",
              "        text-align: right;\n",
              "    }\n",
              "</style>\n",
              "<table border=\"1\" class=\"dataframe\">\n",
              "  <thead>\n",
              "    <tr style=\"text-align: right;\">\n",
              "      <th></th>\n",
              "      <th>SICK_id</th>\n",
              "      <th>Premise</th>\n",
              "      <th>Hypothesis</th>\n",
              "      <th>Modifier</th>\n",
              "      <th>Premise/Hypothesis/Both</th>\n",
              "      <th>Part of Premise/Hypothesis Modified</th>\n",
              "      <th>M</th>\n",
              "      <th>E</th>\n",
              "    </tr>\n",
              "  </thead>\n",
              "  <tbody>\n",
              "    <tr>\n",
              "      <th>0</th>\n",
              "      <td>90</td>\n",
              "      <td>a man is jumping into an empty pool</td>\n",
              "      <td>a man is jumping into a full pool</td>\n",
              "      <td>NONE</td>\n",
              "      <td>NONE</td>\n",
              "      <td>NONE</td>\n",
              "      <td>Contradiction</td>\n",
              "      <td>Contradiction</td>\n",
              "    </tr>\n",
              "    <tr>\n",
              "      <th>1</th>\n",
              "      <td>90</td>\n",
              "      <td>every man is jumping into an empty pool</td>\n",
              "      <td>a man is jumping into a full pool</td>\n",
              "      <td>every</td>\n",
              "      <td>Premise</td>\n",
              "      <td>Subject</td>\n",
              "      <td>Alternation</td>\n",
              "      <td>Contradiction</td>\n",
              "    </tr>\n",
              "    <tr>\n",
              "      <th>2</th>\n",
              "      <td>90</td>\n",
              "      <td>a man is jumping into an empty pool</td>\n",
              "      <td>every man is jumping into a full pool</td>\n",
              "      <td>every</td>\n",
              "      <td>Hypothesis</td>\n",
              "      <td>Subject</td>\n",
              "      <td>Negation</td>\n",
              "      <td>Contradiction</td>\n",
              "    </tr>\n",
              "    <tr>\n",
              "      <th>3</th>\n",
              "      <td>90</td>\n",
              "      <td>every man is jumping into an empty pool</td>\n",
              "      <td>every man is jumping into a full pool</td>\n",
              "      <td>every</td>\n",
              "      <td>Both</td>\n",
              "      <td>Subject</td>\n",
              "      <td>Negation</td>\n",
              "      <td>Contradiction</td>\n",
              "    </tr>\n",
              "    <tr>\n",
              "      <th>4</th>\n",
              "      <td>90</td>\n",
              "      <td>some man is jumping into an empty pool</td>\n",
              "      <td>a man is jumping into a full pool</td>\n",
              "      <td>some</td>\n",
              "      <td>Premise</td>\n",
              "      <td>Subject</td>\n",
              "      <td>Alternation</td>\n",
              "      <td>Neutral</td>\n",
              "    </tr>\n",
              "  </tbody>\n",
              "</table>\n",
              "</div>\n",
              "      <button class=\"colab-df-convert\" onclick=\"convertToInteractive('df-64ac02c1-e6f6-403c-bb87-1d5e368934e7')\"\n",
              "              title=\"Convert this dataframe to an interactive table.\"\n",
              "              style=\"display:none;\">\n",
              "        \n",
              "  <svg xmlns=\"http://www.w3.org/2000/svg\" height=\"24px\"viewBox=\"0 0 24 24\"\n",
              "       width=\"24px\">\n",
              "    <path d=\"M0 0h24v24H0V0z\" fill=\"none\"/>\n",
              "    <path d=\"M18.56 5.44l.94 2.06.94-2.06 2.06-.94-2.06-.94-.94-2.06-.94 2.06-2.06.94zm-11 1L8.5 8.5l.94-2.06 2.06-.94-2.06-.94L8.5 2.5l-.94 2.06-2.06.94zm10 10l.94 2.06.94-2.06 2.06-.94-2.06-.94-.94-2.06-.94 2.06-2.06.94z\"/><path d=\"M17.41 7.96l-1.37-1.37c-.4-.4-.92-.59-1.43-.59-.52 0-1.04.2-1.43.59L10.3 9.45l-7.72 7.72c-.78.78-.78 2.05 0 2.83L4 21.41c.39.39.9.59 1.41.59.51 0 1.02-.2 1.41-.59l7.78-7.78 2.81-2.81c.8-.78.8-2.07 0-2.86zM5.41 20L4 18.59l7.72-7.72 1.47 1.35L5.41 20z\"/>\n",
              "  </svg>\n",
              "      </button>\n",
              "      \n",
              "  <style>\n",
              "    .colab-df-container {\n",
              "      display:flex;\n",
              "      flex-wrap:wrap;\n",
              "      gap: 12px;\n",
              "    }\n",
              "\n",
              "    .colab-df-convert {\n",
              "      background-color: #E8F0FE;\n",
              "      border: none;\n",
              "      border-radius: 50%;\n",
              "      cursor: pointer;\n",
              "      display: none;\n",
              "      fill: #1967D2;\n",
              "      height: 32px;\n",
              "      padding: 0 0 0 0;\n",
              "      width: 32px;\n",
              "    }\n",
              "\n",
              "    .colab-df-convert:hover {\n",
              "      background-color: #E2EBFA;\n",
              "      box-shadow: 0px 1px 2px rgba(60, 64, 67, 0.3), 0px 1px 3px 1px rgba(60, 64, 67, 0.15);\n",
              "      fill: #174EA6;\n",
              "    }\n",
              "\n",
              "    [theme=dark] .colab-df-convert {\n",
              "      background-color: #3B4455;\n",
              "      fill: #D2E3FC;\n",
              "    }\n",
              "\n",
              "    [theme=dark] .colab-df-convert:hover {\n",
              "      background-color: #434B5C;\n",
              "      box-shadow: 0px 1px 3px 1px rgba(0, 0, 0, 0.15);\n",
              "      filter: drop-shadow(0px 1px 2px rgba(0, 0, 0, 0.3));\n",
              "      fill: #FFFFFF;\n",
              "    }\n",
              "  </style>\n",
              "\n",
              "      <script>\n",
              "        const buttonEl =\n",
              "          document.querySelector('#df-64ac02c1-e6f6-403c-bb87-1d5e368934e7 button.colab-df-convert');\n",
              "        buttonEl.style.display =\n",
              "          google.colab.kernel.accessAllowed ? 'block' : 'none';\n",
              "\n",
              "        async function convertToInteractive(key) {\n",
              "          const element = document.querySelector('#df-64ac02c1-e6f6-403c-bb87-1d5e368934e7');\n",
              "          const dataTable =\n",
              "            await google.colab.kernel.invokeFunction('convertToInteractive',\n",
              "                                                     [key], {});\n",
              "          if (!dataTable) return;\n",
              "\n",
              "          const docLinkHtml = 'Like what you see? Visit the ' +\n",
              "            '<a target=\"_blank\" href=https://colab.research.google.com/notebooks/data_table.ipynb>data table notebook</a>'\n",
              "            + ' to learn more about interactive tables.';\n",
              "          element.innerHTML = '';\n",
              "          dataTable['output_type'] = 'display_data';\n",
              "          await google.colab.output.renderOutput(dataTable, element);\n",
              "          const docLink = document.createElement('div');\n",
              "          docLink.innerHTML = docLinkHtml;\n",
              "          element.appendChild(docLink);\n",
              "        }\n",
              "      </script>\n",
              "    </div>\n",
              "  </div>\n",
              "  "
            ],
            "text/plain": [
              "   SICK_id                                  Premise  \\\n",
              "0       90      a man is jumping into an empty pool   \n",
              "1       90  every man is jumping into an empty pool   \n",
              "2       90      a man is jumping into an empty pool   \n",
              "3       90  every man is jumping into an empty pool   \n",
              "4       90   some man is jumping into an empty pool   \n",
              "\n",
              "                              Hypothesis Modifier Premise/Hypothesis/Both  \\\n",
              "0      a man is jumping into a full pool     NONE                    NONE   \n",
              "1      a man is jumping into a full pool    every                 Premise   \n",
              "2  every man is jumping into a full pool    every              Hypothesis   \n",
              "3  every man is jumping into a full pool    every                    Both   \n",
              "4      a man is jumping into a full pool     some                 Premise   \n",
              "\n",
              "  Part of Premise/Hypothesis Modified              M              E  \n",
              "0                                NONE  Contradiction  Contradiction  \n",
              "1                             Subject    Alternation  Contradiction  \n",
              "2                             Subject       Negation  Contradiction  \n",
              "3                             Subject       Negation  Contradiction  \n",
              "4                             Subject    Alternation        Neutral  "
            ]
          },
          "execution_count": 14,
          "metadata": {},
          "output_type": "execute_result"
        }
      ],
      "source": [
        "group1 = group1[['SICK_id', 'Premise', 'Hypothesis', 'Modifier',\n",
        "       'Premise/Hypothesis/Both', 'Part of Premise/Hypothesis Modified', 'M',\n",
        "       'E']]\n",
        "group1['SICK_id'] = group1['SICK_id'].astype('int')\n",
        "\n",
        "group1.head()"
      ]
    },
    {
      "cell_type": "code",
      "execution_count": 15,
      "metadata": {
        "colab": {
          "base_uri": "https://localhost:8080/",
          "height": 423
        },
        "id": "3utSqG9HNqHv",
        "outputId": "9b45fc21-0f32-4316-ac64-35758b854d09"
      },
      "outputs": [
        {
          "data": {
            "text/html": [
              "\n",
              "  <div id=\"df-97e81ad6-1238-4956-a9c4-71d0a7bbe285\">\n",
              "    <div class=\"colab-df-container\">\n",
              "      <div>\n",
              "<style scoped>\n",
              "    .dataframe tbody tr th:only-of-type {\n",
              "        vertical-align: middle;\n",
              "    }\n",
              "\n",
              "    .dataframe tbody tr th {\n",
              "        vertical-align: top;\n",
              "    }\n",
              "\n",
              "    .dataframe thead th {\n",
              "        text-align: right;\n",
              "    }\n",
              "</style>\n",
              "<table border=\"1\" class=\"dataframe\">\n",
              "  <thead>\n",
              "    <tr style=\"text-align: right;\">\n",
              "      <th></th>\n",
              "      <th>SICK_id</th>\n",
              "      <th>Premise</th>\n",
              "      <th>Hypothesis</th>\n",
              "      <th>Modifier</th>\n",
              "      <th>Premise/Hypothesis/Both</th>\n",
              "      <th>Part of Premise/Hypothesis Modified</th>\n",
              "      <th>M</th>\n",
              "      <th>E</th>\n",
              "    </tr>\n",
              "  </thead>\n",
              "  <tbody>\n",
              "    <tr>\n",
              "      <th>0</th>\n",
              "      <td>90</td>\n",
              "      <td>a man is jumping into an empty pool</td>\n",
              "      <td>a man is jumping into a full pool</td>\n",
              "      <td>NONE</td>\n",
              "      <td>NONE</td>\n",
              "      <td>NONE</td>\n",
              "      <td>Negation</td>\n",
              "      <td>Negation</td>\n",
              "    </tr>\n",
              "    <tr>\n",
              "      <th>1</th>\n",
              "      <td>90</td>\n",
              "      <td>every man is jumping into an empty pool</td>\n",
              "      <td>a man is jumping into a full pool</td>\n",
              "      <td>every</td>\n",
              "      <td>Premise</td>\n",
              "      <td>Subject</td>\n",
              "      <td>Alternation</td>\n",
              "      <td>Negation</td>\n",
              "    </tr>\n",
              "    <tr>\n",
              "      <th>2</th>\n",
              "      <td>90</td>\n",
              "      <td>a man is jumping into an empty pool</td>\n",
              "      <td>every man is jumping into a full pool</td>\n",
              "      <td>every</td>\n",
              "      <td>Hypothesis</td>\n",
              "      <td>Subject</td>\n",
              "      <td>Negation</td>\n",
              "      <td>Negation</td>\n",
              "    </tr>\n",
              "    <tr>\n",
              "      <th>3</th>\n",
              "      <td>90</td>\n",
              "      <td>every man is jumping into an empty pool</td>\n",
              "      <td>every man is jumping into a full pool</td>\n",
              "      <td>every</td>\n",
              "      <td>Both</td>\n",
              "      <td>Subject</td>\n",
              "      <td>Negation</td>\n",
              "      <td>Negation</td>\n",
              "    </tr>\n",
              "    <tr>\n",
              "      <th>4</th>\n",
              "      <td>90</td>\n",
              "      <td>some man is jumping into an empty pool</td>\n",
              "      <td>a man is jumping into a full pool</td>\n",
              "      <td>some</td>\n",
              "      <td>Premise</td>\n",
              "      <td>Subject</td>\n",
              "      <td>Alternation</td>\n",
              "      <td>Neutral</td>\n",
              "    </tr>\n",
              "    <tr>\n",
              "      <th>...</th>\n",
              "      <td>...</td>\n",
              "      <td>...</td>\n",
              "      <td>...</td>\n",
              "      <td>...</td>\n",
              "      <td>...</td>\n",
              "      <td>...</td>\n",
              "      <td>...</td>\n",
              "      <td>...</td>\n",
              "    </tr>\n",
              "    <tr>\n",
              "      <th>88</th>\n",
              "      <td>168</td>\n",
              "      <td>A child is hitting a baseball</td>\n",
              "      <td>A child is missing exactly one baseball</td>\n",
              "      <td>exactly one</td>\n",
              "      <td>Hypothesis</td>\n",
              "      <td>Object</td>\n",
              "      <td>Alternation</td>\n",
              "      <td>Neutral</td>\n",
              "    </tr>\n",
              "    <tr>\n",
              "      <th>89</th>\n",
              "      <td>168</td>\n",
              "      <td>A child is hitting exactly one baseball</td>\n",
              "      <td>A child is missing exactly one baseball</td>\n",
              "      <td>exactly one</td>\n",
              "      <td>Both</td>\n",
              "      <td>Object</td>\n",
              "      <td>Alternation</td>\n",
              "      <td>Neutral</td>\n",
              "    </tr>\n",
              "    <tr>\n",
              "      <th>90</th>\n",
              "      <td>168</td>\n",
              "      <td>A child is hitting a an elegant baseball</td>\n",
              "      <td>A child is missing a baseball\\n</td>\n",
              "      <td>an elegant</td>\n",
              "      <td>Premise</td>\n",
              "      <td>Object</td>\n",
              "      <td>Alternation</td>\n",
              "      <td>Neutral</td>\n",
              "    </tr>\n",
              "    <tr>\n",
              "      <th>91</th>\n",
              "      <td>168</td>\n",
              "      <td>A child is hitting a baseball</td>\n",
              "      <td>A child is missing a an elegant baseball</td>\n",
              "      <td>an elegant</td>\n",
              "      <td>Hypothesis</td>\n",
              "      <td>Object</td>\n",
              "      <td>Alternation</td>\n",
              "      <td>Neutral</td>\n",
              "    </tr>\n",
              "    <tr>\n",
              "      <th>92</th>\n",
              "      <td>168</td>\n",
              "      <td>A child is hitting a an elegant baseball</td>\n",
              "      <td>A child is missing a an elegant baseball</td>\n",
              "      <td>an elegant</td>\n",
              "      <td>Both</td>\n",
              "      <td>Object</td>\n",
              "      <td>Alternation</td>\n",
              "      <td>Neutral</td>\n",
              "    </tr>\n",
              "  </tbody>\n",
              "</table>\n",
              "<p>558 rows × 8 columns</p>\n",
              "</div>\n",
              "      <button class=\"colab-df-convert\" onclick=\"convertToInteractive('df-97e81ad6-1238-4956-a9c4-71d0a7bbe285')\"\n",
              "              title=\"Convert this dataframe to an interactive table.\"\n",
              "              style=\"display:none;\">\n",
              "        \n",
              "  <svg xmlns=\"http://www.w3.org/2000/svg\" height=\"24px\"viewBox=\"0 0 24 24\"\n",
              "       width=\"24px\">\n",
              "    <path d=\"M0 0h24v24H0V0z\" fill=\"none\"/>\n",
              "    <path d=\"M18.56 5.44l.94 2.06.94-2.06 2.06-.94-2.06-.94-.94-2.06-.94 2.06-2.06.94zm-11 1L8.5 8.5l.94-2.06 2.06-.94-2.06-.94L8.5 2.5l-.94 2.06-2.06.94zm10 10l.94 2.06.94-2.06 2.06-.94-2.06-.94-.94-2.06-.94 2.06-2.06.94z\"/><path d=\"M17.41 7.96l-1.37-1.37c-.4-.4-.92-.59-1.43-.59-.52 0-1.04.2-1.43.59L10.3 9.45l-7.72 7.72c-.78.78-.78 2.05 0 2.83L4 21.41c.39.39.9.59 1.41.59.51 0 1.02-.2 1.41-.59l7.78-7.78 2.81-2.81c.8-.78.8-2.07 0-2.86zM5.41 20L4 18.59l7.72-7.72 1.47 1.35L5.41 20z\"/>\n",
              "  </svg>\n",
              "      </button>\n",
              "      \n",
              "  <style>\n",
              "    .colab-df-container {\n",
              "      display:flex;\n",
              "      flex-wrap:wrap;\n",
              "      gap: 12px;\n",
              "    }\n",
              "\n",
              "    .colab-df-convert {\n",
              "      background-color: #E8F0FE;\n",
              "      border: none;\n",
              "      border-radius: 50%;\n",
              "      cursor: pointer;\n",
              "      display: none;\n",
              "      fill: #1967D2;\n",
              "      height: 32px;\n",
              "      padding: 0 0 0 0;\n",
              "      width: 32px;\n",
              "    }\n",
              "\n",
              "    .colab-df-convert:hover {\n",
              "      background-color: #E2EBFA;\n",
              "      box-shadow: 0px 1px 2px rgba(60, 64, 67, 0.3), 0px 1px 3px 1px rgba(60, 64, 67, 0.15);\n",
              "      fill: #174EA6;\n",
              "    }\n",
              "\n",
              "    [theme=dark] .colab-df-convert {\n",
              "      background-color: #3B4455;\n",
              "      fill: #D2E3FC;\n",
              "    }\n",
              "\n",
              "    [theme=dark] .colab-df-convert:hover {\n",
              "      background-color: #434B5C;\n",
              "      box-shadow: 0px 1px 3px 1px rgba(0, 0, 0, 0.15);\n",
              "      filter: drop-shadow(0px 1px 2px rgba(0, 0, 0, 0.3));\n",
              "      fill: #FFFFFF;\n",
              "    }\n",
              "  </style>\n",
              "\n",
              "      <script>\n",
              "        const buttonEl =\n",
              "          document.querySelector('#df-97e81ad6-1238-4956-a9c4-71d0a7bbe285 button.colab-df-convert');\n",
              "        buttonEl.style.display =\n",
              "          google.colab.kernel.accessAllowed ? 'block' : 'none';\n",
              "\n",
              "        async function convertToInteractive(key) {\n",
              "          const element = document.querySelector('#df-97e81ad6-1238-4956-a9c4-71d0a7bbe285');\n",
              "          const dataTable =\n",
              "            await google.colab.kernel.invokeFunction('convertToInteractive',\n",
              "                                                     [key], {});\n",
              "          if (!dataTable) return;\n",
              "\n",
              "          const docLinkHtml = 'Like what you see? Visit the ' +\n",
              "            '<a target=\"_blank\" href=https://colab.research.google.com/notebooks/data_table.ipynb>data table notebook</a>'\n",
              "            + ' to learn more about interactive tables.';\n",
              "          element.innerHTML = '';\n",
              "          dataTable['output_type'] = 'display_data';\n",
              "          await google.colab.output.renderOutput(dataTable, element);\n",
              "          const docLink = document.createElement('div');\n",
              "          docLink.innerHTML = docLinkHtml;\n",
              "          element.appendChild(docLink);\n",
              "        }\n",
              "      </script>\n",
              "    </div>\n",
              "  </div>\n",
              "  "
            ],
            "text/plain": [
              "    SICK_id                                   Premise  \\\n",
              "0        90       a man is jumping into an empty pool   \n",
              "1        90   every man is jumping into an empty pool   \n",
              "2        90       a man is jumping into an empty pool   \n",
              "3        90   every man is jumping into an empty pool   \n",
              "4        90    some man is jumping into an empty pool   \n",
              "..      ...                                       ...   \n",
              "88      168             A child is hitting a baseball   \n",
              "89      168   A child is hitting exactly one baseball   \n",
              "90      168  A child is hitting a an elegant baseball   \n",
              "91      168             A child is hitting a baseball   \n",
              "92      168  A child is hitting a an elegant baseball   \n",
              "\n",
              "                                  Hypothesis     Modifier  \\\n",
              "0          a man is jumping into a full pool         NONE   \n",
              "1          a man is jumping into a full pool        every   \n",
              "2      every man is jumping into a full pool        every   \n",
              "3      every man is jumping into a full pool        every   \n",
              "4          a man is jumping into a full pool         some   \n",
              "..                                       ...          ...   \n",
              "88   A child is missing exactly one baseball  exactly one   \n",
              "89   A child is missing exactly one baseball  exactly one   \n",
              "90           A child is missing a baseball\\n   an elegant   \n",
              "91  A child is missing a an elegant baseball   an elegant   \n",
              "92  A child is missing a an elegant baseball   an elegant   \n",
              "\n",
              "   Premise/Hypothesis/Both Part of Premise/Hypothesis Modified            M  \\\n",
              "0                     NONE                                NONE     Negation   \n",
              "1                  Premise                             Subject  Alternation   \n",
              "2               Hypothesis                             Subject     Negation   \n",
              "3                     Both                             Subject     Negation   \n",
              "4                  Premise                             Subject  Alternation   \n",
              "..                     ...                                 ...          ...   \n",
              "88              Hypothesis                              Object  Alternation   \n",
              "89                    Both                              Object  Alternation   \n",
              "90                 Premise                              Object  Alternation   \n",
              "91              Hypothesis                              Object  Alternation   \n",
              "92                    Both                              Object  Alternation   \n",
              "\n",
              "           E  \n",
              "0   Negation  \n",
              "1   Negation  \n",
              "2   Negation  \n",
              "3   Negation  \n",
              "4    Neutral  \n",
              "..       ...  \n",
              "88   Neutral  \n",
              "89   Neutral  \n",
              "90   Neutral  \n",
              "91   Neutral  \n",
              "92   Neutral  \n",
              "\n",
              "[558 rows x 8 columns]"
            ]
          },
          "execution_count": 15,
          "metadata": {},
          "output_type": "execute_result"
        }
      ],
      "source": [
        "group1['M'] = group1['M'].apply(lambda x: \"Negation\" if x == \"Contradiction\" else x )\n",
        "group1['E'] = group1['E'].apply(lambda x: \"Negation\" if x == \"Contradiction\" else x )\n",
        "group1['E'] = group1['E'].apply(lambda x: \"FE\" if x == \"EF\" else x )\n",
        "group1"
      ]
    },
    {
      "cell_type": "code",
      "execution_count": 16,
      "metadata": {
        "colab": {
          "base_uri": "https://localhost:8080/"
        },
        "id": "OBtC7sUYvN-5",
        "outputId": "0d8d8cf1-eb65-48e4-c94e-5974b7bb7762"
      },
      "outputs": [
        {
          "data": {
            "text/plain": [
              "(array(['Negation', 'Alternation', 'Neutral', 'FE', 'RE', 'Equivalence',\n",
              "        'Entailment'], dtype=object),\n",
              " array(['Negation', 'Neutral', 'RE', 'FE', 'Equivalence'], dtype=object))"
            ]
          },
          "execution_count": 16,
          "metadata": {},
          "output_type": "execute_result"
        }
      ],
      "source": [
        "group1['M'].unique(), group1['E'].unique()"
      ]
    },
    {
      "attachments": {},
      "cell_type": "markdown",
      "metadata": {
        "id": "I9ejtvEgNvAq"
      },
      "source": [
        "## Labelling the labels names to numbers 1 through 7 respectively\n",
        "'FE':1 \n",
        "'RE':2 \n",
        "'Negation':3\n",
        "'Cover':4\n",
        "'Alternation':5\n",
        "'Equivalence':6\n",
        "'Neutral':7"
      ]
    },
    {
      "cell_type": "code",
      "execution_count": 17,
      "metadata": {
        "id": "1ckE1AlUvYYO"
      },
      "outputs": [],
      "source": [
        "label_map = {'FE':1, 'RE':2, 'Negation':3, 'Neutral':4, 'Alternation':5, 'Equivalence':6, 'Cover':7}"
      ]
    },
    {
      "cell_type": "code",
      "execution_count": 18,
      "metadata": {
        "id": "X6JXwSk1w5sj"
      },
      "outputs": [],
      "source": [
        "for i in ['M', 'E']:\n",
        "  group1[i] = group1[i].map(label_map)"
      ]
    },
    {
      "cell_type": "code",
      "execution_count": 19,
      "metadata": {
        "colab": {
          "base_uri": "https://localhost:8080/",
          "height": 206
        },
        "id": "Gwg3Uz_3xWIa",
        "outputId": "fce5f8d0-5bdf-40be-907f-764ed7107433"
      },
      "outputs": [
        {
          "data": {
            "text/html": [
              "\n",
              "  <div id=\"df-b598a271-504f-4249-92fb-e61894fa2441\">\n",
              "    <div class=\"colab-df-container\">\n",
              "      <div>\n",
              "<style scoped>\n",
              "    .dataframe tbody tr th:only-of-type {\n",
              "        vertical-align: middle;\n",
              "    }\n",
              "\n",
              "    .dataframe tbody tr th {\n",
              "        vertical-align: top;\n",
              "    }\n",
              "\n",
              "    .dataframe thead th {\n",
              "        text-align: right;\n",
              "    }\n",
              "</style>\n",
              "<table border=\"1\" class=\"dataframe\">\n",
              "  <thead>\n",
              "    <tr style=\"text-align: right;\">\n",
              "      <th></th>\n",
              "      <th>SICK_id</th>\n",
              "      <th>Premise</th>\n",
              "      <th>Hypothesis</th>\n",
              "      <th>Modifier</th>\n",
              "      <th>Premise/Hypothesis/Both</th>\n",
              "      <th>Part of Premise/Hypothesis Modified</th>\n",
              "      <th>M</th>\n",
              "      <th>E</th>\n",
              "    </tr>\n",
              "  </thead>\n",
              "  <tbody>\n",
              "    <tr>\n",
              "      <th>0</th>\n",
              "      <td>90</td>\n",
              "      <td>a man is jumping into an empty pool</td>\n",
              "      <td>a man is jumping into a full pool</td>\n",
              "      <td>NONE</td>\n",
              "      <td>NONE</td>\n",
              "      <td>NONE</td>\n",
              "      <td>3.0</td>\n",
              "      <td>3</td>\n",
              "    </tr>\n",
              "    <tr>\n",
              "      <th>1</th>\n",
              "      <td>90</td>\n",
              "      <td>every man is jumping into an empty pool</td>\n",
              "      <td>a man is jumping into a full pool</td>\n",
              "      <td>every</td>\n",
              "      <td>Premise</td>\n",
              "      <td>Subject</td>\n",
              "      <td>5.0</td>\n",
              "      <td>3</td>\n",
              "    </tr>\n",
              "    <tr>\n",
              "      <th>2</th>\n",
              "      <td>90</td>\n",
              "      <td>a man is jumping into an empty pool</td>\n",
              "      <td>every man is jumping into a full pool</td>\n",
              "      <td>every</td>\n",
              "      <td>Hypothesis</td>\n",
              "      <td>Subject</td>\n",
              "      <td>3.0</td>\n",
              "      <td>3</td>\n",
              "    </tr>\n",
              "    <tr>\n",
              "      <th>3</th>\n",
              "      <td>90</td>\n",
              "      <td>every man is jumping into an empty pool</td>\n",
              "      <td>every man is jumping into a full pool</td>\n",
              "      <td>every</td>\n",
              "      <td>Both</td>\n",
              "      <td>Subject</td>\n",
              "      <td>3.0</td>\n",
              "      <td>3</td>\n",
              "    </tr>\n",
              "    <tr>\n",
              "      <th>4</th>\n",
              "      <td>90</td>\n",
              "      <td>some man is jumping into an empty pool</td>\n",
              "      <td>a man is jumping into a full pool</td>\n",
              "      <td>some</td>\n",
              "      <td>Premise</td>\n",
              "      <td>Subject</td>\n",
              "      <td>5.0</td>\n",
              "      <td>4</td>\n",
              "    </tr>\n",
              "  </tbody>\n",
              "</table>\n",
              "</div>\n",
              "      <button class=\"colab-df-convert\" onclick=\"convertToInteractive('df-b598a271-504f-4249-92fb-e61894fa2441')\"\n",
              "              title=\"Convert this dataframe to an interactive table.\"\n",
              "              style=\"display:none;\">\n",
              "        \n",
              "  <svg xmlns=\"http://www.w3.org/2000/svg\" height=\"24px\"viewBox=\"0 0 24 24\"\n",
              "       width=\"24px\">\n",
              "    <path d=\"M0 0h24v24H0V0z\" fill=\"none\"/>\n",
              "    <path d=\"M18.56 5.44l.94 2.06.94-2.06 2.06-.94-2.06-.94-.94-2.06-.94 2.06-2.06.94zm-11 1L8.5 8.5l.94-2.06 2.06-.94-2.06-.94L8.5 2.5l-.94 2.06-2.06.94zm10 10l.94 2.06.94-2.06 2.06-.94-2.06-.94-.94-2.06-.94 2.06-2.06.94z\"/><path d=\"M17.41 7.96l-1.37-1.37c-.4-.4-.92-.59-1.43-.59-.52 0-1.04.2-1.43.59L10.3 9.45l-7.72 7.72c-.78.78-.78 2.05 0 2.83L4 21.41c.39.39.9.59 1.41.59.51 0 1.02-.2 1.41-.59l7.78-7.78 2.81-2.81c.8-.78.8-2.07 0-2.86zM5.41 20L4 18.59l7.72-7.72 1.47 1.35L5.41 20z\"/>\n",
              "  </svg>\n",
              "      </button>\n",
              "      \n",
              "  <style>\n",
              "    .colab-df-container {\n",
              "      display:flex;\n",
              "      flex-wrap:wrap;\n",
              "      gap: 12px;\n",
              "    }\n",
              "\n",
              "    .colab-df-convert {\n",
              "      background-color: #E8F0FE;\n",
              "      border: none;\n",
              "      border-radius: 50%;\n",
              "      cursor: pointer;\n",
              "      display: none;\n",
              "      fill: #1967D2;\n",
              "      height: 32px;\n",
              "      padding: 0 0 0 0;\n",
              "      width: 32px;\n",
              "    }\n",
              "\n",
              "    .colab-df-convert:hover {\n",
              "      background-color: #E2EBFA;\n",
              "      box-shadow: 0px 1px 2px rgba(60, 64, 67, 0.3), 0px 1px 3px 1px rgba(60, 64, 67, 0.15);\n",
              "      fill: #174EA6;\n",
              "    }\n",
              "\n",
              "    [theme=dark] .colab-df-convert {\n",
              "      background-color: #3B4455;\n",
              "      fill: #D2E3FC;\n",
              "    }\n",
              "\n",
              "    [theme=dark] .colab-df-convert:hover {\n",
              "      background-color: #434B5C;\n",
              "      box-shadow: 0px 1px 3px 1px rgba(0, 0, 0, 0.15);\n",
              "      filter: drop-shadow(0px 1px 2px rgba(0, 0, 0, 0.3));\n",
              "      fill: #FFFFFF;\n",
              "    }\n",
              "  </style>\n",
              "\n",
              "      <script>\n",
              "        const buttonEl =\n",
              "          document.querySelector('#df-b598a271-504f-4249-92fb-e61894fa2441 button.colab-df-convert');\n",
              "        buttonEl.style.display =\n",
              "          google.colab.kernel.accessAllowed ? 'block' : 'none';\n",
              "\n",
              "        async function convertToInteractive(key) {\n",
              "          const element = document.querySelector('#df-b598a271-504f-4249-92fb-e61894fa2441');\n",
              "          const dataTable =\n",
              "            await google.colab.kernel.invokeFunction('convertToInteractive',\n",
              "                                                     [key], {});\n",
              "          if (!dataTable) return;\n",
              "\n",
              "          const docLinkHtml = 'Like what you see? Visit the ' +\n",
              "            '<a target=\"_blank\" href=https://colab.research.google.com/notebooks/data_table.ipynb>data table notebook</a>'\n",
              "            + ' to learn more about interactive tables.';\n",
              "          element.innerHTML = '';\n",
              "          dataTable['output_type'] = 'display_data';\n",
              "          await google.colab.output.renderOutput(dataTable, element);\n",
              "          const docLink = document.createElement('div');\n",
              "          docLink.innerHTML = docLinkHtml;\n",
              "          element.appendChild(docLink);\n",
              "        }\n",
              "      </script>\n",
              "    </div>\n",
              "  </div>\n",
              "  "
            ],
            "text/plain": [
              "   SICK_id                                  Premise  \\\n",
              "0       90      a man is jumping into an empty pool   \n",
              "1       90  every man is jumping into an empty pool   \n",
              "2       90      a man is jumping into an empty pool   \n",
              "3       90  every man is jumping into an empty pool   \n",
              "4       90   some man is jumping into an empty pool   \n",
              "\n",
              "                              Hypothesis Modifier Premise/Hypothesis/Both  \\\n",
              "0      a man is jumping into a full pool     NONE                    NONE   \n",
              "1      a man is jumping into a full pool    every                 Premise   \n",
              "2  every man is jumping into a full pool    every              Hypothesis   \n",
              "3  every man is jumping into a full pool    every                    Both   \n",
              "4      a man is jumping into a full pool     some                 Premise   \n",
              "\n",
              "  Part of Premise/Hypothesis Modified    M  E  \n",
              "0                                NONE  3.0  3  \n",
              "1                             Subject  5.0  3  \n",
              "2                             Subject  3.0  3  \n",
              "3                             Subject  3.0  3  \n",
              "4                             Subject  5.0  4  "
            ]
          },
          "execution_count": 19,
          "metadata": {},
          "output_type": "execute_result"
        }
      ],
      "source": [
        "group1.head()"
      ]
    },
    {
      "cell_type": "code",
      "execution_count": 20,
      "metadata": {
        "colab": {
          "base_uri": "https://localhost:8080/"
        },
        "id": "oBEbR7g-O2zU",
        "outputId": "31afef98-32ff-4436-82f3-f8be23def663"
      },
      "outputs": [
        {
          "name": "stderr",
          "output_type": "stream",
          "text": [
            "<ipython-input-20-4be6dbc162a5>:1: SettingWithCopyWarning: \n",
            "A value is trying to be set on a copy of a slice from a DataFrame\n",
            "\n",
            "See the caveats in the documentation: https://pandas.pydata.org/pandas-docs/stable/user_guide/indexing.html#returning-a-view-versus-a-copy\n",
            "  group1['M'][group1['M'].isna()] = 1\n"
          ]
        }
      ],
      "source": [
        "group1['M'][group1['M'].isna()] = 1"
      ]
    },
    {
      "cell_type": "code",
      "execution_count": 21,
      "metadata": {
        "colab": {
          "base_uri": "https://localhost:8080/"
        },
        "id": "uli_re0uQkpX",
        "outputId": "52a966f8-2a2c-456a-ef6b-a58fe92ff95d"
      },
      "outputs": [
        {
          "data": {
            "text/plain": [
              "Series([], Name: M, dtype: float64)"
            ]
          },
          "execution_count": 21,
          "metadata": {},
          "output_type": "execute_result"
        }
      ],
      "source": [
        "group1['M'][group1['M'].isna()]"
      ]
    },
    {
      "cell_type": "code",
      "execution_count": 22,
      "metadata": {
        "id": "YGwPh5GNQS8n"
      },
      "outputs": [],
      "source": [
        "group1['M'] = group1['M'].astype('int')"
      ]
    },
    {
      "attachments": {},
      "cell_type": "markdown",
      "metadata": {
        "id": "1RIHNQ2zN0LO"
      },
      "source": [
        "## Remove a couple of rows (which are repetition of original premise hypothesis pair\n"
      ]
    },
    {
      "cell_type": "code",
      "execution_count": 23,
      "metadata": {
        "id": "xhbg1hMHyuY3"
      },
      "outputs": [],
      "source": [
        "# df = df.dropna(axis='rows')"
      ]
    },
    {
      "cell_type": "code",
      "execution_count": 24,
      "metadata": {
        "colab": {
          "base_uri": "https://localhost:8080/"
        },
        "id": "4yv9MPEizV8k",
        "outputId": "b82273c7-cbe5-4449-c986-4badbf6fc9b6"
      },
      "outputs": [
        {
          "name": "stdout",
          "output_type": "stream",
          "text": [
            "<class 'pandas.core.frame.DataFrame'>\n",
            "Int64Index: 558 entries, 0 to 92\n",
            "Data columns (total 8 columns):\n",
            " #   Column                               Non-Null Count  Dtype \n",
            "---  ------                               --------------  ----- \n",
            " 0   SICK_id                              558 non-null    int64 \n",
            " 1   Premise                              558 non-null    object\n",
            " 2   Hypothesis                           558 non-null    object\n",
            " 3   Modifier                             558 non-null    object\n",
            " 4   Premise/Hypothesis/Both              558 non-null    object\n",
            " 5   Part of Premise/Hypothesis Modified  558 non-null    object\n",
            " 6   M                                    558 non-null    int64 \n",
            " 7   E                                    558 non-null    int64 \n",
            "dtypes: int64(3), object(5)\n",
            "memory usage: 39.2+ KB\n"
          ]
        }
      ],
      "source": [
        "group1.info()"
      ]
    },
    {
      "cell_type": "code",
      "execution_count": 25,
      "metadata": {
        "id": "MjMIRDQ4xgFY"
      },
      "outputs": [],
      "source": [
        "target = ['FE', 'RE', 'Neutral', 'Equivalence', 'Cover', 'Negation']"
      ]
    },
    {
      "attachments": {},
      "cell_type": "markdown",
      "metadata": {
        "id": "sgLPf7OsOBWF"
      },
      "source": [
        "## Cohen Kappa Score\n",
        "A pairwise inetr-rater reliability statistic. \n",
        "Considering probability of agreement by chance.\n",
        "We have 7 labels and 2 annotators and 558 observations in total.\n",
        "So labels are mutually exclusive. (Assume so for now)\n",
        "$p_0$ relative observed agreement\n",
        "$p_1$ hypothetical agreement by chance\n",
        "$p_0 = \\frac{1}{558^2} \\sum n_{k_1} n_{k_2} $  where $n_{k_1}$ and $n_{k_2}$ are number of times rater i (first or second) labelled k. \n",
        "\n",
        "These scores are calculated pairwise so at any time it is agreement between two raters."
      ]
    },
    {
      "cell_type": "code",
      "execution_count": 26,
      "metadata": {
        "colab": {
          "base_uri": "https://localhost:8080/"
        },
        "id": "mAm6xsYKxwXi",
        "outputId": "152e3403-f989-4de6-e9c2-395715ddcd1d"
      },
      "outputs": [
        {
          "name": "stdout",
          "output_type": "stream",
          "text": [
            "0.2568295855788887\n"
          ]
        }
      ],
      "source": [
        "labellers = {1:'M', 2:'E'}\n",
        "cohen_kappa_scores = {}\n",
        "\n",
        "cohen_kappa_scores[(labellers[1], labellers[2])] = cohen_kappa_score(group1[labellers[1]], group1[labellers[2]])\n",
        "print(cohen_kappa_scores[(labellers[1], labellers[2])])"
      ]
    },
    {
      "attachments": {},
      "cell_type": "markdown",
      "metadata": {
        "id": "-2ggALXTQEfP"
      },
      "source": [
        "## Pairwise agreement Cohen Kappa scores"
      ]
    },
    {
      "cell_type": "code",
      "execution_count": 27,
      "metadata": {
        "colab": {
          "base_uri": "https://localhost:8080/"
        },
        "id": "EtOZD9I60B1v",
        "outputId": "00d0274d-502e-4b88-88ed-7c7994705fc4"
      },
      "outputs": [
        {
          "data": {
            "text/plain": [
              "{('M', 'E'): 0.2568295855788887}"
            ]
          },
          "execution_count": 27,
          "metadata": {},
          "output_type": "execute_result"
        }
      ],
      "source": [
        "cohen_kappa_scores"
      ]
    },
    {
      "attachments": {},
      "cell_type": "markdown",
      "metadata": {
        "id": "CG0n2H8rQN8t"
      },
      "source": []
    },
    {
      "cell_type": "code",
      "execution_count": 28,
      "metadata": {
        "id": "j4bGg1al1ZJI"
      },
      "outputs": [],
      "source": [
        "modified_df = group1.copy()"
      ]
    },
    {
      "attachments": {},
      "cell_type": "markdown",
      "metadata": {
        "id": "LKjvodk2QQKW"
      },
      "source": [
        "### Label-wise agreements (as a confusion matrix)\n",
        "- First we'd like to assess the maximum agreement between each pair of annotators for each label they labelled.\n",
        "- We consider that Mihai's labels as Gold standard for a point of reference closer to ground truth.\n",
        "- We also consider that there might be maximum Forward Entailments considering it was the label most chosen. This also partially makes this an imbalanced class distribution even though these are not Ground truth labels."
      ]
    },
    {
      "cell_type": "code",
      "execution_count": 29,
      "metadata": {
        "id": "g6vR_JYg9pzE"
      },
      "outputs": [],
      "source": [
        "from pycm import *\n",
        "\n",
        "cm = ConfusionMatrix(actual_vector=group1['M'].to_numpy(), predict_vector=modified_df['E'].to_numpy()) "
      ]
    },
    {
      "attachments": {},
      "cell_type": "markdown",
      "metadata": {
        "id": "_H9gpSiJSqI8"
      },
      "source": [
        "## Seeing maximum agreement for the label that was chosen most of the times for just two annotators."
      ]
    },
    {
      "cell_type": "code",
      "execution_count": 30,
      "metadata": {
        "colab": {
          "base_uri": "https://localhost:8080/",
          "height": 313
        },
        "id": "l2ctMf5ZFbCt",
        "outputId": "d3c8e1af-85af-4898-fc22-5f5e1b31e8a6"
      },
      "outputs": [
        {
          "data": {
            "text/plain": [
              "<matplotlib.axes._subplots.AxesSubplot at 0x7fab7912be50>"
            ]
          },
          "execution_count": 30,
          "metadata": {},
          "output_type": "execute_result"
        },
        {
          "data": {
            "image/png": "[encoded data removed]",
            "text/plain": [
              "<Figure size 432x288 with 2 Axes>"
            ]
          },
          "metadata": {
            "needs_background": "light"
          },
          "output_type": "display_data"
        }
      ],
      "source": [
        "cm.plot()"
      ]
    },
    {
      "cell_type": "code",
      "execution_count": 31,
      "metadata": {
        "colab": {
          "base_uri": "https://localhost:8080/"
        },
        "id": "UUi1Vsw1UcGf",
        "outputId": "7bf5db78-3ec8-4466-be0c-8cbff4f93356"
      },
      "outputs": [
        {
          "name": "stdout",
          "output_type": "stream",
          "text": [
            "Predict   1         2         3         4         5         6         \n",
            "Actual\n",
            "1         55        0         0         3         0         0         \n",
            "\n",
            "2         0         3         0         4         0         0         \n",
            "\n",
            "3         1         0         17        17        0         0         \n",
            "\n",
            "4         10        9         9         223       0         2         \n",
            "\n",
            "5         1         0         3         196       0         0         \n",
            "\n",
            "6         1         0         0         2         0         2         \n",
            "\n",
            "\n"
          ]
        }
      ],
      "source": [
        "cm.print_matrix()"
      ]
    },
    {
      "cell_type": "code",
      "execution_count": 32,
      "metadata": {
        "colab": {
          "base_uri": "https://localhost:8080/"
        },
        "id": "q4EPm98wMlQy",
        "outputId": "88f70dc0-9bd3-46e3-83ec-203e7db44c5c"
      },
      "outputs": [
        {
          "data": {
            "text/plain": [
              "{1: {1: 55, 2: 0, 3: 0, 4: 3, 5: 0, 6: 0},\n",
              " 2: {1: 0, 2: 3, 3: 0, 4: 4, 5: 0, 6: 0},\n",
              " 3: {1: 1, 2: 0, 3: 17, 4: 17, 5: 0, 6: 0},\n",
              " 4: {1: 10, 2: 9, 3: 9, 4: 223, 5: 0, 6: 2},\n",
              " 5: {1: 1, 2: 0, 3: 3, 4: 196, 5: 0, 6: 0},\n",
              " 6: {1: 1, 2: 0, 3: 0, 4: 2, 5: 0, 6: 2}}"
            ]
          },
          "execution_count": 32,
          "metadata": {},
          "output_type": "execute_result"
        }
      ],
      "source": [
        "cm.table"
      ]
    },
    {
      "cell_type": "code",
      "execution_count": 33,
      "metadata": {
        "colab": {
          "base_uri": "https://localhost:8080/"
        },
        "id": "eFrTBrGITBYc",
        "outputId": "6d5e65f9-81fe-4882-8209-c620f7f0cd2d"
      },
      "outputs": [
        {
          "data": {
            "text/plain": [
              "{'FE': 1,\n",
              " 'RE': 2,\n",
              " 'Negation': 3,\n",
              " 'Neutral': 4,\n",
              " 'Alternation': 5,\n",
              " 'Equivalence': 6,\n",
              " 'Cover': 7}"
            ]
          },
          "execution_count": 33,
          "metadata": {},
          "output_type": "execute_result"
        }
      ],
      "source": [
        "label_map"
      ]
    },
    {
      "cell_type": "code",
      "execution_count": 34,
      "metadata": {
        "id": "0pWujsM9TQFS"
      },
      "outputs": [],
      "source": [
        "lmap = {1:'FE', 2:'RE', 3:'Negation', 4:'Neutral', 5:'Alternation', 6:'Equivalence', 7:'Cover'}"
      ]
    },
    {
      "cell_type": "code",
      "execution_count": 35,
      "metadata": {
        "colab": {
          "base_uri": "https://localhost:8080/"
        },
        "id": "whVM3L91Sugl",
        "outputId": "5db2ba1b-5107-4a80-f28a-486db40953dd"
      },
      "outputs": [
        {
          "data": {
            "text/plain": [
              "{'Neutral': 253,\n",
              " 'Alternation': 200,\n",
              " 'FE': 58,\n",
              " 'Negation': 35,\n",
              " 'RE': 7,\n",
              " 'Equivalence': 5}"
            ]
          },
          "execution_count": 35,
          "metadata": {},
          "output_type": "execute_result"
        }
      ],
      "source": [
        "a1_counts = {}\n",
        "for k, v in group1['M'].value_counts().to_dict().items():\n",
        "  a1_counts[lmap[k]] = v\n",
        "a1_counts"
      ]
    },
    {
      "cell_type": "code",
      "execution_count": 36,
      "metadata": {
        "colab": {
          "base_uri": "https://localhost:8080/"
        },
        "id": "BYjOXatES110",
        "outputId": "6946efbd-c8ed-46d2-c8be-61f392c19014"
      },
      "outputs": [
        {
          "data": {
            "text/plain": [
              "{'Neutral': 445, 'FE': 68, 'Negation': 29, 'RE': 12, 'Equivalence': 4}"
            ]
          },
          "execution_count": 36,
          "metadata": {},
          "output_type": "execute_result"
        }
      ],
      "source": [
        "a2_counts = {}\n",
        "for k, v in group1['E'].value_counts().to_dict().items():\n",
        "  a2_counts[lmap[k]] = v\n",
        "a2_counts"
      ]
    },
    {
      "cell_type": "code",
      "execution_count": 37,
      "metadata": {
        "colab": {
          "base_uri": "https://localhost:8080/"
        },
        "id": "i7Mav4l3ViPq",
        "outputId": "4544b3f8-83ae-40f2-e087-ce95c299e870"
      },
      "outputs": [
        {
          "data": {
            "text/plain": [
              "{'FE': 126,\n",
              " 'RE': 19,\n",
              " 'Neutral': 698,\n",
              " 'Negation': 64,\n",
              " 'Equivalence': 9,\n",
              " 'Alternation': 200}"
            ]
          },
          "execution_count": 37,
          "metadata": {},
          "output_type": "execute_result"
        }
      ],
      "source": [
        "sum_counts = {}\n",
        "for key in ['FE','RE', 'Neutral','Negation','Equivalence' ]:\n",
        "  sum_counts[key] = a1_counts[key] + a2_counts[key]\n",
        "sum_counts['Alternation'] = a1_counts['Alternation']\n",
        "sum_counts"
      ]
    },
    {
      "attachments": {},
      "cell_type": "markdown",
      "metadata": {
        "id": "W1cbNcvoS_44"
      },
      "source": [
        "## Observing F1, precision and recall scores for pairwise confusion matrices.\n",
        "In this case, we consider a case where each annotator i can be Gold label annotator and compared with every other annotator j from remaining 1 annotators. So we consider the case that chosen Gold labels i.e. annotator's labels as Ground truth and we calculate pairwise \"Supposed Gold label\" with another annotator's labels. \n",
        "\n",
        "This is to say between any two annotators, we choose any one annotator, we would like to see how much agreement can exist and how would that reflect as F1, precision and recall scores.\n",
        "\n",
        "- For each pair of annotators, consider ith annotator to have ground truth and jth annotator to be prediction labels.\n",
        "- We still observe maximum agreement >50% for Neutral Labels.\n",
        "- We do observ ~53% precision, recall and F1-scores. Would not be very helpful, since we do not have \"True Gold labels\". \n",
        "- We use the following information for assessing how to design annotation schemes annotating automatically modified premise, hypothesis sentences with Generalized quantifiers as well as Adjectives & adverbs.\n",
        "- We want to observe the amount of labeling confusion that quantifiers and modifiers introduce.\n",
        "- We consider that wherever the label is not FE or RE, we can see maximum confusion. \n",
        "- Neutral - has max agreement & is second most chosen label\n",
        "- Forward Entailment - has second best agreement & is also second most chosen label\n",
        "- All other cases, signify confusion due to level of difficulty.\n",
        "\n",
        "Total 558 * 2 = 1116 labels required by 2 annotators for 558 premise, hypothesis pairs.\n",
        "\n",
        "1.  FE\t- 126\n",
        "2.  RE - 19\n",
        "3.  Neutral - 698\n",
        "4.  Negation - 64\n",
        "5.  Cover - 0\n",
        "6.  Alternation - 200\n",
        "7.  Equivalence - 9\n"
      ]
    },
    {
      "cell_type": "code",
      "execution_count": 38,
      "metadata": {
        "colab": {
          "base_uri": "https://localhost:8080/"
        },
        "id": "KUWmFr9_QPgc",
        "outputId": "18191916-3d42-459a-ca3a-c67d50fcf743"
      },
      "outputs": [
        {
          "name": "stdout",
          "output_type": "stream",
          "text": [
            "Predict   1         2         3         4         5         6         \n",
            "Actual\n",
            "1         55        0         0         3         0         0         \n",
            "\n",
            "2         0         3         0         4         0         0         \n",
            "\n",
            "3         1         0         17        17        0         0         \n",
            "\n",
            "4         10        9         9         223       0         2         \n",
            "\n",
            "5         1         0         3         196       0         0         \n",
            "\n",
            "6         1         0         0         2         0         2         \n",
            "\n",
            "\n",
            "\n",
            "\n",
            "\n",
            "Overall Statistics : \n",
            "\n",
            "95% CI                                                            (0.49627,0.579)\n",
            "ACC Macro                                                         0.84588\n",
            "ARI                                                               0.24559\n",
            "AUNP                                                              0.60162\n",
            "AUNU                                                              0.6956\n",
            "Bangdiwala B                                                      0.45097\n",
            "Bennett S                                                         0.44516\n",
            "CBA                                                               0.40761\n",
            "CSI                                                               None\n",
            "Chi-Squared                                                       None\n",
            "Chi-Squared DF                                                    25\n",
            "Conditional Entropy                                               0.5223\n",
            "Cramer V                                                          None\n",
            "Cross Entropy                                                     0.86457\n",
            "F1 Macro                                                          0.46724\n",
            "F1 Micro                                                          0.53763\n",
            "FNR Macro                                                         0.476\n",
            "FNR Micro                                                         0.46237\n",
            "FPR Macro                                                         0.13279\n",
            "FPR Micro                                                         0.09247\n",
            "Gwet AC1                                                          0.47928\n",
            "Hamming Loss                                                      0.46237\n",
            "Joint Entropy                                                     2.30051\n",
            "KL Divergence                                                     None\n",
            "Kappa                                                             0.25683\n",
            "Kappa 95% CI                                                      (0.19034,0.32332)\n",
            "Kappa No Prevalence                                               0.07527\n",
            "Kappa Standard Error                                              0.03393\n",
            "Kappa Unbiased                                                    0.1748\n",
            "Krippendorff Alpha                                                0.17554\n",
            "Lambda A                                                          0.17377\n",
            "Lambda B                                                          0.46018\n",
            "Mutual Information                                                0.50002\n",
            "NIR                                                               0.45341\n",
            "Overall ACC                                                       0.53763\n",
            "Overall CEN                                                       0.24941\n",
            "Overall J                                                         (2.07904,0.34651)\n",
            "Overall MCC                                                       0.33671\n",
            "Overall MCEN                                                      0.27781\n",
            "Overall RACC                                                      0.37785\n",
            "Overall RACCU                                                     0.43969\n",
            "P-Value                                                           4e-05\n",
            "PPV Macro                                                         None\n",
            "PPV Micro                                                         0.53763\n",
            "Pearson C                                                         None\n",
            "Phi-Squared                                                       None\n",
            "RCI                                                               0.28119\n",
            "RR                                                                93.0\n",
            "Reference Entropy                                                 1.77821\n",
            "Response Entropy                                                  1.02232\n",
            "SOA1(Landis & Koch)                                               Fair\n",
            "SOA2(Fleiss)                                                      Poor\n",
            "SOA3(Altman)                                                      Fair\n",
            "SOA4(Cicchetti)                                                   Poor\n",
            "SOA5(Cramer)                                                      None\n",
            "SOA6(Matthews)                                                    Weak\n",
            "Scott PI                                                          0.1748\n",
            "Standard Error                                                    0.02111\n",
            "TNR Macro                                                         0.86721\n",
            "TNR Micro                                                         0.90753\n",
            "TPR Macro                                                         0.524\n",
            "TPR Micro                                                         0.53763\n",
            "Zero-one Loss                                                     258\n",
            "\n",
            "Class Statistics :\n",
            "\n",
            "Classes                                                           1             2             3             4             5             6             \n",
            "ACC(Accuracy)                                                     0.97133       0.9767        0.94624       0.54839       0.64158       0.99104       \n",
            "AGF(Adjusted F-score)                                             0.95255       0.60957       0.69782       0.64771       0.0           0.64386       \n",
            "AGM(Adjusted geometric mean)                                      0.96717       0.81542       0.82831       0.41284       0             0.81303       \n",
            "AM(Difference between automatic and manual classification)        10            5             -6            192           -200          -1            \n",
            "AUC(Area under the ROC curve)                                     0.96114       0.70612       0.73138       0.57678       0.5           0.69819       \n",
            "AUCI(AUC value interpretation)                                    Excellent     Good          Good          Poor          Poor          Fair          \n",
            "AUPR(Area under the PR curve)                                     0.87855       0.33929       0.53596       0.69127       None          0.45          \n",
            "BB(Braun-Blanquet similarity)                                     0.80882       0.25          0.48571       0.50112       0.0           0.4           \n",
            "BCD(Bray-Curtis dissimilarity)                                    0.00896       0.00448       0.00538       0.17204       0.17921       0.0009        \n",
            "BM(Informedness or bookmaker informedness)                        0.92228       0.41224       0.46277       0.15355       0.0           0.39638       \n",
            "CEN(Confusion entropy)                                            0.17599       0.29618       0.36325       0.30692       0.04746       0.39634       \n",
            "DOR(Diagnostic odds ratio)                                        686.79487     45.16667      40.21759      2.77913       None          183.66667     \n",
            "DP(Discriminant power)                                            1.56402       0.91235       0.88456       0.24474       None          1.24823       \n",
            "DPI(Discriminant power interpretation)                            Limited       Poor          Poor          Poor          None          Limited       \n",
            "ERR(Error rate)                                                   0.02867       0.0233        0.05376       0.45161       0.35842       0.00896       \n",
            "F0.5(F0.5 score)                                                  0.83333       0.27273       0.56291       0.54845       0.0           0.47619       \n",
            "F1(F1 score - harmonic mean of precision and sensitivity)         0.87302       0.31579       0.53125       0.63897       0.0           0.44444       \n",
            "F2(F2 score)                                                      0.91667       0.375         0.50296       0.76527       0.0           0.41667       \n",
            "FDR(False discovery rate)                                         0.19118       0.75          0.41379       0.49888       None          0.5           \n",
            "FN(False negative/miss/type 2 error)                              3             4             18            30            200           3             \n",
            "FNR(Miss rate or false negative rate)                             0.05172       0.57143       0.51429       0.11858       1.0           0.6           \n",
            "FOR(False omission rate)                                          0.00612       0.00733       0.03403       0.26549       0.35842       0.00542       \n",
            "FP(False positive/type 1 error/false alarm)                       13            9             12            222           0             2             \n",
            "FPR(Fall-out or false positive rate)                              0.026         0.01633       0.02294       0.72787       0.0           0.00362       \n",
            "G(G-measure geometric mean of precision and sensitivity)          0.87578       0.32733       0.5336        0.66461       None          0.44721       \n",
            "GI(Gini index)                                                    0.92228       0.41224       0.46277       0.15355       0.0           0.39638       \n",
            "GM(G-mean geometric mean of specificity and sensitivity)          0.96105       0.64929       0.68889       0.48976       0.0           0.63131       \n",
            "HD(Hamming distance)                                              16            13            30            252           200           5             \n",
            "IBA(Index of balanced accuracy)                                   0.89986       0.18756       0.24139       0.38601       0.0           0.16086       \n",
            "ICSI(Individual classification success index)                     0.7571        -0.32143      0.07192       0.38255       None          -0.1          \n",
            "IS(Information score)                                             2.96004       4.31677       3.22432       0.14437       None          5.80219       \n",
            "J(Jaccard index)                                                  0.77465       0.1875        0.3617        0.46947       0.0           0.28571       \n",
            "LS(Lift score)                                                    7.78144       19.92857      9.34581       1.10524       None          55.8          \n",
            "MCC(Matthews correlation coefficient)                             0.86041       0.31629       0.5055        0.19022       None          0.44277       \n",
            "MCCI(Matthews correlation coefficient interpretation)             Strong        Weak          Moderate      Negligible    None          Weak          \n",
            "MCEN(Modified confusion entropy)                                  0.25618       0.29107       0.40906       0.36233       0.04746       0.43162       \n",
            "MK(Markedness)                                                    0.8027        0.24267       0.55218       0.23564       None          0.49458       \n",
            "N(Condition negative)                                             500           551           523           305           358           553           \n",
            "NLR(Negative likelihood ratio)                                    0.0531        0.58092       0.52636       0.43574       1.0           0.60218       \n",
            "NLRI(Negative likelihood ratio interpretation)                    Good          Negligible    Negligible    Poor          Negligible    Negligible    \n",
            "NPV(Negative predictive value)                                    0.99388       0.99267       0.96597       0.73451       0.64158       0.99458       \n",
            "OC(Overlap coefficient)                                           0.94828       0.42857       0.58621       0.88142       None          0.5           \n",
            "OOC(Otsuka-Ochiai coefficient)                                    0.87578       0.32733       0.5336        0.66461       None          0.44721       \n",
            "OP(Optimized precision)                                           0.95794       0.58364       0.61034       0.0202        -0.35842      0.56395       \n",
            "P(Condition positive or support)                                  58            7             35            253           200           5             \n",
            "PLR(Positive likelihood ratio)                                    36.47215      26.2381       21.16905      1.21096       None          110.6         \n",
            "PLRI(Positive likelihood ratio interpretation)                    Good          Good          Good          Poor          None          Good          \n",
            "POP(Population)                                                   558           558           558           558           558           558           \n",
            "PPV(Precision or positive predictive value)                       0.80882       0.25          0.58621       0.50112       None          0.5           \n",
            "PRE(Prevalence)                                                   0.10394       0.01254       0.06272       0.45341       0.35842       0.00896       \n",
            "Q(Yule Q - coefficient of colligation)                            0.99709       0.95668       0.95148       0.47078       None          0.98917       \n",
            "QI(Yule Q interpretation)                                         Strong        Strong        Strong        Weak          None          Strong        \n",
            "RACC(Random accuracy)                                             0.01267       0.00027       0.00326       0.36159       0.0           6e-05         \n",
            "RACCU(Random accuracy unbiased)                                   0.01275       0.00029       0.00329       0.39119       0.03212       7e-05         \n",
            "TN(True negative/correct rejection)                               487           542           511           83            358           551           \n",
            "TNR(Specificity or true negative rate)                            0.974         0.98367       0.97706       0.27213       1.0           0.99638       \n",
            "TON(Test outcome negative)                                        490           546           529           113           558           554           \n",
            "TOP(Test outcome positive)                                        68            12            29            445           0             4             \n",
            "TP(True positive/hit)                                             55            3             17            223           0             2             \n",
            "TPR(Sensitivity, recall, hit rate, or true positive rate)         0.94828       0.42857       0.48571       0.88142       0.0           0.4           \n",
            "Y(Youden index)                                                   0.92228       0.41224       0.46277       0.15355       0.0           0.39638       \n",
            "dInd(Distance index)                                              0.05789       0.57166       0.5148        0.73746       1.0           0.60001       \n",
            "sInd(Similarity index)                                            0.95906       0.59577       0.63598       0.47853       0.29289       0.57573       \n",
            "\n",
            "Predict   1         2         3         4         5         6         \n",
            "Actual\n",
            "1         55        0         1         10        1         1         \n",
            "\n",
            "2         0         3         0         9         0         0         \n",
            "\n",
            "3         0         0         17        9         3         0         \n",
            "\n",
            "4         3         4         17        223       196       2         \n",
            "\n",
            "5         0         0         0         0         0         0         \n",
            "\n",
            "6         0         0         0         2         0         2         \n",
            "\n",
            "\n",
            "\n",
            "\n",
            "\n",
            "Overall Statistics : \n",
            "\n",
            "95% CI                                                            (0.49627,0.579)\n",
            "ACC Macro                                                         0.84588\n",
            "ARI                                                               0.24559\n",
            "AUNP                                                              None\n",
            "AUNU                                                              None\n",
            "Bangdiwala B                                                      0.45097\n",
            "Bennett S                                                         0.44516\n",
            "CBA                                                               0.40761\n",
            "CSI                                                               None\n",
            "Chi-Squared                                                       None\n",
            "Chi-Squared DF                                                    25\n",
            "Conditional Entropy                                               1.2782\n",
            "Cramer V                                                          None\n",
            "Cross Entropy                                                     1.70029\n",
            "F1 Macro                                                          0.46724\n",
            "F1 Micro                                                          0.53763\n",
            "FNR Macro                                                         None\n",
            "FNR Micro                                                         0.46237\n",
            "FPR Macro                                                         0.1128\n",
            "FPR Micro                                                         0.09247\n",
            "Gwet AC1                                                          0.47928\n",
            "Hamming Loss                                                      0.46237\n",
            "Joint Entropy                                                     2.30051\n",
            "KL Divergence                                                     None\n",
            "Kappa                                                             0.25683\n",
            "Kappa 95% CI                                                      (0.19034,0.32332)\n",
            "Kappa No Prevalence                                               0.07527\n",
            "Kappa Standard Error                                              0.03393\n",
            "Kappa Unbiased                                                    0.1748\n",
            "Krippendorff Alpha                                                0.17554\n",
            "Lambda A                                                          0.46018\n",
            "Lambda B                                                          0.17377\n",
            "Mutual Information                                                0.50002\n",
            "NIR                                                               0.79749\n",
            "Overall ACC                                                       0.53763\n",
            "Overall CEN                                                       0.24941\n",
            "Overall J                                                         (2.07904,0.34651)\n",
            "Overall MCC                                                       0.33671\n",
            "Overall MCEN                                                      0.27781\n",
            "Overall RACC                                                      0.37785\n",
            "Overall RACCU                                                     0.43969\n",
            "P-Value                                                           1.0\n",
            "PPV Macro                                                         0.524\n",
            "PPV Micro                                                         0.53763\n",
            "Pearson C                                                         None\n",
            "Phi-Squared                                                       None\n",
            "RCI                                                               0.4891\n",
            "RR                                                                93.0\n",
            "Reference Entropy                                                 1.02232\n",
            "Response Entropy                                                  1.77821\n",
            "SOA1(Landis & Koch)                                               Fair\n",
            "SOA2(Fleiss)                                                      Poor\n",
            "SOA3(Altman)                                                      Fair\n",
            "SOA4(Cicchetti)                                                   Poor\n",
            "SOA5(Cramer)                                                      None\n",
            "SOA6(Matthews)                                                    Weak\n",
            "Scott PI                                                          0.1748\n",
            "Standard Error                                                    0.02111\n",
            "TNR Macro                                                         0.8872\n",
            "TNR Micro                                                         0.90753\n",
            "TPR Macro                                                         None\n",
            "TPR Micro                                                         0.53763\n",
            "Zero-one Loss                                                     258\n",
            "\n",
            "Class Statistics :\n",
            "\n",
            "Classes                                                           1             2             3             4             5             6             \n",
            "ACC(Accuracy)                                                     0.97133       0.9767        0.94624       0.54839       0.64158       0.99104       \n",
            "AGF(Adjusted F-score)                                             0.90273       0.51842       0.74077       0.41322       0.0           0.68869       \n",
            "AGM(Adjusted geometric mean)                                      0.94208       0.74273       0.85639       0.62822       None          0.84937       \n",
            "AM(Difference between automatic and manual classification)        -10           -5            6             -192          200           1             \n",
            "AUC(Area under the ROC curve)                                     0.90135       0.62134       0.77609       0.61782       None          0.74729       \n",
            "AUCI(AUC value interpretation)                                    Excellent     Fair          Good          Fair          None          Good          \n",
            "AUPR(Area under the PR curve)                                     0.87855       0.33929       0.53596       0.69127       None          0.45          \n",
            "BB(Braun-Blanquet similarity)                                     0.80882       0.25          0.48571       0.50112       0.0           0.4           \n",
            "BCD(Bray-Curtis dissimilarity)                                    0.00896       0.00448       0.00538       0.17204       0.17921       0.0009        \n",
            "BM(Informedness or bookmaker informedness)                        0.8027        0.24267       0.55218       0.23564       None          0.49458       \n",
            "CEN(Confusion entropy)                                            0.17599       0.29618       0.36325       0.30692       0.04746       0.39634       \n",
            "DOR(Diagnostic odds ratio)                                        686.79487     45.16667      40.21759      2.77913       None          183.66667     \n",
            "DP(Discriminant power)                                            1.56402       0.91235       0.88456       0.24474       None          1.24823       \n",
            "DPI(Discriminant power interpretation)                            Limited       Poor          Poor          Poor          None          Limited       \n",
            "ERR(Error rate)                                                   0.02867       0.0233        0.05376       0.45161       0.35842       0.00896       \n",
            "F0.5(F0.5 score)                                                  0.91667       0.375         0.50296       0.76527       0.0           0.41667       \n",
            "F1(F1 score - harmonic mean of precision and sensitivity)         0.87302       0.31579       0.53125       0.63897       0.0           0.44444       \n",
            "F2(F2 score)                                                      0.83333       0.27273       0.56291       0.54845       0.0           0.47619       \n",
            "FDR(False discovery rate)                                         0.05172       0.57143       0.51429       0.11858       1.0           0.6           \n",
            "FN(False negative/miss/type 2 error)                              13            9             12            222           0             2             \n",
            "FNR(Miss rate or false negative rate)                             0.19118       0.75          0.41379       0.49888       None          0.5           \n",
            "FOR(False omission rate)                                          0.026         0.01633       0.02294       0.72787       0.0           0.00362       \n",
            "FP(False positive/type 1 error/false alarm)                       3             4             18            30            200           3             \n",
            "FPR(Fall-out or false positive rate)                              0.00612       0.00733       0.03403       0.26549       0.35842       0.00542       \n",
            "G(G-measure geometric mean of precision and sensitivity)          0.87578       0.32733       0.5336        0.66461       None          0.44721       \n",
            "GI(Gini index)                                                    0.8027        0.24267       0.55218       0.23564       None          0.49458       \n",
            "GM(G-mean geometric mean of specificity and sensitivity)          0.89659       0.49817       0.7525        0.6067        None          0.70519       \n",
            "HD(Hamming distance)                                              16            13            30            252           200           5             \n",
            "IBA(Index of balanced accuracy)                                   0.65511       0.06386       0.35121       0.28218       None          0.25134       \n",
            "ICSI(Individual classification success index)                     0.7571        -0.32143      0.07192       0.38255       None          -0.1          \n",
            "IS(Information score)                                             2.96004       4.31677       3.22432       0.14437       None          5.80219       \n",
            "J(Jaccard index)                                                  0.77465       0.1875        0.3617        0.46947       0.0           0.28571       \n",
            "LS(Lift score)                                                    7.78144       19.92857      9.34581       1.10524       None          55.8          \n",
            "MCC(Matthews correlation coefficient)                             0.86041       0.31629       0.5055        0.19022       None          0.44277       \n",
            "MCCI(Matthews correlation coefficient interpretation)             Strong        Weak          Moderate      Negligible    None          Weak          \n",
            "MCEN(Modified confusion entropy)                                  0.25618       0.29107       0.40906       0.36233       0.04746       0.43162       \n",
            "MK(Markedness)                                                    0.92228       0.41224       0.46277       0.15355       0.0           0.39638       \n",
            "N(Condition negative)                                             490           546           529           113           558           554           \n",
            "NLR(Negative likelihood ratio)                                    0.19235       0.75554       0.42837       0.67919       None          0.50272       \n",
            "NLRI(Negative likelihood ratio interpretation)                    Fair          Negligible    Poor          Negligible    None          Negligible    \n",
            "NPV(Negative predictive value)                                    0.974         0.98367       0.97706       0.27213       1.0           0.99638       \n",
            "OC(Overlap coefficient)                                           0.94828       0.42857       0.58621       0.88142       None          0.5           \n",
            "OOC(Otsuka-Ochiai coefficient)                                    0.87578       0.32733       0.5336        0.66461       None          0.44721       \n",
            "OP(Optimized precision)                                           0.86867       0.37906       0.70157       0.35951       None          0.66012       \n",
            "P(Condition positive or support)                                  68            12            29            445           0             4             \n",
            "PLR(Positive likelihood ratio)                                    132.10784     34.125        17.22797      1.88757       None          92.33333      \n",
            "PLRI(Positive likelihood ratio interpretation)                    Good          Good          Good          Poor          None          Good          \n",
            "POP(Population)                                                   558           558           558           558           558           558           \n",
            "PPV(Precision or positive predictive value)                       0.94828       0.42857       0.48571       0.88142       0.0           0.4           \n",
            "PRE(Prevalence)                                                   0.12186       0.02151       0.05197       0.79749       0.0           0.00717       \n",
            "Q(Yule Q - coefficient of colligation)                            0.99709       0.95668       0.95148       0.47078       None          0.98917       \n",
            "QI(Yule Q interpretation)                                         Strong        Strong        Strong        Weak          None          Strong        \n",
            "RACC(Random accuracy)                                             0.01267       0.00027       0.00326       0.36159       0.0           6e-05         \n",
            "RACCU(Random accuracy unbiased)                                   0.01275       0.00029       0.00329       0.39119       0.03212       7e-05         \n",
            "TN(True negative/correct rejection)                               487           542           511           83            358           551           \n",
            "TNR(Specificity or true negative rate)                            0.99388       0.99267       0.96597       0.73451       0.64158       0.99458       \n",
            "TON(Test outcome negative)                                        500           551           523           305           358           553           \n",
            "TOP(Test outcome positive)                                        58            7             35            253           200           5             \n",
            "TP(True positive/hit)                                             55            3             17            223           0             2             \n",
            "TPR(Sensitivity, recall, hit rate, or true positive rate)         0.80882       0.25          0.58621       0.50112       None          0.5           \n",
            "Y(Youden index)                                                   0.8027        0.24267       0.55218       0.23564       None          0.49458       \n",
            "dInd(Distance index)                                              0.19127       0.75004       0.41519       0.56512       None          0.50003       \n",
            "sInd(Similarity index)                                            0.86475       0.46964       0.70642       0.6004        None          0.64643       \n",
            "\n"
          ]
        }
      ],
      "source": [
        "\n",
        "cm = {}\n",
        "\n",
        "cm[('M', 'E')] = ConfusionMatrix(actual_vector=modified_df['M'].to_numpy(), predict_vector=modified_df['E'].to_numpy())\n",
        "cm[('E','M')] = ConfusionMatrix(actual_vector=modified_df['E'].to_numpy(), predict_vector=modified_df['M'].to_numpy())\n",
        "print(cm[('M', 'E')])\n",
        "print(cm[('E','M')])"
      ]
    },
    {
      "attachments": {},
      "cell_type": "markdown",
      "metadata": {
        "id": "ONMxYuYCXV26"
      },
      "source": [
        "### Seeing the Confusion matrix density plots for Max agreement between each pair of annotators."
      ]
    },
    {
      "cell_type": "code",
      "execution_count": 39,
      "metadata": {
        "colab": {
          "base_uri": "https://localhost:8080/",
          "height": 644
        },
        "id": "boFlqp_CNBtg",
        "outputId": "10d5eb64-8190-4be2-d1e9-64a3a2e9f63b"
      },
      "outputs": [
        {
          "name": "stdout",
          "output_type": "stream",
          "text": [
            "('M', 'E')\n",
            "AxesSubplot(0.125,0.125;0.62x0.755)\n",
            "('E', 'M')\n",
            "AxesSubplot(0.125,0.125;0.62x0.755)\n"
          ]
        },
        {
          "data": {
            "image/png": "[encoded data removed]",
            "text/plain": [
              "<Figure size 432x288 with 2 Axes>"
            ]
          },
          "metadata": {
            "needs_background": "light"
          },
          "output_type": "display_data"
        },
        {
          "data": {
            "image/png": "[encoded data removed]",
            "text/plain": [
              "<Figure size 432x288 with 2 Axes>"
            ]
          },
          "metadata": {
            "needs_background": "light"
          },
          "output_type": "display_data"
        }
      ],
      "source": [
        "for k,v in cm.items():\n",
        "  print(k)\n",
        "  print(v.plot(title=k))"
      ]
    },
    {
      "attachments": {},
      "cell_type": "markdown",
      "metadata": {
        "id": "aK133BKwXd5Q"
      },
      "source": [
        "### Looking at total agreement counts for each label between each pair of annotators.\n",
        "- Max agreement is for FE, then RE and then Neutral.\n",
        "- Could also signify it is probably easier to agree on a Forward Entailment.\n",
        "- Could also signify RE and Neutral are next most agreed labels.\n",
        "- Could we say if agreement was most, complexity to identify each of these three labels was easy?"
      ]
    },
    {
      "cell_type": "code",
      "execution_count": 40,
      "metadata": {
        "colab": {
          "base_uri": "https://localhost:8080/"
        },
        "id": "4UYQp0-3Snd4",
        "outputId": "6e20f088-29b4-40c5-8f89-50eebe92bd60"
      },
      "outputs": [
        {
          "name": "stdout",
          "output_type": "stream",
          "text": [
            "('M', 'E')\n",
            "{1: {1: 55, 2: 0, 3: 0, 4: 3, 5: 0, 6: 0}, 2: {1: 0, 2: 3, 3: 0, 4: 4, 5: 0, 6: 0}, 3: {1: 1, 2: 0, 3: 17, 4: 17, 5: 0, 6: 0}, 4: {1: 10, 2: 9, 3: 9, 4: 223, 5: 0, 6: 2}, 5: {1: 1, 2: 0, 3: 3, 4: 196, 5: 0, 6: 0}, 6: {1: 1, 2: 0, 3: 0, 4: 2, 5: 0, 6: 2}}\n",
            "('E', 'M')\n",
            "{1: {1: 55, 2: 0, 3: 1, 4: 10, 5: 1, 6: 1}, 2: {1: 0, 2: 3, 3: 0, 4: 9, 5: 0, 6: 0}, 3: {1: 0, 2: 0, 3: 17, 4: 9, 5: 3, 6: 0}, 4: {1: 3, 2: 4, 3: 17, 4: 223, 5: 196, 6: 2}, 5: {1: 0, 2: 0, 3: 0, 4: 0, 5: 0, 6: 0}, 6: {1: 0, 2: 0, 3: 0, 4: 2, 5: 0, 6: 2}}\n"
          ]
        }
      ],
      "source": [
        "for k,v in cm.items():\n",
        "  print(k)\n",
        "  print(v.table)"
      ]
    },
    {
      "attachments": {},
      "cell_type": "markdown",
      "metadata": {
        "id": "xvBuhvNJX_Fv"
      },
      "source": [
        "## Cohen Kappa scores for modified labels \n",
        "Total 558 * 2 = 1116 labels required by 2 annotators for 558 premise, hypothesis pairs.\n",
        "\n",
        "1.  FE\t- 126\n",
        "2.  RE - 19\n",
        "3.  Neutral - 698\n",
        "4.  Negation - 64\n",
        "5.  Cover - 0\n",
        "6.  Alternation - 200\n",
        "7.  Equivalence - 9\n",
        "\n",
        "So we recalculate the Cohen kappa score: 25.68%"
      ]
    },
    {
      "cell_type": "code",
      "execution_count": 41,
      "metadata": {
        "colab": {
          "base_uri": "https://localhost:8080/"
        },
        "id": "OIasePyk2Jwq",
        "outputId": "413352f7-ee3b-4fb8-dce6-f8b7a91e920c"
      },
      "outputs": [
        {
          "name": "stdout",
          "output_type": "stream",
          "text": [
            "0.2568295855788887\n"
          ]
        }
      ],
      "source": [
        "labellers = {1:'M', 2:'E'}\n",
        "cohen_kappa_scores_modified = {}\n",
        "\n",
        "cohen_kappa_scores_modified[(labellers[1], labellers[2])] = cohen_kappa_score(group1[labellers[1]], group1[labellers[2]])\n",
        "print(cohen_kappa_scores_modified[(labellers[1], labellers[2])])"
      ]
    },
    {
      "attachments": {},
      "cell_type": "markdown",
      "metadata": {
        "id": "UNBjg62DYLue"
      },
      "source": [
        "## Fleiss Kappa scores\n",
        "This is another way of finding above the level of agreement expected by chance. This considers random sampling among the raters (a little better than voted ratings, due to \"randomness\").\n",
        "Although this is purely statistical, since we have types of modifiers which influence thge rater's choice of label, we consider this for some \"randomized\" assessment for a approximated agreement scores. \n",
        "\n",
        "The score considers that if no one chose \"this\" label, we could still find out expected chance of agreement on \"this\" label.\n",
        "\n",
        "This does not tell if agreement is good enough. But just that if an agreement exists then how better is it to that of agreement by chance which in this case is 17.47%."
      ]
    },
    {
      "cell_type": "code",
      "execution_count": 42,
      "metadata": {
        "colab": {
          "base_uri": "https://localhost:8080/"
        },
        "id": "iHdYZez029H3",
        "outputId": "08ada842-6064-4b5e-dbfb-365262292fd6"
      },
      "outputs": [
        {
          "data": {
            "text/plain": [
              "0.17479988192101895"
            ]
          },
          "execution_count": 42,
          "metadata": {},
          "output_type": "execute_result"
        }
      ],
      "source": [
        "from statsmodels.stats import inter_rater as irr\n",
        "data, categories = irr.aggregate_raters(modified_df[['M','E']].to_numpy())\n",
        "irr.fleiss_kappa(data, method='fleiss')"
      ]
    },
    {
      "attachments": {},
      "cell_type": "markdown",
      "metadata": {
        "id": "9XkLX-zcbsYB"
      },
      "source": [
        "### Krippendorff's Alpha\n",
        "Essentially measures amount of reliability as a measure of disagreement.\n",
        "However this might not be relevant here, since we do not have concrete Ground truth. But if we did assume we did have Ground truth and this was reliable, this is how much reliable these labels based on agreement calculated from ratio of observed disagreement and disagreement expected by chance can be.\n",
        "\n",
        "Here krippendorff's alpha is 67.99%"
      ]
    },
    {
      "cell_type": "code",
      "execution_count": 43,
      "metadata": {
        "colab": {
          "base_uri": "https://localhost:8080/"
        },
        "id": "QVdVBV6Q3djB",
        "outputId": "f454307d-863f-4553-a2db-31dac08bec5c"
      },
      "outputs": [
        {
          "data": {
            "text/plain": [
              "0.6799536781572222"
            ]
          },
          "execution_count": 43,
          "metadata": {},
          "output_type": "execute_result"
        }
      ],
      "source": [
        "import krippendorff\n",
        "krippendorff.alpha(modified_df[['M','E']].to_numpy().T)"
      ]
    },
    {
      "cell_type": "code",
      "execution_count": 44,
      "metadata": {
        "colab": {
          "base_uri": "https://localhost:8080/"
        },
        "id": "awCMO9er6OWs",
        "outputId": "68e5286a-2c0c-42f4-e17f-045e93fdc23d"
      },
      "outputs": [
        {
          "data": {
            "text/plain": [
              "array([[90, 'a man is jumping into an empty pool',\n",
              "        'a man is jumping into a full pool', ..., 'NONE', 3, 3],\n",
              "       [90, 'every man is jumping into an empty pool',\n",
              "        'a man is jumping into a full pool', ..., 'Subject', 5, 3],\n",
              "       [90, 'a man is jumping into an empty pool',\n",
              "        'every man is jumping into a full pool', ..., 'Subject', 3, 3],\n",
              "       ...,\n",
              "       [168, 'A child is hitting a an elegant baseball',\n",
              "        'A child is missing a baseball\\n', ..., 'Object', 5, 4],\n",
              "       [168, 'A child is hitting a baseball',\n",
              "        'A child is missing a an elegant baseball', ..., 'Object', 5, 4],\n",
              "       [168, 'A child is hitting a an elegant baseball',\n",
              "        'A child is missing a an elegant baseball', ..., 'Object', 5, 4]],\n",
              "      dtype=object)"
            ]
          },
          "execution_count": 44,
          "metadata": {},
          "output_type": "execute_result"
        }
      ],
      "source": [
        "modified_df.to_numpy()"
      ]
    },
    {
      "cell_type": "code",
      "execution_count": 45,
      "metadata": {
        "id": "qS98B6B17zt6"
      },
      "outputs": [],
      "source": [
        "import agreement\n",
        "from agreement.utils.kernels import linear_kernel\n",
        "\n",
        "from agreement.metrics import cohens_kappa, krippendorffs_alpha, scotts_pi\n",
        "from agreement.utils.transform import pivot_table_frequency\n"
      ]
    },
    {
      "cell_type": "code",
      "execution_count": 46,
      "metadata": {
        "id": "TLjPVfk_4-i8"
      },
      "outputs": [],
      "source": [
        "this_array = []\n",
        "for i,l in enumerate(modified_df[['M','E']].to_numpy()):\n",
        "  for k in range(0,2):\n",
        "    this_array.append([i,k+1, l[k]])\n",
        "arr = np.array(this_array)\n",
        "questions_answers_table = pivot_table_frequency(arr[:, 0], arr[:, 2])"
      ]
    },
    {
      "attachments": {},
      "cell_type": "markdown",
      "metadata": {
        "id": "SiQgEQCtc5uW"
      },
      "source": [
        "### Recomputing Cohen's kappa, krippendorff's alpha while calculating Scott's pi\n",
        "\n",
        "Scott's Pi is similar to Cohen's kappa, except it considered squared joint proportions to calculate inter-annotator reliability.\n",
        "\n",
        "In this case, Scott's pi is 17.47% same as Cohen's kappa"
      ]
    },
    {
      "cell_type": "code",
      "execution_count": 47,
      "metadata": {
        "id": "yiYli1r-4o1W"
      },
      "outputs": [],
      "source": [
        "users_answers_table = pivot_table_frequency(arr[:, 1], arr[:, 2])\n",
        "kappa = cohens_kappa(questions_answers_table, users_answers_table)\n",
        "weighted_kappa = cohens_kappa(questions_answers_table, users_answers_table, weights_kernel=linear_kernel)\n",
        "\n",
        "alpha = krippendorffs_alpha(questions_answers_table)\n",
        "pi = scotts_pi(questions_answers_table)"
      ]
    },
    {
      "cell_type": "code",
      "execution_count": 48,
      "metadata": {
        "colab": {
          "base_uri": "https://localhost:8080/"
        },
        "id": "L1UJdWhx7-zl",
        "outputId": "f0109797-6fdf-42cc-ab3b-f8c19cfe3eaa"
      },
      "outputs": [
        {
          "data": {
            "text/plain": [
              "(0.2568295855788888,\n",
              " 0.499315533366311,\n",
              " 0.17553930855012206,\n",
              " 0.17479988192101903)"
            ]
          },
          "execution_count": 48,
          "metadata": {},
          "output_type": "execute_result"
        }
      ],
      "source": [
        "kappa, weighted_kappa, alpha, pi"
      ]
    },
    {
      "attachments": {},
      "cell_type": "markdown",
      "metadata": {
        "id": "VDO1NYmpaxnB"
      },
      "source": [
        "## Agreements based on Quantifier & Modified SVO"
      ]
    },
    {
      "cell_type": "code",
      "execution_count": 49,
      "metadata": {
        "id": "Njc3cso6bOPx"
      },
      "outputs": [],
      "source": [
        "u = [\"every\", \"always\", \"never\", \"everyone of\"]\n",
        "e = [\"some\", \"at least\", \"exactly one\", \"all but one\"]\n",
        "n = [\"not every\", \"no\", \"not\"]\n",
        "adj = [\"green\", \"happy\", \"sad\", \"good\", \"bad\", \"abnormally\", \"elegantly\", \"an elegant\", \"an abnormal\"]"
      ]
    },
    {
      "cell_type": "code",
      "execution_count": 50,
      "metadata": {
        "id": "aVY4jRQ-bIk4"
      },
      "outputs": [],
      "source": [
        "def get_quantifier_type(x):\n",
        "  if x in u:\n",
        "    return \"Universal\"\n",
        "  elif x in e:\n",
        "    return \"Existential\"\n",
        "  elif x in n:\n",
        "    return \"Negation\"\n",
        "  elif x in adj:\n",
        "    return \"Adjectives/Adverbs\"\n",
        "  else:\n",
        "    return \"NONE\""
      ]
    },
    {
      "cell_type": "code",
      "execution_count": 51,
      "metadata": {
        "colab": {
          "base_uri": "https://localhost:8080/",
          "height": 423
        },
        "id": "Q6gH2gORa-k4",
        "outputId": "83c75c17-4090-42fd-c3a7-47de0ea85804"
      },
      "outputs": [
        {
          "data": {
            "text/html": [
              "\n",
              "  <div id=\"df-b33316fb-b33e-4cf6-a186-e4ba533d8728\">\n",
              "    <div class=\"colab-df-container\">\n",
              "      <div>\n",
              "<style scoped>\n",
              "    .dataframe tbody tr th:only-of-type {\n",
              "        vertical-align: middle;\n",
              "    }\n",
              "\n",
              "    .dataframe tbody tr th {\n",
              "        vertical-align: top;\n",
              "    }\n",
              "\n",
              "    .dataframe thead th {\n",
              "        text-align: right;\n",
              "    }\n",
              "</style>\n",
              "<table border=\"1\" class=\"dataframe\">\n",
              "  <thead>\n",
              "    <tr style=\"text-align: right;\">\n",
              "      <th></th>\n",
              "      <th>SICK_id</th>\n",
              "      <th>Premise</th>\n",
              "      <th>Hypothesis</th>\n",
              "      <th>Modifier</th>\n",
              "      <th>Premise/Hypothesis/Both</th>\n",
              "      <th>Part of Premise/Hypothesis Modified</th>\n",
              "      <th>M</th>\n",
              "      <th>E</th>\n",
              "      <th>Quantifier Type</th>\n",
              "    </tr>\n",
              "  </thead>\n",
              "  <tbody>\n",
              "    <tr>\n",
              "      <th>0</th>\n",
              "      <td>90</td>\n",
              "      <td>a man is jumping into an empty pool</td>\n",
              "      <td>a man is jumping into a full pool</td>\n",
              "      <td>NONE</td>\n",
              "      <td>NONE</td>\n",
              "      <td>NONE</td>\n",
              "      <td>3</td>\n",
              "      <td>3</td>\n",
              "      <td>NONE</td>\n",
              "    </tr>\n",
              "    <tr>\n",
              "      <th>1</th>\n",
              "      <td>90</td>\n",
              "      <td>every man is jumping into an empty pool</td>\n",
              "      <td>a man is jumping into a full pool</td>\n",
              "      <td>every</td>\n",
              "      <td>Premise</td>\n",
              "      <td>Subject</td>\n",
              "      <td>5</td>\n",
              "      <td>3</td>\n",
              "      <td>Universal</td>\n",
              "    </tr>\n",
              "    <tr>\n",
              "      <th>2</th>\n",
              "      <td>90</td>\n",
              "      <td>a man is jumping into an empty pool</td>\n",
              "      <td>every man is jumping into a full pool</td>\n",
              "      <td>every</td>\n",
              "      <td>Hypothesis</td>\n",
              "      <td>Subject</td>\n",
              "      <td>3</td>\n",
              "      <td>3</td>\n",
              "      <td>Universal</td>\n",
              "    </tr>\n",
              "    <tr>\n",
              "      <th>3</th>\n",
              "      <td>90</td>\n",
              "      <td>every man is jumping into an empty pool</td>\n",
              "      <td>every man is jumping into a full pool</td>\n",
              "      <td>every</td>\n",
              "      <td>Both</td>\n",
              "      <td>Subject</td>\n",
              "      <td>3</td>\n",
              "      <td>3</td>\n",
              "      <td>Universal</td>\n",
              "    </tr>\n",
              "    <tr>\n",
              "      <th>4</th>\n",
              "      <td>90</td>\n",
              "      <td>some man is jumping into an empty pool</td>\n",
              "      <td>a man is jumping into a full pool</td>\n",
              "      <td>some</td>\n",
              "      <td>Premise</td>\n",
              "      <td>Subject</td>\n",
              "      <td>5</td>\n",
              "      <td>4</td>\n",
              "      <td>Existential</td>\n",
              "    </tr>\n",
              "    <tr>\n",
              "      <th>...</th>\n",
              "      <td>...</td>\n",
              "      <td>...</td>\n",
              "      <td>...</td>\n",
              "      <td>...</td>\n",
              "      <td>...</td>\n",
              "      <td>...</td>\n",
              "      <td>...</td>\n",
              "      <td>...</td>\n",
              "      <td>...</td>\n",
              "    </tr>\n",
              "    <tr>\n",
              "      <th>88</th>\n",
              "      <td>168</td>\n",
              "      <td>A child is hitting a baseball</td>\n",
              "      <td>A child is missing exactly one baseball</td>\n",
              "      <td>exactly one</td>\n",
              "      <td>Hypothesis</td>\n",
              "      <td>Object</td>\n",
              "      <td>5</td>\n",
              "      <td>4</td>\n",
              "      <td>Existential</td>\n",
              "    </tr>\n",
              "    <tr>\n",
              "      <th>89</th>\n",
              "      <td>168</td>\n",
              "      <td>A child is hitting exactly one baseball</td>\n",
              "      <td>A child is missing exactly one baseball</td>\n",
              "      <td>exactly one</td>\n",
              "      <td>Both</td>\n",
              "      <td>Object</td>\n",
              "      <td>5</td>\n",
              "      <td>4</td>\n",
              "      <td>Existential</td>\n",
              "    </tr>\n",
              "    <tr>\n",
              "      <th>90</th>\n",
              "      <td>168</td>\n",
              "      <td>A child is hitting a an elegant baseball</td>\n",
              "      <td>A child is missing a baseball\\n</td>\n",
              "      <td>an elegant</td>\n",
              "      <td>Premise</td>\n",
              "      <td>Object</td>\n",
              "      <td>5</td>\n",
              "      <td>4</td>\n",
              "      <td>Adjectives/Adverbs</td>\n",
              "    </tr>\n",
              "    <tr>\n",
              "      <th>91</th>\n",
              "      <td>168</td>\n",
              "      <td>A child is hitting a baseball</td>\n",
              "      <td>A child is missing a an elegant baseball</td>\n",
              "      <td>an elegant</td>\n",
              "      <td>Hypothesis</td>\n",
              "      <td>Object</td>\n",
              "      <td>5</td>\n",
              "      <td>4</td>\n",
              "      <td>Adjectives/Adverbs</td>\n",
              "    </tr>\n",
              "    <tr>\n",
              "      <th>92</th>\n",
              "      <td>168</td>\n",
              "      <td>A child is hitting a an elegant baseball</td>\n",
              "      <td>A child is missing a an elegant baseball</td>\n",
              "      <td>an elegant</td>\n",
              "      <td>Both</td>\n",
              "      <td>Object</td>\n",
              "      <td>5</td>\n",
              "      <td>4</td>\n",
              "      <td>Adjectives/Adverbs</td>\n",
              "    </tr>\n",
              "  </tbody>\n",
              "</table>\n",
              "<p>558 rows × 9 columns</p>\n",
              "</div>\n",
              "      <button class=\"colab-df-convert\" onclick=\"convertToInteractive('df-b33316fb-b33e-4cf6-a186-e4ba533d8728')\"\n",
              "              title=\"Convert this dataframe to an interactive table.\"\n",
              "              style=\"display:none;\">\n",
              "        \n",
              "  <svg xmlns=\"http://www.w3.org/2000/svg\" height=\"24px\"viewBox=\"0 0 24 24\"\n",
              "       width=\"24px\">\n",
              "    <path d=\"M0 0h24v24H0V0z\" fill=\"none\"/>\n",
              "    <path d=\"M18.56 5.44l.94 2.06.94-2.06 2.06-.94-2.06-.94-.94-2.06-.94 2.06-2.06.94zm-11 1L8.5 8.5l.94-2.06 2.06-.94-2.06-.94L8.5 2.5l-.94 2.06-2.06.94zm10 10l.94 2.06.94-2.06 2.06-.94-2.06-.94-.94-2.06-.94 2.06-2.06.94z\"/><path d=\"M17.41 7.96l-1.37-1.37c-.4-.4-.92-.59-1.43-.59-.52 0-1.04.2-1.43.59L10.3 9.45l-7.72 7.72c-.78.78-.78 2.05 0 2.83L4 21.41c.39.39.9.59 1.41.59.51 0 1.02-.2 1.41-.59l7.78-7.78 2.81-2.81c.8-.78.8-2.07 0-2.86zM5.41 20L4 18.59l7.72-7.72 1.47 1.35L5.41 20z\"/>\n",
              "  </svg>\n",
              "      </button>\n",
              "      \n",
              "  <style>\n",
              "    .colab-df-container {\n",
              "      display:flex;\n",
              "      flex-wrap:wrap;\n",
              "      gap: 12px;\n",
              "    }\n",
              "\n",
              "    .colab-df-convert {\n",
              "      background-color: #E8F0FE;\n",
              "      border: none;\n",
              "      border-radius: 50%;\n",
              "      cursor: pointer;\n",
              "      display: none;\n",
              "      fill: #1967D2;\n",
              "      height: 32px;\n",
              "      padding: 0 0 0 0;\n",
              "      width: 32px;\n",
              "    }\n",
              "\n",
              "    .colab-df-convert:hover {\n",
              "      background-color: #E2EBFA;\n",
              "      box-shadow: 0px 1px 2px rgba(60, 64, 67, 0.3), 0px 1px 3px 1px rgba(60, 64, 67, 0.15);\n",
              "      fill: #174EA6;\n",
              "    }\n",
              "\n",
              "    [theme=dark] .colab-df-convert {\n",
              "      background-color: #3B4455;\n",
              "      fill: #D2E3FC;\n",
              "    }\n",
              "\n",
              "    [theme=dark] .colab-df-convert:hover {\n",
              "      background-color: #434B5C;\n",
              "      box-shadow: 0px 1px 3px 1px rgba(0, 0, 0, 0.15);\n",
              "      filter: drop-shadow(0px 1px 2px rgba(0, 0, 0, 0.3));\n",
              "      fill: #FFFFFF;\n",
              "    }\n",
              "  </style>\n",
              "\n",
              "      <script>\n",
              "        const buttonEl =\n",
              "          document.querySelector('#df-b33316fb-b33e-4cf6-a186-e4ba533d8728 button.colab-df-convert');\n",
              "        buttonEl.style.display =\n",
              "          google.colab.kernel.accessAllowed ? 'block' : 'none';\n",
              "\n",
              "        async function convertToInteractive(key) {\n",
              "          const element = document.querySelector('#df-b33316fb-b33e-4cf6-a186-e4ba533d8728');\n",
              "          const dataTable =\n",
              "            await google.colab.kernel.invokeFunction('convertToInteractive',\n",
              "                                                     [key], {});\n",
              "          if (!dataTable) return;\n",
              "\n",
              "          const docLinkHtml = 'Like what you see? Visit the ' +\n",
              "            '<a target=\"_blank\" href=https://colab.research.google.com/notebooks/data_table.ipynb>data table notebook</a>'\n",
              "            + ' to learn more about interactive tables.';\n",
              "          element.innerHTML = '';\n",
              "          dataTable['output_type'] = 'display_data';\n",
              "          await google.colab.output.renderOutput(dataTable, element);\n",
              "          const docLink = document.createElement('div');\n",
              "          docLink.innerHTML = docLinkHtml;\n",
              "          element.appendChild(docLink);\n",
              "        }\n",
              "      </script>\n",
              "    </div>\n",
              "  </div>\n",
              "  "
            ],
            "text/plain": [
              "    SICK_id                                   Premise  \\\n",
              "0        90       a man is jumping into an empty pool   \n",
              "1        90   every man is jumping into an empty pool   \n",
              "2        90       a man is jumping into an empty pool   \n",
              "3        90   every man is jumping into an empty pool   \n",
              "4        90    some man is jumping into an empty pool   \n",
              "..      ...                                       ...   \n",
              "88      168             A child is hitting a baseball   \n",
              "89      168   A child is hitting exactly one baseball   \n",
              "90      168  A child is hitting a an elegant baseball   \n",
              "91      168             A child is hitting a baseball   \n",
              "92      168  A child is hitting a an elegant baseball   \n",
              "\n",
              "                                  Hypothesis     Modifier  \\\n",
              "0          a man is jumping into a full pool         NONE   \n",
              "1          a man is jumping into a full pool        every   \n",
              "2      every man is jumping into a full pool        every   \n",
              "3      every man is jumping into a full pool        every   \n",
              "4          a man is jumping into a full pool         some   \n",
              "..                                       ...          ...   \n",
              "88   A child is missing exactly one baseball  exactly one   \n",
              "89   A child is missing exactly one baseball  exactly one   \n",
              "90           A child is missing a baseball\\n   an elegant   \n",
              "91  A child is missing a an elegant baseball   an elegant   \n",
              "92  A child is missing a an elegant baseball   an elegant   \n",
              "\n",
              "   Premise/Hypothesis/Both Part of Premise/Hypothesis Modified  M  E  \\\n",
              "0                     NONE                                NONE  3  3   \n",
              "1                  Premise                             Subject  5  3   \n",
              "2               Hypothesis                             Subject  3  3   \n",
              "3                     Both                             Subject  3  3   \n",
              "4                  Premise                             Subject  5  4   \n",
              "..                     ...                                 ... .. ..   \n",
              "88              Hypothesis                              Object  5  4   \n",
              "89                    Both                              Object  5  4   \n",
              "90                 Premise                              Object  5  4   \n",
              "91              Hypothesis                              Object  5  4   \n",
              "92                    Both                              Object  5  4   \n",
              "\n",
              "       Quantifier Type  \n",
              "0                 NONE  \n",
              "1            Universal  \n",
              "2            Universal  \n",
              "3            Universal  \n",
              "4          Existential  \n",
              "..                 ...  \n",
              "88         Existential  \n",
              "89         Existential  \n",
              "90  Adjectives/Adverbs  \n",
              "91  Adjectives/Adverbs  \n",
              "92  Adjectives/Adverbs  \n",
              "\n",
              "[558 rows x 9 columns]"
            ]
          },
          "execution_count": 51,
          "metadata": {},
          "output_type": "execute_result"
        }
      ],
      "source": [
        "group1['Quantifier Type'] = group1['Modifier'].apply(lambda x: get_quantifier_type(x)  )\n",
        "group1"
      ]
    },
    {
      "cell_type": "code",
      "execution_count": 67,
      "metadata": {
        "colab": {
          "base_uri": "https://localhost:8080/"
        },
        "id": "R280eLRkbjTg",
        "outputId": "4900f871-6356-4ce8-ab33-3a95020e80be"
      },
      "outputs": [
        {
          "name": "stdout",
          "output_type": "stream",
          "text": [
            "Best : M_E\n",
            "\n",
            "Rank  Name   Class-Score       Overall-Score\n",
            "1     M_E    0.50556           0.31389\n",
            "2     E_M    0.50417           0.31389\n",
            "\n"
          ]
        }
      ],
      "source": [
        "cm_one_way = ConfusionMatrix(actual_vector=group1['M'].to_list(), predict_vector=group1['E'].to_list())\n",
        "cm_two_way = ConfusionMatrix(actual_vector=group1['E'].to_list(), predict_vector=group1['M'].to_list())\n",
        "\n",
        "cp = Compare({\"M_E\":cm_one_way,\"E_M\":cm_two_way})\n",
        "print(cp)"
      ]
    },
    {
      "cell_type": "code",
      "execution_count": null,
      "metadata": {
        "id": "ENslvYAjiigv"
      },
      "outputs": [],
      "source": [
        "cm_one_way.relabel(mapping= {k:lmap[k] for k in cm_one_way.classes})\n",
        "cm_two_way.relabel(mapping= {k:lmap[k] for k in cm_two_way.classes})"
      ]
    },
    {
      "cell_type": "code",
      "execution_count": 69,
      "metadata": {
        "colab": {
          "base_uri": "https://localhost:8080/"
        },
        "id": "xdTMLtjAcDPh",
        "outputId": "38b513c1-92e3-4805-e55d-eb5ee5fec122"
      },
      "outputs": [
        {
          "data": {
            "text/plain": [
              "(pycm.ConfusionMatrix(classes: ['Alternation', 'Equivalence', 'FE', 'Negation', 'Neutral', 'RE']),\n",
              " ['M_E', 'E_M'],\n",
              " 'M_E')"
            ]
          },
          "execution_count": 69,
          "metadata": {},
          "output_type": "execute_result"
        }
      ],
      "source": [
        "cp.best, cp.sorted, cp.best_name"
      ]
    },
    {
      "cell_type": "code",
      "execution_count": 70,
      "metadata": {
        "colab": {
          "base_uri": "https://localhost:8080/",
          "height": 1000
        },
        "id": "IVjr4fSDcLqR",
        "outputId": "19fcc0c2-9282-4950-c694-8ed3e4c2de38"
      },
      "outputs": [
        {
          "data": {
            "image/png": "[encoded data removed]",
            "text/plain": [
              "<Figure size 576x576 with 2 Axes>"
            ]
          },
          "metadata": {
            "needs_background": "light"
          },
          "output_type": "display_data"
        },
        {
          "data": {
            "image/png": "[encoded data removed]",
            "text/plain": [
              "<Figure size 576x576 with 2 Axes>"
            ]
          },
          "metadata": {
            "needs_background": "light"
          },
          "output_type": "display_data"
        }
      ],
      "source": [
        "from matplotlib import pyplot as plt\n",
        "plt.rcParams[\"figure.figsize\"] = (8,8)\n",
        "cm_one_way.plot(cmap=plt.cm.Blues,number_label=True,plot_lib=\"seaborn\")\n",
        "plt.title(\"Annotator 1 & 2\")\n",
        "plt.savefig('blocks_ann12.png', dpi=100)\n",
        "cm_two_way.plot(cmap=plt.cm.Blues,number_label=True,plot_lib=\"seaborn\")\n",
        "plt.title(\"Annotator 2 & 1\")\n",
        "plt.savefig('blocks_ann21.png', dpi=100)"
      ]
    },
    {
      "cell_type": "code",
      "execution_count": 80,
      "metadata": {
        "colab": {
          "base_uri": "https://localhost:8080/",
          "height": 1000
        },
        "id": "NNygPEnmcgJQ",
        "outputId": "a1ecd07d-bddc-4375-8df7-fb3bf50b9480"
      },
      "outputs": [
        {
          "name": "stdout",
          "output_type": "stream",
          "text": [
            "****** Counts for Modified SUBJ/VERB/OBJECT and annotators 1 & 2 ******** \n"
          ]
        },
        {
          "data": {
            "text/html": [
              "\n",
              "  <div id=\"df-2fba01c1-4890-4bf8-94ce-074b4d47c917\">\n",
              "    <div class=\"colab-df-container\">\n",
              "      <div>\n",
              "<style scoped>\n",
              "    .dataframe tbody tr th:only-of-type {\n",
              "        vertical-align: middle;\n",
              "    }\n",
              "\n",
              "    .dataframe tbody tr th {\n",
              "        vertical-align: top;\n",
              "    }\n",
              "\n",
              "    .dataframe thead th {\n",
              "        text-align: right;\n",
              "    }\n",
              "</style>\n",
              "<table border=\"1\" class=\"dataframe\">\n",
              "  <thead>\n",
              "    <tr style=\"text-align: right;\">\n",
              "      <th></th>\n",
              "      <th>Modified SUBJ/VERB/OBJECT</th>\n",
              "      <th>M</th>\n",
              "      <th>E</th>\n",
              "      <th>Count</th>\n",
              "    </tr>\n",
              "  </thead>\n",
              "  <tbody>\n",
              "    <tr>\n",
              "      <th>23</th>\n",
              "      <td>Subject</td>\n",
              "      <td>Neutral</td>\n",
              "      <td>Neutral</td>\n",
              "      <td>94</td>\n",
              "    </tr>\n",
              "    <tr>\n",
              "      <th>4</th>\n",
              "      <td>Object</td>\n",
              "      <td>Alternation</td>\n",
              "      <td>Neutral</td>\n",
              "      <td>91</td>\n",
              "    </tr>\n",
              "    <tr>\n",
              "      <th>11</th>\n",
              "      <td>Object</td>\n",
              "      <td>Neutral</td>\n",
              "      <td>Neutral</td>\n",
              "      <td>87</td>\n",
              "    </tr>\n",
              "    <tr>\n",
              "      <th>15</th>\n",
              "      <td>Subject</td>\n",
              "      <td>Alternation</td>\n",
              "      <td>Neutral</td>\n",
              "      <td>73</td>\n",
              "    </tr>\n",
              "    <tr>\n",
              "      <th>36</th>\n",
              "      <td>Verb</td>\n",
              "      <td>Neutral</td>\n",
              "      <td>Neutral</td>\n",
              "      <td>36</td>\n",
              "    </tr>\n",
              "    <tr>\n",
              "      <th>29</th>\n",
              "      <td>Verb</td>\n",
              "      <td>Alternation</td>\n",
              "      <td>Neutral</td>\n",
              "      <td>32</td>\n",
              "    </tr>\n",
              "    <tr>\n",
              "      <th>7</th>\n",
              "      <td>Object</td>\n",
              "      <td>FE</td>\n",
              "      <td>FE</td>\n",
              "      <td>24</td>\n",
              "    </tr>\n",
              "    <tr>\n",
              "      <th>16</th>\n",
              "      <td>Subject</td>\n",
              "      <td>FE</td>\n",
              "      <td>FE</td>\n",
              "      <td>20</td>\n",
              "    </tr>\n",
              "    <tr>\n",
              "      <th>19</th>\n",
              "      <td>Subject</td>\n",
              "      <td>Negation</td>\n",
              "      <td>Negation</td>\n",
              "      <td>16</td>\n",
              "    </tr>\n",
              "    <tr>\n",
              "      <th>32</th>\n",
              "      <td>Verb</td>\n",
              "      <td>FE</td>\n",
              "      <td>FE</td>\n",
              "      <td>8</td>\n",
              "    </tr>\n",
              "    <tr>\n",
              "      <th>22</th>\n",
              "      <td>Subject</td>\n",
              "      <td>Neutral</td>\n",
              "      <td>Negation</td>\n",
              "      <td>8</td>\n",
              "    </tr>\n",
              "    <tr>\n",
              "      <th>2</th>\n",
              "      <td>NONE</td>\n",
              "      <td>Negation</td>\n",
              "      <td>Neutral</td>\n",
              "      <td>8</td>\n",
              "    </tr>\n",
              "    <tr>\n",
              "      <th>20</th>\n",
              "      <td>Subject</td>\n",
              "      <td>Negation</td>\n",
              "      <td>Neutral</td>\n",
              "      <td>6</td>\n",
              "    </tr>\n",
              "    <tr>\n",
              "      <th>3</th>\n",
              "      <td>NONE</td>\n",
              "      <td>Neutral</td>\n",
              "      <td>Neutral</td>\n",
              "      <td>6</td>\n",
              "    </tr>\n",
              "    <tr>\n",
              "      <th>21</th>\n",
              "      <td>Subject</td>\n",
              "      <td>Neutral</td>\n",
              "      <td>FE</td>\n",
              "      <td>4</td>\n",
              "    </tr>\n",
              "    <tr>\n",
              "      <th>26</th>\n",
              "      <td>Subject</td>\n",
              "      <td>RE</td>\n",
              "      <td>RE</td>\n",
              "      <td>3</td>\n",
              "    </tr>\n",
              "    <tr>\n",
              "      <th>24</th>\n",
              "      <td>Subject</td>\n",
              "      <td>Neutral</td>\n",
              "      <td>RE</td>\n",
              "      <td>3</td>\n",
              "    </tr>\n",
              "    <tr>\n",
              "      <th>34</th>\n",
              "      <td>Verb</td>\n",
              "      <td>Neutral</td>\n",
              "      <td>FE</td>\n",
              "      <td>3</td>\n",
              "    </tr>\n",
              "    <tr>\n",
              "      <th>0</th>\n",
              "      <td>NONE</td>\n",
              "      <td>FE</td>\n",
              "      <td>FE</td>\n",
              "      <td>3</td>\n",
              "    </tr>\n",
              "    <tr>\n",
              "      <th>37</th>\n",
              "      <td>Verb</td>\n",
              "      <td>Neutral</td>\n",
              "      <td>RE</td>\n",
              "      <td>3</td>\n",
              "    </tr>\n",
              "    <tr>\n",
              "      <th>12</th>\n",
              "      <td>Object</td>\n",
              "      <td>Neutral</td>\n",
              "      <td>RE</td>\n",
              "      <td>3</td>\n",
              "    </tr>\n",
              "    <tr>\n",
              "      <th>10</th>\n",
              "      <td>Object</td>\n",
              "      <td>Neutral</td>\n",
              "      <td>FE</td>\n",
              "      <td>3</td>\n",
              "    </tr>\n",
              "    <tr>\n",
              "      <th>9</th>\n",
              "      <td>Object</td>\n",
              "      <td>Negation</td>\n",
              "      <td>Neutral</td>\n",
              "      <td>3</td>\n",
              "    </tr>\n",
              "    <tr>\n",
              "      <th>33</th>\n",
              "      <td>Verb</td>\n",
              "      <td>Neutral</td>\n",
              "      <td>Equivalence</td>\n",
              "      <td>2</td>\n",
              "    </tr>\n",
              "    <tr>\n",
              "      <th>17</th>\n",
              "      <td>Subject</td>\n",
              "      <td>FE</td>\n",
              "      <td>Neutral</td>\n",
              "      <td>2</td>\n",
              "    </tr>\n",
              "    <tr>\n",
              "      <th>14</th>\n",
              "      <td>Subject</td>\n",
              "      <td>Alternation</td>\n",
              "      <td>Negation</td>\n",
              "      <td>2</td>\n",
              "    </tr>\n",
              "    <tr>\n",
              "      <th>13</th>\n",
              "      <td>Object</td>\n",
              "      <td>RE</td>\n",
              "      <td>Neutral</td>\n",
              "      <td>2</td>\n",
              "    </tr>\n",
              "    <tr>\n",
              "      <th>25</th>\n",
              "      <td>Subject</td>\n",
              "      <td>RE</td>\n",
              "      <td>Neutral</td>\n",
              "      <td>2</td>\n",
              "    </tr>\n",
              "    <tr>\n",
              "      <th>30</th>\n",
              "      <td>Verb</td>\n",
              "      <td>Equivalence</td>\n",
              "      <td>Equivalence</td>\n",
              "      <td>2</td>\n",
              "    </tr>\n",
              "    <tr>\n",
              "      <th>5</th>\n",
              "      <td>Object</td>\n",
              "      <td>Equivalence</td>\n",
              "      <td>FE</td>\n",
              "      <td>1</td>\n",
              "    </tr>\n",
              "    <tr>\n",
              "      <th>35</th>\n",
              "      <td>Verb</td>\n",
              "      <td>Neutral</td>\n",
              "      <td>Negation</td>\n",
              "      <td>1</td>\n",
              "    </tr>\n",
              "    <tr>\n",
              "      <th>6</th>\n",
              "      <td>Object</td>\n",
              "      <td>Equivalence</td>\n",
              "      <td>Neutral</td>\n",
              "      <td>1</td>\n",
              "    </tr>\n",
              "    <tr>\n",
              "      <th>1</th>\n",
              "      <td>NONE</td>\n",
              "      <td>Negation</td>\n",
              "      <td>Negation</td>\n",
              "      <td>1</td>\n",
              "    </tr>\n",
              "    <tr>\n",
              "      <th>8</th>\n",
              "      <td>Object</td>\n",
              "      <td>FE</td>\n",
              "      <td>Neutral</td>\n",
              "      <td>1</td>\n",
              "    </tr>\n",
              "    <tr>\n",
              "      <th>31</th>\n",
              "      <td>Verb</td>\n",
              "      <td>Equivalence</td>\n",
              "      <td>Neutral</td>\n",
              "      <td>1</td>\n",
              "    </tr>\n",
              "    <tr>\n",
              "      <th>18</th>\n",
              "      <td>Subject</td>\n",
              "      <td>Negation</td>\n",
              "      <td>FE</td>\n",
              "      <td>1</td>\n",
              "    </tr>\n",
              "    <tr>\n",
              "      <th>27</th>\n",
              "      <td>Verb</td>\n",
              "      <td>Alternation</td>\n",
              "      <td>FE</td>\n",
              "      <td>1</td>\n",
              "    </tr>\n",
              "    <tr>\n",
              "      <th>28</th>\n",
              "      <td>Verb</td>\n",
              "      <td>Alternation</td>\n",
              "      <td>Negation</td>\n",
              "      <td>1</td>\n",
              "    </tr>\n",
              "  </tbody>\n",
              "</table>\n",
              "</div>\n",
              "      <button class=\"colab-df-convert\" onclick=\"convertToInteractive('df-2fba01c1-4890-4bf8-94ce-074b4d47c917')\"\n",
              "              title=\"Convert this dataframe to an interactive table.\"\n",
              "              style=\"display:none;\">\n",
              "        \n",
              "  <svg xmlns=\"http://www.w3.org/2000/svg\" height=\"24px\"viewBox=\"0 0 24 24\"\n",
              "       width=\"24px\">\n",
              "    <path d=\"M0 0h24v24H0V0z\" fill=\"none\"/>\n",
              "    <path d=\"M18.56 5.44l.94 2.06.94-2.06 2.06-.94-2.06-.94-.94-2.06-.94 2.06-2.06.94zm-11 1L8.5 8.5l.94-2.06 2.06-.94-2.06-.94L8.5 2.5l-.94 2.06-2.06.94zm10 10l.94 2.06.94-2.06 2.06-.94-2.06-.94-.94-2.06-.94 2.06-2.06.94z\"/><path d=\"M17.41 7.96l-1.37-1.37c-.4-.4-.92-.59-1.43-.59-.52 0-1.04.2-1.43.59L10.3 9.45l-7.72 7.72c-.78.78-.78 2.05 0 2.83L4 21.41c.39.39.9.59 1.41.59.51 0 1.02-.2 1.41-.59l7.78-7.78 2.81-2.81c.8-.78.8-2.07 0-2.86zM5.41 20L4 18.59l7.72-7.72 1.47 1.35L5.41 20z\"/>\n",
              "  </svg>\n",
              "      </button>\n",
              "      \n",
              "  <style>\n",
              "    .colab-df-container {\n",
              "      display:flex;\n",
              "      flex-wrap:wrap;\n",
              "      gap: 12px;\n",
              "    }\n",
              "\n",
              "    .colab-df-convert {\n",
              "      background-color: #E8F0FE;\n",
              "      border: none;\n",
              "      border-radius: 50%;\n",
              "      cursor: pointer;\n",
              "      display: none;\n",
              "      fill: #1967D2;\n",
              "      height: 32px;\n",
              "      padding: 0 0 0 0;\n",
              "      width: 32px;\n",
              "    }\n",
              "\n",
              "    .colab-df-convert:hover {\n",
              "      background-color: #E2EBFA;\n",
              "      box-shadow: 0px 1px 2px rgba(60, 64, 67, 0.3), 0px 1px 3px 1px rgba(60, 64, 67, 0.15);\n",
              "      fill: #174EA6;\n",
              "    }\n",
              "\n",
              "    [theme=dark] .colab-df-convert {\n",
              "      background-color: #3B4455;\n",
              "      fill: #D2E3FC;\n",
              "    }\n",
              "\n",
              "    [theme=dark] .colab-df-convert:hover {\n",
              "      background-color: #434B5C;\n",
              "      box-shadow: 0px 1px 3px 1px rgba(0, 0, 0, 0.15);\n",
              "      filter: drop-shadow(0px 1px 2px rgba(0, 0, 0, 0.3));\n",
              "      fill: #FFFFFF;\n",
              "    }\n",
              "  </style>\n",
              "\n",
              "      <script>\n",
              "        const buttonEl =\n",
              "          document.querySelector('#df-2fba01c1-4890-4bf8-94ce-074b4d47c917 button.colab-df-convert');\n",
              "        buttonEl.style.display =\n",
              "          google.colab.kernel.accessAllowed ? 'block' : 'none';\n",
              "\n",
              "        async function convertToInteractive(key) {\n",
              "          const element = document.querySelector('#df-2fba01c1-4890-4bf8-94ce-074b4d47c917');\n",
              "          const dataTable =\n",
              "            await google.colab.kernel.invokeFunction('convertToInteractive',\n",
              "                                                     [key], {});\n",
              "          if (!dataTable) return;\n",
              "\n",
              "          const docLinkHtml = 'Like what you see? Visit the ' +\n",
              "            '<a target=\"_blank\" href=https://colab.research.google.com/notebooks/data_table.ipynb>data table notebook</a>'\n",
              "            + ' to learn more about interactive tables.';\n",
              "          element.innerHTML = '';\n",
              "          dataTable['output_type'] = 'display_data';\n",
              "          await google.colab.output.renderOutput(dataTable, element);\n",
              "          const docLink = document.createElement('div');\n",
              "          docLink.innerHTML = docLinkHtml;\n",
              "          element.appendChild(docLink);\n",
              "        }\n",
              "      </script>\n",
              "    </div>\n",
              "  </div>\n",
              "  "
            ],
            "text/plain": [
              "   Modified SUBJ/VERB/OBJECT            M            E  Count\n",
              "23                   Subject      Neutral      Neutral     94\n",
              "4                     Object  Alternation      Neutral     91\n",
              "11                    Object      Neutral      Neutral     87\n",
              "15                   Subject  Alternation      Neutral     73\n",
              "36                      Verb      Neutral      Neutral     36\n",
              "29                      Verb  Alternation      Neutral     32\n",
              "7                     Object           FE           FE     24\n",
              "16                   Subject           FE           FE     20\n",
              "19                   Subject     Negation     Negation     16\n",
              "32                      Verb           FE           FE      8\n",
              "22                   Subject      Neutral     Negation      8\n",
              "2                       NONE     Negation      Neutral      8\n",
              "20                   Subject     Negation      Neutral      6\n",
              "3                       NONE      Neutral      Neutral      6\n",
              "21                   Subject      Neutral           FE      4\n",
              "26                   Subject           RE           RE      3\n",
              "24                   Subject      Neutral           RE      3\n",
              "34                      Verb      Neutral           FE      3\n",
              "0                       NONE           FE           FE      3\n",
              "37                      Verb      Neutral           RE      3\n",
              "12                    Object      Neutral           RE      3\n",
              "10                    Object      Neutral           FE      3\n",
              "9                     Object     Negation      Neutral      3\n",
              "33                      Verb      Neutral  Equivalence      2\n",
              "17                   Subject           FE      Neutral      2\n",
              "14                   Subject  Alternation     Negation      2\n",
              "13                    Object           RE      Neutral      2\n",
              "25                   Subject           RE      Neutral      2\n",
              "30                      Verb  Equivalence  Equivalence      2\n",
              "5                     Object  Equivalence           FE      1\n",
              "35                      Verb      Neutral     Negation      1\n",
              "6                     Object  Equivalence      Neutral      1\n",
              "1                       NONE     Negation     Negation      1\n",
              "8                     Object           FE      Neutral      1\n",
              "31                      Verb  Equivalence      Neutral      1\n",
              "18                   Subject     Negation           FE      1\n",
              "27                      Verb  Alternation           FE      1\n",
              "28                      Verb  Alternation     Negation      1"
            ]
          },
          "execution_count": 80,
          "metadata": {},
          "output_type": "execute_result"
        }
      ],
      "source": [
        "group1 = group1.rename(columns={'Part of Premise/Hypothesis Modified':'Modified SUBJ/VERB/OBJECT'})\n",
        "res = group1.groupby(['Modified SUBJ/VERB/OBJECT', 'M', 'E']).count().reset_index()[[ 'Quantifier Type', 'Modified SUBJ/VERB/OBJECT', 'M', 'E','Premise/Hypothesis/Both']]\n",
        "r = res.sort_values(by='Premise/Hypothesis/Both',ascending=False)[['Modified SUBJ/VERB/OBJECT','M', 'E','Quantifier Type']]\n",
        "r= r.rename(columns={ 'Quantifier Type':'Count'})\n",
        "print(\"****** Counts for Modified SUBJ/VERB/OBJECT and annotators 1 & 2 ******** \")\n",
        "r"
      ]
    },
    {
      "cell_type": "code",
      "execution_count": 81,
      "metadata": {
        "id": "FpumQxwfi_kZ"
      },
      "outputs": [],
      "source": [
        "r.to_excel(\"blocks_ann_12_modifier.xlsx\")"
      ]
    },
    {
      "cell_type": "code",
      "execution_count": 73,
      "metadata": {
        "colab": {
          "base_uri": "https://localhost:8080/"
        },
        "id": "azsLs7DsdRTB",
        "outputId": "361d405c-d406-464c-8dd4-e3032adcedc4"
      },
      "outputs": [
        {
          "data": {
            "text/plain": [
              "Adjectives/Adverbs    252\n",
              "Existential           126\n",
              "Universal              90\n",
              "Negation               72\n",
              "NONE                   18\n",
              "Name: Quantifier Type, dtype: int64"
            ]
          },
          "execution_count": 73,
          "metadata": {},
          "output_type": "execute_result"
        }
      ],
      "source": [
        "group1['Quantifier Type'].value_counts()"
      ]
    },
    {
      "cell_type": "code",
      "execution_count": 74,
      "metadata": {
        "colab": {
          "base_uri": "https://localhost:8080/"
        },
        "id": "4FrPif3SdTdI",
        "outputId": "4e3df643-83ee-4299-c892-c5d452505570"
      },
      "outputs": [
        {
          "data": {
            "text/plain": [
              "Subject    234\n",
              "Object     216\n",
              "Verb        90\n",
              "NONE        18\n",
              "Name: Modified SUBJ/VERB/OBJECT, dtype: int64"
            ]
          },
          "execution_count": 74,
          "metadata": {},
          "output_type": "execute_result"
        }
      ],
      "source": [
        "group1['Modified SUBJ/VERB/OBJECT'].value_counts()"
      ]
    },
    {
      "cell_type": "code",
      "execution_count": 75,
      "metadata": {
        "colab": {
          "base_uri": "https://localhost:8080/",
          "height": 614
        },
        "id": "pH_yvmDJdZ17",
        "outputId": "e5e0fb1d-9cef-4f01-825a-c1cd328bbb4d"
      },
      "outputs": [
        {
          "data": {
            "text/html": [
              "\n",
              "  <div id=\"df-e5060da5-a0db-40d8-84f9-a11c8b7c78e8\">\n",
              "    <div class=\"colab-df-container\">\n",
              "      <div>\n",
              "<style scoped>\n",
              "    .dataframe tbody tr th:only-of-type {\n",
              "        vertical-align: middle;\n",
              "    }\n",
              "\n",
              "    .dataframe tbody tr th {\n",
              "        vertical-align: top;\n",
              "    }\n",
              "\n",
              "    .dataframe thead th {\n",
              "        text-align: right;\n",
              "    }\n",
              "</style>\n",
              "<table border=\"1\" class=\"dataframe\">\n",
              "  <thead>\n",
              "    <tr style=\"text-align: right;\">\n",
              "      <th></th>\n",
              "      <th>M</th>\n",
              "      <th>E</th>\n",
              "      <th>Count</th>\n",
              "    </tr>\n",
              "  </thead>\n",
              "  <tbody>\n",
              "    <tr>\n",
              "      <th>14</th>\n",
              "      <td>Neutral</td>\n",
              "      <td>Neutral</td>\n",
              "      <td>223</td>\n",
              "    </tr>\n",
              "    <tr>\n",
              "      <th>2</th>\n",
              "      <td>Alternation</td>\n",
              "      <td>Neutral</td>\n",
              "      <td>196</td>\n",
              "    </tr>\n",
              "    <tr>\n",
              "      <th>6</th>\n",
              "      <td>FE</td>\n",
              "      <td>FE</td>\n",
              "      <td>55</td>\n",
              "    </tr>\n",
              "    <tr>\n",
              "      <th>9</th>\n",
              "      <td>Negation</td>\n",
              "      <td>Negation</td>\n",
              "      <td>17</td>\n",
              "    </tr>\n",
              "    <tr>\n",
              "      <th>10</th>\n",
              "      <td>Negation</td>\n",
              "      <td>Neutral</td>\n",
              "      <td>17</td>\n",
              "    </tr>\n",
              "    <tr>\n",
              "      <th>12</th>\n",
              "      <td>Neutral</td>\n",
              "      <td>FE</td>\n",
              "      <td>10</td>\n",
              "    </tr>\n",
              "    <tr>\n",
              "      <th>15</th>\n",
              "      <td>Neutral</td>\n",
              "      <td>RE</td>\n",
              "      <td>9</td>\n",
              "    </tr>\n",
              "    <tr>\n",
              "      <th>13</th>\n",
              "      <td>Neutral</td>\n",
              "      <td>Negation</td>\n",
              "      <td>9</td>\n",
              "    </tr>\n",
              "    <tr>\n",
              "      <th>16</th>\n",
              "      <td>RE</td>\n",
              "      <td>Neutral</td>\n",
              "      <td>4</td>\n",
              "    </tr>\n",
              "    <tr>\n",
              "      <th>17</th>\n",
              "      <td>RE</td>\n",
              "      <td>RE</td>\n",
              "      <td>3</td>\n",
              "    </tr>\n",
              "    <tr>\n",
              "      <th>1</th>\n",
              "      <td>Alternation</td>\n",
              "      <td>Negation</td>\n",
              "      <td>3</td>\n",
              "    </tr>\n",
              "    <tr>\n",
              "      <th>7</th>\n",
              "      <td>FE</td>\n",
              "      <td>Neutral</td>\n",
              "      <td>3</td>\n",
              "    </tr>\n",
              "    <tr>\n",
              "      <th>11</th>\n",
              "      <td>Neutral</td>\n",
              "      <td>Equivalence</td>\n",
              "      <td>2</td>\n",
              "    </tr>\n",
              "    <tr>\n",
              "      <th>5</th>\n",
              "      <td>Equivalence</td>\n",
              "      <td>Neutral</td>\n",
              "      <td>2</td>\n",
              "    </tr>\n",
              "    <tr>\n",
              "      <th>3</th>\n",
              "      <td>Equivalence</td>\n",
              "      <td>Equivalence</td>\n",
              "      <td>2</td>\n",
              "    </tr>\n",
              "    <tr>\n",
              "      <th>8</th>\n",
              "      <td>Negation</td>\n",
              "      <td>FE</td>\n",
              "      <td>1</td>\n",
              "    </tr>\n",
              "    <tr>\n",
              "      <th>4</th>\n",
              "      <td>Equivalence</td>\n",
              "      <td>FE</td>\n",
              "      <td>1</td>\n",
              "    </tr>\n",
              "    <tr>\n",
              "      <th>0</th>\n",
              "      <td>Alternation</td>\n",
              "      <td>FE</td>\n",
              "      <td>1</td>\n",
              "    </tr>\n",
              "  </tbody>\n",
              "</table>\n",
              "</div>\n",
              "      <button class=\"colab-df-convert\" onclick=\"convertToInteractive('df-e5060da5-a0db-40d8-84f9-a11c8b7c78e8')\"\n",
              "              title=\"Convert this dataframe to an interactive table.\"\n",
              "              style=\"display:none;\">\n",
              "        \n",
              "  <svg xmlns=\"http://www.w3.org/2000/svg\" height=\"24px\"viewBox=\"0 0 24 24\"\n",
              "       width=\"24px\">\n",
              "    <path d=\"M0 0h24v24H0V0z\" fill=\"none\"/>\n",
              "    <path d=\"M18.56 5.44l.94 2.06.94-2.06 2.06-.94-2.06-.94-.94-2.06-.94 2.06-2.06.94zm-11 1L8.5 8.5l.94-2.06 2.06-.94-2.06-.94L8.5 2.5l-.94 2.06-2.06.94zm10 10l.94 2.06.94-2.06 2.06-.94-2.06-.94-.94-2.06-.94 2.06-2.06.94z\"/><path d=\"M17.41 7.96l-1.37-1.37c-.4-.4-.92-.59-1.43-.59-.52 0-1.04.2-1.43.59L10.3 9.45l-7.72 7.72c-.78.78-.78 2.05 0 2.83L4 21.41c.39.39.9.59 1.41.59.51 0 1.02-.2 1.41-.59l7.78-7.78 2.81-2.81c.8-.78.8-2.07 0-2.86zM5.41 20L4 18.59l7.72-7.72 1.47 1.35L5.41 20z\"/>\n",
              "  </svg>\n",
              "      </button>\n",
              "      \n",
              "  <style>\n",
              "    .colab-df-container {\n",
              "      display:flex;\n",
              "      flex-wrap:wrap;\n",
              "      gap: 12px;\n",
              "    }\n",
              "\n",
              "    .colab-df-convert {\n",
              "      background-color: #E8F0FE;\n",
              "      border: none;\n",
              "      border-radius: 50%;\n",
              "      cursor: pointer;\n",
              "      display: none;\n",
              "      fill: #1967D2;\n",
              "      height: 32px;\n",
              "      padding: 0 0 0 0;\n",
              "      width: 32px;\n",
              "    }\n",
              "\n",
              "    .colab-df-convert:hover {\n",
              "      background-color: #E2EBFA;\n",
              "      box-shadow: 0px 1px 2px rgba(60, 64, 67, 0.3), 0px 1px 3px 1px rgba(60, 64, 67, 0.15);\n",
              "      fill: #174EA6;\n",
              "    }\n",
              "\n",
              "    [theme=dark] .colab-df-convert {\n",
              "      background-color: #3B4455;\n",
              "      fill: #D2E3FC;\n",
              "    }\n",
              "\n",
              "    [theme=dark] .colab-df-convert:hover {\n",
              "      background-color: #434B5C;\n",
              "      box-shadow: 0px 1px 3px 1px rgba(0, 0, 0, 0.15);\n",
              "      filter: drop-shadow(0px 1px 2px rgba(0, 0, 0, 0.3));\n",
              "      fill: #FFFFFF;\n",
              "    }\n",
              "  </style>\n",
              "\n",
              "      <script>\n",
              "        const buttonEl =\n",
              "          document.querySelector('#df-e5060da5-a0db-40d8-84f9-a11c8b7c78e8 button.colab-df-convert');\n",
              "        buttonEl.style.display =\n",
              "          google.colab.kernel.accessAllowed ? 'block' : 'none';\n",
              "\n",
              "        async function convertToInteractive(key) {\n",
              "          const element = document.querySelector('#df-e5060da5-a0db-40d8-84f9-a11c8b7c78e8');\n",
              "          const dataTable =\n",
              "            await google.colab.kernel.invokeFunction('convertToInteractive',\n",
              "                                                     [key], {});\n",
              "          if (!dataTable) return;\n",
              "\n",
              "          const docLinkHtml = 'Like what you see? Visit the ' +\n",
              "            '<a target=\"_blank\" href=https://colab.research.google.com/notebooks/data_table.ipynb>data table notebook</a>'\n",
              "            + ' to learn more about interactive tables.';\n",
              "          element.innerHTML = '';\n",
              "          dataTable['output_type'] = 'display_data';\n",
              "          await google.colab.output.renderOutput(dataTable, element);\n",
              "          const docLink = document.createElement('div');\n",
              "          docLink.innerHTML = docLinkHtml;\n",
              "          element.appendChild(docLink);\n",
              "        }\n",
              "      </script>\n",
              "    </div>\n",
              "  </div>\n",
              "  "
            ],
            "text/plain": [
              "              M            E  Count\n",
              "14      Neutral      Neutral    223\n",
              "2   Alternation      Neutral    196\n",
              "6            FE           FE     55\n",
              "9      Negation     Negation     17\n",
              "10     Negation      Neutral     17\n",
              "12      Neutral           FE     10\n",
              "15      Neutral           RE      9\n",
              "13      Neutral     Negation      9\n",
              "16           RE      Neutral      4\n",
              "17           RE           RE      3\n",
              "1   Alternation     Negation      3\n",
              "7            FE      Neutral      3\n",
              "11      Neutral  Equivalence      2\n",
              "5   Equivalence      Neutral      2\n",
              "3   Equivalence  Equivalence      2\n",
              "8      Negation           FE      1\n",
              "4   Equivalence           FE      1\n",
              "0   Alternation           FE      1"
            ]
          },
          "execution_count": 75,
          "metadata": {},
          "output_type": "execute_result"
        }
      ],
      "source": [
        "r = group1.groupby(['M', 'E',]).count().reset_index()[['M', 'E',\t'Premise']]\n",
        "r.rename(columns={'Premise':\"Count\"}).sort_values(by='Count', ascending=False)"
      ]
    },
    {
      "cell_type": "code",
      "execution_count": 76,
      "metadata": {
        "id": "bRyQw7MmjVNn"
      },
      "outputs": [],
      "source": [
        "r.rename(columns={'Premise':\"Count\"}).sort_values(by='Count', ascending=False).to_excel(\"disagreement_labels_ann_12.xlsx\")"
      ]
    },
    {
      "cell_type": "code",
      "execution_count": 64,
      "metadata": {
        "id": "cnFH5y9Ve7vA"
      },
      "outputs": [],
      "source": [
        "rev_label_map = {v:k for k,v in label_map.items()}\n",
        "for i in ['M', 'E']:\n",
        "  group1[i] = group1[i].map(rev_label_map)"
      ]
    },
    {
      "cell_type": "code",
      "execution_count": 77,
      "metadata": {
        "colab": {
          "base_uri": "https://localhost:8080/",
          "height": 945
        },
        "id": "6d3ucIPSdvRA",
        "outputId": "332b1137-ba93-414c-f527-e186634796eb"
      },
      "outputs": [
        {
          "name": "stdout",
          "output_type": "stream",
          "text": [
            "****** The confused predictions for each modifier for two annotators are: ******\n"
          ]
        },
        {
          "data": {
            "text/html": [
              "\n",
              "  <div id=\"df-fa6a31a2-786a-44b1-b55a-0820a94d55c0\">\n",
              "    <div class=\"colab-df-container\">\n",
              "      <div>\n",
              "<style scoped>\n",
              "    .dataframe tbody tr th:only-of-type {\n",
              "        vertical-align: middle;\n",
              "    }\n",
              "\n",
              "    .dataframe tbody tr th {\n",
              "        vertical-align: top;\n",
              "    }\n",
              "\n",
              "    .dataframe thead th {\n",
              "        text-align: right;\n",
              "    }\n",
              "</style>\n",
              "<table border=\"1\" class=\"dataframe\">\n",
              "  <thead>\n",
              "    <tr style=\"text-align: right;\">\n",
              "      <th></th>\n",
              "      <th>Quantifier Type</th>\n",
              "      <th>M</th>\n",
              "      <th>E</th>\n",
              "      <th>Counts</th>\n",
              "    </tr>\n",
              "  </thead>\n",
              "  <tbody>\n",
              "    <tr>\n",
              "      <th>0</th>\n",
              "      <td>Adjectives/Adverbs</td>\n",
              "      <td>Alternation</td>\n",
              "      <td>Neutral</td>\n",
              "      <td>126</td>\n",
              "    </tr>\n",
              "    <tr>\n",
              "      <th>3</th>\n",
              "      <td>Existential</td>\n",
              "      <td>Alternation</td>\n",
              "      <td>Neutral</td>\n",
              "      <td>48</td>\n",
              "    </tr>\n",
              "    <tr>\n",
              "      <th>33</th>\n",
              "      <td>Universal</td>\n",
              "      <td>Alternation</td>\n",
              "      <td>Neutral</td>\n",
              "      <td>16</td>\n",
              "    </tr>\n",
              "    <tr>\n",
              "      <th>14</th>\n",
              "      <td>NONE</td>\n",
              "      <td>Negation</td>\n",
              "      <td>Neutral</td>\n",
              "      <td>8</td>\n",
              "    </tr>\n",
              "    <tr>\n",
              "      <th>39</th>\n",
              "      <td>Universal</td>\n",
              "      <td>Neutral</td>\n",
              "      <td>Negation</td>\n",
              "      <td>7</td>\n",
              "    </tr>\n",
              "    <tr>\n",
              "      <th>17</th>\n",
              "      <td>Negation</td>\n",
              "      <td>Alternation</td>\n",
              "      <td>Neutral</td>\n",
              "      <td>6</td>\n",
              "    </tr>\n",
              "    <tr>\n",
              "      <th>29</th>\n",
              "      <td>Negation</td>\n",
              "      <td>Neutral</td>\n",
              "      <td>RE</td>\n",
              "      <td>5</td>\n",
              "    </tr>\n",
              "    <tr>\n",
              "      <th>6</th>\n",
              "      <td>Existential</td>\n",
              "      <td>Negation</td>\n",
              "      <td>Neutral</td>\n",
              "      <td>5</td>\n",
              "    </tr>\n",
              "    <tr>\n",
              "      <th>26</th>\n",
              "      <td>Negation</td>\n",
              "      <td>Neutral</td>\n",
              "      <td>FE</td>\n",
              "      <td>5</td>\n",
              "    </tr>\n",
              "    <tr>\n",
              "      <th>37</th>\n",
              "      <td>Universal</td>\n",
              "      <td>Negation</td>\n",
              "      <td>Neutral</td>\n",
              "      <td>3</td>\n",
              "    </tr>\n",
              "    <tr>\n",
              "      <th>41</th>\n",
              "      <td>Universal</td>\n",
              "      <td>Neutral</td>\n",
              "      <td>RE</td>\n",
              "      <td>3</td>\n",
              "    </tr>\n",
              "    <tr>\n",
              "      <th>7</th>\n",
              "      <td>Existential</td>\n",
              "      <td>Neutral</td>\n",
              "      <td>FE</td>\n",
              "      <td>3</td>\n",
              "    </tr>\n",
              "    <tr>\n",
              "      <th>20</th>\n",
              "      <td>Negation</td>\n",
              "      <td>Equivalence</td>\n",
              "      <td>Neutral</td>\n",
              "      <td>2</td>\n",
              "    </tr>\n",
              "    <tr>\n",
              "      <th>38</th>\n",
              "      <td>Universal</td>\n",
              "      <td>Neutral</td>\n",
              "      <td>FE</td>\n",
              "      <td>2</td>\n",
              "    </tr>\n",
              "    <tr>\n",
              "      <th>32</th>\n",
              "      <td>Universal</td>\n",
              "      <td>Alternation</td>\n",
              "      <td>Negation</td>\n",
              "      <td>2</td>\n",
              "    </tr>\n",
              "    <tr>\n",
              "      <th>25</th>\n",
              "      <td>Negation</td>\n",
              "      <td>Neutral</td>\n",
              "      <td>Equivalence</td>\n",
              "      <td>2</td>\n",
              "    </tr>\n",
              "    <tr>\n",
              "      <th>27</th>\n",
              "      <td>Negation</td>\n",
              "      <td>Neutral</td>\n",
              "      <td>Negation</td>\n",
              "      <td>2</td>\n",
              "    </tr>\n",
              "    <tr>\n",
              "      <th>5</th>\n",
              "      <td>Existential</td>\n",
              "      <td>FE</td>\n",
              "      <td>Neutral</td>\n",
              "      <td>2</td>\n",
              "    </tr>\n",
              "    <tr>\n",
              "      <th>30</th>\n",
              "      <td>Negation</td>\n",
              "      <td>RE</td>\n",
              "      <td>Neutral</td>\n",
              "      <td>2</td>\n",
              "    </tr>\n",
              "    <tr>\n",
              "      <th>31</th>\n",
              "      <td>Universal</td>\n",
              "      <td>Alternation</td>\n",
              "      <td>FE</td>\n",
              "      <td>1</td>\n",
              "    </tr>\n",
              "    <tr>\n",
              "      <th>24</th>\n",
              "      <td>Negation</td>\n",
              "      <td>Negation</td>\n",
              "      <td>Neutral</td>\n",
              "      <td>1</td>\n",
              "    </tr>\n",
              "    <tr>\n",
              "      <th>23</th>\n",
              "      <td>Negation</td>\n",
              "      <td>Negation</td>\n",
              "      <td>FE</td>\n",
              "      <td>1</td>\n",
              "    </tr>\n",
              "    <tr>\n",
              "      <th>22</th>\n",
              "      <td>Negation</td>\n",
              "      <td>FE</td>\n",
              "      <td>Neutral</td>\n",
              "      <td>1</td>\n",
              "    </tr>\n",
              "    <tr>\n",
              "      <th>19</th>\n",
              "      <td>Negation</td>\n",
              "      <td>Equivalence</td>\n",
              "      <td>FE</td>\n",
              "      <td>1</td>\n",
              "    </tr>\n",
              "    <tr>\n",
              "      <th>16</th>\n",
              "      <td>Negation</td>\n",
              "      <td>Alternation</td>\n",
              "      <td>Negation</td>\n",
              "      <td>1</td>\n",
              "    </tr>\n",
              "    <tr>\n",
              "      <th>10</th>\n",
              "      <td>Existential</td>\n",
              "      <td>RE</td>\n",
              "      <td>Neutral</td>\n",
              "      <td>1</td>\n",
              "    </tr>\n",
              "    <tr>\n",
              "      <th>9</th>\n",
              "      <td>Existential</td>\n",
              "      <td>Neutral</td>\n",
              "      <td>RE</td>\n",
              "      <td>1</td>\n",
              "    </tr>\n",
              "    <tr>\n",
              "      <th>42</th>\n",
              "      <td>Universal</td>\n",
              "      <td>RE</td>\n",
              "      <td>Neutral</td>\n",
              "      <td>1</td>\n",
              "    </tr>\n",
              "  </tbody>\n",
              "</table>\n",
              "</div>\n",
              "      <button class=\"colab-df-convert\" onclick=\"convertToInteractive('df-fa6a31a2-786a-44b1-b55a-0820a94d55c0')\"\n",
              "              title=\"Convert this dataframe to an interactive table.\"\n",
              "              style=\"display:none;\">\n",
              "        \n",
              "  <svg xmlns=\"http://www.w3.org/2000/svg\" height=\"24px\"viewBox=\"0 0 24 24\"\n",
              "       width=\"24px\">\n",
              "    <path d=\"M0 0h24v24H0V0z\" fill=\"none\"/>\n",
              "    <path d=\"M18.56 5.44l.94 2.06.94-2.06 2.06-.94-2.06-.94-.94-2.06-.94 2.06-2.06.94zm-11 1L8.5 8.5l.94-2.06 2.06-.94-2.06-.94L8.5 2.5l-.94 2.06-2.06.94zm10 10l.94 2.06.94-2.06 2.06-.94-2.06-.94-.94-2.06-.94 2.06-2.06.94z\"/><path d=\"M17.41 7.96l-1.37-1.37c-.4-.4-.92-.59-1.43-.59-.52 0-1.04.2-1.43.59L10.3 9.45l-7.72 7.72c-.78.78-.78 2.05 0 2.83L4 21.41c.39.39.9.59 1.41.59.51 0 1.02-.2 1.41-.59l7.78-7.78 2.81-2.81c.8-.78.8-2.07 0-2.86zM5.41 20L4 18.59l7.72-7.72 1.47 1.35L5.41 20z\"/>\n",
              "  </svg>\n",
              "      </button>\n",
              "      \n",
              "  <style>\n",
              "    .colab-df-container {\n",
              "      display:flex;\n",
              "      flex-wrap:wrap;\n",
              "      gap: 12px;\n",
              "    }\n",
              "\n",
              "    .colab-df-convert {\n",
              "      background-color: #E8F0FE;\n",
              "      border: none;\n",
              "      border-radius: 50%;\n",
              "      cursor: pointer;\n",
              "      display: none;\n",
              "      fill: #1967D2;\n",
              "      height: 32px;\n",
              "      padding: 0 0 0 0;\n",
              "      width: 32px;\n",
              "    }\n",
              "\n",
              "    .colab-df-convert:hover {\n",
              "      background-color: #E2EBFA;\n",
              "      box-shadow: 0px 1px 2px rgba(60, 64, 67, 0.3), 0px 1px 3px 1px rgba(60, 64, 67, 0.15);\n",
              "      fill: #174EA6;\n",
              "    }\n",
              "\n",
              "    [theme=dark] .colab-df-convert {\n",
              "      background-color: #3B4455;\n",
              "      fill: #D2E3FC;\n",
              "    }\n",
              "\n",
              "    [theme=dark] .colab-df-convert:hover {\n",
              "      background-color: #434B5C;\n",
              "      box-shadow: 0px 1px 3px 1px rgba(0, 0, 0, 0.15);\n",
              "      filter: drop-shadow(0px 1px 2px rgba(0, 0, 0, 0.3));\n",
              "      fill: #FFFFFF;\n",
              "    }\n",
              "  </style>\n",
              "\n",
              "      <script>\n",
              "        const buttonEl =\n",
              "          document.querySelector('#df-fa6a31a2-786a-44b1-b55a-0820a94d55c0 button.colab-df-convert');\n",
              "        buttonEl.style.display =\n",
              "          google.colab.kernel.accessAllowed ? 'block' : 'none';\n",
              "\n",
              "        async function convertToInteractive(key) {\n",
              "          const element = document.querySelector('#df-fa6a31a2-786a-44b1-b55a-0820a94d55c0');\n",
              "          const dataTable =\n",
              "            await google.colab.kernel.invokeFunction('convertToInteractive',\n",
              "                                                     [key], {});\n",
              "          if (!dataTable) return;\n",
              "\n",
              "          const docLinkHtml = 'Like what you see? Visit the ' +\n",
              "            '<a target=\"_blank\" href=https://colab.research.google.com/notebooks/data_table.ipynb>data table notebook</a>'\n",
              "            + ' to learn more about interactive tables.';\n",
              "          element.innerHTML = '';\n",
              "          dataTable['output_type'] = 'display_data';\n",
              "          await google.colab.output.renderOutput(dataTable, element);\n",
              "          const docLink = document.createElement('div');\n",
              "          docLink.innerHTML = docLinkHtml;\n",
              "          element.appendChild(docLink);\n",
              "        }\n",
              "      </script>\n",
              "    </div>\n",
              "  </div>\n",
              "  "
            ],
            "text/plain": [
              "       Quantifier Type            M            E  Counts\n",
              "0   Adjectives/Adverbs  Alternation      Neutral     126\n",
              "3          Existential  Alternation      Neutral      48\n",
              "33           Universal  Alternation      Neutral      16\n",
              "14                NONE     Negation      Neutral       8\n",
              "39           Universal      Neutral     Negation       7\n",
              "17            Negation  Alternation      Neutral       6\n",
              "29            Negation      Neutral           RE       5\n",
              "6          Existential     Negation      Neutral       5\n",
              "26            Negation      Neutral           FE       5\n",
              "37           Universal     Negation      Neutral       3\n",
              "41           Universal      Neutral           RE       3\n",
              "7          Existential      Neutral           FE       3\n",
              "20            Negation  Equivalence      Neutral       2\n",
              "38           Universal      Neutral           FE       2\n",
              "32           Universal  Alternation     Negation       2\n",
              "25            Negation      Neutral  Equivalence       2\n",
              "27            Negation      Neutral     Negation       2\n",
              "5          Existential           FE      Neutral       2\n",
              "30            Negation           RE      Neutral       2\n",
              "31           Universal  Alternation           FE       1\n",
              "24            Negation     Negation      Neutral       1\n",
              "23            Negation     Negation           FE       1\n",
              "22            Negation           FE      Neutral       1\n",
              "19            Negation  Equivalence           FE       1\n",
              "16            Negation  Alternation     Negation       1\n",
              "10         Existential           RE      Neutral       1\n",
              "9          Existential      Neutral           RE       1\n",
              "42           Universal           RE      Neutral       1"
            ]
          },
          "execution_count": 77,
          "metadata": {},
          "output_type": "execute_result"
        }
      ],
      "source": [
        "res3 = group1.groupby(['Quantifier Type','M','E']).count().reset_index()\n",
        "result = res3[['Quantifier Type','M','E', 'Premise/Hypothesis/Both']]\n",
        "print(\"****** The confused predictions for each modifier for two annotators are: ******\")\n",
        "result = result.rename(columns={\"Premise/Hypothesis/Both\":\"Counts\"})\n",
        "result[result['M'] != result['E']].sort_values(by=\"Counts\", ascending =False)"
      ]
    },
    {
      "cell_type": "code",
      "execution_count": 79,
      "metadata": {
        "id": "qkFHmt43jKM4"
      },
      "outputs": [],
      "source": [
        "result[result['M'] != result['E']].sort_values(by=\"Counts\", ascending =False).to_excel(\"blocks_ann_12_quantifier.xlsx\")"
      ]
    }
  ],
  "metadata": {
    "colab": {
      "provenance": []
    },
    "kernelspec": {
      "display_name": "Python 3",
      "name": "python3"
    },
    "language_info": {
      "name": "python"
    }
  },
  "nbformat": 4,
  "nbformat_minor": 0
}
