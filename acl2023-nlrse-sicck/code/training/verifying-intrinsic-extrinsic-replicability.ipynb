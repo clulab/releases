{
  "cells": [
    {
      "attachments": {},
      "cell_type": "markdown",
      "metadata": {
        "id": "yTC-h3lPkei0"
      },
      "source": [
        "## Examining indentical values between different seeds and non-indentical values over reruns for same script run at different time intervals\n",
        "- Author: Sushma Anand Akoju, Email: sushmaakoju@arizona.edu"
      ]
    },
    {
      "cell_type": "code",
      "execution_count": 1,
      "metadata": {
        "id": "FpEsbX7Lsyzy"
      },
      "outputs": [],
      "source": [
        "import pandas as pd\n",
        "# import pycm\n",
        "import matplotlib.pyplot as plt\n",
        "import os\n",
        "import numpy as np\n",
        "from sklearn.metrics import precision_score, recall_score, f1_score, accuracy_score, confusion_matrix, classification_report"
      ]
    },
    {
      "cell_type": "code",
      "execution_count": 9,
      "metadata": {
        "colab": {
          "base_uri": "https://localhost:8080/"
        },
        "id": "lLIm3W_nk_Cs",
        "outputId": "a1d35e7f-06a5-43ca-8715-d4aace8c3414"
      },
      "outputs": [
        {
          "name": "stdout",
          "output_type": "stream",
          "text": [
            "Mounted at /content/drive/\n"
          ]
        }
      ],
      "source": [
        "from google.colab import drive\n",
        "drive.mount('/content/drive/', force_remount=True)"
      ]
    },
    {
      "cell_type": "code",
      "execution_count": 3,
      "metadata": {
        "id": "g10yrX5gs4l0"
      },
      "outputs": [],
      "source": [
        "def get_classification_report(ytrue, ypred, model_name, mtype=\"\", svo=\"\"):\n",
        "  res = classification_report(ytrue, ypred, output_dict=True)\n",
        "  print(classification_report(ytrue, ypred))\n",
        "  precision_m = res['macro avg']['precision']\n",
        "  recall_m = res['macro avg']['recall']\n",
        "  f1_macro = res['macro avg']['f1-score']\n",
        "  acc = res['accuracy']\n",
        "  return {\"model_name\":model_name, \"modifier_type\":mtype,\"svo\": svo,\n",
        "          \"f1_macro\":f1_macro, \"precision_m\":precision_m, \"recall_m\":recall_m, \"acc\":acc}"
      ]
    },
    {
      "cell_type": "code",
      "execution_count": 4,
      "metadata": {
        "id": "ypT28N4FtBoj"
      },
      "outputs": [],
      "source": [
        "gt = 'CompressedGT'\n",
        "pred = 'pred_labels'\n",
        "svo = \"Part of Premise/Hypothesis Modified\"\n",
        "mod_type_col = 'Modifier Type'"
      ]
    },
    {
      "attachments": {},
      "cell_type": "markdown",
      "metadata": {
        "id": "tRooZ6BMKVQQ"
      },
      "source": [
        "### June 13th and June 14th data folder paths\n",
        "- Update your respective june13th and june 14th paths"
      ]
    },
    {
      "cell_type": "code",
      "execution_count": 19,
      "metadata": {
        "id": "Btx-ZZPfmIsD"
      },
      "outputs": [],
      "source": [
        "path_18 = \"/content/drive/MyDrive/Colab Notebooks/natural-logic/june12/randomseed/june18th\"\n",
        "path_17 = \"/content/drive/MyDrive/Colab Notebooks/natural-logic/june12/randomseed/june17th\"\n",
        "model_folders_18 = [\"nli-deberta-v3-base-june18th\", \"roberta-large-snli_mnli_fever_anli_R1_R2_R3-nli-june18th\"]\n",
        "model_folders_17 = [\"nli-deberta-v3-base-june17th\", \"roberta-large-snli_mnli_fever_anli_R1_R2_R3-nli-june17th\"]"
      ]
    },
    {
      "cell_type": "code",
      "execution_count": 20,
      "metadata": {
        "colab": {
          "base_uri": "https://localhost:8080/"
        },
        "id": "PGoq5Ll7tKoV",
        "outputId": "0b205372-7ad5-4462-ea47-5d65b293e63f"
      },
      "outputs": [
        {
          "name": "stdout",
          "output_type": "stream",
          "text": [
            "150 150\n"
          ]
        }
      ],
      "source": [
        "roberta_files_18 = []\n",
        "roberta_files_18 = [os.path.join(os.path.join(path_18, model_folders_18[1]), file) for file in os.listdir(os.path.join(path_18,model_folders_18[1])) ]\n",
        "deberta_files_18 = []\n",
        "deberta_files_18 = [os.path.join(os.path.join(path_18, model_folders_18[0]), file) for file in os.listdir(os.path.join(path_18,model_folders_18[0])) ]\n",
        "print(len(deberta_files_18), len(roberta_files_18))"
      ]
    },
    {
      "cell_type": "code",
      "execution_count": 21,
      "metadata": {
        "colab": {
          "base_uri": "https://localhost:8080/"
        },
        "id": "voLacwE7lSL9",
        "outputId": "0ad37f4a-b856-4a5a-c154-cb6f2fd009bb"
      },
      "outputs": [
        {
          "name": "stdout",
          "output_type": "stream",
          "text": [
            "150 150\n"
          ]
        }
      ],
      "source": [
        "\n",
        "deberta_files_17 = []\n",
        "deberta_files_17 = [os.path.join(os.path.join(path_17, model_folders_17[0]), file)\n",
        "              for file in os.listdir(os.path.join(path_17,model_folders_17[0])) ]\n",
        "\n",
        "roberta_files_17 = []\n",
        "roberta_files_17 = [os.path.join(os.path.join(path_17, model_folders_17[1]), file)\n",
        "              for file in os.listdir(os.path.join(path_17,model_folders_17[1])) ]\n",
        "print(len(deberta_files_17), len(roberta_files_17))"
      ]
    },
    {
      "cell_type": "code",
      "execution_count": null,
      "metadata": {
        "colab": {
          "base_uri": "https://localhost:8080/"
        },
        "id": "O0hiwhdGouAM",
        "outputId": "d3c4220e-b3c8-4c4f-9f63-f0ebd25b4dab"
      },
      "outputs": [],
      "source": [
        "sorted(deberta_files_18)\n",
        "sorted(deberta_files_18)\n",
        "sorted(roberta_files_17)\n",
        "sorted(roberta_files_17)"
      ]
    },
    {
      "cell_type": "code",
      "execution_count": null,
      "metadata": {
        "id": "XuMls8-lnl7i"
      },
      "outputs": [],
      "source": []
    },
    {
      "cell_type": "code",
      "execution_count": 23,
      "metadata": {
        "colab": {
          "base_uri": "https://localhost:8080/"
        },
        "id": "k2169LVWnGyl",
        "outputId": "0a5b8c1b-2b7f-4507-cfbb-f934c8afce95"
      },
      "outputs": [
        {
          "name": "stdout",
          "output_type": "stream",
          "text": [
            "150 150 150\n"
          ]
        }
      ],
      "source": [
        "count = 0\n",
        "for f1, f2 in zip(deberta_files_17, deberta_files_18):\n",
        "  # print(\",\".join(os.path.basename(f1)[25:].split(\"_\")[0:4]), \",\".join(os.path.basename(f2)[25:].split(\"_\")[0:4]))\n",
        "  if \",\".join(os.path.basename(f1)[25:].split(\"_\")[0:4]) == \",\".join(os.path.basename(f2)[25:].split(\"_\")[0:4]):\n",
        "    count += 1\n",
        "print(count, len(deberta_files_17), len(deberta_files_18))"
      ]
    },
    {
      "cell_type": "code",
      "execution_count": 24,
      "metadata": {
        "colab": {
          "base_uri": "https://localhost:8080/"
        },
        "id": "yYQhd22FnzbU",
        "outputId": "3d1e7068-263e-41c9-b36b-2c3d7a34ac9f"
      },
      "outputs": [
        {
          "name": "stdout",
          "output_type": "stream",
          "text": [
            "150 150 150\n"
          ]
        }
      ],
      "source": [
        "count = 0\n",
        "for f1, f2 in zip(roberta_files_17, roberta_files_18):\n",
        "  if \",\".join(os.path.basename(f1)[53:].split(\"_\")[0:4]) == \",\".join(os.path.basename(f2)[53:].split(\"_\")[0:4]):\n",
        "    count += 1\n",
        "print(count, len(roberta_files_17), len(roberta_files_18))"
      ]
    },
    {
      "attachments": {},
      "cell_type": "markdown",
      "metadata": {
        "id": "Ot7KIXh1rhot"
      },
      "source": [
        "# Extrinsic Comparison : Same seed, and Same-everything-else\n",
        "### Compare prediction labels between each of **same** epochs, **same** batch_size, **same** fold no. and **same** seed between June 17th results and June 18th results\n",
        "\n",
        "## Expected results\n",
        "#### results between june 17th and 18th should have been same as per replicability.\n",
        "\n",
        "## Actual results\n",
        "#### results are same between june 17th and 18th as expected."
      ]
    },
    {
      "attachments": {},
      "cell_type": "markdown",
      "metadata": {
        "id": "hEg_9HkmsoHR"
      },
      "source": [
        "### Roberta"
      ]
    },
    {
      "cell_type": "code",
      "execution_count": null,
      "metadata": {
        "colab": {
          "base_uri": "https://localhost:8080/"
        },
        "id": "nBa8-NIpoWjQ",
        "outputId": "1ad5ad15-e798-4b2f-bafb-268d83190626"
      },
      "outputs": [],
      "source": [
        "count = 0\n",
        "for f1, f2 in zip(roberta_files_17, roberta_files_18):\n",
        "  if \",\".join(os.path.basename(f1)[53:].split(\"_\")[0:4]) == \",\".join(os.path.basename(f2)[53:].split(\"_\")[0:4]):\n",
        "    # print(f1, f2)\n",
        "    l1 = pd.read_csv(f1)['pred_labels']\n",
        "    l2 = pd.read_csv(f2)['pred_labels']\n",
        "    res = \"equal\" if l1.equals(other=l2) else \"not equal\"\n",
        "    count += 1 if res == \"equal\" else 0\n",
        "    print(\"For this epochs, batch_size, fold # and seed %s the labels are %s \"%(\",\".join(os.path.basename(f1)[53:].split(\"_\")[0:4]), res ))\n",
        "print(\"# of files between which prediction labels were equal are %d \"%count)"
      ]
    },
    {
      "cell_type": "code",
      "execution_count": 26,
      "metadata": {
        "colab": {
          "base_uri": "https://localhost:8080/"
        },
        "id": "lZ4eqf4RsYpE",
        "outputId": "bc4ced1e-5f1f-43ba-c379-46df2941f62a"
      },
      "outputs": [
        {
          "name": "stdout",
          "output_type": "stream",
          "text": [
            "For each epochs, batch_size, fold # and seed results between two pairs of files, the # of files between which prediction labels were equal are 150 \n"
          ]
        }
      ],
      "source": [
        "print(\"For each epochs, batch_size, fold # and seed results between two pairs of files, the # of files between which prediction labels were equal are %d \"%count)"
      ]
    },
    {
      "attachments": {},
      "cell_type": "markdown",
      "metadata": {
        "id": "-Zjrk8Zjs3Wn"
      },
      "source": [
        "### Deberta"
      ]
    },
    {
      "cell_type": "code",
      "execution_count": null,
      "metadata": {
        "colab": {
          "base_uri": "https://localhost:8080/"
        },
        "id": "Lpm59Ad4s1PZ",
        "outputId": "e6034794-9bfb-4b62-e3db-c56e48f373df"
      },
      "outputs": [],
      "source": [
        "count = 0\n",
        "for f1, f2 in zip(deberta_files_17, deberta_files_18):\n",
        "  if \",\".join(os.path.basename(f1)[25:].split(\"_\")[0:4]) == \",\".join(os.path.basename(f2)[25:].split(\"_\")[0:4]):\n",
        "    # print(f1, f2)\n",
        "    l1 = pd.read_csv(f1)['pred_labels']\n",
        "    l2 = pd.read_csv(f2)['pred_labels']\n",
        "    res = \"equal\" if l1.equals(other=l2) else \"not equal\"\n",
        "    count += 1 if res == \"equal\" else 0\n",
        "    print(\"For this epochs, batch_size, fold # and seed %s the labels are %s \"%(\",\".join(os.path.basename(f1)[25:].split(\"_\")[0:4]), res ))\n",
        "print(\"# of files between which prediction labels were equal are %d \"%count)"
      ]
    },
    {
      "cell_type": "code",
      "execution_count": 30,
      "metadata": {
        "colab": {
          "base_uri": "https://localhost:8080/"
        },
        "id": "3RMezGzctNDs",
        "outputId": "781be683-b28d-4081-c51f-cc79e13ad124"
      },
      "outputs": [
        {
          "name": "stdout",
          "output_type": "stream",
          "text": [
            "For each epochs, batch_size, fold # and seed results between two pairs of files, \n",
            " the # of files between which prediction labels were equal are 150 \n"
          ]
        }
      ],
      "source": [
        "print(\"For each epochs, batch_size, fold # and seed results between two pairs of files, \\n the # of files between which prediction labels were equal are %d \"%count)"
      ]
    },
    {
      "attachments": {},
      "cell_type": "markdown",
      "metadata": {
        "id": "7WSHz_dmtR43"
      },
      "source": [
        "# Intrinsic Comparison : Different Seed, same-everything-else\n",
        "### Between any two different seeds, compare the predictions labels for each of the **same** epochs, **same** batch_size, **same** fold no. and **different** seed.\n",
        "\n",
        "## Expected results\n",
        "### Results should have been different between any two different seeds run for **same** epochs, **same** batch_size, **same** fold no.\n",
        "\n",
        "## Actual results\n",
        "### Results are different between any two different seeds run for **same** epochs, **same** batch_size, **same** fold no."
      ]
    },
    {
      "cell_type": "code",
      "execution_count": 28,
      "metadata": {
        "colab": {
          "base_uri": "https://localhost:8080/"
        },
        "id": "K-x94wHvuAp7",
        "outputId": "f620cdd5-7e6d-4b35-c819-60ed98fc9636"
      },
      "outputs": [
        {
          "name": "stdout",
          "output_type": "stream",
          "text": [
            "150 120 120\n"
          ]
        }
      ],
      "source": [
        "print(len(roberta_files_17), len(roberta_files_17[:120]), len(roberta_files_17[30:]))"
      ]
    },
    {
      "cell_type": "code",
      "execution_count": null,
      "metadata": {
        "id": "CK139EpOuyed"
      },
      "outputs": [],
      "source": [
        "for f1, f2 in zip(roberta_files_17[:120], roberta_files_17[30:]):\n",
        "  s1 = os.path.basename(f1)[53:].split(\"_\")[0:4]\n",
        "  s2 = os.path.basename(f2)[53:].split(\"_\")[0:4]\n",
        "  print(\",\".join(s1[:-1]) == \",\".join(s2[:-1]))"
      ]
    },
    {
      "attachments": {},
      "cell_type": "markdown",
      "metadata": {
        "id": "lQXKmDV7tvKz"
      },
      "source": [
        "### Roberta"
      ]
    },
    {
      "attachments": {},
      "cell_type": "markdown",
      "metadata": {
        "id": "my-pSZuHy4rS"
      },
      "source": [
        "#### Results from June 17th, 2023"
      ]
    },
    {
      "cell_type": "code",
      "execution_count": null,
      "metadata": {
        "colab": {
          "base_uri": "https://localhost:8080/"
        },
        "id": "Ie8F6fijtvK4",
        "outputId": "79a649e0-d6ac-4472-da5c-050e328f2a67"
      },
      "outputs": [],
      "source": [
        "count = 0\n",
        "unequal = \"\"\n",
        "for f1, f2 in zip(roberta_files_17[:120], roberta_files_17[30:]):\n",
        "  s1 = os.path.basename(f1)[53:].split(\"_\")[0:4]\n",
        "  s2 = os.path.basename(f2)[53:].split(\"_\")[0:4]\n",
        "  if \",\".join(s1[:-1]) == \",\".join(s2[:-1]):\n",
        "    # print(f1, f2)\n",
        "    l1 = pd.read_csv(f1)['pred_labels']\n",
        "    l2 = pd.read_csv(f2)['pred_labels']\n",
        "    res = \"equal\" if l1.equals(other=l2) else \"not equal\"\n",
        "    count += 1 if res == \"equal\" else 0\n",
        "    s = \",\".join(s1[:-1]) +\":\"+ s1[3]+\":\"+s2[3]\n",
        "    if res != \"equal\":\n",
        "      unequal += s\n",
        "    print(\"For this epochs, batch_size, fold # and seed %s the labels are %s \"%(s, res ))\n",
        "print(\"# of files between which prediction labels were equal are %d \"%count)\n",
        "print(\"The epochs, batch_size, fold # and seed that have unequal prediction labels are \",unequal)"
      ]
    },
    {
      "cell_type": "code",
      "execution_count": 33,
      "metadata": {
        "colab": {
          "base_uri": "https://localhost:8080/"
        },
        "id": "pnL8U278tvK5",
        "outputId": "85c92278-3758-4ad5-cecc-e7a58bb133d5"
      },
      "outputs": [
        {
          "name": "stdout",
          "output_type": "stream",
          "text": [
            "For each epochs, batch_size, fold # and seed results between two pairs of files, \n",
            " the # of files between which prediction labels were equal are 1 \n"
          ]
        }
      ],
      "source": [
        "print(\"For each epochs, batch_size, fold # and seed results between two pairs of files, \\n the # of files between which prediction labels were equal are %d \"%count)"
      ]
    },
    {
      "attachments": {},
      "cell_type": "markdown",
      "metadata": {
        "id": "7qiQItIUzFXI"
      },
      "source": [
        "#### Results from June 18th, 2023"
      ]
    },
    {
      "cell_type": "code",
      "execution_count": null,
      "metadata": {
        "colab": {
          "base_uri": "https://localhost:8080/"
        },
        "id": "NvW6iIedzFXt",
        "outputId": "eb26048e-5c2b-4f32-a24b-ef656df3324c"
      },
      "outputs": [],
      "source": [
        "count = 0\n",
        "unequal = \"\"\n",
        "for f1, f2 in zip(roberta_files_18[:120], roberta_files_18[30:]):\n",
        "  s1 = os.path.basename(f1)[53:].split(\"_\")[0:4]\n",
        "  s2 = os.path.basename(f2)[53:].split(\"_\")[0:4]\n",
        "  if \",\".join(s1[:-1]) == \",\".join(s2[:-1]):\n",
        "    # print(f1, f2)\n",
        "    l1 = pd.read_csv(f1)['pred_labels']\n",
        "    l2 = pd.read_csv(f2)['pred_labels']\n",
        "    res = \"equal\" if l1.equals(other=l2) else \"not equal\"\n",
        "    count += 1 if res == \"equal\" else 0\n",
        "    s = \",\".join(s1[:-1]) +\":\"+ s1[3]+\":\"+s2[3]\n",
        "    if res != \"equal\":\n",
        "      unequal += s\n",
        "    print(\"For this epochs, batch_size, fold # and seed %s the labels are %s \"%(\",\".join(s), res ))\n",
        "print(\"# of files between which prediction labels were equal are %d \"%count)\n",
        "print(\"The epochs, batch_size, fold # and seed that have unequal prediction labels are \",unequal)"
      ]
    },
    {
      "cell_type": "code",
      "execution_count": 35,
      "metadata": {
        "colab": {
          "base_uri": "https://localhost:8080/"
        },
        "id": "Vv-ADl0kzFXx",
        "outputId": "91cb48ff-a20d-42da-ba18-0b4de2e10dda"
      },
      "outputs": [
        {
          "name": "stdout",
          "output_type": "stream",
          "text": [
            "For each epochs, batch_size, fold # and seed results between two pairs of files, \n",
            " the # of files between which prediction labels were equal are 1 \n"
          ]
        }
      ],
      "source": [
        "print(\"For each epochs, batch_size, fold # and seed results between two pairs of files, \\n the # of files between which prediction labels were equal are %d \"%count)"
      ]
    },
    {
      "attachments": {},
      "cell_type": "markdown",
      "metadata": {
        "id": "Clvcdo64tvK5"
      },
      "source": [
        "### Deberta"
      ]
    },
    {
      "attachments": {},
      "cell_type": "markdown",
      "metadata": {
        "id": "O3Q_u2QNzPtP"
      },
      "source": [
        "#### June 17th, 2023"
      ]
    },
    {
      "cell_type": "code",
      "execution_count": null,
      "metadata": {
        "colab": {
          "base_uri": "https://localhost:8080/"
        },
        "id": "nuXm_koUtvK6",
        "outputId": "6e6f15ac-d433-44e1-df91-38cd2ee36998"
      },
      "outputs": [],
      "source": [
        "count = 0\n",
        "unequal = \"\"\n",
        "for f1, f2 in zip(deberta_files_17[:120], deberta_files_17[30:]):\n",
        "  s1 = os.path.basename(f1)[25:].split(\"_\")[0:4]\n",
        "  s2 = os.path.basename(f2)[25:].split(\"_\")[0:4]\n",
        "  if \",\".join(s1[:-1]) == \",\".join(s2[:-1]):\n",
        "    # print(f1, f2)\n",
        "    l1 = pd.read_csv(f1)['pred_labels']\n",
        "    l2 = pd.read_csv(f2)['pred_labels']\n",
        "    res = \"equal\" if l1.equals(other=l2) else \"not equal\"\n",
        "    count += 1 if res == \"equal\" else 0\n",
        "    s = \",\".join(s1[:-1]) +\":\"+ s1[3]+\":\"+s2[3]\n",
        "    if res != \"equal\":\n",
        "      unequal += s\n",
        "    print(\"For this epochs, batch_size, fold # and seed %s the labels are %s \"%(\",\".join(s), res ))\n",
        "print(\"# of files between which prediction labels were equal are %d \"%count)\n",
        "print(\"The epochs, batch_size, fold # and seed that have unequal prediction labels are \",unequal)"
      ]
    },
    {
      "cell_type": "code",
      "execution_count": 37,
      "metadata": {
        "colab": {
          "base_uri": "https://localhost:8080/"
        },
        "id": "dBbEQQEytvK6",
        "outputId": "95f31e18-30f7-40fa-fad8-feb27491807a"
      },
      "outputs": [
        {
          "name": "stdout",
          "output_type": "stream",
          "text": [
            "For each epochs, batch_size, fold # and seed results between two pairs of files, \n",
            " the # of files between which prediction labels were equal are 0 \n"
          ]
        }
      ],
      "source": [
        "print(\"For each epochs, batch_size, fold # and seed results between two pairs of files, \\n the # of files between which prediction labels were equal are %d \"%count)"
      ]
    },
    {
      "attachments": {},
      "cell_type": "markdown",
      "metadata": {
        "id": "fSuIoHyazYDC"
      },
      "source": [
        "#### June 18th, 2023"
      ]
    },
    {
      "cell_type": "code",
      "execution_count": null,
      "metadata": {
        "colab": {
          "base_uri": "https://localhost:8080/"
        },
        "id": "7FjML3cezYDR",
        "outputId": "549e1905-cdcd-4a61-cde2-8d86d30ae856"
      },
      "outputs": [],
      "source": [
        "count = 0\n",
        "unequal = \"\"\n",
        "for f1, f2 in zip(deberta_files_18[:120], deberta_files_18[30:]):\n",
        "  s1 = os.path.basename(f1)[25:].split(\"_\")[0:4]\n",
        "  s2 = os.path.basename(f2)[25:].split(\"_\")[0:4]\n",
        "  if \",\".join(s1[:-1]) == \",\".join(s2[:-1]):\n",
        "    # print(f1, f2)\n",
        "    l1 = pd.read_csv(f1)['pred_labels']\n",
        "    l2 = pd.read_csv(f2)['pred_labels']\n",
        "    res = \"equal\" if l1.equals(other=l2) else \"not equal\"\n",
        "    count += 1 if res == \"equal\" else 0\n",
        "    s = \",\".join(s1[:-1]) +\":\"+ s1[3]+\":\"+s2[3]\n",
        "    if res != \"equal\":\n",
        "      unequal += s\n",
        "    print(\"For this epochs, batch_size, fold # and seed %s the labels are %s \"%(\",\".join(s), res ))\n",
        "print(\"# of files between which prediction labels were equal are %d \"%count)\n",
        "print(\"The epochs, batch_size, fold # and seed that have unequal prediction labels are \",unequal)"
      ]
    },
    {
      "cell_type": "code",
      "execution_count": 39,
      "metadata": {
        "colab": {
          "base_uri": "https://localhost:8080/"
        },
        "id": "aaIA880AzYDS",
        "outputId": "a57c4e17-56cc-4c94-a653-2e9f9a7fe2b1"
      },
      "outputs": [
        {
          "name": "stdout",
          "output_type": "stream",
          "text": [
            "For each epochs, batch_size, fold # and seed results between two pairs of files, \n",
            " the # of files between which prediction labels were equal are 0 \n"
          ]
        }
      ],
      "source": [
        "print(\"For each epochs, batch_size, fold # and seed results between two pairs of files, \\n the # of files between which prediction labels were equal are %d \"%count)"
      ]
    }
  ],
  "metadata": {
    "colab": {
      "provenance": []
    },
    "kernelspec": {
      "display_name": "Python 3",
      "name": "python3"
    },
    "language_info": {
      "name": "python"
    }
  },
  "nbformat": 4,
  "nbformat_minor": 0
}
