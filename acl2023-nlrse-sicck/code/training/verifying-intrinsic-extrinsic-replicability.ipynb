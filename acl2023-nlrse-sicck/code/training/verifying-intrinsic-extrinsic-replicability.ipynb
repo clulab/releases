{
  "nbformat": 4,
  "nbformat_minor": 0,
  "metadata": {
    "colab": {
      "provenance": []
    },
    "kernelspec": {
      "name": "python3",
      "display_name": "Python 3"
    },
    "language_info": {
      "name": "python"
    }
  },
  "cells": [
    {
      "cell_type": "markdown",
      "source": [
        "## Examining indentical values between different seeds and non-indentical values over reruns for same script run at different time intervals"
      ],
      "metadata": {
        "id": "yTC-h3lPkei0"
      }
    },
    {
      "cell_type": "code",
      "source": [
        "import pandas as pd\n",
        "# import pycm\n",
        "import matplotlib.pyplot as plt\n",
        "import os\n",
        "import numpy as np\n",
        "from sklearn.metrics import precision_score, recall_score, f1_score, accuracy_score, confusion_matrix, classification_report"
      ],
      "metadata": {
        "id": "FpEsbX7Lsyzy"
      },
      "execution_count": null,
      "outputs": []
    },
    {
      "cell_type": "code",
      "source": [
        "from google.colab import drive\n",
        "drive.mount('/content/drive/', force_remount=True)"
      ],
      "metadata": {
        "colab": {
          "base_uri": "https://localhost:8080/"
        },
        "id": "lLIm3W_nk_Cs",
        "outputId": "a1d35e7f-06a5-43ca-8715-d4aace8c3414"
      },
      "execution_count": null,
      "outputs": [
        {
          "output_type": "stream",
          "name": "stdout",
          "text": [
            "Mounted at /content/drive/\n"
          ]
        }
      ]
    },
    {
      "cell_type": "code",
      "source": [
        "def get_classification_report(ytrue, ypred, model_name, mtype=\"\", svo=\"\"):\n",
        "  res = classification_report(ytrue, ypred, output_dict=True)\n",
        "  print(classification_report(ytrue, ypred))\n",
        "  precision_m = res['macro avg']['precision']\n",
        "  recall_m = res['macro avg']['recall']\n",
        "  f1_macro = res['macro avg']['f1-score']\n",
        "  acc = res['accuracy']\n",
        "  return {\"model_name\":model_name, \"modifier_type\":mtype,\"svo\": svo,\n",
        "          \"f1_macro\":f1_macro, \"precision_m\":precision_m, \"recall_m\":recall_m, \"acc\":acc}"
      ],
      "metadata": {
        "id": "g10yrX5gs4l0"
      },
      "execution_count": null,
      "outputs": []
    },
    {
      "cell_type": "code",
      "source": [
        "gt = 'CompressedGT'\n",
        "pred = 'pred_labels'\n",
        "svo = \"Part of Premise/Hypothesis Modified\"\n",
        "mod_type_col = 'Modifier Type'"
      ],
      "metadata": {
        "id": "ypT28N4FtBoj"
      },
      "execution_count": null,
      "outputs": []
    },
    {
      "cell_type": "markdown",
      "source": [
        "### June 13th and June 14th data folder paths\n",
        "- Update your respective june13th and june 14th paths"
      ],
      "metadata": {
        "id": "tRooZ6BMKVQQ"
      }
    },
    {
      "cell_type": "code",
      "source": [
        "path_18 = \"/content/drive/MyDrive/Colab Notebooks/natural-logic/june12/randomseed/june18th\"\n",
        "path_17 = \"/content/drive/MyDrive/Colab Notebooks/natural-logic/june12/randomseed/june17th\"\n",
        "model_folders_18 = [\"nli-deberta-v3-base-june18th\", \"roberta-large-snli_mnli_fever_anli_R1_R2_R3-nli-june18th\"]\n",
        "model_folders_17 = [\"nli-deberta-v3-base-june17th\", \"roberta-large-snli_mnli_fever_anli_R1_R2_R3-nli-june17th\"]"
      ],
      "metadata": {
        "id": "Btx-ZZPfmIsD"
      },
      "execution_count": null,
      "outputs": []
    },
    {
      "cell_type": "code",
      "source": [
        "roberta_files_18 = []\n",
        "roberta_files_18 = [os.path.join(os.path.join(path_18, model_folders_18[1]), file) for file in os.listdir(os.path.join(path_18,model_folders_18[1])) ]\n",
        "deberta_files_18 = []\n",
        "deberta_files_18 = [os.path.join(os.path.join(path_18, model_folders_18[0]), file) for file in os.listdir(os.path.join(path_18,model_folders_18[0])) ]\n",
        "print(len(deberta_files_18), len(roberta_files_18))"
      ],
      "metadata": {
        "id": "PGoq5Ll7tKoV",
        "colab": {
          "base_uri": "https://localhost:8080/"
        },
        "outputId": "0b205372-7ad5-4462-ea47-5d65b293e63f"
      },
      "execution_count": null,
      "outputs": [
        {
          "output_type": "stream",
          "name": "stdout",
          "text": [
            "150 150\n"
          ]
        }
      ]
    },
    {
      "cell_type": "code",
      "source": [
        "\n",
        "deberta_files_17 = []\n",
        "deberta_files_17 = [os.path.join(os.path.join(path_17, model_folders_17[0]), file)\n",
        "              for file in os.listdir(os.path.join(path_17,model_folders_17[0])) ]\n",
        "\n",
        "roberta_files_17 = []\n",
        "roberta_files_17 = [os.path.join(os.path.join(path_17, model_folders_17[1]), file)\n",
        "              for file in os.listdir(os.path.join(path_17,model_folders_17[1])) ]\n",
        "print(len(deberta_files_17), len(roberta_files_17))"
      ],
      "metadata": {
        "colab": {
          "base_uri": "https://localhost:8080/"
        },
        "id": "voLacwE7lSL9",
        "outputId": "0ad37f4a-b856-4a5a-c154-cb6f2fd009bb"
      },
      "execution_count": null,
      "outputs": [
        {
          "output_type": "stream",
          "name": "stdout",
          "text": [
            "150 150\n"
          ]
        }
      ]
    },
    {
      "cell_type": "code",
      "source": [
        "sorted(deberta_files_18)\n",
        "sorted(deberta_files_18)\n",
        "sorted(roberta_files_17)\n",
        "sorted(roberta_files_17)"
      ],
      "metadata": {
        "id": "O0hiwhdGouAM",
        "colab": {
          "base_uri": "https://localhost:8080/"
        },
        "outputId": "d3c4220e-b3c8-4c4f-9f63-f0ebd25b4dab"
      },
      "execution_count": null,
      "outputs": [
        {
          "output_type": "execute_result",
          "data": {
            "text/plain": [
              "['/content/drive/MyDrive/Colab Notebooks/natural-logic/june12/randomseed/june17th/roberta-large-snli_mnli_fever_anli_R1_R2_R3-nli-june17th/five_roberta-large-snli_mnli_fever_anli_R1_R2_R3-nli_4_16_0_12345_test.xlsx',\n",
              " '/content/drive/MyDrive/Colab Notebooks/natural-logic/june12/randomseed/june17th/roberta-large-snli_mnli_fever_anli_R1_R2_R3-nli-june17th/five_roberta-large-snli_mnli_fever_anli_R1_R2_R3-nli_4_16_0_34567_test.xlsx',\n",
              " '/content/drive/MyDrive/Colab Notebooks/natural-logic/june12/randomseed/june17th/roberta-large-snli_mnli_fever_anli_R1_R2_R3-nli-june17th/five_roberta-large-snli_mnli_fever_anli_R1_R2_R3-nli_4_16_0_56789_test.xlsx',\n",
              " '/content/drive/MyDrive/Colab Notebooks/natural-logic/june12/randomseed/june17th/roberta-large-snli_mnli_fever_anli_R1_R2_R3-nli-june17th/five_roberta-large-snli_mnli_fever_anli_R1_R2_R3-nli_4_16_0_76543_test.xlsx',\n",
              " '/content/drive/MyDrive/Colab Notebooks/natural-logic/june12/randomseed/june17th/roberta-large-snli_mnli_fever_anli_R1_R2_R3-nli-june17th/five_roberta-large-snli_mnli_fever_anli_R1_R2_R3-nli_4_16_0_98765_test.xlsx',\n",
              " '/content/drive/MyDrive/Colab Notebooks/natural-logic/june12/randomseed/june17th/roberta-large-snli_mnli_fever_anli_R1_R2_R3-nli-june17th/five_roberta-large-snli_mnli_fever_anli_R1_R2_R3-nli_4_16_1_12345_test.xlsx',\n",
              " '/content/drive/MyDrive/Colab Notebooks/natural-logic/june12/randomseed/june17th/roberta-large-snli_mnli_fever_anli_R1_R2_R3-nli-june17th/five_roberta-large-snli_mnli_fever_anli_R1_R2_R3-nli_4_16_1_34567_test.xlsx',\n",
              " '/content/drive/MyDrive/Colab Notebooks/natural-logic/june12/randomseed/june17th/roberta-large-snli_mnli_fever_anli_R1_R2_R3-nli-june17th/five_roberta-large-snli_mnli_fever_anli_R1_R2_R3-nli_4_16_1_56789_test.xlsx',\n",
              " '/content/drive/MyDrive/Colab Notebooks/natural-logic/june12/randomseed/june17th/roberta-large-snli_mnli_fever_anli_R1_R2_R3-nli-june17th/five_roberta-large-snli_mnli_fever_anli_R1_R2_R3-nli_4_16_1_76543_test.xlsx',\n",
              " '/content/drive/MyDrive/Colab Notebooks/natural-logic/june12/randomseed/june17th/roberta-large-snli_mnli_fever_anli_R1_R2_R3-nli-june17th/five_roberta-large-snli_mnli_fever_anli_R1_R2_R3-nli_4_16_1_98765_test.xlsx',\n",
              " '/content/drive/MyDrive/Colab Notebooks/natural-logic/june12/randomseed/june17th/roberta-large-snli_mnli_fever_anli_R1_R2_R3-nli-june17th/five_roberta-large-snli_mnli_fever_anli_R1_R2_R3-nli_4_16_2_12345_test.xlsx',\n",
              " '/content/drive/MyDrive/Colab Notebooks/natural-logic/june12/randomseed/june17th/roberta-large-snli_mnli_fever_anli_R1_R2_R3-nli-june17th/five_roberta-large-snli_mnli_fever_anli_R1_R2_R3-nli_4_16_2_34567_test.xlsx',\n",
              " '/content/drive/MyDrive/Colab Notebooks/natural-logic/june12/randomseed/june17th/roberta-large-snli_mnli_fever_anli_R1_R2_R3-nli-june17th/five_roberta-large-snli_mnli_fever_anli_R1_R2_R3-nli_4_16_2_56789_test.xlsx',\n",
              " '/content/drive/MyDrive/Colab Notebooks/natural-logic/june12/randomseed/june17th/roberta-large-snli_mnli_fever_anli_R1_R2_R3-nli-june17th/five_roberta-large-snli_mnli_fever_anli_R1_R2_R3-nli_4_16_2_76543_test.xlsx',\n",
              " '/content/drive/MyDrive/Colab Notebooks/natural-logic/june12/randomseed/june17th/roberta-large-snli_mnli_fever_anli_R1_R2_R3-nli-june17th/five_roberta-large-snli_mnli_fever_anli_R1_R2_R3-nli_4_16_2_98765_test.xlsx',\n",
              " '/content/drive/MyDrive/Colab Notebooks/natural-logic/june12/randomseed/june17th/roberta-large-snli_mnli_fever_anli_R1_R2_R3-nli-june17th/five_roberta-large-snli_mnli_fever_anli_R1_R2_R3-nli_4_16_3_12345_test.xlsx',\n",
              " '/content/drive/MyDrive/Colab Notebooks/natural-logic/june12/randomseed/june17th/roberta-large-snli_mnli_fever_anli_R1_R2_R3-nli-june17th/five_roberta-large-snli_mnli_fever_anli_R1_R2_R3-nli_4_16_3_34567_test.xlsx',\n",
              " '/content/drive/MyDrive/Colab Notebooks/natural-logic/june12/randomseed/june17th/roberta-large-snli_mnli_fever_anli_R1_R2_R3-nli-june17th/five_roberta-large-snli_mnli_fever_anli_R1_R2_R3-nli_4_16_3_56789_test.xlsx',\n",
              " '/content/drive/MyDrive/Colab Notebooks/natural-logic/june12/randomseed/june17th/roberta-large-snli_mnli_fever_anli_R1_R2_R3-nli-june17th/five_roberta-large-snli_mnli_fever_anli_R1_R2_R3-nli_4_16_3_76543_test.xlsx',\n",
              " '/content/drive/MyDrive/Colab Notebooks/natural-logic/june12/randomseed/june17th/roberta-large-snli_mnli_fever_anli_R1_R2_R3-nli-june17th/five_roberta-large-snli_mnli_fever_anli_R1_R2_R3-nli_4_16_3_98765_test.xlsx',\n",
              " '/content/drive/MyDrive/Colab Notebooks/natural-logic/june12/randomseed/june17th/roberta-large-snli_mnli_fever_anli_R1_R2_R3-nli-june17th/five_roberta-large-snli_mnli_fever_anli_R1_R2_R3-nli_4_16_4_12345_test.xlsx',\n",
              " '/content/drive/MyDrive/Colab Notebooks/natural-logic/june12/randomseed/june17th/roberta-large-snli_mnli_fever_anli_R1_R2_R3-nli-june17th/five_roberta-large-snli_mnli_fever_anli_R1_R2_R3-nli_4_16_4_34567_test.xlsx',\n",
              " '/content/drive/MyDrive/Colab Notebooks/natural-logic/june12/randomseed/june17th/roberta-large-snli_mnli_fever_anli_R1_R2_R3-nli-june17th/five_roberta-large-snli_mnli_fever_anli_R1_R2_R3-nli_4_16_4_56789_test.xlsx',\n",
              " '/content/drive/MyDrive/Colab Notebooks/natural-logic/june12/randomseed/june17th/roberta-large-snli_mnli_fever_anli_R1_R2_R3-nli-june17th/five_roberta-large-snli_mnli_fever_anli_R1_R2_R3-nli_4_16_4_76543_test.xlsx',\n",
              " '/content/drive/MyDrive/Colab Notebooks/natural-logic/june12/randomseed/june17th/roberta-large-snli_mnli_fever_anli_R1_R2_R3-nli-june17th/five_roberta-large-snli_mnli_fever_anli_R1_R2_R3-nli_4_16_4_98765_test.xlsx',\n",
              " '/content/drive/MyDrive/Colab Notebooks/natural-logic/june12/randomseed/june17th/roberta-large-snli_mnli_fever_anli_R1_R2_R3-nli-june17th/five_roberta-large-snli_mnli_fever_anli_R1_R2_R3-nli_4_32_0_12345_test.xlsx',\n",
              " '/content/drive/MyDrive/Colab Notebooks/natural-logic/june12/randomseed/june17th/roberta-large-snli_mnli_fever_anli_R1_R2_R3-nli-june17th/five_roberta-large-snli_mnli_fever_anli_R1_R2_R3-nli_4_32_0_34567_test.xlsx',\n",
              " '/content/drive/MyDrive/Colab Notebooks/natural-logic/june12/randomseed/june17th/roberta-large-snli_mnli_fever_anli_R1_R2_R3-nli-june17th/five_roberta-large-snli_mnli_fever_anli_R1_R2_R3-nli_4_32_0_56789_test.xlsx',\n",
              " '/content/drive/MyDrive/Colab Notebooks/natural-logic/june12/randomseed/june17th/roberta-large-snli_mnli_fever_anli_R1_R2_R3-nli-june17th/five_roberta-large-snli_mnli_fever_anli_R1_R2_R3-nli_4_32_0_76543_test.xlsx',\n",
              " '/content/drive/MyDrive/Colab Notebooks/natural-logic/june12/randomseed/june17th/roberta-large-snli_mnli_fever_anli_R1_R2_R3-nli-june17th/five_roberta-large-snli_mnli_fever_anli_R1_R2_R3-nli_4_32_0_98765_test.xlsx',\n",
              " '/content/drive/MyDrive/Colab Notebooks/natural-logic/june12/randomseed/june17th/roberta-large-snli_mnli_fever_anli_R1_R2_R3-nli-june17th/five_roberta-large-snli_mnli_fever_anli_R1_R2_R3-nli_4_32_1_12345_test.xlsx',\n",
              " '/content/drive/MyDrive/Colab Notebooks/natural-logic/june12/randomseed/june17th/roberta-large-snli_mnli_fever_anli_R1_R2_R3-nli-june17th/five_roberta-large-snli_mnli_fever_anli_R1_R2_R3-nli_4_32_1_34567_test.xlsx',\n",
              " '/content/drive/MyDrive/Colab Notebooks/natural-logic/june12/randomseed/june17th/roberta-large-snli_mnli_fever_anli_R1_R2_R3-nli-june17th/five_roberta-large-snli_mnli_fever_anli_R1_R2_R3-nli_4_32_1_56789_test.xlsx',\n",
              " '/content/drive/MyDrive/Colab Notebooks/natural-logic/june12/randomseed/june17th/roberta-large-snli_mnli_fever_anli_R1_R2_R3-nli-june17th/five_roberta-large-snli_mnli_fever_anli_R1_R2_R3-nli_4_32_1_76543_test.xlsx',\n",
              " '/content/drive/MyDrive/Colab Notebooks/natural-logic/june12/randomseed/june17th/roberta-large-snli_mnli_fever_anli_R1_R2_R3-nli-june17th/five_roberta-large-snli_mnli_fever_anli_R1_R2_R3-nli_4_32_1_98765_test.xlsx',\n",
              " '/content/drive/MyDrive/Colab Notebooks/natural-logic/june12/randomseed/june17th/roberta-large-snli_mnli_fever_anli_R1_R2_R3-nli-june17th/five_roberta-large-snli_mnli_fever_anli_R1_R2_R3-nli_4_32_2_12345_test.xlsx',\n",
              " '/content/drive/MyDrive/Colab Notebooks/natural-logic/june12/randomseed/june17th/roberta-large-snli_mnli_fever_anli_R1_R2_R3-nli-june17th/five_roberta-large-snli_mnli_fever_anli_R1_R2_R3-nli_4_32_2_34567_test.xlsx',\n",
              " '/content/drive/MyDrive/Colab Notebooks/natural-logic/june12/randomseed/june17th/roberta-large-snli_mnli_fever_anli_R1_R2_R3-nli-june17th/five_roberta-large-snli_mnli_fever_anli_R1_R2_R3-nli_4_32_2_56789_test.xlsx',\n",
              " '/content/drive/MyDrive/Colab Notebooks/natural-logic/june12/randomseed/june17th/roberta-large-snli_mnli_fever_anli_R1_R2_R3-nli-june17th/five_roberta-large-snli_mnli_fever_anli_R1_R2_R3-nli_4_32_2_76543_test.xlsx',\n",
              " '/content/drive/MyDrive/Colab Notebooks/natural-logic/june12/randomseed/june17th/roberta-large-snli_mnli_fever_anli_R1_R2_R3-nli-june17th/five_roberta-large-snli_mnli_fever_anli_R1_R2_R3-nli_4_32_2_98765_test.xlsx',\n",
              " '/content/drive/MyDrive/Colab Notebooks/natural-logic/june12/randomseed/june17th/roberta-large-snli_mnli_fever_anli_R1_R2_R3-nli-june17th/five_roberta-large-snli_mnli_fever_anli_R1_R2_R3-nli_4_32_3_12345_test.xlsx',\n",
              " '/content/drive/MyDrive/Colab Notebooks/natural-logic/june12/randomseed/june17th/roberta-large-snli_mnli_fever_anli_R1_R2_R3-nli-june17th/five_roberta-large-snli_mnli_fever_anli_R1_R2_R3-nli_4_32_3_34567_test.xlsx',\n",
              " '/content/drive/MyDrive/Colab Notebooks/natural-logic/june12/randomseed/june17th/roberta-large-snli_mnli_fever_anli_R1_R2_R3-nli-june17th/five_roberta-large-snli_mnli_fever_anli_R1_R2_R3-nli_4_32_3_56789_test.xlsx',\n",
              " '/content/drive/MyDrive/Colab Notebooks/natural-logic/june12/randomseed/june17th/roberta-large-snli_mnli_fever_anli_R1_R2_R3-nli-june17th/five_roberta-large-snli_mnli_fever_anli_R1_R2_R3-nli_4_32_3_76543_test.xlsx',\n",
              " '/content/drive/MyDrive/Colab Notebooks/natural-logic/june12/randomseed/june17th/roberta-large-snli_mnli_fever_anli_R1_R2_R3-nli-june17th/five_roberta-large-snli_mnli_fever_anli_R1_R2_R3-nli_4_32_3_98765_test.xlsx',\n",
              " '/content/drive/MyDrive/Colab Notebooks/natural-logic/june12/randomseed/june17th/roberta-large-snli_mnli_fever_anli_R1_R2_R3-nli-june17th/five_roberta-large-snli_mnli_fever_anli_R1_R2_R3-nli_4_32_4_12345_test.xlsx',\n",
              " '/content/drive/MyDrive/Colab Notebooks/natural-logic/june12/randomseed/june17th/roberta-large-snli_mnli_fever_anli_R1_R2_R3-nli-june17th/five_roberta-large-snli_mnli_fever_anli_R1_R2_R3-nli_4_32_4_34567_test.xlsx',\n",
              " '/content/drive/MyDrive/Colab Notebooks/natural-logic/june12/randomseed/june17th/roberta-large-snli_mnli_fever_anli_R1_R2_R3-nli-june17th/five_roberta-large-snli_mnli_fever_anli_R1_R2_R3-nli_4_32_4_56789_test.xlsx',\n",
              " '/content/drive/MyDrive/Colab Notebooks/natural-logic/june12/randomseed/june17th/roberta-large-snli_mnli_fever_anli_R1_R2_R3-nli-june17th/five_roberta-large-snli_mnli_fever_anli_R1_R2_R3-nli_4_32_4_76543_test.xlsx',\n",
              " '/content/drive/MyDrive/Colab Notebooks/natural-logic/june12/randomseed/june17th/roberta-large-snli_mnli_fever_anli_R1_R2_R3-nli-june17th/five_roberta-large-snli_mnli_fever_anli_R1_R2_R3-nli_4_32_4_98765_test.xlsx',\n",
              " '/content/drive/MyDrive/Colab Notebooks/natural-logic/june12/randomseed/june17th/roberta-large-snli_mnli_fever_anli_R1_R2_R3-nli-june17th/five_roberta-large-snli_mnli_fever_anli_R1_R2_R3-nli_4_8_0_12345_test.xlsx',\n",
              " '/content/drive/MyDrive/Colab Notebooks/natural-logic/june12/randomseed/june17th/roberta-large-snli_mnli_fever_anli_R1_R2_R3-nli-june17th/five_roberta-large-snli_mnli_fever_anli_R1_R2_R3-nli_4_8_0_34567_test.xlsx',\n",
              " '/content/drive/MyDrive/Colab Notebooks/natural-logic/june12/randomseed/june17th/roberta-large-snli_mnli_fever_anli_R1_R2_R3-nli-june17th/five_roberta-large-snli_mnli_fever_anli_R1_R2_R3-nli_4_8_0_56789_test.xlsx',\n",
              " '/content/drive/MyDrive/Colab Notebooks/natural-logic/june12/randomseed/june17th/roberta-large-snli_mnli_fever_anli_R1_R2_R3-nli-june17th/five_roberta-large-snli_mnli_fever_anli_R1_R2_R3-nli_4_8_0_76543_test.xlsx',\n",
              " '/content/drive/MyDrive/Colab Notebooks/natural-logic/june12/randomseed/june17th/roberta-large-snli_mnli_fever_anli_R1_R2_R3-nli-june17th/five_roberta-large-snli_mnli_fever_anli_R1_R2_R3-nli_4_8_0_98765_test.xlsx',\n",
              " '/content/drive/MyDrive/Colab Notebooks/natural-logic/june12/randomseed/june17th/roberta-large-snli_mnli_fever_anli_R1_R2_R3-nli-june17th/five_roberta-large-snli_mnli_fever_anli_R1_R2_R3-nli_4_8_1_12345_test.xlsx',\n",
              " '/content/drive/MyDrive/Colab Notebooks/natural-logic/june12/randomseed/june17th/roberta-large-snli_mnli_fever_anli_R1_R2_R3-nli-june17th/five_roberta-large-snli_mnli_fever_anli_R1_R2_R3-nli_4_8_1_34567_test.xlsx',\n",
              " '/content/drive/MyDrive/Colab Notebooks/natural-logic/june12/randomseed/june17th/roberta-large-snli_mnli_fever_anli_R1_R2_R3-nli-june17th/five_roberta-large-snli_mnli_fever_anli_R1_R2_R3-nli_4_8_1_56789_test.xlsx',\n",
              " '/content/drive/MyDrive/Colab Notebooks/natural-logic/june12/randomseed/june17th/roberta-large-snli_mnli_fever_anli_R1_R2_R3-nli-june17th/five_roberta-large-snli_mnli_fever_anli_R1_R2_R3-nli_4_8_1_76543_test.xlsx',\n",
              " '/content/drive/MyDrive/Colab Notebooks/natural-logic/june12/randomseed/june17th/roberta-large-snli_mnli_fever_anli_R1_R2_R3-nli-june17th/five_roberta-large-snli_mnli_fever_anli_R1_R2_R3-nli_4_8_1_98765_test.xlsx',\n",
              " '/content/drive/MyDrive/Colab Notebooks/natural-logic/june12/randomseed/june17th/roberta-large-snli_mnli_fever_anli_R1_R2_R3-nli-june17th/five_roberta-large-snli_mnli_fever_anli_R1_R2_R3-nli_4_8_2_12345_test.xlsx',\n",
              " '/content/drive/MyDrive/Colab Notebooks/natural-logic/june12/randomseed/june17th/roberta-large-snli_mnli_fever_anli_R1_R2_R3-nli-june17th/five_roberta-large-snli_mnli_fever_anli_R1_R2_R3-nli_4_8_2_34567_test.xlsx',\n",
              " '/content/drive/MyDrive/Colab Notebooks/natural-logic/june12/randomseed/june17th/roberta-large-snli_mnli_fever_anli_R1_R2_R3-nli-june17th/five_roberta-large-snli_mnli_fever_anli_R1_R2_R3-nli_4_8_2_56789_test.xlsx',\n",
              " '/content/drive/MyDrive/Colab Notebooks/natural-logic/june12/randomseed/june17th/roberta-large-snli_mnli_fever_anli_R1_R2_R3-nli-june17th/five_roberta-large-snli_mnli_fever_anli_R1_R2_R3-nli_4_8_2_76543_test.xlsx',\n",
              " '/content/drive/MyDrive/Colab Notebooks/natural-logic/june12/randomseed/june17th/roberta-large-snli_mnli_fever_anli_R1_R2_R3-nli-june17th/five_roberta-large-snli_mnli_fever_anli_R1_R2_R3-nli_4_8_2_98765_test.xlsx',\n",
              " '/content/drive/MyDrive/Colab Notebooks/natural-logic/june12/randomseed/june17th/roberta-large-snli_mnli_fever_anli_R1_R2_R3-nli-june17th/five_roberta-large-snli_mnli_fever_anli_R1_R2_R3-nli_4_8_3_12345_test.xlsx',\n",
              " '/content/drive/MyDrive/Colab Notebooks/natural-logic/june12/randomseed/june17th/roberta-large-snli_mnli_fever_anli_R1_R2_R3-nli-june17th/five_roberta-large-snli_mnli_fever_anli_R1_R2_R3-nli_4_8_3_34567_test.xlsx',\n",
              " '/content/drive/MyDrive/Colab Notebooks/natural-logic/june12/randomseed/june17th/roberta-large-snli_mnli_fever_anli_R1_R2_R3-nli-june17th/five_roberta-large-snli_mnli_fever_anli_R1_R2_R3-nli_4_8_3_56789_test.xlsx',\n",
              " '/content/drive/MyDrive/Colab Notebooks/natural-logic/june12/randomseed/june17th/roberta-large-snli_mnli_fever_anli_R1_R2_R3-nli-june17th/five_roberta-large-snli_mnli_fever_anli_R1_R2_R3-nli_4_8_3_76543_test.xlsx',\n",
              " '/content/drive/MyDrive/Colab Notebooks/natural-logic/june12/randomseed/june17th/roberta-large-snli_mnli_fever_anli_R1_R2_R3-nli-june17th/five_roberta-large-snli_mnli_fever_anli_R1_R2_R3-nli_4_8_3_98765_test.xlsx',\n",
              " '/content/drive/MyDrive/Colab Notebooks/natural-logic/june12/randomseed/june17th/roberta-large-snli_mnli_fever_anli_R1_R2_R3-nli-june17th/five_roberta-large-snli_mnli_fever_anli_R1_R2_R3-nli_4_8_4_12345_test.xlsx',\n",
              " '/content/drive/MyDrive/Colab Notebooks/natural-logic/june12/randomseed/june17th/roberta-large-snli_mnli_fever_anli_R1_R2_R3-nli-june17th/five_roberta-large-snli_mnli_fever_anli_R1_R2_R3-nli_4_8_4_34567_test.xlsx',\n",
              " '/content/drive/MyDrive/Colab Notebooks/natural-logic/june12/randomseed/june17th/roberta-large-snli_mnli_fever_anli_R1_R2_R3-nli-june17th/five_roberta-large-snli_mnli_fever_anli_R1_R2_R3-nli_4_8_4_56789_test.xlsx',\n",
              " '/content/drive/MyDrive/Colab Notebooks/natural-logic/june12/randomseed/june17th/roberta-large-snli_mnli_fever_anli_R1_R2_R3-nli-june17th/five_roberta-large-snli_mnli_fever_anli_R1_R2_R3-nli_4_8_4_76543_test.xlsx',\n",
              " '/content/drive/MyDrive/Colab Notebooks/natural-logic/june12/randomseed/june17th/roberta-large-snli_mnli_fever_anli_R1_R2_R3-nli-june17th/five_roberta-large-snli_mnli_fever_anli_R1_R2_R3-nli_4_8_4_98765_test.xlsx',\n",
              " '/content/drive/MyDrive/Colab Notebooks/natural-logic/june12/randomseed/june17th/roberta-large-snli_mnli_fever_anli_R1_R2_R3-nli-june17th/five_roberta-large-snli_mnli_fever_anli_R1_R2_R3-nli_8_16_0_12345_test.xlsx',\n",
              " '/content/drive/MyDrive/Colab Notebooks/natural-logic/june12/randomseed/june17th/roberta-large-snli_mnli_fever_anli_R1_R2_R3-nli-june17th/five_roberta-large-snli_mnli_fever_anli_R1_R2_R3-nli_8_16_0_34567_test.xlsx',\n",
              " '/content/drive/MyDrive/Colab Notebooks/natural-logic/june12/randomseed/june17th/roberta-large-snli_mnli_fever_anli_R1_R2_R3-nli-june17th/five_roberta-large-snli_mnli_fever_anli_R1_R2_R3-nli_8_16_0_56789_test.xlsx',\n",
              " '/content/drive/MyDrive/Colab Notebooks/natural-logic/june12/randomseed/june17th/roberta-large-snli_mnli_fever_anli_R1_R2_R3-nli-june17th/five_roberta-large-snli_mnli_fever_anli_R1_R2_R3-nli_8_16_0_76543_test.xlsx',\n",
              " '/content/drive/MyDrive/Colab Notebooks/natural-logic/june12/randomseed/june17th/roberta-large-snli_mnli_fever_anli_R1_R2_R3-nli-june17th/five_roberta-large-snli_mnli_fever_anli_R1_R2_R3-nli_8_16_0_98765_test.xlsx',\n",
              " '/content/drive/MyDrive/Colab Notebooks/natural-logic/june12/randomseed/june17th/roberta-large-snli_mnli_fever_anli_R1_R2_R3-nli-june17th/five_roberta-large-snli_mnli_fever_anli_R1_R2_R3-nli_8_16_1_12345_test.xlsx',\n",
              " '/content/drive/MyDrive/Colab Notebooks/natural-logic/june12/randomseed/june17th/roberta-large-snli_mnli_fever_anli_R1_R2_R3-nli-june17th/five_roberta-large-snli_mnli_fever_anli_R1_R2_R3-nli_8_16_1_34567_test.xlsx',\n",
              " '/content/drive/MyDrive/Colab Notebooks/natural-logic/june12/randomseed/june17th/roberta-large-snli_mnli_fever_anli_R1_R2_R3-nli-june17th/five_roberta-large-snli_mnli_fever_anli_R1_R2_R3-nli_8_16_1_56789_test.xlsx',\n",
              " '/content/drive/MyDrive/Colab Notebooks/natural-logic/june12/randomseed/june17th/roberta-large-snli_mnli_fever_anli_R1_R2_R3-nli-june17th/five_roberta-large-snli_mnli_fever_anli_R1_R2_R3-nli_8_16_1_76543_test.xlsx',\n",
              " '/content/drive/MyDrive/Colab Notebooks/natural-logic/june12/randomseed/june17th/roberta-large-snli_mnli_fever_anli_R1_R2_R3-nli-june17th/five_roberta-large-snli_mnli_fever_anli_R1_R2_R3-nli_8_16_1_98765_test.xlsx',\n",
              " '/content/drive/MyDrive/Colab Notebooks/natural-logic/june12/randomseed/june17th/roberta-large-snli_mnli_fever_anli_R1_R2_R3-nli-june17th/five_roberta-large-snli_mnli_fever_anli_R1_R2_R3-nli_8_16_2_12345_test.xlsx',\n",
              " '/content/drive/MyDrive/Colab Notebooks/natural-logic/june12/randomseed/june17th/roberta-large-snli_mnli_fever_anli_R1_R2_R3-nli-june17th/five_roberta-large-snli_mnli_fever_anli_R1_R2_R3-nli_8_16_2_34567_test.xlsx',\n",
              " '/content/drive/MyDrive/Colab Notebooks/natural-logic/june12/randomseed/june17th/roberta-large-snli_mnli_fever_anli_R1_R2_R3-nli-june17th/five_roberta-large-snli_mnli_fever_anli_R1_R2_R3-nli_8_16_2_56789_test.xlsx',\n",
              " '/content/drive/MyDrive/Colab Notebooks/natural-logic/june12/randomseed/june17th/roberta-large-snli_mnli_fever_anli_R1_R2_R3-nli-june17th/five_roberta-large-snli_mnli_fever_anli_R1_R2_R3-nli_8_16_2_76543_test.xlsx',\n",
              " '/content/drive/MyDrive/Colab Notebooks/natural-logic/june12/randomseed/june17th/roberta-large-snli_mnli_fever_anli_R1_R2_R3-nli-june17th/five_roberta-large-snli_mnli_fever_anli_R1_R2_R3-nli_8_16_2_98765_test.xlsx',\n",
              " '/content/drive/MyDrive/Colab Notebooks/natural-logic/june12/randomseed/june17th/roberta-large-snli_mnli_fever_anli_R1_R2_R3-nli-june17th/five_roberta-large-snli_mnli_fever_anli_R1_R2_R3-nli_8_16_3_12345_test.xlsx',\n",
              " '/content/drive/MyDrive/Colab Notebooks/natural-logic/june12/randomseed/june17th/roberta-large-snli_mnli_fever_anli_R1_R2_R3-nli-june17th/five_roberta-large-snli_mnli_fever_anli_R1_R2_R3-nli_8_16_3_34567_test.xlsx',\n",
              " '/content/drive/MyDrive/Colab Notebooks/natural-logic/june12/randomseed/june17th/roberta-large-snli_mnli_fever_anli_R1_R2_R3-nli-june17th/five_roberta-large-snli_mnli_fever_anli_R1_R2_R3-nli_8_16_3_56789_test.xlsx',\n",
              " '/content/drive/MyDrive/Colab Notebooks/natural-logic/june12/randomseed/june17th/roberta-large-snli_mnli_fever_anli_R1_R2_R3-nli-june17th/five_roberta-large-snli_mnli_fever_anli_R1_R2_R3-nli_8_16_3_76543_test.xlsx',\n",
              " '/content/drive/MyDrive/Colab Notebooks/natural-logic/june12/randomseed/june17th/roberta-large-snli_mnli_fever_anli_R1_R2_R3-nli-june17th/five_roberta-large-snli_mnli_fever_anli_R1_R2_R3-nli_8_16_3_98765_test.xlsx',\n",
              " '/content/drive/MyDrive/Colab Notebooks/natural-logic/june12/randomseed/june17th/roberta-large-snli_mnli_fever_anli_R1_R2_R3-nli-june17th/five_roberta-large-snli_mnli_fever_anli_R1_R2_R3-nli_8_16_4_12345_test.xlsx',\n",
              " '/content/drive/MyDrive/Colab Notebooks/natural-logic/june12/randomseed/june17th/roberta-large-snli_mnli_fever_anli_R1_R2_R3-nli-june17th/five_roberta-large-snli_mnli_fever_anli_R1_R2_R3-nli_8_16_4_34567_test.xlsx',\n",
              " '/content/drive/MyDrive/Colab Notebooks/natural-logic/june12/randomseed/june17th/roberta-large-snli_mnli_fever_anli_R1_R2_R3-nli-june17th/five_roberta-large-snli_mnli_fever_anli_R1_R2_R3-nli_8_16_4_56789_test.xlsx',\n",
              " '/content/drive/MyDrive/Colab Notebooks/natural-logic/june12/randomseed/june17th/roberta-large-snli_mnli_fever_anli_R1_R2_R3-nli-june17th/five_roberta-large-snli_mnli_fever_anli_R1_R2_R3-nli_8_16_4_76543_test.xlsx',\n",
              " '/content/drive/MyDrive/Colab Notebooks/natural-logic/june12/randomseed/june17th/roberta-large-snli_mnli_fever_anli_R1_R2_R3-nli-june17th/five_roberta-large-snli_mnli_fever_anli_R1_R2_R3-nli_8_16_4_98765_test.xlsx',\n",
              " '/content/drive/MyDrive/Colab Notebooks/natural-logic/june12/randomseed/june17th/roberta-large-snli_mnli_fever_anli_R1_R2_R3-nli-june17th/five_roberta-large-snli_mnli_fever_anli_R1_R2_R3-nli_8_32_0_12345_test.xlsx',\n",
              " '/content/drive/MyDrive/Colab Notebooks/natural-logic/june12/randomseed/june17th/roberta-large-snli_mnli_fever_anli_R1_R2_R3-nli-june17th/five_roberta-large-snli_mnli_fever_anli_R1_R2_R3-nli_8_32_0_34567_test.xlsx',\n",
              " '/content/drive/MyDrive/Colab Notebooks/natural-logic/june12/randomseed/june17th/roberta-large-snli_mnli_fever_anli_R1_R2_R3-nli-june17th/five_roberta-large-snli_mnli_fever_anli_R1_R2_R3-nli_8_32_0_56789_test.xlsx',\n",
              " '/content/drive/MyDrive/Colab Notebooks/natural-logic/june12/randomseed/june17th/roberta-large-snli_mnli_fever_anli_R1_R2_R3-nli-june17th/five_roberta-large-snli_mnli_fever_anli_R1_R2_R3-nli_8_32_0_76543_test.xlsx',\n",
              " '/content/drive/MyDrive/Colab Notebooks/natural-logic/june12/randomseed/june17th/roberta-large-snli_mnli_fever_anli_R1_R2_R3-nli-june17th/five_roberta-large-snli_mnli_fever_anli_R1_R2_R3-nli_8_32_0_98765_test.xlsx',\n",
              " '/content/drive/MyDrive/Colab Notebooks/natural-logic/june12/randomseed/june17th/roberta-large-snli_mnli_fever_anli_R1_R2_R3-nli-june17th/five_roberta-large-snli_mnli_fever_anli_R1_R2_R3-nli_8_32_1_12345_test.xlsx',\n",
              " '/content/drive/MyDrive/Colab Notebooks/natural-logic/june12/randomseed/june17th/roberta-large-snli_mnli_fever_anli_R1_R2_R3-nli-june17th/five_roberta-large-snli_mnli_fever_anli_R1_R2_R3-nli_8_32_1_34567_test.xlsx',\n",
              " '/content/drive/MyDrive/Colab Notebooks/natural-logic/june12/randomseed/june17th/roberta-large-snli_mnli_fever_anli_R1_R2_R3-nli-june17th/five_roberta-large-snli_mnli_fever_anli_R1_R2_R3-nli_8_32_1_56789_test.xlsx',\n",
              " '/content/drive/MyDrive/Colab Notebooks/natural-logic/june12/randomseed/june17th/roberta-large-snli_mnli_fever_anli_R1_R2_R3-nli-june17th/five_roberta-large-snli_mnli_fever_anli_R1_R2_R3-nli_8_32_1_76543_test.xlsx',\n",
              " '/content/drive/MyDrive/Colab Notebooks/natural-logic/june12/randomseed/june17th/roberta-large-snli_mnli_fever_anli_R1_R2_R3-nli-june17th/five_roberta-large-snli_mnli_fever_anli_R1_R2_R3-nli_8_32_1_98765_test.xlsx',\n",
              " '/content/drive/MyDrive/Colab Notebooks/natural-logic/june12/randomseed/june17th/roberta-large-snli_mnli_fever_anli_R1_R2_R3-nli-june17th/five_roberta-large-snli_mnli_fever_anli_R1_R2_R3-nli_8_32_2_12345_test.xlsx',\n",
              " '/content/drive/MyDrive/Colab Notebooks/natural-logic/june12/randomseed/june17th/roberta-large-snli_mnli_fever_anli_R1_R2_R3-nli-june17th/five_roberta-large-snli_mnli_fever_anli_R1_R2_R3-nli_8_32_2_34567_test.xlsx',\n",
              " '/content/drive/MyDrive/Colab Notebooks/natural-logic/june12/randomseed/june17th/roberta-large-snli_mnli_fever_anli_R1_R2_R3-nli-june17th/five_roberta-large-snli_mnli_fever_anli_R1_R2_R3-nli_8_32_2_56789_test.xlsx',\n",
              " '/content/drive/MyDrive/Colab Notebooks/natural-logic/june12/randomseed/june17th/roberta-large-snli_mnli_fever_anli_R1_R2_R3-nli-june17th/five_roberta-large-snli_mnli_fever_anli_R1_R2_R3-nli_8_32_2_76543_test.xlsx',\n",
              " '/content/drive/MyDrive/Colab Notebooks/natural-logic/june12/randomseed/june17th/roberta-large-snli_mnli_fever_anli_R1_R2_R3-nli-june17th/five_roberta-large-snli_mnli_fever_anli_R1_R2_R3-nli_8_32_2_98765_test.xlsx',\n",
              " '/content/drive/MyDrive/Colab Notebooks/natural-logic/june12/randomseed/june17th/roberta-large-snli_mnli_fever_anli_R1_R2_R3-nli-june17th/five_roberta-large-snli_mnli_fever_anli_R1_R2_R3-nli_8_32_3_12345_test.xlsx',\n",
              " '/content/drive/MyDrive/Colab Notebooks/natural-logic/june12/randomseed/june17th/roberta-large-snli_mnli_fever_anli_R1_R2_R3-nli-june17th/five_roberta-large-snli_mnli_fever_anli_R1_R2_R3-nli_8_32_3_34567_test.xlsx',\n",
              " '/content/drive/MyDrive/Colab Notebooks/natural-logic/june12/randomseed/june17th/roberta-large-snli_mnli_fever_anli_R1_R2_R3-nli-june17th/five_roberta-large-snli_mnli_fever_anli_R1_R2_R3-nli_8_32_3_56789_test.xlsx',\n",
              " '/content/drive/MyDrive/Colab Notebooks/natural-logic/june12/randomseed/june17th/roberta-large-snli_mnli_fever_anli_R1_R2_R3-nli-june17th/five_roberta-large-snli_mnli_fever_anli_R1_R2_R3-nli_8_32_3_76543_test.xlsx',\n",
              " '/content/drive/MyDrive/Colab Notebooks/natural-logic/june12/randomseed/june17th/roberta-large-snli_mnli_fever_anli_R1_R2_R3-nli-june17th/five_roberta-large-snli_mnli_fever_anli_R1_R2_R3-nli_8_32_3_98765_test.xlsx',\n",
              " '/content/drive/MyDrive/Colab Notebooks/natural-logic/june12/randomseed/june17th/roberta-large-snli_mnli_fever_anli_R1_R2_R3-nli-june17th/five_roberta-large-snli_mnli_fever_anli_R1_R2_R3-nli_8_32_4_12345_test.xlsx',\n",
              " '/content/drive/MyDrive/Colab Notebooks/natural-logic/june12/randomseed/june17th/roberta-large-snli_mnli_fever_anli_R1_R2_R3-nli-june17th/five_roberta-large-snli_mnli_fever_anli_R1_R2_R3-nli_8_32_4_34567_test.xlsx',\n",
              " '/content/drive/MyDrive/Colab Notebooks/natural-logic/june12/randomseed/june17th/roberta-large-snli_mnli_fever_anli_R1_R2_R3-nli-june17th/five_roberta-large-snli_mnli_fever_anli_R1_R2_R3-nli_8_32_4_56789_test.xlsx',\n",
              " '/content/drive/MyDrive/Colab Notebooks/natural-logic/june12/randomseed/june17th/roberta-large-snli_mnli_fever_anli_R1_R2_R3-nli-june17th/five_roberta-large-snli_mnli_fever_anli_R1_R2_R3-nli_8_32_4_76543_test.xlsx',\n",
              " '/content/drive/MyDrive/Colab Notebooks/natural-logic/june12/randomseed/june17th/roberta-large-snli_mnli_fever_anli_R1_R2_R3-nli-june17th/five_roberta-large-snli_mnli_fever_anli_R1_R2_R3-nli_8_32_4_98765_test.xlsx',\n",
              " '/content/drive/MyDrive/Colab Notebooks/natural-logic/june12/randomseed/june17th/roberta-large-snli_mnli_fever_anli_R1_R2_R3-nli-june17th/five_roberta-large-snli_mnli_fever_anli_R1_R2_R3-nli_8_8_0_12345_test.xlsx',\n",
              " '/content/drive/MyDrive/Colab Notebooks/natural-logic/june12/randomseed/june17th/roberta-large-snli_mnli_fever_anli_R1_R2_R3-nli-june17th/five_roberta-large-snli_mnli_fever_anli_R1_R2_R3-nli_8_8_0_34567_test.xlsx',\n",
              " '/content/drive/MyDrive/Colab Notebooks/natural-logic/june12/randomseed/june17th/roberta-large-snli_mnli_fever_anli_R1_R2_R3-nli-june17th/five_roberta-large-snli_mnli_fever_anli_R1_R2_R3-nli_8_8_0_56789_test.xlsx',\n",
              " '/content/drive/MyDrive/Colab Notebooks/natural-logic/june12/randomseed/june17th/roberta-large-snli_mnli_fever_anli_R1_R2_R3-nli-june17th/five_roberta-large-snli_mnli_fever_anli_R1_R2_R3-nli_8_8_0_76543_test.xlsx',\n",
              " '/content/drive/MyDrive/Colab Notebooks/natural-logic/june12/randomseed/june17th/roberta-large-snli_mnli_fever_anli_R1_R2_R3-nli-june17th/five_roberta-large-snli_mnli_fever_anli_R1_R2_R3-nli_8_8_0_98765_test.xlsx',\n",
              " '/content/drive/MyDrive/Colab Notebooks/natural-logic/june12/randomseed/june17th/roberta-large-snli_mnli_fever_anli_R1_R2_R3-nli-june17th/five_roberta-large-snli_mnli_fever_anli_R1_R2_R3-nli_8_8_1_12345_test.xlsx',\n",
              " '/content/drive/MyDrive/Colab Notebooks/natural-logic/june12/randomseed/june17th/roberta-large-snli_mnli_fever_anli_R1_R2_R3-nli-june17th/five_roberta-large-snli_mnli_fever_anli_R1_R2_R3-nli_8_8_1_34567_test.xlsx',\n",
              " '/content/drive/MyDrive/Colab Notebooks/natural-logic/june12/randomseed/june17th/roberta-large-snli_mnli_fever_anli_R1_R2_R3-nli-june17th/five_roberta-large-snli_mnli_fever_anli_R1_R2_R3-nli_8_8_1_56789_test.xlsx',\n",
              " '/content/drive/MyDrive/Colab Notebooks/natural-logic/june12/randomseed/june17th/roberta-large-snli_mnli_fever_anli_R1_R2_R3-nli-june17th/five_roberta-large-snli_mnli_fever_anli_R1_R2_R3-nli_8_8_1_76543_test.xlsx',\n",
              " '/content/drive/MyDrive/Colab Notebooks/natural-logic/june12/randomseed/june17th/roberta-large-snli_mnli_fever_anli_R1_R2_R3-nli-june17th/five_roberta-large-snli_mnli_fever_anli_R1_R2_R3-nli_8_8_1_98765_test.xlsx',\n",
              " '/content/drive/MyDrive/Colab Notebooks/natural-logic/june12/randomseed/june17th/roberta-large-snli_mnli_fever_anli_R1_R2_R3-nli-june17th/five_roberta-large-snli_mnli_fever_anli_R1_R2_R3-nli_8_8_2_12345_test.xlsx',\n",
              " '/content/drive/MyDrive/Colab Notebooks/natural-logic/june12/randomseed/june17th/roberta-large-snli_mnli_fever_anli_R1_R2_R3-nli-june17th/five_roberta-large-snli_mnli_fever_anli_R1_R2_R3-nli_8_8_2_34567_test.xlsx',\n",
              " '/content/drive/MyDrive/Colab Notebooks/natural-logic/june12/randomseed/june17th/roberta-large-snli_mnli_fever_anli_R1_R2_R3-nli-june17th/five_roberta-large-snli_mnli_fever_anli_R1_R2_R3-nli_8_8_2_56789_test.xlsx',\n",
              " '/content/drive/MyDrive/Colab Notebooks/natural-logic/june12/randomseed/june17th/roberta-large-snli_mnli_fever_anli_R1_R2_R3-nli-june17th/five_roberta-large-snli_mnli_fever_anli_R1_R2_R3-nli_8_8_2_76543_test.xlsx',\n",
              " '/content/drive/MyDrive/Colab Notebooks/natural-logic/june12/randomseed/june17th/roberta-large-snli_mnli_fever_anli_R1_R2_R3-nli-june17th/five_roberta-large-snli_mnli_fever_anli_R1_R2_R3-nli_8_8_2_98765_test.xlsx',\n",
              " '/content/drive/MyDrive/Colab Notebooks/natural-logic/june12/randomseed/june17th/roberta-large-snli_mnli_fever_anli_R1_R2_R3-nli-june17th/five_roberta-large-snli_mnli_fever_anli_R1_R2_R3-nli_8_8_3_12345_test.xlsx',\n",
              " '/content/drive/MyDrive/Colab Notebooks/natural-logic/june12/randomseed/june17th/roberta-large-snli_mnli_fever_anli_R1_R2_R3-nli-june17th/five_roberta-large-snli_mnli_fever_anli_R1_R2_R3-nli_8_8_3_34567_test.xlsx',\n",
              " '/content/drive/MyDrive/Colab Notebooks/natural-logic/june12/randomseed/june17th/roberta-large-snli_mnli_fever_anli_R1_R2_R3-nli-june17th/five_roberta-large-snli_mnli_fever_anli_R1_R2_R3-nli_8_8_3_56789_test.xlsx',\n",
              " '/content/drive/MyDrive/Colab Notebooks/natural-logic/june12/randomseed/june17th/roberta-large-snli_mnli_fever_anli_R1_R2_R3-nli-june17th/five_roberta-large-snli_mnli_fever_anli_R1_R2_R3-nli_8_8_3_76543_test.xlsx',\n",
              " '/content/drive/MyDrive/Colab Notebooks/natural-logic/june12/randomseed/june17th/roberta-large-snli_mnli_fever_anli_R1_R2_R3-nli-june17th/five_roberta-large-snli_mnli_fever_anli_R1_R2_R3-nli_8_8_3_98765_test.xlsx',\n",
              " '/content/drive/MyDrive/Colab Notebooks/natural-logic/june12/randomseed/june17th/roberta-large-snli_mnli_fever_anli_R1_R2_R3-nli-june17th/five_roberta-large-snli_mnli_fever_anli_R1_R2_R3-nli_8_8_4_12345_test.xlsx',\n",
              " '/content/drive/MyDrive/Colab Notebooks/natural-logic/june12/randomseed/june17th/roberta-large-snli_mnli_fever_anli_R1_R2_R3-nli-june17th/five_roberta-large-snli_mnli_fever_anli_R1_R2_R3-nli_8_8_4_34567_test.xlsx',\n",
              " '/content/drive/MyDrive/Colab Notebooks/natural-logic/june12/randomseed/june17th/roberta-large-snli_mnli_fever_anli_R1_R2_R3-nli-june17th/five_roberta-large-snli_mnli_fever_anli_R1_R2_R3-nli_8_8_4_56789_test.xlsx',\n",
              " '/content/drive/MyDrive/Colab Notebooks/natural-logic/june12/randomseed/june17th/roberta-large-snli_mnli_fever_anli_R1_R2_R3-nli-june17th/five_roberta-large-snli_mnli_fever_anli_R1_R2_R3-nli_8_8_4_76543_test.xlsx',\n",
              " '/content/drive/MyDrive/Colab Notebooks/natural-logic/june12/randomseed/june17th/roberta-large-snli_mnli_fever_anli_R1_R2_R3-nli-june17th/five_roberta-large-snli_mnli_fever_anli_R1_R2_R3-nli_8_8_4_98765_test.xlsx']"
            ]
          },
          "metadata": {},
          "execution_count": 22
        }
      ]
    },
    {
      "cell_type": "code",
      "source": [],
      "metadata": {
        "id": "XuMls8-lnl7i"
      },
      "execution_count": null,
      "outputs": []
    },
    {
      "cell_type": "code",
      "source": [
        "count = 0\n",
        "for f1, f2 in zip(deberta_files_17, deberta_files_18):\n",
        "  # print(\",\".join(os.path.basename(f1)[25:].split(\"_\")[0:4]), \",\".join(os.path.basename(f2)[25:].split(\"_\")[0:4]))\n",
        "  if \",\".join(os.path.basename(f1)[25:].split(\"_\")[0:4]) == \",\".join(os.path.basename(f2)[25:].split(\"_\")[0:4]):\n",
        "    count += 1\n",
        "print(count, len(deberta_files_17), len(deberta_files_18))"
      ],
      "metadata": {
        "colab": {
          "base_uri": "https://localhost:8080/"
        },
        "id": "k2169LVWnGyl",
        "outputId": "0a5b8c1b-2b7f-4507-cfbb-f934c8afce95"
      },
      "execution_count": null,
      "outputs": [
        {
          "output_type": "stream",
          "name": "stdout",
          "text": [
            "150 150 150\n"
          ]
        }
      ]
    },
    {
      "cell_type": "code",
      "source": [
        "count = 0\n",
        "for f1, f2 in zip(roberta_files_17, roberta_files_18):\n",
        "  if \",\".join(os.path.basename(f1)[53:].split(\"_\")[0:4]) == \",\".join(os.path.basename(f2)[53:].split(\"_\")[0:4]):\n",
        "    count += 1\n",
        "print(count, len(roberta_files_17), len(roberta_files_18))"
      ],
      "metadata": {
        "colab": {
          "base_uri": "https://localhost:8080/"
        },
        "id": "yYQhd22FnzbU",
        "outputId": "3d1e7068-263e-41c9-b36b-2c3d7a34ac9f"
      },
      "execution_count": null,
      "outputs": [
        {
          "output_type": "stream",
          "name": "stdout",
          "text": [
            "150 150 150\n"
          ]
        }
      ]
    },
    {
      "cell_type": "markdown",
      "source": [
        "# Extrinsic Comparison : Same seed, and Same-everything-else\n",
        "### Compare prediction labels between each of **same** epochs, **same** batch_size, **same** fold no. and **same** seed between June 17th results and June 18th results\n",
        "\n",
        "## Expected results\n",
        "#### results between june 17th and 18th should have been same as per replicability.\n",
        "\n",
        "## Actual results\n",
        "#### results different between june 17th and 18th are **not** same against the expected replicability."
      ],
      "metadata": {
        "id": "Ot7KIXh1rhot"
      }
    },
    {
      "cell_type": "markdown",
      "source": [
        "### Roberta"
      ],
      "metadata": {
        "id": "hEg_9HkmsoHR"
      }
    },
    {
      "cell_type": "code",
      "source": [
        "count = 0\n",
        "for f1, f2 in zip(roberta_files_17, roberta_files_18):\n",
        "  if \",\".join(os.path.basename(f1)[53:].split(\"_\")[0:4]) == \",\".join(os.path.basename(f2)[53:].split(\"_\")[0:4]):\n",
        "    # print(f1, f2)\n",
        "    l1 = pd.read_csv(f1)['pred_labels']\n",
        "    l2 = pd.read_csv(f2)['pred_labels']\n",
        "    res = \"equal\" if l1.equals(other=l2) else \"not equal\"\n",
        "    count += 1 if res == \"equal\" else 0\n",
        "    print(\"For this epochs, batch_size, fold # and seed %s the labels are %s \"%(\",\".join(os.path.basename(f1)[53:].split(\"_\")[0:4]), res ))\n",
        "print(\"# of files between which prediction labels were equal are %d \"%count)"
      ],
      "metadata": {
        "colab": {
          "base_uri": "https://localhost:8080/"
        },
        "id": "nBa8-NIpoWjQ",
        "outputId": "1ad5ad15-e798-4b2f-bafb-268d83190626"
      },
      "execution_count": null,
      "outputs": [
        {
          "output_type": "stream",
          "name": "stdout",
          "text": [
            "For this epochs, batch_size, fold # and seed 4,8,0,12345 the labels are equal \n",
            "For this epochs, batch_size, fold # and seed 4,8,1,12345 the labels are equal \n",
            "For this epochs, batch_size, fold # and seed 4,8,2,12345 the labels are equal \n",
            "For this epochs, batch_size, fold # and seed 4,8,3,12345 the labels are equal \n",
            "For this epochs, batch_size, fold # and seed 4,8,4,12345 the labels are equal \n",
            "For this epochs, batch_size, fold # and seed 4,16,0,12345 the labels are equal \n",
            "For this epochs, batch_size, fold # and seed 4,16,1,12345 the labels are equal \n",
            "For this epochs, batch_size, fold # and seed 4,16,2,12345 the labels are equal \n",
            "For this epochs, batch_size, fold # and seed 4,16,3,12345 the labels are equal \n",
            "For this epochs, batch_size, fold # and seed 4,16,4,12345 the labels are equal \n",
            "For this epochs, batch_size, fold # and seed 4,32,0,12345 the labels are equal \n",
            "For this epochs, batch_size, fold # and seed 4,32,1,12345 the labels are equal \n",
            "For this epochs, batch_size, fold # and seed 4,32,2,12345 the labels are equal \n",
            "For this epochs, batch_size, fold # and seed 4,32,3,12345 the labels are equal \n",
            "For this epochs, batch_size, fold # and seed 4,32,4,12345 the labels are equal \n",
            "For this epochs, batch_size, fold # and seed 8,8,0,12345 the labels are equal \n",
            "For this epochs, batch_size, fold # and seed 8,8,1,12345 the labels are equal \n",
            "For this epochs, batch_size, fold # and seed 8,8,2,12345 the labels are equal \n",
            "For this epochs, batch_size, fold # and seed 8,8,3,12345 the labels are equal \n",
            "For this epochs, batch_size, fold # and seed 8,8,4,12345 the labels are equal \n",
            "For this epochs, batch_size, fold # and seed 8,16,0,12345 the labels are equal \n",
            "For this epochs, batch_size, fold # and seed 8,16,1,12345 the labels are equal \n",
            "For this epochs, batch_size, fold # and seed 8,16,2,12345 the labels are equal \n",
            "For this epochs, batch_size, fold # and seed 8,16,3,12345 the labels are equal \n",
            "For this epochs, batch_size, fold # and seed 8,16,4,12345 the labels are equal \n",
            "For this epochs, batch_size, fold # and seed 8,32,0,12345 the labels are equal \n",
            "For this epochs, batch_size, fold # and seed 8,32,1,12345 the labels are equal \n",
            "For this epochs, batch_size, fold # and seed 8,32,2,12345 the labels are equal \n",
            "For this epochs, batch_size, fold # and seed 8,32,3,12345 the labels are equal \n",
            "For this epochs, batch_size, fold # and seed 8,32,4,12345 the labels are equal \n",
            "For this epochs, batch_size, fold # and seed 4,8,0,34567 the labels are equal \n",
            "For this epochs, batch_size, fold # and seed 4,8,1,34567 the labels are equal \n",
            "For this epochs, batch_size, fold # and seed 4,8,2,34567 the labels are equal \n",
            "For this epochs, batch_size, fold # and seed 4,8,3,34567 the labels are equal \n",
            "For this epochs, batch_size, fold # and seed 4,8,4,34567 the labels are equal \n",
            "For this epochs, batch_size, fold # and seed 4,16,0,34567 the labels are equal \n",
            "For this epochs, batch_size, fold # and seed 4,16,1,34567 the labels are equal \n",
            "For this epochs, batch_size, fold # and seed 4,16,2,34567 the labels are equal \n",
            "For this epochs, batch_size, fold # and seed 4,16,3,34567 the labels are equal \n",
            "For this epochs, batch_size, fold # and seed 4,16,4,34567 the labels are equal \n",
            "For this epochs, batch_size, fold # and seed 4,32,0,34567 the labels are equal \n",
            "For this epochs, batch_size, fold # and seed 4,32,1,34567 the labels are equal \n",
            "For this epochs, batch_size, fold # and seed 4,32,2,34567 the labels are equal \n",
            "For this epochs, batch_size, fold # and seed 4,32,3,34567 the labels are equal \n",
            "For this epochs, batch_size, fold # and seed 4,32,4,34567 the labels are equal \n",
            "For this epochs, batch_size, fold # and seed 8,8,0,34567 the labels are equal \n",
            "For this epochs, batch_size, fold # and seed 8,8,1,34567 the labels are equal \n",
            "For this epochs, batch_size, fold # and seed 8,8,2,34567 the labels are equal \n",
            "For this epochs, batch_size, fold # and seed 8,8,3,34567 the labels are equal \n",
            "For this epochs, batch_size, fold # and seed 8,8,4,34567 the labels are equal \n",
            "For this epochs, batch_size, fold # and seed 8,16,0,34567 the labels are equal \n",
            "For this epochs, batch_size, fold # and seed 8,16,1,34567 the labels are equal \n",
            "For this epochs, batch_size, fold # and seed 8,16,2,34567 the labels are equal \n",
            "For this epochs, batch_size, fold # and seed 8,16,3,34567 the labels are equal \n",
            "For this epochs, batch_size, fold # and seed 8,16,4,34567 the labels are equal \n",
            "For this epochs, batch_size, fold # and seed 8,32,0,34567 the labels are equal \n",
            "For this epochs, batch_size, fold # and seed 8,32,1,34567 the labels are equal \n",
            "For this epochs, batch_size, fold # and seed 8,32,2,34567 the labels are equal \n",
            "For this epochs, batch_size, fold # and seed 8,32,3,34567 the labels are equal \n",
            "For this epochs, batch_size, fold # and seed 8,32,4,34567 the labels are equal \n",
            "For this epochs, batch_size, fold # and seed 4,8,0,56789 the labels are equal \n",
            "For this epochs, batch_size, fold # and seed 4,8,1,56789 the labels are equal \n",
            "For this epochs, batch_size, fold # and seed 4,8,2,56789 the labels are equal \n",
            "For this epochs, batch_size, fold # and seed 4,8,3,56789 the labels are equal \n",
            "For this epochs, batch_size, fold # and seed 4,8,4,56789 the labels are equal \n",
            "For this epochs, batch_size, fold # and seed 4,16,0,56789 the labels are equal \n",
            "For this epochs, batch_size, fold # and seed 4,16,1,56789 the labels are equal \n",
            "For this epochs, batch_size, fold # and seed 4,16,2,56789 the labels are equal \n",
            "For this epochs, batch_size, fold # and seed 4,16,3,56789 the labels are equal \n",
            "For this epochs, batch_size, fold # and seed 4,16,4,56789 the labels are equal \n",
            "For this epochs, batch_size, fold # and seed 4,32,0,56789 the labels are equal \n",
            "For this epochs, batch_size, fold # and seed 4,32,1,56789 the labels are equal \n",
            "For this epochs, batch_size, fold # and seed 4,32,2,56789 the labels are equal \n",
            "For this epochs, batch_size, fold # and seed 4,32,3,56789 the labels are equal \n",
            "For this epochs, batch_size, fold # and seed 4,32,4,56789 the labels are equal \n",
            "For this epochs, batch_size, fold # and seed 8,8,0,56789 the labels are equal \n",
            "For this epochs, batch_size, fold # and seed 8,8,1,56789 the labels are equal \n",
            "For this epochs, batch_size, fold # and seed 8,8,2,56789 the labels are equal \n",
            "For this epochs, batch_size, fold # and seed 8,8,3,56789 the labels are equal \n",
            "For this epochs, batch_size, fold # and seed 8,8,4,56789 the labels are equal \n",
            "For this epochs, batch_size, fold # and seed 8,16,0,56789 the labels are equal \n",
            "For this epochs, batch_size, fold # and seed 8,16,1,56789 the labels are equal \n",
            "For this epochs, batch_size, fold # and seed 8,16,2,56789 the labels are equal \n",
            "For this epochs, batch_size, fold # and seed 8,16,3,56789 the labels are equal \n",
            "For this epochs, batch_size, fold # and seed 8,16,4,56789 the labels are equal \n",
            "For this epochs, batch_size, fold # and seed 8,32,0,56789 the labels are equal \n",
            "For this epochs, batch_size, fold # and seed 8,32,1,56789 the labels are equal \n",
            "For this epochs, batch_size, fold # and seed 8,32,2,56789 the labels are equal \n",
            "For this epochs, batch_size, fold # and seed 8,32,3,56789 the labels are equal \n",
            "For this epochs, batch_size, fold # and seed 8,32,4,56789 the labels are equal \n",
            "For this epochs, batch_size, fold # and seed 4,8,0,98765 the labels are equal \n",
            "For this epochs, batch_size, fold # and seed 4,8,1,98765 the labels are equal \n",
            "For this epochs, batch_size, fold # and seed 4,8,2,98765 the labels are equal \n",
            "For this epochs, batch_size, fold # and seed 4,8,3,98765 the labels are equal \n",
            "For this epochs, batch_size, fold # and seed 4,8,4,98765 the labels are equal \n",
            "For this epochs, batch_size, fold # and seed 4,16,0,98765 the labels are equal \n",
            "For this epochs, batch_size, fold # and seed 4,16,1,98765 the labels are equal \n",
            "For this epochs, batch_size, fold # and seed 4,16,2,98765 the labels are equal \n",
            "For this epochs, batch_size, fold # and seed 4,16,3,98765 the labels are equal \n",
            "For this epochs, batch_size, fold # and seed 4,16,4,98765 the labels are equal \n",
            "For this epochs, batch_size, fold # and seed 4,32,0,98765 the labels are equal \n",
            "For this epochs, batch_size, fold # and seed 4,32,1,98765 the labels are equal \n",
            "For this epochs, batch_size, fold # and seed 4,32,2,98765 the labels are equal \n",
            "For this epochs, batch_size, fold # and seed 4,32,3,98765 the labels are equal \n",
            "For this epochs, batch_size, fold # and seed 4,32,4,98765 the labels are equal \n",
            "For this epochs, batch_size, fold # and seed 8,8,0,98765 the labels are equal \n",
            "For this epochs, batch_size, fold # and seed 8,8,1,98765 the labels are equal \n",
            "For this epochs, batch_size, fold # and seed 8,8,2,98765 the labels are equal \n",
            "For this epochs, batch_size, fold # and seed 8,8,3,98765 the labels are equal \n",
            "For this epochs, batch_size, fold # and seed 8,8,4,98765 the labels are equal \n",
            "For this epochs, batch_size, fold # and seed 8,16,0,98765 the labels are equal \n",
            "For this epochs, batch_size, fold # and seed 8,16,1,98765 the labels are equal \n",
            "For this epochs, batch_size, fold # and seed 8,16,2,98765 the labels are equal \n",
            "For this epochs, batch_size, fold # and seed 8,16,3,98765 the labels are equal \n",
            "For this epochs, batch_size, fold # and seed 8,16,4,98765 the labels are equal \n",
            "For this epochs, batch_size, fold # and seed 8,32,0,98765 the labels are equal \n",
            "For this epochs, batch_size, fold # and seed 8,32,1,98765 the labels are equal \n",
            "For this epochs, batch_size, fold # and seed 8,32,2,98765 the labels are equal \n",
            "For this epochs, batch_size, fold # and seed 8,32,3,98765 the labels are equal \n",
            "For this epochs, batch_size, fold # and seed 8,32,4,98765 the labels are equal \n",
            "For this epochs, batch_size, fold # and seed 4,8,0,76543 the labels are equal \n",
            "For this epochs, batch_size, fold # and seed 4,8,1,76543 the labels are equal \n",
            "For this epochs, batch_size, fold # and seed 4,8,2,76543 the labels are equal \n",
            "For this epochs, batch_size, fold # and seed 4,8,3,76543 the labels are equal \n",
            "For this epochs, batch_size, fold # and seed 4,8,4,76543 the labels are equal \n",
            "For this epochs, batch_size, fold # and seed 4,16,0,76543 the labels are equal \n",
            "For this epochs, batch_size, fold # and seed 4,16,1,76543 the labels are equal \n",
            "For this epochs, batch_size, fold # and seed 4,16,2,76543 the labels are equal \n",
            "For this epochs, batch_size, fold # and seed 4,16,3,76543 the labels are equal \n",
            "For this epochs, batch_size, fold # and seed 4,16,4,76543 the labels are equal \n",
            "For this epochs, batch_size, fold # and seed 4,32,0,76543 the labels are equal \n",
            "For this epochs, batch_size, fold # and seed 4,32,1,76543 the labels are equal \n",
            "For this epochs, batch_size, fold # and seed 4,32,2,76543 the labels are equal \n",
            "For this epochs, batch_size, fold # and seed 4,32,3,76543 the labels are equal \n",
            "For this epochs, batch_size, fold # and seed 4,32,4,76543 the labels are equal \n",
            "For this epochs, batch_size, fold # and seed 8,8,0,76543 the labels are equal \n",
            "For this epochs, batch_size, fold # and seed 8,8,1,76543 the labels are equal \n",
            "For this epochs, batch_size, fold # and seed 8,8,2,76543 the labels are equal \n",
            "For this epochs, batch_size, fold # and seed 8,8,3,76543 the labels are equal \n",
            "For this epochs, batch_size, fold # and seed 8,8,4,76543 the labels are equal \n",
            "For this epochs, batch_size, fold # and seed 8,16,0,76543 the labels are equal \n",
            "For this epochs, batch_size, fold # and seed 8,16,1,76543 the labels are equal \n",
            "For this epochs, batch_size, fold # and seed 8,16,2,76543 the labels are equal \n",
            "For this epochs, batch_size, fold # and seed 8,16,3,76543 the labels are equal \n",
            "For this epochs, batch_size, fold # and seed 8,16,4,76543 the labels are equal \n",
            "For this epochs, batch_size, fold # and seed 8,32,0,76543 the labels are equal \n",
            "For this epochs, batch_size, fold # and seed 8,32,1,76543 the labels are equal \n",
            "For this epochs, batch_size, fold # and seed 8,32,2,76543 the labels are equal \n",
            "For this epochs, batch_size, fold # and seed 8,32,3,76543 the labels are equal \n",
            "For this epochs, batch_size, fold # and seed 8,32,4,76543 the labels are equal \n",
            "# of files between which prediction labels were equal are 150 \n"
          ]
        }
      ]
    },
    {
      "cell_type": "code",
      "source": [
        "print(\"For each epochs, batch_size, fold # and seed results between two pairs of files, the # of files between which prediction labels were equal are %d \"%count)"
      ],
      "metadata": {
        "colab": {
          "base_uri": "https://localhost:8080/"
        },
        "id": "lZ4eqf4RsYpE",
        "outputId": "bc4ced1e-5f1f-43ba-c379-46df2941f62a"
      },
      "execution_count": null,
      "outputs": [
        {
          "output_type": "stream",
          "name": "stdout",
          "text": [
            "For each epochs, batch_size, fold # and seed results between two pairs of files, the # of files between which prediction labels were equal are 150 \n"
          ]
        }
      ]
    },
    {
      "cell_type": "markdown",
      "source": [
        "### Deberta"
      ],
      "metadata": {
        "id": "-Zjrk8Zjs3Wn"
      }
    },
    {
      "cell_type": "code",
      "source": [
        "count = 0\n",
        "for f1, f2 in zip(deberta_files_17, deberta_files_18):\n",
        "  if \",\".join(os.path.basename(f1)[25:].split(\"_\")[0:4]) == \",\".join(os.path.basename(f2)[25:].split(\"_\")[0:4]):\n",
        "    # print(f1, f2)\n",
        "    l1 = pd.read_csv(f1)['pred_labels']\n",
        "    l2 = pd.read_csv(f2)['pred_labels']\n",
        "    res = \"equal\" if l1.equals(other=l2) else \"not equal\"\n",
        "    count += 1 if res == \"equal\" else 0\n",
        "    print(\"For this epochs, batch_size, fold # and seed %s the labels are %s \"%(\",\".join(os.path.basename(f1)[25:].split(\"_\")[0:4]), res ))\n",
        "print(\"# of files between which prediction labels were equal are %d \"%count)"
      ],
      "metadata": {
        "colab": {
          "base_uri": "https://localhost:8080/"
        },
        "outputId": "e6034794-9bfb-4b62-e3db-c56e48f373df",
        "id": "Lpm59Ad4s1PZ"
      },
      "execution_count": null,
      "outputs": [
        {
          "output_type": "stream",
          "name": "stdout",
          "text": [
            "For this epochs, batch_size, fold # and seed 4,8,0,12345 the labels are equal \n",
            "For this epochs, batch_size, fold # and seed 4,8,1,12345 the labels are equal \n",
            "For this epochs, batch_size, fold # and seed 4,8,2,12345 the labels are equal \n",
            "For this epochs, batch_size, fold # and seed 4,8,3,12345 the labels are equal \n",
            "For this epochs, batch_size, fold # and seed 4,8,4,12345 the labels are equal \n",
            "For this epochs, batch_size, fold # and seed 4,16,0,12345 the labels are equal \n",
            "For this epochs, batch_size, fold # and seed 4,16,1,12345 the labels are equal \n",
            "For this epochs, batch_size, fold # and seed 4,16,2,12345 the labels are equal \n",
            "For this epochs, batch_size, fold # and seed 4,16,3,12345 the labels are equal \n",
            "For this epochs, batch_size, fold # and seed 4,16,4,12345 the labels are equal \n",
            "For this epochs, batch_size, fold # and seed 4,32,0,12345 the labels are equal \n",
            "For this epochs, batch_size, fold # and seed 4,32,1,12345 the labels are equal \n",
            "For this epochs, batch_size, fold # and seed 4,32,2,12345 the labels are equal \n",
            "For this epochs, batch_size, fold # and seed 4,32,3,12345 the labels are equal \n",
            "For this epochs, batch_size, fold # and seed 4,32,4,12345 the labels are equal \n",
            "For this epochs, batch_size, fold # and seed 8,8,0,12345 the labels are equal \n",
            "For this epochs, batch_size, fold # and seed 8,8,1,12345 the labels are equal \n",
            "For this epochs, batch_size, fold # and seed 8,8,2,12345 the labels are equal \n",
            "For this epochs, batch_size, fold # and seed 8,8,3,12345 the labels are equal \n",
            "For this epochs, batch_size, fold # and seed 8,8,4,12345 the labels are equal \n",
            "For this epochs, batch_size, fold # and seed 8,16,0,12345 the labels are equal \n",
            "For this epochs, batch_size, fold # and seed 8,16,1,12345 the labels are equal \n",
            "For this epochs, batch_size, fold # and seed 8,16,2,12345 the labels are equal \n",
            "For this epochs, batch_size, fold # and seed 8,16,3,12345 the labels are equal \n",
            "For this epochs, batch_size, fold # and seed 8,16,4,12345 the labels are equal \n",
            "For this epochs, batch_size, fold # and seed 8,32,0,12345 the labels are equal \n",
            "For this epochs, batch_size, fold # and seed 8,32,1,12345 the labels are equal \n",
            "For this epochs, batch_size, fold # and seed 8,32,2,12345 the labels are equal \n",
            "For this epochs, batch_size, fold # and seed 8,32,3,12345 the labels are equal \n",
            "For this epochs, batch_size, fold # and seed 8,32,4,12345 the labels are equal \n",
            "For this epochs, batch_size, fold # and seed 4,8,0,34567 the labels are equal \n",
            "For this epochs, batch_size, fold # and seed 4,8,1,34567 the labels are equal \n",
            "For this epochs, batch_size, fold # and seed 4,8,2,34567 the labels are equal \n",
            "For this epochs, batch_size, fold # and seed 4,8,3,34567 the labels are equal \n",
            "For this epochs, batch_size, fold # and seed 4,8,4,34567 the labels are equal \n",
            "For this epochs, batch_size, fold # and seed 4,16,0,34567 the labels are equal \n",
            "For this epochs, batch_size, fold # and seed 4,16,1,34567 the labels are equal \n",
            "For this epochs, batch_size, fold # and seed 4,16,2,34567 the labels are equal \n",
            "For this epochs, batch_size, fold # and seed 4,16,3,34567 the labels are equal \n",
            "For this epochs, batch_size, fold # and seed 4,16,4,34567 the labels are equal \n",
            "For this epochs, batch_size, fold # and seed 4,32,0,34567 the labels are equal \n",
            "For this epochs, batch_size, fold # and seed 4,32,1,34567 the labels are equal \n",
            "For this epochs, batch_size, fold # and seed 4,32,2,34567 the labels are equal \n",
            "For this epochs, batch_size, fold # and seed 4,32,3,34567 the labels are equal \n",
            "For this epochs, batch_size, fold # and seed 4,32,4,34567 the labels are equal \n",
            "For this epochs, batch_size, fold # and seed 8,8,0,34567 the labels are equal \n",
            "For this epochs, batch_size, fold # and seed 8,8,1,34567 the labels are equal \n",
            "For this epochs, batch_size, fold # and seed 8,8,2,34567 the labels are equal \n",
            "For this epochs, batch_size, fold # and seed 8,8,3,34567 the labels are equal \n",
            "For this epochs, batch_size, fold # and seed 8,8,4,34567 the labels are equal \n",
            "For this epochs, batch_size, fold # and seed 8,16,0,34567 the labels are equal \n",
            "For this epochs, batch_size, fold # and seed 8,16,1,34567 the labels are equal \n",
            "For this epochs, batch_size, fold # and seed 8,16,2,34567 the labels are equal \n",
            "For this epochs, batch_size, fold # and seed 8,16,3,34567 the labels are equal \n",
            "For this epochs, batch_size, fold # and seed 8,16,4,34567 the labels are equal \n",
            "For this epochs, batch_size, fold # and seed 8,32,0,34567 the labels are equal \n",
            "For this epochs, batch_size, fold # and seed 8,32,1,34567 the labels are equal \n",
            "For this epochs, batch_size, fold # and seed 8,32,2,34567 the labels are equal \n",
            "For this epochs, batch_size, fold # and seed 8,32,3,34567 the labels are equal \n",
            "For this epochs, batch_size, fold # and seed 8,32,4,34567 the labels are equal \n",
            "For this epochs, batch_size, fold # and seed 4,8,0,56789 the labels are equal \n",
            "For this epochs, batch_size, fold # and seed 4,8,1,56789 the labels are equal \n",
            "For this epochs, batch_size, fold # and seed 4,8,2,56789 the labels are equal \n",
            "For this epochs, batch_size, fold # and seed 4,8,3,56789 the labels are equal \n",
            "For this epochs, batch_size, fold # and seed 4,8,4,56789 the labels are equal \n",
            "For this epochs, batch_size, fold # and seed 4,16,0,56789 the labels are equal \n",
            "For this epochs, batch_size, fold # and seed 4,16,1,56789 the labels are equal \n",
            "For this epochs, batch_size, fold # and seed 4,16,2,56789 the labels are equal \n",
            "For this epochs, batch_size, fold # and seed 4,16,3,56789 the labels are equal \n",
            "For this epochs, batch_size, fold # and seed 4,16,4,56789 the labels are equal \n",
            "For this epochs, batch_size, fold # and seed 4,32,0,56789 the labels are equal \n",
            "For this epochs, batch_size, fold # and seed 4,32,1,56789 the labels are equal \n",
            "For this epochs, batch_size, fold # and seed 4,32,2,56789 the labels are equal \n",
            "For this epochs, batch_size, fold # and seed 4,32,3,56789 the labels are equal \n",
            "For this epochs, batch_size, fold # and seed 4,32,4,56789 the labels are equal \n",
            "For this epochs, batch_size, fold # and seed 8,8,0,56789 the labels are equal \n",
            "For this epochs, batch_size, fold # and seed 8,8,1,56789 the labels are equal \n",
            "For this epochs, batch_size, fold # and seed 8,8,2,56789 the labels are equal \n",
            "For this epochs, batch_size, fold # and seed 8,8,3,56789 the labels are equal \n",
            "For this epochs, batch_size, fold # and seed 8,8,4,56789 the labels are equal \n",
            "For this epochs, batch_size, fold # and seed 8,16,0,56789 the labels are equal \n",
            "For this epochs, batch_size, fold # and seed 8,16,1,56789 the labels are equal \n",
            "For this epochs, batch_size, fold # and seed 8,16,2,56789 the labels are equal \n",
            "For this epochs, batch_size, fold # and seed 8,16,3,56789 the labels are equal \n",
            "For this epochs, batch_size, fold # and seed 8,16,4,56789 the labels are equal \n",
            "For this epochs, batch_size, fold # and seed 8,32,0,56789 the labels are equal \n",
            "For this epochs, batch_size, fold # and seed 8,32,1,56789 the labels are equal \n",
            "For this epochs, batch_size, fold # and seed 8,32,2,56789 the labels are equal \n",
            "For this epochs, batch_size, fold # and seed 8,32,3,56789 the labels are equal \n",
            "For this epochs, batch_size, fold # and seed 8,32,4,56789 the labels are equal \n",
            "For this epochs, batch_size, fold # and seed 4,8,0,98765 the labels are equal \n",
            "For this epochs, batch_size, fold # and seed 4,8,1,98765 the labels are equal \n",
            "For this epochs, batch_size, fold # and seed 4,8,2,98765 the labels are equal \n",
            "For this epochs, batch_size, fold # and seed 4,8,3,98765 the labels are equal \n",
            "For this epochs, batch_size, fold # and seed 4,8,4,98765 the labels are equal \n",
            "For this epochs, batch_size, fold # and seed 4,16,0,98765 the labels are equal \n",
            "For this epochs, batch_size, fold # and seed 4,16,1,98765 the labels are equal \n",
            "For this epochs, batch_size, fold # and seed 4,16,2,98765 the labels are equal \n",
            "For this epochs, batch_size, fold # and seed 4,16,3,98765 the labels are equal \n",
            "For this epochs, batch_size, fold # and seed 4,16,4,98765 the labels are equal \n",
            "For this epochs, batch_size, fold # and seed 4,32,0,98765 the labels are equal \n",
            "For this epochs, batch_size, fold # and seed 4,32,1,98765 the labels are equal \n",
            "For this epochs, batch_size, fold # and seed 4,32,2,98765 the labels are equal \n",
            "For this epochs, batch_size, fold # and seed 4,32,3,98765 the labels are equal \n",
            "For this epochs, batch_size, fold # and seed 4,32,4,98765 the labels are equal \n",
            "For this epochs, batch_size, fold # and seed 8,8,0,98765 the labels are equal \n",
            "For this epochs, batch_size, fold # and seed 8,8,1,98765 the labels are equal \n",
            "For this epochs, batch_size, fold # and seed 8,8,2,98765 the labels are equal \n",
            "For this epochs, batch_size, fold # and seed 8,8,3,98765 the labels are equal \n",
            "For this epochs, batch_size, fold # and seed 8,8,4,98765 the labels are equal \n",
            "For this epochs, batch_size, fold # and seed 8,16,0,98765 the labels are equal \n",
            "For this epochs, batch_size, fold # and seed 8,16,1,98765 the labels are equal \n",
            "For this epochs, batch_size, fold # and seed 8,16,2,98765 the labels are equal \n",
            "For this epochs, batch_size, fold # and seed 8,16,3,98765 the labels are equal \n",
            "For this epochs, batch_size, fold # and seed 8,16,4,98765 the labels are equal \n",
            "For this epochs, batch_size, fold # and seed 8,32,0,98765 the labels are equal \n",
            "For this epochs, batch_size, fold # and seed 8,32,1,98765 the labels are equal \n",
            "For this epochs, batch_size, fold # and seed 8,32,2,98765 the labels are equal \n",
            "For this epochs, batch_size, fold # and seed 8,32,3,98765 the labels are equal \n",
            "For this epochs, batch_size, fold # and seed 8,32,4,98765 the labels are equal \n",
            "For this epochs, batch_size, fold # and seed 4,8,0,76543 the labels are equal \n",
            "For this epochs, batch_size, fold # and seed 4,8,1,76543 the labels are equal \n",
            "For this epochs, batch_size, fold # and seed 4,8,2,76543 the labels are equal \n",
            "For this epochs, batch_size, fold # and seed 4,8,3,76543 the labels are equal \n",
            "For this epochs, batch_size, fold # and seed 4,8,4,76543 the labels are equal \n",
            "For this epochs, batch_size, fold # and seed 4,16,0,76543 the labels are equal \n",
            "For this epochs, batch_size, fold # and seed 4,16,1,76543 the labels are equal \n",
            "For this epochs, batch_size, fold # and seed 4,16,2,76543 the labels are equal \n",
            "For this epochs, batch_size, fold # and seed 4,16,3,76543 the labels are equal \n",
            "For this epochs, batch_size, fold # and seed 4,16,4,76543 the labels are equal \n",
            "For this epochs, batch_size, fold # and seed 4,32,0,76543 the labels are equal \n",
            "For this epochs, batch_size, fold # and seed 4,32,1,76543 the labels are equal \n",
            "For this epochs, batch_size, fold # and seed 4,32,2,76543 the labels are equal \n",
            "For this epochs, batch_size, fold # and seed 4,32,3,76543 the labels are equal \n",
            "For this epochs, batch_size, fold # and seed 4,32,4,76543 the labels are equal \n",
            "For this epochs, batch_size, fold # and seed 8,8,0,76543 the labels are equal \n",
            "For this epochs, batch_size, fold # and seed 8,8,1,76543 the labels are equal \n",
            "For this epochs, batch_size, fold # and seed 8,8,2,76543 the labels are equal \n",
            "For this epochs, batch_size, fold # and seed 8,8,3,76543 the labels are equal \n",
            "For this epochs, batch_size, fold # and seed 8,8,4,76543 the labels are equal \n",
            "For this epochs, batch_size, fold # and seed 8,16,0,76543 the labels are equal \n",
            "For this epochs, batch_size, fold # and seed 8,16,1,76543 the labels are equal \n",
            "For this epochs, batch_size, fold # and seed 8,16,2,76543 the labels are equal \n",
            "For this epochs, batch_size, fold # and seed 8,16,3,76543 the labels are equal \n",
            "For this epochs, batch_size, fold # and seed 8,16,4,76543 the labels are equal \n",
            "For this epochs, batch_size, fold # and seed 8,32,0,76543 the labels are equal \n",
            "For this epochs, batch_size, fold # and seed 8,32,1,76543 the labels are equal \n",
            "For this epochs, batch_size, fold # and seed 8,32,2,76543 the labels are equal \n",
            "For this epochs, batch_size, fold # and seed 8,32,3,76543 the labels are equal \n",
            "For this epochs, batch_size, fold # and seed 8,32,4,76543 the labels are equal \n",
            "# of files between which prediction labels were equal are 150 \n"
          ]
        }
      ]
    },
    {
      "cell_type": "code",
      "source": [
        "print(\"For each epochs, batch_size, fold # and seed results between two pairs of files, \\n the # of files between which prediction labels were equal are %d \"%count)"
      ],
      "metadata": {
        "colab": {
          "base_uri": "https://localhost:8080/"
        },
        "id": "3RMezGzctNDs",
        "outputId": "781be683-b28d-4081-c51f-cc79e13ad124"
      },
      "execution_count": null,
      "outputs": [
        {
          "output_type": "stream",
          "name": "stdout",
          "text": [
            "For each epochs, batch_size, fold # and seed results between two pairs of files, \n",
            " the # of files between which prediction labels were equal are 150 \n"
          ]
        }
      ]
    },
    {
      "cell_type": "markdown",
      "source": [
        "# Intrinsic Comparison : Different Seed, same-everything-else\n",
        "### Between any two different seeds, compare the predictions labels for each of the **same** epochs, **same** batch_size, **same** fold no. and **different** seed.\n",
        "\n",
        "## Expected results\n",
        "### Results should have not been same between any two different seeds run for **same** epochs, **same** batch_size, **same** fold no.\n",
        "\n",
        "## Actual results\n",
        "### Results are same between any two different seeds run for **same** epochs, **same** batch_size, **same** fold no.\n"
      ],
      "metadata": {
        "id": "7WSHz_dmtR43"
      }
    },
    {
      "cell_type": "code",
      "source": [
        "print(len(roberta_files_17), len(roberta_files_17[:120]), len(roberta_files_17[30:]))"
      ],
      "metadata": {
        "colab": {
          "base_uri": "https://localhost:8080/"
        },
        "id": "K-x94wHvuAp7",
        "outputId": "f620cdd5-7e6d-4b35-c819-60ed98fc9636"
      },
      "execution_count": null,
      "outputs": [
        {
          "output_type": "stream",
          "name": "stdout",
          "text": [
            "150 120 120\n"
          ]
        }
      ]
    },
    {
      "cell_type": "code",
      "source": [
        "for f1, f2 in zip(roberta_files_17[:120], roberta_files_17[30:]):\n",
        "  s1 = os.path.basename(f1)[53:].split(\"_\")[0:4]\n",
        "  s2 = os.path.basename(f2)[53:].split(\"_\")[0:4]\n",
        "  print(\",\".join(s1[:-1]) == \",\".join(s2[:-1]))"
      ],
      "metadata": {
        "id": "CK139EpOuyed"
      },
      "execution_count": null,
      "outputs": []
    },
    {
      "cell_type": "markdown",
      "source": [
        "### Roberta"
      ],
      "metadata": {
        "id": "lQXKmDV7tvKz"
      }
    },
    {
      "cell_type": "markdown",
      "source": [
        "#### Results from June 17th, 2023"
      ],
      "metadata": {
        "id": "my-pSZuHy4rS"
      }
    },
    {
      "cell_type": "code",
      "source": [
        "count = 0\n",
        "unequal = \"\"\n",
        "for f1, f2 in zip(roberta_files_17[:120], roberta_files_17[30:]):\n",
        "  s1 = os.path.basename(f1)[53:].split(\"_\")[0:4]\n",
        "  s2 = os.path.basename(f2)[53:].split(\"_\")[0:4]\n",
        "  if \",\".join(s1[:-1]) == \",\".join(s2[:-1]):\n",
        "    # print(f1, f2)\n",
        "    l1 = pd.read_csv(f1)['pred_labels']\n",
        "    l2 = pd.read_csv(f2)['pred_labels']\n",
        "    res = \"equal\" if l1.equals(other=l2) else \"not equal\"\n",
        "    count += 1 if res == \"equal\" else 0\n",
        "    s = \",\".join(s1[:-1]) +\":\"+ s1[3]+\":\"+s2[3]\n",
        "    if res != \"equal\":\n",
        "      unequal += s\n",
        "    print(\"For this epochs, batch_size, fold # and seed %s the labels are %s \"%(s, res ))\n",
        "print(\"# of files between which prediction labels were equal are %d \"%count)\n",
        "print(\"The epochs, batch_size, fold # and seed that have unequal prediction labels are \",unequal)"
      ],
      "metadata": {
        "colab": {
          "base_uri": "https://localhost:8080/"
        },
        "outputId": "79a649e0-d6ac-4472-da5c-050e328f2a67",
        "id": "Ie8F6fijtvK4"
      },
      "execution_count": null,
      "outputs": [
        {
          "output_type": "stream",
          "name": "stdout",
          "text": [
            "For this epochs, batch_size, fold # and seed 4,8,0:12345:34567 the labels are not equal \n",
            "For this epochs, batch_size, fold # and seed 4,8,1:12345:34567 the labels are not equal \n",
            "For this epochs, batch_size, fold # and seed 4,8,2:12345:34567 the labels are not equal \n",
            "For this epochs, batch_size, fold # and seed 4,8,3:12345:34567 the labels are not equal \n",
            "For this epochs, batch_size, fold # and seed 4,8,4:12345:34567 the labels are not equal \n",
            "For this epochs, batch_size, fold # and seed 4,16,0:12345:34567 the labels are not equal \n",
            "For this epochs, batch_size, fold # and seed 4,16,1:12345:34567 the labels are not equal \n",
            "For this epochs, batch_size, fold # and seed 4,16,2:12345:34567 the labels are not equal \n",
            "For this epochs, batch_size, fold # and seed 4,16,3:12345:34567 the labels are not equal \n",
            "For this epochs, batch_size, fold # and seed 4,16,4:12345:34567 the labels are not equal \n",
            "For this epochs, batch_size, fold # and seed 4,32,0:12345:34567 the labels are not equal \n",
            "For this epochs, batch_size, fold # and seed 4,32,1:12345:34567 the labels are not equal \n",
            "For this epochs, batch_size, fold # and seed 4,32,2:12345:34567 the labels are not equal \n",
            "For this epochs, batch_size, fold # and seed 4,32,3:12345:34567 the labels are not equal \n",
            "For this epochs, batch_size, fold # and seed 4,32,4:12345:34567 the labels are not equal \n",
            "For this epochs, batch_size, fold # and seed 8,8,0:12345:34567 the labels are not equal \n",
            "For this epochs, batch_size, fold # and seed 8,8,1:12345:34567 the labels are not equal \n",
            "For this epochs, batch_size, fold # and seed 8,8,2:12345:34567 the labels are not equal \n",
            "For this epochs, batch_size, fold # and seed 8,8,3:12345:34567 the labels are not equal \n",
            "For this epochs, batch_size, fold # and seed 8,8,4:12345:34567 the labels are not equal \n",
            "For this epochs, batch_size, fold # and seed 8,16,0:12345:34567 the labels are not equal \n",
            "For this epochs, batch_size, fold # and seed 8,16,1:12345:34567 the labels are not equal \n",
            "For this epochs, batch_size, fold # and seed 8,16,2:12345:34567 the labels are not equal \n",
            "For this epochs, batch_size, fold # and seed 8,16,3:12345:34567 the labels are not equal \n",
            "For this epochs, batch_size, fold # and seed 8,16,4:12345:34567 the labels are not equal \n",
            "For this epochs, batch_size, fold # and seed 8,32,0:12345:34567 the labels are not equal \n",
            "For this epochs, batch_size, fold # and seed 8,32,1:12345:34567 the labels are not equal \n",
            "For this epochs, batch_size, fold # and seed 8,32,2:12345:34567 the labels are not equal \n",
            "For this epochs, batch_size, fold # and seed 8,32,3:12345:34567 the labels are not equal \n",
            "For this epochs, batch_size, fold # and seed 8,32,4:12345:34567 the labels are not equal \n",
            "For this epochs, batch_size, fold # and seed 4,8,0:34567:56789 the labels are not equal \n",
            "For this epochs, batch_size, fold # and seed 4,8,1:34567:56789 the labels are not equal \n",
            "For this epochs, batch_size, fold # and seed 4,8,2:34567:56789 the labels are not equal \n",
            "For this epochs, batch_size, fold # and seed 4,8,3:34567:56789 the labels are not equal \n",
            "For this epochs, batch_size, fold # and seed 4,8,4:34567:56789 the labels are not equal \n",
            "For this epochs, batch_size, fold # and seed 4,16,0:34567:56789 the labels are not equal \n",
            "For this epochs, batch_size, fold # and seed 4,16,1:34567:56789 the labels are not equal \n",
            "For this epochs, batch_size, fold # and seed 4,16,2:34567:56789 the labels are not equal \n",
            "For this epochs, batch_size, fold # and seed 4,16,3:34567:56789 the labels are not equal \n",
            "For this epochs, batch_size, fold # and seed 4,16,4:34567:56789 the labels are not equal \n",
            "For this epochs, batch_size, fold # and seed 4,32,0:34567:56789 the labels are not equal \n",
            "For this epochs, batch_size, fold # and seed 4,32,1:34567:56789 the labels are not equal \n",
            "For this epochs, batch_size, fold # and seed 4,32,2:34567:56789 the labels are not equal \n",
            "For this epochs, batch_size, fold # and seed 4,32,3:34567:56789 the labels are not equal \n",
            "For this epochs, batch_size, fold # and seed 4,32,4:34567:56789 the labels are not equal \n",
            "For this epochs, batch_size, fold # and seed 8,8,0:34567:56789 the labels are not equal \n",
            "For this epochs, batch_size, fold # and seed 8,8,1:34567:56789 the labels are not equal \n",
            "For this epochs, batch_size, fold # and seed 8,8,2:34567:56789 the labels are equal \n",
            "For this epochs, batch_size, fold # and seed 8,8,3:34567:56789 the labels are not equal \n",
            "For this epochs, batch_size, fold # and seed 8,8,4:34567:56789 the labels are not equal \n",
            "For this epochs, batch_size, fold # and seed 8,16,0:34567:56789 the labels are not equal \n",
            "For this epochs, batch_size, fold # and seed 8,16,1:34567:56789 the labels are not equal \n",
            "For this epochs, batch_size, fold # and seed 8,16,2:34567:56789 the labels are not equal \n",
            "For this epochs, batch_size, fold # and seed 8,16,3:34567:56789 the labels are not equal \n",
            "For this epochs, batch_size, fold # and seed 8,16,4:34567:56789 the labels are not equal \n",
            "For this epochs, batch_size, fold # and seed 8,32,0:34567:56789 the labels are not equal \n",
            "For this epochs, batch_size, fold # and seed 8,32,1:34567:56789 the labels are not equal \n",
            "For this epochs, batch_size, fold # and seed 8,32,2:34567:56789 the labels are not equal \n",
            "For this epochs, batch_size, fold # and seed 8,32,3:34567:56789 the labels are not equal \n",
            "For this epochs, batch_size, fold # and seed 8,32,4:34567:56789 the labels are not equal \n",
            "For this epochs, batch_size, fold # and seed 4,8,0:56789:98765 the labels are not equal \n",
            "For this epochs, batch_size, fold # and seed 4,8,1:56789:98765 the labels are not equal \n",
            "For this epochs, batch_size, fold # and seed 4,8,2:56789:98765 the labels are not equal \n",
            "For this epochs, batch_size, fold # and seed 4,8,3:56789:98765 the labels are not equal \n",
            "For this epochs, batch_size, fold # and seed 4,8,4:56789:98765 the labels are not equal \n",
            "For this epochs, batch_size, fold # and seed 4,16,0:56789:98765 the labels are not equal \n",
            "For this epochs, batch_size, fold # and seed 4,16,1:56789:98765 the labels are not equal \n",
            "For this epochs, batch_size, fold # and seed 4,16,2:56789:98765 the labels are not equal \n",
            "For this epochs, batch_size, fold # and seed 4,16,3:56789:98765 the labels are not equal \n",
            "For this epochs, batch_size, fold # and seed 4,16,4:56789:98765 the labels are not equal \n",
            "For this epochs, batch_size, fold # and seed 4,32,0:56789:98765 the labels are not equal \n",
            "For this epochs, batch_size, fold # and seed 4,32,1:56789:98765 the labels are not equal \n",
            "For this epochs, batch_size, fold # and seed 4,32,2:56789:98765 the labels are not equal \n",
            "For this epochs, batch_size, fold # and seed 4,32,3:56789:98765 the labels are not equal \n",
            "For this epochs, batch_size, fold # and seed 4,32,4:56789:98765 the labels are not equal \n",
            "For this epochs, batch_size, fold # and seed 8,8,0:56789:98765 the labels are not equal \n",
            "For this epochs, batch_size, fold # and seed 8,8,1:56789:98765 the labels are not equal \n",
            "For this epochs, batch_size, fold # and seed 8,8,2:56789:98765 the labels are not equal \n",
            "For this epochs, batch_size, fold # and seed 8,8,3:56789:98765 the labels are not equal \n",
            "For this epochs, batch_size, fold # and seed 8,8,4:56789:98765 the labels are not equal \n",
            "For this epochs, batch_size, fold # and seed 8,16,0:56789:98765 the labels are not equal \n",
            "For this epochs, batch_size, fold # and seed 8,16,1:56789:98765 the labels are not equal \n",
            "For this epochs, batch_size, fold # and seed 8,16,2:56789:98765 the labels are not equal \n",
            "For this epochs, batch_size, fold # and seed 8,16,3:56789:98765 the labels are not equal \n",
            "For this epochs, batch_size, fold # and seed 8,16,4:56789:98765 the labels are not equal \n",
            "For this epochs, batch_size, fold # and seed 8,32,0:56789:98765 the labels are not equal \n",
            "For this epochs, batch_size, fold # and seed 8,32,1:56789:98765 the labels are not equal \n",
            "For this epochs, batch_size, fold # and seed 8,32,2:56789:98765 the labels are not equal \n",
            "For this epochs, batch_size, fold # and seed 8,32,3:56789:98765 the labels are not equal \n",
            "For this epochs, batch_size, fold # and seed 8,32,4:56789:98765 the labels are not equal \n",
            "For this epochs, batch_size, fold # and seed 4,8,0:98765:76543 the labels are not equal \n",
            "For this epochs, batch_size, fold # and seed 4,8,1:98765:76543 the labels are not equal \n",
            "For this epochs, batch_size, fold # and seed 4,8,2:98765:76543 the labels are not equal \n",
            "For this epochs, batch_size, fold # and seed 4,8,3:98765:76543 the labels are not equal \n",
            "For this epochs, batch_size, fold # and seed 4,8,4:98765:76543 the labels are not equal \n",
            "For this epochs, batch_size, fold # and seed 4,16,0:98765:76543 the labels are not equal \n",
            "For this epochs, batch_size, fold # and seed 4,16,1:98765:76543 the labels are not equal \n",
            "For this epochs, batch_size, fold # and seed 4,16,2:98765:76543 the labels are not equal \n",
            "For this epochs, batch_size, fold # and seed 4,16,3:98765:76543 the labels are not equal \n",
            "For this epochs, batch_size, fold # and seed 4,16,4:98765:76543 the labels are not equal \n",
            "For this epochs, batch_size, fold # and seed 4,32,0:98765:76543 the labels are not equal \n",
            "For this epochs, batch_size, fold # and seed 4,32,1:98765:76543 the labels are not equal \n",
            "For this epochs, batch_size, fold # and seed 4,32,2:98765:76543 the labels are not equal \n",
            "For this epochs, batch_size, fold # and seed 4,32,3:98765:76543 the labels are not equal \n",
            "For this epochs, batch_size, fold # and seed 4,32,4:98765:76543 the labels are not equal \n",
            "For this epochs, batch_size, fold # and seed 8,8,0:98765:76543 the labels are not equal \n",
            "For this epochs, batch_size, fold # and seed 8,8,1:98765:76543 the labels are not equal \n",
            "For this epochs, batch_size, fold # and seed 8,8,2:98765:76543 the labels are not equal \n",
            "For this epochs, batch_size, fold # and seed 8,8,3:98765:76543 the labels are not equal \n",
            "For this epochs, batch_size, fold # and seed 8,8,4:98765:76543 the labels are not equal \n",
            "For this epochs, batch_size, fold # and seed 8,16,0:98765:76543 the labels are not equal \n",
            "For this epochs, batch_size, fold # and seed 8,16,1:98765:76543 the labels are not equal \n",
            "For this epochs, batch_size, fold # and seed 8,16,2:98765:76543 the labels are not equal \n",
            "For this epochs, batch_size, fold # and seed 8,16,3:98765:76543 the labels are not equal \n",
            "For this epochs, batch_size, fold # and seed 8,16,4:98765:76543 the labels are not equal \n",
            "For this epochs, batch_size, fold # and seed 8,32,0:98765:76543 the labels are not equal \n",
            "For this epochs, batch_size, fold # and seed 8,32,1:98765:76543 the labels are not equal \n",
            "For this epochs, batch_size, fold # and seed 8,32,2:98765:76543 the labels are not equal \n",
            "For this epochs, batch_size, fold # and seed 8,32,3:98765:76543 the labels are not equal \n",
            "For this epochs, batch_size, fold # and seed 8,32,4:98765:76543 the labels are not equal \n",
            "# of files between which prediction labels were equal are 1 \n",
            "The epochs, batch_size, fold # and seed that have unequal prediction labels are  4,8,0:12345:345674,8,1:12345:345674,8,2:12345:345674,8,3:12345:345674,8,4:12345:345674,16,0:12345:345674,16,1:12345:345674,16,2:12345:345674,16,3:12345:345674,16,4:12345:345674,32,0:12345:345674,32,1:12345:345674,32,2:12345:345674,32,3:12345:345674,32,4:12345:345678,8,0:12345:345678,8,1:12345:345678,8,2:12345:345678,8,3:12345:345678,8,4:12345:345678,16,0:12345:345678,16,1:12345:345678,16,2:12345:345678,16,3:12345:345678,16,4:12345:345678,32,0:12345:345678,32,1:12345:345678,32,2:12345:345678,32,3:12345:345678,32,4:12345:345674,8,0:34567:567894,8,1:34567:567894,8,2:34567:567894,8,3:34567:567894,8,4:34567:567894,16,0:34567:567894,16,1:34567:567894,16,2:34567:567894,16,3:34567:567894,16,4:34567:567894,32,0:34567:567894,32,1:34567:567894,32,2:34567:567894,32,3:34567:567894,32,4:34567:567898,8,0:34567:567898,8,1:34567:567898,8,3:34567:567898,8,4:34567:567898,16,0:34567:567898,16,1:34567:567898,16,2:34567:567898,16,3:34567:567898,16,4:34567:567898,32,0:34567:567898,32,1:34567:567898,32,2:34567:567898,32,3:34567:567898,32,4:34567:567894,8,0:56789:987654,8,1:56789:987654,8,2:56789:987654,8,3:56789:987654,8,4:56789:987654,16,0:56789:987654,16,1:56789:987654,16,2:56789:987654,16,3:56789:987654,16,4:56789:987654,32,0:56789:987654,32,1:56789:987654,32,2:56789:987654,32,3:56789:987654,32,4:56789:987658,8,0:56789:987658,8,1:56789:987658,8,2:56789:987658,8,3:56789:987658,8,4:56789:987658,16,0:56789:987658,16,1:56789:987658,16,2:56789:987658,16,3:56789:987658,16,4:56789:987658,32,0:56789:987658,32,1:56789:987658,32,2:56789:987658,32,3:56789:987658,32,4:56789:987654,8,0:98765:765434,8,1:98765:765434,8,2:98765:765434,8,3:98765:765434,8,4:98765:765434,16,0:98765:765434,16,1:98765:765434,16,2:98765:765434,16,3:98765:765434,16,4:98765:765434,32,0:98765:765434,32,1:98765:765434,32,2:98765:765434,32,3:98765:765434,32,4:98765:765438,8,0:98765:765438,8,1:98765:765438,8,2:98765:765438,8,3:98765:765438,8,4:98765:765438,16,0:98765:765438,16,1:98765:765438,16,2:98765:765438,16,3:98765:765438,16,4:98765:765438,32,0:98765:765438,32,1:98765:765438,32,2:98765:765438,32,3:98765:765438,32,4:98765:76543\n"
          ]
        }
      ]
    },
    {
      "cell_type": "code",
      "source": [
        "print(\"For each epochs, batch_size, fold # and seed results between two pairs of files, \\n the # of files between which prediction labels were equal are %d \"%count)"
      ],
      "metadata": {
        "colab": {
          "base_uri": "https://localhost:8080/"
        },
        "outputId": "85c92278-3758-4ad5-cecc-e7a58bb133d5",
        "id": "pnL8U278tvK5"
      },
      "execution_count": null,
      "outputs": [
        {
          "output_type": "stream",
          "name": "stdout",
          "text": [
            "For each epochs, batch_size, fold # and seed results between two pairs of files, \n",
            " the # of files between which prediction labels were equal are 1 \n"
          ]
        }
      ]
    },
    {
      "cell_type": "markdown",
      "source": [
        "#### Results from June 18th, 2023"
      ],
      "metadata": {
        "id": "7qiQItIUzFXI"
      }
    },
    {
      "cell_type": "code",
      "source": [
        "count = 0\n",
        "unequal = \"\"\n",
        "for f1, f2 in zip(roberta_files_18[:120], roberta_files_18[30:]):\n",
        "  s1 = os.path.basename(f1)[53:].split(\"_\")[0:4]\n",
        "  s2 = os.path.basename(f2)[53:].split(\"_\")[0:4]\n",
        "  if \",\".join(s1[:-1]) == \",\".join(s2[:-1]):\n",
        "    # print(f1, f2)\n",
        "    l1 = pd.read_csv(f1)['pred_labels']\n",
        "    l2 = pd.read_csv(f2)['pred_labels']\n",
        "    res = \"equal\" if l1.equals(other=l2) else \"not equal\"\n",
        "    count += 1 if res == \"equal\" else 0\n",
        "    s = \",\".join(s1[:-1]) +\":\"+ s1[3]+\":\"+s2[3]\n",
        "    if res != \"equal\":\n",
        "      unequal += s\n",
        "    print(\"For this epochs, batch_size, fold # and seed %s the labels are %s \"%(\",\".join(s), res ))\n",
        "print(\"# of files between which prediction labels were equal are %d \"%count)\n",
        "print(\"The epochs, batch_size, fold # and seed that have unequal prediction labels are \",unequal)"
      ],
      "metadata": {
        "colab": {
          "base_uri": "https://localhost:8080/"
        },
        "outputId": "eb26048e-5c2b-4f32-a24b-ef656df3324c",
        "id": "NvW6iIedzFXt"
      },
      "execution_count": null,
      "outputs": [
        {
          "output_type": "stream",
          "name": "stdout",
          "text": [
            "For this epochs, batch_size, fold # and seed 4,,,8,,,0,:,1,2,3,4,5,:,3,4,5,6,7 the labels are not equal \n",
            "For this epochs, batch_size, fold # and seed 4,,,8,,,1,:,1,2,3,4,5,:,3,4,5,6,7 the labels are not equal \n",
            "For this epochs, batch_size, fold # and seed 4,,,8,,,2,:,1,2,3,4,5,:,3,4,5,6,7 the labels are not equal \n",
            "For this epochs, batch_size, fold # and seed 4,,,8,,,3,:,1,2,3,4,5,:,3,4,5,6,7 the labels are not equal \n",
            "For this epochs, batch_size, fold # and seed 4,,,8,,,4,:,1,2,3,4,5,:,3,4,5,6,7 the labels are not equal \n",
            "For this epochs, batch_size, fold # and seed 4,,,1,6,,,0,:,1,2,3,4,5,:,3,4,5,6,7 the labels are not equal \n",
            "For this epochs, batch_size, fold # and seed 4,,,1,6,,,1,:,1,2,3,4,5,:,3,4,5,6,7 the labels are not equal \n",
            "For this epochs, batch_size, fold # and seed 4,,,1,6,,,2,:,1,2,3,4,5,:,3,4,5,6,7 the labels are not equal \n",
            "For this epochs, batch_size, fold # and seed 4,,,1,6,,,3,:,1,2,3,4,5,:,3,4,5,6,7 the labels are not equal \n",
            "For this epochs, batch_size, fold # and seed 4,,,1,6,,,4,:,1,2,3,4,5,:,3,4,5,6,7 the labels are not equal \n",
            "For this epochs, batch_size, fold # and seed 4,,,3,2,,,0,:,1,2,3,4,5,:,3,4,5,6,7 the labels are not equal \n",
            "For this epochs, batch_size, fold # and seed 4,,,3,2,,,1,:,1,2,3,4,5,:,3,4,5,6,7 the labels are not equal \n",
            "For this epochs, batch_size, fold # and seed 4,,,3,2,,,2,:,1,2,3,4,5,:,3,4,5,6,7 the labels are not equal \n",
            "For this epochs, batch_size, fold # and seed 4,,,3,2,,,3,:,1,2,3,4,5,:,3,4,5,6,7 the labels are not equal \n",
            "For this epochs, batch_size, fold # and seed 4,,,3,2,,,4,:,1,2,3,4,5,:,3,4,5,6,7 the labels are not equal \n",
            "For this epochs, batch_size, fold # and seed 8,,,8,,,0,:,1,2,3,4,5,:,3,4,5,6,7 the labels are not equal \n",
            "For this epochs, batch_size, fold # and seed 8,,,8,,,1,:,1,2,3,4,5,:,3,4,5,6,7 the labels are not equal \n",
            "For this epochs, batch_size, fold # and seed 8,,,8,,,2,:,1,2,3,4,5,:,3,4,5,6,7 the labels are not equal \n",
            "For this epochs, batch_size, fold # and seed 8,,,8,,,3,:,1,2,3,4,5,:,3,4,5,6,7 the labels are not equal \n",
            "For this epochs, batch_size, fold # and seed 8,,,8,,,4,:,1,2,3,4,5,:,3,4,5,6,7 the labels are not equal \n",
            "For this epochs, batch_size, fold # and seed 8,,,1,6,,,0,:,1,2,3,4,5,:,3,4,5,6,7 the labels are not equal \n",
            "For this epochs, batch_size, fold # and seed 8,,,1,6,,,1,:,1,2,3,4,5,:,3,4,5,6,7 the labels are not equal \n",
            "For this epochs, batch_size, fold # and seed 8,,,1,6,,,2,:,1,2,3,4,5,:,3,4,5,6,7 the labels are not equal \n",
            "For this epochs, batch_size, fold # and seed 8,,,1,6,,,3,:,1,2,3,4,5,:,3,4,5,6,7 the labels are not equal \n",
            "For this epochs, batch_size, fold # and seed 8,,,1,6,,,4,:,1,2,3,4,5,:,3,4,5,6,7 the labels are not equal \n",
            "For this epochs, batch_size, fold # and seed 8,,,3,2,,,0,:,1,2,3,4,5,:,3,4,5,6,7 the labels are not equal \n",
            "For this epochs, batch_size, fold # and seed 8,,,3,2,,,1,:,1,2,3,4,5,:,3,4,5,6,7 the labels are not equal \n",
            "For this epochs, batch_size, fold # and seed 8,,,3,2,,,2,:,1,2,3,4,5,:,3,4,5,6,7 the labels are not equal \n",
            "For this epochs, batch_size, fold # and seed 8,,,3,2,,,3,:,1,2,3,4,5,:,3,4,5,6,7 the labels are not equal \n",
            "For this epochs, batch_size, fold # and seed 8,,,3,2,,,4,:,1,2,3,4,5,:,3,4,5,6,7 the labels are not equal \n",
            "For this epochs, batch_size, fold # and seed 4,,,8,,,0,:,3,4,5,6,7,:,5,6,7,8,9 the labels are not equal \n",
            "For this epochs, batch_size, fold # and seed 4,,,8,,,1,:,3,4,5,6,7,:,5,6,7,8,9 the labels are not equal \n",
            "For this epochs, batch_size, fold # and seed 4,,,8,,,2,:,3,4,5,6,7,:,5,6,7,8,9 the labels are not equal \n",
            "For this epochs, batch_size, fold # and seed 4,,,8,,,3,:,3,4,5,6,7,:,5,6,7,8,9 the labels are not equal \n",
            "For this epochs, batch_size, fold # and seed 4,,,8,,,4,:,3,4,5,6,7,:,5,6,7,8,9 the labels are not equal \n",
            "For this epochs, batch_size, fold # and seed 4,,,1,6,,,0,:,3,4,5,6,7,:,5,6,7,8,9 the labels are not equal \n",
            "For this epochs, batch_size, fold # and seed 4,,,1,6,,,1,:,3,4,5,6,7,:,5,6,7,8,9 the labels are not equal \n",
            "For this epochs, batch_size, fold # and seed 4,,,1,6,,,2,:,3,4,5,6,7,:,5,6,7,8,9 the labels are not equal \n",
            "For this epochs, batch_size, fold # and seed 4,,,1,6,,,3,:,3,4,5,6,7,:,5,6,7,8,9 the labels are not equal \n",
            "For this epochs, batch_size, fold # and seed 4,,,1,6,,,4,:,3,4,5,6,7,:,5,6,7,8,9 the labels are not equal \n",
            "For this epochs, batch_size, fold # and seed 4,,,3,2,,,0,:,3,4,5,6,7,:,5,6,7,8,9 the labels are not equal \n",
            "For this epochs, batch_size, fold # and seed 4,,,3,2,,,1,:,3,4,5,6,7,:,5,6,7,8,9 the labels are not equal \n",
            "For this epochs, batch_size, fold # and seed 4,,,3,2,,,2,:,3,4,5,6,7,:,5,6,7,8,9 the labels are not equal \n",
            "For this epochs, batch_size, fold # and seed 4,,,3,2,,,3,:,3,4,5,6,7,:,5,6,7,8,9 the labels are not equal \n",
            "For this epochs, batch_size, fold # and seed 4,,,3,2,,,4,:,3,4,5,6,7,:,5,6,7,8,9 the labels are not equal \n",
            "For this epochs, batch_size, fold # and seed 8,,,8,,,0,:,3,4,5,6,7,:,5,6,7,8,9 the labels are not equal \n",
            "For this epochs, batch_size, fold # and seed 8,,,8,,,1,:,3,4,5,6,7,:,5,6,7,8,9 the labels are not equal \n",
            "For this epochs, batch_size, fold # and seed 8,,,8,,,2,:,3,4,5,6,7,:,5,6,7,8,9 the labels are equal \n",
            "For this epochs, batch_size, fold # and seed 8,,,8,,,3,:,3,4,5,6,7,:,5,6,7,8,9 the labels are not equal \n",
            "For this epochs, batch_size, fold # and seed 8,,,8,,,4,:,3,4,5,6,7,:,5,6,7,8,9 the labels are not equal \n",
            "For this epochs, batch_size, fold # and seed 8,,,1,6,,,0,:,3,4,5,6,7,:,5,6,7,8,9 the labels are not equal \n",
            "For this epochs, batch_size, fold # and seed 8,,,1,6,,,1,:,3,4,5,6,7,:,5,6,7,8,9 the labels are not equal \n",
            "For this epochs, batch_size, fold # and seed 8,,,1,6,,,2,:,3,4,5,6,7,:,5,6,7,8,9 the labels are not equal \n",
            "For this epochs, batch_size, fold # and seed 8,,,1,6,,,3,:,3,4,5,6,7,:,5,6,7,8,9 the labels are not equal \n",
            "For this epochs, batch_size, fold # and seed 8,,,1,6,,,4,:,3,4,5,6,7,:,5,6,7,8,9 the labels are not equal \n",
            "For this epochs, batch_size, fold # and seed 8,,,3,2,,,0,:,3,4,5,6,7,:,5,6,7,8,9 the labels are not equal \n",
            "For this epochs, batch_size, fold # and seed 8,,,3,2,,,1,:,3,4,5,6,7,:,5,6,7,8,9 the labels are not equal \n",
            "For this epochs, batch_size, fold # and seed 8,,,3,2,,,2,:,3,4,5,6,7,:,5,6,7,8,9 the labels are not equal \n",
            "For this epochs, batch_size, fold # and seed 8,,,3,2,,,3,:,3,4,5,6,7,:,5,6,7,8,9 the labels are not equal \n",
            "For this epochs, batch_size, fold # and seed 8,,,3,2,,,4,:,3,4,5,6,7,:,5,6,7,8,9 the labels are not equal \n",
            "For this epochs, batch_size, fold # and seed 4,,,8,,,0,:,5,6,7,8,9,:,9,8,7,6,5 the labels are not equal \n",
            "For this epochs, batch_size, fold # and seed 4,,,8,,,1,:,5,6,7,8,9,:,9,8,7,6,5 the labels are not equal \n",
            "For this epochs, batch_size, fold # and seed 4,,,8,,,2,:,5,6,7,8,9,:,9,8,7,6,5 the labels are not equal \n",
            "For this epochs, batch_size, fold # and seed 4,,,8,,,3,:,5,6,7,8,9,:,9,8,7,6,5 the labels are not equal \n",
            "For this epochs, batch_size, fold # and seed 4,,,8,,,4,:,5,6,7,8,9,:,9,8,7,6,5 the labels are not equal \n",
            "For this epochs, batch_size, fold # and seed 4,,,1,6,,,0,:,5,6,7,8,9,:,9,8,7,6,5 the labels are not equal \n",
            "For this epochs, batch_size, fold # and seed 4,,,1,6,,,1,:,5,6,7,8,9,:,9,8,7,6,5 the labels are not equal \n",
            "For this epochs, batch_size, fold # and seed 4,,,1,6,,,2,:,5,6,7,8,9,:,9,8,7,6,5 the labels are not equal \n",
            "For this epochs, batch_size, fold # and seed 4,,,1,6,,,3,:,5,6,7,8,9,:,9,8,7,6,5 the labels are not equal \n",
            "For this epochs, batch_size, fold # and seed 4,,,1,6,,,4,:,5,6,7,8,9,:,9,8,7,6,5 the labels are not equal \n",
            "For this epochs, batch_size, fold # and seed 4,,,3,2,,,0,:,5,6,7,8,9,:,9,8,7,6,5 the labels are not equal \n",
            "For this epochs, batch_size, fold # and seed 4,,,3,2,,,1,:,5,6,7,8,9,:,9,8,7,6,5 the labels are not equal \n",
            "For this epochs, batch_size, fold # and seed 4,,,3,2,,,2,:,5,6,7,8,9,:,9,8,7,6,5 the labels are not equal \n",
            "For this epochs, batch_size, fold # and seed 4,,,3,2,,,3,:,5,6,7,8,9,:,9,8,7,6,5 the labels are not equal \n",
            "For this epochs, batch_size, fold # and seed 4,,,3,2,,,4,:,5,6,7,8,9,:,9,8,7,6,5 the labels are not equal \n",
            "For this epochs, batch_size, fold # and seed 8,,,8,,,0,:,5,6,7,8,9,:,9,8,7,6,5 the labels are not equal \n",
            "For this epochs, batch_size, fold # and seed 8,,,8,,,1,:,5,6,7,8,9,:,9,8,7,6,5 the labels are not equal \n",
            "For this epochs, batch_size, fold # and seed 8,,,8,,,2,:,5,6,7,8,9,:,9,8,7,6,5 the labels are not equal \n",
            "For this epochs, batch_size, fold # and seed 8,,,8,,,3,:,5,6,7,8,9,:,9,8,7,6,5 the labels are not equal \n",
            "For this epochs, batch_size, fold # and seed 8,,,8,,,4,:,5,6,7,8,9,:,9,8,7,6,5 the labels are not equal \n",
            "For this epochs, batch_size, fold # and seed 8,,,1,6,,,0,:,5,6,7,8,9,:,9,8,7,6,5 the labels are not equal \n",
            "For this epochs, batch_size, fold # and seed 8,,,1,6,,,1,:,5,6,7,8,9,:,9,8,7,6,5 the labels are not equal \n",
            "For this epochs, batch_size, fold # and seed 8,,,1,6,,,2,:,5,6,7,8,9,:,9,8,7,6,5 the labels are not equal \n",
            "For this epochs, batch_size, fold # and seed 8,,,1,6,,,3,:,5,6,7,8,9,:,9,8,7,6,5 the labels are not equal \n",
            "For this epochs, batch_size, fold # and seed 8,,,1,6,,,4,:,5,6,7,8,9,:,9,8,7,6,5 the labels are not equal \n",
            "For this epochs, batch_size, fold # and seed 8,,,3,2,,,0,:,5,6,7,8,9,:,9,8,7,6,5 the labels are not equal \n",
            "For this epochs, batch_size, fold # and seed 8,,,3,2,,,1,:,5,6,7,8,9,:,9,8,7,6,5 the labels are not equal \n",
            "For this epochs, batch_size, fold # and seed 8,,,3,2,,,2,:,5,6,7,8,9,:,9,8,7,6,5 the labels are not equal \n",
            "For this epochs, batch_size, fold # and seed 8,,,3,2,,,3,:,5,6,7,8,9,:,9,8,7,6,5 the labels are not equal \n",
            "For this epochs, batch_size, fold # and seed 8,,,3,2,,,4,:,5,6,7,8,9,:,9,8,7,6,5 the labels are not equal \n",
            "For this epochs, batch_size, fold # and seed 4,,,8,,,0,:,9,8,7,6,5,:,7,6,5,4,3 the labels are not equal \n",
            "For this epochs, batch_size, fold # and seed 4,,,8,,,1,:,9,8,7,6,5,:,7,6,5,4,3 the labels are not equal \n",
            "For this epochs, batch_size, fold # and seed 4,,,8,,,2,:,9,8,7,6,5,:,7,6,5,4,3 the labels are not equal \n",
            "For this epochs, batch_size, fold # and seed 4,,,8,,,3,:,9,8,7,6,5,:,7,6,5,4,3 the labels are not equal \n",
            "For this epochs, batch_size, fold # and seed 4,,,8,,,4,:,9,8,7,6,5,:,7,6,5,4,3 the labels are not equal \n",
            "For this epochs, batch_size, fold # and seed 4,,,1,6,,,0,:,9,8,7,6,5,:,7,6,5,4,3 the labels are not equal \n",
            "For this epochs, batch_size, fold # and seed 4,,,1,6,,,1,:,9,8,7,6,5,:,7,6,5,4,3 the labels are not equal \n",
            "For this epochs, batch_size, fold # and seed 4,,,1,6,,,2,:,9,8,7,6,5,:,7,6,5,4,3 the labels are not equal \n",
            "For this epochs, batch_size, fold # and seed 4,,,1,6,,,3,:,9,8,7,6,5,:,7,6,5,4,3 the labels are not equal \n",
            "For this epochs, batch_size, fold # and seed 4,,,1,6,,,4,:,9,8,7,6,5,:,7,6,5,4,3 the labels are not equal \n",
            "For this epochs, batch_size, fold # and seed 4,,,3,2,,,0,:,9,8,7,6,5,:,7,6,5,4,3 the labels are not equal \n",
            "For this epochs, batch_size, fold # and seed 4,,,3,2,,,1,:,9,8,7,6,5,:,7,6,5,4,3 the labels are not equal \n",
            "For this epochs, batch_size, fold # and seed 4,,,3,2,,,2,:,9,8,7,6,5,:,7,6,5,4,3 the labels are not equal \n",
            "For this epochs, batch_size, fold # and seed 4,,,3,2,,,3,:,9,8,7,6,5,:,7,6,5,4,3 the labels are not equal \n",
            "For this epochs, batch_size, fold # and seed 4,,,3,2,,,4,:,9,8,7,6,5,:,7,6,5,4,3 the labels are not equal \n",
            "For this epochs, batch_size, fold # and seed 8,,,8,,,0,:,9,8,7,6,5,:,7,6,5,4,3 the labels are not equal \n",
            "For this epochs, batch_size, fold # and seed 8,,,8,,,1,:,9,8,7,6,5,:,7,6,5,4,3 the labels are not equal \n",
            "For this epochs, batch_size, fold # and seed 8,,,8,,,2,:,9,8,7,6,5,:,7,6,5,4,3 the labels are not equal \n",
            "For this epochs, batch_size, fold # and seed 8,,,8,,,3,:,9,8,7,6,5,:,7,6,5,4,3 the labels are not equal \n",
            "For this epochs, batch_size, fold # and seed 8,,,8,,,4,:,9,8,7,6,5,:,7,6,5,4,3 the labels are not equal \n",
            "For this epochs, batch_size, fold # and seed 8,,,1,6,,,0,:,9,8,7,6,5,:,7,6,5,4,3 the labels are not equal \n",
            "For this epochs, batch_size, fold # and seed 8,,,1,6,,,1,:,9,8,7,6,5,:,7,6,5,4,3 the labels are not equal \n",
            "For this epochs, batch_size, fold # and seed 8,,,1,6,,,2,:,9,8,7,6,5,:,7,6,5,4,3 the labels are not equal \n",
            "For this epochs, batch_size, fold # and seed 8,,,1,6,,,3,:,9,8,7,6,5,:,7,6,5,4,3 the labels are not equal \n",
            "For this epochs, batch_size, fold # and seed 8,,,1,6,,,4,:,9,8,7,6,5,:,7,6,5,4,3 the labels are not equal \n",
            "For this epochs, batch_size, fold # and seed 8,,,3,2,,,0,:,9,8,7,6,5,:,7,6,5,4,3 the labels are not equal \n",
            "For this epochs, batch_size, fold # and seed 8,,,3,2,,,1,:,9,8,7,6,5,:,7,6,5,4,3 the labels are not equal \n",
            "For this epochs, batch_size, fold # and seed 8,,,3,2,,,2,:,9,8,7,6,5,:,7,6,5,4,3 the labels are not equal \n",
            "For this epochs, batch_size, fold # and seed 8,,,3,2,,,3,:,9,8,7,6,5,:,7,6,5,4,3 the labels are not equal \n",
            "For this epochs, batch_size, fold # and seed 8,,,3,2,,,4,:,9,8,7,6,5,:,7,6,5,4,3 the labels are not equal \n",
            "# of files between which prediction labels were equal are 1 \n",
            "The epochs, batch_size, fold # and seed that have unequal prediction labels are  4,8,0:12345:345674,8,1:12345:345674,8,2:12345:345674,8,3:12345:345674,8,4:12345:345674,16,0:12345:345674,16,1:12345:345674,16,2:12345:345674,16,3:12345:345674,16,4:12345:345674,32,0:12345:345674,32,1:12345:345674,32,2:12345:345674,32,3:12345:345674,32,4:12345:345678,8,0:12345:345678,8,1:12345:345678,8,2:12345:345678,8,3:12345:345678,8,4:12345:345678,16,0:12345:345678,16,1:12345:345678,16,2:12345:345678,16,3:12345:345678,16,4:12345:345678,32,0:12345:345678,32,1:12345:345678,32,2:12345:345678,32,3:12345:345678,32,4:12345:345674,8,0:34567:567894,8,1:34567:567894,8,2:34567:567894,8,3:34567:567894,8,4:34567:567894,16,0:34567:567894,16,1:34567:567894,16,2:34567:567894,16,3:34567:567894,16,4:34567:567894,32,0:34567:567894,32,1:34567:567894,32,2:34567:567894,32,3:34567:567894,32,4:34567:567898,8,0:34567:567898,8,1:34567:567898,8,3:34567:567898,8,4:34567:567898,16,0:34567:567898,16,1:34567:567898,16,2:34567:567898,16,3:34567:567898,16,4:34567:567898,32,0:34567:567898,32,1:34567:567898,32,2:34567:567898,32,3:34567:567898,32,4:34567:567894,8,0:56789:987654,8,1:56789:987654,8,2:56789:987654,8,3:56789:987654,8,4:56789:987654,16,0:56789:987654,16,1:56789:987654,16,2:56789:987654,16,3:56789:987654,16,4:56789:987654,32,0:56789:987654,32,1:56789:987654,32,2:56789:987654,32,3:56789:987654,32,4:56789:987658,8,0:56789:987658,8,1:56789:987658,8,2:56789:987658,8,3:56789:987658,8,4:56789:987658,16,0:56789:987658,16,1:56789:987658,16,2:56789:987658,16,3:56789:987658,16,4:56789:987658,32,0:56789:987658,32,1:56789:987658,32,2:56789:987658,32,3:56789:987658,32,4:56789:987654,8,0:98765:765434,8,1:98765:765434,8,2:98765:765434,8,3:98765:765434,8,4:98765:765434,16,0:98765:765434,16,1:98765:765434,16,2:98765:765434,16,3:98765:765434,16,4:98765:765434,32,0:98765:765434,32,1:98765:765434,32,2:98765:765434,32,3:98765:765434,32,4:98765:765438,8,0:98765:765438,8,1:98765:765438,8,2:98765:765438,8,3:98765:765438,8,4:98765:765438,16,0:98765:765438,16,1:98765:765438,16,2:98765:765438,16,3:98765:765438,16,4:98765:765438,32,0:98765:765438,32,1:98765:765438,32,2:98765:765438,32,3:98765:765438,32,4:98765:76543\n"
          ]
        }
      ]
    },
    {
      "cell_type": "code",
      "source": [
        "print(\"For each epochs, batch_size, fold # and seed results between two pairs of files, \\n the # of files between which prediction labels were equal are %d \"%count)"
      ],
      "metadata": {
        "colab": {
          "base_uri": "https://localhost:8080/"
        },
        "outputId": "91cb48ff-a20d-42da-ba18-0b4de2e10dda",
        "id": "Vv-ADl0kzFXx"
      },
      "execution_count": null,
      "outputs": [
        {
          "output_type": "stream",
          "name": "stdout",
          "text": [
            "For each epochs, batch_size, fold # and seed results between two pairs of files, \n",
            " the # of files between which prediction labels were equal are 1 \n"
          ]
        }
      ]
    },
    {
      "cell_type": "markdown",
      "source": [
        "### Deberta"
      ],
      "metadata": {
        "id": "Clvcdo64tvK5"
      }
    },
    {
      "cell_type": "markdown",
      "source": [
        "#### June 17th, 2023"
      ],
      "metadata": {
        "id": "O3Q_u2QNzPtP"
      }
    },
    {
      "cell_type": "code",
      "source": [
        "count = 0\n",
        "unequal = \"\"\n",
        "for f1, f2 in zip(deberta_files_17[:120], deberta_files_17[30:]):\n",
        "  s1 = os.path.basename(f1)[25:].split(\"_\")[0:4]\n",
        "  s2 = os.path.basename(f2)[25:].split(\"_\")[0:4]\n",
        "  if \",\".join(s1[:-1]) == \",\".join(s2[:-1]):\n",
        "    # print(f1, f2)\n",
        "    l1 = pd.read_csv(f1)['pred_labels']\n",
        "    l2 = pd.read_csv(f2)['pred_labels']\n",
        "    res = \"equal\" if l1.equals(other=l2) else \"not equal\"\n",
        "    count += 1 if res == \"equal\" else 0\n",
        "    s = \",\".join(s1[:-1]) +\":\"+ s1[3]+\":\"+s2[3]\n",
        "    if res != \"equal\":\n",
        "      unequal += s\n",
        "    print(\"For this epochs, batch_size, fold # and seed %s the labels are %s \"%(\",\".join(s), res ))\n",
        "print(\"# of files between which prediction labels were equal are %d \"%count)\n",
        "print(\"The epochs, batch_size, fold # and seed that have unequal prediction labels are \",unequal)"
      ],
      "metadata": {
        "colab": {
          "base_uri": "https://localhost:8080/"
        },
        "outputId": "6e6f15ac-d433-44e1-df91-38cd2ee36998",
        "id": "nuXm_koUtvK6"
      },
      "execution_count": null,
      "outputs": [
        {
          "output_type": "stream",
          "name": "stdout",
          "text": [
            "For this epochs, batch_size, fold # and seed 4,,,8,,,0,:,1,2,3,4,5,:,3,4,5,6,7 the labels are not equal \n",
            "For this epochs, batch_size, fold # and seed 4,,,8,,,1,:,1,2,3,4,5,:,3,4,5,6,7 the labels are not equal \n",
            "For this epochs, batch_size, fold # and seed 4,,,8,,,2,:,1,2,3,4,5,:,3,4,5,6,7 the labels are not equal \n",
            "For this epochs, batch_size, fold # and seed 4,,,8,,,3,:,1,2,3,4,5,:,3,4,5,6,7 the labels are not equal \n",
            "For this epochs, batch_size, fold # and seed 4,,,8,,,4,:,1,2,3,4,5,:,3,4,5,6,7 the labels are not equal \n",
            "For this epochs, batch_size, fold # and seed 4,,,1,6,,,0,:,1,2,3,4,5,:,3,4,5,6,7 the labels are not equal \n",
            "For this epochs, batch_size, fold # and seed 4,,,1,6,,,1,:,1,2,3,4,5,:,3,4,5,6,7 the labels are not equal \n",
            "For this epochs, batch_size, fold # and seed 4,,,1,6,,,2,:,1,2,3,4,5,:,3,4,5,6,7 the labels are not equal \n",
            "For this epochs, batch_size, fold # and seed 4,,,1,6,,,3,:,1,2,3,4,5,:,3,4,5,6,7 the labels are not equal \n",
            "For this epochs, batch_size, fold # and seed 4,,,1,6,,,4,:,1,2,3,4,5,:,3,4,5,6,7 the labels are not equal \n",
            "For this epochs, batch_size, fold # and seed 4,,,3,2,,,0,:,1,2,3,4,5,:,3,4,5,6,7 the labels are not equal \n",
            "For this epochs, batch_size, fold # and seed 4,,,3,2,,,1,:,1,2,3,4,5,:,3,4,5,6,7 the labels are not equal \n",
            "For this epochs, batch_size, fold # and seed 4,,,3,2,,,2,:,1,2,3,4,5,:,3,4,5,6,7 the labels are not equal \n",
            "For this epochs, batch_size, fold # and seed 4,,,3,2,,,3,:,1,2,3,4,5,:,3,4,5,6,7 the labels are not equal \n",
            "For this epochs, batch_size, fold # and seed 4,,,3,2,,,4,:,1,2,3,4,5,:,3,4,5,6,7 the labels are not equal \n",
            "For this epochs, batch_size, fold # and seed 8,,,8,,,0,:,1,2,3,4,5,:,3,4,5,6,7 the labels are not equal \n",
            "For this epochs, batch_size, fold # and seed 8,,,8,,,1,:,1,2,3,4,5,:,3,4,5,6,7 the labels are not equal \n",
            "For this epochs, batch_size, fold # and seed 8,,,8,,,2,:,1,2,3,4,5,:,3,4,5,6,7 the labels are not equal \n",
            "For this epochs, batch_size, fold # and seed 8,,,8,,,3,:,1,2,3,4,5,:,3,4,5,6,7 the labels are not equal \n",
            "For this epochs, batch_size, fold # and seed 8,,,8,,,4,:,1,2,3,4,5,:,3,4,5,6,7 the labels are not equal \n",
            "For this epochs, batch_size, fold # and seed 8,,,1,6,,,0,:,1,2,3,4,5,:,3,4,5,6,7 the labels are not equal \n",
            "For this epochs, batch_size, fold # and seed 8,,,1,6,,,1,:,1,2,3,4,5,:,3,4,5,6,7 the labels are not equal \n",
            "For this epochs, batch_size, fold # and seed 8,,,1,6,,,2,:,1,2,3,4,5,:,3,4,5,6,7 the labels are not equal \n",
            "For this epochs, batch_size, fold # and seed 8,,,1,6,,,3,:,1,2,3,4,5,:,3,4,5,6,7 the labels are not equal \n",
            "For this epochs, batch_size, fold # and seed 8,,,1,6,,,4,:,1,2,3,4,5,:,3,4,5,6,7 the labels are not equal \n",
            "For this epochs, batch_size, fold # and seed 8,,,3,2,,,0,:,1,2,3,4,5,:,3,4,5,6,7 the labels are not equal \n",
            "For this epochs, batch_size, fold # and seed 8,,,3,2,,,1,:,1,2,3,4,5,:,3,4,5,6,7 the labels are not equal \n",
            "For this epochs, batch_size, fold # and seed 8,,,3,2,,,2,:,1,2,3,4,5,:,3,4,5,6,7 the labels are not equal \n",
            "For this epochs, batch_size, fold # and seed 8,,,3,2,,,3,:,1,2,3,4,5,:,3,4,5,6,7 the labels are not equal \n",
            "For this epochs, batch_size, fold # and seed 8,,,3,2,,,4,:,1,2,3,4,5,:,3,4,5,6,7 the labels are not equal \n",
            "For this epochs, batch_size, fold # and seed 4,,,8,,,0,:,3,4,5,6,7,:,5,6,7,8,9 the labels are not equal \n",
            "For this epochs, batch_size, fold # and seed 4,,,8,,,1,:,3,4,5,6,7,:,5,6,7,8,9 the labels are not equal \n",
            "For this epochs, batch_size, fold # and seed 4,,,8,,,2,:,3,4,5,6,7,:,5,6,7,8,9 the labels are not equal \n",
            "For this epochs, batch_size, fold # and seed 4,,,8,,,3,:,3,4,5,6,7,:,5,6,7,8,9 the labels are not equal \n",
            "For this epochs, batch_size, fold # and seed 4,,,8,,,4,:,3,4,5,6,7,:,5,6,7,8,9 the labels are not equal \n",
            "For this epochs, batch_size, fold # and seed 4,,,1,6,,,0,:,3,4,5,6,7,:,5,6,7,8,9 the labels are not equal \n",
            "For this epochs, batch_size, fold # and seed 4,,,1,6,,,1,:,3,4,5,6,7,:,5,6,7,8,9 the labels are not equal \n",
            "For this epochs, batch_size, fold # and seed 4,,,1,6,,,2,:,3,4,5,6,7,:,5,6,7,8,9 the labels are not equal \n",
            "For this epochs, batch_size, fold # and seed 4,,,1,6,,,3,:,3,4,5,6,7,:,5,6,7,8,9 the labels are not equal \n",
            "For this epochs, batch_size, fold # and seed 4,,,1,6,,,4,:,3,4,5,6,7,:,5,6,7,8,9 the labels are not equal \n",
            "For this epochs, batch_size, fold # and seed 4,,,3,2,,,0,:,3,4,5,6,7,:,5,6,7,8,9 the labels are not equal \n",
            "For this epochs, batch_size, fold # and seed 4,,,3,2,,,1,:,3,4,5,6,7,:,5,6,7,8,9 the labels are not equal \n",
            "For this epochs, batch_size, fold # and seed 4,,,3,2,,,2,:,3,4,5,6,7,:,5,6,7,8,9 the labels are not equal \n",
            "For this epochs, batch_size, fold # and seed 4,,,3,2,,,3,:,3,4,5,6,7,:,5,6,7,8,9 the labels are not equal \n",
            "For this epochs, batch_size, fold # and seed 4,,,3,2,,,4,:,3,4,5,6,7,:,5,6,7,8,9 the labels are not equal \n",
            "For this epochs, batch_size, fold # and seed 8,,,8,,,0,:,3,4,5,6,7,:,5,6,7,8,9 the labels are not equal \n",
            "For this epochs, batch_size, fold # and seed 8,,,8,,,1,:,3,4,5,6,7,:,5,6,7,8,9 the labels are not equal \n",
            "For this epochs, batch_size, fold # and seed 8,,,8,,,2,:,3,4,5,6,7,:,5,6,7,8,9 the labels are not equal \n",
            "For this epochs, batch_size, fold # and seed 8,,,8,,,3,:,3,4,5,6,7,:,5,6,7,8,9 the labels are not equal \n",
            "For this epochs, batch_size, fold # and seed 8,,,8,,,4,:,3,4,5,6,7,:,5,6,7,8,9 the labels are not equal \n",
            "For this epochs, batch_size, fold # and seed 8,,,1,6,,,0,:,3,4,5,6,7,:,5,6,7,8,9 the labels are not equal \n",
            "For this epochs, batch_size, fold # and seed 8,,,1,6,,,1,:,3,4,5,6,7,:,5,6,7,8,9 the labels are not equal \n",
            "For this epochs, batch_size, fold # and seed 8,,,1,6,,,2,:,3,4,5,6,7,:,5,6,7,8,9 the labels are not equal \n",
            "For this epochs, batch_size, fold # and seed 8,,,1,6,,,3,:,3,4,5,6,7,:,5,6,7,8,9 the labels are not equal \n",
            "For this epochs, batch_size, fold # and seed 8,,,1,6,,,4,:,3,4,5,6,7,:,5,6,7,8,9 the labels are not equal \n",
            "For this epochs, batch_size, fold # and seed 8,,,3,2,,,0,:,3,4,5,6,7,:,5,6,7,8,9 the labels are not equal \n",
            "For this epochs, batch_size, fold # and seed 8,,,3,2,,,1,:,3,4,5,6,7,:,5,6,7,8,9 the labels are not equal \n",
            "For this epochs, batch_size, fold # and seed 8,,,3,2,,,2,:,3,4,5,6,7,:,5,6,7,8,9 the labels are not equal \n",
            "For this epochs, batch_size, fold # and seed 8,,,3,2,,,3,:,3,4,5,6,7,:,5,6,7,8,9 the labels are not equal \n",
            "For this epochs, batch_size, fold # and seed 8,,,3,2,,,4,:,3,4,5,6,7,:,5,6,7,8,9 the labels are not equal \n",
            "For this epochs, batch_size, fold # and seed 4,,,8,,,0,:,5,6,7,8,9,:,9,8,7,6,5 the labels are not equal \n",
            "For this epochs, batch_size, fold # and seed 4,,,8,,,1,:,5,6,7,8,9,:,9,8,7,6,5 the labels are not equal \n",
            "For this epochs, batch_size, fold # and seed 4,,,8,,,2,:,5,6,7,8,9,:,9,8,7,6,5 the labels are not equal \n",
            "For this epochs, batch_size, fold # and seed 4,,,8,,,3,:,5,6,7,8,9,:,9,8,7,6,5 the labels are not equal \n",
            "For this epochs, batch_size, fold # and seed 4,,,8,,,4,:,5,6,7,8,9,:,9,8,7,6,5 the labels are not equal \n",
            "For this epochs, batch_size, fold # and seed 4,,,1,6,,,0,:,5,6,7,8,9,:,9,8,7,6,5 the labels are not equal \n",
            "For this epochs, batch_size, fold # and seed 4,,,1,6,,,1,:,5,6,7,8,9,:,9,8,7,6,5 the labels are not equal \n",
            "For this epochs, batch_size, fold # and seed 4,,,1,6,,,2,:,5,6,7,8,9,:,9,8,7,6,5 the labels are not equal \n",
            "For this epochs, batch_size, fold # and seed 4,,,1,6,,,3,:,5,6,7,8,9,:,9,8,7,6,5 the labels are not equal \n",
            "For this epochs, batch_size, fold # and seed 4,,,1,6,,,4,:,5,6,7,8,9,:,9,8,7,6,5 the labels are not equal \n",
            "For this epochs, batch_size, fold # and seed 4,,,3,2,,,0,:,5,6,7,8,9,:,9,8,7,6,5 the labels are not equal \n",
            "For this epochs, batch_size, fold # and seed 4,,,3,2,,,1,:,5,6,7,8,9,:,9,8,7,6,5 the labels are not equal \n",
            "For this epochs, batch_size, fold # and seed 4,,,3,2,,,2,:,5,6,7,8,9,:,9,8,7,6,5 the labels are not equal \n",
            "For this epochs, batch_size, fold # and seed 4,,,3,2,,,3,:,5,6,7,8,9,:,9,8,7,6,5 the labels are not equal \n",
            "For this epochs, batch_size, fold # and seed 4,,,3,2,,,4,:,5,6,7,8,9,:,9,8,7,6,5 the labels are not equal \n",
            "For this epochs, batch_size, fold # and seed 8,,,8,,,0,:,5,6,7,8,9,:,9,8,7,6,5 the labels are not equal \n",
            "For this epochs, batch_size, fold # and seed 8,,,8,,,1,:,5,6,7,8,9,:,9,8,7,6,5 the labels are not equal \n",
            "For this epochs, batch_size, fold # and seed 8,,,8,,,2,:,5,6,7,8,9,:,9,8,7,6,5 the labels are not equal \n",
            "For this epochs, batch_size, fold # and seed 8,,,8,,,3,:,5,6,7,8,9,:,9,8,7,6,5 the labels are not equal \n",
            "For this epochs, batch_size, fold # and seed 8,,,8,,,4,:,5,6,7,8,9,:,9,8,7,6,5 the labels are not equal \n",
            "For this epochs, batch_size, fold # and seed 8,,,1,6,,,0,:,5,6,7,8,9,:,9,8,7,6,5 the labels are not equal \n",
            "For this epochs, batch_size, fold # and seed 8,,,1,6,,,1,:,5,6,7,8,9,:,9,8,7,6,5 the labels are not equal \n",
            "For this epochs, batch_size, fold # and seed 8,,,1,6,,,2,:,5,6,7,8,9,:,9,8,7,6,5 the labels are not equal \n",
            "For this epochs, batch_size, fold # and seed 8,,,1,6,,,3,:,5,6,7,8,9,:,9,8,7,6,5 the labels are not equal \n",
            "For this epochs, batch_size, fold # and seed 8,,,1,6,,,4,:,5,6,7,8,9,:,9,8,7,6,5 the labels are not equal \n",
            "For this epochs, batch_size, fold # and seed 8,,,3,2,,,0,:,5,6,7,8,9,:,9,8,7,6,5 the labels are not equal \n",
            "For this epochs, batch_size, fold # and seed 8,,,3,2,,,1,:,5,6,7,8,9,:,9,8,7,6,5 the labels are not equal \n",
            "For this epochs, batch_size, fold # and seed 8,,,3,2,,,2,:,5,6,7,8,9,:,9,8,7,6,5 the labels are not equal \n",
            "For this epochs, batch_size, fold # and seed 8,,,3,2,,,3,:,5,6,7,8,9,:,9,8,7,6,5 the labels are not equal \n",
            "For this epochs, batch_size, fold # and seed 8,,,3,2,,,4,:,5,6,7,8,9,:,9,8,7,6,5 the labels are not equal \n",
            "For this epochs, batch_size, fold # and seed 4,,,8,,,0,:,9,8,7,6,5,:,7,6,5,4,3 the labels are not equal \n",
            "For this epochs, batch_size, fold # and seed 4,,,8,,,1,:,9,8,7,6,5,:,7,6,5,4,3 the labels are not equal \n",
            "For this epochs, batch_size, fold # and seed 4,,,8,,,2,:,9,8,7,6,5,:,7,6,5,4,3 the labels are not equal \n",
            "For this epochs, batch_size, fold # and seed 4,,,8,,,3,:,9,8,7,6,5,:,7,6,5,4,3 the labels are not equal \n",
            "For this epochs, batch_size, fold # and seed 4,,,8,,,4,:,9,8,7,6,5,:,7,6,5,4,3 the labels are not equal \n",
            "For this epochs, batch_size, fold # and seed 4,,,1,6,,,0,:,9,8,7,6,5,:,7,6,5,4,3 the labels are not equal \n",
            "For this epochs, batch_size, fold # and seed 4,,,1,6,,,1,:,9,8,7,6,5,:,7,6,5,4,3 the labels are not equal \n",
            "For this epochs, batch_size, fold # and seed 4,,,1,6,,,2,:,9,8,7,6,5,:,7,6,5,4,3 the labels are not equal \n",
            "For this epochs, batch_size, fold # and seed 4,,,1,6,,,3,:,9,8,7,6,5,:,7,6,5,4,3 the labels are not equal \n",
            "For this epochs, batch_size, fold # and seed 4,,,1,6,,,4,:,9,8,7,6,5,:,7,6,5,4,3 the labels are not equal \n",
            "For this epochs, batch_size, fold # and seed 4,,,3,2,,,0,:,9,8,7,6,5,:,7,6,5,4,3 the labels are not equal \n",
            "For this epochs, batch_size, fold # and seed 4,,,3,2,,,1,:,9,8,7,6,5,:,7,6,5,4,3 the labels are not equal \n",
            "For this epochs, batch_size, fold # and seed 4,,,3,2,,,2,:,9,8,7,6,5,:,7,6,5,4,3 the labels are not equal \n",
            "For this epochs, batch_size, fold # and seed 4,,,3,2,,,3,:,9,8,7,6,5,:,7,6,5,4,3 the labels are not equal \n",
            "For this epochs, batch_size, fold # and seed 4,,,3,2,,,4,:,9,8,7,6,5,:,7,6,5,4,3 the labels are not equal \n",
            "For this epochs, batch_size, fold # and seed 8,,,8,,,0,:,9,8,7,6,5,:,7,6,5,4,3 the labels are not equal \n",
            "For this epochs, batch_size, fold # and seed 8,,,8,,,1,:,9,8,7,6,5,:,7,6,5,4,3 the labels are not equal \n",
            "For this epochs, batch_size, fold # and seed 8,,,8,,,2,:,9,8,7,6,5,:,7,6,5,4,3 the labels are not equal \n",
            "For this epochs, batch_size, fold # and seed 8,,,8,,,3,:,9,8,7,6,5,:,7,6,5,4,3 the labels are not equal \n",
            "For this epochs, batch_size, fold # and seed 8,,,8,,,4,:,9,8,7,6,5,:,7,6,5,4,3 the labels are not equal \n",
            "For this epochs, batch_size, fold # and seed 8,,,1,6,,,0,:,9,8,7,6,5,:,7,6,5,4,3 the labels are not equal \n",
            "For this epochs, batch_size, fold # and seed 8,,,1,6,,,1,:,9,8,7,6,5,:,7,6,5,4,3 the labels are not equal \n",
            "For this epochs, batch_size, fold # and seed 8,,,1,6,,,2,:,9,8,7,6,5,:,7,6,5,4,3 the labels are not equal \n",
            "For this epochs, batch_size, fold # and seed 8,,,1,6,,,3,:,9,8,7,6,5,:,7,6,5,4,3 the labels are not equal \n",
            "For this epochs, batch_size, fold # and seed 8,,,1,6,,,4,:,9,8,7,6,5,:,7,6,5,4,3 the labels are not equal \n",
            "For this epochs, batch_size, fold # and seed 8,,,3,2,,,0,:,9,8,7,6,5,:,7,6,5,4,3 the labels are not equal \n",
            "For this epochs, batch_size, fold # and seed 8,,,3,2,,,1,:,9,8,7,6,5,:,7,6,5,4,3 the labels are not equal \n",
            "For this epochs, batch_size, fold # and seed 8,,,3,2,,,2,:,9,8,7,6,5,:,7,6,5,4,3 the labels are not equal \n",
            "For this epochs, batch_size, fold # and seed 8,,,3,2,,,3,:,9,8,7,6,5,:,7,6,5,4,3 the labels are not equal \n",
            "For this epochs, batch_size, fold # and seed 8,,,3,2,,,4,:,9,8,7,6,5,:,7,6,5,4,3 the labels are not equal \n",
            "# of files between which prediction labels were equal are 0 \n",
            "The epochs, batch_size, fold # and seed that have unequal prediction labels are  4,8,0:12345:345674,8,1:12345:345674,8,2:12345:345674,8,3:12345:345674,8,4:12345:345674,16,0:12345:345674,16,1:12345:345674,16,2:12345:345674,16,3:12345:345674,16,4:12345:345674,32,0:12345:345674,32,1:12345:345674,32,2:12345:345674,32,3:12345:345674,32,4:12345:345678,8,0:12345:345678,8,1:12345:345678,8,2:12345:345678,8,3:12345:345678,8,4:12345:345678,16,0:12345:345678,16,1:12345:345678,16,2:12345:345678,16,3:12345:345678,16,4:12345:345678,32,0:12345:345678,32,1:12345:345678,32,2:12345:345678,32,3:12345:345678,32,4:12345:345674,8,0:34567:567894,8,1:34567:567894,8,2:34567:567894,8,3:34567:567894,8,4:34567:567894,16,0:34567:567894,16,1:34567:567894,16,2:34567:567894,16,3:34567:567894,16,4:34567:567894,32,0:34567:567894,32,1:34567:567894,32,2:34567:567894,32,3:34567:567894,32,4:34567:567898,8,0:34567:567898,8,1:34567:567898,8,2:34567:567898,8,3:34567:567898,8,4:34567:567898,16,0:34567:567898,16,1:34567:567898,16,2:34567:567898,16,3:34567:567898,16,4:34567:567898,32,0:34567:567898,32,1:34567:567898,32,2:34567:567898,32,3:34567:567898,32,4:34567:567894,8,0:56789:987654,8,1:56789:987654,8,2:56789:987654,8,3:56789:987654,8,4:56789:987654,16,0:56789:987654,16,1:56789:987654,16,2:56789:987654,16,3:56789:987654,16,4:56789:987654,32,0:56789:987654,32,1:56789:987654,32,2:56789:987654,32,3:56789:987654,32,4:56789:987658,8,0:56789:987658,8,1:56789:987658,8,2:56789:987658,8,3:56789:987658,8,4:56789:987658,16,0:56789:987658,16,1:56789:987658,16,2:56789:987658,16,3:56789:987658,16,4:56789:987658,32,0:56789:987658,32,1:56789:987658,32,2:56789:987658,32,3:56789:987658,32,4:56789:987654,8,0:98765:765434,8,1:98765:765434,8,2:98765:765434,8,3:98765:765434,8,4:98765:765434,16,0:98765:765434,16,1:98765:765434,16,2:98765:765434,16,3:98765:765434,16,4:98765:765434,32,0:98765:765434,32,1:98765:765434,32,2:98765:765434,32,3:98765:765434,32,4:98765:765438,8,0:98765:765438,8,1:98765:765438,8,2:98765:765438,8,3:98765:765438,8,4:98765:765438,16,0:98765:765438,16,1:98765:765438,16,2:98765:765438,16,3:98765:765438,16,4:98765:765438,32,0:98765:765438,32,1:98765:765438,32,2:98765:765438,32,3:98765:765438,32,4:98765:76543\n"
          ]
        }
      ]
    },
    {
      "cell_type": "code",
      "source": [
        "print(\"For each epochs, batch_size, fold # and seed results between two pairs of files, \\n the # of files between which prediction labels were equal are %d \"%count)"
      ],
      "metadata": {
        "colab": {
          "base_uri": "https://localhost:8080/"
        },
        "outputId": "95f31e18-30f7-40fa-fad8-feb27491807a",
        "id": "dBbEQQEytvK6"
      },
      "execution_count": null,
      "outputs": [
        {
          "output_type": "stream",
          "name": "stdout",
          "text": [
            "For each epochs, batch_size, fold # and seed results between two pairs of files, \n",
            " the # of files between which prediction labels were equal are 0 \n"
          ]
        }
      ]
    },
    {
      "cell_type": "markdown",
      "source": [
        "#### June 18th, 2023"
      ],
      "metadata": {
        "id": "fSuIoHyazYDC"
      }
    },
    {
      "cell_type": "code",
      "source": [
        "count = 0\n",
        "unequal = \"\"\n",
        "for f1, f2 in zip(deberta_files_18[:120], deberta_files_18[30:]):\n",
        "  s1 = os.path.basename(f1)[25:].split(\"_\")[0:4]\n",
        "  s2 = os.path.basename(f2)[25:].split(\"_\")[0:4]\n",
        "  if \",\".join(s1[:-1]) == \",\".join(s2[:-1]):\n",
        "    # print(f1, f2)\n",
        "    l1 = pd.read_csv(f1)['pred_labels']\n",
        "    l2 = pd.read_csv(f2)['pred_labels']\n",
        "    res = \"equal\" if l1.equals(other=l2) else \"not equal\"\n",
        "    count += 1 if res == \"equal\" else 0\n",
        "    s = \",\".join(s1[:-1]) +\":\"+ s1[3]+\":\"+s2[3]\n",
        "    if res != \"equal\":\n",
        "      unequal += s\n",
        "    print(\"For this epochs, batch_size, fold # and seed %s the labels are %s \"%(\",\".join(s), res ))\n",
        "print(\"# of files between which prediction labels were equal are %d \"%count)\n",
        "print(\"The epochs, batch_size, fold # and seed that have unequal prediction labels are \",unequal)"
      ],
      "metadata": {
        "colab": {
          "base_uri": "https://localhost:8080/"
        },
        "outputId": "549e1905-cdcd-4a61-cde2-8d86d30ae856",
        "id": "7FjML3cezYDR"
      },
      "execution_count": null,
      "outputs": [
        {
          "output_type": "stream",
          "name": "stdout",
          "text": [
            "For this epochs, batch_size, fold # and seed 4,,,8,,,0,:,1,2,3,4,5,:,3,4,5,6,7 the labels are not equal \n",
            "For this epochs, batch_size, fold # and seed 4,,,8,,,1,:,1,2,3,4,5,:,3,4,5,6,7 the labels are not equal \n",
            "For this epochs, batch_size, fold # and seed 4,,,8,,,2,:,1,2,3,4,5,:,3,4,5,6,7 the labels are not equal \n",
            "For this epochs, batch_size, fold # and seed 4,,,8,,,3,:,1,2,3,4,5,:,3,4,5,6,7 the labels are not equal \n",
            "For this epochs, batch_size, fold # and seed 4,,,8,,,4,:,1,2,3,4,5,:,3,4,5,6,7 the labels are not equal \n",
            "For this epochs, batch_size, fold # and seed 4,,,1,6,,,0,:,1,2,3,4,5,:,3,4,5,6,7 the labels are not equal \n",
            "For this epochs, batch_size, fold # and seed 4,,,1,6,,,1,:,1,2,3,4,5,:,3,4,5,6,7 the labels are not equal \n",
            "For this epochs, batch_size, fold # and seed 4,,,1,6,,,2,:,1,2,3,4,5,:,3,4,5,6,7 the labels are not equal \n",
            "For this epochs, batch_size, fold # and seed 4,,,1,6,,,3,:,1,2,3,4,5,:,3,4,5,6,7 the labels are not equal \n",
            "For this epochs, batch_size, fold # and seed 4,,,1,6,,,4,:,1,2,3,4,5,:,3,4,5,6,7 the labels are not equal \n",
            "For this epochs, batch_size, fold # and seed 4,,,3,2,,,0,:,1,2,3,4,5,:,3,4,5,6,7 the labels are not equal \n",
            "For this epochs, batch_size, fold # and seed 4,,,3,2,,,1,:,1,2,3,4,5,:,3,4,5,6,7 the labels are not equal \n",
            "For this epochs, batch_size, fold # and seed 4,,,3,2,,,2,:,1,2,3,4,5,:,3,4,5,6,7 the labels are not equal \n",
            "For this epochs, batch_size, fold # and seed 4,,,3,2,,,3,:,1,2,3,4,5,:,3,4,5,6,7 the labels are not equal \n",
            "For this epochs, batch_size, fold # and seed 4,,,3,2,,,4,:,1,2,3,4,5,:,3,4,5,6,7 the labels are not equal \n",
            "For this epochs, batch_size, fold # and seed 8,,,8,,,0,:,1,2,3,4,5,:,3,4,5,6,7 the labels are not equal \n",
            "For this epochs, batch_size, fold # and seed 8,,,8,,,1,:,1,2,3,4,5,:,3,4,5,6,7 the labels are not equal \n",
            "For this epochs, batch_size, fold # and seed 8,,,8,,,2,:,1,2,3,4,5,:,3,4,5,6,7 the labels are not equal \n",
            "For this epochs, batch_size, fold # and seed 8,,,8,,,3,:,1,2,3,4,5,:,3,4,5,6,7 the labels are not equal \n",
            "For this epochs, batch_size, fold # and seed 8,,,8,,,4,:,1,2,3,4,5,:,3,4,5,6,7 the labels are not equal \n",
            "For this epochs, batch_size, fold # and seed 8,,,1,6,,,0,:,1,2,3,4,5,:,3,4,5,6,7 the labels are not equal \n",
            "For this epochs, batch_size, fold # and seed 8,,,1,6,,,1,:,1,2,3,4,5,:,3,4,5,6,7 the labels are not equal \n",
            "For this epochs, batch_size, fold # and seed 8,,,1,6,,,2,:,1,2,3,4,5,:,3,4,5,6,7 the labels are not equal \n",
            "For this epochs, batch_size, fold # and seed 8,,,1,6,,,3,:,1,2,3,4,5,:,3,4,5,6,7 the labels are not equal \n",
            "For this epochs, batch_size, fold # and seed 8,,,1,6,,,4,:,1,2,3,4,5,:,3,4,5,6,7 the labels are not equal \n",
            "For this epochs, batch_size, fold # and seed 8,,,3,2,,,0,:,1,2,3,4,5,:,3,4,5,6,7 the labels are not equal \n",
            "For this epochs, batch_size, fold # and seed 8,,,3,2,,,1,:,1,2,3,4,5,:,3,4,5,6,7 the labels are not equal \n",
            "For this epochs, batch_size, fold # and seed 8,,,3,2,,,2,:,1,2,3,4,5,:,3,4,5,6,7 the labels are not equal \n",
            "For this epochs, batch_size, fold # and seed 8,,,3,2,,,3,:,1,2,3,4,5,:,3,4,5,6,7 the labels are not equal \n",
            "For this epochs, batch_size, fold # and seed 8,,,3,2,,,4,:,1,2,3,4,5,:,3,4,5,6,7 the labels are not equal \n",
            "For this epochs, batch_size, fold # and seed 4,,,8,,,0,:,3,4,5,6,7,:,5,6,7,8,9 the labels are not equal \n",
            "For this epochs, batch_size, fold # and seed 4,,,8,,,1,:,3,4,5,6,7,:,5,6,7,8,9 the labels are not equal \n",
            "For this epochs, batch_size, fold # and seed 4,,,8,,,2,:,3,4,5,6,7,:,5,6,7,8,9 the labels are not equal \n",
            "For this epochs, batch_size, fold # and seed 4,,,8,,,3,:,3,4,5,6,7,:,5,6,7,8,9 the labels are not equal \n",
            "For this epochs, batch_size, fold # and seed 4,,,8,,,4,:,3,4,5,6,7,:,5,6,7,8,9 the labels are not equal \n",
            "For this epochs, batch_size, fold # and seed 4,,,1,6,,,0,:,3,4,5,6,7,:,5,6,7,8,9 the labels are not equal \n",
            "For this epochs, batch_size, fold # and seed 4,,,1,6,,,1,:,3,4,5,6,7,:,5,6,7,8,9 the labels are not equal \n",
            "For this epochs, batch_size, fold # and seed 4,,,1,6,,,2,:,3,4,5,6,7,:,5,6,7,8,9 the labels are not equal \n",
            "For this epochs, batch_size, fold # and seed 4,,,1,6,,,3,:,3,4,5,6,7,:,5,6,7,8,9 the labels are not equal \n",
            "For this epochs, batch_size, fold # and seed 4,,,1,6,,,4,:,3,4,5,6,7,:,5,6,7,8,9 the labels are not equal \n",
            "For this epochs, batch_size, fold # and seed 4,,,3,2,,,0,:,3,4,5,6,7,:,5,6,7,8,9 the labels are not equal \n",
            "For this epochs, batch_size, fold # and seed 4,,,3,2,,,1,:,3,4,5,6,7,:,5,6,7,8,9 the labels are not equal \n",
            "For this epochs, batch_size, fold # and seed 4,,,3,2,,,2,:,3,4,5,6,7,:,5,6,7,8,9 the labels are not equal \n",
            "For this epochs, batch_size, fold # and seed 4,,,3,2,,,3,:,3,4,5,6,7,:,5,6,7,8,9 the labels are not equal \n",
            "For this epochs, batch_size, fold # and seed 4,,,3,2,,,4,:,3,4,5,6,7,:,5,6,7,8,9 the labels are not equal \n",
            "For this epochs, batch_size, fold # and seed 8,,,8,,,0,:,3,4,5,6,7,:,5,6,7,8,9 the labels are not equal \n",
            "For this epochs, batch_size, fold # and seed 8,,,8,,,1,:,3,4,5,6,7,:,5,6,7,8,9 the labels are not equal \n",
            "For this epochs, batch_size, fold # and seed 8,,,8,,,2,:,3,4,5,6,7,:,5,6,7,8,9 the labels are not equal \n",
            "For this epochs, batch_size, fold # and seed 8,,,8,,,3,:,3,4,5,6,7,:,5,6,7,8,9 the labels are not equal \n",
            "For this epochs, batch_size, fold # and seed 8,,,8,,,4,:,3,4,5,6,7,:,5,6,7,8,9 the labels are not equal \n",
            "For this epochs, batch_size, fold # and seed 8,,,1,6,,,0,:,3,4,5,6,7,:,5,6,7,8,9 the labels are not equal \n",
            "For this epochs, batch_size, fold # and seed 8,,,1,6,,,1,:,3,4,5,6,7,:,5,6,7,8,9 the labels are not equal \n",
            "For this epochs, batch_size, fold # and seed 8,,,1,6,,,2,:,3,4,5,6,7,:,5,6,7,8,9 the labels are not equal \n",
            "For this epochs, batch_size, fold # and seed 8,,,1,6,,,3,:,3,4,5,6,7,:,5,6,7,8,9 the labels are not equal \n",
            "For this epochs, batch_size, fold # and seed 8,,,1,6,,,4,:,3,4,5,6,7,:,5,6,7,8,9 the labels are not equal \n",
            "For this epochs, batch_size, fold # and seed 8,,,3,2,,,0,:,3,4,5,6,7,:,5,6,7,8,9 the labels are not equal \n",
            "For this epochs, batch_size, fold # and seed 8,,,3,2,,,1,:,3,4,5,6,7,:,5,6,7,8,9 the labels are not equal \n",
            "For this epochs, batch_size, fold # and seed 8,,,3,2,,,2,:,3,4,5,6,7,:,5,6,7,8,9 the labels are not equal \n",
            "For this epochs, batch_size, fold # and seed 8,,,3,2,,,3,:,3,4,5,6,7,:,5,6,7,8,9 the labels are not equal \n",
            "For this epochs, batch_size, fold # and seed 8,,,3,2,,,4,:,3,4,5,6,7,:,5,6,7,8,9 the labels are not equal \n",
            "For this epochs, batch_size, fold # and seed 4,,,8,,,0,:,5,6,7,8,9,:,9,8,7,6,5 the labels are not equal \n",
            "For this epochs, batch_size, fold # and seed 4,,,8,,,1,:,5,6,7,8,9,:,9,8,7,6,5 the labels are not equal \n",
            "For this epochs, batch_size, fold # and seed 4,,,8,,,2,:,5,6,7,8,9,:,9,8,7,6,5 the labels are not equal \n",
            "For this epochs, batch_size, fold # and seed 4,,,8,,,3,:,5,6,7,8,9,:,9,8,7,6,5 the labels are not equal \n",
            "For this epochs, batch_size, fold # and seed 4,,,8,,,4,:,5,6,7,8,9,:,9,8,7,6,5 the labels are not equal \n",
            "For this epochs, batch_size, fold # and seed 4,,,1,6,,,0,:,5,6,7,8,9,:,9,8,7,6,5 the labels are not equal \n",
            "For this epochs, batch_size, fold # and seed 4,,,1,6,,,1,:,5,6,7,8,9,:,9,8,7,6,5 the labels are not equal \n",
            "For this epochs, batch_size, fold # and seed 4,,,1,6,,,2,:,5,6,7,8,9,:,9,8,7,6,5 the labels are not equal \n",
            "For this epochs, batch_size, fold # and seed 4,,,1,6,,,3,:,5,6,7,8,9,:,9,8,7,6,5 the labels are not equal \n",
            "For this epochs, batch_size, fold # and seed 4,,,1,6,,,4,:,5,6,7,8,9,:,9,8,7,6,5 the labels are not equal \n",
            "For this epochs, batch_size, fold # and seed 4,,,3,2,,,0,:,5,6,7,8,9,:,9,8,7,6,5 the labels are not equal \n",
            "For this epochs, batch_size, fold # and seed 4,,,3,2,,,1,:,5,6,7,8,9,:,9,8,7,6,5 the labels are not equal \n",
            "For this epochs, batch_size, fold # and seed 4,,,3,2,,,2,:,5,6,7,8,9,:,9,8,7,6,5 the labels are not equal \n",
            "For this epochs, batch_size, fold # and seed 4,,,3,2,,,3,:,5,6,7,8,9,:,9,8,7,6,5 the labels are not equal \n",
            "For this epochs, batch_size, fold # and seed 4,,,3,2,,,4,:,5,6,7,8,9,:,9,8,7,6,5 the labels are not equal \n",
            "For this epochs, batch_size, fold # and seed 8,,,8,,,0,:,5,6,7,8,9,:,9,8,7,6,5 the labels are not equal \n",
            "For this epochs, batch_size, fold # and seed 8,,,8,,,1,:,5,6,7,8,9,:,9,8,7,6,5 the labels are not equal \n",
            "For this epochs, batch_size, fold # and seed 8,,,8,,,2,:,5,6,7,8,9,:,9,8,7,6,5 the labels are not equal \n",
            "For this epochs, batch_size, fold # and seed 8,,,8,,,3,:,5,6,7,8,9,:,9,8,7,6,5 the labels are not equal \n",
            "For this epochs, batch_size, fold # and seed 8,,,8,,,4,:,5,6,7,8,9,:,9,8,7,6,5 the labels are not equal \n",
            "For this epochs, batch_size, fold # and seed 8,,,1,6,,,0,:,5,6,7,8,9,:,9,8,7,6,5 the labels are not equal \n",
            "For this epochs, batch_size, fold # and seed 8,,,1,6,,,1,:,5,6,7,8,9,:,9,8,7,6,5 the labels are not equal \n",
            "For this epochs, batch_size, fold # and seed 8,,,1,6,,,2,:,5,6,7,8,9,:,9,8,7,6,5 the labels are not equal \n",
            "For this epochs, batch_size, fold # and seed 8,,,1,6,,,3,:,5,6,7,8,9,:,9,8,7,6,5 the labels are not equal \n",
            "For this epochs, batch_size, fold # and seed 8,,,1,6,,,4,:,5,6,7,8,9,:,9,8,7,6,5 the labels are not equal \n",
            "For this epochs, batch_size, fold # and seed 8,,,3,2,,,0,:,5,6,7,8,9,:,9,8,7,6,5 the labels are not equal \n",
            "For this epochs, batch_size, fold # and seed 8,,,3,2,,,1,:,5,6,7,8,9,:,9,8,7,6,5 the labels are not equal \n",
            "For this epochs, batch_size, fold # and seed 8,,,3,2,,,2,:,5,6,7,8,9,:,9,8,7,6,5 the labels are not equal \n",
            "For this epochs, batch_size, fold # and seed 8,,,3,2,,,3,:,5,6,7,8,9,:,9,8,7,6,5 the labels are not equal \n",
            "For this epochs, batch_size, fold # and seed 8,,,3,2,,,4,:,5,6,7,8,9,:,9,8,7,6,5 the labels are not equal \n",
            "For this epochs, batch_size, fold # and seed 4,,,8,,,0,:,9,8,7,6,5,:,7,6,5,4,3 the labels are not equal \n",
            "For this epochs, batch_size, fold # and seed 4,,,8,,,1,:,9,8,7,6,5,:,7,6,5,4,3 the labels are not equal \n",
            "For this epochs, batch_size, fold # and seed 4,,,8,,,2,:,9,8,7,6,5,:,7,6,5,4,3 the labels are not equal \n",
            "For this epochs, batch_size, fold # and seed 4,,,8,,,3,:,9,8,7,6,5,:,7,6,5,4,3 the labels are not equal \n",
            "For this epochs, batch_size, fold # and seed 4,,,8,,,4,:,9,8,7,6,5,:,7,6,5,4,3 the labels are not equal \n",
            "For this epochs, batch_size, fold # and seed 4,,,1,6,,,0,:,9,8,7,6,5,:,7,6,5,4,3 the labels are not equal \n",
            "For this epochs, batch_size, fold # and seed 4,,,1,6,,,1,:,9,8,7,6,5,:,7,6,5,4,3 the labels are not equal \n",
            "For this epochs, batch_size, fold # and seed 4,,,1,6,,,2,:,9,8,7,6,5,:,7,6,5,4,3 the labels are not equal \n",
            "For this epochs, batch_size, fold # and seed 4,,,1,6,,,3,:,9,8,7,6,5,:,7,6,5,4,3 the labels are not equal \n",
            "For this epochs, batch_size, fold # and seed 4,,,1,6,,,4,:,9,8,7,6,5,:,7,6,5,4,3 the labels are not equal \n",
            "For this epochs, batch_size, fold # and seed 4,,,3,2,,,0,:,9,8,7,6,5,:,7,6,5,4,3 the labels are not equal \n",
            "For this epochs, batch_size, fold # and seed 4,,,3,2,,,1,:,9,8,7,6,5,:,7,6,5,4,3 the labels are not equal \n",
            "For this epochs, batch_size, fold # and seed 4,,,3,2,,,2,:,9,8,7,6,5,:,7,6,5,4,3 the labels are not equal \n",
            "For this epochs, batch_size, fold # and seed 4,,,3,2,,,3,:,9,8,7,6,5,:,7,6,5,4,3 the labels are not equal \n",
            "For this epochs, batch_size, fold # and seed 4,,,3,2,,,4,:,9,8,7,6,5,:,7,6,5,4,3 the labels are not equal \n",
            "For this epochs, batch_size, fold # and seed 8,,,8,,,0,:,9,8,7,6,5,:,7,6,5,4,3 the labels are not equal \n",
            "For this epochs, batch_size, fold # and seed 8,,,8,,,1,:,9,8,7,6,5,:,7,6,5,4,3 the labels are not equal \n",
            "For this epochs, batch_size, fold # and seed 8,,,8,,,2,:,9,8,7,6,5,:,7,6,5,4,3 the labels are not equal \n",
            "For this epochs, batch_size, fold # and seed 8,,,8,,,3,:,9,8,7,6,5,:,7,6,5,4,3 the labels are not equal \n",
            "For this epochs, batch_size, fold # and seed 8,,,8,,,4,:,9,8,7,6,5,:,7,6,5,4,3 the labels are not equal \n",
            "For this epochs, batch_size, fold # and seed 8,,,1,6,,,0,:,9,8,7,6,5,:,7,6,5,4,3 the labels are not equal \n",
            "For this epochs, batch_size, fold # and seed 8,,,1,6,,,1,:,9,8,7,6,5,:,7,6,5,4,3 the labels are not equal \n",
            "For this epochs, batch_size, fold # and seed 8,,,1,6,,,2,:,9,8,7,6,5,:,7,6,5,4,3 the labels are not equal \n",
            "For this epochs, batch_size, fold # and seed 8,,,1,6,,,3,:,9,8,7,6,5,:,7,6,5,4,3 the labels are not equal \n",
            "For this epochs, batch_size, fold # and seed 8,,,1,6,,,4,:,9,8,7,6,5,:,7,6,5,4,3 the labels are not equal \n",
            "For this epochs, batch_size, fold # and seed 8,,,3,2,,,0,:,9,8,7,6,5,:,7,6,5,4,3 the labels are not equal \n",
            "For this epochs, batch_size, fold # and seed 8,,,3,2,,,1,:,9,8,7,6,5,:,7,6,5,4,3 the labels are not equal \n",
            "For this epochs, batch_size, fold # and seed 8,,,3,2,,,2,:,9,8,7,6,5,:,7,6,5,4,3 the labels are not equal \n",
            "For this epochs, batch_size, fold # and seed 8,,,3,2,,,3,:,9,8,7,6,5,:,7,6,5,4,3 the labels are not equal \n",
            "For this epochs, batch_size, fold # and seed 8,,,3,2,,,4,:,9,8,7,6,5,:,7,6,5,4,3 the labels are not equal \n",
            "# of files between which prediction labels were equal are 0 \n",
            "The epochs, batch_size, fold # and seed that have unequal prediction labels are  4,8,0:12345:345674,8,1:12345:345674,8,2:12345:345674,8,3:12345:345674,8,4:12345:345674,16,0:12345:345674,16,1:12345:345674,16,2:12345:345674,16,3:12345:345674,16,4:12345:345674,32,0:12345:345674,32,1:12345:345674,32,2:12345:345674,32,3:12345:345674,32,4:12345:345678,8,0:12345:345678,8,1:12345:345678,8,2:12345:345678,8,3:12345:345678,8,4:12345:345678,16,0:12345:345678,16,1:12345:345678,16,2:12345:345678,16,3:12345:345678,16,4:12345:345678,32,0:12345:345678,32,1:12345:345678,32,2:12345:345678,32,3:12345:345678,32,4:12345:345674,8,0:34567:567894,8,1:34567:567894,8,2:34567:567894,8,3:34567:567894,8,4:34567:567894,16,0:34567:567894,16,1:34567:567894,16,2:34567:567894,16,3:34567:567894,16,4:34567:567894,32,0:34567:567894,32,1:34567:567894,32,2:34567:567894,32,3:34567:567894,32,4:34567:567898,8,0:34567:567898,8,1:34567:567898,8,2:34567:567898,8,3:34567:567898,8,4:34567:567898,16,0:34567:567898,16,1:34567:567898,16,2:34567:567898,16,3:34567:567898,16,4:34567:567898,32,0:34567:567898,32,1:34567:567898,32,2:34567:567898,32,3:34567:567898,32,4:34567:567894,8,0:56789:987654,8,1:56789:987654,8,2:56789:987654,8,3:56789:987654,8,4:56789:987654,16,0:56789:987654,16,1:56789:987654,16,2:56789:987654,16,3:56789:987654,16,4:56789:987654,32,0:56789:987654,32,1:56789:987654,32,2:56789:987654,32,3:56789:987654,32,4:56789:987658,8,0:56789:987658,8,1:56789:987658,8,2:56789:987658,8,3:56789:987658,8,4:56789:987658,16,0:56789:987658,16,1:56789:987658,16,2:56789:987658,16,3:56789:987658,16,4:56789:987658,32,0:56789:987658,32,1:56789:987658,32,2:56789:987658,32,3:56789:987658,32,4:56789:987654,8,0:98765:765434,8,1:98765:765434,8,2:98765:765434,8,3:98765:765434,8,4:98765:765434,16,0:98765:765434,16,1:98765:765434,16,2:98765:765434,16,3:98765:765434,16,4:98765:765434,32,0:98765:765434,32,1:98765:765434,32,2:98765:765434,32,3:98765:765434,32,4:98765:765438,8,0:98765:765438,8,1:98765:765438,8,2:98765:765438,8,3:98765:765438,8,4:98765:765438,16,0:98765:765438,16,1:98765:765438,16,2:98765:765438,16,3:98765:765438,16,4:98765:765438,32,0:98765:765438,32,1:98765:765438,32,2:98765:765438,32,3:98765:765438,32,4:98765:76543\n"
          ]
        }
      ]
    },
    {
      "cell_type": "code",
      "source": [
        "print(\"For each epochs, batch_size, fold # and seed results between two pairs of files, \\n the # of files between which prediction labels were equal are %d \"%count)"
      ],
      "metadata": {
        "colab": {
          "base_uri": "https://localhost:8080/"
        },
        "outputId": "a57c4e17-56cc-4c94-a653-2e9f9a7fe2b1",
        "id": "aaIA880AzYDS"
      },
      "execution_count": null,
      "outputs": [
        {
          "output_type": "stream",
          "name": "stdout",
          "text": [
            "For each epochs, batch_size, fold # and seed results between two pairs of files, \n",
            " the # of files between which prediction labels were equal are 0 \n"
          ]
        }
      ]
    }
  ]
}