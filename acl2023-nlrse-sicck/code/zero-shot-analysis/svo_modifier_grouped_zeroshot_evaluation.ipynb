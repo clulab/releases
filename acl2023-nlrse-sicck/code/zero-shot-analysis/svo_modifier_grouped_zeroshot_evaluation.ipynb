{
  "nbformat": 4,
  "nbformat_minor": 0,
  "metadata": {
    "colab": {
      "provenance": [],
      "collapsed_sections": [
        "GebopmIwNCVR",
        "fPChniKXNb95"
      ]
    },
    "kernelspec": {
      "name": "python3",
      "display_name": "Python 3"
    },
    "language_info": {
      "name": "python"
    }
  },
  "cells": [
    {
      "cell_type": "markdown",
      "source": [
        "## SVO and Modifer Type grouped Zero-shot NLI models' evaluation\n",
        "- Author: Sushma Akoju, email: sushmaakoju@arizona.edu"
      ],
      "metadata": {
        "id": "Uq6LfzTtYVTN"
      }
    },
    {
      "cell_type": "code",
      "source": [
        "# !pip install openpyxl --upgrade"
      ],
      "metadata": {
        "id": "F0gLPwGMkqve"
      },
      "execution_count": null,
      "outputs": []
    },
    {
      "cell_type": "code",
      "execution_count": null,
      "metadata": {
        "colab": {
          "base_uri": "https://localhost:8080/"
        },
        "id": "2qTsYkKpq67l",
        "outputId": "a19322c0-cc53-49b4-fd9b-6c7a538248bc"
      },
      "outputs": [
        {
          "output_type": "stream",
          "name": "stdout",
          "text": [
            "Looking in indexes: https://pypi.org/simple, https://us-python.pkg.dev/colab-wheels/public/simple/\n",
            "Collecting pycm==3.7\n",
            "  Downloading pycm-3.7-py2.py3-none-any.whl (62 kB)\n",
            "\u001b[2K     \u001b[90m━━━━━━━━━━━━━━━━━━━━━━━━━━━━━━━━━━━━━━━━\u001b[0m \u001b[32m63.0/63.0 kB\u001b[0m \u001b[31m1.6 MB/s\u001b[0m eta \u001b[36m0:00:00\u001b[0m\n",
            "\u001b[?25hCollecting art>=1.8 (from pycm==3.7)\n",
            "  Downloading art-5.9-py2.py3-none-any.whl (597 kB)\n",
            "\u001b[2K     \u001b[90m━━━━━━━━━━━━━━━━━━━━━━━━━━━━━━━━━━━━━━━\u001b[0m \u001b[32m597.6/597.6 kB\u001b[0m \u001b[31m9.2 MB/s\u001b[0m eta \u001b[36m0:00:00\u001b[0m\n",
            "\u001b[?25hRequirement already satisfied: numpy>=1.9.0 in /usr/local/lib/python3.10/dist-packages (from pycm==3.7) (1.22.4)\n",
            "Installing collected packages: art, pycm\n",
            "Successfully installed art-5.9 pycm-3.7\n",
            "Looking in indexes: https://pypi.org/simple, https://us-python.pkg.dev/colab-wheels/public/simple/\n",
            "Collecting altair==5.0.0rc1\n",
            "  Downloading altair-5.0.0rc1-py3-none-any.whl (709 kB)\n",
            "\u001b[2K     \u001b[90m━━━━━━━━━━━━━━━━━━━━━━━━━━━━━━━━━━━━━━━\u001b[0m \u001b[32m709.5/709.5 kB\u001b[0m \u001b[31m5.7 MB/s\u001b[0m eta \u001b[36m0:00:00\u001b[0m\n",
            "\u001b[?25hRequirement already satisfied: jinja2 in /usr/local/lib/python3.10/dist-packages (from altair==5.0.0rc1) (3.1.2)\n",
            "Requirement already satisfied: jsonschema>=3.0 in /usr/local/lib/python3.10/dist-packages (from altair==5.0.0rc1) (4.3.3)\n",
            "Requirement already satisfied: numpy in /usr/local/lib/python3.10/dist-packages (from altair==5.0.0rc1) (1.22.4)\n",
            "Requirement already satisfied: pandas>=0.18 in /usr/local/lib/python3.10/dist-packages (from altair==5.0.0rc1) (1.5.3)\n",
            "Requirement already satisfied: toolz in /usr/local/lib/python3.10/dist-packages (from altair==5.0.0rc1) (0.12.0)\n",
            "Requirement already satisfied: typing-extensions>=4.0.1 in /usr/local/lib/python3.10/dist-packages (from altair==5.0.0rc1) (4.5.0)\n",
            "Requirement already satisfied: attrs>=17.4.0 in /usr/local/lib/python3.10/dist-packages (from jsonschema>=3.0->altair==5.0.0rc1) (23.1.0)\n",
            "Requirement already satisfied: pyrsistent!=0.17.0,!=0.17.1,!=0.17.2,>=0.14.0 in /usr/local/lib/python3.10/dist-packages (from jsonschema>=3.0->altair==5.0.0rc1) (0.19.3)\n",
            "Requirement already satisfied: python-dateutil>=2.8.1 in /usr/local/lib/python3.10/dist-packages (from pandas>=0.18->altair==5.0.0rc1) (2.8.2)\n",
            "Requirement already satisfied: pytz>=2020.1 in /usr/local/lib/python3.10/dist-packages (from pandas>=0.18->altair==5.0.0rc1) (2022.7.1)\n",
            "Requirement already satisfied: MarkupSafe>=2.0 in /usr/local/lib/python3.10/dist-packages (from jinja2->altair==5.0.0rc1) (2.1.2)\n",
            "Requirement already satisfied: six>=1.5 in /usr/local/lib/python3.10/dist-packages (from python-dateutil>=2.8.1->pandas>=0.18->altair==5.0.0rc1) (1.16.0)\n",
            "Installing collected packages: altair\n",
            "  Attempting uninstall: altair\n",
            "    Found existing installation: altair 4.2.2\n",
            "    Uninstalling altair-4.2.2:\n",
            "      Successfully uninstalled altair-4.2.2\n",
            "Successfully installed altair-5.0.0rc1\n"
          ]
        }
      ],
      "source": [
        "!pip install pycm==3.7\n",
        "!pip install altair==5.0.0rc1"
      ]
    },
    {
      "cell_type": "code",
      "source": [
        "from google.colab import drive\n",
        "drive.mount('/content/drive/', force_remount=True)"
      ],
      "metadata": {
        "colab": {
          "base_uri": "https://localhost:8080/"
        },
        "id": "s6tKthXAq8GV",
        "outputId": "c8342038-26a4-47e8-c54c-92b7c76d36c7"
      },
      "execution_count": null,
      "outputs": [
        {
          "output_type": "stream",
          "name": "stdout",
          "text": [
            "Mounted at /content/drive/\n"
          ]
        }
      ]
    },
    {
      "cell_type": "code",
      "source": [
        "import pandas as pd\n",
        "import pycm\n",
        "import matplotlib.pyplot as plt\n",
        "import os\n",
        "import numpy as np\n",
        "from sklearn.metrics import precision_score, recall_score, f1_score, accuracy_score, confusion_matrix, classification_report\n",
        "import altair as alt\n"
      ],
      "metadata": {
        "id": "V9ABOBgEq8q_"
      },
      "execution_count": null,
      "outputs": []
    },
    {
      "cell_type": "markdown",
      "source": [
        "### Connect to the Google drive\n",
        "- for zero shot evaluation\n",
        "- for finetuned NLI models evlaution"
      ],
      "metadata": {
        "id": "asaU5BCsGEZN"
      }
    },
    {
      "cell_type": "code",
      "source": [
        "import os\n",
        "path = \"/content/drive/MyDrive/Colab Notebooks/natural-logic/final-datasets/block-wise-data/blocks-dec26/annotated/combined/results/zero-shot\"\n",
        "output_path = \"/content/drive/MyDrive/Colab Notebooks/natural-logic/final-datasets/block-wise-data/blocks-dec26/annotated/combined/results/fine-tuned-results\"\n",
        "assert os.path.exists(path), \"Error\"\n",
        "df = pd.read_excel(os.path.join(path,\"zero-shot-analysis-apr24.xlsx\"))\n",
        "#zero-shot-analysis-apr24.xlsx\n",
        "df = df[df.columns[1:]]\n",
        "df = df[['SICK_id', 'Premise', 'Hypothesis', 'Modifier',\n",
        "       'Premise/Hypothesis/Both', 'Part of Premise/Hypothesis Modified',\n",
        "       'Modifier Type', 'Ground Truth',  'CompressedGT','nli-deberta-v3-base',\n",
        "       'ynie/roberta-large-snli_mnli_fever_anli_R1_R2_R3-nli',\n",
        "       'pair-classification-decomposable-attention-elmo']]\n",
        "df['Part of Premise/Hypothesis Modified'] = df['Part of Premise/Hypothesis Modified'].str.lower()\n",
        "df['Modifier Type'] = df['Modifier Type'].str.lower()\n",
        "\n",
        "print(df.columns)\n",
        "df.head()"
      ],
      "metadata": {
        "colab": {
          "base_uri": "https://localhost:8080/",
          "height": 828
        },
        "id": "5WDJRVh3q8_2",
        "outputId": "5c57ee42-d2cb-4d92-c49a-5403186664e7"
      },
      "execution_count": null,
      "outputs": [
        {
          "output_type": "stream",
          "name": "stdout",
          "text": [
            "Index(['SICK_id', 'Premise', 'Hypothesis', 'Modifier',\n",
            "       'Premise/Hypothesis/Both', 'Part of Premise/Hypothesis Modified',\n",
            "       'Modifier Type', 'Ground Truth', 'CompressedGT', 'nli-deberta-v3-base',\n",
            "       'ynie/roberta-large-snli_mnli_fever_anli_R1_R2_R3-nli',\n",
            "       'pair-classification-decomposable-attention-elmo'],\n",
            "      dtype='object')\n"
          ]
        },
        {
          "output_type": "execute_result",
          "data": {
            "text/plain": [
              "   SICK_id                                  Premise  \\\n",
              "0       90      a man is jumping into an empty pool   \n",
              "1       90  every man is jumping into an empty pool   \n",
              "2       90      a man is jumping into an empty pool   \n",
              "3       90  every man is jumping into an empty pool   \n",
              "4       90   some man is jumping into an empty pool   \n",
              "\n",
              "                              Hypothesis Modifier Premise/Hypothesis/Both  \\\n",
              "0      a man is jumping into a full pool     NONE                    NONE   \n",
              "1      a man is jumping into a full pool    every                 Premise   \n",
              "2  every man is jumping into a full pool    every              Hypothesis   \n",
              "3  every man is jumping into a full pool    every                    Both   \n",
              "4      a man is jumping into a full pool     some                 Premise   \n",
              "\n",
              "  Part of Premise/Hypothesis Modified Modifier Type Ground Truth  \\\n",
              "0                                none  no modifiers  Alternation   \n",
              "1                             subject     universal  Alternation   \n",
              "2                             subject     universal     Negation   \n",
              "3                             subject     universal     Negation   \n",
              "4                             subject   existential  Alternation   \n",
              "\n",
              "    CompressedGT nli-deberta-v3-base  \\\n",
              "0  Contradiction       Contradiction   \n",
              "1  Contradiction       Contradiction   \n",
              "2  Contradiction       Contradiction   \n",
              "3  Contradiction       Contradiction   \n",
              "4  Contradiction       Contradiction   \n",
              "\n",
              "  ynie/roberta-large-snli_mnli_fever_anli_R1_R2_R3-nli  \\\n",
              "0                                      Contradiction     \n",
              "1                                      Contradiction     \n",
              "2                                      Contradiction     \n",
              "3                                      Contradiction     \n",
              "4                                      Contradiction     \n",
              "\n",
              "  pair-classification-decomposable-attention-elmo  \n",
              "0                                              FE  \n",
              "1                                              FE  \n",
              "2                                              FE  \n",
              "3                                              FE  \n",
              "4                                              FE  "
            ],
            "text/html": [
              "\n",
              "  <div id=\"df-3c5f44be-a65f-4fe6-ae41-975f93a65ea5\">\n",
              "    <div class=\"colab-df-container\">\n",
              "      <div>\n",
              "<style scoped>\n",
              "    .dataframe tbody tr th:only-of-type {\n",
              "        vertical-align: middle;\n",
              "    }\n",
              "\n",
              "    .dataframe tbody tr th {\n",
              "        vertical-align: top;\n",
              "    }\n",
              "\n",
              "    .dataframe thead th {\n",
              "        text-align: right;\n",
              "    }\n",
              "</style>\n",
              "<table border=\"1\" class=\"dataframe\">\n",
              "  <thead>\n",
              "    <tr style=\"text-align: right;\">\n",
              "      <th></th>\n",
              "      <th>SICK_id</th>\n",
              "      <th>Premise</th>\n",
              "      <th>Hypothesis</th>\n",
              "      <th>Modifier</th>\n",
              "      <th>Premise/Hypothesis/Both</th>\n",
              "      <th>Part of Premise/Hypothesis Modified</th>\n",
              "      <th>Modifier Type</th>\n",
              "      <th>Ground Truth</th>\n",
              "      <th>CompressedGT</th>\n",
              "      <th>nli-deberta-v3-base</th>\n",
              "      <th>ynie/roberta-large-snli_mnli_fever_anli_R1_R2_R3-nli</th>\n",
              "      <th>pair-classification-decomposable-attention-elmo</th>\n",
              "    </tr>\n",
              "  </thead>\n",
              "  <tbody>\n",
              "    <tr>\n",
              "      <th>0</th>\n",
              "      <td>90</td>\n",
              "      <td>a man is jumping into an empty pool</td>\n",
              "      <td>a man is jumping into a full pool</td>\n",
              "      <td>NONE</td>\n",
              "      <td>NONE</td>\n",
              "      <td>none</td>\n",
              "      <td>no modifiers</td>\n",
              "      <td>Alternation</td>\n",
              "      <td>Contradiction</td>\n",
              "      <td>Contradiction</td>\n",
              "      <td>Contradiction</td>\n",
              "      <td>FE</td>\n",
              "    </tr>\n",
              "    <tr>\n",
              "      <th>1</th>\n",
              "      <td>90</td>\n",
              "      <td>every man is jumping into an empty pool</td>\n",
              "      <td>a man is jumping into a full pool</td>\n",
              "      <td>every</td>\n",
              "      <td>Premise</td>\n",
              "      <td>subject</td>\n",
              "      <td>universal</td>\n",
              "      <td>Alternation</td>\n",
              "      <td>Contradiction</td>\n",
              "      <td>Contradiction</td>\n",
              "      <td>Contradiction</td>\n",
              "      <td>FE</td>\n",
              "    </tr>\n",
              "    <tr>\n",
              "      <th>2</th>\n",
              "      <td>90</td>\n",
              "      <td>a man is jumping into an empty pool</td>\n",
              "      <td>every man is jumping into a full pool</td>\n",
              "      <td>every</td>\n",
              "      <td>Hypothesis</td>\n",
              "      <td>subject</td>\n",
              "      <td>universal</td>\n",
              "      <td>Negation</td>\n",
              "      <td>Contradiction</td>\n",
              "      <td>Contradiction</td>\n",
              "      <td>Contradiction</td>\n",
              "      <td>FE</td>\n",
              "    </tr>\n",
              "    <tr>\n",
              "      <th>3</th>\n",
              "      <td>90</td>\n",
              "      <td>every man is jumping into an empty pool</td>\n",
              "      <td>every man is jumping into a full pool</td>\n",
              "      <td>every</td>\n",
              "      <td>Both</td>\n",
              "      <td>subject</td>\n",
              "      <td>universal</td>\n",
              "      <td>Negation</td>\n",
              "      <td>Contradiction</td>\n",
              "      <td>Contradiction</td>\n",
              "      <td>Contradiction</td>\n",
              "      <td>FE</td>\n",
              "    </tr>\n",
              "    <tr>\n",
              "      <th>4</th>\n",
              "      <td>90</td>\n",
              "      <td>some man is jumping into an empty pool</td>\n",
              "      <td>a man is jumping into a full pool</td>\n",
              "      <td>some</td>\n",
              "      <td>Premise</td>\n",
              "      <td>subject</td>\n",
              "      <td>existential</td>\n",
              "      <td>Alternation</td>\n",
              "      <td>Contradiction</td>\n",
              "      <td>Contradiction</td>\n",
              "      <td>Contradiction</td>\n",
              "      <td>FE</td>\n",
              "    </tr>\n",
              "  </tbody>\n",
              "</table>\n",
              "</div>\n",
              "      <button class=\"colab-df-convert\" onclick=\"convertToInteractive('df-3c5f44be-a65f-4fe6-ae41-975f93a65ea5')\"\n",
              "              title=\"Convert this dataframe to an interactive table.\"\n",
              "              style=\"display:none;\">\n",
              "        \n",
              "  <svg xmlns=\"http://www.w3.org/2000/svg\" height=\"24px\"viewBox=\"0 0 24 24\"\n",
              "       width=\"24px\">\n",
              "    <path d=\"M0 0h24v24H0V0z\" fill=\"none\"/>\n",
              "    <path d=\"M18.56 5.44l.94 2.06.94-2.06 2.06-.94-2.06-.94-.94-2.06-.94 2.06-2.06.94zm-11 1L8.5 8.5l.94-2.06 2.06-.94-2.06-.94L8.5 2.5l-.94 2.06-2.06.94zm10 10l.94 2.06.94-2.06 2.06-.94-2.06-.94-.94-2.06-.94 2.06-2.06.94z\"/><path d=\"M17.41 7.96l-1.37-1.37c-.4-.4-.92-.59-1.43-.59-.52 0-1.04.2-1.43.59L10.3 9.45l-7.72 7.72c-.78.78-.78 2.05 0 2.83L4 21.41c.39.39.9.59 1.41.59.51 0 1.02-.2 1.41-.59l7.78-7.78 2.81-2.81c.8-.78.8-2.07 0-2.86zM5.41 20L4 18.59l7.72-7.72 1.47 1.35L5.41 20z\"/>\n",
              "  </svg>\n",
              "      </button>\n",
              "      \n",
              "  <style>\n",
              "    .colab-df-container {\n",
              "      display:flex;\n",
              "      flex-wrap:wrap;\n",
              "      gap: 12px;\n",
              "    }\n",
              "\n",
              "    .colab-df-convert {\n",
              "      background-color: #E8F0FE;\n",
              "      border: none;\n",
              "      border-radius: 50%;\n",
              "      cursor: pointer;\n",
              "      display: none;\n",
              "      fill: #1967D2;\n",
              "      height: 32px;\n",
              "      padding: 0 0 0 0;\n",
              "      width: 32px;\n",
              "    }\n",
              "\n",
              "    .colab-df-convert:hover {\n",
              "      background-color: #E2EBFA;\n",
              "      box-shadow: 0px 1px 2px rgba(60, 64, 67, 0.3), 0px 1px 3px 1px rgba(60, 64, 67, 0.15);\n",
              "      fill: #174EA6;\n",
              "    }\n",
              "\n",
              "    [theme=dark] .colab-df-convert {\n",
              "      background-color: #3B4455;\n",
              "      fill: #D2E3FC;\n",
              "    }\n",
              "\n",
              "    [theme=dark] .colab-df-convert:hover {\n",
              "      background-color: #434B5C;\n",
              "      box-shadow: 0px 1px 3px 1px rgba(0, 0, 0, 0.15);\n",
              "      filter: drop-shadow(0px 1px 2px rgba(0, 0, 0, 0.3));\n",
              "      fill: #FFFFFF;\n",
              "    }\n",
              "  </style>\n",
              "\n",
              "      <script>\n",
              "        const buttonEl =\n",
              "          document.querySelector('#df-3c5f44be-a65f-4fe6-ae41-975f93a65ea5 button.colab-df-convert');\n",
              "        buttonEl.style.display =\n",
              "          google.colab.kernel.accessAllowed ? 'block' : 'none';\n",
              "\n",
              "        async function convertToInteractive(key) {\n",
              "          const element = document.querySelector('#df-3c5f44be-a65f-4fe6-ae41-975f93a65ea5');\n",
              "          const dataTable =\n",
              "            await google.colab.kernel.invokeFunction('convertToInteractive',\n",
              "                                                     [key], {});\n",
              "          if (!dataTable) return;\n",
              "\n",
              "          const docLinkHtml = 'Like what you see? Visit the ' +\n",
              "            '<a target=\"_blank\" href=https://colab.research.google.com/notebooks/data_table.ipynb>data table notebook</a>'\n",
              "            + ' to learn more about interactive tables.';\n",
              "          element.innerHTML = '';\n",
              "          dataTable['output_type'] = 'display_data';\n",
              "          await google.colab.output.renderOutput(dataTable, element);\n",
              "          const docLink = document.createElement('div');\n",
              "          docLink.innerHTML = docLinkHtml;\n",
              "          element.appendChild(docLink);\n",
              "        }\n",
              "      </script>\n",
              "    </div>\n",
              "  </div>\n",
              "  "
            ]
          },
          "metadata": {},
          "execution_count": 5
        }
      ]
    },
    {
      "cell_type": "code",
      "source": [
        "modifier_types = df['Modifier Type'].unique()"
      ],
      "metadata": {
        "id": "ya0EPvfyL9Qk"
      },
      "execution_count": null,
      "outputs": []
    },
    {
      "cell_type": "markdown",
      "source": [
        "#### Group by Quantifier and plot the Confusion Matrices for Zero shot results.\n",
        "##### For 3 NLI models:\n",
        "- 'nli-deberta-v3-base',\n",
        "- 'ynie/roberta-large-snli_mnli_fever_anli_R1_R2_R3-nli',\n",
        "- 'pair-classification-decomposable-attention-elmo'"
      ],
      "metadata": {
        "id": "4LXIarSrL-jy"
      }
    },
    {
      "cell_type": "code",
      "source": [
        "\n",
        "def get_classification_report(ytrue, ypred, model_name, mtype=\"\", svo=\"\"):\n",
        "  res = classification_report(ytrue, ypred, output_dict=True)\n",
        "  print(classification_report(ytrue, ypred))\n",
        "  precision_m = res['macro avg']['precision']\n",
        "  recall_m = res['macro avg']['recall']\n",
        "  f1_macro = res['macro avg']['f1-score']\n",
        "  acc = res['accuracy']\n",
        "  # print(res)\n",
        "  # precision_m, recall_m = precision_score(ytrue, ypred, average=\"macro\"), recall_score(ytrue, ypred, average=\"macro\")\n",
        "  #\"precision_w\":precision_w, \"recall_w\":recall_w, \"acc_w\":acc_w,\n",
        "  return {\"model_name\":model_name, \"modifier_type\":mtype,\"svo\": svo,\n",
        "          \"f1_macro\":f1_macro, \"precision_m\":precision_m, \"recall_m\":recall_m, \"acc\":acc}\n"
      ],
      "metadata": {
        "id": "n-g1thDY6zKH"
      },
      "execution_count": null,
      "outputs": []
    },
    {
      "cell_type": "code",
      "source": [],
      "metadata": {
        "id": "YA7MCriOZoQM"
      },
      "execution_count": null,
      "outputs": []
    },
    {
      "cell_type": "code",
      "source": [
        "gt = 'CompressedGT'\n",
        "model_name = 'nli-deberta-v3-base'\n",
        "mtype_scores = []\n",
        "for modifier_type in modifier_types:\n",
        "  print(\"This Confusion Matrix stats is for Modifier Type %s for nli-deberta-v3-base\"%(modifier_type))\n",
        "  ytrue = df[df['Modifier Type'] == modifier_type]['CompressedGT'].to_list()\n",
        "  ypred = df[df['Modifier Type'] == modifier_type][model_name].to_list()\n",
        "  res = get_classification_report(ytrue, ypred, model_name,modifier_type, \"\")\n",
        "  # print(res['precision_m'], res['recall_m'], res)\n",
        "  print(precision_score(ytrue, ypred, average=\"macro\"), recall_score(ytrue, ypred, average=\"macro\"))"
      ],
      "metadata": {
        "colab": {
          "base_uri": "https://localhost:8080/"
        },
        "id": "OeLEhSNozW20",
        "outputId": "b07a7996-b8ec-4f3e-ebb0-36f80fcaa468"
      },
      "execution_count": null,
      "outputs": [
        {
          "output_type": "stream",
          "name": "stdout",
          "text": [
            "This Confusion Matrix stats is for Modifier Type no modifiers for nli-deberta-v3-base\n",
            "               precision    recall  f1-score   support\n",
            "\n",
            "Contradiction       0.75      1.00      0.86         6\n",
            "           FE       0.83      1.00      0.91         5\n",
            "      Neutral       1.00      0.25      0.40         4\n",
            "\n",
            "     accuracy                           0.80        15\n",
            "    macro avg       0.86      0.75      0.72        15\n",
            " weighted avg       0.84      0.80      0.75        15\n",
            "\n",
            "0.8611111111111112 0.75\n",
            "This Confusion Matrix stats is for Modifier Type universal for nli-deberta-v3-base\n",
            "               precision    recall  f1-score   support\n",
            "\n",
            "Contradiction       0.71      0.95      0.81        80\n",
            "           FE       0.58      0.94      0.72        35\n",
            "      Neutral       0.81      0.39      0.52        88\n",
            "           RE       0.09      0.07      0.08        14\n",
            "\n",
            "     accuracy                           0.66       217\n",
            "    macro avg       0.55      0.59      0.53       217\n",
            " weighted avg       0.69      0.66      0.63       217\n",
            "\n",
            "0.5474151606714321 0.5876623376623377\n",
            "This Confusion Matrix stats is for Modifier Type existential for nli-deberta-v3-base\n",
            "               precision    recall  f1-score   support\n",
            "\n",
            "Contradiction       0.55      0.93      0.69        88\n",
            "           FE       0.65      0.85      0.74        80\n",
            "      Neutral       0.72      0.26      0.38       130\n",
            "           RE       0.25      0.20      0.22         5\n",
            "\n",
            "     accuracy                           0.61       303\n",
            "    macro avg       0.55      0.56      0.51       303\n",
            " weighted avg       0.65      0.61      0.57       303\n",
            "\n",
            "0.5453261158048393 0.5608391608391609\n",
            "This Confusion Matrix stats is for Modifier Type negation for nli-deberta-v3-base\n",
            "               precision    recall  f1-score   support\n",
            "\n",
            "Contradiction       0.24      0.87      0.38        23\n",
            "           FE       0.20      0.73      0.32        15\n",
            "      Neutral       0.86      0.16      0.27       118\n",
            "           RE       0.11      0.09      0.10        11\n",
            "\n",
            "     accuracy                           0.31       167\n",
            "    macro avg       0.36      0.46      0.27       167\n",
            " weighted avg       0.67      0.31      0.28       167\n",
            "\n",
            "0.35558840436889216 0.4637061476965677\n",
            "This Confusion Matrix stats is for Modifier Type adjectives/adverbs for nli-deberta-v3-base\n",
            "               precision    recall  f1-score   support\n",
            "\n",
            "Contradiction       0.74      0.99      0.85       225\n",
            "           FE       0.70      1.00      0.82       124\n",
            "      Neutral       1.00      0.47      0.64       253\n",
            "           RE       0.00      0.00      0.00         0\n",
            "\n",
            "     accuracy                           0.77       602\n",
            "    macro avg       0.61      0.62      0.58       602\n",
            " weighted avg       0.84      0.77      0.75       602\n",
            "\n",
            "0.608759952377409 0.6153667105841019\n"
          ]
        },
        {
          "output_type": "stream",
          "name": "stderr",
          "text": [
            "/usr/local/lib/python3.10/dist-packages/sklearn/metrics/_classification.py:1344: UndefinedMetricWarning: Recall and F-score are ill-defined and being set to 0.0 in labels with no true samples. Use `zero_division` parameter to control this behavior.\n",
            "  _warn_prf(average, modifier, msg_start, len(result))\n",
            "/usr/local/lib/python3.10/dist-packages/sklearn/metrics/_classification.py:1344: UndefinedMetricWarning: Recall and F-score are ill-defined and being set to 0.0 in labels with no true samples. Use `zero_division` parameter to control this behavior.\n",
            "  _warn_prf(average, modifier, msg_start, len(result))\n",
            "/usr/local/lib/python3.10/dist-packages/sklearn/metrics/_classification.py:1344: UndefinedMetricWarning: Recall and F-score are ill-defined and being set to 0.0 in labels with no true samples. Use `zero_division` parameter to control this behavior.\n",
            "  _warn_prf(average, modifier, msg_start, len(result))\n",
            "/usr/local/lib/python3.10/dist-packages/sklearn/metrics/_classification.py:1344: UndefinedMetricWarning: Recall and F-score are ill-defined and being set to 0.0 in labels with no true samples. Use `zero_division` parameter to control this behavior.\n",
            "  _warn_prf(average, modifier, msg_start, len(result))\n",
            "/usr/local/lib/python3.10/dist-packages/sklearn/metrics/_classification.py:1344: UndefinedMetricWarning: Recall and F-score are ill-defined and being set to 0.0 in labels with no true samples. Use `zero_division` parameter to control this behavior.\n",
            "  _warn_prf(average, modifier, msg_start, len(result))\n",
            "/usr/local/lib/python3.10/dist-packages/sklearn/metrics/_classification.py:1344: UndefinedMetricWarning: Recall and F-score are ill-defined and being set to 0.0 in labels with no true samples. Use `zero_division` parameter to control this behavior.\n",
            "  _warn_prf(average, modifier, msg_start, len(result))\n",
            "/usr/local/lib/python3.10/dist-packages/sklearn/metrics/_classification.py:1344: UndefinedMetricWarning: Recall is ill-defined and being set to 0.0 in labels with no true samples. Use `zero_division` parameter to control this behavior.\n",
            "  _warn_prf(average, modifier, msg_start, len(result))\n"
          ]
        }
      ]
    },
    {
      "cell_type": "code",
      "source": [
        "gt = 'CompressedGT'\n",
        "model_name = 'nli-deberta-v3-base'\n",
        "mtype_scores = []\n",
        "for modifier_type in modifier_types:\n",
        "  print(\"This Confusion Matrix stats is for Modifier Type %s for nli-deberta-v3-base\"%(modifier_type))\n",
        "  ytrue = df[df['Modifier Type'] == modifier_type]['CompressedGT'].to_list()\n",
        "  ypred = df[df['Modifier Type'] == modifier_type][model_name].to_list()\n",
        "  res = get_classification_report(ytrue, ypred, model_name, modifier_type)\n",
        "  mtype_scores.append(res)"
      ],
      "metadata": {
        "colab": {
          "base_uri": "https://localhost:8080/"
        },
        "id": "Np1BWurq-3vm",
        "outputId": "a5e67b32-0c1d-4811-8fb9-06a7afb922f1"
      },
      "execution_count": null,
      "outputs": [
        {
          "output_type": "stream",
          "name": "stderr",
          "text": [
            "/usr/local/lib/python3.10/dist-packages/sklearn/metrics/_classification.py:1344: UndefinedMetricWarning: Recall and F-score are ill-defined and being set to 0.0 in labels with no true samples. Use `zero_division` parameter to control this behavior.\n",
            "  _warn_prf(average, modifier, msg_start, len(result))\n",
            "/usr/local/lib/python3.10/dist-packages/sklearn/metrics/_classification.py:1344: UndefinedMetricWarning: Recall and F-score are ill-defined and being set to 0.0 in labels with no true samples. Use `zero_division` parameter to control this behavior.\n",
            "  _warn_prf(average, modifier, msg_start, len(result))\n",
            "/usr/local/lib/python3.10/dist-packages/sklearn/metrics/_classification.py:1344: UndefinedMetricWarning: Recall and F-score are ill-defined and being set to 0.0 in labels with no true samples. Use `zero_division` parameter to control this behavior.\n",
            "  _warn_prf(average, modifier, msg_start, len(result))\n",
            "/usr/local/lib/python3.10/dist-packages/sklearn/metrics/_classification.py:1344: UndefinedMetricWarning: Recall and F-score are ill-defined and being set to 0.0 in labels with no true samples. Use `zero_division` parameter to control this behavior.\n",
            "  _warn_prf(average, modifier, msg_start, len(result))\n",
            "/usr/local/lib/python3.10/dist-packages/sklearn/metrics/_classification.py:1344: UndefinedMetricWarning: Recall and F-score are ill-defined and being set to 0.0 in labels with no true samples. Use `zero_division` parameter to control this behavior.\n",
            "  _warn_prf(average, modifier, msg_start, len(result))\n"
          ]
        },
        {
          "output_type": "stream",
          "name": "stdout",
          "text": [
            "This Confusion Matrix stats is for Modifier Type no modifiers for nli-deberta-v3-base\n",
            "               precision    recall  f1-score   support\n",
            "\n",
            "Contradiction       0.75      1.00      0.86         6\n",
            "           FE       0.83      1.00      0.91         5\n",
            "      Neutral       1.00      0.25      0.40         4\n",
            "\n",
            "     accuracy                           0.80        15\n",
            "    macro avg       0.86      0.75      0.72        15\n",
            " weighted avg       0.84      0.80      0.75        15\n",
            "\n",
            "This Confusion Matrix stats is for Modifier Type universal for nli-deberta-v3-base\n",
            "               precision    recall  f1-score   support\n",
            "\n",
            "Contradiction       0.71      0.95      0.81        80\n",
            "           FE       0.58      0.94      0.72        35\n",
            "      Neutral       0.81      0.39      0.52        88\n",
            "           RE       0.09      0.07      0.08        14\n",
            "\n",
            "     accuracy                           0.66       217\n",
            "    macro avg       0.55      0.59      0.53       217\n",
            " weighted avg       0.69      0.66      0.63       217\n",
            "\n",
            "This Confusion Matrix stats is for Modifier Type existential for nli-deberta-v3-base\n",
            "               precision    recall  f1-score   support\n",
            "\n",
            "Contradiction       0.55      0.93      0.69        88\n",
            "           FE       0.65      0.85      0.74        80\n",
            "      Neutral       0.72      0.26      0.38       130\n",
            "           RE       0.25      0.20      0.22         5\n",
            "\n",
            "     accuracy                           0.61       303\n",
            "    macro avg       0.55      0.56      0.51       303\n",
            " weighted avg       0.65      0.61      0.57       303\n",
            "\n",
            "This Confusion Matrix stats is for Modifier Type negation for nli-deberta-v3-base\n",
            "               precision    recall  f1-score   support\n",
            "\n",
            "Contradiction       0.24      0.87      0.38        23\n",
            "           FE       0.20      0.73      0.32        15\n",
            "      Neutral       0.86      0.16      0.27       118\n",
            "           RE       0.11      0.09      0.10        11\n",
            "\n",
            "     accuracy                           0.31       167\n",
            "    macro avg       0.36      0.46      0.27       167\n",
            " weighted avg       0.67      0.31      0.28       167\n",
            "\n",
            "This Confusion Matrix stats is for Modifier Type adjectives/adverbs for nli-deberta-v3-base\n",
            "               precision    recall  f1-score   support\n",
            "\n",
            "Contradiction       0.74      0.99      0.85       225\n",
            "           FE       0.70      1.00      0.82       124\n",
            "      Neutral       1.00      0.47      0.64       253\n",
            "           RE       0.00      0.00      0.00         0\n",
            "\n",
            "     accuracy                           0.77       602\n",
            "    macro avg       0.61      0.62      0.58       602\n",
            " weighted avg       0.84      0.77      0.75       602\n",
            "\n"
          ]
        },
        {
          "output_type": "stream",
          "name": "stderr",
          "text": [
            "/usr/local/lib/python3.10/dist-packages/sklearn/metrics/_classification.py:1344: UndefinedMetricWarning: Recall and F-score are ill-defined and being set to 0.0 in labels with no true samples. Use `zero_division` parameter to control this behavior.\n",
            "  _warn_prf(average, modifier, msg_start, len(result))\n"
          ]
        }
      ]
    },
    {
      "cell_type": "code",
      "source": [
        "model_name = 'ynie/roberta-large-snli_mnli_fever_anli_R1_R2_R3-nli'\n",
        "for modifier_type in modifier_types:\n",
        "  print(\"This Confusion Matrix stats is for Modifier Type %s for %s\"%(modifier_type, model_name))\n",
        "  ytrue = df[df['Modifier Type'] == modifier_type]['CompressedGT'].to_list()\n",
        "  ypred = df[df['Modifier Type'] == modifier_type][model_name].to_list()\n",
        "  res = get_classification_report(ytrue, ypred, model_name, modifier_type)\n",
        "  mtype_scores.append(res)"
      ],
      "metadata": {
        "colab": {
          "base_uri": "https://localhost:8080/"
        },
        "id": "3vGAybFlvOzA",
        "outputId": "1bf26f5b-f39c-46b6-d350-588806c3a089"
      },
      "execution_count": null,
      "outputs": [
        {
          "output_type": "stream",
          "name": "stdout",
          "text": [
            "This Confusion Matrix stats is for Modifier Type no modifiers for ynie/roberta-large-snli_mnli_fever_anli_R1_R2_R3-nli\n",
            "               precision    recall  f1-score   support\n",
            "\n",
            "Contradiction       0.83      0.83      0.83         6\n",
            "           FE       1.00      0.80      0.89         5\n",
            "      Neutral       0.50      0.50      0.50         4\n",
            "           RE       0.00      0.00      0.00         0\n",
            "\n",
            "     accuracy                           0.73        15\n",
            "    macro avg       0.58      0.53      0.56        15\n",
            " weighted avg       0.80      0.73      0.76        15\n",
            "\n",
            "This Confusion Matrix stats is for Modifier Type universal for ynie/roberta-large-snli_mnli_fever_anli_R1_R2_R3-nli\n",
            "               precision    recall  f1-score   support\n",
            "\n",
            "Contradiction       0.73      0.95      0.83        80\n",
            "           FE       0.59      0.77      0.67        35\n",
            "      Neutral       0.74      0.48      0.58        88\n",
            "           RE       0.20      0.14      0.17        14\n",
            "\n",
            "     accuracy                           0.68       217\n",
            "    macro avg       0.56      0.59      0.56       217\n",
            " weighted avg       0.68      0.68      0.66       217\n",
            "\n",
            "This Confusion Matrix stats is for Modifier Type existential for ynie/roberta-large-snli_mnli_fever_anli_R1_R2_R3-nli\n",
            "               precision    recall  f1-score   support\n",
            "\n",
            "Contradiction       0.56      0.82      0.66        88\n",
            "           FE       0.73      0.78      0.75        80\n",
            "      Neutral       0.58      0.35      0.43       130\n",
            "           RE       0.09      0.20      0.13         5\n",
            "\n",
            "     accuracy                           0.59       303\n",
            "    macro avg       0.49      0.53      0.49       303\n",
            " weighted avg       0.60      0.59      0.58       303\n",
            "\n",
            "This Confusion Matrix stats is for Modifier Type negation for ynie/roberta-large-snli_mnli_fever_anli_R1_R2_R3-nli\n",
            "               precision    recall  f1-score   support\n",
            "\n",
            "Contradiction       0.26      0.74      0.39        23\n",
            "           FE       0.23      0.80      0.35        15\n",
            "      Neutral       0.83      0.25      0.38       118\n",
            "           RE       0.07      0.09      0.08        11\n",
            "\n",
            "     accuracy                           0.35       167\n",
            "    macro avg       0.35      0.47      0.30       167\n",
            " weighted avg       0.65      0.35      0.36       167\n",
            "\n",
            "This Confusion Matrix stats is for Modifier Type adjectives/adverbs for ynie/roberta-large-snli_mnli_fever_anli_R1_R2_R3-nli\n",
            "               precision    recall  f1-score   support\n",
            "\n",
            "Contradiction       0.71      0.81      0.76       225\n",
            "           FE       0.83      0.83      0.83       124\n",
            "      Neutral       0.70      0.57      0.63       253\n",
            "           RE       0.00      0.00      0.00         0\n",
            "\n",
            "     accuracy                           0.71       602\n",
            "    macro avg       0.56      0.55      0.55       602\n",
            " weighted avg       0.73      0.71      0.72       602\n",
            "\n"
          ]
        },
        {
          "output_type": "stream",
          "name": "stderr",
          "text": [
            "/usr/local/lib/python3.10/dist-packages/sklearn/metrics/_classification.py:1344: UndefinedMetricWarning: Recall and F-score are ill-defined and being set to 0.0 in labels with no true samples. Use `zero_division` parameter to control this behavior.\n",
            "  _warn_prf(average, modifier, msg_start, len(result))\n",
            "/usr/local/lib/python3.10/dist-packages/sklearn/metrics/_classification.py:1344: UndefinedMetricWarning: Recall and F-score are ill-defined and being set to 0.0 in labels with no true samples. Use `zero_division` parameter to control this behavior.\n",
            "  _warn_prf(average, modifier, msg_start, len(result))\n",
            "/usr/local/lib/python3.10/dist-packages/sklearn/metrics/_classification.py:1344: UndefinedMetricWarning: Recall and F-score are ill-defined and being set to 0.0 in labels with no true samples. Use `zero_division` parameter to control this behavior.\n",
            "  _warn_prf(average, modifier, msg_start, len(result))\n",
            "/usr/local/lib/python3.10/dist-packages/sklearn/metrics/_classification.py:1344: UndefinedMetricWarning: Recall and F-score are ill-defined and being set to 0.0 in labels with no true samples. Use `zero_division` parameter to control this behavior.\n",
            "  _warn_prf(average, modifier, msg_start, len(result))\n",
            "/usr/local/lib/python3.10/dist-packages/sklearn/metrics/_classification.py:1344: UndefinedMetricWarning: Recall and F-score are ill-defined and being set to 0.0 in labels with no true samples. Use `zero_division` parameter to control this behavior.\n",
            "  _warn_prf(average, modifier, msg_start, len(result))\n",
            "/usr/local/lib/python3.10/dist-packages/sklearn/metrics/_classification.py:1344: UndefinedMetricWarning: Recall and F-score are ill-defined and being set to 0.0 in labels with no true samples. Use `zero_division` parameter to control this behavior.\n",
            "  _warn_prf(average, modifier, msg_start, len(result))\n",
            "/usr/local/lib/python3.10/dist-packages/sklearn/metrics/_classification.py:1344: UndefinedMetricWarning: Recall and F-score are ill-defined and being set to 0.0 in labels with no true samples. Use `zero_division` parameter to control this behavior.\n",
            "  _warn_prf(average, modifier, msg_start, len(result))\n",
            "/usr/local/lib/python3.10/dist-packages/sklearn/metrics/_classification.py:1344: UndefinedMetricWarning: Recall and F-score are ill-defined and being set to 0.0 in labels with no true samples. Use `zero_division` parameter to control this behavior.\n",
            "  _warn_prf(average, modifier, msg_start, len(result))\n",
            "/usr/local/lib/python3.10/dist-packages/sklearn/metrics/_classification.py:1344: UndefinedMetricWarning: Recall and F-score are ill-defined and being set to 0.0 in labels with no true samples. Use `zero_division` parameter to control this behavior.\n",
            "  _warn_prf(average, modifier, msg_start, len(result))\n",
            "/usr/local/lib/python3.10/dist-packages/sklearn/metrics/_classification.py:1344: UndefinedMetricWarning: Recall and F-score are ill-defined and being set to 0.0 in labels with no true samples. Use `zero_division` parameter to control this behavior.\n",
            "  _warn_prf(average, modifier, msg_start, len(result))\n",
            "/usr/local/lib/python3.10/dist-packages/sklearn/metrics/_classification.py:1344: UndefinedMetricWarning: Recall and F-score are ill-defined and being set to 0.0 in labels with no true samples. Use `zero_division` parameter to control this behavior.\n",
            "  _warn_prf(average, modifier, msg_start, len(result))\n",
            "/usr/local/lib/python3.10/dist-packages/sklearn/metrics/_classification.py:1344: UndefinedMetricWarning: Recall and F-score are ill-defined and being set to 0.0 in labels with no true samples. Use `zero_division` parameter to control this behavior.\n",
            "  _warn_prf(average, modifier, msg_start, len(result))\n"
          ]
        }
      ]
    },
    {
      "cell_type": "code",
      "source": [
        "model_name = 'pair-classification-decomposable-attention-elmo'\n",
        "for modifier_type in modifier_types:\n",
        "  print(\"This Confusion Matrix stats is for Modifier Type %s for %s\"%(modifier_type, model_name))\n",
        "  ytrue = df[df['Modifier Type'] == modifier_type]['CompressedGT'].to_list()\n",
        "  ypred = df[df['Modifier Type'] == modifier_type][model_name].to_list()\n",
        "  res = get_classification_report(ytrue, ypred, model_name, modifier_type)\n",
        "  mtype_scores.append(res)"
      ],
      "metadata": {
        "colab": {
          "base_uri": "https://localhost:8080/"
        },
        "id": "4DtA6K9mvYJS",
        "outputId": "a1c4f8b0-e309-4154-948e-e6efddced83f"
      },
      "execution_count": null,
      "outputs": [
        {
          "output_type": "stream",
          "name": "stdout",
          "text": [
            "This Confusion Matrix stats is for Modifier Type no modifiers for pair-classification-decomposable-attention-elmo\n",
            "               precision    recall  f1-score   support\n",
            "\n",
            "Contradiction       0.00      0.00      0.00         6\n",
            "           FE       0.33      1.00      0.50         5\n",
            "      Neutral       0.00      0.00      0.00         4\n",
            "\n",
            "     accuracy                           0.33        15\n",
            "    macro avg       0.11      0.33      0.17        15\n",
            " weighted avg       0.11      0.33      0.17        15\n",
            "\n",
            "This Confusion Matrix stats is for Modifier Type universal for pair-classification-decomposable-attention-elmo\n"
          ]
        },
        {
          "output_type": "stream",
          "name": "stderr",
          "text": [
            "/usr/local/lib/python3.10/dist-packages/sklearn/metrics/_classification.py:1344: UndefinedMetricWarning: Precision and F-score are ill-defined and being set to 0.0 in labels with no predicted samples. Use `zero_division` parameter to control this behavior.\n",
            "  _warn_prf(average, modifier, msg_start, len(result))\n",
            "/usr/local/lib/python3.10/dist-packages/sklearn/metrics/_classification.py:1344: UndefinedMetricWarning: Precision and F-score are ill-defined and being set to 0.0 in labels with no predicted samples. Use `zero_division` parameter to control this behavior.\n",
            "  _warn_prf(average, modifier, msg_start, len(result))\n",
            "/usr/local/lib/python3.10/dist-packages/sklearn/metrics/_classification.py:1344: UndefinedMetricWarning: Precision and F-score are ill-defined and being set to 0.0 in labels with no predicted samples. Use `zero_division` parameter to control this behavior.\n",
            "  _warn_prf(average, modifier, msg_start, len(result))\n",
            "/usr/local/lib/python3.10/dist-packages/sklearn/metrics/_classification.py:1344: UndefinedMetricWarning: Precision and F-score are ill-defined and being set to 0.0 in labels with no predicted samples. Use `zero_division` parameter to control this behavior.\n",
            "  _warn_prf(average, modifier, msg_start, len(result))\n",
            "/usr/local/lib/python3.10/dist-packages/sklearn/metrics/_classification.py:1344: UndefinedMetricWarning: Precision and F-score are ill-defined and being set to 0.0 in labels with no predicted samples. Use `zero_division` parameter to control this behavior.\n",
            "  _warn_prf(average, modifier, msg_start, len(result))\n",
            "/usr/local/lib/python3.10/dist-packages/sklearn/metrics/_classification.py:1344: UndefinedMetricWarning: Precision and F-score are ill-defined and being set to 0.0 in labels with no predicted samples. Use `zero_division` parameter to control this behavior.\n",
            "  _warn_prf(average, modifier, msg_start, len(result))\n",
            "/usr/local/lib/python3.10/dist-packages/sklearn/metrics/_classification.py:1344: UndefinedMetricWarning: Precision and F-score are ill-defined and being set to 0.0 in labels with no predicted samples. Use `zero_division` parameter to control this behavior.\n",
            "  _warn_prf(average, modifier, msg_start, len(result))\n",
            "/usr/local/lib/python3.10/dist-packages/sklearn/metrics/_classification.py:1344: UndefinedMetricWarning: Precision and F-score are ill-defined and being set to 0.0 in labels with no predicted samples. Use `zero_division` parameter to control this behavior.\n",
            "  _warn_prf(average, modifier, msg_start, len(result))\n",
            "/usr/local/lib/python3.10/dist-packages/sklearn/metrics/_classification.py:1344: UndefinedMetricWarning: Precision and F-score are ill-defined and being set to 0.0 in labels with no predicted samples. Use `zero_division` parameter to control this behavior.\n",
            "  _warn_prf(average, modifier, msg_start, len(result))\n",
            "/usr/local/lib/python3.10/dist-packages/sklearn/metrics/_classification.py:1344: UndefinedMetricWarning: Precision and F-score are ill-defined and being set to 0.0 in labels with no predicted samples. Use `zero_division` parameter to control this behavior.\n",
            "  _warn_prf(average, modifier, msg_start, len(result))\n"
          ]
        },
        {
          "output_type": "stream",
          "name": "stdout",
          "text": [
            "               precision    recall  f1-score   support\n",
            "\n",
            "Contradiction       0.00      0.00      0.00        80\n",
            "           FE       0.16      1.00      0.28        35\n",
            "      Neutral       0.00      0.00      0.00        88\n",
            "           RE       0.00      0.00      0.00        14\n",
            "\n",
            "     accuracy                           0.16       217\n",
            "    macro avg       0.04      0.25      0.07       217\n",
            " weighted avg       0.03      0.16      0.04       217\n",
            "\n",
            "This Confusion Matrix stats is for Modifier Type existential for pair-classification-decomposable-attention-elmo\n",
            "               precision    recall  f1-score   support\n",
            "\n",
            "Contradiction       0.00      0.00      0.00        88\n",
            "           FE       0.26      1.00      0.42        80\n",
            "      Neutral       0.00      0.00      0.00       130\n",
            "           RE       0.00      0.00      0.00         5\n",
            "\n",
            "     accuracy                           0.26       303\n",
            "    macro avg       0.07      0.25      0.10       303\n",
            " weighted avg       0.07      0.26      0.11       303\n",
            "\n",
            "This Confusion Matrix stats is for Modifier Type negation for pair-classification-decomposable-attention-elmo\n",
            "               precision    recall  f1-score   support\n",
            "\n",
            "Contradiction       0.00      0.00      0.00        23\n",
            "           FE       0.09      1.00      0.16        15\n",
            "      Neutral       0.00      0.00      0.00       118\n",
            "           RE       0.00      0.00      0.00        11\n",
            "\n",
            "     accuracy                           0.09       167\n",
            "    macro avg       0.02      0.25      0.04       167\n",
            " weighted avg       0.01      0.09      0.01       167\n",
            "\n",
            "This Confusion Matrix stats is for Modifier Type adjectives/adverbs for pair-classification-decomposable-attention-elmo\n",
            "               precision    recall  f1-score   support\n",
            "\n",
            "Contradiction       0.00      0.00      0.00       225\n",
            "           FE       0.21      1.00      0.34       124\n",
            "      Neutral       0.00      0.00      0.00       253\n",
            "\n",
            "     accuracy                           0.21       602\n",
            "    macro avg       0.07      0.33      0.11       602\n",
            " weighted avg       0.04      0.21      0.07       602\n",
            "\n"
          ]
        },
        {
          "output_type": "stream",
          "name": "stderr",
          "text": [
            "/usr/local/lib/python3.10/dist-packages/sklearn/metrics/_classification.py:1344: UndefinedMetricWarning: Precision and F-score are ill-defined and being set to 0.0 in labels with no predicted samples. Use `zero_division` parameter to control this behavior.\n",
            "  _warn_prf(average, modifier, msg_start, len(result))\n",
            "/usr/local/lib/python3.10/dist-packages/sklearn/metrics/_classification.py:1344: UndefinedMetricWarning: Precision and F-score are ill-defined and being set to 0.0 in labels with no predicted samples. Use `zero_division` parameter to control this behavior.\n",
            "  _warn_prf(average, modifier, msg_start, len(result))\n",
            "/usr/local/lib/python3.10/dist-packages/sklearn/metrics/_classification.py:1344: UndefinedMetricWarning: Precision and F-score are ill-defined and being set to 0.0 in labels with no predicted samples. Use `zero_division` parameter to control this behavior.\n",
            "  _warn_prf(average, modifier, msg_start, len(result))\n",
            "/usr/local/lib/python3.10/dist-packages/sklearn/metrics/_classification.py:1344: UndefinedMetricWarning: Precision and F-score are ill-defined and being set to 0.0 in labels with no predicted samples. Use `zero_division` parameter to control this behavior.\n",
            "  _warn_prf(average, modifier, msg_start, len(result))\n",
            "/usr/local/lib/python3.10/dist-packages/sklearn/metrics/_classification.py:1344: UndefinedMetricWarning: Precision and F-score are ill-defined and being set to 0.0 in labels with no predicted samples. Use `zero_division` parameter to control this behavior.\n",
            "  _warn_prf(average, modifier, msg_start, len(result))\n",
            "/usr/local/lib/python3.10/dist-packages/sklearn/metrics/_classification.py:1344: UndefinedMetricWarning: Precision and F-score are ill-defined and being set to 0.0 in labels with no predicted samples. Use `zero_division` parameter to control this behavior.\n",
            "  _warn_prf(average, modifier, msg_start, len(result))\n",
            "/usr/local/lib/python3.10/dist-packages/sklearn/metrics/_classification.py:1344: UndefinedMetricWarning: Precision and F-score are ill-defined and being set to 0.0 in labels with no predicted samples. Use `zero_division` parameter to control this behavior.\n",
            "  _warn_prf(average, modifier, msg_start, len(result))\n",
            "/usr/local/lib/python3.10/dist-packages/sklearn/metrics/_classification.py:1344: UndefinedMetricWarning: Precision and F-score are ill-defined and being set to 0.0 in labels with no predicted samples. Use `zero_division` parameter to control this behavior.\n",
            "  _warn_prf(average, modifier, msg_start, len(result))\n",
            "/usr/local/lib/python3.10/dist-packages/sklearn/metrics/_classification.py:1344: UndefinedMetricWarning: Precision and F-score are ill-defined and being set to 0.0 in labels with no predicted samples. Use `zero_division` parameter to control this behavior.\n",
            "  _warn_prf(average, modifier, msg_start, len(result))\n",
            "/usr/local/lib/python3.10/dist-packages/sklearn/metrics/_classification.py:1344: UndefinedMetricWarning: Precision and F-score are ill-defined and being set to 0.0 in labels with no predicted samples. Use `zero_division` parameter to control this behavior.\n",
            "  _warn_prf(average, modifier, msg_start, len(result))\n",
            "/usr/local/lib/python3.10/dist-packages/sklearn/metrics/_classification.py:1344: UndefinedMetricWarning: Precision and F-score are ill-defined and being set to 0.0 in labels with no predicted samples. Use `zero_division` parameter to control this behavior.\n",
            "  _warn_prf(average, modifier, msg_start, len(result))\n",
            "/usr/local/lib/python3.10/dist-packages/sklearn/metrics/_classification.py:1344: UndefinedMetricWarning: Precision and F-score are ill-defined and being set to 0.0 in labels with no predicted samples. Use `zero_division` parameter to control this behavior.\n",
            "  _warn_prf(average, modifier, msg_start, len(result))\n",
            "/usr/local/lib/python3.10/dist-packages/sklearn/metrics/_classification.py:1344: UndefinedMetricWarning: Precision and F-score are ill-defined and being set to 0.0 in labels with no predicted samples. Use `zero_division` parameter to control this behavior.\n",
            "  _warn_prf(average, modifier, msg_start, len(result))\n",
            "/usr/local/lib/python3.10/dist-packages/sklearn/metrics/_classification.py:1344: UndefinedMetricWarning: Precision and F-score are ill-defined and being set to 0.0 in labels with no predicted samples. Use `zero_division` parameter to control this behavior.\n",
            "  _warn_prf(average, modifier, msg_start, len(result))\n",
            "/usr/local/lib/python3.10/dist-packages/sklearn/metrics/_classification.py:1344: UndefinedMetricWarning: Precision and F-score are ill-defined and being set to 0.0 in labels with no predicted samples. Use `zero_division` parameter to control this behavior.\n",
            "  _warn_prf(average, modifier, msg_start, len(result))\n",
            "/usr/local/lib/python3.10/dist-packages/sklearn/metrics/_classification.py:1344: UndefinedMetricWarning: Precision and F-score are ill-defined and being set to 0.0 in labels with no predicted samples. Use `zero_division` parameter to control this behavior.\n",
            "  _warn_prf(average, modifier, msg_start, len(result))\n",
            "/usr/local/lib/python3.10/dist-packages/sklearn/metrics/_classification.py:1344: UndefinedMetricWarning: Precision and F-score are ill-defined and being set to 0.0 in labels with no predicted samples. Use `zero_division` parameter to control this behavior.\n",
            "  _warn_prf(average, modifier, msg_start, len(result))\n",
            "/usr/local/lib/python3.10/dist-packages/sklearn/metrics/_classification.py:1344: UndefinedMetricWarning: Precision and F-score are ill-defined and being set to 0.0 in labels with no predicted samples. Use `zero_division` parameter to control this behavior.\n",
            "  _warn_prf(average, modifier, msg_start, len(result))\n",
            "/usr/local/lib/python3.10/dist-packages/sklearn/metrics/_classification.py:1344: UndefinedMetricWarning: Precision and F-score are ill-defined and being set to 0.0 in labels with no predicted samples. Use `zero_division` parameter to control this behavior.\n",
            "  _warn_prf(average, modifier, msg_start, len(result))\n",
            "/usr/local/lib/python3.10/dist-packages/sklearn/metrics/_classification.py:1344: UndefinedMetricWarning: Precision and F-score are ill-defined and being set to 0.0 in labels with no predicted samples. Use `zero_division` parameter to control this behavior.\n",
            "  _warn_prf(average, modifier, msg_start, len(result))\n"
          ]
        }
      ]
    },
    {
      "cell_type": "code",
      "source": [
        "mtype_scores"
      ],
      "metadata": {
        "colab": {
          "base_uri": "https://localhost:8080/"
        },
        "id": "fD7XHBnFkTMK",
        "outputId": "df942eb7-d22f-4007-8b96-933aa85d9566"
      },
      "execution_count": null,
      "outputs": [
        {
          "output_type": "execute_result",
          "data": {
            "text/plain": [
              "[{'model_name': 'nli-deberta-v3-base',\n",
              "  'modifier_type': 'no modifiers',\n",
              "  'svo': '',\n",
              "  'f1_macro': 0.7220779220779221,\n",
              "  'precision_m': 0.8611111111111112,\n",
              "  'recall_m': 0.75,\n",
              "  'acc': 0.8},\n",
              " {'model_name': 'nli-deberta-v3-base',\n",
              "  'modifier_type': 'universal',\n",
              "  'svo': '',\n",
              "  'f1_macro': 0.53332561300592,\n",
              "  'precision_m': 0.5474151606714321,\n",
              "  'recall_m': 0.5876623376623377,\n",
              "  'acc': 0.663594470046083},\n",
              " {'model_name': 'nli-deberta-v3-base',\n",
              "  'modifier_type': 'existential',\n",
              "  'svo': '',\n",
              "  'f1_macro': 0.5101121755506428,\n",
              "  'precision_m': 0.5453261158048393,\n",
              "  'recall_m': 0.5608391608391609,\n",
              "  'acc': 0.6105610561056105},\n",
              " {'model_name': 'nli-deberta-v3-base',\n",
              "  'modifier_type': 'negation',\n",
              "  'svo': '',\n",
              "  'f1_macro': 0.2678053830227743,\n",
              "  'precision_m': 0.35558840436889216,\n",
              "  'recall_m': 0.4637061476965677,\n",
              "  'acc': 0.30538922155688625},\n",
              " {'model_name': 'nli-deberta-v3-base',\n",
              "  'modifier_type': 'adjectives/adverbs',\n",
              "  'svo': '',\n",
              "  'f1_macro': 0.5768192023658427,\n",
              "  'precision_m': 0.608759952377409,\n",
              "  'recall_m': 0.6153667105841019,\n",
              "  'acc': 0.7740863787375415},\n",
              " {'model_name': 'ynie/roberta-large-snli_mnli_fever_anli_R1_R2_R3-nli',\n",
              "  'modifier_type': 'no modifiers',\n",
              "  'svo': '',\n",
              "  'f1_macro': 0.5555555555555556,\n",
              "  'precision_m': 0.5833333333333334,\n",
              "  'recall_m': 0.5333333333333333,\n",
              "  'acc': 0.7333333333333333},\n",
              " {'model_name': 'ynie/roberta-large-snli_mnli_fever_anli_R1_R2_R3-nli',\n",
              "  'modifier_type': 'universal',\n",
              "  'svo': '',\n",
              "  'f1_macro': 0.5596826586706647,\n",
              "  'precision_m': 0.5636419644428798,\n",
              "  'recall_m': 0.5853896103896105,\n",
              "  'acc': 0.6774193548387096},\n",
              " {'model_name': 'ynie/roberta-large-snli_mnli_fever_anli_R1_R2_R3-nli',\n",
              "  'modifier_type': 'existential',\n",
              "  'svo': '',\n",
              "  'f1_macro': 0.4932004823133856,\n",
              "  'precision_m': 0.48884586685544273,\n",
              "  'recall_m': 0.5348339160839162,\n",
              "  'acc': 0.594059405940594},\n",
              " {'model_name': 'ynie/roberta-large-snli_mnli_fever_anli_R1_R2_R3-nli',\n",
              "  'modifier_type': 'negation',\n",
              "  'svo': '',\n",
              "  'f1_macro': 0.2995974450386215,\n",
              "  'precision_m': 0.34698838896952106,\n",
              "  'recall_m': 0.4689505593890266,\n",
              "  'acc': 0.3532934131736527},\n",
              " {'model_name': 'ynie/roberta-large-snli_mnli_fever_anli_R1_R2_R3-nli',\n",
              "  'modifier_type': 'adjectives/adverbs',\n",
              "  'svo': '',\n",
              "  'f1_macro': 0.5542935608328813,\n",
              "  'precision_m': 0.5617852289091517,\n",
              "  'recall_m': 0.5522989714820009,\n",
              "  'acc': 0.7126245847176079},\n",
              " {'model_name': 'pair-classification-decomposable-attention-elmo',\n",
              "  'modifier_type': 'no modifiers',\n",
              "  'svo': '',\n",
              "  'f1_macro': 0.16666666666666666,\n",
              "  'precision_m': 0.1111111111111111,\n",
              "  'recall_m': 0.3333333333333333,\n",
              "  'acc': 0.3333333333333333},\n",
              " {'model_name': 'pair-classification-decomposable-attention-elmo',\n",
              "  'modifier_type': 'universal',\n",
              "  'svo': '',\n",
              "  'f1_macro': 0.06944444444444443,\n",
              "  'precision_m': 0.04032258064516129,\n",
              "  'recall_m': 0.25,\n",
              "  'acc': 0.16129032258064516},\n",
              " {'model_name': 'pair-classification-decomposable-attention-elmo',\n",
              "  'modifier_type': 'existential',\n",
              "  'svo': '',\n",
              "  'f1_macro': 0.10443864229765011,\n",
              "  'precision_m': 0.066006600660066,\n",
              "  'recall_m': 0.25,\n",
              "  'acc': 0.264026402640264},\n",
              " {'model_name': 'pair-classification-decomposable-attention-elmo',\n",
              "  'modifier_type': 'negation',\n",
              "  'svo': '',\n",
              "  'f1_macro': 0.04120879120879121,\n",
              "  'precision_m': 0.02245508982035928,\n",
              "  'recall_m': 0.25,\n",
              "  'acc': 0.08982035928143713},\n",
              " {'model_name': 'pair-classification-decomposable-attention-elmo',\n",
              "  'modifier_type': 'adjectives/adverbs',\n",
              "  'svo': '',\n",
              "  'f1_macro': 0.11386593204775021,\n",
              "  'precision_m': 0.06866002214839424,\n",
              "  'recall_m': 0.3333333333333333,\n",
              "  'acc': 0.2059800664451827}]"
            ]
          },
          "metadata": {},
          "execution_count": 14
        }
      ]
    },
    {
      "cell_type": "markdown",
      "source": [
        "#### F1, Precision, recall and Accuracy for Zero shot results. (Desiderata)\n",
        "##### For 3 NLI models:\n",
        "- 'nli-deberta-v3-base',\n",
        "- 'ynie/roberta-large-snli_mnli_fever_anli_R1_R2_R3-nli',\n",
        "- 'pair-classification-decomposable-attention-elmo'"
      ],
      "metadata": {
        "id": "xjVUHkaRMYKF"
      }
    },
    {
      "cell_type": "code",
      "source": [
        "from sklearn.metrics import precision_score, recall_score, f1_score, accuracy_score, confusion_matrix\n",
        "model_names = ['nli-deberta-v3-base',\n",
        "       'ynie/roberta-large-snli_mnli_fever_anli_R1_R2_R3-nli',\n",
        "       'pair-classification-decomposable-attention-elmo']\n",
        "gt = 'CompressedGT'\n",
        "scores = []\n",
        "for model_name in model_names:\n",
        "  print(\"This Confusion Matrix stats is for %s\"%( model_name))\n",
        "  ytrue = df['CompressedGT'].to_list()\n",
        "  ypred = df[model_name].to_list()\n",
        "  res = get_classification_report(ytrue, ypred, model_name)\n",
        "  scores.append(res)"
      ],
      "metadata": {
        "id": "1IY9imxMkGLy",
        "colab": {
          "base_uri": "https://localhost:8080/"
        },
        "outputId": "e6f2473f-6890-4099-d34a-ac8213a286f7"
      },
      "execution_count": null,
      "outputs": [
        {
          "output_type": "stream",
          "name": "stdout",
          "text": [
            "This Confusion Matrix stats is for nli-deberta-v3-base\n",
            "               precision    recall  f1-score   support\n",
            "\n",
            "Contradiction       0.63      0.96      0.76       422\n",
            "           FE       0.60      0.93      0.73       259\n",
            "      Neutral       0.90      0.35      0.50       593\n",
            "           RE       0.11      0.10      0.11        30\n",
            "\n",
            "     accuracy                           0.66      1304\n",
            "    macro avg       0.56      0.59      0.53      1304\n",
            " weighted avg       0.73      0.66      0.62      1304\n",
            "\n",
            "This Confusion Matrix stats is for ynie/roberta-large-snli_mnli_fever_anli_R1_R2_R3-nli\n",
            "               precision    recall  f1-score   support\n",
            "\n",
            "Contradiction       0.63      0.84      0.72       422\n",
            "           FE       0.67      0.80      0.73       259\n",
            "      Neutral       0.69      0.44      0.54       593\n",
            "           RE       0.07      0.13      0.10        30\n",
            "\n",
            "     accuracy                           0.63      1304\n",
            "    macro avg       0.52      0.55      0.52      1304\n",
            " weighted avg       0.65      0.63      0.62      1304\n",
            "\n",
            "This Confusion Matrix stats is for pair-classification-decomposable-attention-elmo\n",
            "               precision    recall  f1-score   support\n",
            "\n",
            "Contradiction       0.00      0.00      0.00       422\n",
            "           FE       0.20      1.00      0.33       259\n",
            "      Neutral       0.00      0.00      0.00       593\n",
            "           RE       0.00      0.00      0.00        30\n",
            "\n",
            "     accuracy                           0.20      1304\n",
            "    macro avg       0.05      0.25      0.08      1304\n",
            " weighted avg       0.04      0.20      0.07      1304\n",
            "\n"
          ]
        },
        {
          "output_type": "stream",
          "name": "stderr",
          "text": [
            "/usr/local/lib/python3.10/dist-packages/sklearn/metrics/_classification.py:1344: UndefinedMetricWarning: Precision and F-score are ill-defined and being set to 0.0 in labels with no predicted samples. Use `zero_division` parameter to control this behavior.\n",
            "  _warn_prf(average, modifier, msg_start, len(result))\n",
            "/usr/local/lib/python3.10/dist-packages/sklearn/metrics/_classification.py:1344: UndefinedMetricWarning: Precision and F-score are ill-defined and being set to 0.0 in labels with no predicted samples. Use `zero_division` parameter to control this behavior.\n",
            "  _warn_prf(average, modifier, msg_start, len(result))\n",
            "/usr/local/lib/python3.10/dist-packages/sklearn/metrics/_classification.py:1344: UndefinedMetricWarning: Precision and F-score are ill-defined and being set to 0.0 in labels with no predicted samples. Use `zero_division` parameter to control this behavior.\n",
            "  _warn_prf(average, modifier, msg_start, len(result))\n",
            "/usr/local/lib/python3.10/dist-packages/sklearn/metrics/_classification.py:1344: UndefinedMetricWarning: Precision and F-score are ill-defined and being set to 0.0 in labels with no predicted samples. Use `zero_division` parameter to control this behavior.\n",
            "  _warn_prf(average, modifier, msg_start, len(result))\n",
            "/usr/local/lib/python3.10/dist-packages/sklearn/metrics/_classification.py:1344: UndefinedMetricWarning: Precision and F-score are ill-defined and being set to 0.0 in labels with no predicted samples. Use `zero_division` parameter to control this behavior.\n",
            "  _warn_prf(average, modifier, msg_start, len(result))\n",
            "/usr/local/lib/python3.10/dist-packages/sklearn/metrics/_classification.py:1344: UndefinedMetricWarning: Precision and F-score are ill-defined and being set to 0.0 in labels with no predicted samples. Use `zero_division` parameter to control this behavior.\n",
            "  _warn_prf(average, modifier, msg_start, len(result))\n"
          ]
        }
      ]
    },
    {
      "cell_type": "code",
      "source": [
        "scores"
      ],
      "metadata": {
        "colab": {
          "base_uri": "https://localhost:8080/"
        },
        "id": "fnXCOYnq2mLL",
        "outputId": "6d6dd47c-40b5-4ee1-f234-3cf2ca5a2e2e"
      },
      "execution_count": null,
      "outputs": [
        {
          "output_type": "execute_result",
          "data": {
            "text/plain": [
              "[{'model_name': 'nli-deberta-v3-base',\n",
              "  'modifier_type': '',\n",
              "  'svo': '',\n",
              "  'f1_macro': 0.5254181116194013,\n",
              "  'precision_m': 0.5600705548236663,\n",
              "  'recall_m': 0.5860073548632008,\n",
              "  'acc': 0.6579754601226994},\n",
              " {'model_name': 'ynie/roberta-large-snli_mnli_fever_anli_R1_R2_R3-nli',\n",
              "  'modifier_type': '',\n",
              "  'svo': '',\n",
              "  'f1_macro': 0.5200345993764848,\n",
              "  'precision_m': 0.5155704861587215,\n",
              "  'recall_m': 0.5532624836671655,\n",
              "  'acc': 0.6334355828220859},\n",
              " {'model_name': 'pair-classification-decomposable-attention-elmo',\n",
              "  'modifier_type': '',\n",
              "  'svo': '',\n",
              "  'f1_macro': 0.08285348688419705,\n",
              "  'precision_m': 0.04965490797546012,\n",
              "  'recall_m': 0.25,\n",
              "  'acc': 0.19861963190184048}]"
            ]
          },
          "metadata": {},
          "execution_count": 16
        }
      ]
    },
    {
      "cell_type": "code",
      "source": [
        "scores"
      ],
      "metadata": {
        "colab": {
          "base_uri": "https://localhost:8080/"
        },
        "id": "ZxsmWjW0mIjo",
        "outputId": "3c39d1b4-d9e1-4636-ef25-ef9c8be2c73c"
      },
      "execution_count": null,
      "outputs": [
        {
          "output_type": "execute_result",
          "data": {
            "text/plain": [
              "[{'model_name': 'nli-deberta-v3-base',\n",
              "  'modifier_type': '',\n",
              "  'svo': '',\n",
              "  'f1_macro': 0.5254181116194013,\n",
              "  'precision_m': 0.5600705548236663,\n",
              "  'recall_m': 0.5860073548632008,\n",
              "  'acc': 0.6579754601226994},\n",
              " {'model_name': 'ynie/roberta-large-snli_mnli_fever_anli_R1_R2_R3-nli',\n",
              "  'modifier_type': '',\n",
              "  'svo': '',\n",
              "  'f1_macro': 0.5200345993764848,\n",
              "  'precision_m': 0.5155704861587215,\n",
              "  'recall_m': 0.5532624836671655,\n",
              "  'acc': 0.6334355828220859},\n",
              " {'model_name': 'pair-classification-decomposable-attention-elmo',\n",
              "  'modifier_type': '',\n",
              "  'svo': '',\n",
              "  'f1_macro': 0.08285348688419705,\n",
              "  'precision_m': 0.04965490797546012,\n",
              "  'recall_m': 0.25,\n",
              "  'acc': 0.19861963190184048}]"
            ]
          },
          "metadata": {},
          "execution_count": 17
        }
      ]
    },
    {
      "cell_type": "markdown",
      "source": [
        "##### Uncomment the following lines to save the evaluation results."
      ],
      "metadata": {
        "id": "GebopmIwNCVR"
      }
    },
    {
      "cell_type": "code",
      "source": [
        "pd.DataFrame(scores).to_csv(os.path.join(path, \"zero_shot_scores.xlsx\"))\n",
        "pd.DataFrame(mtype_scores).to_csv(os.path.join(path, \"zero_shot_modifier_scores.xlsx\"))"
      ],
      "metadata": {
        "id": "MKZ8ddxRnwC6"
      },
      "execution_count": null,
      "outputs": []
    },
    {
      "cell_type": "markdown",
      "source": [
        "#### F1, Precision, recall and accuracy - Grouped by Subject Verb Object (SVO) of the Zero shot analysis.\n",
        "##### For 3 NLI models:\n",
        "- 'nli-deberta-v3-base',\n",
        "- 'ynie/roberta-large-snli_mnli_fever_anli_R1_R2_R3-nli',\n",
        "- 'pair-classification-decomposable-attention-elmo'"
      ],
      "metadata": {
        "id": "9ATFMRZcNIxh"
      }
    },
    {
      "cell_type": "code",
      "source": [
        "svo = \"Part of Premise/Hypothesis Modified\"\n",
        "df[svo] = df[svo].str.lower()"
      ],
      "metadata": {
        "id": "5uKsiewpn7hJ"
      },
      "execution_count": null,
      "outputs": []
    },
    {
      "cell_type": "code",
      "source": [
        "model_names = ['nli-deberta-v3-base',\n",
        "       'ynie/roberta-large-snli_mnli_fever_anli_R1_R2_R3-nli',\n",
        "       'pair-classification-decomposable-attention-elmo']\n",
        "gt = 'CompressedGT'\n",
        "df[svo] = df[svo].astype(str)\n",
        "svo_scores = []\n",
        "for svo_type in df[svo].unique():\n",
        "  for model_name in model_names:\n",
        "    print(\"The scores are for SVO %s, model name %s\"%( svo_type,model_name))\n",
        "    ytrue = df[df[svo] == svo_type]['CompressedGT'].to_list()\n",
        "    ypred = df[df[svo] == svo_type][model_name].to_list()\n",
        "    res = get_classification_report(ytrue, ypred, model_name,\"\", svo_type)\n",
        "    svo_scores.append(res)"
      ],
      "metadata": {
        "id": "N032---Ri8PN",
        "colab": {
          "base_uri": "https://localhost:8080/"
        },
        "outputId": "f78066c1-ee4b-4401-9b4a-e235be79b755"
      },
      "execution_count": null,
      "outputs": [
        {
          "output_type": "stream",
          "name": "stdout",
          "text": [
            "The scores are for SVO none, model name nli-deberta-v3-base\n",
            "               precision    recall  f1-score   support\n",
            "\n",
            "Contradiction       0.75      1.00      0.86         6\n",
            "           FE       0.83      1.00      0.91         5\n",
            "      Neutral       1.00      0.25      0.40         4\n",
            "\n",
            "     accuracy                           0.80        15\n",
            "    macro avg       0.86      0.75      0.72        15\n",
            " weighted avg       0.84      0.80      0.75        15\n",
            "\n",
            "The scores are for SVO none, model name ynie/roberta-large-snli_mnli_fever_anli_R1_R2_R3-nli\n",
            "               precision    recall  f1-score   support\n",
            "\n",
            "Contradiction       0.83      0.83      0.83         6\n",
            "           FE       1.00      0.80      0.89         5\n",
            "      Neutral       0.50      0.50      0.50         4\n",
            "           RE       0.00      0.00      0.00         0\n",
            "\n",
            "     accuracy                           0.73        15\n",
            "    macro avg       0.58      0.53      0.56        15\n",
            " weighted avg       0.80      0.73      0.76        15\n",
            "\n",
            "The scores are for SVO none, model name pair-classification-decomposable-attention-elmo\n",
            "               precision    recall  f1-score   support\n",
            "\n",
            "Contradiction       0.00      0.00      0.00         6\n",
            "           FE       0.33      1.00      0.50         5\n",
            "      Neutral       0.00      0.00      0.00         4\n",
            "\n",
            "     accuracy                           0.33        15\n",
            "    macro avg       0.11      0.33      0.17        15\n",
            " weighted avg       0.11      0.33      0.17        15\n",
            "\n",
            "The scores are for SVO subject, model name nli-deberta-v3-base\n",
            "               precision    recall  f1-score   support\n",
            "\n",
            "Contradiction       0.61      0.96      0.75       182\n",
            "           FE       0.59      0.93      0.72       106\n",
            "      Neutral       0.90      0.33      0.48       257\n",
            "           RE       0.08      0.07      0.07        15\n",
            "\n",
            "     accuracy                           0.64       560\n",
            "    macro avg       0.55      0.57      0.51       560\n",
            " weighted avg       0.73      0.64      0.60       560\n",
            "\n",
            "The scores are for SVO subject, model name ynie/roberta-large-snli_mnli_fever_anli_R1_R2_R3-nli\n",
            "               precision    recall  f1-score   support\n",
            "\n",
            "Contradiction       0.63      0.83      0.72       182\n",
            "           FE       0.60      0.75      0.67       106\n",
            "      Neutral       0.65      0.42      0.51       257\n",
            "           RE       0.04      0.07      0.05        15\n",
            "\n",
            "     accuracy                           0.61       560\n",
            "    macro avg       0.48      0.52      0.49       560\n",
            " weighted avg       0.62      0.61      0.59       560\n",
            "\n",
            "The scores are for SVO subject, model name pair-classification-decomposable-attention-elmo\n"
          ]
        },
        {
          "output_type": "stream",
          "name": "stderr",
          "text": [
            "/usr/local/lib/python3.10/dist-packages/sklearn/metrics/_classification.py:1344: UndefinedMetricWarning: Recall and F-score are ill-defined and being set to 0.0 in labels with no true samples. Use `zero_division` parameter to control this behavior.\n",
            "  _warn_prf(average, modifier, msg_start, len(result))\n",
            "/usr/local/lib/python3.10/dist-packages/sklearn/metrics/_classification.py:1344: UndefinedMetricWarning: Recall and F-score are ill-defined and being set to 0.0 in labels with no true samples. Use `zero_division` parameter to control this behavior.\n",
            "  _warn_prf(average, modifier, msg_start, len(result))\n",
            "/usr/local/lib/python3.10/dist-packages/sklearn/metrics/_classification.py:1344: UndefinedMetricWarning: Recall and F-score are ill-defined and being set to 0.0 in labels with no true samples. Use `zero_division` parameter to control this behavior.\n",
            "  _warn_prf(average, modifier, msg_start, len(result))\n",
            "/usr/local/lib/python3.10/dist-packages/sklearn/metrics/_classification.py:1344: UndefinedMetricWarning: Recall and F-score are ill-defined and being set to 0.0 in labels with no true samples. Use `zero_division` parameter to control this behavior.\n",
            "  _warn_prf(average, modifier, msg_start, len(result))\n",
            "/usr/local/lib/python3.10/dist-packages/sklearn/metrics/_classification.py:1344: UndefinedMetricWarning: Recall and F-score are ill-defined and being set to 0.0 in labels with no true samples. Use `zero_division` parameter to control this behavior.\n",
            "  _warn_prf(average, modifier, msg_start, len(result))\n",
            "/usr/local/lib/python3.10/dist-packages/sklearn/metrics/_classification.py:1344: UndefinedMetricWarning: Recall and F-score are ill-defined and being set to 0.0 in labels with no true samples. Use `zero_division` parameter to control this behavior.\n",
            "  _warn_prf(average, modifier, msg_start, len(result))\n",
            "/usr/local/lib/python3.10/dist-packages/sklearn/metrics/_classification.py:1344: UndefinedMetricWarning: Precision and F-score are ill-defined and being set to 0.0 in labels with no predicted samples. Use `zero_division` parameter to control this behavior.\n",
            "  _warn_prf(average, modifier, msg_start, len(result))\n",
            "/usr/local/lib/python3.10/dist-packages/sklearn/metrics/_classification.py:1344: UndefinedMetricWarning: Precision and F-score are ill-defined and being set to 0.0 in labels with no predicted samples. Use `zero_division` parameter to control this behavior.\n",
            "  _warn_prf(average, modifier, msg_start, len(result))\n",
            "/usr/local/lib/python3.10/dist-packages/sklearn/metrics/_classification.py:1344: UndefinedMetricWarning: Precision and F-score are ill-defined and being set to 0.0 in labels with no predicted samples. Use `zero_division` parameter to control this behavior.\n",
            "  _warn_prf(average, modifier, msg_start, len(result))\n",
            "/usr/local/lib/python3.10/dist-packages/sklearn/metrics/_classification.py:1344: UndefinedMetricWarning: Precision and F-score are ill-defined and being set to 0.0 in labels with no predicted samples. Use `zero_division` parameter to control this behavior.\n",
            "  _warn_prf(average, modifier, msg_start, len(result))\n",
            "/usr/local/lib/python3.10/dist-packages/sklearn/metrics/_classification.py:1344: UndefinedMetricWarning: Precision and F-score are ill-defined and being set to 0.0 in labels with no predicted samples. Use `zero_division` parameter to control this behavior.\n",
            "  _warn_prf(average, modifier, msg_start, len(result))\n",
            "/usr/local/lib/python3.10/dist-packages/sklearn/metrics/_classification.py:1344: UndefinedMetricWarning: Precision and F-score are ill-defined and being set to 0.0 in labels with no predicted samples. Use `zero_division` parameter to control this behavior.\n",
            "  _warn_prf(average, modifier, msg_start, len(result))\n",
            "/usr/local/lib/python3.10/dist-packages/sklearn/metrics/_classification.py:1344: UndefinedMetricWarning: Precision and F-score are ill-defined and being set to 0.0 in labels with no predicted samples. Use `zero_division` parameter to control this behavior.\n",
            "  _warn_prf(average, modifier, msg_start, len(result))\n",
            "/usr/local/lib/python3.10/dist-packages/sklearn/metrics/_classification.py:1344: UndefinedMetricWarning: Precision and F-score are ill-defined and being set to 0.0 in labels with no predicted samples. Use `zero_division` parameter to control this behavior.\n",
            "  _warn_prf(average, modifier, msg_start, len(result))\n",
            "/usr/local/lib/python3.10/dist-packages/sklearn/metrics/_classification.py:1344: UndefinedMetricWarning: Precision and F-score are ill-defined and being set to 0.0 in labels with no predicted samples. Use `zero_division` parameter to control this behavior.\n",
            "  _warn_prf(average, modifier, msg_start, len(result))\n",
            "/usr/local/lib/python3.10/dist-packages/sklearn/metrics/_classification.py:1344: UndefinedMetricWarning: Precision and F-score are ill-defined and being set to 0.0 in labels with no predicted samples. Use `zero_division` parameter to control this behavior.\n",
            "  _warn_prf(average, modifier, msg_start, len(result))\n",
            "/usr/local/lib/python3.10/dist-packages/sklearn/metrics/_classification.py:1344: UndefinedMetricWarning: Precision and F-score are ill-defined and being set to 0.0 in labels with no predicted samples. Use `zero_division` parameter to control this behavior.\n",
            "  _warn_prf(average, modifier, msg_start, len(result))\n",
            "/usr/local/lib/python3.10/dist-packages/sklearn/metrics/_classification.py:1344: UndefinedMetricWarning: Precision and F-score are ill-defined and being set to 0.0 in labels with no predicted samples. Use `zero_division` parameter to control this behavior.\n",
            "  _warn_prf(average, modifier, msg_start, len(result))\n"
          ]
        },
        {
          "output_type": "stream",
          "name": "stdout",
          "text": [
            "               precision    recall  f1-score   support\n",
            "\n",
            "Contradiction       0.00      0.00      0.00       182\n",
            "           FE       0.19      1.00      0.32       106\n",
            "      Neutral       0.00      0.00      0.00       257\n",
            "           RE       0.00      0.00      0.00        15\n",
            "\n",
            "     accuracy                           0.19       560\n",
            "    macro avg       0.05      0.25      0.08       560\n",
            " weighted avg       0.04      0.19      0.06       560\n",
            "\n",
            "The scores are for SVO verb, model name nli-deberta-v3-base\n",
            "               precision    recall  f1-score   support\n",
            "\n",
            "Contradiction       0.57      0.94      0.71        66\n",
            "           FE       0.48      0.94      0.64        34\n",
            "      Neutral       0.91      0.27      0.42       115\n",
            "           RE       0.09      0.20      0.13         5\n",
            "\n",
            "     accuracy                           0.57       220\n",
            "    macro avg       0.51      0.59      0.47       220\n",
            " weighted avg       0.72      0.57      0.53       220\n",
            "\n",
            "The scores are for SVO verb, model name ynie/roberta-large-snli_mnli_fever_anli_R1_R2_R3-nli\n",
            "               precision    recall  f1-score   support\n",
            "\n",
            "Contradiction       0.57      0.88      0.69        66\n",
            "           FE       0.53      0.85      0.65        34\n",
            "      Neutral       0.86      0.37      0.52       115\n",
            "           RE       0.07      0.20      0.11         5\n",
            "\n",
            "     accuracy                           0.60       220\n",
            "    macro avg       0.51      0.58      0.49       220\n",
            " weighted avg       0.70      0.60      0.58       220\n",
            "\n",
            "The scores are for SVO verb, model name pair-classification-decomposable-attention-elmo\n",
            "               precision    recall  f1-score   support\n",
            "\n",
            "Contradiction       0.00      0.00      0.00        66\n",
            "           FE       0.15      1.00      0.27        34\n",
            "      Neutral       0.00      0.00      0.00       115\n",
            "           RE       0.00      0.00      0.00         5\n",
            "\n",
            "     accuracy                           0.15       220\n",
            "    macro avg       0.04      0.25      0.07       220\n",
            " weighted avg       0.02      0.15      0.04       220\n",
            "\n",
            "The scores are for SVO object, model name nli-deberta-v3-base\n",
            "               precision    recall  f1-score   support\n",
            "\n",
            "Contradiction       0.67      0.98      0.79       168\n",
            "           FE       0.66      0.92      0.77       114\n",
            "      Neutral       0.88      0.41      0.56       217\n",
            "           RE       0.25      0.10      0.14        10\n",
            "\n",
            "     accuracy                           0.71       509\n",
            "    macro avg       0.62      0.60      0.57       509\n",
            " weighted avg       0.75      0.71      0.68       509\n",
            "\n",
            "The scores are for SVO object, model name ynie/roberta-large-snli_mnli_fever_anli_R1_R2_R3-nli\n",
            "               precision    recall  f1-score   support\n",
            "\n",
            "Contradiction       0.65      0.83      0.73       168\n",
            "           FE       0.80      0.83      0.82       114\n",
            "      Neutral       0.69      0.50      0.58       217\n",
            "           RE       0.12      0.20      0.15        10\n",
            "\n",
            "     accuracy                           0.68       509\n",
            "    macro avg       0.56      0.59      0.57       509\n",
            " weighted avg       0.69      0.68      0.67       509\n",
            "\n",
            "The scores are for SVO object, model name pair-classification-decomposable-attention-elmo\n",
            "               precision    recall  f1-score   support\n",
            "\n",
            "Contradiction       0.00      0.00      0.00       168\n",
            "           FE       0.22      1.00      0.37       114\n",
            "      Neutral       0.00      0.00      0.00       217\n",
            "           RE       0.00      0.00      0.00        10\n",
            "\n",
            "     accuracy                           0.22       509\n",
            "    macro avg       0.06      0.25      0.09       509\n",
            " weighted avg       0.05      0.22      0.08       509\n",
            "\n"
          ]
        },
        {
          "output_type": "stream",
          "name": "stderr",
          "text": [
            "/usr/local/lib/python3.10/dist-packages/sklearn/metrics/_classification.py:1344: UndefinedMetricWarning: Precision and F-score are ill-defined and being set to 0.0 in labels with no predicted samples. Use `zero_division` parameter to control this behavior.\n",
            "  _warn_prf(average, modifier, msg_start, len(result))\n",
            "/usr/local/lib/python3.10/dist-packages/sklearn/metrics/_classification.py:1344: UndefinedMetricWarning: Precision and F-score are ill-defined and being set to 0.0 in labels with no predicted samples. Use `zero_division` parameter to control this behavior.\n",
            "  _warn_prf(average, modifier, msg_start, len(result))\n",
            "/usr/local/lib/python3.10/dist-packages/sklearn/metrics/_classification.py:1344: UndefinedMetricWarning: Precision and F-score are ill-defined and being set to 0.0 in labels with no predicted samples. Use `zero_division` parameter to control this behavior.\n",
            "  _warn_prf(average, modifier, msg_start, len(result))\n",
            "/usr/local/lib/python3.10/dist-packages/sklearn/metrics/_classification.py:1344: UndefinedMetricWarning: Precision and F-score are ill-defined and being set to 0.0 in labels with no predicted samples. Use `zero_division` parameter to control this behavior.\n",
            "  _warn_prf(average, modifier, msg_start, len(result))\n",
            "/usr/local/lib/python3.10/dist-packages/sklearn/metrics/_classification.py:1344: UndefinedMetricWarning: Precision and F-score are ill-defined and being set to 0.0 in labels with no predicted samples. Use `zero_division` parameter to control this behavior.\n",
            "  _warn_prf(average, modifier, msg_start, len(result))\n",
            "/usr/local/lib/python3.10/dist-packages/sklearn/metrics/_classification.py:1344: UndefinedMetricWarning: Precision and F-score are ill-defined and being set to 0.0 in labels with no predicted samples. Use `zero_division` parameter to control this behavior.\n",
            "  _warn_prf(average, modifier, msg_start, len(result))\n",
            "/usr/local/lib/python3.10/dist-packages/sklearn/metrics/_classification.py:1344: UndefinedMetricWarning: Precision and F-score are ill-defined and being set to 0.0 in labels with no predicted samples. Use `zero_division` parameter to control this behavior.\n",
            "  _warn_prf(average, modifier, msg_start, len(result))\n",
            "/usr/local/lib/python3.10/dist-packages/sklearn/metrics/_classification.py:1344: UndefinedMetricWarning: Precision and F-score are ill-defined and being set to 0.0 in labels with no predicted samples. Use `zero_division` parameter to control this behavior.\n",
            "  _warn_prf(average, modifier, msg_start, len(result))\n",
            "/usr/local/lib/python3.10/dist-packages/sklearn/metrics/_classification.py:1344: UndefinedMetricWarning: Precision and F-score are ill-defined and being set to 0.0 in labels with no predicted samples. Use `zero_division` parameter to control this behavior.\n",
            "  _warn_prf(average, modifier, msg_start, len(result))\n",
            "/usr/local/lib/python3.10/dist-packages/sklearn/metrics/_classification.py:1344: UndefinedMetricWarning: Precision and F-score are ill-defined and being set to 0.0 in labels with no predicted samples. Use `zero_division` parameter to control this behavior.\n",
            "  _warn_prf(average, modifier, msg_start, len(result))\n",
            "/usr/local/lib/python3.10/dist-packages/sklearn/metrics/_classification.py:1344: UndefinedMetricWarning: Precision and F-score are ill-defined and being set to 0.0 in labels with no predicted samples. Use `zero_division` parameter to control this behavior.\n",
            "  _warn_prf(average, modifier, msg_start, len(result))\n",
            "/usr/local/lib/python3.10/dist-packages/sklearn/metrics/_classification.py:1344: UndefinedMetricWarning: Precision and F-score are ill-defined and being set to 0.0 in labels with no predicted samples. Use `zero_division` parameter to control this behavior.\n",
            "  _warn_prf(average, modifier, msg_start, len(result))\n"
          ]
        }
      ]
    },
    {
      "cell_type": "code",
      "source": [
        "svo_scores"
      ],
      "metadata": {
        "colab": {
          "base_uri": "https://localhost:8080/"
        },
        "id": "yPclJ8CskOEq",
        "outputId": "dafb0c9a-4584-46a6-b7de-b5bbec27009b"
      },
      "execution_count": null,
      "outputs": [
        {
          "output_type": "execute_result",
          "data": {
            "text/plain": [
              "[{'model_name': 'nli-deberta-v3-base',\n",
              "  'modifier_type': '',\n",
              "  'svo': 'none',\n",
              "  'f1_macro': 0.7220779220779221,\n",
              "  'precision_m': 0.8611111111111112,\n",
              "  'recall_m': 0.75,\n",
              "  'acc': 0.8},\n",
              " {'model_name': 'ynie/roberta-large-snli_mnli_fever_anli_R1_R2_R3-nli',\n",
              "  'modifier_type': '',\n",
              "  'svo': 'none',\n",
              "  'f1_macro': 0.5555555555555556,\n",
              "  'precision_m': 0.5833333333333334,\n",
              "  'recall_m': 0.5333333333333333,\n",
              "  'acc': 0.7333333333333333},\n",
              " {'model_name': 'pair-classification-decomposable-attention-elmo',\n",
              "  'modifier_type': '',\n",
              "  'svo': 'none',\n",
              "  'f1_macro': 0.16666666666666666,\n",
              "  'precision_m': 0.1111111111111111,\n",
              "  'recall_m': 0.3333333333333333,\n",
              "  'acc': 0.3333333333333333},\n",
              " {'model_name': 'nli-deberta-v3-base',\n",
              "  'modifier_type': '',\n",
              "  'svo': 'subject',\n",
              "  'f1_macro': 0.5069673066246942,\n",
              "  'precision_m': 0.5468556391924039,\n",
              "  'recall_m': 0.5732266729917417,\n",
              "  'acc': 0.6428571428571429},\n",
              " {'model_name': 'ynie/roberta-large-snli_mnli_fever_anli_R1_R2_R3-nli',\n",
              "  'modifier_type': '',\n",
              "  'svo': 'subject',\n",
              "  'f1_macro': 0.48623786306621664,\n",
              "  'precision_m': 0.4811828434532149,\n",
              "  'recall_m': 0.5168490974801084,\n",
              "  'acc': 0.6053571428571428},\n",
              " {'model_name': 'pair-classification-decomposable-attention-elmo',\n",
              "  'modifier_type': '',\n",
              "  'svo': 'subject',\n",
              "  'f1_macro': 0.07957957957957958,\n",
              "  'precision_m': 0.04732142857142857,\n",
              "  'recall_m': 0.25,\n",
              "  'acc': 0.18928571428571428},\n",
              " {'model_name': 'nli-deberta-v3-base',\n",
              "  'modifier_type': '',\n",
              "  'svo': 'verb',\n",
              "  'f1_macro': 0.4724197027804411,\n",
              "  'precision_m': 0.5140824052723675,\n",
              "  'recall_m': 0.5875339068433698,\n",
              "  'acc': 0.5727272727272728},\n",
              " {'model_name': 'ynie/roberta-large-snli_mnli_fever_anli_R1_R2_R3-nli',\n",
              "  'modifier_type': '',\n",
              "  'svo': 'verb',\n",
              "  'f1_macro': 0.49319286270209967,\n",
              "  'precision_m': 0.5082396811109683,\n",
              "  'recall_m': 0.576410524684182,\n",
              "  'acc': 0.5954545454545455},\n",
              " {'model_name': 'pair-classification-decomposable-attention-elmo',\n",
              "  'modifier_type': '',\n",
              "  'svo': 'verb',\n",
              "  'f1_macro': 0.06692913385826771,\n",
              "  'precision_m': 0.038636363636363635,\n",
              "  'recall_m': 0.25,\n",
              "  'acc': 0.15454545454545454},\n",
              " {'model_name': 'nli-deberta-v3-base',\n",
              "  'modifier_type': '',\n",
              "  'svo': 'object',\n",
              "  'f1_macro': 0.5683420378140098,\n",
              "  'precision_m': 0.616574414575957,\n",
              "  'recall_m': 0.6029974128870564,\n",
              "  'acc': 0.7072691552062869},\n",
              " {'model_name': 'ynie/roberta-large-snli_mnli_fever_anli_R1_R2_R3-nli',\n",
              "  'modifier_type': '',\n",
              "  'svo': 'object',\n",
              "  'f1_macro': 0.5687331489085499,\n",
              "  'precision_m': 0.5638413867082595,\n",
              "  'recall_m': 0.5907546082949309,\n",
              "  'acc': 0.6777996070726916},\n",
              " {'model_name': 'pair-classification-decomposable-attention-elmo',\n",
              "  'modifier_type': '',\n",
              "  'svo': 'object',\n",
              "  'f1_macro': 0.09149277688603533,\n",
              "  'precision_m': 0.055992141453831044,\n",
              "  'recall_m': 0.25,\n",
              "  'acc': 0.22396856581532418}]"
            ]
          },
          "metadata": {},
          "execution_count": 21
        }
      ]
    },
    {
      "cell_type": "markdown",
      "source": [
        "##### Uncomment the following lines to save the SVO scores."
      ],
      "metadata": {
        "id": "fPChniKXNb95"
      }
    },
    {
      "cell_type": "code",
      "source": [
        "pd.DataFrame(svo_scores).to_csv(os.path.join(path, \"zero_shot_modified_svo_scores.xlsx\"))"
      ],
      "metadata": {
        "id": "LXmKTdEFk9v8"
      },
      "execution_count": null,
      "outputs": []
    },
    {
      "cell_type": "code",
      "source": [
        "# !pip install altair"
      ],
      "metadata": {
        "id": "odhWZhDc4scP"
      },
      "execution_count": null,
      "outputs": []
    },
    {
      "cell_type": "markdown",
      "source": [],
      "metadata": {
        "id": "yA_Fz6FTkNUH"
      }
    },
    {
      "cell_type": "code",
      "source": [
        "import altair as alt\n",
        "\n",
        "source = pd.DataFrame.from_dict(scores)\n",
        "source.head()"
      ],
      "metadata": {
        "id": "uQ1Ik0LKkNns",
        "colab": {
          "base_uri": "https://localhost:8080/",
          "height": 143
        },
        "outputId": "194b570e-f575-492e-abfc-7b12f1ff2dce"
      },
      "execution_count": null,
      "outputs": [
        {
          "output_type": "execute_result",
          "data": {
            "text/plain": [
              "                                          model_name modifier_type svo  \\\n",
              "0                                nli-deberta-v3-base                     \n",
              "1  ynie/roberta-large-snli_mnli_fever_anli_R1_R2_...                     \n",
              "2    pair-classification-decomposable-attention-elmo                     \n",
              "\n",
              "   f1_macro  precision_m  recall_m       acc  \n",
              "0  0.525418     0.560071  0.586007  0.657975  \n",
              "1  0.520035     0.515570  0.553262  0.633436  \n",
              "2  0.082853     0.049655  0.250000  0.198620  "
            ],
            "text/html": [
              "\n",
              "  <div id=\"df-9badd720-6a13-4e53-b990-4dcdb6ce43e2\">\n",
              "    <div class=\"colab-df-container\">\n",
              "      <div>\n",
              "<style scoped>\n",
              "    .dataframe tbody tr th:only-of-type {\n",
              "        vertical-align: middle;\n",
              "    }\n",
              "\n",
              "    .dataframe tbody tr th {\n",
              "        vertical-align: top;\n",
              "    }\n",
              "\n",
              "    .dataframe thead th {\n",
              "        text-align: right;\n",
              "    }\n",
              "</style>\n",
              "<table border=\"1\" class=\"dataframe\">\n",
              "  <thead>\n",
              "    <tr style=\"text-align: right;\">\n",
              "      <th></th>\n",
              "      <th>model_name</th>\n",
              "      <th>modifier_type</th>\n",
              "      <th>svo</th>\n",
              "      <th>f1_macro</th>\n",
              "      <th>precision_m</th>\n",
              "      <th>recall_m</th>\n",
              "      <th>acc</th>\n",
              "    </tr>\n",
              "  </thead>\n",
              "  <tbody>\n",
              "    <tr>\n",
              "      <th>0</th>\n",
              "      <td>nli-deberta-v3-base</td>\n",
              "      <td></td>\n",
              "      <td></td>\n",
              "      <td>0.525418</td>\n",
              "      <td>0.560071</td>\n",
              "      <td>0.586007</td>\n",
              "      <td>0.657975</td>\n",
              "    </tr>\n",
              "    <tr>\n",
              "      <th>1</th>\n",
              "      <td>ynie/roberta-large-snli_mnli_fever_anli_R1_R2_...</td>\n",
              "      <td></td>\n",
              "      <td></td>\n",
              "      <td>0.520035</td>\n",
              "      <td>0.515570</td>\n",
              "      <td>0.553262</td>\n",
              "      <td>0.633436</td>\n",
              "    </tr>\n",
              "    <tr>\n",
              "      <th>2</th>\n",
              "      <td>pair-classification-decomposable-attention-elmo</td>\n",
              "      <td></td>\n",
              "      <td></td>\n",
              "      <td>0.082853</td>\n",
              "      <td>0.049655</td>\n",
              "      <td>0.250000</td>\n",
              "      <td>0.198620</td>\n",
              "    </tr>\n",
              "  </tbody>\n",
              "</table>\n",
              "</div>\n",
              "      <button class=\"colab-df-convert\" onclick=\"convertToInteractive('df-9badd720-6a13-4e53-b990-4dcdb6ce43e2')\"\n",
              "              title=\"Convert this dataframe to an interactive table.\"\n",
              "              style=\"display:none;\">\n",
              "        \n",
              "  <svg xmlns=\"http://www.w3.org/2000/svg\" height=\"24px\"viewBox=\"0 0 24 24\"\n",
              "       width=\"24px\">\n",
              "    <path d=\"M0 0h24v24H0V0z\" fill=\"none\"/>\n",
              "    <path d=\"M18.56 5.44l.94 2.06.94-2.06 2.06-.94-2.06-.94-.94-2.06-.94 2.06-2.06.94zm-11 1L8.5 8.5l.94-2.06 2.06-.94-2.06-.94L8.5 2.5l-.94 2.06-2.06.94zm10 10l.94 2.06.94-2.06 2.06-.94-2.06-.94-.94-2.06-.94 2.06-2.06.94z\"/><path d=\"M17.41 7.96l-1.37-1.37c-.4-.4-.92-.59-1.43-.59-.52 0-1.04.2-1.43.59L10.3 9.45l-7.72 7.72c-.78.78-.78 2.05 0 2.83L4 21.41c.39.39.9.59 1.41.59.51 0 1.02-.2 1.41-.59l7.78-7.78 2.81-2.81c.8-.78.8-2.07 0-2.86zM5.41 20L4 18.59l7.72-7.72 1.47 1.35L5.41 20z\"/>\n",
              "  </svg>\n",
              "      </button>\n",
              "      \n",
              "  <style>\n",
              "    .colab-df-container {\n",
              "      display:flex;\n",
              "      flex-wrap:wrap;\n",
              "      gap: 12px;\n",
              "    }\n",
              "\n",
              "    .colab-df-convert {\n",
              "      background-color: #E8F0FE;\n",
              "      border: none;\n",
              "      border-radius: 50%;\n",
              "      cursor: pointer;\n",
              "      display: none;\n",
              "      fill: #1967D2;\n",
              "      height: 32px;\n",
              "      padding: 0 0 0 0;\n",
              "      width: 32px;\n",
              "    }\n",
              "\n",
              "    .colab-df-convert:hover {\n",
              "      background-color: #E2EBFA;\n",
              "      box-shadow: 0px 1px 2px rgba(60, 64, 67, 0.3), 0px 1px 3px 1px rgba(60, 64, 67, 0.15);\n",
              "      fill: #174EA6;\n",
              "    }\n",
              "\n",
              "    [theme=dark] .colab-df-convert {\n",
              "      background-color: #3B4455;\n",
              "      fill: #D2E3FC;\n",
              "    }\n",
              "\n",
              "    [theme=dark] .colab-df-convert:hover {\n",
              "      background-color: #434B5C;\n",
              "      box-shadow: 0px 1px 3px 1px rgba(0, 0, 0, 0.15);\n",
              "      filter: drop-shadow(0px 1px 2px rgba(0, 0, 0, 0.3));\n",
              "      fill: #FFFFFF;\n",
              "    }\n",
              "  </style>\n",
              "\n",
              "      <script>\n",
              "        const buttonEl =\n",
              "          document.querySelector('#df-9badd720-6a13-4e53-b990-4dcdb6ce43e2 button.colab-df-convert');\n",
              "        buttonEl.style.display =\n",
              "          google.colab.kernel.accessAllowed ? 'block' : 'none';\n",
              "\n",
              "        async function convertToInteractive(key) {\n",
              "          const element = document.querySelector('#df-9badd720-6a13-4e53-b990-4dcdb6ce43e2');\n",
              "          const dataTable =\n",
              "            await google.colab.kernel.invokeFunction('convertToInteractive',\n",
              "                                                     [key], {});\n",
              "          if (!dataTable) return;\n",
              "\n",
              "          const docLinkHtml = 'Like what you see? Visit the ' +\n",
              "            '<a target=\"_blank\" href=https://colab.research.google.com/notebooks/data_table.ipynb>data table notebook</a>'\n",
              "            + ' to learn more about interactive tables.';\n",
              "          element.innerHTML = '';\n",
              "          dataTable['output_type'] = 'display_data';\n",
              "          await google.colab.output.renderOutput(dataTable, element);\n",
              "          const docLink = document.createElement('div');\n",
              "          docLink.innerHTML = docLinkHtml;\n",
              "          element.appendChild(docLink);\n",
              "        }\n",
              "      </script>\n",
              "    </div>\n",
              "  </div>\n",
              "  "
            ]
          },
          "metadata": {},
          "execution_count": 24
        }
      ]
    },
    {
      "cell_type": "code",
      "source": [
        "source['model_name'].unique()"
      ],
      "metadata": {
        "colab": {
          "base_uri": "https://localhost:8080/"
        },
        "id": "1Lyuo9YI54-v",
        "outputId": "6bc60da5-a568-4bc2-9067-4b852b675cc9"
      },
      "execution_count": null,
      "outputs": [
        {
          "output_type": "execute_result",
          "data": {
            "text/plain": [
              "array(['nli-deberta-v3-base',\n",
              "       'ynie/roberta-large-snli_mnli_fever_anli_R1_R2_R3-nli',\n",
              "       'pair-classification-decomposable-attention-elmo'], dtype=object)"
            ]
          },
          "metadata": {},
          "execution_count": 25
        }
      ]
    },
    {
      "cell_type": "code",
      "source": [
        "source = pd.DataFrame.from_dict(scores)\n",
        "source['model_name'][source['model_name'] == \"nli-deberta-v3-base\"] = \"deberta\"\n",
        "source['model_name'][source['model_name'] == \"ynie/roberta-large-snli_mnli_fever_anli_R1_R2_R3-nli\"]= \"roberta\"\n",
        "source['model_name'][source['model_name'] == \"pair-classification-decomposable-attention-elmo\"] = \"elmo\"\n",
        "# print(source.sort_values('f1'))\n",
        "# sorted = source.sort_values('f1')"
      ],
      "metadata": {
        "colab": {
          "base_uri": "https://localhost:8080/"
        },
        "id": "Kj23XUvU5aAI",
        "outputId": "6ccc3357-fdfa-43bb-8cf3-34f457526ec4"
      },
      "execution_count": null,
      "outputs": [
        {
          "output_type": "stream",
          "name": "stderr",
          "text": [
            "<ipython-input-26-4af710ceab66>:2: SettingWithCopyWarning: \n",
            "A value is trying to be set on a copy of a slice from a DataFrame\n",
            "\n",
            "See the caveats in the documentation: https://pandas.pydata.org/pandas-docs/stable/user_guide/indexing.html#returning-a-view-versus-a-copy\n",
            "  source['model_name'][source['model_name'] == \"nli-deberta-v3-base\"] = \"deberta\"\n",
            "<ipython-input-26-4af710ceab66>:3: SettingWithCopyWarning: \n",
            "A value is trying to be set on a copy of a slice from a DataFrame\n",
            "\n",
            "See the caveats in the documentation: https://pandas.pydata.org/pandas-docs/stable/user_guide/indexing.html#returning-a-view-versus-a-copy\n",
            "  source['model_name'][source['model_name'] == \"ynie/roberta-large-snli_mnli_fever_anli_R1_R2_R3-nli\"]= \"roberta\"\n",
            "<ipython-input-26-4af710ceab66>:4: SettingWithCopyWarning: \n",
            "A value is trying to be set on a copy of a slice from a DataFrame\n",
            "\n",
            "See the caveats in the documentation: https://pandas.pydata.org/pandas-docs/stable/user_guide/indexing.html#returning-a-view-versus-a-copy\n",
            "  source['model_name'][source['model_name'] == \"pair-classification-decomposable-attention-elmo\"] = \"elmo\"\n"
          ]
        }
      ]
    },
    {
      "cell_type": "code",
      "source": [
        "# line1 = alt.Chart(sorted[sorted['model_name'] == 'deberta'][ ['f1']]).mark_rule().encode(y='f1', color='f1')\n",
        "# line2 = alt.Chart(sorted[sorted['model_name'] == 'roberta'][ ['f1']]).mark_rule().encode(y='f1', color='f1')\n",
        "# line3 = alt.Chart(sorted[sorted['model_name'] == 'elmo'][ ['f1']]).mark_rule().encode(y='f1', color='f1')"
      ],
      "metadata": {
        "id": "PzFzpumwDJuC",
        "colab": {
          "base_uri": "https://localhost:8080/",
          "height": 205
        },
        "outputId": "c40acce8-df47-4b6d-e218-a28de16567dc"
      },
      "execution_count": null,
      "outputs": [
        {
          "output_type": "error",
          "ename": "TypeError",
          "evalue": "ignored",
          "traceback": [
            "\u001b[0;31m---------------------------------------------------------------------------\u001b[0m",
            "\u001b[0;31mTypeError\u001b[0m                                 Traceback (most recent call last)",
            "\u001b[0;32m<ipython-input-27-f9d69efb5dfb>\u001b[0m in \u001b[0;36m<cell line: 1>\u001b[0;34m()\u001b[0m\n\u001b[0;32m----> 1\u001b[0;31m \u001b[0mline1\u001b[0m \u001b[0;34m=\u001b[0m \u001b[0malt\u001b[0m\u001b[0;34m.\u001b[0m\u001b[0mChart\u001b[0m\u001b[0;34m(\u001b[0m\u001b[0msorted\u001b[0m\u001b[0;34m[\u001b[0m\u001b[0msorted\u001b[0m\u001b[0;34m[\u001b[0m\u001b[0;34m'model_name'\u001b[0m\u001b[0;34m]\u001b[0m \u001b[0;34m==\u001b[0m \u001b[0;34m'deberta'\u001b[0m\u001b[0;34m]\u001b[0m\u001b[0;34m[\u001b[0m \u001b[0;34m[\u001b[0m\u001b[0;34m'f1'\u001b[0m\u001b[0;34m]\u001b[0m\u001b[0;34m]\u001b[0m\u001b[0;34m)\u001b[0m\u001b[0;34m.\u001b[0m\u001b[0mmark_rule\u001b[0m\u001b[0;34m(\u001b[0m\u001b[0;34m)\u001b[0m\u001b[0;34m.\u001b[0m\u001b[0mencode\u001b[0m\u001b[0;34m(\u001b[0m\u001b[0my\u001b[0m\u001b[0;34m=\u001b[0m\u001b[0;34m'f1'\u001b[0m\u001b[0;34m,\u001b[0m \u001b[0mcolor\u001b[0m\u001b[0;34m=\u001b[0m\u001b[0;34m'f1'\u001b[0m\u001b[0;34m)\u001b[0m\u001b[0;34m\u001b[0m\u001b[0;34m\u001b[0m\u001b[0m\n\u001b[0m\u001b[1;32m      2\u001b[0m \u001b[0mline2\u001b[0m \u001b[0;34m=\u001b[0m \u001b[0malt\u001b[0m\u001b[0;34m.\u001b[0m\u001b[0mChart\u001b[0m\u001b[0;34m(\u001b[0m\u001b[0msorted\u001b[0m\u001b[0;34m[\u001b[0m\u001b[0msorted\u001b[0m\u001b[0;34m[\u001b[0m\u001b[0;34m'model_name'\u001b[0m\u001b[0;34m]\u001b[0m \u001b[0;34m==\u001b[0m \u001b[0;34m'roberta'\u001b[0m\u001b[0;34m]\u001b[0m\u001b[0;34m[\u001b[0m \u001b[0;34m[\u001b[0m\u001b[0;34m'f1'\u001b[0m\u001b[0;34m]\u001b[0m\u001b[0;34m]\u001b[0m\u001b[0;34m)\u001b[0m\u001b[0;34m.\u001b[0m\u001b[0mmark_rule\u001b[0m\u001b[0;34m(\u001b[0m\u001b[0;34m)\u001b[0m\u001b[0;34m.\u001b[0m\u001b[0mencode\u001b[0m\u001b[0;34m(\u001b[0m\u001b[0my\u001b[0m\u001b[0;34m=\u001b[0m\u001b[0;34m'f1'\u001b[0m\u001b[0;34m,\u001b[0m \u001b[0mcolor\u001b[0m\u001b[0;34m=\u001b[0m\u001b[0;34m'f1'\u001b[0m\u001b[0;34m)\u001b[0m\u001b[0;34m\u001b[0m\u001b[0;34m\u001b[0m\u001b[0m\n\u001b[1;32m      3\u001b[0m \u001b[0mline3\u001b[0m \u001b[0;34m=\u001b[0m \u001b[0malt\u001b[0m\u001b[0;34m.\u001b[0m\u001b[0mChart\u001b[0m\u001b[0;34m(\u001b[0m\u001b[0msorted\u001b[0m\u001b[0;34m[\u001b[0m\u001b[0msorted\u001b[0m\u001b[0;34m[\u001b[0m\u001b[0;34m'model_name'\u001b[0m\u001b[0;34m]\u001b[0m \u001b[0;34m==\u001b[0m \u001b[0;34m'elmo'\u001b[0m\u001b[0;34m]\u001b[0m\u001b[0;34m[\u001b[0m \u001b[0;34m[\u001b[0m\u001b[0;34m'f1'\u001b[0m\u001b[0;34m]\u001b[0m\u001b[0;34m]\u001b[0m\u001b[0;34m)\u001b[0m\u001b[0;34m.\u001b[0m\u001b[0mmark_rule\u001b[0m\u001b[0;34m(\u001b[0m\u001b[0;34m)\u001b[0m\u001b[0;34m.\u001b[0m\u001b[0mencode\u001b[0m\u001b[0;34m(\u001b[0m\u001b[0my\u001b[0m\u001b[0;34m=\u001b[0m\u001b[0;34m'f1'\u001b[0m\u001b[0;34m,\u001b[0m \u001b[0mcolor\u001b[0m\u001b[0;34m=\u001b[0m\u001b[0;34m'f1'\u001b[0m\u001b[0;34m)\u001b[0m\u001b[0;34m\u001b[0m\u001b[0;34m\u001b[0m\u001b[0m\n",
            "\u001b[0;31mTypeError\u001b[0m: 'builtin_function_or_method' object is not subscriptable"
          ]
        }
      ]
    },
    {
      "cell_type": "code",
      "source": [
        "sorted[sorted['model_name'] == 'deberta'][['f1']]"
      ],
      "metadata": {
        "id": "RO2Ipxf0FwJc"
      },
      "execution_count": null,
      "outputs": []
    },
    {
      "cell_type": "code",
      "source": [
        "qsource = pd.DataFrame.from_dict(qscores)\n",
        "qsource['model_name'][qsource['model_name'] == \"nli-deberta-v3-base\"] = \"deberta\"\n",
        "qsource['model_name'][qsource['model_name'] == \"ynie/roberta-large-snli_mnli_fever_anli_R1_R2_R3-nli\"]= \"roberta\"\n",
        "qsource['model_name'][qsource['model_name'] == \"pair-classification-decomposable-attention-elmo\"] = \"elmo\"\n",
        "all = pd.concat([source, qsource])\n",
        "all.head()"
      ],
      "metadata": {
        "id": "VW-Ay5djFav0"
      },
      "execution_count": null,
      "outputs": []
    },
    {
      "cell_type": "code",
      "source": [
        "import numpy as np\n",
        "all['quantifier_type'] = all['quantifier_type'].fillna(\"All\")\n",
        "all['quantifier_type']"
      ],
      "metadata": {
        "id": "XWq-aRbtHkcy"
      },
      "execution_count": null,
      "outputs": []
    },
    {
      "cell_type": "code",
      "source": [
        "all[(all['model_name'] == \"deberta\") &(all['quantifier_type'] != \"All\") ]"
      ],
      "metadata": {
        "id": "toeZYztZGwD5"
      },
      "execution_count": null,
      "outputs": []
    },
    {
      "cell_type": "code",
      "source": [
        "deberta = all[(all['model_name'] == \"deberta\") &(all['quantifier_type'] != \"All\") ]\n",
        "deberta"
      ],
      "metadata": {
        "id": "btHwy46fG2c4"
      },
      "execution_count": null,
      "outputs": []
    },
    {
      "cell_type": "code",
      "source": [
        "lines = alt.Chart(all.sort_values('f1'),title=\"Scores for Zero-shot Analysis\").mark_line().encode(\n",
        "    x=alt.X('model_name:O',axis=alt.Axis(labelAngle=-45),sort='-y'),\n",
        "    y=alt.Y('f1:Q'),\n",
        "    color='quantifier_type:N',size=alt.value(1)\n",
        ").properties(width=400, height = 200)\n",
        "\n",
        "lines"
      ],
      "metadata": {
        "id": "7HayCMb0G_jQ"
      },
      "execution_count": null,
      "outputs": []
    },
    {
      "cell_type": "markdown",
      "source": [
        "#### Commented."
      ],
      "metadata": {
        "id": "AvRc8qTeNpfB"
      }
    },
    {
      "cell_type": "code",
      "source": [
        "\n",
        "\n",
        "# base = alt.Chart(all).properties(width=450, height = 200)\n",
        "\n",
        "# points = alt.Chart(source.sort_values('f1'),title=\"Overall scores for Zero-shot Analysis\").mark_point().encode(\n",
        "#     x=alt.X('model_name:N',axis=alt.Axis(labelAngle=-45),sort='-y'),\n",
        "#     y=alt.Y('f1:Q'),\n",
        "#     color='model_name:N',size=alt.value(12)\n",
        "# ).properties(width=400, height = 200)\n",
        "# text = points.mark_text(\n",
        "#     align='left',\n",
        "#     baseline='middle',\n",
        "#     dx=7\n",
        "# ).encode(\n",
        "#     text=alt.Text('f1', format=\".2f\")\n",
        "# )\n",
        "\n",
        "# line = base.mark_line().encode(\n",
        "#     x='date',\n",
        "#     y='price',\n",
        "#     color='symbol'\n",
        "# )\n",
        "# rule = base.mark_rule().encode(\n",
        "#     y='average(price)',\n",
        "#     color='symbol',\n",
        "#     size=alt.value(2)\n",
        "# )\n",
        "\n",
        "# rule = base.mark_rule().encode(\n",
        "#     y='average(price)',\n",
        "#     color='symbol',\n",
        "#     size=alt.value(2)\n",
        "# )\n",
        "\n",
        "# line + rule"
      ],
      "metadata": {
        "id": "4OArYm_AF4F4"
      },
      "execution_count": null,
      "outputs": []
    },
    {
      "cell_type": "code",
      "source": [
        "points = alt.Chart(source.sort_values('f1'),title=\"Overall scores for Zero-shot Analysis\").mark_point().encode(\n",
        "    x=alt.X('model_name:N',axis=alt.Axis(labelAngle=-45),sort='-y'),\n",
        "    y=alt.Y('f1:Q'),\n",
        "    color='model_name:N',size=alt.value(12)\n",
        ").properties(width=400, height = 200)\n",
        "text = points.mark_text(\n",
        "    align='left',\n",
        "    baseline='middle',\n",
        "    dx=7\n",
        ").encode(\n",
        "    text=alt.Text('f1', format=\".2f\")\n",
        ")\n",
        "\n",
        "points + text"
      ],
      "metadata": {
        "id": "V8qrCpSkEM9w"
      },
      "execution_count": null,
      "outputs": []
    },
    {
      "cell_type": "code",
      "source": [
        "# alt.themes.enable('my_theme')\n",
        "qtypes = all['quantifier_type'].to_list()\n",
        "range_ = ['lightsteelblue','steelblue', 'lightgray','gray','dodgerblue', 'lightskyblue']\n",
        "bars = alt.Chart(all.sort_values('f1')).mark_bar().encode(\n",
        "    x=alt.X(\"model_name:N\", axis=alt.Axis(labelAngle=-0)),\n",
        "    y=\"f1:Q\",\n",
        "    xOffset=\"quantifier_type:N\",\n",
        "    color=alt.Color(\"quantifier_type:N\").scale(domain=qtypes, range=range_)\n",
        ")\n",
        "\n",
        "text = bars.mark_text(\n",
        "    align='left',\n",
        "    baseline='middle',\n",
        "    dx=7\n",
        ").encode(\n",
        "    text=alt.Text('f1', format=\".2f\")\n",
        ")\n",
        "\n",
        "bars + text"
      ],
      "metadata": {
        "id": "MNPh_Kj6Fnpa"
      },
      "execution_count": null,
      "outputs": []
    },
    {
      "cell_type": "code",
      "source": [
        "%cd /content/drive/MyDrive/Colab Notebooks/natural-logic/final-datasets/block-wise-data/blocks-dec26/annotated/combined/results/zero-shot\n",
        "!ls"
      ],
      "metadata": {
        "id": "hOtSznJMjQHF"
      },
      "execution_count": null,
      "outputs": []
    },
    {
      "cell_type": "code",
      "source": [
        "# model_paths = [os.path.join(output_path) for model_name in [\"nli-deberta-v3-base\", \"roberta-large-snli_mnli_fever_anli_R1_R2_R3-nli\"]]\n",
        "# model_paths"
      ],
      "metadata": {
        "id": "W3qIwyLRh69U"
      },
      "execution_count": null,
      "outputs": []
    }
  ]
}